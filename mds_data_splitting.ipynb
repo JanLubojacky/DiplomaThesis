{
 "cells": [
  {
   "cell_type": "markdown",
   "metadata": {},
   "source": [
    "# Feature selection and data splitting for mds data "
   ]
  },
  {
   "cell_type": "code",
   "execution_count": 1,
   "metadata": {},
   "outputs": [],
   "source": [
    "import numpy as np\n",
    "import polars as pl\n",
    "from sklearn.model_selection import StratifiedKFold"
   ]
  },
  {
   "cell_type": "code",
   "execution_count": 2,
   "metadata": {},
   "outputs": [
    {
     "data": {
      "text/html": [
       "<div><style>\n",
       ".dataframe > thead > tr,\n",
       ".dataframe > tbody > tr {\n",
       "  text-align: right;\n",
       "  white-space: pre-wrap;\n",
       "}\n",
       "</style>\n",
       "<small>shape: (66, 2)</small><table border=\"1\" class=\"dataframe\"><thead><tr><th>sample_ids</th><th>class</th></tr><tr><td>str</td><td>i64</td></tr></thead><tbody><tr><td>&quot;N58&quot;</td><td>0</td></tr><tr><td>&quot;N60&quot;</td><td>0</td></tr><tr><td>&quot;N70&quot;</td><td>0</td></tr><tr><td>&quot;N82&quot;</td><td>0</td></tr><tr><td>&quot;N83&quot;</td><td>0</td></tr><tr><td>&hellip;</td><td>&hellip;</td></tr><tr><td>&quot;V806&quot;</td><td>1</td></tr><tr><td>&quot;V839&quot;</td><td>1</td></tr><tr><td>&quot;V883&quot;</td><td>1</td></tr><tr><td>&quot;V888&quot;</td><td>1</td></tr><tr><td>&quot;V940&quot;</td><td>1</td></tr></tbody></table></div>"
      ],
      "text/plain": [
       "shape: (66, 2)\n",
       "┌────────────┬───────┐\n",
       "│ sample_ids ┆ class │\n",
       "│ ---        ┆ ---   │\n",
       "│ str        ┆ i64   │\n",
       "╞════════════╪═══════╡\n",
       "│ N58        ┆ 0     │\n",
       "│ N60        ┆ 0     │\n",
       "│ N70        ┆ 0     │\n",
       "│ N82        ┆ 0     │\n",
       "│ N83        ┆ 0     │\n",
       "│ …          ┆ …     │\n",
       "│ V806       ┆ 1     │\n",
       "│ V839       ┆ 1     │\n",
       "│ V883       ┆ 1     │\n",
       "│ V888       ┆ 1     │\n",
       "│ V940       ┆ 1     │\n",
       "└────────────┴───────┘"
      ]
     },
     "execution_count": 2,
     "metadata": {},
     "output_type": "execute_result"
    }
   ],
   "source": [
    "y = pl.read_csv(\"mds_data/preprocessed/annotations_66.csv\")\n",
    "\n",
    "y = (\n",
    "    y.select(\"SAMPLE_ID\", \"disease\")\n",
    "    .rename({\"SAMPLE_ID\": \"sample_ids\", \"disease\": \"class\"})\n",
    "    .with_columns(pl.col(\"class\") - 1)\n",
    ")\n",
    "y"
   ]
  },
  {
   "cell_type": "code",
   "execution_count": 3,
   "metadata": {},
   "outputs": [
    {
     "data": {
      "text/html": [
       "<div><style>\n",
       ".dataframe > thead > tr,\n",
       ".dataframe > tbody > tr {\n",
       "  text-align: right;\n",
       "  white-space: pre-wrap;\n",
       "}\n",
       "</style>\n",
       "<small>shape: (3_000, 68)</small><table border=\"1\" class=\"dataframe\"><thead><tr><th>GENE_ID</th><th>GENE_NAME</th><th>N58</th><th>N60</th><th>N70</th><th>N82</th><th>N83</th><th>N84</th><th>N85</th><th>V1048</th><th>V108</th><th>V1090</th><th>V125</th><th>V1279</th><th>V1297</th><th>V1321</th><th>V1337</th><th>V1394</th><th>V1441</th><th>V1456</th><th>V148</th><th>V1505</th><th>V1528</th><th>V1565</th><th>V1591</th><th>V1592</th><th>V1699</th><th>V1708</th><th>V1742</th><th>V1776</th><th>V1788</th><th>V18</th><th>V1800</th><th>V1823</th><th>V1834</th><th>V1857</th><th>V1860</th><th>V1874</th><th>V1884</th><th>V1920</th><th>V1921</th><th>V2089</th><th>V2092</th><th>V2110</th><th>V2133</th><th>V221</th><th>V344</th><th>V359</th><th>V406</th><th>V456</th><th>V513</th><th>V538</th><th>V553</th><th>V574</th><th>V624</th><th>V630</th><th>V637</th><th>V655</th><th>V67</th><th>V712</th><th>V714</th><th>V716</th><th>V777</th><th>V806</th><th>V839</th><th>V883</th><th>V888</th><th>V940</th></tr><tr><td>str</td><td>str</td><td>f64</td><td>f64</td><td>f64</td><td>f64</td><td>f64</td><td>f64</td><td>f64</td><td>f64</td><td>f64</td><td>f64</td><td>f64</td><td>f64</td><td>f64</td><td>f64</td><td>f64</td><td>f64</td><td>f64</td><td>f64</td><td>f64</td><td>f64</td><td>f64</td><td>f64</td><td>f64</td><td>f64</td><td>f64</td><td>f64</td><td>f64</td><td>f64</td><td>f64</td><td>f64</td><td>f64</td><td>f64</td><td>f64</td><td>f64</td><td>f64</td><td>f64</td><td>f64</td><td>f64</td><td>f64</td><td>f64</td><td>f64</td><td>f64</td><td>f64</td><td>f64</td><td>f64</td><td>f64</td><td>f64</td><td>f64</td><td>f64</td><td>f64</td><td>f64</td><td>f64</td><td>f64</td><td>f64</td><td>f64</td><td>f64</td><td>f64</td><td>f64</td><td>f64</td><td>f64</td><td>f64</td><td>f64</td><td>f64</td><td>f64</td><td>f64</td><td>f64</td></tr></thead><tbody><tr><td>&quot;ENSG00000103184&quot;</td><td>&quot;SEC14L5&quot;</td><td>4.574155</td><td>7.288239</td><td>3.561246</td><td>2.897224</td><td>3.615696</td><td>4.057362</td><td>2.203009</td><td>4.398603</td><td>3.467058</td><td>3.657675</td><td>4.619424</td><td>1.507977</td><td>4.809069</td><td>4.749144</td><td>2.146183</td><td>2.66225</td><td>3.555635</td><td>0.714897</td><td>2.010324</td><td>6.268556</td><td>5.914118</td><td>4.018251</td><td>6.781959</td><td>4.900504</td><td>3.481129</td><td>3.767197</td><td>5.167452</td><td>1.631362</td><td>5.933825</td><td>4.945851</td><td>0.444571</td><td>2.734007</td><td>4.452827</td><td>5.877369</td><td>6.07671</td><td>3.343197</td><td>6.156233</td><td>2.993291</td><td>5.727105</td><td>1.36271</td><td>5.001145</td><td>5.516594</td><td>6.915722</td><td>3.82929</td><td>3.319966</td><td>6.938185</td><td>5.118215</td><td>1.629126</td><td>5.885573</td><td>5.003287</td><td>2.039422</td><td>10.53412</td><td>2.297346</td><td>4.097657</td><td>3.891976</td><td>4.604959</td><td>5.844351</td><td>3.188559</td><td>1.986391</td><td>2.357737</td><td>3.549326</td><td>5.252131</td><td>3.976603</td><td>5.670529</td><td>4.456624</td><td>4.897539</td></tr><tr><td>&quot;ENSG00000119862&quot;</td><td>&quot;LGALSL&quot;</td><td>7.455039</td><td>8.479401</td><td>6.306391</td><td>3.321911</td><td>6.188541</td><td>5.979059</td><td>5.223318</td><td>6.5576</td><td>6.140982</td><td>7.953992</td><td>6.599124</td><td>5.548295</td><td>8.013039</td><td>7.647353</td><td>4.956439</td><td>6.928581</td><td>5.090716</td><td>6.687677</td><td>5.006865</td><td>9.311978</td><td>8.342994</td><td>6.413821</td><td>9.084263</td><td>6.776719</td><td>5.304247</td><td>6.598114</td><td>6.798145</td><td>4.599317</td><td>8.505406</td><td>6.422409</td><td>2.381453</td><td>6.143426</td><td>5.936016</td><td>8.052438</td><td>7.556633</td><td>6.799104</td><td>7.551962</td><td>6.284811</td><td>7.092467</td><td>3.705927</td><td>6.91619</td><td>6.314894</td><td>6.214188</td><td>5.860457</td><td>5.514356</td><td>8.538408</td><td>7.514117</td><td>6.082184</td><td>9.708378</td><td>6.616514</td><td>4.57679</td><td>12.548</td><td>5.836737</td><td>6.590203</td><td>6.043704</td><td>7.598248</td><td>7.729715</td><td>6.108103</td><td>5.62265</td><td>5.729892</td><td>5.977239</td><td>6.672379</td><td>6.838144</td><td>7.450425</td><td>6.055094</td><td>6.88753</td></tr><tr><td>&quot;ENSG00000115461&quot;</td><td>&quot;IGFBP5&quot;</td><td>1.531313</td><td>4.93984</td><td>1.589817</td><td>3.596918</td><td>4.221713</td><td>5.694364</td><td>4.633449</td><td>7.55643</td><td>2.906119</td><td>6.264272</td><td>4.300236</td><td>4.642322</td><td>5.192593</td><td>5.82839</td><td>3.354076</td><td>6.16894</td><td>3.134675</td><td>4.718852</td><td>8.624212</td><td>3.38863</td><td>3.416752</td><td>8.240399</td><td>6.652194</td><td>7.699936</td><td>4.466548</td><td>3.895035</td><td>8.655896</td><td>4.393156</td><td>3.639881</td><td>5.553176</td><td>2.653826</td><td>6.227905</td><td>6.201601</td><td>9.962816</td><td>5.073338</td><td>4.806445</td><td>4.322065</td><td>3.59729</td><td>4.244579</td><td>4.54983</td><td>5.835025</td><td>6.82944</td><td>7.039622</td><td>4.689163</td><td>3.702583</td><td>6.163571</td><td>2.613793</td><td>2.308573</td><td>3.431658</td><td>4.664411</td><td>3.645008</td><td>4.07661</td><td>4.614307</td><td>5.113326</td><td>2.241138</td><td>3.67498</td><td>11.902128</td><td>2.718183</td><td>2.048483</td><td>1.477194</td><td>4.562139</td><td>6.748317</td><td>2.710774</td><td>4.358541</td><td>5.20171</td><td>6.416449</td></tr><tr><td>&quot;ENSG00000137801&quot;</td><td>&quot;THBS1&quot;</td><td>10.787846</td><td>12.452547</td><td>9.390428</td><td>7.256898</td><td>9.546596</td><td>9.807684</td><td>8.395226</td><td>10.564428</td><td>9.994399</td><td>10.93104</td><td>10.041629</td><td>8.696442</td><td>11.235067</td><td>10.286238</td><td>7.73148</td><td>9.966976</td><td>10.189488</td><td>11.291271</td><td>8.163448</td><td>12.26609</td><td>11.428713</td><td>9.155845</td><td>12.369392</td><td>8.678094</td><td>8.537479</td><td>11.617824</td><td>10.461017</td><td>7.391252</td><td>11.719449</td><td>8.622247</td><td>6.537787</td><td>9.79737</td><td>9.035041</td><td>11.235494</td><td>11.164126</td><td>9.850056</td><td>10.290641</td><td>7.654049</td><td>11.137592</td><td>4.781831</td><td>10.478594</td><td>10.905235</td><td>9.504674</td><td>9.022241</td><td>8.020058</td><td>12.340003</td><td>9.573093</td><td>9.417571</td><td>11.567134</td><td>10.372583</td><td>7.060916</td><td>15.367104</td><td>8.483557</td><td>10.596553</td><td>8.780714</td><td>9.818366</td><td>11.521034</td><td>6.721186</td><td>6.61051</td><td>9.027454</td><td>7.719915</td><td>10.210917</td><td>10.274893</td><td>10.805033</td><td>10.464737</td><td>10.704895</td></tr><tr><td>&quot;ENSG00000173083&quot;</td><td>&quot;HPSE&quot;</td><td>6.935416</td><td>7.987946</td><td>7.20935</td><td>5.125137</td><td>6.211795</td><td>5.990862</td><td>5.462574</td><td>6.413457</td><td>7.825867</td><td>8.089623</td><td>6.922915</td><td>6.288086</td><td>7.527803</td><td>6.888642</td><td>6.086392</td><td>6.349528</td><td>6.562359</td><td>6.139168</td><td>6.209023</td><td>8.389047</td><td>7.645464</td><td>6.792004</td><td>8.256308</td><td>6.635347</td><td>6.015047</td><td>6.27286</td><td>6.943379</td><td>5.713779</td><td>8.075317</td><td>5.712303</td><td>5.481236</td><td>6.143426</td><td>6.635867</td><td>6.400915</td><td>7.285251</td><td>6.45702</td><td>8.3526</td><td>5.8538</td><td>7.281664</td><td>5.741307</td><td>6.923299</td><td>7.189791</td><td>7.09444</td><td>6.704163</td><td>4.665372</td><td>8.178149</td><td>6.607652</td><td>6.537152</td><td>7.83118</td><td>7.217909</td><td>6.983234</td><td>11.844895</td><td>5.8875</td><td>8.039698</td><td>6.089552</td><td>6.931796</td><td>7.643238</td><td>5.951342</td><td>5.730754</td><td>6.129718</td><td>7.313044</td><td>6.989801</td><td>7.451146</td><td>6.940394</td><td>6.860065</td><td>6.735584</td></tr><tr><td>&hellip;</td><td>&hellip;</td><td>&hellip;</td><td>&hellip;</td><td>&hellip;</td><td>&hellip;</td><td>&hellip;</td><td>&hellip;</td><td>&hellip;</td><td>&hellip;</td><td>&hellip;</td><td>&hellip;</td><td>&hellip;</td><td>&hellip;</td><td>&hellip;</td><td>&hellip;</td><td>&hellip;</td><td>&hellip;</td><td>&hellip;</td><td>&hellip;</td><td>&hellip;</td><td>&hellip;</td><td>&hellip;</td><td>&hellip;</td><td>&hellip;</td><td>&hellip;</td><td>&hellip;</td><td>&hellip;</td><td>&hellip;</td><td>&hellip;</td><td>&hellip;</td><td>&hellip;</td><td>&hellip;</td><td>&hellip;</td><td>&hellip;</td><td>&hellip;</td><td>&hellip;</td><td>&hellip;</td><td>&hellip;</td><td>&hellip;</td><td>&hellip;</td><td>&hellip;</td><td>&hellip;</td><td>&hellip;</td><td>&hellip;</td><td>&hellip;</td><td>&hellip;</td><td>&hellip;</td><td>&hellip;</td><td>&hellip;</td><td>&hellip;</td><td>&hellip;</td><td>&hellip;</td><td>&hellip;</td><td>&hellip;</td><td>&hellip;</td><td>&hellip;</td><td>&hellip;</td><td>&hellip;</td><td>&hellip;</td><td>&hellip;</td><td>&hellip;</td><td>&hellip;</td><td>&hellip;</td><td>&hellip;</td><td>&hellip;</td><td>&hellip;</td><td>&hellip;</td></tr><tr><td>&quot;ENSG00000100320&quot;</td><td>&quot;RBFOX2&quot;</td><td>8.22931</td><td>8.577745</td><td>8.793937</td><td>8.146168</td><td>8.50636</td><td>8.094082</td><td>8.412581</td><td>6.262423</td><td>8.824019</td><td>9.092984</td><td>8.123152</td><td>8.145417</td><td>8.134884</td><td>7.165401</td><td>7.635301</td><td>7.611847</td><td>8.661839</td><td>5.259503</td><td>7.394901</td><td>7.761067</td><td>7.65251</td><td>8.083627</td><td>6.969916</td><td>9.355596</td><td>6.342115</td><td>8.242365</td><td>6.032863</td><td>6.856847</td><td>7.337829</td><td>7.598508</td><td>5.508181</td><td>6.09535</td><td>8.075045</td><td>8.245913</td><td>7.133615</td><td>8.494605</td><td>7.07594</td><td>8.600279</td><td>8.234299</td><td>6.944529</td><td>6.121303</td><td>7.042001</td><td>7.561364</td><td>8.72022</td><td>6.691154</td><td>7.412463</td><td>5.706284</td><td>8.655129</td><td>8.009674</td><td>7.341117</td><td>2.289394</td><td>6.340976</td><td>6.346199</td><td>7.8873</td><td>7.275199</td><td>9.039884</td><td>7.44935</td><td>9.180781</td><td>8.788654</td><td>8.775473</td><td>9.47642</td><td>6.869862</td><td>7.52732</td><td>7.067754</td><td>7.545361</td><td>6.655649</td></tr><tr><td>&quot;ENSG00000131037&quot;</td><td>&quot;EPS8L1&quot;</td><td>4.921367</td><td>5.092288</td><td>4.636338</td><td>4.303763</td><td>3.558799</td><td>4.273777</td><td>4.539356</td><td>3.657559</td><td>4.76519</td><td>5.2067</td><td>5.129906</td><td>5.249289</td><td>5.093011</td><td>4.608039</td><td>4.105194</td><td>3.421264</td><td>4.543386</td><td>4.570978</td><td>4.012894</td><td>4.479922</td><td>4.122518</td><td>5.584509</td><td>3.767809</td><td>3.859496</td><td>3.894477</td><td>4.436839</td><td>4.401572</td><td>4.939957</td><td>3.310004</td><td>4.954976</td><td>3.038821</td><td>3.685049</td><td>5.122019</td><td>5.154102</td><td>4.704891</td><td>4.004908</td><td>2.594864</td><td>5.67405</td><td>4.176327</td><td>3.059096</td><td>4.431902</td><td>2.579029</td><td>5.850097</td><td>4.698257</td><td>4.024754</td><td>5.202417</td><td>3.982463</td><td>6.590354</td><td>4.603486</td><td>2.425481</td><td>3.861162</td><td>4.223547</td><td>2.009216</td><td>3.985339</td><td>2.241138</td><td>5.239908</td><td>5.761738</td><td>3.852376</td><td>5.114053</td><td>5.401104</td><td>4.54089</td><td>4.377534</td><td>4.054711</td><td>4.791207</td><td>4.437371</td><td>4.463407</td></tr><tr><td>&quot;ENSG00000147138&quot;</td><td>&quot;GPR174&quot;</td><td>7.472695</td><td>7.693039</td><td>8.470779</td><td>8.431479</td><td>8.423135</td><td>7.941875</td><td>7.586384</td><td>8.35664</td><td>10.20575</td><td>9.02655</td><td>8.031976</td><td>8.900432</td><td>9.261677</td><td>9.425081</td><td>9.225934</td><td>9.444781</td><td>8.44918</td><td>7.687412</td><td>8.051833</td><td>7.811535</td><td>8.339178</td><td>7.633405</td><td>7.297222</td><td>8.87963</td><td>7.210158</td><td>7.914855</td><td>6.834074</td><td>8.695152</td><td>4.52869</td><td>7.733878</td><td>10.22048</td><td>6.504612</td><td>9.587979</td><td>7.97627</td><td>8.012537</td><td>8.975441</td><td>8.739155</td><td>9.705377</td><td>8.709629</td><td>8.063136</td><td>7.39922</td><td>7.799343</td><td>7.265433</td><td>8.571631</td><td>9.109058</td><td>7.41099</td><td>4.540132</td><td>10.158007</td><td>8.317188</td><td>9.034955</td><td>8.597539</td><td>6.449957</td><td>7.772009</td><td>8.241796</td><td>7.973199</td><td>9.134118</td><td>8.364018</td><td>8.292342</td><td>8.913818</td><td>9.206939</td><td>9.270765</td><td>7.319049</td><td>8.83835</td><td>7.851796</td><td>7.858072</td><td>6.91692</td></tr><tr><td>&quot;ENSG00000152767&quot;</td><td>&quot;FARP1&quot;</td><td>6.940183</td><td>7.49388</td><td>6.46252</td><td>5.675233</td><td>6.4785</td><td>6.855844</td><td>5.77485</td><td>7.895461</td><td>7.102404</td><td>5.689908</td><td>6.759296</td><td>6.770667</td><td>7.110603</td><td>7.269297</td><td>7.513641</td><td>6.432986</td><td>6.543011</td><td>6.975591</td><td>7.973696</td><td>6.347298</td><td>6.180977</td><td>7.222779</td><td>6.675958</td><td>6.867061</td><td>6.708219</td><td>7.062017</td><td>7.460929</td><td>6.16691</td><td>7.521092</td><td>7.119538</td><td>7.263643</td><td>8.050985</td><td>7.734846</td><td>9.232917</td><td>7.693798</td><td>6.712544</td><td>7.099249</td><td>6.624518</td><td>6.440258</td><td>7.417438</td><td>8.285402</td><td>7.647037</td><td>8.174316</td><td>6.902123</td><td>5.938316</td><td>8.029102</td><td>6.648249</td><td>7.433624</td><td>6.519701</td><td>6.396188</td><td>5.661561</td><td>6.111841</td><td>6.986761</td><td>7.610686</td><td>6.858305</td><td>7.330748</td><td>7.51952</td><td>6.998061</td><td>6.492616</td><td>6.120499</td><td>6.428605</td><td>7.674356</td><td>6.001296</td><td>6.299561</td><td>7.777429</td><td>6.503437</td></tr><tr><td>&quot;ENSG00000224420&quot;</td><td>&quot;C19orf76&quot;</td><td>6.154172</td><td>5.498171</td><td>5.151728</td><td>5.514104</td><td>6.03274</td><td>4.932447</td><td>6.352387</td><td>4.988354</td><td>7.041746</td><td>5.848806</td><td>6.733806</td><td>5.576445</td><td>7.992461</td><td>6.302988</td><td>6.035125</td><td>4.292522</td><td>4.813793</td><td>4.609392</td><td>6.615645</td><td>4.752124</td><td>5.431223</td><td>5.466946</td><td>5.057281</td><td>4.450441</td><td>5.59655</td><td>5.506851</td><td>4.829419</td><td>6.034645</td><td>5.193213</td><td>6.743933</td><td>6.265124</td><td>4.515427</td><td>6.58305</td><td>4.773593</td><td>5.148503</td><td>5.355876</td><td>5.290316</td><td>5.867816</td><td>5.447154</td><td>4.61913</td><td>4.47124</td><td>5.577988</td><td>3.484186</td><td>4.828217</td><td>6.697414</td><td>5.562334</td><td>6.624028</td><td>5.165414</td><td>4.917211</td><td>5.311944</td><td>6.162196</td><td>4.953942</td><td>5.727095</td><td>4.863907</td><td>5.042281</td><td>4.986085</td><td>5.661588</td><td>5.782114</td><td>5.80458</td><td>6.192653</td><td>4.856832</td><td>5.495054</td><td>5.256311</td><td>6.059971</td><td>6.393223</td><td>4.967428</td></tr></tbody></table></div>"
      ],
      "text/plain": [
       "shape: (3_000, 68)\n",
       "┌───────────┬───────────┬───────────┬───────────┬───┬───────────┬───────────┬───────────┬──────────┐\n",
       "│ GENE_ID   ┆ GENE_NAME ┆ N58       ┆ N60       ┆ … ┆ V839      ┆ V883      ┆ V888      ┆ V940     │\n",
       "│ ---       ┆ ---       ┆ ---       ┆ ---       ┆   ┆ ---       ┆ ---       ┆ ---       ┆ ---      │\n",
       "│ str       ┆ str       ┆ f64       ┆ f64       ┆   ┆ f64       ┆ f64       ┆ f64       ┆ f64      │\n",
       "╞═══════════╪═══════════╪═══════════╪═══════════╪═══╪═══════════╪═══════════╪═══════════╪══════════╡\n",
       "│ ENSG00000 ┆ SEC14L5   ┆ 4.574155  ┆ 7.288239  ┆ … ┆ 3.976603  ┆ 5.670529  ┆ 4.456624  ┆ 4.897539 │\n",
       "│ 103184    ┆           ┆           ┆           ┆   ┆           ┆           ┆           ┆          │\n",
       "│ ENSG00000 ┆ LGALSL    ┆ 7.455039  ┆ 8.479401  ┆ … ┆ 6.838144  ┆ 7.450425  ┆ 6.055094  ┆ 6.88753  │\n",
       "│ 119862    ┆           ┆           ┆           ┆   ┆           ┆           ┆           ┆          │\n",
       "│ ENSG00000 ┆ IGFBP5    ┆ 1.531313  ┆ 4.93984   ┆ … ┆ 2.710774  ┆ 4.358541  ┆ 5.20171   ┆ 6.416449 │\n",
       "│ 115461    ┆           ┆           ┆           ┆   ┆           ┆           ┆           ┆          │\n",
       "│ ENSG00000 ┆ THBS1     ┆ 10.787846 ┆ 12.452547 ┆ … ┆ 10.274893 ┆ 10.805033 ┆ 10.464737 ┆ 10.70489 │\n",
       "│ 137801    ┆           ┆           ┆           ┆   ┆           ┆           ┆           ┆ 5        │\n",
       "│ ENSG00000 ┆ HPSE      ┆ 6.935416  ┆ 7.987946  ┆ … ┆ 7.451146  ┆ 6.940394  ┆ 6.860065  ┆ 6.735584 │\n",
       "│ 173083    ┆           ┆           ┆           ┆   ┆           ┆           ┆           ┆          │\n",
       "│ …         ┆ …         ┆ …         ┆ …         ┆ … ┆ …         ┆ …         ┆ …         ┆ …        │\n",
       "│ ENSG00000 ┆ RBFOX2    ┆ 8.22931   ┆ 8.577745  ┆ … ┆ 7.52732   ┆ 7.067754  ┆ 7.545361  ┆ 6.655649 │\n",
       "│ 100320    ┆           ┆           ┆           ┆   ┆           ┆           ┆           ┆          │\n",
       "│ ENSG00000 ┆ EPS8L1    ┆ 4.921367  ┆ 5.092288  ┆ … ┆ 4.054711  ┆ 4.791207  ┆ 4.437371  ┆ 4.463407 │\n",
       "│ 131037    ┆           ┆           ┆           ┆   ┆           ┆           ┆           ┆          │\n",
       "│ ENSG00000 ┆ GPR174    ┆ 7.472695  ┆ 7.693039  ┆ … ┆ 8.83835   ┆ 7.851796  ┆ 7.858072  ┆ 6.91692  │\n",
       "│ 147138    ┆           ┆           ┆           ┆   ┆           ┆           ┆           ┆          │\n",
       "│ ENSG00000 ┆ FARP1     ┆ 6.940183  ┆ 7.49388   ┆ … ┆ 6.001296  ┆ 6.299561  ┆ 7.777429  ┆ 6.503437 │\n",
       "│ 152767    ┆           ┆           ┆           ┆   ┆           ┆           ┆           ┆          │\n",
       "│ ENSG00000 ┆ C19orf76  ┆ 6.154172  ┆ 5.498171  ┆ … ┆ 5.256311  ┆ 6.059971  ┆ 6.393223  ┆ 4.967428 │\n",
       "│ 224420    ┆           ┆           ┆           ┆   ┆           ┆           ┆           ┆          │\n",
       "└───────────┴───────────┴───────────┴───────────┴───┴───────────┴───────────┴───────────┴──────────┘"
      ]
     },
     "execution_count": 3,
     "metadata": {},
     "output_type": "execute_result"
    }
   ],
   "source": [
    "mrna = pl.read_csv(\"mds_data/preprocessed/mrna.csv\")\n",
    "mrna"
   ]
  },
  {
   "cell_type": "code",
   "execution_count": null,
   "metadata": {},
   "outputs": [],
   "source": [
    "from src.data_preprocessing import OmicDataSplitter\n",
    "\n",
    "ods = OmicDataSplitter(\n",
    "    df=mrna,\n",
    "    annotation_cols=[\"GENE_ID\", \"GENE_NAME\"],\n",
    "    y_df=y,\n",
    "    n_splits=5,\n",
    "    random_state=3,\n",
    "    output_dir=\"mds_data/splits/mrna\",\n",
    ")\n",
    "ods.process_data()"
   ]
  },
  {
   "cell_type": "code",
   "execution_count": 17,
   "metadata": {},
   "outputs": [
    {
     "name": "stdout",
     "output_type": "stream",
     "text": [
      "[[2. 3. 0.]\n",
      " [0. 1. 0.]\n",
      " [0. 0. 1.]]\n"
     ]
    },
    {
     "data": {
      "text/plain": [
       "array([2., 3., 1.])"
      ]
     },
     "execution_count": 17,
     "metadata": {},
     "output_type": "execute_result"
    }
   ],
   "source": [
    "A = np.eye(3)\n",
    "A[0,0] = 2\n",
    "A[0,1] = 3\n",
    "print(A)\n",
    "A.max(axis=0)"
   ]
  },
  {
   "cell_type": "code",
   "execution_count": 21,
   "metadata": {},
   "outputs": [
    {
     "data": {
      "text/plain": [
       "[(array([ 0,  1,  2,  3,  6,  8,  9, 10, 13, 14, 15, 16, 17, 18, 19, 20, 21,\n",
       "         23, 25, 26, 27, 28, 29, 30, 31, 32, 33, 35, 37, 38, 39, 40, 41, 43,\n",
       "         45, 47, 48, 49, 50, 51, 52, 53, 54, 55, 56, 57, 58, 59, 60, 61, 63,\n",
       "         64]),\n",
       "  array([ 4,  5,  7, 11, 12, 22, 24, 34, 36, 42, 44, 46, 62, 65])),\n",
       " (array([ 0,  1,  2,  4,  5,  7,  8, 11, 12, 13, 14, 16, 17, 18, 19, 20, 21,\n",
       "         22, 23, 24, 25, 26, 27, 28, 29, 30, 33, 34, 35, 36, 37, 38, 39, 40,\n",
       "         41, 42, 43, 44, 45, 46, 48, 50, 52, 53, 54, 56, 57, 58, 59, 60, 61,\n",
       "         62, 65]),\n",
       "  array([ 3,  6,  9, 10, 15, 31, 32, 47, 49, 51, 55, 63, 64])),\n",
       " (array([ 1,  2,  3,  4,  5,  6,  7,  8,  9, 10, 11, 12, 13, 14, 15, 16, 18,\n",
       "         22, 24, 25, 26, 27, 28, 29, 30, 31, 32, 33, 34, 35, 36, 40, 42, 43,\n",
       "         44, 45, 46, 47, 48, 49, 51, 52, 54, 55, 57, 58, 59, 60, 61, 62, 63,\n",
       "         64, 65]),\n",
       "  array([ 0, 17, 19, 20, 21, 23, 37, 38, 39, 41, 50, 53, 56])),\n",
       " (array([ 0,  1,  3,  4,  5,  6,  7,  8,  9, 10, 11, 12, 13, 15, 16, 17, 19,\n",
       "         20, 21, 22, 23, 24, 25, 26, 27, 29, 31, 32, 34, 35, 36, 37, 38, 39,\n",
       "         41, 42, 43, 44, 46, 47, 48, 49, 50, 51, 53, 55, 56, 58, 59, 62, 63,\n",
       "         64, 65]),\n",
       "  array([ 2, 14, 18, 28, 30, 33, 40, 45, 52, 54, 57, 60, 61])),\n",
       " (array([ 0,  2,  3,  4,  5,  6,  7,  9, 10, 11, 12, 14, 15, 17, 18, 19, 20,\n",
       "         21, 22, 23, 24, 28, 30, 31, 32, 33, 34, 36, 37, 38, 39, 40, 41, 42,\n",
       "         44, 45, 46, 47, 49, 50, 51, 52, 53, 54, 55, 56, 57, 60, 61, 62, 63,\n",
       "         64, 65]),\n",
       "  array([ 1,  8, 13, 16, 25, 26, 27, 29, 35, 43, 48, 58, 59]))]"
      ]
     },
     "execution_count": 21,
     "metadata": {},
     "output_type": "execute_result"
    }
   ],
   "source": [
    "skf = StratifiedKFold(n_splits=5, shuffle=True, random_state=3)\n",
    "\n",
    "list(skf.split(np.zeros(len(y)), y[\"class\"]))"
   ]
  },
  {
   "cell_type": "code",
   "execution_count": 29,
   "metadata": {},
   "outputs": [],
   "source": [
    "from src.data_splitting import OmicDataSplitter\n",
    "\n",
    "ods = OmicDataSplitter(y, n_splits=5, random_state=3)"
   ]
  },
  {
   "cell_type": "code",
   "execution_count": 28,
   "metadata": {},
   "outputs": [
    {
     "data": {
      "text/html": [
       "<div><style>\n",
       ".dataframe > thead > tr,\n",
       ".dataframe > tbody > tr {\n",
       "  text-align: right;\n",
       "  white-space: pre-wrap;\n",
       "}\n",
       "</style>\n",
       "<small>shape: (3_000, 68)</small><table border=\"1\" class=\"dataframe\"><thead><tr><th>GENE_ID</th><th>GENE_NAME</th><th>N58</th><th>N60</th><th>N70</th><th>N82</th><th>N83</th><th>N84</th><th>N85</th><th>V1048</th><th>V108</th><th>V1090</th><th>V125</th><th>V1279</th><th>V1297</th><th>V1321</th><th>V1337</th><th>V1394</th><th>V1441</th><th>V1456</th><th>V148</th><th>V1505</th><th>V1528</th><th>V1565</th><th>V1591</th><th>V1592</th><th>V1699</th><th>V1708</th><th>V1742</th><th>V1776</th><th>V1788</th><th>V18</th><th>V1800</th><th>V1823</th><th>V1834</th><th>V1857</th><th>V1860</th><th>V1874</th><th>V1884</th><th>V1920</th><th>V1921</th><th>V2089</th><th>V2092</th><th>V2110</th><th>V2133</th><th>V221</th><th>V344</th><th>V359</th><th>V406</th><th>V456</th><th>V513</th><th>V538</th><th>V553</th><th>V574</th><th>V624</th><th>V630</th><th>V637</th><th>V655</th><th>V67</th><th>V712</th><th>V714</th><th>V716</th><th>V777</th><th>V806</th><th>V839</th><th>V883</th><th>V888</th><th>V940</th></tr><tr><td>str</td><td>str</td><td>f64</td><td>f64</td><td>f64</td><td>f64</td><td>f64</td><td>f64</td><td>f64</td><td>f64</td><td>f64</td><td>f64</td><td>f64</td><td>f64</td><td>f64</td><td>f64</td><td>f64</td><td>f64</td><td>f64</td><td>f64</td><td>f64</td><td>f64</td><td>f64</td><td>f64</td><td>f64</td><td>f64</td><td>f64</td><td>f64</td><td>f64</td><td>f64</td><td>f64</td><td>f64</td><td>f64</td><td>f64</td><td>f64</td><td>f64</td><td>f64</td><td>f64</td><td>f64</td><td>f64</td><td>f64</td><td>f64</td><td>f64</td><td>f64</td><td>f64</td><td>f64</td><td>f64</td><td>f64</td><td>f64</td><td>f64</td><td>f64</td><td>f64</td><td>f64</td><td>f64</td><td>f64</td><td>f64</td><td>f64</td><td>f64</td><td>f64</td><td>f64</td><td>f64</td><td>f64</td><td>f64</td><td>f64</td><td>f64</td><td>f64</td><td>f64</td><td>f64</td></tr></thead><tbody><tr><td>&quot;ENSG00000103184&quot;</td><td>&quot;SEC14L5&quot;</td><td>4.574155</td><td>7.288239</td><td>3.561246</td><td>2.897224</td><td>3.615696</td><td>4.057362</td><td>2.203009</td><td>4.398603</td><td>3.467058</td><td>3.657675</td><td>4.619424</td><td>1.507977</td><td>4.809069</td><td>4.749144</td><td>2.146183</td><td>2.66225</td><td>3.555635</td><td>0.714897</td><td>2.010324</td><td>6.268556</td><td>5.914118</td><td>4.018251</td><td>6.781959</td><td>4.900504</td><td>3.481129</td><td>3.767197</td><td>5.167452</td><td>1.631362</td><td>5.933825</td><td>4.945851</td><td>0.444571</td><td>2.734007</td><td>4.452827</td><td>5.877369</td><td>6.07671</td><td>3.343197</td><td>6.156233</td><td>2.993291</td><td>5.727105</td><td>1.36271</td><td>5.001145</td><td>5.516594</td><td>6.915722</td><td>3.82929</td><td>3.319966</td><td>6.938185</td><td>5.118215</td><td>1.629126</td><td>5.885573</td><td>5.003287</td><td>2.039422</td><td>10.53412</td><td>2.297346</td><td>4.097657</td><td>3.891976</td><td>4.604959</td><td>5.844351</td><td>3.188559</td><td>1.986391</td><td>2.357737</td><td>3.549326</td><td>5.252131</td><td>3.976603</td><td>5.670529</td><td>4.456624</td><td>4.897539</td></tr><tr><td>&quot;ENSG00000119862&quot;</td><td>&quot;LGALSL&quot;</td><td>7.455039</td><td>8.479401</td><td>6.306391</td><td>3.321911</td><td>6.188541</td><td>5.979059</td><td>5.223318</td><td>6.5576</td><td>6.140982</td><td>7.953992</td><td>6.599124</td><td>5.548295</td><td>8.013039</td><td>7.647353</td><td>4.956439</td><td>6.928581</td><td>5.090716</td><td>6.687677</td><td>5.006865</td><td>9.311978</td><td>8.342994</td><td>6.413821</td><td>9.084263</td><td>6.776719</td><td>5.304247</td><td>6.598114</td><td>6.798145</td><td>4.599317</td><td>8.505406</td><td>6.422409</td><td>2.381453</td><td>6.143426</td><td>5.936016</td><td>8.052438</td><td>7.556633</td><td>6.799104</td><td>7.551962</td><td>6.284811</td><td>7.092467</td><td>3.705927</td><td>6.91619</td><td>6.314894</td><td>6.214188</td><td>5.860457</td><td>5.514356</td><td>8.538408</td><td>7.514117</td><td>6.082184</td><td>9.708378</td><td>6.616514</td><td>4.57679</td><td>12.548</td><td>5.836737</td><td>6.590203</td><td>6.043704</td><td>7.598248</td><td>7.729715</td><td>6.108103</td><td>5.62265</td><td>5.729892</td><td>5.977239</td><td>6.672379</td><td>6.838144</td><td>7.450425</td><td>6.055094</td><td>6.88753</td></tr><tr><td>&quot;ENSG00000115461&quot;</td><td>&quot;IGFBP5&quot;</td><td>1.531313</td><td>4.93984</td><td>1.589817</td><td>3.596918</td><td>4.221713</td><td>5.694364</td><td>4.633449</td><td>7.55643</td><td>2.906119</td><td>6.264272</td><td>4.300236</td><td>4.642322</td><td>5.192593</td><td>5.82839</td><td>3.354076</td><td>6.16894</td><td>3.134675</td><td>4.718852</td><td>8.624212</td><td>3.38863</td><td>3.416752</td><td>8.240399</td><td>6.652194</td><td>7.699936</td><td>4.466548</td><td>3.895035</td><td>8.655896</td><td>4.393156</td><td>3.639881</td><td>5.553176</td><td>2.653826</td><td>6.227905</td><td>6.201601</td><td>9.962816</td><td>5.073338</td><td>4.806445</td><td>4.322065</td><td>3.59729</td><td>4.244579</td><td>4.54983</td><td>5.835025</td><td>6.82944</td><td>7.039622</td><td>4.689163</td><td>3.702583</td><td>6.163571</td><td>2.613793</td><td>2.308573</td><td>3.431658</td><td>4.664411</td><td>3.645008</td><td>4.07661</td><td>4.614307</td><td>5.113326</td><td>2.241138</td><td>3.67498</td><td>11.902128</td><td>2.718183</td><td>2.048483</td><td>1.477194</td><td>4.562139</td><td>6.748317</td><td>2.710774</td><td>4.358541</td><td>5.20171</td><td>6.416449</td></tr><tr><td>&quot;ENSG00000137801&quot;</td><td>&quot;THBS1&quot;</td><td>10.787846</td><td>12.452547</td><td>9.390428</td><td>7.256898</td><td>9.546596</td><td>9.807684</td><td>8.395226</td><td>10.564428</td><td>9.994399</td><td>10.93104</td><td>10.041629</td><td>8.696442</td><td>11.235067</td><td>10.286238</td><td>7.73148</td><td>9.966976</td><td>10.189488</td><td>11.291271</td><td>8.163448</td><td>12.26609</td><td>11.428713</td><td>9.155845</td><td>12.369392</td><td>8.678094</td><td>8.537479</td><td>11.617824</td><td>10.461017</td><td>7.391252</td><td>11.719449</td><td>8.622247</td><td>6.537787</td><td>9.79737</td><td>9.035041</td><td>11.235494</td><td>11.164126</td><td>9.850056</td><td>10.290641</td><td>7.654049</td><td>11.137592</td><td>4.781831</td><td>10.478594</td><td>10.905235</td><td>9.504674</td><td>9.022241</td><td>8.020058</td><td>12.340003</td><td>9.573093</td><td>9.417571</td><td>11.567134</td><td>10.372583</td><td>7.060916</td><td>15.367104</td><td>8.483557</td><td>10.596553</td><td>8.780714</td><td>9.818366</td><td>11.521034</td><td>6.721186</td><td>6.61051</td><td>9.027454</td><td>7.719915</td><td>10.210917</td><td>10.274893</td><td>10.805033</td><td>10.464737</td><td>10.704895</td></tr><tr><td>&quot;ENSG00000173083&quot;</td><td>&quot;HPSE&quot;</td><td>6.935416</td><td>7.987946</td><td>7.20935</td><td>5.125137</td><td>6.211795</td><td>5.990862</td><td>5.462574</td><td>6.413457</td><td>7.825867</td><td>8.089623</td><td>6.922915</td><td>6.288086</td><td>7.527803</td><td>6.888642</td><td>6.086392</td><td>6.349528</td><td>6.562359</td><td>6.139168</td><td>6.209023</td><td>8.389047</td><td>7.645464</td><td>6.792004</td><td>8.256308</td><td>6.635347</td><td>6.015047</td><td>6.27286</td><td>6.943379</td><td>5.713779</td><td>8.075317</td><td>5.712303</td><td>5.481236</td><td>6.143426</td><td>6.635867</td><td>6.400915</td><td>7.285251</td><td>6.45702</td><td>8.3526</td><td>5.8538</td><td>7.281664</td><td>5.741307</td><td>6.923299</td><td>7.189791</td><td>7.09444</td><td>6.704163</td><td>4.665372</td><td>8.178149</td><td>6.607652</td><td>6.537152</td><td>7.83118</td><td>7.217909</td><td>6.983234</td><td>11.844895</td><td>5.8875</td><td>8.039698</td><td>6.089552</td><td>6.931796</td><td>7.643238</td><td>5.951342</td><td>5.730754</td><td>6.129718</td><td>7.313044</td><td>6.989801</td><td>7.451146</td><td>6.940394</td><td>6.860065</td><td>6.735584</td></tr><tr><td>&hellip;</td><td>&hellip;</td><td>&hellip;</td><td>&hellip;</td><td>&hellip;</td><td>&hellip;</td><td>&hellip;</td><td>&hellip;</td><td>&hellip;</td><td>&hellip;</td><td>&hellip;</td><td>&hellip;</td><td>&hellip;</td><td>&hellip;</td><td>&hellip;</td><td>&hellip;</td><td>&hellip;</td><td>&hellip;</td><td>&hellip;</td><td>&hellip;</td><td>&hellip;</td><td>&hellip;</td><td>&hellip;</td><td>&hellip;</td><td>&hellip;</td><td>&hellip;</td><td>&hellip;</td><td>&hellip;</td><td>&hellip;</td><td>&hellip;</td><td>&hellip;</td><td>&hellip;</td><td>&hellip;</td><td>&hellip;</td><td>&hellip;</td><td>&hellip;</td><td>&hellip;</td><td>&hellip;</td><td>&hellip;</td><td>&hellip;</td><td>&hellip;</td><td>&hellip;</td><td>&hellip;</td><td>&hellip;</td><td>&hellip;</td><td>&hellip;</td><td>&hellip;</td><td>&hellip;</td><td>&hellip;</td><td>&hellip;</td><td>&hellip;</td><td>&hellip;</td><td>&hellip;</td><td>&hellip;</td><td>&hellip;</td><td>&hellip;</td><td>&hellip;</td><td>&hellip;</td><td>&hellip;</td><td>&hellip;</td><td>&hellip;</td><td>&hellip;</td><td>&hellip;</td><td>&hellip;</td><td>&hellip;</td><td>&hellip;</td><td>&hellip;</td><td>&hellip;</td></tr><tr><td>&quot;ENSG00000100320&quot;</td><td>&quot;RBFOX2&quot;</td><td>8.22931</td><td>8.577745</td><td>8.793937</td><td>8.146168</td><td>8.50636</td><td>8.094082</td><td>8.412581</td><td>6.262423</td><td>8.824019</td><td>9.092984</td><td>8.123152</td><td>8.145417</td><td>8.134884</td><td>7.165401</td><td>7.635301</td><td>7.611847</td><td>8.661839</td><td>5.259503</td><td>7.394901</td><td>7.761067</td><td>7.65251</td><td>8.083627</td><td>6.969916</td><td>9.355596</td><td>6.342115</td><td>8.242365</td><td>6.032863</td><td>6.856847</td><td>7.337829</td><td>7.598508</td><td>5.508181</td><td>6.09535</td><td>8.075045</td><td>8.245913</td><td>7.133615</td><td>8.494605</td><td>7.07594</td><td>8.600279</td><td>8.234299</td><td>6.944529</td><td>6.121303</td><td>7.042001</td><td>7.561364</td><td>8.72022</td><td>6.691154</td><td>7.412463</td><td>5.706284</td><td>8.655129</td><td>8.009674</td><td>7.341117</td><td>2.289394</td><td>6.340976</td><td>6.346199</td><td>7.8873</td><td>7.275199</td><td>9.039884</td><td>7.44935</td><td>9.180781</td><td>8.788654</td><td>8.775473</td><td>9.47642</td><td>6.869862</td><td>7.52732</td><td>7.067754</td><td>7.545361</td><td>6.655649</td></tr><tr><td>&quot;ENSG00000131037&quot;</td><td>&quot;EPS8L1&quot;</td><td>4.921367</td><td>5.092288</td><td>4.636338</td><td>4.303763</td><td>3.558799</td><td>4.273777</td><td>4.539356</td><td>3.657559</td><td>4.76519</td><td>5.2067</td><td>5.129906</td><td>5.249289</td><td>5.093011</td><td>4.608039</td><td>4.105194</td><td>3.421264</td><td>4.543386</td><td>4.570978</td><td>4.012894</td><td>4.479922</td><td>4.122518</td><td>5.584509</td><td>3.767809</td><td>3.859496</td><td>3.894477</td><td>4.436839</td><td>4.401572</td><td>4.939957</td><td>3.310004</td><td>4.954976</td><td>3.038821</td><td>3.685049</td><td>5.122019</td><td>5.154102</td><td>4.704891</td><td>4.004908</td><td>2.594864</td><td>5.67405</td><td>4.176327</td><td>3.059096</td><td>4.431902</td><td>2.579029</td><td>5.850097</td><td>4.698257</td><td>4.024754</td><td>5.202417</td><td>3.982463</td><td>6.590354</td><td>4.603486</td><td>2.425481</td><td>3.861162</td><td>4.223547</td><td>2.009216</td><td>3.985339</td><td>2.241138</td><td>5.239908</td><td>5.761738</td><td>3.852376</td><td>5.114053</td><td>5.401104</td><td>4.54089</td><td>4.377534</td><td>4.054711</td><td>4.791207</td><td>4.437371</td><td>4.463407</td></tr><tr><td>&quot;ENSG00000147138&quot;</td><td>&quot;GPR174&quot;</td><td>7.472695</td><td>7.693039</td><td>8.470779</td><td>8.431479</td><td>8.423135</td><td>7.941875</td><td>7.586384</td><td>8.35664</td><td>10.20575</td><td>9.02655</td><td>8.031976</td><td>8.900432</td><td>9.261677</td><td>9.425081</td><td>9.225934</td><td>9.444781</td><td>8.44918</td><td>7.687412</td><td>8.051833</td><td>7.811535</td><td>8.339178</td><td>7.633405</td><td>7.297222</td><td>8.87963</td><td>7.210158</td><td>7.914855</td><td>6.834074</td><td>8.695152</td><td>4.52869</td><td>7.733878</td><td>10.22048</td><td>6.504612</td><td>9.587979</td><td>7.97627</td><td>8.012537</td><td>8.975441</td><td>8.739155</td><td>9.705377</td><td>8.709629</td><td>8.063136</td><td>7.39922</td><td>7.799343</td><td>7.265433</td><td>8.571631</td><td>9.109058</td><td>7.41099</td><td>4.540132</td><td>10.158007</td><td>8.317188</td><td>9.034955</td><td>8.597539</td><td>6.449957</td><td>7.772009</td><td>8.241796</td><td>7.973199</td><td>9.134118</td><td>8.364018</td><td>8.292342</td><td>8.913818</td><td>9.206939</td><td>9.270765</td><td>7.319049</td><td>8.83835</td><td>7.851796</td><td>7.858072</td><td>6.91692</td></tr><tr><td>&quot;ENSG00000152767&quot;</td><td>&quot;FARP1&quot;</td><td>6.940183</td><td>7.49388</td><td>6.46252</td><td>5.675233</td><td>6.4785</td><td>6.855844</td><td>5.77485</td><td>7.895461</td><td>7.102404</td><td>5.689908</td><td>6.759296</td><td>6.770667</td><td>7.110603</td><td>7.269297</td><td>7.513641</td><td>6.432986</td><td>6.543011</td><td>6.975591</td><td>7.973696</td><td>6.347298</td><td>6.180977</td><td>7.222779</td><td>6.675958</td><td>6.867061</td><td>6.708219</td><td>7.062017</td><td>7.460929</td><td>6.16691</td><td>7.521092</td><td>7.119538</td><td>7.263643</td><td>8.050985</td><td>7.734846</td><td>9.232917</td><td>7.693798</td><td>6.712544</td><td>7.099249</td><td>6.624518</td><td>6.440258</td><td>7.417438</td><td>8.285402</td><td>7.647037</td><td>8.174316</td><td>6.902123</td><td>5.938316</td><td>8.029102</td><td>6.648249</td><td>7.433624</td><td>6.519701</td><td>6.396188</td><td>5.661561</td><td>6.111841</td><td>6.986761</td><td>7.610686</td><td>6.858305</td><td>7.330748</td><td>7.51952</td><td>6.998061</td><td>6.492616</td><td>6.120499</td><td>6.428605</td><td>7.674356</td><td>6.001296</td><td>6.299561</td><td>7.777429</td><td>6.503437</td></tr><tr><td>&quot;ENSG00000224420&quot;</td><td>&quot;C19orf76&quot;</td><td>6.154172</td><td>5.498171</td><td>5.151728</td><td>5.514104</td><td>6.03274</td><td>4.932447</td><td>6.352387</td><td>4.988354</td><td>7.041746</td><td>5.848806</td><td>6.733806</td><td>5.576445</td><td>7.992461</td><td>6.302988</td><td>6.035125</td><td>4.292522</td><td>4.813793</td><td>4.609392</td><td>6.615645</td><td>4.752124</td><td>5.431223</td><td>5.466946</td><td>5.057281</td><td>4.450441</td><td>5.59655</td><td>5.506851</td><td>4.829419</td><td>6.034645</td><td>5.193213</td><td>6.743933</td><td>6.265124</td><td>4.515427</td><td>6.58305</td><td>4.773593</td><td>5.148503</td><td>5.355876</td><td>5.290316</td><td>5.867816</td><td>5.447154</td><td>4.61913</td><td>4.47124</td><td>5.577988</td><td>3.484186</td><td>4.828217</td><td>6.697414</td><td>5.562334</td><td>6.624028</td><td>5.165414</td><td>4.917211</td><td>5.311944</td><td>6.162196</td><td>4.953942</td><td>5.727095</td><td>4.863907</td><td>5.042281</td><td>4.986085</td><td>5.661588</td><td>5.782114</td><td>5.80458</td><td>6.192653</td><td>4.856832</td><td>5.495054</td><td>5.256311</td><td>6.059971</td><td>6.393223</td><td>4.967428</td></tr></tbody></table></div>"
      ],
      "text/plain": [
       "shape: (3_000, 68)\n",
       "┌───────────┬───────────┬───────────┬───────────┬───┬───────────┬───────────┬───────────┬──────────┐\n",
       "│ GENE_ID   ┆ GENE_NAME ┆ N58       ┆ N60       ┆ … ┆ V839      ┆ V883      ┆ V888      ┆ V940     │\n",
       "│ ---       ┆ ---       ┆ ---       ┆ ---       ┆   ┆ ---       ┆ ---       ┆ ---       ┆ ---      │\n",
       "│ str       ┆ str       ┆ f64       ┆ f64       ┆   ┆ f64       ┆ f64       ┆ f64       ┆ f64      │\n",
       "╞═══════════╪═══════════╪═══════════╪═══════════╪═══╪═══════════╪═══════════╪═══════════╪══════════╡\n",
       "│ ENSG00000 ┆ SEC14L5   ┆ 4.574155  ┆ 7.288239  ┆ … ┆ 3.976603  ┆ 5.670529  ┆ 4.456624  ┆ 4.897539 │\n",
       "│ 103184    ┆           ┆           ┆           ┆   ┆           ┆           ┆           ┆          │\n",
       "│ ENSG00000 ┆ LGALSL    ┆ 7.455039  ┆ 8.479401  ┆ … ┆ 6.838144  ┆ 7.450425  ┆ 6.055094  ┆ 6.88753  │\n",
       "│ 119862    ┆           ┆           ┆           ┆   ┆           ┆           ┆           ┆          │\n",
       "│ ENSG00000 ┆ IGFBP5    ┆ 1.531313  ┆ 4.93984   ┆ … ┆ 2.710774  ┆ 4.358541  ┆ 5.20171   ┆ 6.416449 │\n",
       "│ 115461    ┆           ┆           ┆           ┆   ┆           ┆           ┆           ┆          │\n",
       "│ ENSG00000 ┆ THBS1     ┆ 10.787846 ┆ 12.452547 ┆ … ┆ 10.274893 ┆ 10.805033 ┆ 10.464737 ┆ 10.70489 │\n",
       "│ 137801    ┆           ┆           ┆           ┆   ┆           ┆           ┆           ┆ 5        │\n",
       "│ ENSG00000 ┆ HPSE      ┆ 6.935416  ┆ 7.987946  ┆ … ┆ 7.451146  ┆ 6.940394  ┆ 6.860065  ┆ 6.735584 │\n",
       "│ 173083    ┆           ┆           ┆           ┆   ┆           ┆           ┆           ┆          │\n",
       "│ …         ┆ …         ┆ …         ┆ …         ┆ … ┆ …         ┆ …         ┆ …         ┆ …        │\n",
       "│ ENSG00000 ┆ RBFOX2    ┆ 8.22931   ┆ 8.577745  ┆ … ┆ 7.52732   ┆ 7.067754  ┆ 7.545361  ┆ 6.655649 │\n",
       "│ 100320    ┆           ┆           ┆           ┆   ┆           ┆           ┆           ┆          │\n",
       "│ ENSG00000 ┆ EPS8L1    ┆ 4.921367  ┆ 5.092288  ┆ … ┆ 4.054711  ┆ 4.791207  ┆ 4.437371  ┆ 4.463407 │\n",
       "│ 131037    ┆           ┆           ┆           ┆   ┆           ┆           ┆           ┆          │\n",
       "│ ENSG00000 ┆ GPR174    ┆ 7.472695  ┆ 7.693039  ┆ … ┆ 8.83835   ┆ 7.851796  ┆ 7.858072  ┆ 6.91692  │\n",
       "│ 147138    ┆           ┆           ┆           ┆   ┆           ┆           ┆           ┆          │\n",
       "│ ENSG00000 ┆ FARP1     ┆ 6.940183  ┆ 7.49388   ┆ … ┆ 6.001296  ┆ 6.299561  ┆ 7.777429  ┆ 6.503437 │\n",
       "│ 152767    ┆           ┆           ┆           ┆   ┆           ┆           ┆           ┆          │\n",
       "│ ENSG00000 ┆ C19orf76  ┆ 6.154172  ┆ 5.498171  ┆ … ┆ 5.256311  ┆ 6.059971  ┆ 6.393223  ┆ 4.967428 │\n",
       "│ 224420    ┆           ┆           ┆           ┆   ┆           ┆           ┆           ┆          │\n",
       "└───────────┴───────────┴───────────┴───────────┴───┴───────────┴───────────┴───────────┴──────────┘"
      ]
     },
     "execution_count": 28,
     "metadata": {},
     "output_type": "execute_result"
    }
   ],
   "source": [
    "mrna = pl.read_csv(\"mds_data/preprocessed/mrna.csv\")\n",
    "mrna"
   ]
  },
  {
   "cell_type": "code",
   "execution_count": 30,
   "metadata": {},
   "outputs": [
    {
     "ename": "TypeError",
     "evalue": "DataFrame.__init__() got an unexpected keyword argument 'columns'",
     "output_type": "error",
     "traceback": [
      "\u001b[0;31m---------------------------------------------------------------------------\u001b[0m",
      "\u001b[0;31mTypeError\u001b[0m                                 Traceback (most recent call last)",
      "Cell \u001b[0;32mIn[30], line 1\u001b[0m\n\u001b[0;32m----> 1\u001b[0m \u001b[43mods\u001b[49m\u001b[38;5;241;43m.\u001b[39;49m\u001b[43mprocess_data\u001b[49m\u001b[43m(\u001b[49m\n\u001b[1;32m      2\u001b[0m \u001b[43m    \u001b[49m\u001b[43mmrna\u001b[49m\u001b[43m,\u001b[49m\n\u001b[1;32m      3\u001b[0m \u001b[43m    \u001b[49m\u001b[38;5;124;43m\"\u001b[39;49m\u001b[38;5;124;43mmds_data/splits/mrna\u001b[39;49m\u001b[38;5;124;43m\"\u001b[39;49m\u001b[43m,\u001b[49m\n\u001b[1;32m      4\u001b[0m \u001b[43m    \u001b[49m\u001b[43mannotation_cols\u001b[49m\u001b[38;5;241;43m=\u001b[39;49m\u001b[43m[\u001b[49m\u001b[38;5;124;43m\"\u001b[39;49m\u001b[38;5;124;43mGENE_ID\u001b[39;49m\u001b[38;5;124;43m\"\u001b[39;49m\u001b[43m,\u001b[49m\u001b[43m \u001b[49m\u001b[38;5;124;43m\"\u001b[39;49m\u001b[38;5;124;43mGENE_NAME\u001b[39;49m\u001b[38;5;124;43m\"\u001b[39;49m\u001b[43m]\u001b[49m\u001b[43m,\u001b[49m\n\u001b[1;32m      5\u001b[0m \u001b[43m    \u001b[49m\u001b[43mnormalization\u001b[49m\u001b[38;5;241;43m=\u001b[39;49m\u001b[38;5;124;43m\"\u001b[39;49m\u001b[38;5;124;43mminmax\u001b[39;49m\u001b[38;5;124;43m\"\u001b[39;49m\u001b[43m,\u001b[49m\n\u001b[1;32m      6\u001b[0m \u001b[43m    \u001b[49m\u001b[43mfeature_selection\u001b[49m\u001b[38;5;241;43m=\u001b[39;49m\u001b[38;5;124;43m\"\u001b[39;49m\u001b[38;5;124;43mmrmr\u001b[39;49m\u001b[38;5;124;43m\"\u001b[39;49m\u001b[43m,\u001b[49m\n\u001b[1;32m      7\u001b[0m \u001b[43m    \u001b[49m\u001b[43mn_features\u001b[49m\u001b[38;5;241;43m=\u001b[39;49m\u001b[38;5;241;43m50\u001b[39;49m\n\u001b[1;32m      8\u001b[0m \u001b[43m)\u001b[49m\n",
      "File \u001b[0;32m~/Personal/DiplomaThesis2/src/data_splitting.py:176\u001b[0m, in \u001b[0;36mprocess_data\u001b[0;34m(self, data_df, output_dir, annotation_cols, normalization, feature_selection, n_features)\u001b[0m\n\u001b[1;32m    151\u001b[0m \u001b[38;5;28;01mdef\u001b[39;00m \u001b[38;5;21mprocess_data\u001b[39m(\n\u001b[1;32m    152\u001b[0m     \u001b[38;5;28mself\u001b[39m,\n\u001b[1;32m    153\u001b[0m     data_df: pl\u001b[38;5;241m.\u001b[39mDataFrame,\n\u001b[0;32m   (...)\u001b[0m\n\u001b[1;32m    158\u001b[0m     n_features: \u001b[38;5;28mint\u001b[39m \u001b[38;5;241m=\u001b[39m \u001b[38;5;241m100\u001b[39m,\n\u001b[1;32m    159\u001b[0m ):\n\u001b[1;32m    160\u001b[0m \u001b[38;5;250m    \u001b[39m\u001b[38;5;124;03m\"\"\"\u001b[39;00m\n\u001b[1;32m    161\u001b[0m \u001b[38;5;124;03m    Process the input data and create cross-validation splits.\u001b[39;00m\n\u001b[1;32m    162\u001b[0m \u001b[38;5;124;03m    Normalization and feature selection are performed independently for each split.\u001b[39;00m\n\u001b[1;32m    163\u001b[0m \n\u001b[1;32m    164\u001b[0m \u001b[38;5;124;03m    Parameters:\u001b[39;00m\n\u001b[1;32m    165\u001b[0m \u001b[38;5;124;03m    -----------\u001b[39;00m\n\u001b[1;32m    166\u001b[0m \u001b[38;5;124;03m    data_df : polars.DataFrame\u001b[39;00m\n\u001b[1;32m    167\u001b[0m \u001b[38;5;124;03m        Input data frame where rows are features (genes) and columns are samples\u001b[39;00m\n\u001b[1;32m    168\u001b[0m \u001b[38;5;124;03m    output_dir : str\u001b[39;00m\n\u001b[1;32m    169\u001b[0m \u001b[38;5;124;03m        Directory to save the splits\u001b[39;00m\n\u001b[1;32m    170\u001b[0m \u001b[38;5;124;03m    annotation_cols : list, default=[\"GENE_ID\", \"GENE_NAME\"]\u001b[39;00m\n\u001b[1;32m    171\u001b[0m \u001b[38;5;124;03m        List of column names that contain feature annotations\u001b[39;00m\n\u001b[1;32m    172\u001b[0m \u001b[38;5;124;03m    normalization : str, optional\u001b[39;00m\n\u001b[1;32m    173\u001b[0m \u001b[38;5;124;03m        Normalization method ('standardization' or 'minmax')\u001b[39;00m\n\u001b[1;32m    174\u001b[0m \u001b[38;5;124;03m    feature_selection : str, optional\u001b[39;00m\n\u001b[1;32m    175\u001b[0m \u001b[38;5;124;03m        Feature selection method ('variance' or 'mrmr')\u001b[39;00m\n\u001b[0;32m--> 176\u001b[0m \u001b[38;5;124;03m    n_features : int, default=100\u001b[39;00m\n\u001b[1;32m    177\u001b[0m \u001b[38;5;124;03m        Number of features to select when using mrmr\u001b[39;00m\n\u001b[1;32m    178\u001b[0m \u001b[38;5;124;03m    \"\"\"\u001b[39;00m\n\u001b[1;32m    179\u001b[0m     \u001b[38;5;66;03m# Verify and get ordered sample columns\u001b[39;00m\n\u001b[1;32m    180\u001b[0m     sample_cols \u001b[38;5;241m=\u001b[39m \u001b[38;5;28mself\u001b[39m\u001b[38;5;241m.\u001b[39m_verify_sample_columns(data_df)\n",
      "File \u001b[0;32m~/Personal/DiplomaThesis2/src/data_splitting.py:119\u001b[0m, in \u001b[0;36m_select_features\u001b[0;34m(self, X, y, feature_ids, method, n_features)\u001b[0m\n\u001b[1;32m     92\u001b[0m \u001b[38;5;28;01mdef\u001b[39;00m \u001b[38;5;21m_select_features_split\u001b[39m(\n\u001b[1;32m     93\u001b[0m     \u001b[38;5;28mself\u001b[39m,\n\u001b[1;32m     94\u001b[0m     train_data: np\u001b[38;5;241m.\u001b[39mndarray,\n\u001b[0;32m   (...)\u001b[0m\n\u001b[1;32m     99\u001b[0m     n_features: \u001b[38;5;28mint\u001b[39m \u001b[38;5;241m=\u001b[39m \u001b[38;5;241m100\u001b[39m,\n\u001b[1;32m    100\u001b[0m ) \u001b[38;5;241m-\u001b[39m\u001b[38;5;241m>\u001b[39m \u001b[38;5;28mtuple\u001b[39m:\n\u001b[1;32m    101\u001b[0m \u001b[38;5;250m    \u001b[39m\u001b[38;5;124;03m\"\"\"\u001b[39;00m\n\u001b[1;32m    102\u001b[0m \u001b[38;5;124;03m    Apply feature selection using only training data.\u001b[39;00m\n\u001b[1;32m    103\u001b[0m \n\u001b[1;32m    104\u001b[0m \u001b[38;5;124;03m    Parameters:\u001b[39;00m\n\u001b[1;32m    105\u001b[0m \u001b[38;5;124;03m    -----------\u001b[39;00m\n\u001b[1;32m    106\u001b[0m \u001b[38;5;124;03m    train_data : np.ndarray\u001b[39;00m\n\u001b[1;32m    107\u001b[0m \u001b[38;5;124;03m        Training data of shape (n_features, n_train_samples)\u001b[39;00m\n\u001b[1;32m    108\u001b[0m \u001b[38;5;124;03m    test_data : np.ndarray\u001b[39;00m\n\u001b[1;32m    109\u001b[0m \u001b[38;5;124;03m        Test data of shape (n_features, n_test_samples)\u001b[39;00m\n\u001b[1;32m    110\u001b[0m \u001b[38;5;124;03m    train_y : np.ndarray\u001b[39;00m\n\u001b[1;32m    111\u001b[0m \u001b[38;5;124;03m        Training target values\u001b[39;00m\n\u001b[1;32m    112\u001b[0m \u001b[38;5;124;03m    feature_ids : list\u001b[39;00m\n\u001b[1;32m    113\u001b[0m \u001b[38;5;124;03m        List of feature identifiers\u001b[39;00m\n\u001b[1;32m    114\u001b[0m \u001b[38;5;124;03m    method : str\u001b[39;00m\n\u001b[1;32m    115\u001b[0m \u001b[38;5;124;03m        Feature selection method ('variance' or 'mrmr')\u001b[39;00m\n\u001b[1;32m    116\u001b[0m \u001b[38;5;124;03m    n_features : int\u001b[39;00m\n\u001b[1;32m    117\u001b[0m \u001b[38;5;124;03m        Number of features to select when using mrmr\u001b[39;00m\n\u001b[1;32m    118\u001b[0m \n\u001b[0;32m--> 119\u001b[0m \u001b[38;5;124;03m    Returns:\u001b[39;00m\n\u001b[1;32m    120\u001b[0m \u001b[38;5;124;03m    --------\u001b[39;00m\n\u001b[1;32m    121\u001b[0m \u001b[38;5;124;03m    tuple\u001b[39;00m\n\u001b[1;32m    122\u001b[0m \u001b[38;5;124;03m        (selected_train_data, selected_test_data, selected_feature_ids)\u001b[39;00m\n\u001b[1;32m    123\u001b[0m \u001b[38;5;124;03m    \"\"\"\u001b[39;00m\n\u001b[1;32m    124\u001b[0m     \u001b[38;5;28;01mif\u001b[39;00m method \u001b[38;5;241m==\u001b[39m \u001b[38;5;124m\"\u001b[39m\u001b[38;5;124mvariance\u001b[39m\u001b[38;5;124m\"\u001b[39m:\n\u001b[1;32m    125\u001b[0m         selector \u001b[38;5;241m=\u001b[39m VarianceThreshold()\n",
      "\u001b[0;31mTypeError\u001b[0m: DataFrame.__init__() got an unexpected keyword argument 'columns'"
     ]
    }
   ],
   "source": [
    "ods.process_data(\n",
    "    mrna,\n",
    "    \"mds_data/splits/mrna\",\n",
    "    annotation_cols=[\"GENE_ID\", \"GENE_NAME\"],\n",
    "    normalization=\"minmax\",\n",
    "    feature_selection=\"mrmr\",\n",
    "    n_features=50,\n",
    ")"
   ]
  }
 ],
 "metadata": {
  "kernelspec": {
   "display_name": ".venv",
   "language": "python",
   "name": "python3"
  },
  "language_info": {
   "codemirror_mode": {
    "name": "ipython",
    "version": 3
   },
   "file_extension": ".py",
   "mimetype": "text/x-python",
   "name": "python",
   "nbconvert_exporter": "python",
   "pygments_lexer": "ipython3",
   "version": "3.12.7"
  }
 },
 "nbformat": 4,
 "nbformat_minor": 2
}
