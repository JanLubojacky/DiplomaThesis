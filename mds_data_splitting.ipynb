{
 "cells": [
  {
   "cell_type": "markdown",
   "metadata": {},
   "source": [
    "# Feature selection and data splitting for mds data "
   ]
  },
  {
   "cell_type": "code",
   "execution_count": 1,
   "metadata": {},
   "outputs": [],
   "source": [
    "%load_ext autoreload\n",
    "%autoreload 2\n",
    "\n",
    "import polars as pl\n",
    "\n",
    "from src.data_preprocessing import OmicDataSplitter"
   ]
  },
  {
   "cell_type": "code",
   "execution_count": 31,
   "metadata": {},
   "outputs": [
    {
     "data": {
      "text/html": [
       "<div><style>\n",
       ".dataframe > thead > tr,\n",
       ".dataframe > tbody > tr {\n",
       "  text-align: right;\n",
       "  white-space: pre-wrap;\n",
       "}\n",
       "</style>\n",
       "<small>shape: (26, 2)</small><table border=\"1\" class=\"dataframe\"><thead><tr><th>sample_ids</th><th>class</th></tr><tr><td>str</td><td>i64</td></tr></thead><tbody><tr><td>&quot;V108&quot;</td><td>1</td></tr><tr><td>&quot;V125&quot;</td><td>1</td></tr><tr><td>&quot;V1321&quot;</td><td>1</td></tr><tr><td>&quot;V1456&quot;</td><td>1</td></tr><tr><td>&quot;V1505&quot;</td><td>0</td></tr><tr><td>&hellip;</td><td>&hellip;</td></tr><tr><td>&quot;V637&quot;</td><td>0</td></tr><tr><td>&quot;V716&quot;</td><td>1</td></tr><tr><td>&quot;V777&quot;</td><td>0</td></tr><tr><td>&quot;V806&quot;</td><td>1</td></tr><tr><td>&quot;V888&quot;</td><td>1</td></tr></tbody></table></div>"
      ],
      "text/plain": [
       "shape: (26, 2)\n",
       "┌────────────┬───────┐\n",
       "│ sample_ids ┆ class │\n",
       "│ ---        ┆ ---   │\n",
       "│ str        ┆ i64   │\n",
       "╞════════════╪═══════╡\n",
       "│ V108       ┆ 1     │\n",
       "│ V125       ┆ 1     │\n",
       "│ V1321      ┆ 1     │\n",
       "│ V1456      ┆ 1     │\n",
       "│ V1505      ┆ 0     │\n",
       "│ …          ┆ …     │\n",
       "│ V637       ┆ 0     │\n",
       "│ V716       ┆ 1     │\n",
       "│ V777       ┆ 0     │\n",
       "│ V806       ┆ 1     │\n",
       "│ V888       ┆ 1     │\n",
       "└────────────┴───────┘"
      ]
     },
     "execution_count": 31,
     "metadata": {},
     "output_type": "execute_result"
    }
   ],
   "source": [
    "y = pl.read_csv(\"mds_data/preprocessed_74/annotations_74.csv\")\n",
    "\n",
    "# y = (\n",
    "#     y.select(\"SAMPLE_ID\", \"disease\")\n",
    "#     .rename({\"SAMPLE_ID\": \"sample_ids\", \"disease\": \"class\"})\n",
    "#     .with_columns(pl.col(\"class\") - 1)\n",
    "# )\n",
    "# y = (\n",
    "#     y.select(\"SAMPLE_ID\", \"risk\")\n",
    "#     .rename({\"SAMPLE_ID\": \"sample_ids\", \"risk\": \"class\"})\n",
    "#     .with_columns(pl.col(\"class\") - 1)\n",
    "#     .filter(pl.col(\"class\") != -1)\n",
    "# )\n",
    "y = (\n",
    "    y.select(\"SAMPLE_ID\", \"mutation\")\n",
    "    .rename({\"SAMPLE_ID\": \"sample_ids\", \"mutation\": \"class\"})\n",
    "    .with_columns(pl.col(\"class\") - 1)\n",
    "    .filter(pl.col(\"class\") != -1)\n",
    ")\n",
    "\n",
    "# samples to select - samples where class != -1\n",
    "y"
   ]
  },
  {
   "cell_type": "code",
   "execution_count": 32,
   "metadata": {},
   "outputs": [],
   "source": [
    "preprocessed_data_folder = \"mds_data/preprocessed_74\"\n",
    "output_dir = \"mds_data/splits_74_mutation\""
   ]
  },
  {
   "cell_type": "code",
   "execution_count": 33,
   "metadata": {},
   "outputs": [
    {
     "name": "stdout",
     "output_type": "stream",
     "text": [
      "Kept 26 samples out of 74\n"
     ]
    },
    {
     "name": "stderr",
     "output_type": "stream",
     "text": [
      "100%|██████████| 200/200 [00:23<00:00,  8.69it/s]?fold/s]\n",
      "100%|██████████| 200/200 [00:23<00:00,  8.50it/s]34, 23.52s/fold]\n",
      "100%|██████████| 200/200 [00:22<00:00,  8.76it/s]11, 23.84s/fold]\n",
      "100%|██████████| 200/200 [00:22<00:00,  8.78it/s]47, 23.66s/fold]\n",
      "100%|██████████| 200/200 [00:22<00:00,  8.77it/s]23, 23.51s/fold]\n",
      "Processing folds: 100%|██████████| 5/5 [01:57<00:00, 23.52s/fold]\n"
     ]
    }
   ],
   "source": [
    "mrna = pl.read_csv(preprocessed_data_folder + \"/mrna.csv\")\n",
    "\n",
    "OmicDataSplitter(\n",
    "    df=mrna,\n",
    "    annotation_cols=[\"GENE_ID\", \"GENE_NAME\"],\n",
    "    y_df=y,\n",
    "    n_features=200,\n",
    "    n_splits=5,\n",
    "    random_state=3,\n",
    "    output_dir=output_dir + \"/mrna\",\n",
    ").process_data()"
   ]
  },
  {
   "cell_type": "code",
   "execution_count": 34,
   "metadata": {},
   "outputs": [
    {
     "name": "stdout",
     "output_type": "stream",
     "text": [
      "Only 26 samples out of 74 found in y_df\n"
     ]
    },
    {
     "name": "stderr",
     "output_type": "stream",
     "text": [
      "100%|██████████| 200/200 [00:04<00:00, 46.89it/s]?fold/s]\n",
      "100%|██████████| 200/200 [00:04<00:00, 47.32it/s]17,  4.36s/fold]\n",
      "100%|██████████| 200/200 [00:04<00:00, 46.82it/s]13,  4.34s/fold]\n",
      "100%|██████████| 200/200 [00:04<00:00, 46.83it/s]08,  4.34s/fold]\n",
      "100%|██████████| 200/200 [00:04<00:00, 45.02it/s]04,  4.35s/fold]\n",
      "Processing folds: 100%|██████████| 5/5 [00:21<00:00,  4.38s/fold]\n"
     ]
    }
   ],
   "source": [
    "mirna = pl.read_csv(\"mds_data/preprocessed_74/mirna_genes.csv\")\n",
    "\n",
    "OmicDataSplitter(\n",
    "    df=mirna,\n",
    "    annotation_cols=[\"GENE_ID\", \"GENE_NAME\"],\n",
    "    y_df=y,\n",
    "    n_features=200,\n",
    "    n_splits=5,\n",
    "    random_state=3,\n",
    "    output_dir=output_dir + \"/mirna_genes\",\n",
    ").process_data()"
   ]
  },
  {
   "cell_type": "code",
   "execution_count": null,
   "metadata": {},
   "outputs": [],
   "source": [
    "mirna = pl.read_csv(\"mds_data/preprocessed_74/mirna.csv\")\n",
    "\n",
    "OmicDataSplitter(\n",
    "    df=mirna,\n",
    "    annotation_cols=[\"miRNA\"],\n",
    "    y_df=y,\n",
    "    n_features=200,\n",
    "    n_splits=5,\n",
    "    random_state=3,\n",
    "    output_dir=output_dir + \"/mirna\",\n",
    ").process_data()"
   ]
  },
  {
   "cell_type": "code",
   "execution_count": 35,
   "metadata": {},
   "outputs": [
    {
     "name": "stdout",
     "output_type": "stream",
     "text": [
      "Only 26 samples out of 74 found in y_df\n"
     ]
    },
    {
     "name": "stderr",
     "output_type": "stream",
     "text": [
      "100%|██████████| 200/200 [00:06<00:00, 28.94it/s]?fold/s]\n",
      "100%|██████████| 200/200 [00:06<00:00, 28.91it/s]28,  7.03s/fold]\n",
      "100%|██████████| 200/200 [00:06<00:00, 29.04it/s]21,  7.04s/fold]\n",
      "100%|██████████| 200/200 [00:06<00:00, 29.02it/s]14,  7.03s/fold]\n",
      "100%|██████████| 200/200 [00:06<00:00, 28.95it/s]07,  7.02s/fold]\n",
      "Processing folds: 100%|██████████| 5/5 [00:35<00:00,  7.02s/fold]\n"
     ]
    }
   ],
   "source": [
    "circrna = pl.read_csv(\"mds_data/preprocessed_74/circrna.csv\")\n",
    "\n",
    "# fill the null ids with unknown id n -> this should be added to the preprocessing before\n",
    "circrna_ids = circrna[\"circRNA_ID\"]\n",
    "unknown_id = 0\n",
    "for i in range(len(circrna_ids)):\n",
    "    if not circrna_ids[i]:\n",
    "        circrna_ids[i] = f\"unknown_id_{unknown_id}\"\n",
    "        unknown_id += 1\n",
    "circrna = circrna.with_columns(pl.Series(\"circRNA_ID\", circrna_ids))\n",
    "\n",
    "ods = OmicDataSplitter(\n",
    "    df=circrna,\n",
    "    annotation_cols=[\"circRNA_ID\", \"GENE_ID\", \"GENE_TYPE\", \"GENE_NAME\", \"STRAND\"],\n",
    "    y_df=y,\n",
    "    n_features=200,\n",
    "    n_splits=5,\n",
    "    random_state=3,\n",
    "    output_dir=output_dir + \"/circrna\",\n",
    ")\n",
    "ods.process_data()"
   ]
  },
  {
   "cell_type": "code",
   "execution_count": null,
   "metadata": {},
   "outputs": [],
   "source": [
    "pirna = pl.read_csv(\"mds_data/preprocessed/pirna.csv\")\n",
    "\n",
    "OmicDataSplitter(\n",
    "    df=pirna,\n",
    "    annotation_cols=[\"piRNA_name\", \"piRNA_id\"],\n",
    "    y_df=y,\n",
    "    n_features=150,\n",
    "    n_splits=5,\n",
    "    random_state=3,\n",
    "    output_dir=output_dir + \"/pirna\",\n",
    ").process_data()"
   ]
  },
  {
   "cell_type": "code",
   "execution_count": 36,
   "metadata": {},
   "outputs": [
    {
     "name": "stdout",
     "output_type": "stream",
     "text": [
      "Only 26 samples out of 74 found in y_df\n"
     ]
    },
    {
     "name": "stderr",
     "output_type": "stream",
     "text": [
      "100%|██████████| 200/200 [00:06<00:00, 31.53it/s]?fold/s]\n",
      "100%|██████████| 200/200 [00:06<00:00, 31.12it/s]25,  6.49s/fold]\n",
      "100%|██████████| 200/200 [00:06<00:00, 30.51it/s]19,  6.51s/fold]\n",
      "100%|██████████| 200/200 [00:06<00:00, 31.06it/s]13,  6.58s/fold]\n",
      "100%|██████████| 200/200 [00:06<00:00, 30.83it/s]06,  6.57s/fold]\n",
      "Processing folds: 100%|██████████| 5/5 [00:32<00:00,  6.56s/fold]\n"
     ]
    }
   ],
   "source": [
    "te = pl.read_csv(\"mds_data/preprocessed_74/te_counts.csv\")\n",
    "te\n",
    "\n",
    "OmicDataSplitter(\n",
    "    df=te,\n",
    "    annotation_cols=[\"TE\"],\n",
    "    y_df=y,\n",
    "    n_features=200,\n",
    "    n_splits=5,\n",
    "    random_state=3,\n",
    "    output_dir=output_dir + \"/te_counts\",\n",
    ").process_data()"
   ]
  }
 ],
 "metadata": {
  "kernelspec": {
   "display_name": ".venv",
   "language": "python",
   "name": "python3"
  },
  "language_info": {
   "codemirror_mode": {
    "name": "ipython",
    "version": 3
   },
   "file_extension": ".py",
   "mimetype": "text/x-python",
   "name": "python",
   "nbconvert_exporter": "python",
   "pygments_lexer": "ipython3",
   "version": "3.12.7"
  }
 },
 "nbformat": 4,
 "nbformat_minor": 2
}
