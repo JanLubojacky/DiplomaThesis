{
 "cells": [
  {
   "cell_type": "markdown",
   "metadata": {},
   "source": [
    "# Feature selection and data splitting for mds data "
   ]
  },
  {
   "cell_type": "code",
   "execution_count": 1,
   "metadata": {},
   "outputs": [],
   "source": [
    "%load_ext autoreload\n",
    "%autoreload 2\n",
    "\n",
    "import polars as pl\n",
    "\n",
    "from src.data_preprocessing import OmicDataSplitter"
   ]
  },
  {
   "cell_type": "code",
   "execution_count": 3,
   "metadata": {},
   "outputs": [
    {
     "data": {
      "text/html": [
       "<div><style>\n",
       ".dataframe > thead > tr,\n",
       ".dataframe > tbody > tr {\n",
       "  text-align: right;\n",
       "  white-space: pre-wrap;\n",
       "}\n",
       "</style>\n",
       "<small>shape: (74, 2)</small><table border=\"1\" class=\"dataframe\"><thead><tr><th>sample_ids</th><th>class</th></tr><tr><td>str</td><td>i64</td></tr></thead><tbody><tr><td>&quot;N54&quot;</td><td>0</td></tr><tr><td>&quot;N58&quot;</td><td>0</td></tr><tr><td>&quot;N60&quot;</td><td>0</td></tr><tr><td>&quot;N70&quot;</td><td>0</td></tr><tr><td>&quot;N82&quot;</td><td>0</td></tr><tr><td>&hellip;</td><td>&hellip;</td></tr><tr><td>&quot;V806&quot;</td><td>1</td></tr><tr><td>&quot;V839&quot;</td><td>1</td></tr><tr><td>&quot;V883&quot;</td><td>1</td></tr><tr><td>&quot;V888&quot;</td><td>1</td></tr><tr><td>&quot;V940&quot;</td><td>1</td></tr></tbody></table></div>"
      ],
      "text/plain": [
       "shape: (74, 2)\n",
       "┌────────────┬───────┐\n",
       "│ sample_ids ┆ class │\n",
       "│ ---        ┆ ---   │\n",
       "│ str        ┆ i64   │\n",
       "╞════════════╪═══════╡\n",
       "│ N54        ┆ 0     │\n",
       "│ N58        ┆ 0     │\n",
       "│ N60        ┆ 0     │\n",
       "│ N70        ┆ 0     │\n",
       "│ N82        ┆ 0     │\n",
       "│ …          ┆ …     │\n",
       "│ V806       ┆ 1     │\n",
       "│ V839       ┆ 1     │\n",
       "│ V883       ┆ 1     │\n",
       "│ V888       ┆ 1     │\n",
       "│ V940       ┆ 1     │\n",
       "└────────────┴───────┘"
      ]
     },
     "execution_count": 3,
     "metadata": {},
     "output_type": "execute_result"
    }
   ],
   "source": [
    "y = pl.read_csv(\"mds_data/preprocessed_74/annotations_74.csv\")\n",
    "\n",
    "y = (\n",
    "    y.select(\"SAMPLE_ID\", \"disease\")\n",
    "    .rename({\"SAMPLE_ID\": \"sample_ids\", \"disease\": \"class\"})\n",
    "    .with_columns(pl.col(\"class\") - 1)\n",
    ")\n",
    "y"
   ]
  },
  {
   "cell_type": "code",
   "execution_count": 4,
   "metadata": {},
   "outputs": [
    {
     "name": "stderr",
     "output_type": "stream",
     "text": [
      "100%|██████████| 200/200 [00:22<00:00,  8.72it/s]?fold/s]\n",
      "100%|██████████| 200/200 [00:22<00:00,  8.72it/s]39, 24.77s/fold]\n",
      "100%|██████████| 200/200 [00:23<00:00,  8.63it/s]12, 24.02s/fold]\n",
      "100%|██████████| 200/200 [00:22<00:00,  8.75it/s]47, 23.87s/fold]\n",
      "100%|██████████| 200/200 [00:22<00:00,  8.82it/s]23, 23.66s/fold]\n",
      "Processing folds: 100%|██████████| 5/5 [01:58<00:00, 23.70s/fold]\n"
     ]
    }
   ],
   "source": [
    "mrna = pl.read_csv(\"mds_data/preprocessed_74/mrna.csv\")\n",
    "\n",
    "OmicDataSplitter(\n",
    "    df=mrna,\n",
    "    annotation_cols=[\"GENE_ID\", \"GENE_NAME\"],\n",
    "    y_df=y,\n",
    "    n_features=200,\n",
    "    n_splits=5,\n",
    "    random_state=3,\n",
    "    output_dir=\"mds_data/splits_74/mrna\",\n",
    ").process_data()"
   ]
  },
  {
   "cell_type": "code",
   "execution_count": 5,
   "metadata": {},
   "outputs": [
    {
     "name": "stderr",
     "output_type": "stream",
     "text": [
      "100%|██████████| 200/200 [00:04<00:00, 48.49it/s]?fold/s]\n",
      "100%|██████████| 200/200 [00:04<00:00, 49.30it/s]16,  4.22s/fold]\n",
      "100%|██████████| 200/200 [00:04<00:00, 48.67it/s]12,  4.17s/fold]\n",
      "100%|██████████| 200/200 [00:04<00:00, 47.95it/s]08,  4.18s/fold]\n",
      "100%|██████████| 200/200 [00:04<00:00, 48.95it/s]04,  4.21s/fold]\n",
      "Processing folds: 100%|██████████| 5/5 [00:20<00:00,  4.19s/fold]\n"
     ]
    }
   ],
   "source": [
    "mirna = pl.read_csv(\"mds_data/preprocessed_74/mirna_genes.csv\")\n",
    "\n",
    "OmicDataSplitter(\n",
    "    df=mirna,\n",
    "    annotation_cols=[\"GENE_ID\", \"GENE_NAME\"],\n",
    "    y_df=y,\n",
    "    n_features=200,\n",
    "    n_splits=5,\n",
    "    random_state=3,\n",
    "    output_dir=\"mds_data/splits_74/mirna_genes\",\n",
    ").process_data()"
   ]
  },
  {
   "cell_type": "code",
   "execution_count": null,
   "metadata": {},
   "outputs": [],
   "source": [
    "mirna = pl.read_csv(\"mds_data/preprocessed_74/mirna.csv\")\n",
    "\n",
    "OmicDataSplitter(\n",
    "    df=mirna,\n",
    "    annotation_cols=[\"miRNA\"],\n",
    "    y_df=y,\n",
    "    n_features=200,\n",
    "    n_splits=5,\n",
    "    random_state=3,\n",
    "    output_dir=\"mds_data/splits_74/mirna\",\n",
    ").process_data()"
   ]
  },
  {
   "cell_type": "code",
   "execution_count": null,
   "metadata": {},
   "outputs": [
    {
     "name": "stderr",
     "output_type": "stream",
     "text": [
      "100%|██████████| 200/200 [00:06<00:00, 29.09it/s]?fold/s]\n",
      "100%|██████████| 200/200 [00:06<00:00, 29.01it/s]28,  7.03s/fold]\n",
      "100%|██████████| 200/200 [00:06<00:00, 29.35it/s]21,  7.02s/fold]\n",
      "100%|██████████| 200/200 [00:06<00:00, 29.34it/s]13,  6.99s/fold]\n",
      "100%|██████████| 200/200 [00:06<00:00, 29.16it/s]06,  6.97s/fold]\n",
      "Processing folds: 100%|██████████| 5/5 [00:34<00:00,  6.98s/fold]\n"
     ]
    }
   ],
   "source": [
    "circrna = pl.read_csv(\"mds_data/preprocessed_74/circrna.csv\")\n",
    "\n",
    "# fill the null ids with unknown id n -> this should be added to the preprocessing before\n",
    "circrna_ids = circrna[\"circRNA_ID\"]\n",
    "unknown_id = 0\n",
    "for i in range(len(circrna_ids)):\n",
    "    if not circrna_ids[i]:\n",
    "        circrna_ids[i] = f\"unknown_id_{unknown_id}\"\n",
    "        unknown_id += 1\n",
    "circrna = circrna.with_columns(pl.Series(\"circRNA_ID\", circrna_ids))\n",
    "\n",
    "ods = OmicDataSplitter(\n",
    "    df=circrna,\n",
    "    annotation_cols=[\"circRNA_ID\", \"GENE_ID\", \"GENE_TYPE\", \"GENE_NAME\", \"STRAND\"],\n",
    "    y_df=y,\n",
    "    n_features=200,\n",
    "    n_splits=5,\n",
    "    random_state=3,\n",
    "    output_dir=\"mds_data/splits_74/circrna\",\n",
    ")\n",
    "ods.process_data()"
   ]
  },
  {
   "cell_type": "code",
   "execution_count": 51,
   "metadata": {},
   "outputs": [
    {
     "name": "stdout",
     "output_type": "stream",
     "text": [
      "[[ 8.45542275  5.56947475  5.2958623  ...  6.67494918 18.6346163\n",
      "  11.93145659]\n",
      " [ 9.37331964  7.20165321  7.32284885 ...  6.70323076 18.91790228\n",
      "  10.79516624]\n",
      " [ 9.0753424   6.19631102  6.1150057  ...  6.66472286 18.63644873\n",
      "  11.38865747]\n",
      " ...\n",
      " [ 8.13573063  6.29115214  7.41039954 ...  6.92836094 18.59323893\n",
      "  11.52812814]\n",
      " [ 8.93068584  6.59591563  5.5479645  ...  7.58843909 18.6691824\n",
      "  11.87951857]\n",
      " [12.19174384  7.59227334  8.33926107 ...  8.03773732 17.56803802\n",
      "  13.79078395]]\n",
      "['hsa_piR_020485', 'hsa_piR_013624', 'hsa_piR_008488', 'hsa_piR_014629', 'hsa_piR_020008', 'hsa_piR_000651', 'hsa_piR_001184', 'hsa_piR_007635', 'hsa_piR_000775', 'hsa_piR_001318', 'hsa_piR_002485', 'hsa_piR_020381', 'hsa_piR_016926', 'hsa_piR_018849', 'hsa_piR_015249', 'hsa_piR_019675', 'hsa_piR_000753', 'hsa_piR_014620', 'hsa_piR_018573', 'hsa_piR_019324', 'hsa_piR_001169', 'hsa_piR_016659', 'hsa_piR_001356', 'hsa_piR_016735', 'hsa_piR_020490', 'hsa_piR_019420', 'hsa_piR_014923', 'hsa_piR_000552', 'hsa_piR_009228', 'hsa_piR_001168', 'hsa_piR_020668', 'hsa_piR_007979', 'hsa_piR_019168', 'hsa_piR_009294', 'hsa_piR_018165', 'hsa_piR_017936', 'hsa_piR_019368', 'hsa_piR_001040', 'hsa_piR_012374', 'hsa_piR_017194', 'hsa_piR_004801', 'hsa_piR_009265', 'hsa_piR_020828', 'hsa_piR_004309', 'hsa_piR_009051', 'hsa_piR_020548', 'hsa_piR_015800', 'hsa_piR_016374', 'hsa_piR_019752', 'hsa_piR_018292', 'hsa_piR_020497', 'hsa_piR_017724', 'hsa_piR_020541', 'hsa_piR_001346', 'hsa_piR_011187', 'hsa_piR_017178', 'hsa_piR_017138', 'hsa_piR_016658', 'hsa_piR_010023', 'hsa_piR_020619', 'hsa_piR_017716', 'hsa_piR_021121', 'hsa_piR_000560', 'hsa_piR_009502', 'hsa_piR_006426', 'hsa_piR_009295', 'hsa_piR_009981', 'hsa_piR_015149', 'hsa_piR_000823', 'hsa_piR_019825', 'hsa_piR_019951', 'hsa_piR_013194', 'hsa_piR_013306', 'hsa_piR_004153', 'hsa_piR_020813', 'hsa_piR_000586', 'hsa_piR_001159', 'hsa_piR_019822', 'hsa_piR_021462', 'hsa_piR_017458', 'hsa_piR_022628', 'hsa_piR_019912', 'hsa_piR_016677', 'hsa_piR_022296', 'hsa_piR_004918', 'hsa_piR_020500', 'hsa_piR_019914', 'hsa_piR_000805', 'hsa_piR_001207', 'hsa_piR_017318', 'hsa_piR_017104', 'hsa_piR_020499', 'hsa_piR_016984', 'hsa_piR_013855', 'hsa_piR_016745', 'hsa_piR_020362', 'hsa_piR_014636', 'hsa_piR_017033', 'hsa_piR_004152', 'hsa_piR_004721', 'hsa_piR_008983', 'hsa_piR_005271', 'hsa_piR_010431', 'hsa_piR_017723', 'hsa_piR_001918', 'hsa_piR_005799', 'hsa_piR_019824', 'hsa_piR_002158', 'hsa_piR_000794', 'hsa_piR_016970', 'hsa_piR_002852', 'hsa_piR_004308', 'hsa_piR_014959', 'hsa_piR_019911', 'hsa_piR_010894', 'hsa_piR_019050', 'hsa_piR_014626', 'hsa_piR_020364', 'hsa_piR_020401', 'hsa_piR_004307', 'hsa_piR_020829', 'hsa_piR_016742', 'hsa_piR_001107', 'hsa_piR_017061', 'hsa_piR_022017', 'hsa_piR_000796', 'hsa_piR_020326', 'hsa_piR_016271', 'hsa_piR_020439', 'hsa_piR_018780', 'hsa_piR_015026', 'hsa_piR_002468', 'hsa_piR_010541', 'hsa_piR_020365', 'hsa_piR_009895', 'hsa_piR_000441', 'hsa_piR_004987', 'hsa_piR_001042', 'hsa_piR_020657', 'hsa_piR_007832', 'hsa_piR_019676', 'hsa_piR_011188', 'hsa_piR_015150', 'hsa_piR_020815', 'hsa_piR_001101', 'hsa_piR_023338', 'hsa_piR_012753', 'hsa_piR_002441', 'hsa_piR_001152', 'hsa_piR_008114', 'hsa_piR_000765', 'hsa_piR_013745', 'hsa_piR_016792', 'hsa_piR_001311', 'hsa_piR_020388', 'hsa_piR_018569', 'hsa_piR_020814', 'hsa_piR_020450', 'hsa_piR_010024', 'hsa_piR_019179', 'hsa_piR_016945', 'hsa_piR_017791', 'hsa_piR_006465', 'hsa_piR_009154', 'hsa_piR_000045', 'hsa_piR_001312', 'hsa_piR_021032', 'hsa_piR_019544', 'hsa_piR_009901', 'hsa_piR_018570', 'hsa_piR_020496', 'hsa_piR_016946', 'hsa_piR_012681', 'hsa_piR_020009', 'hsa_piR_004962', 'hsa_piR_008113', 'hsa_piR_004271', 'hsa_piR_008112', 'hsa_piR_001170']\n"
     ]
    },
    {
     "name": "stderr",
     "output_type": "stream",
     "text": [
      "100%|██████████| 150/150 [00:02<00:00, 62.37it/s]?fold/s]\n",
      "100%|██████████| 150/150 [00:02<00:00, 60.31it/s]09,  2.46s/fold]\n",
      "100%|██████████| 150/150 [00:02<00:00, 62.74it/s]07,  2.50s/fold]\n",
      "100%|██████████| 150/150 [00:02<00:00, 62.19it/s]04,  2.47s/fold]\n",
      "100%|██████████| 150/150 [00:02<00:00, 61.68it/s]02,  2.47s/fold]\n",
      "Processing folds: 100%|██████████| 5/5 [00:12<00:00,  2.47s/fold]\n"
     ]
    }
   ],
   "source": [
    "pirna = pl.read_csv(\"mds_data/preprocessed/pirna.csv\")\n",
    "\n",
    "OmicDataSplitter(\n",
    "    df=pirna,\n",
    "    annotation_cols=[\"piRNA_name\", \"piRNA_id\"],\n",
    "    y_df=y,\n",
    "    n_features=150,\n",
    "    n_splits=5,\n",
    "    random_state=3,\n",
    "    output_dir=\"mds_data/splits/pirna\",\n",
    ").process_data()"
   ]
  },
  {
   "cell_type": "code",
   "execution_count": 7,
   "metadata": {},
   "outputs": [
    {
     "name": "stderr",
     "output_type": "stream",
     "text": [
      "100%|██████████| 200/200 [00:06<00:00, 31.84it/s]?fold/s]\n",
      "100%|██████████| 200/200 [00:06<00:00, 31.61it/s]25,  6.42s/fold]\n",
      "100%|██████████| 200/200 [00:06<00:00, 31.54it/s]19,  6.44s/fold]\n",
      "100%|██████████| 200/200 [00:06<00:00, 31.90it/s]12,  6.45s/fold]\n",
      "100%|██████████| 200/200 [00:06<00:00, 31.23it/s]06,  6.42s/fold]\n",
      "Processing folds: 100%|██████████| 5/5 [00:32<00:00,  6.44s/fold]\n"
     ]
    }
   ],
   "source": [
    "te = pl.read_csv(\"mds_data/preprocessed_74/te_counts.csv\")\n",
    "te\n",
    "\n",
    "OmicDataSplitter(\n",
    "    df=te,\n",
    "    annotation_cols=[\"TE\"],\n",
    "    y_df=y,\n",
    "    n_features=200,\n",
    "    n_splits=5,\n",
    "    random_state=3,\n",
    "    output_dir=\"mds_data/splits_74/te_counts\",\n",
    ").process_data()"
   ]
  }
 ],
 "metadata": {
  "kernelspec": {
   "display_name": ".venv",
   "language": "python",
   "name": "python3"
  },
  "language_info": {
   "codemirror_mode": {
    "name": "ipython",
    "version": 3
   },
   "file_extension": ".py",
   "mimetype": "text/x-python",
   "name": "python",
   "nbconvert_exporter": "python",
   "pygments_lexer": "ipython3",
   "version": "3.12.7"
  }
 },
 "nbformat": 4,
 "nbformat_minor": 2
}
