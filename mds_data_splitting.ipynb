{
 "cells": [
  {
   "cell_type": "markdown",
   "metadata": {},
   "source": [
    "# Feature selection and data splitting for mds data "
   ]
  },
  {
   "cell_type": "code",
   "execution_count": 26,
   "metadata": {},
   "outputs": [
    {
     "name": "stdout",
     "output_type": "stream",
     "text": [
      "The autoreload extension is already loaded. To reload it, use:\n",
      "  %reload_ext autoreload\n"
     ]
    }
   ],
   "source": [
    "%load_ext autoreload\n",
    "%autoreload 2\n",
    "\n",
    "import numpy as np\n",
    "import polars as pl\n",
    "from sklearn.model_selection import StratifiedKFold\n",
    "\n",
    "from src.data_preprocessing import OmicDataSplitter"
   ]
  },
  {
   "cell_type": "code",
   "execution_count": 2,
   "metadata": {},
   "outputs": [
    {
     "data": {
      "text/html": [
       "<div><style>\n",
       ".dataframe > thead > tr,\n",
       ".dataframe > tbody > tr {\n",
       "  text-align: right;\n",
       "  white-space: pre-wrap;\n",
       "}\n",
       "</style>\n",
       "<small>shape: (66, 2)</small><table border=\"1\" class=\"dataframe\"><thead><tr><th>sample_ids</th><th>class</th></tr><tr><td>str</td><td>i64</td></tr></thead><tbody><tr><td>&quot;N58&quot;</td><td>0</td></tr><tr><td>&quot;N60&quot;</td><td>0</td></tr><tr><td>&quot;N70&quot;</td><td>0</td></tr><tr><td>&quot;N82&quot;</td><td>0</td></tr><tr><td>&quot;N83&quot;</td><td>0</td></tr><tr><td>&hellip;</td><td>&hellip;</td></tr><tr><td>&quot;V806&quot;</td><td>1</td></tr><tr><td>&quot;V839&quot;</td><td>1</td></tr><tr><td>&quot;V883&quot;</td><td>1</td></tr><tr><td>&quot;V888&quot;</td><td>1</td></tr><tr><td>&quot;V940&quot;</td><td>1</td></tr></tbody></table></div>"
      ],
      "text/plain": [
       "shape: (66, 2)\n",
       "┌────────────┬───────┐\n",
       "│ sample_ids ┆ class │\n",
       "│ ---        ┆ ---   │\n",
       "│ str        ┆ i64   │\n",
       "╞════════════╪═══════╡\n",
       "│ N58        ┆ 0     │\n",
       "│ N60        ┆ 0     │\n",
       "│ N70        ┆ 0     │\n",
       "│ N82        ┆ 0     │\n",
       "│ N83        ┆ 0     │\n",
       "│ …          ┆ …     │\n",
       "│ V806       ┆ 1     │\n",
       "│ V839       ┆ 1     │\n",
       "│ V883       ┆ 1     │\n",
       "│ V888       ┆ 1     │\n",
       "│ V940       ┆ 1     │\n",
       "└────────────┴───────┘"
      ]
     },
     "execution_count": 2,
     "metadata": {},
     "output_type": "execute_result"
    }
   ],
   "source": [
    "y = pl.read_csv(\"mds_data/preprocessed/annotations_66.csv\")\n",
    "\n",
    "y = (\n",
    "    y.select(\"SAMPLE_ID\", \"disease\")\n",
    "    .rename({\"SAMPLE_ID\": \"sample_ids\", \"disease\": \"class\"})\n",
    "    .with_columns(pl.col(\"class\") - 1)\n",
    ")\n",
    "y"
   ]
  },
  {
   "cell_type": "code",
   "execution_count": 3,
   "metadata": {},
   "outputs": [
    {
     "data": {
      "text/html": [
       "<div><style>\n",
       ".dataframe > thead > tr,\n",
       ".dataframe > tbody > tr {\n",
       "  text-align: right;\n",
       "  white-space: pre-wrap;\n",
       "}\n",
       "</style>\n",
       "<small>shape: (3_000, 68)</small><table border=\"1\" class=\"dataframe\"><thead><tr><th>GENE_ID</th><th>GENE_NAME</th><th>N58</th><th>N60</th><th>N70</th><th>N82</th><th>N83</th><th>N84</th><th>N85</th><th>V1048</th><th>V108</th><th>V1090</th><th>V125</th><th>V1279</th><th>V1297</th><th>V1321</th><th>V1337</th><th>V1394</th><th>V1441</th><th>V1456</th><th>V148</th><th>V1505</th><th>V1528</th><th>V1565</th><th>V1591</th><th>V1592</th><th>V1699</th><th>V1708</th><th>V1742</th><th>V1776</th><th>V1788</th><th>V18</th><th>V1800</th><th>V1823</th><th>V1834</th><th>V1857</th><th>V1860</th><th>V1874</th><th>V1884</th><th>V1920</th><th>V1921</th><th>V2089</th><th>V2092</th><th>V2110</th><th>V2133</th><th>V221</th><th>V344</th><th>V359</th><th>V406</th><th>V456</th><th>V513</th><th>V538</th><th>V553</th><th>V574</th><th>V624</th><th>V630</th><th>V637</th><th>V655</th><th>V67</th><th>V712</th><th>V714</th><th>V716</th><th>V777</th><th>V806</th><th>V839</th><th>V883</th><th>V888</th><th>V940</th></tr><tr><td>str</td><td>str</td><td>f64</td><td>f64</td><td>f64</td><td>f64</td><td>f64</td><td>f64</td><td>f64</td><td>f64</td><td>f64</td><td>f64</td><td>f64</td><td>f64</td><td>f64</td><td>f64</td><td>f64</td><td>f64</td><td>f64</td><td>f64</td><td>f64</td><td>f64</td><td>f64</td><td>f64</td><td>f64</td><td>f64</td><td>f64</td><td>f64</td><td>f64</td><td>f64</td><td>f64</td><td>f64</td><td>f64</td><td>f64</td><td>f64</td><td>f64</td><td>f64</td><td>f64</td><td>f64</td><td>f64</td><td>f64</td><td>f64</td><td>f64</td><td>f64</td><td>f64</td><td>f64</td><td>f64</td><td>f64</td><td>f64</td><td>f64</td><td>f64</td><td>f64</td><td>f64</td><td>f64</td><td>f64</td><td>f64</td><td>f64</td><td>f64</td><td>f64</td><td>f64</td><td>f64</td><td>f64</td><td>f64</td><td>f64</td><td>f64</td><td>f64</td><td>f64</td><td>f64</td></tr></thead><tbody><tr><td>&quot;ENSG00000103184&quot;</td><td>&quot;SEC14L5&quot;</td><td>4.574155</td><td>7.288239</td><td>3.561246</td><td>2.897224</td><td>3.615696</td><td>4.057362</td><td>2.203009</td><td>4.398603</td><td>3.467058</td><td>3.657675</td><td>4.619424</td><td>1.507977</td><td>4.809069</td><td>4.749144</td><td>2.146183</td><td>2.66225</td><td>3.555635</td><td>0.714897</td><td>2.010324</td><td>6.268556</td><td>5.914118</td><td>4.018251</td><td>6.781959</td><td>4.900504</td><td>3.481129</td><td>3.767197</td><td>5.167452</td><td>1.631362</td><td>5.933825</td><td>4.945851</td><td>0.444571</td><td>2.734007</td><td>4.452827</td><td>5.877369</td><td>6.07671</td><td>3.343197</td><td>6.156233</td><td>2.993291</td><td>5.727105</td><td>1.36271</td><td>5.001145</td><td>5.516594</td><td>6.915722</td><td>3.82929</td><td>3.319966</td><td>6.938185</td><td>5.118215</td><td>1.629126</td><td>5.885573</td><td>5.003287</td><td>2.039422</td><td>10.53412</td><td>2.297346</td><td>4.097657</td><td>3.891976</td><td>4.604959</td><td>5.844351</td><td>3.188559</td><td>1.986391</td><td>2.357737</td><td>3.549326</td><td>5.252131</td><td>3.976603</td><td>5.670529</td><td>4.456624</td><td>4.897539</td></tr><tr><td>&quot;ENSG00000119862&quot;</td><td>&quot;LGALSL&quot;</td><td>7.455039</td><td>8.479401</td><td>6.306391</td><td>3.321911</td><td>6.188541</td><td>5.979059</td><td>5.223318</td><td>6.5576</td><td>6.140982</td><td>7.953992</td><td>6.599124</td><td>5.548295</td><td>8.013039</td><td>7.647353</td><td>4.956439</td><td>6.928581</td><td>5.090716</td><td>6.687677</td><td>5.006865</td><td>9.311978</td><td>8.342994</td><td>6.413821</td><td>9.084263</td><td>6.776719</td><td>5.304247</td><td>6.598114</td><td>6.798145</td><td>4.599317</td><td>8.505406</td><td>6.422409</td><td>2.381453</td><td>6.143426</td><td>5.936016</td><td>8.052438</td><td>7.556633</td><td>6.799104</td><td>7.551962</td><td>6.284811</td><td>7.092467</td><td>3.705927</td><td>6.91619</td><td>6.314894</td><td>6.214188</td><td>5.860457</td><td>5.514356</td><td>8.538408</td><td>7.514117</td><td>6.082184</td><td>9.708378</td><td>6.616514</td><td>4.57679</td><td>12.548</td><td>5.836737</td><td>6.590203</td><td>6.043704</td><td>7.598248</td><td>7.729715</td><td>6.108103</td><td>5.62265</td><td>5.729892</td><td>5.977239</td><td>6.672379</td><td>6.838144</td><td>7.450425</td><td>6.055094</td><td>6.88753</td></tr><tr><td>&quot;ENSG00000115461&quot;</td><td>&quot;IGFBP5&quot;</td><td>1.531313</td><td>4.93984</td><td>1.589817</td><td>3.596918</td><td>4.221713</td><td>5.694364</td><td>4.633449</td><td>7.55643</td><td>2.906119</td><td>6.264272</td><td>4.300236</td><td>4.642322</td><td>5.192593</td><td>5.82839</td><td>3.354076</td><td>6.16894</td><td>3.134675</td><td>4.718852</td><td>8.624212</td><td>3.38863</td><td>3.416752</td><td>8.240399</td><td>6.652194</td><td>7.699936</td><td>4.466548</td><td>3.895035</td><td>8.655896</td><td>4.393156</td><td>3.639881</td><td>5.553176</td><td>2.653826</td><td>6.227905</td><td>6.201601</td><td>9.962816</td><td>5.073338</td><td>4.806445</td><td>4.322065</td><td>3.59729</td><td>4.244579</td><td>4.54983</td><td>5.835025</td><td>6.82944</td><td>7.039622</td><td>4.689163</td><td>3.702583</td><td>6.163571</td><td>2.613793</td><td>2.308573</td><td>3.431658</td><td>4.664411</td><td>3.645008</td><td>4.07661</td><td>4.614307</td><td>5.113326</td><td>2.241138</td><td>3.67498</td><td>11.902128</td><td>2.718183</td><td>2.048483</td><td>1.477194</td><td>4.562139</td><td>6.748317</td><td>2.710774</td><td>4.358541</td><td>5.20171</td><td>6.416449</td></tr><tr><td>&quot;ENSG00000137801&quot;</td><td>&quot;THBS1&quot;</td><td>10.787846</td><td>12.452547</td><td>9.390428</td><td>7.256898</td><td>9.546596</td><td>9.807684</td><td>8.395226</td><td>10.564428</td><td>9.994399</td><td>10.93104</td><td>10.041629</td><td>8.696442</td><td>11.235067</td><td>10.286238</td><td>7.73148</td><td>9.966976</td><td>10.189488</td><td>11.291271</td><td>8.163448</td><td>12.26609</td><td>11.428713</td><td>9.155845</td><td>12.369392</td><td>8.678094</td><td>8.537479</td><td>11.617824</td><td>10.461017</td><td>7.391252</td><td>11.719449</td><td>8.622247</td><td>6.537787</td><td>9.79737</td><td>9.035041</td><td>11.235494</td><td>11.164126</td><td>9.850056</td><td>10.290641</td><td>7.654049</td><td>11.137592</td><td>4.781831</td><td>10.478594</td><td>10.905235</td><td>9.504674</td><td>9.022241</td><td>8.020058</td><td>12.340003</td><td>9.573093</td><td>9.417571</td><td>11.567134</td><td>10.372583</td><td>7.060916</td><td>15.367104</td><td>8.483557</td><td>10.596553</td><td>8.780714</td><td>9.818366</td><td>11.521034</td><td>6.721186</td><td>6.61051</td><td>9.027454</td><td>7.719915</td><td>10.210917</td><td>10.274893</td><td>10.805033</td><td>10.464737</td><td>10.704895</td></tr><tr><td>&quot;ENSG00000173083&quot;</td><td>&quot;HPSE&quot;</td><td>6.935416</td><td>7.987946</td><td>7.20935</td><td>5.125137</td><td>6.211795</td><td>5.990862</td><td>5.462574</td><td>6.413457</td><td>7.825867</td><td>8.089623</td><td>6.922915</td><td>6.288086</td><td>7.527803</td><td>6.888642</td><td>6.086392</td><td>6.349528</td><td>6.562359</td><td>6.139168</td><td>6.209023</td><td>8.389047</td><td>7.645464</td><td>6.792004</td><td>8.256308</td><td>6.635347</td><td>6.015047</td><td>6.27286</td><td>6.943379</td><td>5.713779</td><td>8.075317</td><td>5.712303</td><td>5.481236</td><td>6.143426</td><td>6.635867</td><td>6.400915</td><td>7.285251</td><td>6.45702</td><td>8.3526</td><td>5.8538</td><td>7.281664</td><td>5.741307</td><td>6.923299</td><td>7.189791</td><td>7.09444</td><td>6.704163</td><td>4.665372</td><td>8.178149</td><td>6.607652</td><td>6.537152</td><td>7.83118</td><td>7.217909</td><td>6.983234</td><td>11.844895</td><td>5.8875</td><td>8.039698</td><td>6.089552</td><td>6.931796</td><td>7.643238</td><td>5.951342</td><td>5.730754</td><td>6.129718</td><td>7.313044</td><td>6.989801</td><td>7.451146</td><td>6.940394</td><td>6.860065</td><td>6.735584</td></tr><tr><td>&hellip;</td><td>&hellip;</td><td>&hellip;</td><td>&hellip;</td><td>&hellip;</td><td>&hellip;</td><td>&hellip;</td><td>&hellip;</td><td>&hellip;</td><td>&hellip;</td><td>&hellip;</td><td>&hellip;</td><td>&hellip;</td><td>&hellip;</td><td>&hellip;</td><td>&hellip;</td><td>&hellip;</td><td>&hellip;</td><td>&hellip;</td><td>&hellip;</td><td>&hellip;</td><td>&hellip;</td><td>&hellip;</td><td>&hellip;</td><td>&hellip;</td><td>&hellip;</td><td>&hellip;</td><td>&hellip;</td><td>&hellip;</td><td>&hellip;</td><td>&hellip;</td><td>&hellip;</td><td>&hellip;</td><td>&hellip;</td><td>&hellip;</td><td>&hellip;</td><td>&hellip;</td><td>&hellip;</td><td>&hellip;</td><td>&hellip;</td><td>&hellip;</td><td>&hellip;</td><td>&hellip;</td><td>&hellip;</td><td>&hellip;</td><td>&hellip;</td><td>&hellip;</td><td>&hellip;</td><td>&hellip;</td><td>&hellip;</td><td>&hellip;</td><td>&hellip;</td><td>&hellip;</td><td>&hellip;</td><td>&hellip;</td><td>&hellip;</td><td>&hellip;</td><td>&hellip;</td><td>&hellip;</td><td>&hellip;</td><td>&hellip;</td><td>&hellip;</td><td>&hellip;</td><td>&hellip;</td><td>&hellip;</td><td>&hellip;</td><td>&hellip;</td><td>&hellip;</td></tr><tr><td>&quot;ENSG00000100320&quot;</td><td>&quot;RBFOX2&quot;</td><td>8.22931</td><td>8.577745</td><td>8.793937</td><td>8.146168</td><td>8.50636</td><td>8.094082</td><td>8.412581</td><td>6.262423</td><td>8.824019</td><td>9.092984</td><td>8.123152</td><td>8.145417</td><td>8.134884</td><td>7.165401</td><td>7.635301</td><td>7.611847</td><td>8.661839</td><td>5.259503</td><td>7.394901</td><td>7.761067</td><td>7.65251</td><td>8.083627</td><td>6.969916</td><td>9.355596</td><td>6.342115</td><td>8.242365</td><td>6.032863</td><td>6.856847</td><td>7.337829</td><td>7.598508</td><td>5.508181</td><td>6.09535</td><td>8.075045</td><td>8.245913</td><td>7.133615</td><td>8.494605</td><td>7.07594</td><td>8.600279</td><td>8.234299</td><td>6.944529</td><td>6.121303</td><td>7.042001</td><td>7.561364</td><td>8.72022</td><td>6.691154</td><td>7.412463</td><td>5.706284</td><td>8.655129</td><td>8.009674</td><td>7.341117</td><td>2.289394</td><td>6.340976</td><td>6.346199</td><td>7.8873</td><td>7.275199</td><td>9.039884</td><td>7.44935</td><td>9.180781</td><td>8.788654</td><td>8.775473</td><td>9.47642</td><td>6.869862</td><td>7.52732</td><td>7.067754</td><td>7.545361</td><td>6.655649</td></tr><tr><td>&quot;ENSG00000131037&quot;</td><td>&quot;EPS8L1&quot;</td><td>4.921367</td><td>5.092288</td><td>4.636338</td><td>4.303763</td><td>3.558799</td><td>4.273777</td><td>4.539356</td><td>3.657559</td><td>4.76519</td><td>5.2067</td><td>5.129906</td><td>5.249289</td><td>5.093011</td><td>4.608039</td><td>4.105194</td><td>3.421264</td><td>4.543386</td><td>4.570978</td><td>4.012894</td><td>4.479922</td><td>4.122518</td><td>5.584509</td><td>3.767809</td><td>3.859496</td><td>3.894477</td><td>4.436839</td><td>4.401572</td><td>4.939957</td><td>3.310004</td><td>4.954976</td><td>3.038821</td><td>3.685049</td><td>5.122019</td><td>5.154102</td><td>4.704891</td><td>4.004908</td><td>2.594864</td><td>5.67405</td><td>4.176327</td><td>3.059096</td><td>4.431902</td><td>2.579029</td><td>5.850097</td><td>4.698257</td><td>4.024754</td><td>5.202417</td><td>3.982463</td><td>6.590354</td><td>4.603486</td><td>2.425481</td><td>3.861162</td><td>4.223547</td><td>2.009216</td><td>3.985339</td><td>2.241138</td><td>5.239908</td><td>5.761738</td><td>3.852376</td><td>5.114053</td><td>5.401104</td><td>4.54089</td><td>4.377534</td><td>4.054711</td><td>4.791207</td><td>4.437371</td><td>4.463407</td></tr><tr><td>&quot;ENSG00000147138&quot;</td><td>&quot;GPR174&quot;</td><td>7.472695</td><td>7.693039</td><td>8.470779</td><td>8.431479</td><td>8.423135</td><td>7.941875</td><td>7.586384</td><td>8.35664</td><td>10.20575</td><td>9.02655</td><td>8.031976</td><td>8.900432</td><td>9.261677</td><td>9.425081</td><td>9.225934</td><td>9.444781</td><td>8.44918</td><td>7.687412</td><td>8.051833</td><td>7.811535</td><td>8.339178</td><td>7.633405</td><td>7.297222</td><td>8.87963</td><td>7.210158</td><td>7.914855</td><td>6.834074</td><td>8.695152</td><td>4.52869</td><td>7.733878</td><td>10.22048</td><td>6.504612</td><td>9.587979</td><td>7.97627</td><td>8.012537</td><td>8.975441</td><td>8.739155</td><td>9.705377</td><td>8.709629</td><td>8.063136</td><td>7.39922</td><td>7.799343</td><td>7.265433</td><td>8.571631</td><td>9.109058</td><td>7.41099</td><td>4.540132</td><td>10.158007</td><td>8.317188</td><td>9.034955</td><td>8.597539</td><td>6.449957</td><td>7.772009</td><td>8.241796</td><td>7.973199</td><td>9.134118</td><td>8.364018</td><td>8.292342</td><td>8.913818</td><td>9.206939</td><td>9.270765</td><td>7.319049</td><td>8.83835</td><td>7.851796</td><td>7.858072</td><td>6.91692</td></tr><tr><td>&quot;ENSG00000152767&quot;</td><td>&quot;FARP1&quot;</td><td>6.940183</td><td>7.49388</td><td>6.46252</td><td>5.675233</td><td>6.4785</td><td>6.855844</td><td>5.77485</td><td>7.895461</td><td>7.102404</td><td>5.689908</td><td>6.759296</td><td>6.770667</td><td>7.110603</td><td>7.269297</td><td>7.513641</td><td>6.432986</td><td>6.543011</td><td>6.975591</td><td>7.973696</td><td>6.347298</td><td>6.180977</td><td>7.222779</td><td>6.675958</td><td>6.867061</td><td>6.708219</td><td>7.062017</td><td>7.460929</td><td>6.16691</td><td>7.521092</td><td>7.119538</td><td>7.263643</td><td>8.050985</td><td>7.734846</td><td>9.232917</td><td>7.693798</td><td>6.712544</td><td>7.099249</td><td>6.624518</td><td>6.440258</td><td>7.417438</td><td>8.285402</td><td>7.647037</td><td>8.174316</td><td>6.902123</td><td>5.938316</td><td>8.029102</td><td>6.648249</td><td>7.433624</td><td>6.519701</td><td>6.396188</td><td>5.661561</td><td>6.111841</td><td>6.986761</td><td>7.610686</td><td>6.858305</td><td>7.330748</td><td>7.51952</td><td>6.998061</td><td>6.492616</td><td>6.120499</td><td>6.428605</td><td>7.674356</td><td>6.001296</td><td>6.299561</td><td>7.777429</td><td>6.503437</td></tr><tr><td>&quot;ENSG00000224420&quot;</td><td>&quot;C19orf76&quot;</td><td>6.154172</td><td>5.498171</td><td>5.151728</td><td>5.514104</td><td>6.03274</td><td>4.932447</td><td>6.352387</td><td>4.988354</td><td>7.041746</td><td>5.848806</td><td>6.733806</td><td>5.576445</td><td>7.992461</td><td>6.302988</td><td>6.035125</td><td>4.292522</td><td>4.813793</td><td>4.609392</td><td>6.615645</td><td>4.752124</td><td>5.431223</td><td>5.466946</td><td>5.057281</td><td>4.450441</td><td>5.59655</td><td>5.506851</td><td>4.829419</td><td>6.034645</td><td>5.193213</td><td>6.743933</td><td>6.265124</td><td>4.515427</td><td>6.58305</td><td>4.773593</td><td>5.148503</td><td>5.355876</td><td>5.290316</td><td>5.867816</td><td>5.447154</td><td>4.61913</td><td>4.47124</td><td>5.577988</td><td>3.484186</td><td>4.828217</td><td>6.697414</td><td>5.562334</td><td>6.624028</td><td>5.165414</td><td>4.917211</td><td>5.311944</td><td>6.162196</td><td>4.953942</td><td>5.727095</td><td>4.863907</td><td>5.042281</td><td>4.986085</td><td>5.661588</td><td>5.782114</td><td>5.80458</td><td>6.192653</td><td>4.856832</td><td>5.495054</td><td>5.256311</td><td>6.059971</td><td>6.393223</td><td>4.967428</td></tr></tbody></table></div>"
      ],
      "text/plain": [
       "shape: (3_000, 68)\n",
       "┌───────────┬───────────┬───────────┬───────────┬───┬───────────┬───────────┬───────────┬──────────┐\n",
       "│ GENE_ID   ┆ GENE_NAME ┆ N58       ┆ N60       ┆ … ┆ V839      ┆ V883      ┆ V888      ┆ V940     │\n",
       "│ ---       ┆ ---       ┆ ---       ┆ ---       ┆   ┆ ---       ┆ ---       ┆ ---       ┆ ---      │\n",
       "│ str       ┆ str       ┆ f64       ┆ f64       ┆   ┆ f64       ┆ f64       ┆ f64       ┆ f64      │\n",
       "╞═══════════╪═══════════╪═══════════╪═══════════╪═══╪═══════════╪═══════════╪═══════════╪══════════╡\n",
       "│ ENSG00000 ┆ SEC14L5   ┆ 4.574155  ┆ 7.288239  ┆ … ┆ 3.976603  ┆ 5.670529  ┆ 4.456624  ┆ 4.897539 │\n",
       "│ 103184    ┆           ┆           ┆           ┆   ┆           ┆           ┆           ┆          │\n",
       "│ ENSG00000 ┆ LGALSL    ┆ 7.455039  ┆ 8.479401  ┆ … ┆ 6.838144  ┆ 7.450425  ┆ 6.055094  ┆ 6.88753  │\n",
       "│ 119862    ┆           ┆           ┆           ┆   ┆           ┆           ┆           ┆          │\n",
       "│ ENSG00000 ┆ IGFBP5    ┆ 1.531313  ┆ 4.93984   ┆ … ┆ 2.710774  ┆ 4.358541  ┆ 5.20171   ┆ 6.416449 │\n",
       "│ 115461    ┆           ┆           ┆           ┆   ┆           ┆           ┆           ┆          │\n",
       "│ ENSG00000 ┆ THBS1     ┆ 10.787846 ┆ 12.452547 ┆ … ┆ 10.274893 ┆ 10.805033 ┆ 10.464737 ┆ 10.70489 │\n",
       "│ 137801    ┆           ┆           ┆           ┆   ┆           ┆           ┆           ┆ 5        │\n",
       "│ ENSG00000 ┆ HPSE      ┆ 6.935416  ┆ 7.987946  ┆ … ┆ 7.451146  ┆ 6.940394  ┆ 6.860065  ┆ 6.735584 │\n",
       "│ 173083    ┆           ┆           ┆           ┆   ┆           ┆           ┆           ┆          │\n",
       "│ …         ┆ …         ┆ …         ┆ …         ┆ … ┆ …         ┆ …         ┆ …         ┆ …        │\n",
       "│ ENSG00000 ┆ RBFOX2    ┆ 8.22931   ┆ 8.577745  ┆ … ┆ 7.52732   ┆ 7.067754  ┆ 7.545361  ┆ 6.655649 │\n",
       "│ 100320    ┆           ┆           ┆           ┆   ┆           ┆           ┆           ┆          │\n",
       "│ ENSG00000 ┆ EPS8L1    ┆ 4.921367  ┆ 5.092288  ┆ … ┆ 4.054711  ┆ 4.791207  ┆ 4.437371  ┆ 4.463407 │\n",
       "│ 131037    ┆           ┆           ┆           ┆   ┆           ┆           ┆           ┆          │\n",
       "│ ENSG00000 ┆ GPR174    ┆ 7.472695  ┆ 7.693039  ┆ … ┆ 8.83835   ┆ 7.851796  ┆ 7.858072  ┆ 6.91692  │\n",
       "│ 147138    ┆           ┆           ┆           ┆   ┆           ┆           ┆           ┆          │\n",
       "│ ENSG00000 ┆ FARP1     ┆ 6.940183  ┆ 7.49388   ┆ … ┆ 6.001296  ┆ 6.299561  ┆ 7.777429  ┆ 6.503437 │\n",
       "│ 152767    ┆           ┆           ┆           ┆   ┆           ┆           ┆           ┆          │\n",
       "│ ENSG00000 ┆ C19orf76  ┆ 6.154172  ┆ 5.498171  ┆ … ┆ 5.256311  ┆ 6.059971  ┆ 6.393223  ┆ 4.967428 │\n",
       "│ 224420    ┆           ┆           ┆           ┆   ┆           ┆           ┆           ┆          │\n",
       "└───────────┴───────────┴───────────┴───────────┴───┴───────────┴───────────┴───────────┴──────────┘"
      ]
     },
     "execution_count": 3,
     "metadata": {},
     "output_type": "execute_result"
    }
   ],
   "source": [
    "mrna = pl.read_csv(\"mds_data/preprocessed/mrna.csv\")\n",
    "\n",
    "OmicDataSplitter(\n",
    "    df=mrna,\n",
    "    annotation_cols=[\"GENE_ID\", \"GENE_NAME\"],\n",
    "    y_df=y,\n",
    "    n_features=200,\n",
    "    n_splits=5,\n",
    "    random_state=3,\n",
    "    output_dir=\"mds_data/splits/mrna\",\n",
    ").process_data()"
   ]
  },
  {
   "cell_type": "code",
   "execution_count": null,
   "metadata": {},
   "outputs": [],
   "source": [
    "mirna = pl.read_csv(\"mds_data/preprocessed/mirna.csv\")\n",
    "\n",
    "OmicDataSplitter(\n",
    "    df=mirna,\n",
    "    annotation_cols=[\"miRNA\"],\n",
    "    y_df=y,\n",
    "    n_features=200,\n",
    "    n_splits=5,\n",
    "    random_state=3,\n",
    "    output_dir=\"mds_data/splits/mirna\",\n",
    ").process_data()"
   ]
  },
  {
   "cell_type": "code",
   "execution_count": 48,
   "metadata": {},
   "outputs": [
    {
     "name": "stdout",
     "output_type": "stream",
     "text": [
      "[[ 8.45024723 11.30466803 10.53455241 ... 11.09063447 10.44715036\n",
      "  11.20161678]\n",
      " [ 9.50236005 10.86371399 10.15371322 ... 10.50136511 10.39452646\n",
      "  11.01563966]\n",
      " [ 9.2735342  11.56935656  9.2735342  ... 11.30152024  9.77534875\n",
      "  11.75274602]\n",
      " ...\n",
      " [10.49776474 11.71958689 10.23492987 ... 11.23433117 10.72001461\n",
      "  11.99961931]\n",
      " [10.0575871  11.16377689 10.52669629 ... 11.16377689 10.88012063\n",
      "  12.00000144]\n",
      " [ 9.17708977 10.63493452  8.76288279 ... 11.34507503  9.98337618\n",
      "  12.12911376]]\n",
      "['hsa_circ_0001387', 'hsa_circ_0002484', 'hsa_circ_0007848', 'hsa_circ_0002711', 'hsa_circ_0000551', 'hsa_circ_0005542', 'hsa_circ_0004658', 'unknown_id_0', 'hsa_circ_0005881', 'hsa_circ_0001776', 'hsa_circ_0000211', 'hsa_circ_0002468', 'unknown_id_1', 'hsa_circ_0071185', 'unknown_id_2', 'unknown_id_3', 'hsa_circ_0004524', 'hsa_circ_0004771', 'hsa_circ_0000607', 'hsa_circ_0046760', 'hsa_circ_0001006', 'hsa_circ_0001333', 'unknown_id_4', 'hsa_circ_0019170', 'hsa_circ_0004058', 'hsa_circ_0071174', 'hsa_circ_0000392', 'hsa_circ_0003239', 'unknown_id_5', 'hsa_circ_0000398', 'hsa_circ_0004019', 'hsa_circ_0008702', 'hsa_circ_0005736', 'unknown_id_6', 'hsa_circ_0002360', 'hsa_circ_0000657', 'hsa_circ_0001771', 'hsa_circ_0000267', 'hsa_circ_0001522', 'hsa_circ_0067735', 'hsa_circ_0001263', 'hsa_circ_0005164', 'hsa_circ_0000994', 'hsa_circ_0002157', 'hsa_circ_0001772', 'hsa_circ_0007646', 'hsa_circ_0000997', 'hsa_circ_0007822', 'unknown_id_7', 'hsa_circ_0000479', 'hsa_circ_0002465', 'hsa_circ_0008618', 'hsa_circ_0004861', 'hsa_circ_0044177', 'hsa_circ_0000441', 'hsa_circ_0008832', 'hsa_circ_0006848', 'hsa_circ_0003713', 'hsa_circ_0017636', 'hsa_circ_0007052', 'hsa_circ_0005768', 'hsa_circ_0000231', 'hsa_circ_0001278', 'hsa_circ_0000099', 'hsa_circ_0052095', 'hsa_circ_0003910', 'hsa_circ_0001137', 'hsa_circ_0008459', 'hsa_circ_0002359', 'hsa_circ_0017241', 'hsa_circ_0005455', 'unknown_id_8', 'hsa_circ_0000048', 'hsa_circ_0001095', 'hsa_circ_0000417', 'unknown_id_9', 'hsa_circ_0004368', 'hsa_circ_0084188', 'hsa_circ_0000530', 'hsa_circ_0007509', 'hsa_circ_0000442', 'hsa_circ_0001860', 'hsa_circ_0000778', 'hsa_circ_0001524', 'hsa_circ_0008902', 'hsa_circ_0001062', 'hsa_circ_0008309', 'hsa_circ_0001349', 'hsa_circ_0007353', 'hsa_circ_0004127', 'hsa_circ_0004305', 'hsa_circ_0008267', 'hsa_circ_0000091', 'hsa_circ_0005986', 'hsa_circ_0079480', 'hsa_circ_0001947', 'hsa_circ_0001159', 'hsa_circ_0000831', 'hsa_circ_0004849', 'hsa_circ_0007292', 'hsa_circ_0001307', 'unknown_id_10', 'hsa_circ_0000396', 'hsa_circ_0002138', 'hsa_circ_0035197', 'hsa_circ_0009133', 'hsa_circ_0065769', 'unknown_id_11', 'hsa_circ_0008193', 'hsa_circ_0006459', 'hsa_circ_0002968', 'hsa_circ_0000110', 'hsa_circ_0076125', 'hsa_circ_0025705', 'hsa_circ_0003298', 'unknown_id_12', 'hsa_circ_0006168', 'hsa_circ_0002544', 'hsa_circ_0007723', 'hsa_circ_0001648', 'hsa_circ_0000567', 'hsa_circ_0000230', 'hsa_circ_0005925', 'unknown_id_13', 'unknown_id_14', 'hsa_circ_0001432', 'hsa_circ_0002980', 'unknown_id_15', 'hsa_circ_0007234', 'hsa_circ_0000992', 'hsa_circ_0005831', 'hsa_circ_0023942', 'hsa_circ_0003007', 'hsa_circ_0005600', 'hsa_circ_0006670', 'hsa_circ_0018998', 'hsa_circ_0083220', 'hsa_circ_0002266', 'unknown_id_16', 'hsa_circ_0007312', 'hsa_circ_0001875', 'hsa_circ_0001085', 'hsa_circ_0003632', 'hsa_circ_0004592', 'hsa_circ_0005918', 'hsa_circ_0000596', 'hsa_circ_0007733', 'hsa_circ_0070562', 'hsa_circ_0052318', 'hsa_circ_0000722', 'hsa_circ_0047270', 'hsa_circ_0001756', 'hsa_circ_0001355', 'hsa_circ_0000296', 'hsa_circ_0007637', 'hsa_circ_0004220', 'hsa_circ_0005871', 'hsa_circ_0006117', 'hsa_circ_0001811', 'hsa_circ_0002500', 'hsa_circ_0000373', 'hsa_circ_0002805', 'hsa_circ_0007761', 'hsa_circ_0000982', 'hsa_circ_0002802', 'hsa_circ_0008865', 'hsa_circ_0001696', 'hsa_circ_0001178', 'hsa_circ_0012152', 'hsa_circ_0006156', 'hsa_circ_0001410', 'hsa_circ_0003028', 'hsa_circ_0002041', 'hsa_circ_0002454', 'hsa_circ_0008207', 'unknown_id_17', 'unknown_id_18', 'hsa_circ_0009043', 'hsa_circ_0087905', 'hsa_circ_0046843', 'hsa_circ_0000638', 'hsa_circ_0001519', 'hsa_circ_0003054', 'hsa_circ_0004791', 'hsa_circ_0003559', 'unknown_id_19', 'hsa_circ_0000615', 'hsa_circ_0007477', 'hsa_circ_0002570', 'hsa_circ_0003550', 'hsa_circ_0075796', 'hsa_circ_0006258', 'hsa_circ_0006109', 'hsa_circ_0006364', 'hsa_circ_0007683', 'hsa_circ_0005567', 'hsa_circ_0040823', 'hsa_circ_0000921', 'hsa_circ_0000842', 'hsa_circ_0001358', 'hsa_circ_0000386', 'hsa_circ_0001508', 'hsa_circ_0001687', 'hsa_circ_0064555', 'hsa_circ_0006324', 'hsa_circ_0005955', 'hsa_circ_0001258', 'unknown_id_20', 'hsa_circ_0002439', 'hsa_circ_0001314', 'hsa_circ_0007592', 'hsa_circ_0001821', 'hsa_circ_0006665', 'hsa_circ_0001614', 'hsa_circ_0004372', 'hsa_circ_0008199', 'hsa_circ_0023919', 'hsa_circ_0040809', 'hsa_circ_0007262', 'unknown_id_21', 'hsa_circ_0069748', 'hsa_circ_0001231', 'hsa_circ_0000497', 'hsa_circ_0001386', 'unknown_id_22', 'hsa_circ_0009061', 'hsa_circ_0000344', 'hsa_circ_0006633', 'hsa_circ_0005354', 'unknown_id_23', 'hsa_circ_0007024', 'hsa_circ_0001639', 'hsa_circ_0001187', 'hsa_circ_0023249', 'hsa_circ_0000660', 'hsa_circ_0001312', 'hsa_circ_0000284', 'hsa_circ_0004293', 'hsa_circ_0000524', 'hsa_circ_0008311', 'hsa_circ_0001546', 'hsa_circ_0001247', 'hsa_circ_0005954', 'hsa_circ_0001467', 'hsa_circ_0005941', 'hsa_circ_0007308', 'hsa_circ_0007132', 'hsa_circ_0000311', 'hsa_circ_0006508', 'hsa_circ_0001684', 'hsa_circ_0084606', 'hsa_circ_0001020', 'hsa_circ_0000072', 'hsa_circ_0055945', 'hsa_circ_0001746', 'hsa_circ_0005265', 'hsa_circ_0002490', 'hsa_circ_0001402', 'hsa_circ_0000014', 'hsa_circ_0004795', 'hsa_circ_0000023', 'hsa_circ_0031241', 'hsa_circ_0001742', 'hsa_circ_0005729', 'hsa_circ_0008350', 'hsa_circ_0008342', 'hsa_circ_0005615', 'hsa_circ_0001897', 'hsa_circ_0002158', 'hsa_circ_0002782', 'hsa_circ_0000698', 'hsa_circ_0000179', 'unknown_id_24', 'hsa_circ_0001206', 'hsa_circ_0001330', 'hsa_circ_0005019', 'unknown_id_25', 'unknown_id_26', 'hsa_circ_0004491', 'hsa_circ_0000972', 'hsa_circ_0064557', 'hsa_circ_0005585', 'hsa_circ_0000489', 'hsa_circ_0003496', 'hsa_circ_0006965', 'hsa_circ_0000219', 'hsa_circ_0006062', 'hsa_circ_0002692', 'hsa_circ_0001073', 'hsa_circ_0000642', 'hsa_circ_0007290', 'hsa_circ_0000500', 'hsa_circ_0008501', 'hsa_circ_0001313', 'hsa_circ_0005379', 'hsa_circ_0001558', 'hsa_circ_0000085', 'hsa_circ_0000280', 'hsa_circ_0001538', 'hsa_circ_0050301', 'hsa_circ_0006968', 'hsa_circ_0000025', 'hsa_circ_0003922', 'unknown_id_27', 'hsa_circ_0000061', 'hsa_circ_0000213', 'hsa_circ_0031583', 'hsa_circ_0000209', 'unknown_id_28', 'hsa_circ_0006979', 'hsa_circ_0000620', 'hsa_circ_0004826', 'hsa_circ_0083465', 'hsa_circ_0001324', 'hsa_circ_0001921', 'hsa_circ_0000233', 'hsa_circ_0003472', 'hsa_circ_0000443', 'hsa_circ_0002274', 'hsa_circ_0005895', 'hsa_circ_0008838', 'hsa_circ_0001769', 'unknown_id_29', 'hsa_circ_0001608', 'hsa_circ_0001392', 'hsa_circ_0003322', 'hsa_circ_0008151', 'hsa_circ_0005158', 'hsa_circ_0006531', 'hsa_circ_0001053', 'unknown_id_30', 'hsa_circ_0005147', 'hsa_circ_0000839', 'hsa_circ_0000384', 'hsa_circ_0023936', 'hsa_circ_0001788', 'unknown_id_31', 'hsa_circ_0053441', 'hsa_circ_0000106', 'hsa_circ_0007026', 'hsa_circ_0006501', 'hsa_circ_0002566', 'hsa_circ_0004604', 'hsa_circ_0000592', 'hsa_circ_0000732', 'hsa_circ_0008488', 'hsa_circ_0000672', 'hsa_circ_0001819', 'hsa_circ_0003441', 'hsa_circ_0007693', 'hsa_circ_0000818', 'hsa_circ_0001017', 'hsa_circ_0067900', 'hsa_circ_0001072', 'hsa_circ_0000116', 'hsa_circ_0003526', 'hsa_circ_0030720', 'hsa_circ_0006856', 'hsa_circ_0006137', 'hsa_circ_0000741', 'hsa_circ_0006618', 'hsa_circ_0058493', 'hsa_circ_0004374', 'hsa_circ_0001810', 'hsa_circ_0005644', 'hsa_circ_0002590', 'hsa_circ_0007846', 'hsa_circ_0005939', 'hsa_circ_0006987', 'hsa_circ_0008319', 'hsa_circ_0087357', 'hsa_circ_0084615', 'hsa_circ_0002538', 'hsa_circ_0000024', 'hsa_circ_0001136', 'unknown_id_32', 'hsa_circ_0000343', 'hsa_circ_0001535', 'hsa_circ_0007827', 'hsa_circ_0031446', 'hsa_circ_0008620', 'hsa_circ_0006434', 'hsa_circ_0001686', 'hsa_circ_0000347', 'hsa_circ_0001663', 'hsa_circ_0007099', 'hsa_circ_0001661', 'unknown_id_33', 'hsa_circ_0008679', 'hsa_circ_0008460', 'hsa_circ_0007765', 'hsa_circ_0008967', 'hsa_circ_0001685', 'hsa_circ_0004123', 'hsa_circ_0001280', 'hsa_circ_0001566', 'hsa_circ_0000337', 'hsa_circ_0014606', 'hsa_circ_0013953', 'unknown_id_34', 'hsa_circ_0000745', 'hsa_circ_0001798', 'hsa_circ_0070190', 'hsa_circ_0007710', 'hsa_circ_0000260', 'hsa_circ_0000847', 'hsa_circ_0007218', 'hsa_circ_0001481', 'hsa_circ_0000826', 'hsa_circ_0002999', 'hsa_circ_0003908', 'hsa_circ_0000418', 'hsa_circ_0007367', 'hsa_circ_0072547', 'hsa_circ_0007476', 'hsa_circ_0001438', 'hsa_circ_0016600', 'hsa_circ_0035189', 'hsa_circ_0001796', 'hsa_circ_0001847', 'hsa_circ_0001495', 'hsa_circ_0000437', 'hsa_circ_0007108', 'unknown_id_35', 'hsa_circ_0000940', 'hsa_circ_0003718', 'hsa_circ_0008774', 'hsa_circ_0008806', 'hsa_circ_0003942', 'hsa_circ_0000139', 'hsa_circ_0019079', 'hsa_circ_0001485', 'hsa_circ_0001459', 'hsa_circ_0000605', 'hsa_circ_0000257', 'hsa_circ_0003608', 'hsa_circ_0008952', 'hsa_circ_0000039', 'hsa_circ_0001290', 'hsa_circ_0000907', 'hsa_circ_0001083', 'hsa_circ_0052967', 'hsa_circ_0011536', 'hsa_circ_0001829', 'hsa_circ_0008362', 'hsa_circ_0001882', 'hsa_circ_0005505', 'hsa_circ_0009022', 'hsa_circ_0007059', 'hsa_circ_0001699', 'unknown_id_36', 'hsa_circ_0086735', 'unknown_id_37', 'unknown_id_38', 'hsa_circ_0000119', 'hsa_circ_0000871', 'hsa_circ_0003459', 'hsa_circ_0001936', 'hsa_circ_0000026', 'hsa_circ_0001098', 'hsa_circ_0004435', 'hsa_circ_0003270', 'hsa_circ_0000458', 'hsa_circ_0069982', 'hsa_circ_0001181', 'hsa_circ_0001573', 'hsa_circ_0004087', 'hsa_circ_0003456', 'unknown_id_39', 'unknown_id_40', 'hsa_circ_0007905', 'hsa_circ_0001200', 'hsa_circ_0000339', 'hsa_circ_0000799', 'hsa_circ_0005405', 'hsa_circ_0000936', 'hsa_circ_0006922', 'hsa_circ_0007444', 'hsa_circ_0001009', 'hsa_circ_0001658', 'hsa_circ_0023694', 'unknown_id_41', 'hsa_circ_0025967', 'hsa_circ_0000816', 'hsa_circ_0000944', 'hsa_circ_0009027', 'hsa_circ_0001777', 'hsa_circ_0000002', 'hsa_circ_0005204', 'hsa_circ_0000523', 'hsa_circ_0002077', 'hsa_circ_0000711', 'hsa_circ_0001238', 'hsa_circ_0021570', 'hsa_circ_0001016', 'hsa_circ_0007291', 'hsa_circ_0000268', 'hsa_circ_0003426', 'hsa_circ_0001441', 'unknown_id_42', 'hsa_circ_0001315', 'hsa_circ_0001173', 'hsa_circ_0001309', 'hsa_circ_0019607', 'hsa_circ_0031584', 'hsa_circ_0032649', 'hsa_circ_0001785', 'hsa_circ_0000914', 'hsa_circ_0002024', 'hsa_circ_0001400', 'hsa_circ_0000647', 'unknown_id_43', 'hsa_circ_0004039', 'hsa_circ_0000117', 'hsa_circ_0001610', 'unknown_id_44', 'hsa_circ_0001434', 'hsa_circ_0001364', 'hsa_circ_0000591', 'hsa_circ_0002398', 'hsa_circ_0001148', 'hsa_circ_0006382', 'hsa_circ_0000494', 'hsa_circ_0004912', 'hsa_circ_0077096', 'hsa_circ_0005325', 'hsa_circ_0000028', 'hsa_circ_0001551', 'hsa_circ_0023923', 'hsa_circ_0001868', 'hsa_circ_0000643', 'hsa_circ_0002190', 'hsa_circ_0088333', 'hsa_circ_0066251', 'hsa_circ_0000586', 'hsa_circ_0005782', 'hsa_circ_0058495', 'unknown_id_45', 'hsa_circ_0020028', 'hsa_circ_0001869', 'hsa_circ_0000075', 'hsa_circ_0004587', 'hsa_circ_0001790', 'hsa_circ_0001346', 'hsa_circ_0002972', 'unknown_id_46', 'hsa_circ_0035796', 'hsa_circ_0001317', 'hsa_circ_0000880', 'hsa_circ_0002903', 'hsa_circ_0005974', 'hsa_circ_0007788', 'hsa_circ_0003643', 'hsa_circ_0004870', 'hsa_circ_0002058', 'hsa_circ_0005552', 'hsa_circ_0000051', 'hsa_circ_0002665', 'hsa_circ_0001492', 'unknown_id_47', 'hsa_circ_0008351', 'hsa_circ_0058051', 'hsa_circ_0001060', 'hsa_circ_0001801', 'hsa_circ_0006602', 'hsa_circ_0006677', 'hsa_circ_0000504', 'hsa_circ_0001778', 'hsa_circ_0000915', 'hsa_circ_0000258', 'hsa_circ_0005887', 'hsa_circ_0001577', 'hsa_circ_0004979', 'hsa_circ_0008934', 'hsa_circ_0003302', 'hsa_circ_0004029', 'hsa_circ_0021712', 'hsa_circ_0001079', 'hsa_circ_0007883', 'hsa_circ_0001861', 'hsa_circ_0001380', 'hsa_circ_0002940', 'hsa_circ_0009172', 'hsa_circ_0006654', 'hsa_circ_0008494', 'hsa_circ_0007364', 'hsa_circ_0004622', 'hsa_circ_0008817', 'hsa_circ_0001147', 'hsa_circ_0001050', 'hsa_circ_0006151', 'hsa_circ_0001359', 'hsa_circ_0001578', 'hsa_circ_0002431', 'hsa_circ_0000118', 'hsa_circ_0072732', 'hsa_circ_0008285', 'hsa_circ_0001460', 'hsa_circ_0000798', 'hsa_circ_0001700', 'hsa_circ_0000471', 'hsa_circ_0001900', 'hsa_circ_0001417', 'hsa_circ_0000896', 'hsa_circ_0001329', 'hsa_circ_0000160', 'hsa_circ_0009353', 'hsa_circ_0001741', 'hsa_circ_0001550', 'hsa_circ_0000419', 'hsa_circ_0001615', 'hsa_circ_0000175', 'hsa_circ_0001850', 'hsa_circ_0002789', 'hsa_circ_0005588', 'hsa_circ_0008032', 'hsa_circ_0001472', 'hsa_circ_0000566', 'hsa_circ_0004516', 'hsa_circ_0001116', 'hsa_circ_0052012', 'hsa_circ_0000835', 'unknown_id_48', 'hsa_circ_0000448', 'hsa_circ_0007365', 'hsa_circ_0001727', 'hsa_circ_0001189', 'hsa_circ_0001423', 'hsa_circ_0000467', 'hsa_circ_0003247', 'hsa_circ_0000137', 'hsa_circ_0002457', 'hsa_circ_0000836', 'hsa_circ_0001451', 'hsa_circ_0001023', 'hsa_circ_0006127', 'hsa_circ_0001414', 'hsa_circ_0001445', 'hsa_circ_0085439', 'hsa_circ_0005087', 'hsa_circ_0006354', 'hsa_circ_0001439', 'hsa_circ_0001360', 'hsa_circ_0070039', 'hsa_circ_0001851']\n"
     ]
    },
    {
     "name": "stderr",
     "output_type": "stream",
     "text": [
      "100%|██████████| 200/200 [00:08<00:00, 23.62it/s]?fold/s]\n",
      "100%|██████████| 200/200 [00:06<00:00, 29.23it/s]41, 10.42s/fold]\n",
      "100%|██████████| 200/200 [00:06<00:00, 29.17it/s]25,  8.62s/fold]\n",
      "100%|██████████| 200/200 [00:06<00:00, 29.16it/s]15,  7.87s/fold]\n",
      "100%|██████████| 200/200 [00:06<00:00, 29.17it/s]07,  7.53s/fold]\n",
      "Processing folds: 100%|██████████| 5/5 [00:38<00:00,  7.75s/fold]\n"
     ]
    }
   ],
   "source": [
    "circrna = pl.read_csv(\"mds_data/preprocessed/circrna.csv\")\n",
    "\n",
    "# fill the null ids with unknown id n -> this should be added to the preprocessing before\n",
    "circrna_ids = circrna[\"circRNA_ID\"]\n",
    "unknown_id = 0\n",
    "for i in range(len(circrna_ids)):\n",
    "    if circrna_ids[i] == None:\n",
    "        circrna_ids[i] = f\"unknown_id_{unknown_id}\"\n",
    "        unknown_id += 1\n",
    "circrna = circrna.with_columns(\n",
    "    pl.Series(\"circRNA_ID\", circrna_ids)\n",
    ")\n",
    "\n",
    "ods = OmicDataSplitter(\n",
    "    df=circrna,\n",
    "    annotation_cols=[\"circRNA_ID\", \"GENE_ID\", \"GENE_TYPE\", \"GENE_NAME\", \"STRAND\"],\n",
    "    y_df=y,\n",
    "    n_features=200,\n",
    "    n_splits=5,\n",
    "    random_state=3,\n",
    "    output_dir=\"mds_data/splits/circrna\",\n",
    ")\n",
    "ods.process_data()"
   ]
  },
  {
   "cell_type": "code",
   "execution_count": 51,
   "metadata": {},
   "outputs": [
    {
     "name": "stdout",
     "output_type": "stream",
     "text": [
      "[[ 8.45542275  5.56947475  5.2958623  ...  6.67494918 18.6346163\n",
      "  11.93145659]\n",
      " [ 9.37331964  7.20165321  7.32284885 ...  6.70323076 18.91790228\n",
      "  10.79516624]\n",
      " [ 9.0753424   6.19631102  6.1150057  ...  6.66472286 18.63644873\n",
      "  11.38865747]\n",
      " ...\n",
      " [ 8.13573063  6.29115214  7.41039954 ...  6.92836094 18.59323893\n",
      "  11.52812814]\n",
      " [ 8.93068584  6.59591563  5.5479645  ...  7.58843909 18.6691824\n",
      "  11.87951857]\n",
      " [12.19174384  7.59227334  8.33926107 ...  8.03773732 17.56803802\n",
      "  13.79078395]]\n",
      "['hsa_piR_020485', 'hsa_piR_013624', 'hsa_piR_008488', 'hsa_piR_014629', 'hsa_piR_020008', 'hsa_piR_000651', 'hsa_piR_001184', 'hsa_piR_007635', 'hsa_piR_000775', 'hsa_piR_001318', 'hsa_piR_002485', 'hsa_piR_020381', 'hsa_piR_016926', 'hsa_piR_018849', 'hsa_piR_015249', 'hsa_piR_019675', 'hsa_piR_000753', 'hsa_piR_014620', 'hsa_piR_018573', 'hsa_piR_019324', 'hsa_piR_001169', 'hsa_piR_016659', 'hsa_piR_001356', 'hsa_piR_016735', 'hsa_piR_020490', 'hsa_piR_019420', 'hsa_piR_014923', 'hsa_piR_000552', 'hsa_piR_009228', 'hsa_piR_001168', 'hsa_piR_020668', 'hsa_piR_007979', 'hsa_piR_019168', 'hsa_piR_009294', 'hsa_piR_018165', 'hsa_piR_017936', 'hsa_piR_019368', 'hsa_piR_001040', 'hsa_piR_012374', 'hsa_piR_017194', 'hsa_piR_004801', 'hsa_piR_009265', 'hsa_piR_020828', 'hsa_piR_004309', 'hsa_piR_009051', 'hsa_piR_020548', 'hsa_piR_015800', 'hsa_piR_016374', 'hsa_piR_019752', 'hsa_piR_018292', 'hsa_piR_020497', 'hsa_piR_017724', 'hsa_piR_020541', 'hsa_piR_001346', 'hsa_piR_011187', 'hsa_piR_017178', 'hsa_piR_017138', 'hsa_piR_016658', 'hsa_piR_010023', 'hsa_piR_020619', 'hsa_piR_017716', 'hsa_piR_021121', 'hsa_piR_000560', 'hsa_piR_009502', 'hsa_piR_006426', 'hsa_piR_009295', 'hsa_piR_009981', 'hsa_piR_015149', 'hsa_piR_000823', 'hsa_piR_019825', 'hsa_piR_019951', 'hsa_piR_013194', 'hsa_piR_013306', 'hsa_piR_004153', 'hsa_piR_020813', 'hsa_piR_000586', 'hsa_piR_001159', 'hsa_piR_019822', 'hsa_piR_021462', 'hsa_piR_017458', 'hsa_piR_022628', 'hsa_piR_019912', 'hsa_piR_016677', 'hsa_piR_022296', 'hsa_piR_004918', 'hsa_piR_020500', 'hsa_piR_019914', 'hsa_piR_000805', 'hsa_piR_001207', 'hsa_piR_017318', 'hsa_piR_017104', 'hsa_piR_020499', 'hsa_piR_016984', 'hsa_piR_013855', 'hsa_piR_016745', 'hsa_piR_020362', 'hsa_piR_014636', 'hsa_piR_017033', 'hsa_piR_004152', 'hsa_piR_004721', 'hsa_piR_008983', 'hsa_piR_005271', 'hsa_piR_010431', 'hsa_piR_017723', 'hsa_piR_001918', 'hsa_piR_005799', 'hsa_piR_019824', 'hsa_piR_002158', 'hsa_piR_000794', 'hsa_piR_016970', 'hsa_piR_002852', 'hsa_piR_004308', 'hsa_piR_014959', 'hsa_piR_019911', 'hsa_piR_010894', 'hsa_piR_019050', 'hsa_piR_014626', 'hsa_piR_020364', 'hsa_piR_020401', 'hsa_piR_004307', 'hsa_piR_020829', 'hsa_piR_016742', 'hsa_piR_001107', 'hsa_piR_017061', 'hsa_piR_022017', 'hsa_piR_000796', 'hsa_piR_020326', 'hsa_piR_016271', 'hsa_piR_020439', 'hsa_piR_018780', 'hsa_piR_015026', 'hsa_piR_002468', 'hsa_piR_010541', 'hsa_piR_020365', 'hsa_piR_009895', 'hsa_piR_000441', 'hsa_piR_004987', 'hsa_piR_001042', 'hsa_piR_020657', 'hsa_piR_007832', 'hsa_piR_019676', 'hsa_piR_011188', 'hsa_piR_015150', 'hsa_piR_020815', 'hsa_piR_001101', 'hsa_piR_023338', 'hsa_piR_012753', 'hsa_piR_002441', 'hsa_piR_001152', 'hsa_piR_008114', 'hsa_piR_000765', 'hsa_piR_013745', 'hsa_piR_016792', 'hsa_piR_001311', 'hsa_piR_020388', 'hsa_piR_018569', 'hsa_piR_020814', 'hsa_piR_020450', 'hsa_piR_010024', 'hsa_piR_019179', 'hsa_piR_016945', 'hsa_piR_017791', 'hsa_piR_006465', 'hsa_piR_009154', 'hsa_piR_000045', 'hsa_piR_001312', 'hsa_piR_021032', 'hsa_piR_019544', 'hsa_piR_009901', 'hsa_piR_018570', 'hsa_piR_020496', 'hsa_piR_016946', 'hsa_piR_012681', 'hsa_piR_020009', 'hsa_piR_004962', 'hsa_piR_008113', 'hsa_piR_004271', 'hsa_piR_008112', 'hsa_piR_001170']\n"
     ]
    },
    {
     "name": "stderr",
     "output_type": "stream",
     "text": [
      "100%|██████████| 150/150 [00:02<00:00, 62.37it/s]?fold/s]\n",
      "100%|██████████| 150/150 [00:02<00:00, 60.31it/s]09,  2.46s/fold]\n",
      "100%|██████████| 150/150 [00:02<00:00, 62.74it/s]07,  2.50s/fold]\n",
      "100%|██████████| 150/150 [00:02<00:00, 62.19it/s]04,  2.47s/fold]\n",
      "100%|██████████| 150/150 [00:02<00:00, 61.68it/s]02,  2.47s/fold]\n",
      "Processing folds: 100%|██████████| 5/5 [00:12<00:00,  2.47s/fold]\n"
     ]
    }
   ],
   "source": [
    "pirna = pl.read_csv(\"mds_data/preprocessed/pirna.csv\")\n",
    "\n",
    "OmicDataSplitter(\n",
    "    df=pirna,\n",
    "    annotation_cols=[\"piRNA_name\", \"piRNA_id\"],\n",
    "    y_df=y,\n",
    "    n_features=150,\n",
    "    n_splits=5,\n",
    "    random_state=3,\n",
    "    output_dir=\"mds_data/splits/pirna\",\n",
    ").process_data()"
   ]
  },
  {
   "cell_type": "code",
   "execution_count": 54,
   "metadata": {},
   "outputs": [
    {
     "name": "stdout",
     "output_type": "stream",
     "text": [
      "[[2.58399931 1.74808202 3.4490177  ... 5.71199936 8.2671351  6.29611433]\n",
      " [3.92374007 1.88044366 2.88811289 ... 6.01272797 8.28253309 6.55077555]\n",
      " [3.38226427 2.52253091 2.07551866 ... 5.13320406 7.79503833 5.70678332]\n",
      " ...\n",
      " [4.01368942 1.69052926 4.11576908 ... 5.67338819 8.26572606 6.06283089]\n",
      " [3.59403366 1.99370296 2.99137698 ... 5.23805625 7.96139047 6.11003081]\n",
      " [3.26458651 1.29254843 4.10318847 ... 5.60539548 8.3513269  6.43936641]]\n",
      "['HERV-K14CI', 'MER67D', 'MIR3', 'HERVK11DI', 'MER41G', 'AluYd2', 'LTR43_I', 'MER57F', 'LTR43B', 'LTR47B2', 'LTR59', 'L1P4c_5end', 'HERVH', 'LTR7A', 'MER92B', 'LTR1C3', 'LTR62', 'ERV3-16A3_I', 'LTR30', 'LTR44', 'MER66B', 'LTR38A1', 'LTR38', 'MLT2F', 'AluYe2', 'LTR1B0', 'PABL_B', 'MER89', 'LTR1F1', 'LTR77', 'LTR38B', 'MER57C2', 'LTR26B', 'LTR34', 'LOR1b_LTR', 'MER50C', 'LTR64', 'LTR26E', 'MER50B', 'L2B', 'LTR22', 'MER34A', 'MER57C1', 'MER34', 'LTR1C1', 'MLT1E', 'HERVK13I', 'MLT1H2', 'MER51D', 'LTR60B', 'MER66D', 'LTR1B', 'L1M3C_5', 'MER101B', 'AluSx1', 'MER57E1', 'LTR35', 'MER73', 'LTR67B', 'LTR16A1', 'LTR40C', 'MER57B2', 'L1ME3F_3end', 'MER52AI', 'THER2', 'LTR9D', 'AluYd8', 'MER34A1', 'LTR42', 'MER67A', 'IN25', 'MLT1F2', 'MLT1G2', 'L1P4b_5end', 'HARLEQUIN', 'L1P4d_5end', 'MER74A', 'L1MDB_5', 'MER34-int', 'LTR8A', 'MER61C', 'L1MD1_5', 'AluYd3', 'LTR22C2', 'MER101', 'L1ME4A', 'LTR72B', 'LTR48', 'LOR1a_LTR', 'LTR24B', 'HERV1_LTRb', 'LTR53', 'LTR1C', 'LTR73', 'MER4D1', 'LTR14C', 'MER68_I', 'LTR22B', 'HERVL74', 'L1PA17_5', 'LTR10B', 'SVA_A', 'LTR29', 'LTR37B', 'MER65D', 'HERV1_I', 'MER25', 'LTR65', 'MER88', 'MER41D', 'L1M3DE_5', 'MER65C', 'MLT1J', 'MER67C', 'LTR8B', 'LTR51', 'MLT2C2', 'LTR1B1', 'HERVK', 'MLT2B3', 'LTR60', 'LTR43', 'AluSx', 'MER83AI', 'MLT2D', 'L1ME5', 'MLT1G3', 'AluYa1', 'MER87', 'MER65A', 'HERV-Fc1', 'HERVL66I', 'MER66A', 'HERVKC4', 'FAM', 'LTR12E', 'L1MEe_5end', 'LTR27E', 'PrimLTR79', 'MER4D_LTR', 'MER11D', 'AluYc1', 'AluYb3a2', 'L1P4a_5end', 'AluY', 'L1ME5_3end', 'LTR18A', 'MER90', 'LTR39', 'HERVI', 'LTR1E', 'ERVL-B4', 'MLT1K', 'HERVK11I', 'MLT1F_I', 'MER72B', 'LTR9', 'LTR18C', 'MER41E', 'LTR26', 'MER57D', 'MER57A1', 'LTR8', 'MER39B', 'LTR4', 'AluYf5', 'LTR37A', 'MER21I', 'AluYf1', 'LTR9A1', 'LTR71B', 'AluYd3a1', 'LTR52', 'LTR53B', 'LTR40A', 'LTR19A', 'MER83', 'LTR58', 'L1M3D_5', 'L1MCB_5', 'MLT1H1', 'MER57B1', 'L1ME3C_3end', 'MLT1F1', 'MER34D', 'MER66_I', 'LTR31', 'L2', 'LTR45B', 'MER51E', 'MER34C2', 'MER54B', 'LTR46', 'LTR19B', 'AluYb8', 'MER4A1', 'MER48', 'LTR12D', 'L1PA16_5', 'LTR2B', 'LTR21A', 'MER61B', 'LTR27', 'MER31B', 'MLT1E1', 'L1MEB_5', 'MLT-int', 'L1MB4_5', 'THER1', 'LTR24', 'MER57E3', 'LTR75_1', 'MER72', 'MLT1F', 'L1MEg_5end', 'LTR27B', 'MER34C', 'L1MC4_5end', 'LTR10B1', 'MLT2B4', 'LTR12B', 'LTR2C', 'L1P4e_5end', 'MLT1E1A', 'L1PA14_5', 'L1PA13_5', 'MER74B', 'L1HS', 'MER4CL34', 'L1PBB_5', 'MER4C', 'LTR7Y', 'MER4E1', 'MLT2B2', 'LTR25-int', 'MLT2A2', 'LTR22C', 'LTR23', 'LTR24C', 'MER34B', 'MER9a1', 'MER50', 'LTR1', 'LTR10F', 'ERVL', 'LTR1F2', 'LTR28B', 'MER31A', 'HERV-K14I', 'HERVL', 'LTR18B', 'MER52C', 'LTR54B', 'AluJo', 'LTR21B', 'HERVS71', 'MER4A', 'LTR14A', 'AluYc2', 'PRIMA4_LTR', 'LTR27C', 'L1ME3E_3end', 'LTR32', 'LTR6A', 'HAL1', 'MER70A', 'HERVE', 'HERV35I', 'MER87B', 'AluYb9', 'MER21', 'LTR15', 'LTR1A2', 'HERV3', 'AluYe5', 'AluYb11', 'LTR1D', 'L1PREC1', 'LTR12', 'L1ME4', 'AluSg', 'L1ME3D_3end', 'MER83B', 'MER4E', 'L1M2A1_5', 'MLT2A1', 'MER84', 'LTR47A', 'SVA_F', 'LTR72', 'MER41B', 'MER67B', 'MER52D', 'AluYa5', 'L1PBA_5', 'AluYf2', 'LTR35A', 'MLT1C1', 'LTR48B', 'SVA_C', 'L1', 'LTR70', 'MER51B', 'LTR54', 'LTR38C', 'LTR2', 'AluYbc3a', 'MER90a_LTR', 'L1PB2', 'LTR12C', 'L1ME3A', 'L1PBA1_5', 'L1MB6_5', 'LTR9C', 'LTR1F', 'HERV4_I', 'L1PA4', 'L1M2C_5', 'LTR9B', 'L1PA3', 'LTR28C', 'AluYk11', 'MER83C', 'PABL_A', 'L1MCA_5', 'ERVL-E', 'MST_I', 'L1PA2', 'LTR41', 'L1PB2c', 'LTR28', 'L1PA12', 'HERV9', 'SVA_D', 'HERV49I', 'LTR7B', 'LTR5A', 'MER83BI', 'AluYk12', 'MLT1D', 'L1M1_5', 'MER68B', 'MER9a2', 'HERVK3I', 'MLT1H', 'MSTA1', 'MLT1B', 'AluSx3', 'MER52A', 'AluSg4', 'LTR17', 'L1MA9_5', 'AluYi6', 'HERVE_a', 'MLT1_I', 'MER11A', 'L1M1B_5', 'LTR71A', 'L1PB4', 'LTR12F', 'LTR22A', 'MER51C', 'L1PA8', 'LTR40B', 'AluSg1', 'LTR3', 'L1M3A_5', 'L1PA13', 'LOR1I', 'L1MA1', 'L1MC4B', 'L1PA12_5', 'L1PREC2', 'HERVIP10FH', 'HUERS-P1', 'L1MC5', 'LTR25', 'MLT1C', 'LTR19C', 'HERVK9I', 'HERV19I', 'AluSq', 'MER9', 'LTR10G', 'SVA_B', 'AluSq4', 'LTR45C', 'MER9B', 'AluSq2', 'AluJr', 'L1PA10', 'L1MA6', 'THE1B', 'L1PB3', 'MER4A1_LTR', 'LTR14B', 'AluSx4', 'AluYb3a1', 'AluSp', 'LTR10E', 'FLAM', 'MLT1E2', 'L1MA2', 'L1M2B_5', 'PABL_AI', 'LTR5', 'L1P_MA2', 'AluSc5', 'L1MEf_5end', 'HERV17', 'MLT1A0', 'L1PA7', 'HERVK22I', 'LTR36', 'MLT1A1', 'MER11C', 'MER9a3', 'L1ME2', 'LTR3B', 'AluYh9', 'LTR5_Hs', 'MER66C', 'AluYa4', 'MER11B', 'L1MB3_5', 'AluSg7', 'AluYc5', 'AluSz', 'LTR7C', 'L1PB1', 'MSTA2', 'L1MA9', 'AluYg6', 'AluSc8', 'FRAM', 'SVA_E', 'L1PA6', 'MSTD', 'THE1D', 'MSTA', 'AluSz6', 'L1MA4A', 'MER49', 'PB1D11', 'LTR76', 'L1PA5', 'THE1C', 'L1MA7', 'LTR1D1', 'MER4B', 'LTR77B', 'L1ME_ORF2', 'LTR56', 'LTR22B1', 'LTR22B2', 'AluYb10', 'L1PA7_5', 'AluSq10', 'MER101_I', 'L1PA16', 'AluYb8a1', 'LTR10D', 'L1MA4', 'MER21C_BT', 'L1M2_5', 'L1M4B', 'LTR49', 'L1MA5A', 'L1MD1', 'AluJb', 'MSTB', 'AluYk13', 'LTR5B', 'MER41C', 'AluYa8', 'LTR47A2', 'MER41A', 'AluSc', 'LTR22C0', 'L1MDA_5', 'LTR2752', 'MSTC', 'LTR66', 'MER77', 'MER39', 'L1MC4', 'LTR3A', 'MER51A', 'L1MA3', 'LTR57', 'HERVIP10F', 'LTR61', 'MLT1C2', 'L1MB1', 'L1MA5', 'ALU', 'L1PA14', 'LTR10A', 'LTR13A', 'L1PA15', 'MER50I', 'L1MD3', 'LTR22E', 'L1ME1', 'L1MC2', 'MER54A', 'L1MA8', 'LTR6B', 'LTR10C', 'L1MEC_5', 'L1MA10', 'L1PA11', 'MER4D', 'L1ME3', 'AluJr4', 'MSTB1', 'L1MC1', 'L1MC3', 'L1MB4', 'LTR14', 'L1MB8', 'L1MB2', 'MER68A', 'THE1A', 'LTR13', 'L1MB7', 'MER21A', 'MER21C', 'L1MB3', 'L1MB5', 'MIR', 'MER21B', 'L1M2A_5', 'L1MD2', 'MIRc']\n"
     ]
    },
    {
     "name": "stderr",
     "output_type": "stream",
     "text": [
      "100%|██████████| 200/200 [00:06<00:00, 31.54it/s]?fold/s]\n",
      "100%|██████████| 200/200 [00:06<00:00, 30.80it/s]25,  6.47s/fold]\n",
      "100%|██████████| 200/200 [00:06<00:00, 30.85it/s]19,  6.54s/fold]\n",
      "100%|██████████| 200/200 [00:06<00:00, 31.38it/s]13,  6.57s/fold]\n",
      "100%|██████████| 200/200 [00:06<00:00, 31.53it/s]06,  6.53s/fold]\n",
      "Processing folds: 100%|██████████| 5/5 [00:32<00:00,  6.52s/fold]\n"
     ]
    }
   ],
   "source": [
    "te = pl.read_csv(\"mds_data/preprocessed/te_counts.csv\")\n",
    "te\n",
    "\n",
    "OmicDataSplitter(\n",
    "    df=te,\n",
    "    annotation_cols=[\"TE\"],\n",
    "    y_df=y,\n",
    "    n_features=200,\n",
    "    n_splits=5,\n",
    "    random_state=3,\n",
    "    output_dir=\"mds_data/splits/te_counts\",\n",
    ").process_data()"
   ]
  },
  {
   "cell_type": "code",
   "execution_count": 17,
   "metadata": {},
   "outputs": [
    {
     "name": "stdout",
     "output_type": "stream",
     "text": [
      "[[2. 3. 0.]\n",
      " [0. 1. 0.]\n",
      " [0. 0. 1.]]\n"
     ]
    },
    {
     "data": {
      "text/plain": [
       "array([2., 3., 1.])"
      ]
     },
     "execution_count": 17,
     "metadata": {},
     "output_type": "execute_result"
    }
   ],
   "source": [
    "A = np.eye(3)\n",
    "A[0,0] = 2\n",
    "A[0,1] = 3\n",
    "print(A)\n",
    "A.max(axis=0)"
   ]
  },
  {
   "cell_type": "code",
   "execution_count": 21,
   "metadata": {},
   "outputs": [
    {
     "data": {
      "text/plain": [
       "[(array([ 0,  1,  2,  3,  6,  8,  9, 10, 13, 14, 15, 16, 17, 18, 19, 20, 21,\n",
       "         23, 25, 26, 27, 28, 29, 30, 31, 32, 33, 35, 37, 38, 39, 40, 41, 43,\n",
       "         45, 47, 48, 49, 50, 51, 52, 53, 54, 55, 56, 57, 58, 59, 60, 61, 63,\n",
       "         64]),\n",
       "  array([ 4,  5,  7, 11, 12, 22, 24, 34, 36, 42, 44, 46, 62, 65])),\n",
       " (array([ 0,  1,  2,  4,  5,  7,  8, 11, 12, 13, 14, 16, 17, 18, 19, 20, 21,\n",
       "         22, 23, 24, 25, 26, 27, 28, 29, 30, 33, 34, 35, 36, 37, 38, 39, 40,\n",
       "         41, 42, 43, 44, 45, 46, 48, 50, 52, 53, 54, 56, 57, 58, 59, 60, 61,\n",
       "         62, 65]),\n",
       "  array([ 3,  6,  9, 10, 15, 31, 32, 47, 49, 51, 55, 63, 64])),\n",
       " (array([ 1,  2,  3,  4,  5,  6,  7,  8,  9, 10, 11, 12, 13, 14, 15, 16, 18,\n",
       "         22, 24, 25, 26, 27, 28, 29, 30, 31, 32, 33, 34, 35, 36, 40, 42, 43,\n",
       "         44, 45, 46, 47, 48, 49, 51, 52, 54, 55, 57, 58, 59, 60, 61, 62, 63,\n",
       "         64, 65]),\n",
       "  array([ 0, 17, 19, 20, 21, 23, 37, 38, 39, 41, 50, 53, 56])),\n",
       " (array([ 0,  1,  3,  4,  5,  6,  7,  8,  9, 10, 11, 12, 13, 15, 16, 17, 19,\n",
       "         20, 21, 22, 23, 24, 25, 26, 27, 29, 31, 32, 34, 35, 36, 37, 38, 39,\n",
       "         41, 42, 43, 44, 46, 47, 48, 49, 50, 51, 53, 55, 56, 58, 59, 62, 63,\n",
       "         64, 65]),\n",
       "  array([ 2, 14, 18, 28, 30, 33, 40, 45, 52, 54, 57, 60, 61])),\n",
       " (array([ 0,  2,  3,  4,  5,  6,  7,  9, 10, 11, 12, 14, 15, 17, 18, 19, 20,\n",
       "         21, 22, 23, 24, 28, 30, 31, 32, 33, 34, 36, 37, 38, 39, 40, 41, 42,\n",
       "         44, 45, 46, 47, 49, 50, 51, 52, 53, 54, 55, 56, 57, 60, 61, 62, 63,\n",
       "         64, 65]),\n",
       "  array([ 1,  8, 13, 16, 25, 26, 27, 29, 35, 43, 48, 58, 59]))]"
      ]
     },
     "execution_count": 21,
     "metadata": {},
     "output_type": "execute_result"
    }
   ],
   "source": [
    "skf = StratifiedKFold(n_splits=5, shuffle=True, random_state=3)\n",
    "\n",
    "list(skf.split(np.zeros(len(y)), y[\"class\"]))"
   ]
  },
  {
   "cell_type": "code",
   "execution_count": 29,
   "metadata": {},
   "outputs": [],
   "source": [
    "from src.data_splitting import OmicDataSplitter\n",
    "\n",
    "ods = OmicDataSplitter(y, n_splits=5, random_state=3)"
   ]
  },
  {
   "cell_type": "code",
   "execution_count": 28,
   "metadata": {},
   "outputs": [
    {
     "data": {
      "text/html": [
       "<div><style>\n",
       ".dataframe > thead > tr,\n",
       ".dataframe > tbody > tr {\n",
       "  text-align: right;\n",
       "  white-space: pre-wrap;\n",
       "}\n",
       "</style>\n",
       "<small>shape: (3_000, 68)</small><table border=\"1\" class=\"dataframe\"><thead><tr><th>GENE_ID</th><th>GENE_NAME</th><th>N58</th><th>N60</th><th>N70</th><th>N82</th><th>N83</th><th>N84</th><th>N85</th><th>V1048</th><th>V108</th><th>V1090</th><th>V125</th><th>V1279</th><th>V1297</th><th>V1321</th><th>V1337</th><th>V1394</th><th>V1441</th><th>V1456</th><th>V148</th><th>V1505</th><th>V1528</th><th>V1565</th><th>V1591</th><th>V1592</th><th>V1699</th><th>V1708</th><th>V1742</th><th>V1776</th><th>V1788</th><th>V18</th><th>V1800</th><th>V1823</th><th>V1834</th><th>V1857</th><th>V1860</th><th>V1874</th><th>V1884</th><th>V1920</th><th>V1921</th><th>V2089</th><th>V2092</th><th>V2110</th><th>V2133</th><th>V221</th><th>V344</th><th>V359</th><th>V406</th><th>V456</th><th>V513</th><th>V538</th><th>V553</th><th>V574</th><th>V624</th><th>V630</th><th>V637</th><th>V655</th><th>V67</th><th>V712</th><th>V714</th><th>V716</th><th>V777</th><th>V806</th><th>V839</th><th>V883</th><th>V888</th><th>V940</th></tr><tr><td>str</td><td>str</td><td>f64</td><td>f64</td><td>f64</td><td>f64</td><td>f64</td><td>f64</td><td>f64</td><td>f64</td><td>f64</td><td>f64</td><td>f64</td><td>f64</td><td>f64</td><td>f64</td><td>f64</td><td>f64</td><td>f64</td><td>f64</td><td>f64</td><td>f64</td><td>f64</td><td>f64</td><td>f64</td><td>f64</td><td>f64</td><td>f64</td><td>f64</td><td>f64</td><td>f64</td><td>f64</td><td>f64</td><td>f64</td><td>f64</td><td>f64</td><td>f64</td><td>f64</td><td>f64</td><td>f64</td><td>f64</td><td>f64</td><td>f64</td><td>f64</td><td>f64</td><td>f64</td><td>f64</td><td>f64</td><td>f64</td><td>f64</td><td>f64</td><td>f64</td><td>f64</td><td>f64</td><td>f64</td><td>f64</td><td>f64</td><td>f64</td><td>f64</td><td>f64</td><td>f64</td><td>f64</td><td>f64</td><td>f64</td><td>f64</td><td>f64</td><td>f64</td><td>f64</td></tr></thead><tbody><tr><td>&quot;ENSG00000103184&quot;</td><td>&quot;SEC14L5&quot;</td><td>4.574155</td><td>7.288239</td><td>3.561246</td><td>2.897224</td><td>3.615696</td><td>4.057362</td><td>2.203009</td><td>4.398603</td><td>3.467058</td><td>3.657675</td><td>4.619424</td><td>1.507977</td><td>4.809069</td><td>4.749144</td><td>2.146183</td><td>2.66225</td><td>3.555635</td><td>0.714897</td><td>2.010324</td><td>6.268556</td><td>5.914118</td><td>4.018251</td><td>6.781959</td><td>4.900504</td><td>3.481129</td><td>3.767197</td><td>5.167452</td><td>1.631362</td><td>5.933825</td><td>4.945851</td><td>0.444571</td><td>2.734007</td><td>4.452827</td><td>5.877369</td><td>6.07671</td><td>3.343197</td><td>6.156233</td><td>2.993291</td><td>5.727105</td><td>1.36271</td><td>5.001145</td><td>5.516594</td><td>6.915722</td><td>3.82929</td><td>3.319966</td><td>6.938185</td><td>5.118215</td><td>1.629126</td><td>5.885573</td><td>5.003287</td><td>2.039422</td><td>10.53412</td><td>2.297346</td><td>4.097657</td><td>3.891976</td><td>4.604959</td><td>5.844351</td><td>3.188559</td><td>1.986391</td><td>2.357737</td><td>3.549326</td><td>5.252131</td><td>3.976603</td><td>5.670529</td><td>4.456624</td><td>4.897539</td></tr><tr><td>&quot;ENSG00000119862&quot;</td><td>&quot;LGALSL&quot;</td><td>7.455039</td><td>8.479401</td><td>6.306391</td><td>3.321911</td><td>6.188541</td><td>5.979059</td><td>5.223318</td><td>6.5576</td><td>6.140982</td><td>7.953992</td><td>6.599124</td><td>5.548295</td><td>8.013039</td><td>7.647353</td><td>4.956439</td><td>6.928581</td><td>5.090716</td><td>6.687677</td><td>5.006865</td><td>9.311978</td><td>8.342994</td><td>6.413821</td><td>9.084263</td><td>6.776719</td><td>5.304247</td><td>6.598114</td><td>6.798145</td><td>4.599317</td><td>8.505406</td><td>6.422409</td><td>2.381453</td><td>6.143426</td><td>5.936016</td><td>8.052438</td><td>7.556633</td><td>6.799104</td><td>7.551962</td><td>6.284811</td><td>7.092467</td><td>3.705927</td><td>6.91619</td><td>6.314894</td><td>6.214188</td><td>5.860457</td><td>5.514356</td><td>8.538408</td><td>7.514117</td><td>6.082184</td><td>9.708378</td><td>6.616514</td><td>4.57679</td><td>12.548</td><td>5.836737</td><td>6.590203</td><td>6.043704</td><td>7.598248</td><td>7.729715</td><td>6.108103</td><td>5.62265</td><td>5.729892</td><td>5.977239</td><td>6.672379</td><td>6.838144</td><td>7.450425</td><td>6.055094</td><td>6.88753</td></tr><tr><td>&quot;ENSG00000115461&quot;</td><td>&quot;IGFBP5&quot;</td><td>1.531313</td><td>4.93984</td><td>1.589817</td><td>3.596918</td><td>4.221713</td><td>5.694364</td><td>4.633449</td><td>7.55643</td><td>2.906119</td><td>6.264272</td><td>4.300236</td><td>4.642322</td><td>5.192593</td><td>5.82839</td><td>3.354076</td><td>6.16894</td><td>3.134675</td><td>4.718852</td><td>8.624212</td><td>3.38863</td><td>3.416752</td><td>8.240399</td><td>6.652194</td><td>7.699936</td><td>4.466548</td><td>3.895035</td><td>8.655896</td><td>4.393156</td><td>3.639881</td><td>5.553176</td><td>2.653826</td><td>6.227905</td><td>6.201601</td><td>9.962816</td><td>5.073338</td><td>4.806445</td><td>4.322065</td><td>3.59729</td><td>4.244579</td><td>4.54983</td><td>5.835025</td><td>6.82944</td><td>7.039622</td><td>4.689163</td><td>3.702583</td><td>6.163571</td><td>2.613793</td><td>2.308573</td><td>3.431658</td><td>4.664411</td><td>3.645008</td><td>4.07661</td><td>4.614307</td><td>5.113326</td><td>2.241138</td><td>3.67498</td><td>11.902128</td><td>2.718183</td><td>2.048483</td><td>1.477194</td><td>4.562139</td><td>6.748317</td><td>2.710774</td><td>4.358541</td><td>5.20171</td><td>6.416449</td></tr><tr><td>&quot;ENSG00000137801&quot;</td><td>&quot;THBS1&quot;</td><td>10.787846</td><td>12.452547</td><td>9.390428</td><td>7.256898</td><td>9.546596</td><td>9.807684</td><td>8.395226</td><td>10.564428</td><td>9.994399</td><td>10.93104</td><td>10.041629</td><td>8.696442</td><td>11.235067</td><td>10.286238</td><td>7.73148</td><td>9.966976</td><td>10.189488</td><td>11.291271</td><td>8.163448</td><td>12.26609</td><td>11.428713</td><td>9.155845</td><td>12.369392</td><td>8.678094</td><td>8.537479</td><td>11.617824</td><td>10.461017</td><td>7.391252</td><td>11.719449</td><td>8.622247</td><td>6.537787</td><td>9.79737</td><td>9.035041</td><td>11.235494</td><td>11.164126</td><td>9.850056</td><td>10.290641</td><td>7.654049</td><td>11.137592</td><td>4.781831</td><td>10.478594</td><td>10.905235</td><td>9.504674</td><td>9.022241</td><td>8.020058</td><td>12.340003</td><td>9.573093</td><td>9.417571</td><td>11.567134</td><td>10.372583</td><td>7.060916</td><td>15.367104</td><td>8.483557</td><td>10.596553</td><td>8.780714</td><td>9.818366</td><td>11.521034</td><td>6.721186</td><td>6.61051</td><td>9.027454</td><td>7.719915</td><td>10.210917</td><td>10.274893</td><td>10.805033</td><td>10.464737</td><td>10.704895</td></tr><tr><td>&quot;ENSG00000173083&quot;</td><td>&quot;HPSE&quot;</td><td>6.935416</td><td>7.987946</td><td>7.20935</td><td>5.125137</td><td>6.211795</td><td>5.990862</td><td>5.462574</td><td>6.413457</td><td>7.825867</td><td>8.089623</td><td>6.922915</td><td>6.288086</td><td>7.527803</td><td>6.888642</td><td>6.086392</td><td>6.349528</td><td>6.562359</td><td>6.139168</td><td>6.209023</td><td>8.389047</td><td>7.645464</td><td>6.792004</td><td>8.256308</td><td>6.635347</td><td>6.015047</td><td>6.27286</td><td>6.943379</td><td>5.713779</td><td>8.075317</td><td>5.712303</td><td>5.481236</td><td>6.143426</td><td>6.635867</td><td>6.400915</td><td>7.285251</td><td>6.45702</td><td>8.3526</td><td>5.8538</td><td>7.281664</td><td>5.741307</td><td>6.923299</td><td>7.189791</td><td>7.09444</td><td>6.704163</td><td>4.665372</td><td>8.178149</td><td>6.607652</td><td>6.537152</td><td>7.83118</td><td>7.217909</td><td>6.983234</td><td>11.844895</td><td>5.8875</td><td>8.039698</td><td>6.089552</td><td>6.931796</td><td>7.643238</td><td>5.951342</td><td>5.730754</td><td>6.129718</td><td>7.313044</td><td>6.989801</td><td>7.451146</td><td>6.940394</td><td>6.860065</td><td>6.735584</td></tr><tr><td>&hellip;</td><td>&hellip;</td><td>&hellip;</td><td>&hellip;</td><td>&hellip;</td><td>&hellip;</td><td>&hellip;</td><td>&hellip;</td><td>&hellip;</td><td>&hellip;</td><td>&hellip;</td><td>&hellip;</td><td>&hellip;</td><td>&hellip;</td><td>&hellip;</td><td>&hellip;</td><td>&hellip;</td><td>&hellip;</td><td>&hellip;</td><td>&hellip;</td><td>&hellip;</td><td>&hellip;</td><td>&hellip;</td><td>&hellip;</td><td>&hellip;</td><td>&hellip;</td><td>&hellip;</td><td>&hellip;</td><td>&hellip;</td><td>&hellip;</td><td>&hellip;</td><td>&hellip;</td><td>&hellip;</td><td>&hellip;</td><td>&hellip;</td><td>&hellip;</td><td>&hellip;</td><td>&hellip;</td><td>&hellip;</td><td>&hellip;</td><td>&hellip;</td><td>&hellip;</td><td>&hellip;</td><td>&hellip;</td><td>&hellip;</td><td>&hellip;</td><td>&hellip;</td><td>&hellip;</td><td>&hellip;</td><td>&hellip;</td><td>&hellip;</td><td>&hellip;</td><td>&hellip;</td><td>&hellip;</td><td>&hellip;</td><td>&hellip;</td><td>&hellip;</td><td>&hellip;</td><td>&hellip;</td><td>&hellip;</td><td>&hellip;</td><td>&hellip;</td><td>&hellip;</td><td>&hellip;</td><td>&hellip;</td><td>&hellip;</td><td>&hellip;</td><td>&hellip;</td></tr><tr><td>&quot;ENSG00000100320&quot;</td><td>&quot;RBFOX2&quot;</td><td>8.22931</td><td>8.577745</td><td>8.793937</td><td>8.146168</td><td>8.50636</td><td>8.094082</td><td>8.412581</td><td>6.262423</td><td>8.824019</td><td>9.092984</td><td>8.123152</td><td>8.145417</td><td>8.134884</td><td>7.165401</td><td>7.635301</td><td>7.611847</td><td>8.661839</td><td>5.259503</td><td>7.394901</td><td>7.761067</td><td>7.65251</td><td>8.083627</td><td>6.969916</td><td>9.355596</td><td>6.342115</td><td>8.242365</td><td>6.032863</td><td>6.856847</td><td>7.337829</td><td>7.598508</td><td>5.508181</td><td>6.09535</td><td>8.075045</td><td>8.245913</td><td>7.133615</td><td>8.494605</td><td>7.07594</td><td>8.600279</td><td>8.234299</td><td>6.944529</td><td>6.121303</td><td>7.042001</td><td>7.561364</td><td>8.72022</td><td>6.691154</td><td>7.412463</td><td>5.706284</td><td>8.655129</td><td>8.009674</td><td>7.341117</td><td>2.289394</td><td>6.340976</td><td>6.346199</td><td>7.8873</td><td>7.275199</td><td>9.039884</td><td>7.44935</td><td>9.180781</td><td>8.788654</td><td>8.775473</td><td>9.47642</td><td>6.869862</td><td>7.52732</td><td>7.067754</td><td>7.545361</td><td>6.655649</td></tr><tr><td>&quot;ENSG00000131037&quot;</td><td>&quot;EPS8L1&quot;</td><td>4.921367</td><td>5.092288</td><td>4.636338</td><td>4.303763</td><td>3.558799</td><td>4.273777</td><td>4.539356</td><td>3.657559</td><td>4.76519</td><td>5.2067</td><td>5.129906</td><td>5.249289</td><td>5.093011</td><td>4.608039</td><td>4.105194</td><td>3.421264</td><td>4.543386</td><td>4.570978</td><td>4.012894</td><td>4.479922</td><td>4.122518</td><td>5.584509</td><td>3.767809</td><td>3.859496</td><td>3.894477</td><td>4.436839</td><td>4.401572</td><td>4.939957</td><td>3.310004</td><td>4.954976</td><td>3.038821</td><td>3.685049</td><td>5.122019</td><td>5.154102</td><td>4.704891</td><td>4.004908</td><td>2.594864</td><td>5.67405</td><td>4.176327</td><td>3.059096</td><td>4.431902</td><td>2.579029</td><td>5.850097</td><td>4.698257</td><td>4.024754</td><td>5.202417</td><td>3.982463</td><td>6.590354</td><td>4.603486</td><td>2.425481</td><td>3.861162</td><td>4.223547</td><td>2.009216</td><td>3.985339</td><td>2.241138</td><td>5.239908</td><td>5.761738</td><td>3.852376</td><td>5.114053</td><td>5.401104</td><td>4.54089</td><td>4.377534</td><td>4.054711</td><td>4.791207</td><td>4.437371</td><td>4.463407</td></tr><tr><td>&quot;ENSG00000147138&quot;</td><td>&quot;GPR174&quot;</td><td>7.472695</td><td>7.693039</td><td>8.470779</td><td>8.431479</td><td>8.423135</td><td>7.941875</td><td>7.586384</td><td>8.35664</td><td>10.20575</td><td>9.02655</td><td>8.031976</td><td>8.900432</td><td>9.261677</td><td>9.425081</td><td>9.225934</td><td>9.444781</td><td>8.44918</td><td>7.687412</td><td>8.051833</td><td>7.811535</td><td>8.339178</td><td>7.633405</td><td>7.297222</td><td>8.87963</td><td>7.210158</td><td>7.914855</td><td>6.834074</td><td>8.695152</td><td>4.52869</td><td>7.733878</td><td>10.22048</td><td>6.504612</td><td>9.587979</td><td>7.97627</td><td>8.012537</td><td>8.975441</td><td>8.739155</td><td>9.705377</td><td>8.709629</td><td>8.063136</td><td>7.39922</td><td>7.799343</td><td>7.265433</td><td>8.571631</td><td>9.109058</td><td>7.41099</td><td>4.540132</td><td>10.158007</td><td>8.317188</td><td>9.034955</td><td>8.597539</td><td>6.449957</td><td>7.772009</td><td>8.241796</td><td>7.973199</td><td>9.134118</td><td>8.364018</td><td>8.292342</td><td>8.913818</td><td>9.206939</td><td>9.270765</td><td>7.319049</td><td>8.83835</td><td>7.851796</td><td>7.858072</td><td>6.91692</td></tr><tr><td>&quot;ENSG00000152767&quot;</td><td>&quot;FARP1&quot;</td><td>6.940183</td><td>7.49388</td><td>6.46252</td><td>5.675233</td><td>6.4785</td><td>6.855844</td><td>5.77485</td><td>7.895461</td><td>7.102404</td><td>5.689908</td><td>6.759296</td><td>6.770667</td><td>7.110603</td><td>7.269297</td><td>7.513641</td><td>6.432986</td><td>6.543011</td><td>6.975591</td><td>7.973696</td><td>6.347298</td><td>6.180977</td><td>7.222779</td><td>6.675958</td><td>6.867061</td><td>6.708219</td><td>7.062017</td><td>7.460929</td><td>6.16691</td><td>7.521092</td><td>7.119538</td><td>7.263643</td><td>8.050985</td><td>7.734846</td><td>9.232917</td><td>7.693798</td><td>6.712544</td><td>7.099249</td><td>6.624518</td><td>6.440258</td><td>7.417438</td><td>8.285402</td><td>7.647037</td><td>8.174316</td><td>6.902123</td><td>5.938316</td><td>8.029102</td><td>6.648249</td><td>7.433624</td><td>6.519701</td><td>6.396188</td><td>5.661561</td><td>6.111841</td><td>6.986761</td><td>7.610686</td><td>6.858305</td><td>7.330748</td><td>7.51952</td><td>6.998061</td><td>6.492616</td><td>6.120499</td><td>6.428605</td><td>7.674356</td><td>6.001296</td><td>6.299561</td><td>7.777429</td><td>6.503437</td></tr><tr><td>&quot;ENSG00000224420&quot;</td><td>&quot;C19orf76&quot;</td><td>6.154172</td><td>5.498171</td><td>5.151728</td><td>5.514104</td><td>6.03274</td><td>4.932447</td><td>6.352387</td><td>4.988354</td><td>7.041746</td><td>5.848806</td><td>6.733806</td><td>5.576445</td><td>7.992461</td><td>6.302988</td><td>6.035125</td><td>4.292522</td><td>4.813793</td><td>4.609392</td><td>6.615645</td><td>4.752124</td><td>5.431223</td><td>5.466946</td><td>5.057281</td><td>4.450441</td><td>5.59655</td><td>5.506851</td><td>4.829419</td><td>6.034645</td><td>5.193213</td><td>6.743933</td><td>6.265124</td><td>4.515427</td><td>6.58305</td><td>4.773593</td><td>5.148503</td><td>5.355876</td><td>5.290316</td><td>5.867816</td><td>5.447154</td><td>4.61913</td><td>4.47124</td><td>5.577988</td><td>3.484186</td><td>4.828217</td><td>6.697414</td><td>5.562334</td><td>6.624028</td><td>5.165414</td><td>4.917211</td><td>5.311944</td><td>6.162196</td><td>4.953942</td><td>5.727095</td><td>4.863907</td><td>5.042281</td><td>4.986085</td><td>5.661588</td><td>5.782114</td><td>5.80458</td><td>6.192653</td><td>4.856832</td><td>5.495054</td><td>5.256311</td><td>6.059971</td><td>6.393223</td><td>4.967428</td></tr></tbody></table></div>"
      ],
      "text/plain": [
       "shape: (3_000, 68)\n",
       "┌───────────┬───────────┬───────────┬───────────┬───┬───────────┬───────────┬───────────┬──────────┐\n",
       "│ GENE_ID   ┆ GENE_NAME ┆ N58       ┆ N60       ┆ … ┆ V839      ┆ V883      ┆ V888      ┆ V940     │\n",
       "│ ---       ┆ ---       ┆ ---       ┆ ---       ┆   ┆ ---       ┆ ---       ┆ ---       ┆ ---      │\n",
       "│ str       ┆ str       ┆ f64       ┆ f64       ┆   ┆ f64       ┆ f64       ┆ f64       ┆ f64      │\n",
       "╞═══════════╪═══════════╪═══════════╪═══════════╪═══╪═══════════╪═══════════╪═══════════╪══════════╡\n",
       "│ ENSG00000 ┆ SEC14L5   ┆ 4.574155  ┆ 7.288239  ┆ … ┆ 3.976603  ┆ 5.670529  ┆ 4.456624  ┆ 4.897539 │\n",
       "│ 103184    ┆           ┆           ┆           ┆   ┆           ┆           ┆           ┆          │\n",
       "│ ENSG00000 ┆ LGALSL    ┆ 7.455039  ┆ 8.479401  ┆ … ┆ 6.838144  ┆ 7.450425  ┆ 6.055094  ┆ 6.88753  │\n",
       "│ 119862    ┆           ┆           ┆           ┆   ┆           ┆           ┆           ┆          │\n",
       "│ ENSG00000 ┆ IGFBP5    ┆ 1.531313  ┆ 4.93984   ┆ … ┆ 2.710774  ┆ 4.358541  ┆ 5.20171   ┆ 6.416449 │\n",
       "│ 115461    ┆           ┆           ┆           ┆   ┆           ┆           ┆           ┆          │\n",
       "│ ENSG00000 ┆ THBS1     ┆ 10.787846 ┆ 12.452547 ┆ … ┆ 10.274893 ┆ 10.805033 ┆ 10.464737 ┆ 10.70489 │\n",
       "│ 137801    ┆           ┆           ┆           ┆   ┆           ┆           ┆           ┆ 5        │\n",
       "│ ENSG00000 ┆ HPSE      ┆ 6.935416  ┆ 7.987946  ┆ … ┆ 7.451146  ┆ 6.940394  ┆ 6.860065  ┆ 6.735584 │\n",
       "│ 173083    ┆           ┆           ┆           ┆   ┆           ┆           ┆           ┆          │\n",
       "│ …         ┆ …         ┆ …         ┆ …         ┆ … ┆ …         ┆ …         ┆ …         ┆ …        │\n",
       "│ ENSG00000 ┆ RBFOX2    ┆ 8.22931   ┆ 8.577745  ┆ … ┆ 7.52732   ┆ 7.067754  ┆ 7.545361  ┆ 6.655649 │\n",
       "│ 100320    ┆           ┆           ┆           ┆   ┆           ┆           ┆           ┆          │\n",
       "│ ENSG00000 ┆ EPS8L1    ┆ 4.921367  ┆ 5.092288  ┆ … ┆ 4.054711  ┆ 4.791207  ┆ 4.437371  ┆ 4.463407 │\n",
       "│ 131037    ┆           ┆           ┆           ┆   ┆           ┆           ┆           ┆          │\n",
       "│ ENSG00000 ┆ GPR174    ┆ 7.472695  ┆ 7.693039  ┆ … ┆ 8.83835   ┆ 7.851796  ┆ 7.858072  ┆ 6.91692  │\n",
       "│ 147138    ┆           ┆           ┆           ┆   ┆           ┆           ┆           ┆          │\n",
       "│ ENSG00000 ┆ FARP1     ┆ 6.940183  ┆ 7.49388   ┆ … ┆ 6.001296  ┆ 6.299561  ┆ 7.777429  ┆ 6.503437 │\n",
       "│ 152767    ┆           ┆           ┆           ┆   ┆           ┆           ┆           ┆          │\n",
       "│ ENSG00000 ┆ C19orf76  ┆ 6.154172  ┆ 5.498171  ┆ … ┆ 5.256311  ┆ 6.059971  ┆ 6.393223  ┆ 4.967428 │\n",
       "│ 224420    ┆           ┆           ┆           ┆   ┆           ┆           ┆           ┆          │\n",
       "└───────────┴───────────┴───────────┴───────────┴───┴───────────┴───────────┴───────────┴──────────┘"
      ]
     },
     "execution_count": 28,
     "metadata": {},
     "output_type": "execute_result"
    }
   ],
   "source": [
    "mrna = pl.read_csv(\"mds_data/preprocessed/mrna.csv\")\n",
    "mrna"
   ]
  },
  {
   "cell_type": "code",
   "execution_count": 30,
   "metadata": {},
   "outputs": [
    {
     "ename": "TypeError",
     "evalue": "DataFrame.__init__() got an unexpected keyword argument 'columns'",
     "output_type": "error",
     "traceback": [
      "\u001b[0;31m---------------------------------------------------------------------------\u001b[0m",
      "\u001b[0;31mTypeError\u001b[0m                                 Traceback (most recent call last)",
      "Cell \u001b[0;32mIn[30], line 1\u001b[0m\n\u001b[0;32m----> 1\u001b[0m \u001b[43mods\u001b[49m\u001b[38;5;241;43m.\u001b[39;49m\u001b[43mprocess_data\u001b[49m\u001b[43m(\u001b[49m\n\u001b[1;32m      2\u001b[0m \u001b[43m    \u001b[49m\u001b[43mmrna\u001b[49m\u001b[43m,\u001b[49m\n\u001b[1;32m      3\u001b[0m \u001b[43m    \u001b[49m\u001b[38;5;124;43m\"\u001b[39;49m\u001b[38;5;124;43mmds_data/splits/mrna\u001b[39;49m\u001b[38;5;124;43m\"\u001b[39;49m\u001b[43m,\u001b[49m\n\u001b[1;32m      4\u001b[0m \u001b[43m    \u001b[49m\u001b[43mannotation_cols\u001b[49m\u001b[38;5;241;43m=\u001b[39;49m\u001b[43m[\u001b[49m\u001b[38;5;124;43m\"\u001b[39;49m\u001b[38;5;124;43mGENE_ID\u001b[39;49m\u001b[38;5;124;43m\"\u001b[39;49m\u001b[43m,\u001b[49m\u001b[43m \u001b[49m\u001b[38;5;124;43m\"\u001b[39;49m\u001b[38;5;124;43mGENE_NAME\u001b[39;49m\u001b[38;5;124;43m\"\u001b[39;49m\u001b[43m]\u001b[49m\u001b[43m,\u001b[49m\n\u001b[1;32m      5\u001b[0m \u001b[43m    \u001b[49m\u001b[43mnormalization\u001b[49m\u001b[38;5;241;43m=\u001b[39;49m\u001b[38;5;124;43m\"\u001b[39;49m\u001b[38;5;124;43mminmax\u001b[39;49m\u001b[38;5;124;43m\"\u001b[39;49m\u001b[43m,\u001b[49m\n\u001b[1;32m      6\u001b[0m \u001b[43m    \u001b[49m\u001b[43mfeature_selection\u001b[49m\u001b[38;5;241;43m=\u001b[39;49m\u001b[38;5;124;43m\"\u001b[39;49m\u001b[38;5;124;43mmrmr\u001b[39;49m\u001b[38;5;124;43m\"\u001b[39;49m\u001b[43m,\u001b[49m\n\u001b[1;32m      7\u001b[0m \u001b[43m    \u001b[49m\u001b[43mn_features\u001b[49m\u001b[38;5;241;43m=\u001b[39;49m\u001b[38;5;241;43m50\u001b[39;49m\n\u001b[1;32m      8\u001b[0m \u001b[43m)\u001b[49m\n",
      "File \u001b[0;32m~/Personal/DiplomaThesis2/src/data_splitting.py:176\u001b[0m, in \u001b[0;36mprocess_data\u001b[0;34m(self, data_df, output_dir, annotation_cols, normalization, feature_selection, n_features)\u001b[0m\n\u001b[1;32m    151\u001b[0m \u001b[38;5;28;01mdef\u001b[39;00m \u001b[38;5;21mprocess_data\u001b[39m(\n\u001b[1;32m    152\u001b[0m     \u001b[38;5;28mself\u001b[39m,\n\u001b[1;32m    153\u001b[0m     data_df: pl\u001b[38;5;241m.\u001b[39mDataFrame,\n\u001b[0;32m   (...)\u001b[0m\n\u001b[1;32m    158\u001b[0m     n_features: \u001b[38;5;28mint\u001b[39m \u001b[38;5;241m=\u001b[39m \u001b[38;5;241m100\u001b[39m,\n\u001b[1;32m    159\u001b[0m ):\n\u001b[1;32m    160\u001b[0m \u001b[38;5;250m    \u001b[39m\u001b[38;5;124;03m\"\"\"\u001b[39;00m\n\u001b[1;32m    161\u001b[0m \u001b[38;5;124;03m    Process the input data and create cross-validation splits.\u001b[39;00m\n\u001b[1;32m    162\u001b[0m \u001b[38;5;124;03m    Normalization and feature selection are performed independently for each split.\u001b[39;00m\n\u001b[1;32m    163\u001b[0m \n\u001b[1;32m    164\u001b[0m \u001b[38;5;124;03m    Parameters:\u001b[39;00m\n\u001b[1;32m    165\u001b[0m \u001b[38;5;124;03m    -----------\u001b[39;00m\n\u001b[1;32m    166\u001b[0m \u001b[38;5;124;03m    data_df : polars.DataFrame\u001b[39;00m\n\u001b[1;32m    167\u001b[0m \u001b[38;5;124;03m        Input data frame where rows are features (genes) and columns are samples\u001b[39;00m\n\u001b[1;32m    168\u001b[0m \u001b[38;5;124;03m    output_dir : str\u001b[39;00m\n\u001b[1;32m    169\u001b[0m \u001b[38;5;124;03m        Directory to save the splits\u001b[39;00m\n\u001b[1;32m    170\u001b[0m \u001b[38;5;124;03m    annotation_cols : list, default=[\"GENE_ID\", \"GENE_NAME\"]\u001b[39;00m\n\u001b[1;32m    171\u001b[0m \u001b[38;5;124;03m        List of column names that contain feature annotations\u001b[39;00m\n\u001b[1;32m    172\u001b[0m \u001b[38;5;124;03m    normalization : str, optional\u001b[39;00m\n\u001b[1;32m    173\u001b[0m \u001b[38;5;124;03m        Normalization method ('standardization' or 'minmax')\u001b[39;00m\n\u001b[1;32m    174\u001b[0m \u001b[38;5;124;03m    feature_selection : str, optional\u001b[39;00m\n\u001b[1;32m    175\u001b[0m \u001b[38;5;124;03m        Feature selection method ('variance' or 'mrmr')\u001b[39;00m\n\u001b[0;32m--> 176\u001b[0m \u001b[38;5;124;03m    n_features : int, default=100\u001b[39;00m\n\u001b[1;32m    177\u001b[0m \u001b[38;5;124;03m        Number of features to select when using mrmr\u001b[39;00m\n\u001b[1;32m    178\u001b[0m \u001b[38;5;124;03m    \"\"\"\u001b[39;00m\n\u001b[1;32m    179\u001b[0m     \u001b[38;5;66;03m# Verify and get ordered sample columns\u001b[39;00m\n\u001b[1;32m    180\u001b[0m     sample_cols \u001b[38;5;241m=\u001b[39m \u001b[38;5;28mself\u001b[39m\u001b[38;5;241m.\u001b[39m_verify_sample_columns(data_df)\n",
      "File \u001b[0;32m~/Personal/DiplomaThesis2/src/data_splitting.py:119\u001b[0m, in \u001b[0;36m_select_features\u001b[0;34m(self, X, y, feature_ids, method, n_features)\u001b[0m\n\u001b[1;32m     92\u001b[0m \u001b[38;5;28;01mdef\u001b[39;00m \u001b[38;5;21m_select_features_split\u001b[39m(\n\u001b[1;32m     93\u001b[0m     \u001b[38;5;28mself\u001b[39m,\n\u001b[1;32m     94\u001b[0m     train_data: np\u001b[38;5;241m.\u001b[39mndarray,\n\u001b[0;32m   (...)\u001b[0m\n\u001b[1;32m     99\u001b[0m     n_features: \u001b[38;5;28mint\u001b[39m \u001b[38;5;241m=\u001b[39m \u001b[38;5;241m100\u001b[39m,\n\u001b[1;32m    100\u001b[0m ) \u001b[38;5;241m-\u001b[39m\u001b[38;5;241m>\u001b[39m \u001b[38;5;28mtuple\u001b[39m:\n\u001b[1;32m    101\u001b[0m \u001b[38;5;250m    \u001b[39m\u001b[38;5;124;03m\"\"\"\u001b[39;00m\n\u001b[1;32m    102\u001b[0m \u001b[38;5;124;03m    Apply feature selection using only training data.\u001b[39;00m\n\u001b[1;32m    103\u001b[0m \n\u001b[1;32m    104\u001b[0m \u001b[38;5;124;03m    Parameters:\u001b[39;00m\n\u001b[1;32m    105\u001b[0m \u001b[38;5;124;03m    -----------\u001b[39;00m\n\u001b[1;32m    106\u001b[0m \u001b[38;5;124;03m    train_data : np.ndarray\u001b[39;00m\n\u001b[1;32m    107\u001b[0m \u001b[38;5;124;03m        Training data of shape (n_features, n_train_samples)\u001b[39;00m\n\u001b[1;32m    108\u001b[0m \u001b[38;5;124;03m    test_data : np.ndarray\u001b[39;00m\n\u001b[1;32m    109\u001b[0m \u001b[38;5;124;03m        Test data of shape (n_features, n_test_samples)\u001b[39;00m\n\u001b[1;32m    110\u001b[0m \u001b[38;5;124;03m    train_y : np.ndarray\u001b[39;00m\n\u001b[1;32m    111\u001b[0m \u001b[38;5;124;03m        Training target values\u001b[39;00m\n\u001b[1;32m    112\u001b[0m \u001b[38;5;124;03m    feature_ids : list\u001b[39;00m\n\u001b[1;32m    113\u001b[0m \u001b[38;5;124;03m        List of feature identifiers\u001b[39;00m\n\u001b[1;32m    114\u001b[0m \u001b[38;5;124;03m    method : str\u001b[39;00m\n\u001b[1;32m    115\u001b[0m \u001b[38;5;124;03m        Feature selection method ('variance' or 'mrmr')\u001b[39;00m\n\u001b[1;32m    116\u001b[0m \u001b[38;5;124;03m    n_features : int\u001b[39;00m\n\u001b[1;32m    117\u001b[0m \u001b[38;5;124;03m        Number of features to select when using mrmr\u001b[39;00m\n\u001b[1;32m    118\u001b[0m \n\u001b[0;32m--> 119\u001b[0m \u001b[38;5;124;03m    Returns:\u001b[39;00m\n\u001b[1;32m    120\u001b[0m \u001b[38;5;124;03m    --------\u001b[39;00m\n\u001b[1;32m    121\u001b[0m \u001b[38;5;124;03m    tuple\u001b[39;00m\n\u001b[1;32m    122\u001b[0m \u001b[38;5;124;03m        (selected_train_data, selected_test_data, selected_feature_ids)\u001b[39;00m\n\u001b[1;32m    123\u001b[0m \u001b[38;5;124;03m    \"\"\"\u001b[39;00m\n\u001b[1;32m    124\u001b[0m     \u001b[38;5;28;01mif\u001b[39;00m method \u001b[38;5;241m==\u001b[39m \u001b[38;5;124m\"\u001b[39m\u001b[38;5;124mvariance\u001b[39m\u001b[38;5;124m\"\u001b[39m:\n\u001b[1;32m    125\u001b[0m         selector \u001b[38;5;241m=\u001b[39m VarianceThreshold()\n",
      "\u001b[0;31mTypeError\u001b[0m: DataFrame.__init__() got an unexpected keyword argument 'columns'"
     ]
    }
   ],
   "source": [
    "ods.process_data(\n",
    "    mrna,\n",
    "    \"mds_data/splits/mrna\",\n",
    "    annotation_cols=[\"GENE_ID\", \"GENE_NAME\"],\n",
    "    normalization=\"minmax\",\n",
    "    feature_selection=\"mrmr\",\n",
    "    n_features=50,\n",
    ")"
   ]
  }
 ],
 "metadata": {
  "kernelspec": {
   "display_name": ".venv",
   "language": "python",
   "name": "python3"
  },
  "language_info": {
   "codemirror_mode": {
    "name": "ipython",
    "version": 3
   },
   "file_extension": ".py",
   "mimetype": "text/x-python",
   "name": "python",
   "nbconvert_exporter": "python",
   "pygments_lexer": "ipython3",
   "version": "3.12.7"
  }
 },
 "nbformat": 4,
 "nbformat_minor": 2
}
