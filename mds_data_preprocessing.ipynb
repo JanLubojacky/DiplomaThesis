{
 "cells": [
  {
   "cell_type": "code",
   "execution_count": 1,
   "metadata": {},
   "outputs": [],
   "source": [
    "%load_ext autoreload\n",
    "%autoreload 2\n",
    "\n",
    "import polars as pl\n",
    "\n",
    "from src.seqeuencing_data_preprocessing import preprocess_seq_data"
   ]
  },
  {
   "cell_type": "markdown",
   "metadata": {},
   "source": [
    "# load and transform annotations"
   ]
  },
  {
   "cell_type": "code",
   "execution_count": 2,
   "metadata": {},
   "outputs": [],
   "source": [
    "# load sample_sheet\n",
    "sample_sheet = pl.read_excel(\"mds_data/raw/sample sheet for CVUT.xlsx\")\n",
    "\n",
    "annotations = (\n",
    "    sample_sheet.with_columns(\n",
    "        pl.col(\"SAMPLE_NAME\")\n",
    "        .str.split(\"_\")\n",
    "        .map_elements(lambda x: x[0], return_dtype=pl.String)\n",
    "        .alias(\"SAMPLE_ID\")\n",
    "    )\n",
    "    .sort(\"SAMPLE_ID\")\n",
    "    .drop(\"RUN\", \"PLATFORM\", \"N_UNIQ_MAP_READS\", \"UNIQ_MAP\")\n",
    "    .rename(\n",
    "        {\n",
    "            \"1 disease\": \"disease\",\n",
    "            \"2 risk\": \"risk\",\n",
    "            \"3 mutations (SF3B1only_wt)\": \"mutations\",\n",
    "        }\n",
    "    )\n",
    "    .select(\"SAMPLE_NAME\", \"SAMPLE_ID\", \"GROUP\", \"disease\", \"risk\", \"mutations\")\n",
    ")\n",
    "\n",
    "# annotations.write_csv(\"mds_data/preprocessed/annotations.csv\")"
   ]
  },
  {
   "cell_type": "markdown",
   "metadata": {},
   "source": [
    "# load mRNA"
   ]
  },
  {
   "cell_type": "code",
   "execution_count": 173,
   "metadata": {},
   "outputs": [
    {
     "name": "stdout",
     "output_type": "stream",
     "text": [
      "shape: (46, 2)\n",
      "┌─────────────────────────────────┬───────┐\n",
      "│ GENE_TYPE                       ┆ count │\n",
      "│ ---                             ┆ ---   │\n",
      "│ str                             ┆ u32   │\n",
      "╞═════════════════════════════════╪═══════╡\n",
      "│ protein_coding                  ┆ 19873 │\n",
      "│ processed_pseudogene            ┆ 10209 │\n",
      "│ lincRNA                         ┆ 7430  │\n",
      "│ antisense                       ┆ 5479  │\n",
      "│ unprocessed_pseudogene          ┆ 2645  │\n",
      "│ misc_RNA                        ┆ 2212  │\n",
      "│ snRNA                           ┆ 1900  │\n",
      "│ miRNA                           ┆ 1879  │\n",
      "│ TEC                             ┆ 1065  │\n",
      "│ snoRNA                          ┆ 943   │\n",
      "│ sense_intronic                  ┆ 893   │\n",
      "│ transcribed_unprocessed_pseudo… ┆ 853   │\n",
      "│ processed_transcript            ┆ 550   │\n",
      "│ rRNA                            ┆ 542   │\n",
      "│ transcribed_processed_pseudoge… ┆ 471   │\n",
      "│ IG_V_pseudogene                 ┆ 188   │\n",
      "│ sense_overlapping               ┆ 179   │\n",
      "│ IG_V_gene                       ┆ 144   │\n",
      "│ transcribed_unitary_pseudogene  ┆ 123   │\n",
      "│ TR_V_gene                       ┆ 106   │\n",
      "│ unitary_pseudogene              ┆ 95    │\n",
      "│ TR_J_gene                       ┆ 79    │\n",
      "│ scaRNA                          ┆ 49    │\n",
      "│ bidirectional_promoter_lncRNA   ┆ 47    │\n",
      "│ polymorphic_pseudogene          ┆ 38    │\n",
      "│ IG_D_gene                       ┆ 37    │\n",
      "│ TR_V_pseudogene                 ┆ 33    │\n",
      "│ 3prime_overlapping_ncRNA        ┆ 32    │\n",
      "│ Mt_tRNA                         ┆ 22    │\n",
      "│ pseudogene                      ┆ 18    │\n",
      "│ IG_J_gene                       ┆ 18    │\n",
      "│ IG_C_gene                       ┆ 14    │\n",
      "│ IG_C_pseudogene                 ┆ 9     │\n",
      "│ ribozyme                        ┆ 8     │\n",
      "│ TR_C_gene                       ┆ 6     │\n",
      "│ sRNA                            ┆ 5     │\n",
      "│ TR_J_pseudogene                 ┆ 4     │\n",
      "│ TR_D_gene                       ┆ 4     │\n",
      "│ IG_J_pseudogene                 ┆ 3     │\n",
      "│ non_coding                      ┆ 3     │\n",
      "│ translated_processed_pseudogen… ┆ 2     │\n",
      "│ Mt_rRNA                         ┆ 2     │\n",
      "│ vaultRNA                        ┆ 1     │\n",
      "│ scRNA                           ┆ 1     │\n",
      "│ IG_pseudogene                   ┆ 1     │\n",
      "│ macro_lncRNA                    ┆ 1     │\n",
      "└─────────────────────────────────┴───────┘\n"
     ]
    }
   ],
   "source": [
    "mrna = pl.read_csv(\n",
    "    \"mds_data/raw/200625_allRNA_fromRNAseq_annot_hg38.tsv\", separator=\"\\t\"\n",
    ")\n",
    "with pl.Config(tbl_cols=-1, tbl_rows=-1):\n",
    "    print(mrna[\"GENE_TYPE\"].value_counts(sort=True))"
   ]
  },
  {
   "cell_type": "code",
   "execution_count": 8,
   "metadata": {},
   "outputs": [
    {
     "data": {
      "text/html": [
       "<div><style>\n",
       ".dataframe > thead > tr,\n",
       ".dataframe > tbody > tr {\n",
       "  text-align: right;\n",
       "  white-space: pre-wrap;\n",
       "}\n",
       "</style>\n",
       "<small>shape: (19_873, 88)</small><table border=\"1\" class=\"dataframe\"><thead><tr><th>GENE_ID</th><th>GENE_NAME</th><th>N54</th><th>N58</th><th>N60</th><th>N70</th><th>N82</th><th>N83</th><th>N84</th><th>N85</th><th>N86</th><th>N87</th><th>NV1428</th><th>NV911</th><th>NV912</th><th>V1048</th><th>V108</th><th>V1090</th><th>V1249</th><th>V125</th><th>V1279</th><th>V1297</th><th>V1321</th><th>V1337</th><th>V1394</th><th>V1422</th><th>V1426</th><th>V1441</th><th>V1456</th><th>V148</th><th>V1505</th><th>V1528</th><th>V1554</th><th>V1565</th><th>V1577</th><th>V1591</th><th>V1592</th><th>&hellip;</th><th>V1921</th><th>V2089</th><th>V2092</th><th>V2110</th><th>V2133</th><th>V221</th><th>V2241</th><th>V344</th><th>V359</th><th>V406</th><th>V456</th><th>V513</th><th>V538</th><th>V553</th><th>V574</th><th>V624</th><th>V630</th><th>V637</th><th>V655</th><th>V67</th><th>V681</th><th>V708</th><th>V712</th><th>V714</th><th>V716</th><th>V777</th><th>V788</th><th>V795</th><th>V806</th><th>V833</th><th>V839</th><th>V853</th><th>V883</th><th>V888</th><th>V940</th><th>V956</th><th>V957</th></tr><tr><td>str</td><td>str</td><td>i64</td><td>i64</td><td>i64</td><td>i64</td><td>i64</td><td>i64</td><td>i64</td><td>i64</td><td>i64</td><td>i64</td><td>i64</td><td>i64</td><td>i64</td><td>i64</td><td>i64</td><td>i64</td><td>i64</td><td>i64</td><td>i64</td><td>i64</td><td>i64</td><td>i64</td><td>i64</td><td>i64</td><td>i64</td><td>i64</td><td>i64</td><td>i64</td><td>i64</td><td>i64</td><td>i64</td><td>i64</td><td>i64</td><td>i64</td><td>i64</td><td>&hellip;</td><td>i64</td><td>i64</td><td>i64</td><td>i64</td><td>i64</td><td>i64</td><td>i64</td><td>i64</td><td>i64</td><td>i64</td><td>i64</td><td>i64</td><td>i64</td><td>i64</td><td>i64</td><td>i64</td><td>i64</td><td>i64</td><td>i64</td><td>i64</td><td>i64</td><td>i64</td><td>i64</td><td>i64</td><td>i64</td><td>i64</td><td>i64</td><td>i64</td><td>i64</td><td>i64</td><td>i64</td><td>i64</td><td>i64</td><td>i64</td><td>i64</td><td>i64</td><td>i64</td></tr></thead><tbody><tr><td>&quot;ENSG00000188026&quot;</td><td>&quot;RILPL1&quot;</td><td>407</td><td>235</td><td>244</td><td>266</td><td>89</td><td>232</td><td>198</td><td>246</td><td>134</td><td>279</td><td>131</td><td>133</td><td>114</td><td>404</td><td>60</td><td>207</td><td>196</td><td>172</td><td>146</td><td>256</td><td>393</td><td>195</td><td>110</td><td>106</td><td>463</td><td>128</td><td>239</td><td>203</td><td>223</td><td>153</td><td>65</td><td>384</td><td>146</td><td>226</td><td>210</td><td>&hellip;</td><td>200</td><td>120</td><td>362</td><td>315</td><td>93</td><td>170</td><td>376</td><td>120</td><td>715</td><td>180</td><td>314</td><td>263</td><td>128</td><td>426</td><td>352</td><td>164</td><td>538</td><td>44</td><td>131</td><td>432</td><td>262</td><td>98</td><td>65</td><td>92</td><td>355</td><td>167</td><td>283</td><td>122</td><td>458</td><td>439</td><td>139</td><td>260</td><td>273</td><td>474</td><td>364</td><td>176</td><td>69</td></tr><tr><td>&quot;ENSG00000167578&quot;</td><td>&quot;RAB4B&quot;</td><td>951</td><td>951</td><td>856</td><td>905</td><td>749</td><td>865</td><td>1441</td><td>682</td><td>851</td><td>681</td><td>849</td><td>555</td><td>454</td><td>764</td><td>1080</td><td>812</td><td>1214</td><td>710</td><td>1111</td><td>613</td><td>1526</td><td>1348</td><td>1390</td><td>765</td><td>1665</td><td>527</td><td>1259</td><td>1026</td><td>1317</td><td>1183</td><td>412</td><td>1682</td><td>1278</td><td>1177</td><td>753</td><td>&hellip;</td><td>914</td><td>1798</td><td>937</td><td>812</td><td>304</td><td>636</td><td>1165</td><td>1137</td><td>1514</td><td>1024</td><td>920</td><td>989</td><td>948</td><td>2094</td><td>1350</td><td>1989</td><td>1261</td><td>460</td><td>685</td><td>1374</td><td>778</td><td>831</td><td>786</td><td>1370</td><td>1304</td><td>882</td><td>3043</td><td>1605</td><td>801</td><td>1118</td><td>907</td><td>1815</td><td>887</td><td>1130</td><td>813</td><td>0</td><td>1242</td></tr><tr><td>&quot;ENSG00000078237&quot;</td><td>&quot;TIGAR&quot;</td><td>580</td><td>184</td><td>691</td><td>258</td><td>393</td><td>356</td><td>288</td><td>482</td><td>275</td><td>277</td><td>325</td><td>240</td><td>329</td><td>404</td><td>301</td><td>240</td><td>777</td><td>296</td><td>404</td><td>173</td><td>343</td><td>504</td><td>878</td><td>133</td><td>374</td><td>686</td><td>606</td><td>485</td><td>322</td><td>309</td><td>151</td><td>508</td><td>731</td><td>488</td><td>568</td><td>&hellip;</td><td>332</td><td>511</td><td>424</td><td>218</td><td>142</td><td>304</td><td>511</td><td>590</td><td>475</td><td>564</td><td>366</td><td>400</td><td>219</td><td>998</td><td>376</td><td>817</td><td>609</td><td>80</td><td>342</td><td>408</td><td>471</td><td>336</td><td>217</td><td>630</td><td>1098</td><td>243</td><td>746</td><td>361</td><td>499</td><td>486</td><td>1073</td><td>317</td><td>328</td><td>362</td><td>227</td><td>242</td><td>522</td></tr><tr><td>&quot;ENSG00000158486&quot;</td><td>&quot;DNAH3&quot;</td><td>18</td><td>0</td><td>16</td><td>8</td><td>30</td><td>4</td><td>10</td><td>0</td><td>18</td><td>9</td><td>3</td><td>3</td><td>10</td><td>0</td><td>3</td><td>0</td><td>27</td><td>29</td><td>0</td><td>12</td><td>97</td><td>0</td><td>4</td><td>2</td><td>31</td><td>6</td><td>0</td><td>195</td><td>8</td><td>0</td><td>8</td><td>11</td><td>7</td><td>3</td><td>0</td><td>&hellip;</td><td>0</td><td>12</td><td>92</td><td>17</td><td>266</td><td>0</td><td>7</td><td>8</td><td>4</td><td>3</td><td>3</td><td>0</td><td>2</td><td>20</td><td>43</td><td>0</td><td>12</td><td>0</td><td>134</td><td>6</td><td>0</td><td>4</td><td>9</td><td>80</td><td>23</td><td>10</td><td>227</td><td>0</td><td>3</td><td>47</td><td>109</td><td>0</td><td>0</td><td>19</td><td>2</td><td>0</td><td>17</td></tr><tr><td>&quot;ENSG00000283967&quot;</td><td>&quot;RP11-432M8.3&quot;</td><td>0</td><td>1</td><td>0</td><td>0</td><td>2</td><td>2</td><td>1</td><td>2</td><td>1</td><td>1</td><td>0</td><td>0</td><td>1</td><td>0</td><td>1</td><td>0</td><td>2</td><td>3</td><td>0</td><td>3</td><td>2</td><td>0</td><td>0</td><td>0</td><td>0</td><td>1</td><td>0</td><td>0</td><td>1</td><td>2</td><td>3</td><td>0</td><td>2</td><td>1</td><td>0</td><td>&hellip;</td><td>0</td><td>0</td><td>7</td><td>2</td><td>8</td><td>0</td><td>1</td><td>0</td><td>6</td><td>1</td><td>0</td><td>0</td><td>0</td><td>2</td><td>0</td><td>0</td><td>1</td><td>0</td><td>7</td><td>1</td><td>0</td><td>0</td><td>1</td><td>0</td><td>0</td><td>0</td><td>1</td><td>0</td><td>0</td><td>2</td><td>1</td><td>0</td><td>4</td><td>2</td><td>1</td><td>1</td><td>3</td></tr><tr><td>&hellip;</td><td>&hellip;</td><td>&hellip;</td><td>&hellip;</td><td>&hellip;</td><td>&hellip;</td><td>&hellip;</td><td>&hellip;</td><td>&hellip;</td><td>&hellip;</td><td>&hellip;</td><td>&hellip;</td><td>&hellip;</td><td>&hellip;</td><td>&hellip;</td><td>&hellip;</td><td>&hellip;</td><td>&hellip;</td><td>&hellip;</td><td>&hellip;</td><td>&hellip;</td><td>&hellip;</td><td>&hellip;</td><td>&hellip;</td><td>&hellip;</td><td>&hellip;</td><td>&hellip;</td><td>&hellip;</td><td>&hellip;</td><td>&hellip;</td><td>&hellip;</td><td>&hellip;</td><td>&hellip;</td><td>&hellip;</td><td>&hellip;</td><td>&hellip;</td><td>&hellip;</td><td>&hellip;</td><td>&hellip;</td><td>&hellip;</td><td>&hellip;</td><td>&hellip;</td><td>&hellip;</td><td>&hellip;</td><td>&hellip;</td><td>&hellip;</td><td>&hellip;</td><td>&hellip;</td><td>&hellip;</td><td>&hellip;</td><td>&hellip;</td><td>&hellip;</td><td>&hellip;</td><td>&hellip;</td><td>&hellip;</td><td>&hellip;</td><td>&hellip;</td><td>&hellip;</td><td>&hellip;</td><td>&hellip;</td><td>&hellip;</td><td>&hellip;</td><td>&hellip;</td><td>&hellip;</td><td>&hellip;</td><td>&hellip;</td><td>&hellip;</td><td>&hellip;</td><td>&hellip;</td><td>&hellip;</td><td>&hellip;</td><td>&hellip;</td><td>&hellip;</td><td>&hellip;</td><td>&hellip;</td></tr><tr><td>&quot;ENSG00000186115&quot;</td><td>&quot;CYP4F2&quot;</td><td>152</td><td>182</td><td>25</td><td>144</td><td>178</td><td>120</td><td>105</td><td>76</td><td>257</td><td>203</td><td>114</td><td>26</td><td>57</td><td>0</td><td>129</td><td>487</td><td>449</td><td>81</td><td>381</td><td>43</td><td>139</td><td>32</td><td>0</td><td>324</td><td>60</td><td>621</td><td>138</td><td>255</td><td>115</td><td>30</td><td>5</td><td>281</td><td>910</td><td>50</td><td>1116</td><td>&hellip;</td><td>116</td><td>22</td><td>14</td><td>474</td><td>58</td><td>59</td><td>119</td><td>248</td><td>38</td><td>8</td><td>11</td><td>127</td><td>177</td><td>8</td><td>96</td><td>458</td><td>157</td><td>191</td><td>58</td><td>213</td><td>308</td><td>752</td><td>481</td><td>237</td><td>138</td><td>7</td><td>468</td><td>545</td><td>11</td><td>143</td><td>226</td><td>70</td><td>152</td><td>84</td><td>171</td><td>0</td><td>278</td></tr><tr><td>&quot;ENSG00000009694&quot;</td><td>&quot;TENM1&quot;</td><td>22</td><td>32</td><td>11</td><td>42</td><td>20</td><td>32</td><td>26</td><td>25</td><td>75</td><td>33</td><td>19</td><td>30</td><td>3</td><td>11</td><td>173</td><td>5</td><td>54</td><td>31</td><td>25</td><td>46</td><td>93</td><td>2876</td><td>28</td><td>26</td><td>40</td><td>48</td><td>7</td><td>90</td><td>23</td><td>17</td><td>52</td><td>49</td><td>55</td><td>29</td><td>7</td><td>&hellip;</td><td>23</td><td>31</td><td>78</td><td>126</td><td>108</td><td>138</td><td>15</td><td>232</td><td>231</td><td>107</td><td>38</td><td>7</td><td>18</td><td>203</td><td>39</td><td>4</td><td>16</td><td>6</td><td>777</td><td>11</td><td>59</td><td>46</td><td>18</td><td>54</td><td>58</td><td>35</td><td>97</td><td>36</td><td>19</td><td>44</td><td>57</td><td>30</td><td>23</td><td>36</td><td>32</td><td>0</td><td>412</td></tr><tr><td>&quot;ENSG00000123685&quot;</td><td>&quot;BATF3&quot;</td><td>127</td><td>67</td><td>134</td><td>147</td><td>23</td><td>216</td><td>82</td><td>90</td><td>51</td><td>58</td><td>64</td><td>17</td><td>72</td><td>83</td><td>86</td><td>178</td><td>147</td><td>124</td><td>76</td><td>70</td><td>50</td><td>115</td><td>34</td><td>100</td><td>185</td><td>166</td><td>128</td><td>131</td><td>150</td><td>73</td><td>49</td><td>227</td><td>239</td><td>103</td><td>48</td><td>&hellip;</td><td>33</td><td>104</td><td>109</td><td>92</td><td>98</td><td>315</td><td>119</td><td>37</td><td>223</td><td>60</td><td>52</td><td>74</td><td>67</td><td>184</td><td>182</td><td>140</td><td>351</td><td>25</td><td>76</td><td>210</td><td>185</td><td>90</td><td>181</td><td>168</td><td>343</td><td>262</td><td>165</td><td>315</td><td>472</td><td>215</td><td>106</td><td>366</td><td>137</td><td>131</td><td>84</td><td>92</td><td>53</td></tr><tr><td>&quot;ENSG00000105063&quot;</td><td>&quot;PPP6R1&quot;</td><td>22845</td><td>28193</td><td>26489</td><td>21006</td><td>17065</td><td>22682</td><td>26769</td><td>18729</td><td>20738</td><td>22708</td><td>18446</td><td>18690</td><td>18843</td><td>24906</td><td>15464</td><td>18758</td><td>21505</td><td>28065</td><td>21519</td><td>26893</td><td>24247</td><td>22835</td><td>31129</td><td>19041</td><td>93501</td><td>24492</td><td>25224</td><td>19994</td><td>24718</td><td>21241</td><td>8544</td><td>43097</td><td>30355</td><td>28033</td><td>17662</td><td>&hellip;</td><td>17448</td><td>34875</td><td>15198</td><td>22322</td><td>4353</td><td>14988</td><td>20336</td><td>32244</td><td>31834</td><td>21384</td><td>15798</td><td>18774</td><td>17235</td><td>29815</td><td>30757</td><td>27047</td><td>23945</td><td>7123</td><td>14442</td><td>23880</td><td>29027</td><td>27304</td><td>13041</td><td>20407</td><td>23342</td><td>15997</td><td>46899</td><td>40751</td><td>27759</td><td>24271</td><td>16824</td><td>33950</td><td>23426</td><td>30607</td><td>25504</td><td>0</td><td>25170</td></tr><tr><td>&quot;ENSG00000181518&quot;</td><td>&quot;OR8D4&quot;</td><td>0</td><td>0</td><td>0</td><td>0</td><td>0</td><td>0</td><td>0</td><td>4</td><td>0</td><td>7</td><td>0</td><td>3</td><td>0</td><td>0</td><td>43</td><td>0</td><td>0</td><td>3</td><td>4</td><td>0</td><td>3</td><td>0</td><td>0</td><td>36</td><td>0</td><td>3</td><td>0</td><td>0</td><td>0</td><td>0</td><td>4</td><td>0</td><td>0</td><td>0</td><td>0</td><td>&hellip;</td><td>3</td><td>0</td><td>8</td><td>0</td><td>29</td><td>4</td><td>10</td><td>0</td><td>0</td><td>7</td><td>0</td><td>0</td><td>4</td><td>5</td><td>3</td><td>0</td><td>0</td><td>0</td><td>39</td><td>0</td><td>3</td><td>0</td><td>4</td><td>3</td><td>0</td><td>7</td><td>8</td><td>6</td><td>0</td><td>6</td><td>0</td><td>0</td><td>0</td><td>3</td><td>0</td><td>8</td><td>4</td></tr></tbody></table></div>"
      ],
      "text/plain": [
       "shape: (19_873, 88)\n",
       "┌─────────────────┬──────────────┬───────┬───────┬───┬───────┬───────┬──────┬───────┐\n",
       "│ GENE_ID         ┆ GENE_NAME    ┆ N54   ┆ N58   ┆ … ┆ V888  ┆ V940  ┆ V956 ┆ V957  │\n",
       "│ ---             ┆ ---          ┆ ---   ┆ ---   ┆   ┆ ---   ┆ ---   ┆ ---  ┆ ---   │\n",
       "│ str             ┆ str          ┆ i64   ┆ i64   ┆   ┆ i64   ┆ i64   ┆ i64  ┆ i64   │\n",
       "╞═════════════════╪══════════════╪═══════╪═══════╪═══╪═══════╪═══════╪══════╪═══════╡\n",
       "│ ENSG00000188026 ┆ RILPL1       ┆ 407   ┆ 235   ┆ … ┆ 474   ┆ 364   ┆ 176  ┆ 69    │\n",
       "│ ENSG00000167578 ┆ RAB4B        ┆ 951   ┆ 951   ┆ … ┆ 1130  ┆ 813   ┆ 0    ┆ 1242  │\n",
       "│ ENSG00000078237 ┆ TIGAR        ┆ 580   ┆ 184   ┆ … ┆ 362   ┆ 227   ┆ 242  ┆ 522   │\n",
       "│ ENSG00000158486 ┆ DNAH3        ┆ 18    ┆ 0     ┆ … ┆ 19    ┆ 2     ┆ 0    ┆ 17    │\n",
       "│ ENSG00000283967 ┆ RP11-432M8.3 ┆ 0     ┆ 1     ┆ … ┆ 2     ┆ 1     ┆ 1    ┆ 3     │\n",
       "│ …               ┆ …            ┆ …     ┆ …     ┆ … ┆ …     ┆ …     ┆ …    ┆ …     │\n",
       "│ ENSG00000186115 ┆ CYP4F2       ┆ 152   ┆ 182   ┆ … ┆ 84    ┆ 171   ┆ 0    ┆ 278   │\n",
       "│ ENSG00000009694 ┆ TENM1        ┆ 22    ┆ 32    ┆ … ┆ 36    ┆ 32    ┆ 0    ┆ 412   │\n",
       "│ ENSG00000123685 ┆ BATF3        ┆ 127   ┆ 67    ┆ … ┆ 131   ┆ 84    ┆ 92   ┆ 53    │\n",
       "│ ENSG00000105063 ┆ PPP6R1       ┆ 22845 ┆ 28193 ┆ … ┆ 30607 ┆ 25504 ┆ 0    ┆ 25170 │\n",
       "│ ENSG00000181518 ┆ OR8D4        ┆ 0     ┆ 0     ┆ … ┆ 3     ┆ 0     ┆ 8    ┆ 4     │\n",
       "└─────────────────┴──────────────┴───────┴───────┴───┴───────┴───────┴──────┴───────┘"
      ]
     },
     "execution_count": 8,
     "metadata": {},
     "output_type": "execute_result"
    }
   ],
   "source": [
    "# mrna\n",
    "mrna = pl.read_csv(\n",
    "    \"mds_data/raw/200625_allRNA_fromRNAseq_annot_hg38.tsv\", separator=\"\\t\"\n",
    ")\n",
    "\n",
    "mrna = mrna.filter(pl.col(\"GENE_TYPE\") == \"protein_coding\")\n",
    "\n",
    "mrna = mrna.drop([\"CHR\", \"START\", \"END\", \"GENE_TYPE\"])\n",
    "gene_ids = mrna[\"GENE_ID\"]\n",
    "\n",
    "rename_dict = {col: col.split(\"_\")[0] for col in mrna.columns[2:]}\n",
    "mrna = mrna.rename(rename_dict)\n",
    "\n",
    "mrna_names = mrna.columns[2:]\n",
    "mrna"
   ]
  },
  {
   "cell_type": "markdown",
   "metadata": {},
   "source": [
    "- accounted for sequencing depth between different samples -> gene counts comparable between different samples now\n",
    "- computed scale invariant variance for each feature"
   ]
  },
  {
   "cell_type": "code",
   "execution_count": 5,
   "metadata": {},
   "outputs": [
    {
     "data": {
      "text/html": [
       "<div><style>\n",
       ".dataframe > thead > tr,\n",
       ".dataframe > tbody > tr {\n",
       "  text-align: right;\n",
       "  white-space: pre-wrap;\n",
       "}\n",
       "</style>\n",
       "<small>shape: (1_879, 88)</small><table border=\"1\" class=\"dataframe\"><thead><tr><th>GENE_ID</th><th>GENE_NAME</th><th>N54</th><th>N58</th><th>N60</th><th>N70</th><th>N82</th><th>N83</th><th>N84</th><th>N85</th><th>N86</th><th>N87</th><th>NV1428</th><th>NV911</th><th>NV912</th><th>V1048</th><th>V108</th><th>V1090</th><th>V1249</th><th>V125</th><th>V1279</th><th>V1297</th><th>V1321</th><th>V1337</th><th>V1394</th><th>V1422</th><th>V1426</th><th>V1441</th><th>V1456</th><th>V148</th><th>V1505</th><th>V1528</th><th>V1554</th><th>V1565</th><th>V1577</th><th>V1591</th><th>V1592</th><th>&hellip;</th><th>V1921</th><th>V2089</th><th>V2092</th><th>V2110</th><th>V2133</th><th>V221</th><th>V2241</th><th>V344</th><th>V359</th><th>V406</th><th>V456</th><th>V513</th><th>V538</th><th>V553</th><th>V574</th><th>V624</th><th>V630</th><th>V637</th><th>V655</th><th>V67</th><th>V681</th><th>V708</th><th>V712</th><th>V714</th><th>V716</th><th>V777</th><th>V788</th><th>V795</th><th>V806</th><th>V833</th><th>V839</th><th>V853</th><th>V883</th><th>V888</th><th>V940</th><th>V956</th><th>V957</th></tr><tr><td>str</td><td>str</td><td>i64</td><td>i64</td><td>i64</td><td>i64</td><td>i64</td><td>i64</td><td>i64</td><td>i64</td><td>i64</td><td>i64</td><td>i64</td><td>i64</td><td>i64</td><td>i64</td><td>i64</td><td>i64</td><td>i64</td><td>i64</td><td>i64</td><td>i64</td><td>i64</td><td>i64</td><td>i64</td><td>i64</td><td>i64</td><td>i64</td><td>i64</td><td>i64</td><td>i64</td><td>i64</td><td>i64</td><td>i64</td><td>i64</td><td>i64</td><td>i64</td><td>&hellip;</td><td>i64</td><td>i64</td><td>i64</td><td>i64</td><td>i64</td><td>i64</td><td>i64</td><td>i64</td><td>i64</td><td>i64</td><td>i64</td><td>i64</td><td>i64</td><td>i64</td><td>i64</td><td>i64</td><td>i64</td><td>i64</td><td>i64</td><td>i64</td><td>i64</td><td>i64</td><td>i64</td><td>i64</td><td>i64</td><td>i64</td><td>i64</td><td>i64</td><td>i64</td><td>i64</td><td>i64</td><td>i64</td><td>i64</td><td>i64</td><td>i64</td><td>i64</td><td>i64</td></tr></thead><tbody><tr><td>&quot;ENSG00000263642&quot;</td><td>&quot;MIR4802&quot;</td><td>3</td><td>1</td><td>1</td><td>0</td><td>3</td><td>1</td><td>3</td><td>3</td><td>2</td><td>0</td><td>6</td><td>4</td><td>3</td><td>2</td><td>5</td><td>0</td><td>3</td><td>6</td><td>4</td><td>3</td><td>4</td><td>3</td><td>4</td><td>2</td><td>3</td><td>4</td><td>9</td><td>1</td><td>0</td><td>2</td><td>0</td><td>4</td><td>0</td><td>1</td><td>0</td><td>&hellip;</td><td>1</td><td>0</td><td>0</td><td>0</td><td>7</td><td>1</td><td>4</td><td>0</td><td>3</td><td>4</td><td>2</td><td>1</td><td>3</td><td>22</td><td>4</td><td>13</td><td>11</td><td>0</td><td>2</td><td>1</td><td>0</td><td>0</td><td>0</td><td>2</td><td>0</td><td>0</td><td>4</td><td>0</td><td>3</td><td>2</td><td>5</td><td>1</td><td>2</td><td>3</td><td>3</td><td>3</td><td>0</td></tr><tr><td>&quot;ENSG00000283842&quot;</td><td>&quot;MIR4751&quot;</td><td>1</td><td>1</td><td>1</td><td>1</td><td>1</td><td>1</td><td>1</td><td>1</td><td>1</td><td>1</td><td>1</td><td>1</td><td>1</td><td>1</td><td>1</td><td>1</td><td>1</td><td>1</td><td>1</td><td>1</td><td>1</td><td>1</td><td>1</td><td>1</td><td>1</td><td>1</td><td>1</td><td>1</td><td>1</td><td>1</td><td>1</td><td>1</td><td>1</td><td>1</td><td>1</td><td>&hellip;</td><td>1</td><td>1</td><td>1</td><td>1</td><td>1</td><td>1</td><td>2</td><td>1</td><td>1</td><td>1</td><td>1</td><td>1</td><td>1</td><td>1</td><td>1</td><td>1</td><td>1</td><td>1</td><td>1</td><td>1</td><td>1</td><td>1</td><td>1</td><td>1</td><td>1</td><td>1</td><td>1</td><td>1</td><td>1</td><td>1</td><td>1</td><td>1</td><td>1</td><td>1</td><td>1</td><td>0</td><td>1</td></tr><tr><td>&quot;ENSG00000199047&quot;</td><td>&quot;MIR378A&quot;</td><td>9</td><td>3</td><td>3</td><td>1</td><td>4</td><td>1</td><td>3</td><td>2</td><td>0</td><td>9</td><td>4</td><td>3</td><td>1</td><td>2</td><td>7</td><td>7</td><td>8</td><td>7</td><td>10</td><td>2</td><td>5</td><td>5</td><td>5</td><td>5</td><td>4</td><td>5</td><td>4</td><td>4</td><td>2</td><td>0</td><td>6</td><td>7</td><td>7</td><td>0</td><td>11</td><td>&hellip;</td><td>4</td><td>4</td><td>1</td><td>7</td><td>4</td><td>3</td><td>4</td><td>1</td><td>8</td><td>8</td><td>4</td><td>1</td><td>1</td><td>12</td><td>3</td><td>10</td><td>5</td><td>6</td><td>4</td><td>6</td><td>4</td><td>9</td><td>12</td><td>7</td><td>0</td><td>5</td><td>6</td><td>16</td><td>11</td><td>4</td><td>1</td><td>5</td><td>2</td><td>4</td><td>1</td><td>2</td><td>4</td></tr><tr><td>&quot;ENSG00000207559&quot;</td><td>&quot;MIR578&quot;</td><td>0</td><td>0</td><td>0</td><td>0</td><td>0</td><td>0</td><td>0</td><td>0</td><td>0</td><td>0</td><td>0</td><td>0</td><td>0</td><td>0</td><td>0</td><td>3</td><td>0</td><td>0</td><td>0</td><td>1</td><td>0</td><td>0</td><td>0</td><td>0</td><td>0</td><td>0</td><td>0</td><td>0</td><td>0</td><td>0</td><td>0</td><td>0</td><td>0</td><td>0</td><td>0</td><td>&hellip;</td><td>0</td><td>0</td><td>1</td><td>0</td><td>2</td><td>0</td><td>0</td><td>0</td><td>1</td><td>0</td><td>0</td><td>0</td><td>0</td><td>0</td><td>0</td><td>0</td><td>0</td><td>0</td><td>2</td><td>0</td><td>0</td><td>0</td><td>0</td><td>0</td><td>0</td><td>1</td><td>0</td><td>0</td><td>0</td><td>0</td><td>0</td><td>0</td><td>0</td><td>0</td><td>0</td><td>4</td><td>0</td></tr><tr><td>&quot;ENSG00000207698&quot;</td><td>&quot;MIR32&quot;</td><td>12</td><td>10</td><td>16</td><td>10</td><td>11</td><td>13</td><td>14</td><td>5</td><td>6</td><td>8</td><td>14</td><td>4</td><td>10</td><td>8</td><td>15</td><td>7</td><td>17</td><td>16</td><td>12</td><td>14</td><td>6</td><td>11</td><td>10</td><td>24</td><td>5</td><td>1</td><td>9</td><td>6</td><td>11</td><td>16</td><td>5</td><td>10</td><td>5</td><td>10</td><td>10</td><td>&hellip;</td><td>11</td><td>2</td><td>4</td><td>6</td><td>0</td><td>5</td><td>11</td><td>11</td><td>8</td><td>16</td><td>12</td><td>11</td><td>13</td><td>22</td><td>4</td><td>4</td><td>9</td><td>3</td><td>5</td><td>7</td><td>11</td><td>3</td><td>12</td><td>12</td><td>9</td><td>10</td><td>7</td><td>15</td><td>5</td><td>6</td><td>28</td><td>9</td><td>8</td><td>13</td><td>13</td><td>17</td><td>14</td></tr><tr><td>&hellip;</td><td>&hellip;</td><td>&hellip;</td><td>&hellip;</td><td>&hellip;</td><td>&hellip;</td><td>&hellip;</td><td>&hellip;</td><td>&hellip;</td><td>&hellip;</td><td>&hellip;</td><td>&hellip;</td><td>&hellip;</td><td>&hellip;</td><td>&hellip;</td><td>&hellip;</td><td>&hellip;</td><td>&hellip;</td><td>&hellip;</td><td>&hellip;</td><td>&hellip;</td><td>&hellip;</td><td>&hellip;</td><td>&hellip;</td><td>&hellip;</td><td>&hellip;</td><td>&hellip;</td><td>&hellip;</td><td>&hellip;</td><td>&hellip;</td><td>&hellip;</td><td>&hellip;</td><td>&hellip;</td><td>&hellip;</td><td>&hellip;</td><td>&hellip;</td><td>&hellip;</td><td>&hellip;</td><td>&hellip;</td><td>&hellip;</td><td>&hellip;</td><td>&hellip;</td><td>&hellip;</td><td>&hellip;</td><td>&hellip;</td><td>&hellip;</td><td>&hellip;</td><td>&hellip;</td><td>&hellip;</td><td>&hellip;</td><td>&hellip;</td><td>&hellip;</td><td>&hellip;</td><td>&hellip;</td><td>&hellip;</td><td>&hellip;</td><td>&hellip;</td><td>&hellip;</td><td>&hellip;</td><td>&hellip;</td><td>&hellip;</td><td>&hellip;</td><td>&hellip;</td><td>&hellip;</td><td>&hellip;</td><td>&hellip;</td><td>&hellip;</td><td>&hellip;</td><td>&hellip;</td><td>&hellip;</td><td>&hellip;</td><td>&hellip;</td><td>&hellip;</td><td>&hellip;</td><td>&hellip;</td></tr><tr><td>&quot;ENSG00000263414&quot;</td><td>&quot;MIR3187&quot;</td><td>7</td><td>28</td><td>33</td><td>10</td><td>9</td><td>9</td><td>24</td><td>28</td><td>20</td><td>37</td><td>15</td><td>22</td><td>26</td><td>9</td><td>9</td><td>14</td><td>18</td><td>48</td><td>29</td><td>13</td><td>9</td><td>11</td><td>4</td><td>9</td><td>77</td><td>47</td><td>38</td><td>22</td><td>11</td><td>8</td><td>6</td><td>9</td><td>41</td><td>16</td><td>11</td><td>&hellip;</td><td>28</td><td>46</td><td>12</td><td>22</td><td>9</td><td>24</td><td>17</td><td>61</td><td>23</td><td>34</td><td>4</td><td>8</td><td>14</td><td>15</td><td>6</td><td>7</td><td>20</td><td>6</td><td>32</td><td>26</td><td>113</td><td>27</td><td>23</td><td>10</td><td>21</td><td>0</td><td>31</td><td>68</td><td>7</td><td>18</td><td>19</td><td>1</td><td>7</td><td>45</td><td>19</td><td>0</td><td>33</td></tr><tr><td>&quot;ENSG00000265064&quot;</td><td>&quot;MIR4692&quot;</td><td>0</td><td>0</td><td>1</td><td>0</td><td>0</td><td>0</td><td>0</td><td>0</td><td>0</td><td>0</td><td>0</td><td>0</td><td>0</td><td>0</td><td>0</td><td>0</td><td>2</td><td>0</td><td>0</td><td>0</td><td>1</td><td>0</td><td>0</td><td>0</td><td>0</td><td>0</td><td>0</td><td>0</td><td>0</td><td>0</td><td>0</td><td>0</td><td>0</td><td>0</td><td>0</td><td>&hellip;</td><td>0</td><td>0</td><td>2</td><td>1</td><td>2</td><td>0</td><td>0</td><td>0</td><td>1</td><td>1</td><td>0</td><td>0</td><td>0</td><td>2</td><td>0</td><td>0</td><td>0</td><td>0</td><td>0</td><td>0</td><td>1</td><td>0</td><td>1</td><td>0</td><td>2</td><td>0</td><td>0</td><td>0</td><td>0</td><td>0</td><td>7</td><td>0</td><td>0</td><td>3</td><td>0</td><td>0</td><td>1</td></tr><tr><td>&quot;ENSG00000263573&quot;</td><td>&quot;MIR4270&quot;</td><td>2</td><td>0</td><td>0</td><td>0</td><td>0</td><td>1</td><td>0</td><td>0</td><td>0</td><td>0</td><td>0</td><td>0</td><td>0</td><td>0</td><td>0</td><td>0</td><td>0</td><td>0</td><td>2</td><td>0</td><td>2</td><td>0</td><td>0</td><td>2</td><td>0</td><td>1</td><td>0</td><td>0</td><td>0</td><td>0</td><td>1</td><td>0</td><td>1</td><td>0</td><td>0</td><td>&hellip;</td><td>0</td><td>0</td><td>1</td><td>0</td><td>1</td><td>2</td><td>0</td><td>0</td><td>2</td><td>2</td><td>0</td><td>2</td><td>0</td><td>1</td><td>0</td><td>0</td><td>0</td><td>0</td><td>0</td><td>0</td><td>0</td><td>0</td><td>0</td><td>1</td><td>0</td><td>0</td><td>1</td><td>0</td><td>0</td><td>3</td><td>0</td><td>2</td><td>1</td><td>0</td><td>0</td><td>4</td><td>2</td></tr><tr><td>&quot;ENSG00000221760&quot;</td><td>&quot;MIR548J&quot;</td><td>11</td><td>10</td><td>24</td><td>15</td><td>2</td><td>5</td><td>4</td><td>0</td><td>15</td><td>3</td><td>3</td><td>6</td><td>3</td><td>5</td><td>14</td><td>9</td><td>20</td><td>9</td><td>4</td><td>13</td><td>15</td><td>11</td><td>8</td><td>15</td><td>10</td><td>9</td><td>7</td><td>12</td><td>0</td><td>6</td><td>9</td><td>3</td><td>9</td><td>20</td><td>22</td><td>&hellip;</td><td>6</td><td>5</td><td>7</td><td>6</td><td>2</td><td>4</td><td>12</td><td>12</td><td>10</td><td>26</td><td>17</td><td>11</td><td>12</td><td>22</td><td>56</td><td>7</td><td>9</td><td>3</td><td>6</td><td>3</td><td>8</td><td>6</td><td>16</td><td>2</td><td>8</td><td>9</td><td>7</td><td>7</td><td>11</td><td>16</td><td>12</td><td>14</td><td>17</td><td>4</td><td>12</td><td>0</td><td>16</td></tr><tr><td>&quot;ENSG00000265520&quot;</td><td>&quot;MIR548V&quot;</td><td>0</td><td>0</td><td>0</td><td>1</td><td>2</td><td>5</td><td>14</td><td>0</td><td>4</td><td>0</td><td>0</td><td>0</td><td>0</td><td>0</td><td>0</td><td>1</td><td>0</td><td>0</td><td>0</td><td>0</td><td>2</td><td>4</td><td>0</td><td>0</td><td>0</td><td>0</td><td>0</td><td>2</td><td>0</td><td>0</td><td>0</td><td>0</td><td>2</td><td>0</td><td>6</td><td>&hellip;</td><td>0</td><td>0</td><td>0</td><td>1</td><td>3</td><td>2</td><td>0</td><td>0</td><td>2</td><td>0</td><td>1</td><td>0</td><td>0</td><td>0</td><td>0</td><td>0</td><td>0</td><td>0</td><td>3</td><td>1</td><td>0</td><td>0</td><td>0</td><td>0</td><td>5</td><td>1</td><td>1</td><td>0</td><td>0</td><td>4</td><td>0</td><td>0</td><td>0</td><td>0</td><td>0</td><td>0</td><td>2</td></tr></tbody></table></div>"
      ],
      "text/plain": [
       "shape: (1_879, 88)\n",
       "┌─────────────────┬───────────┬─────┬─────┬───┬──────┬──────┬──────┬──────┐\n",
       "│ GENE_ID         ┆ GENE_NAME ┆ N54 ┆ N58 ┆ … ┆ V888 ┆ V940 ┆ V956 ┆ V957 │\n",
       "│ ---             ┆ ---       ┆ --- ┆ --- ┆   ┆ ---  ┆ ---  ┆ ---  ┆ ---  │\n",
       "│ str             ┆ str       ┆ i64 ┆ i64 ┆   ┆ i64  ┆ i64  ┆ i64  ┆ i64  │\n",
       "╞═════════════════╪═══════════╪═════╪═════╪═══╪══════╪══════╪══════╪══════╡\n",
       "│ ENSG00000263642 ┆ MIR4802   ┆ 3   ┆ 1   ┆ … ┆ 3    ┆ 3    ┆ 3    ┆ 0    │\n",
       "│ ENSG00000283842 ┆ MIR4751   ┆ 1   ┆ 1   ┆ … ┆ 1    ┆ 1    ┆ 0    ┆ 1    │\n",
       "│ ENSG00000199047 ┆ MIR378A   ┆ 9   ┆ 3   ┆ … ┆ 4    ┆ 1    ┆ 2    ┆ 4    │\n",
       "│ ENSG00000207559 ┆ MIR578    ┆ 0   ┆ 0   ┆ … ┆ 0    ┆ 0    ┆ 4    ┆ 0    │\n",
       "│ ENSG00000207698 ┆ MIR32     ┆ 12  ┆ 10  ┆ … ┆ 13   ┆ 13   ┆ 17   ┆ 14   │\n",
       "│ …               ┆ …         ┆ …   ┆ …   ┆ … ┆ …    ┆ …    ┆ …    ┆ …    │\n",
       "│ ENSG00000263414 ┆ MIR3187   ┆ 7   ┆ 28  ┆ … ┆ 45   ┆ 19   ┆ 0    ┆ 33   │\n",
       "│ ENSG00000265064 ┆ MIR4692   ┆ 0   ┆ 0   ┆ … ┆ 3    ┆ 0    ┆ 0    ┆ 1    │\n",
       "│ ENSG00000263573 ┆ MIR4270   ┆ 2   ┆ 0   ┆ … ┆ 0    ┆ 0    ┆ 4    ┆ 2    │\n",
       "│ ENSG00000221760 ┆ MIR548J   ┆ 11  ┆ 10  ┆ … ┆ 4    ┆ 12   ┆ 0    ┆ 16   │\n",
       "│ ENSG00000265520 ┆ MIR548V   ┆ 0   ┆ 0   ┆ … ┆ 0    ┆ 0    ┆ 0    ┆ 2    │\n",
       "└─────────────────┴───────────┴─────┴─────┴───┴──────┴──────┴──────┴──────┘"
      ]
     },
     "execution_count": 5,
     "metadata": {},
     "output_type": "execute_result"
    }
   ],
   "source": [
    "# mirna genes\n",
    "mirna_genes = pl.read_csv(\n",
    "    \"mds_data/raw/200625_allRNA_fromRNAseq_annot_hg38.tsv\", separator=\"\\t\"\n",
    ")\n",
    "\n",
    "mirna_genes = mirna_genes.filter(pl.col(\"GENE_TYPE\") == \"miRNA\")\n",
    "\n",
    "mirna_genes = mirna_genes.drop([\"CHR\", \"START\", \"END\", \"GENE_TYPE\"])\n",
    "gene_ids = mirna_genes[\"GENE_ID\"]\n",
    "\n",
    "rename_dict = {col: col.split(\"_\")[0] for col in mirna_genes.columns[2:]}\n",
    "mirna_genes = mirna_genes.rename(rename_dict)\n",
    "\n",
    "mirna_genes_names = mirna_genes.columns[2:]\n",
    "mirna_genes"
   ]
  },
  {
   "cell_type": "markdown",
   "metadata": {},
   "source": [
    "# load miRNA"
   ]
  },
  {
   "cell_type": "code",
   "execution_count": 6,
   "metadata": {},
   "outputs": [
    {
     "data": {
      "text/html": [
       "<div><style>\n",
       ".dataframe > thead > tr,\n",
       ".dataframe > tbody > tr {\n",
       "  text-align: right;\n",
       "  white-space: pre-wrap;\n",
       "}\n",
       "</style>\n",
       "<small>shape: (2_553, 106)</small><table border=\"1\" class=\"dataframe\"><thead><tr><th>miRNA</th><th>V1565</th><th>N58</th><th>V1874</th><th>V777</th><th>N80</th><th>V1788</th><th>N65</th><th>V2368</th><th>N81</th><th>N59</th><th>V2286</th><th>V406</th><th>V100</th><th>N82</th><th>V2133</th><th>V574</th><th>V2115</th><th>V1921</th><th>V714</th><th>V637</th><th>V1742</th><th>V1744</th><th>V2248</th><th>V1428</th><th>V18</th><th>V1857</th><th>V839</th><th>V912</th><th>V1048</th><th>V911</th><th>V940</th><th>V681</th><th>V708</th><th>N60</th><th>N70</th><th>V148</th><th>&hellip;</th><th>V1441</th><th>V1699</th><th>V1297</th><th>V1321</th><th>V1505</th><th>V1249</th><th>V1456</th><th>V1426</th><th>V1394</th><th>V1592</th><th>V1528</th><th>V1591</th><th>V833</th><th>V1708</th><th>V1800</th><th>V1776</th><th>V1823</th><th>V1775</th><th>V1834</th><th>V2378</th><th>V2414</th><th>V1860</th><th>V1884</th><th>V1920</th><th>V2322</th><th>V2311</th><th>V2291</th><th>V1957</th><th>V2092</th><th>V2284</th><th>V2278</th><th>V2110</th><th>V2179</th><th>V2147</th><th>V2224</th><th>V2089</th><th>V788</th></tr><tr><td>str</td><td>i64</td><td>i64</td><td>i64</td><td>i64</td><td>i64</td><td>i64</td><td>i64</td><td>i64</td><td>i64</td><td>i64</td><td>i64</td><td>i64</td><td>i64</td><td>i64</td><td>i64</td><td>i64</td><td>i64</td><td>i64</td><td>i64</td><td>i64</td><td>i64</td><td>i64</td><td>i64</td><td>i64</td><td>i64</td><td>i64</td><td>i64</td><td>i64</td><td>i64</td><td>i64</td><td>i64</td><td>i64</td><td>i64</td><td>i64</td><td>i64</td><td>i64</td><td>&hellip;</td><td>i64</td><td>i64</td><td>i64</td><td>i64</td><td>i64</td><td>i64</td><td>i64</td><td>i64</td><td>i64</td><td>i64</td><td>i64</td><td>i64</td><td>i64</td><td>i64</td><td>i64</td><td>i64</td><td>i64</td><td>i64</td><td>i64</td><td>i64</td><td>i64</td><td>i64</td><td>i64</td><td>i64</td><td>i64</td><td>i64</td><td>i64</td><td>i64</td><td>i64</td><td>i64</td><td>i64</td><td>i64</td><td>i64</td><td>i64</td><td>i64</td><td>i64</td><td>i64</td></tr></thead><tbody><tr><td>&quot;hsa-let-7a-2-3p&quot;</td><td>23</td><td>0</td><td>11</td><td>12</td><td>11</td><td>0</td><td>13</td><td>12</td><td>12</td><td>36</td><td>15</td><td>0</td><td>35</td><td>0</td><td>17</td><td>10</td><td>12</td><td>10</td><td>13</td><td>0</td><td>0</td><td>18</td><td>58</td><td>11</td><td>12</td><td>60</td><td>0</td><td>17</td><td>26</td><td>13</td><td>18</td><td>0</td><td>13</td><td>0</td><td>0</td><td>0</td><td>&hellip;</td><td>0</td><td>15</td><td>10</td><td>0</td><td>27</td><td>0</td><td>0</td><td>0</td><td>0</td><td>10</td><td>0</td><td>18</td><td>0</td><td>0</td><td>10</td><td>19</td><td>79</td><td>12</td><td>0</td><td>17</td><td>24</td><td>17</td><td>0</td><td>12</td><td>33</td><td>0</td><td>13</td><td>0</td><td>10</td><td>12</td><td>17</td><td>47</td><td>0</td><td>13</td><td>26</td><td>20</td><td>12</td></tr><tr><td>&quot;hsa-let-7a-3p&quot;</td><td>1224</td><td>1619</td><td>3376</td><td>1972</td><td>1811</td><td>1490</td><td>589</td><td>1721</td><td>2311</td><td>1272</td><td>1211</td><td>1291</td><td>280</td><td>1455</td><td>197</td><td>1503</td><td>1785</td><td>1379</td><td>1150</td><td>877</td><td>1239</td><td>5322</td><td>1659</td><td>1081</td><td>4406</td><td>431</td><td>1859</td><td>2536</td><td>2123</td><td>2414</td><td>1062</td><td>1164</td><td>1876</td><td>642</td><td>663</td><td>1079</td><td>&hellip;</td><td>1970</td><td>1087</td><td>1096</td><td>1382</td><td>1564</td><td>2106</td><td>1657</td><td>542</td><td>1472</td><td>1084</td><td>1287</td><td>1164</td><td>1887</td><td>1440</td><td>1033</td><td>1326</td><td>879</td><td>2074</td><td>1043</td><td>3247</td><td>1356</td><td>1351</td><td>1133</td><td>242</td><td>3349</td><td>1745</td><td>1555</td><td>1015</td><td>1132</td><td>1667</td><td>3147</td><td>1072</td><td>797</td><td>1027</td><td>4693</td><td>1156</td><td>2476</td></tr><tr><td>&quot;hsa-let-7a-5p&quot;</td><td>608369</td><td>933004</td><td>1069405</td><td>850554</td><td>594247</td><td>1153938</td><td>272068</td><td>927860</td><td>608709</td><td>612056</td><td>445097</td><td>781218</td><td>122906</td><td>565251</td><td>118793</td><td>305157</td><td>1480722</td><td>512584</td><td>513964</td><td>414213</td><td>647469</td><td>1169076</td><td>569087</td><td>430376</td><td>821909</td><td>424407</td><td>145849</td><td>198109</td><td>250684</td><td>127034</td><td>181953</td><td>412468</td><td>315491</td><td>546646</td><td>555368</td><td>669588</td><td>&hellip;</td><td>803740</td><td>600765</td><td>772108</td><td>873003</td><td>522350</td><td>980458</td><td>359406</td><td>173762</td><td>1578499</td><td>967461</td><td>538431</td><td>420551</td><td>641671</td><td>1141110</td><td>1320356</td><td>598512</td><td>423203</td><td>827435</td><td>475608</td><td>1073692</td><td>604248</td><td>491170</td><td>735693</td><td>321751</td><td>654808</td><td>587831</td><td>722210</td><td>522961</td><td>451919</td><td>622551</td><td>737114</td><td>464613</td><td>481072</td><td>606788</td><td>716735</td><td>575703</td><td>175859</td></tr><tr><td>&quot;hsa-let-7b-3p&quot;</td><td>1001</td><td>932</td><td>1023</td><td>1177</td><td>614</td><td>1251</td><td>285</td><td>1086</td><td>615</td><td>825</td><td>617</td><td>880</td><td>185</td><td>796</td><td>280</td><td>428</td><td>1437</td><td>571</td><td>588</td><td>477</td><td>682</td><td>2064</td><td>710</td><td>653</td><td>1556</td><td>460</td><td>639</td><td>1164</td><td>811</td><td>964</td><td>528</td><td>947</td><td>695</td><td>578</td><td>799</td><td>1046</td><td>&hellip;</td><td>1406</td><td>540</td><td>1149</td><td>1080</td><td>955</td><td>1515</td><td>567</td><td>483</td><td>1356</td><td>867</td><td>894</td><td>504</td><td>1018</td><td>1922</td><td>960</td><td>678</td><td>434</td><td>1138</td><td>726</td><td>1606</td><td>857</td><td>800</td><td>934</td><td>402</td><td>1031</td><td>972</td><td>980</td><td>648</td><td>592</td><td>1132</td><td>1185</td><td>842</td><td>766</td><td>959</td><td>1045</td><td>1071</td><td>1190</td></tr><tr><td>&quot;hsa-let-7b-5p&quot;</td><td>342092</td><td>304774</td><td>294765</td><td>290467</td><td>176982</td><td>430718</td><td>85112</td><td>340512</td><td>176784</td><td>226291</td><td>145897</td><td>319534</td><td>43416</td><td>204520</td><td>37736</td><td>85009</td><td>435604</td><td>149807</td><td>181362</td><td>153956</td><td>268507</td><td>409761</td><td>169404</td><td>160704</td><td>272913</td><td>189890</td><td>67291</td><td>91100</td><td>104068</td><td>41298</td><td>72557</td><td>128479</td><td>137384</td><td>163905</td><td>191757</td><td>281571</td><td>&hellip;</td><td>324863</td><td>195570</td><td>401014</td><td>305985</td><td>171342</td><td>412420</td><td>125376</td><td>125395</td><td>653889</td><td>414149</td><td>191121</td><td>140175</td><td>196653</td><td>639686</td><td>607506</td><td>170347</td><td>151499</td><td>285312</td><td>179951</td><td>392510</td><td>187292</td><td>148536</td><td>284648</td><td>23841</td><td>199909</td><td>210815</td><td>244025</td><td>61806</td><td>150372</td><td>254426</td><td>242105</td><td>175841</td><td>174812</td><td>279244</td><td>212584</td><td>214623</td><td>47734</td></tr><tr><td>&hellip;</td><td>&hellip;</td><td>&hellip;</td><td>&hellip;</td><td>&hellip;</td><td>&hellip;</td><td>&hellip;</td><td>&hellip;</td><td>&hellip;</td><td>&hellip;</td><td>&hellip;</td><td>&hellip;</td><td>&hellip;</td><td>&hellip;</td><td>&hellip;</td><td>&hellip;</td><td>&hellip;</td><td>&hellip;</td><td>&hellip;</td><td>&hellip;</td><td>&hellip;</td><td>&hellip;</td><td>&hellip;</td><td>&hellip;</td><td>&hellip;</td><td>&hellip;</td><td>&hellip;</td><td>&hellip;</td><td>&hellip;</td><td>&hellip;</td><td>&hellip;</td><td>&hellip;</td><td>&hellip;</td><td>&hellip;</td><td>&hellip;</td><td>&hellip;</td><td>&hellip;</td><td>&hellip;</td><td>&hellip;</td><td>&hellip;</td><td>&hellip;</td><td>&hellip;</td><td>&hellip;</td><td>&hellip;</td><td>&hellip;</td><td>&hellip;</td><td>&hellip;</td><td>&hellip;</td><td>&hellip;</td><td>&hellip;</td><td>&hellip;</td><td>&hellip;</td><td>&hellip;</td><td>&hellip;</td><td>&hellip;</td><td>&hellip;</td><td>&hellip;</td><td>&hellip;</td><td>&hellip;</td><td>&hellip;</td><td>&hellip;</td><td>&hellip;</td><td>&hellip;</td><td>&hellip;</td><td>&hellip;</td><td>&hellip;</td><td>&hellip;</td><td>&hellip;</td><td>&hellip;</td><td>&hellip;</td><td>&hellip;</td><td>&hellip;</td><td>&hellip;</td><td>&hellip;</td><td>&hellip;</td></tr><tr><td>&quot;hsa-miR-98-5p&quot;</td><td>3623</td><td>6190</td><td>11127</td><td>5755</td><td>7987</td><td>7638</td><td>3615</td><td>4912</td><td>8379</td><td>6262</td><td>5413</td><td>5450</td><td>1803</td><td>3653</td><td>1182</td><td>8473</td><td>10794</td><td>6428</td><td>3961</td><td>4019</td><td>4443</td><td>18940</td><td>5849</td><td>3854</td><td>16665</td><td>2817</td><td>1123</td><td>979</td><td>1967</td><td>1027</td><td>1221</td><td>2805</td><td>1337</td><td>3109</td><td>3969</td><td>3602</td><td>&hellip;</td><td>3447</td><td>5269</td><td>3617</td><td>3639</td><td>8158</td><td>8577</td><td>3443</td><td>812</td><td>8640</td><td>3890</td><td>6773</td><td>6405</td><td>4029</td><td>3371</td><td>6547</td><td>4734</td><td>5314</td><td>6176</td><td>3302</td><td>6752</td><td>7932</td><td>8478</td><td>4598</td><td>611</td><td>7403</td><td>5955</td><td>10223</td><td>1818</td><td>5579</td><td>7627</td><td>6885</td><td>5565</td><td>5088</td><td>4885</td><td>7689</td><td>4639</td><td>1691</td></tr><tr><td>&quot;hsa-miR-99a-3p&quot;</td><td>145</td><td>578</td><td>2236</td><td>1246</td><td>721</td><td>1013</td><td>403</td><td>1020</td><td>834</td><td>636</td><td>206</td><td>571</td><td>88</td><td>891</td><td>124</td><td>309</td><td>1206</td><td>545</td><td>472</td><td>163</td><td>1245</td><td>1755</td><td>318</td><td>390</td><td>1226</td><td>325</td><td>286</td><td>445</td><td>514</td><td>429</td><td>572</td><td>295</td><td>541</td><td>305</td><td>961</td><td>440</td><td>&hellip;</td><td>781</td><td>337</td><td>754</td><td>1960</td><td>399</td><td>591</td><td>522</td><td>86</td><td>1033</td><td>302</td><td>200</td><td>439</td><td>1310</td><td>546</td><td>683</td><td>377</td><td>132</td><td>1758</td><td>1193</td><td>846</td><td>396</td><td>439</td><td>255</td><td>455</td><td>860</td><td>322</td><td>232</td><td>1239</td><td>392</td><td>643</td><td>765</td><td>260</td><td>205</td><td>689</td><td>1085</td><td>243</td><td>428</td></tr><tr><td>&quot;hsa-miR-99a-5p&quot;</td><td>2325</td><td>5912</td><td>46227</td><td>14205</td><td>10895</td><td>7921</td><td>13504</td><td>8229</td><td>18405</td><td>20334</td><td>1753</td><td>5294</td><td>690</td><td>4773</td><td>3681</td><td>6721</td><td>25169</td><td>12275</td><td>2998</td><td>9710</td><td>5980</td><td>14416</td><td>4179</td><td>2720</td><td>13514</td><td>3690</td><td>2604</td><td>1975</td><td>2367</td><td>3836</td><td>2411</td><td>2446</td><td>2441</td><td>2907</td><td>9476</td><td>4754</td><td>&hellip;</td><td>7129</td><td>3175</td><td>12337</td><td>15035</td><td>2854</td><td>9555</td><td>2547</td><td>1000</td><td>9952</td><td>2709</td><td>1768</td><td>2669</td><td>19219</td><td>5157</td><td>5804</td><td>3801</td><td>1972</td><td>13403</td><td>13523</td><td>8872</td><td>7846</td><td>6208</td><td>1859</td><td>3834</td><td>5936</td><td>3779</td><td>2658</td><td>12357</td><td>3347</td><td>9017</td><td>8966</td><td>3626</td><td>2045</td><td>5751</td><td>10492</td><td>1472</td><td>2934</td></tr><tr><td>&quot;hsa-miR-99b-3p&quot;</td><td>346</td><td>489</td><td>462</td><td>1045</td><td>264</td><td>385</td><td>156</td><td>388</td><td>267</td><td>314</td><td>118</td><td>377</td><td>80</td><td>330</td><td>79</td><td>298</td><td>1007</td><td>144</td><td>305</td><td>65</td><td>152</td><td>568</td><td>214</td><td>154</td><td>261</td><td>204</td><td>168</td><td>193</td><td>200</td><td>146</td><td>276</td><td>215</td><td>310</td><td>199</td><td>332</td><td>412</td><td>&hellip;</td><td>377</td><td>143</td><td>554</td><td>580</td><td>272</td><td>342</td><td>126</td><td>258</td><td>368</td><td>453</td><td>276</td><td>279</td><td>1007</td><td>266</td><td>548</td><td>179</td><td>96</td><td>618</td><td>287</td><td>778</td><td>356</td><td>155</td><td>83</td><td>600</td><td>358</td><td>312</td><td>696</td><td>1094</td><td>168</td><td>442</td><td>277</td><td>171</td><td>129</td><td>288</td><td>348</td><td>163</td><td>169</td></tr><tr><td>&quot;hsa-miR-99b-5p&quot;</td><td>4988</td><td>9466</td><td>8283</td><td>22241</td><td>4372</td><td>5951</td><td>2733</td><td>5937</td><td>4180</td><td>7358</td><td>2077</td><td>7670</td><td>1049</td><td>6569</td><td>2058</td><td>7738</td><td>23736</td><td>3128</td><td>5297</td><td>1010</td><td>3425</td><td>10739</td><td>3447</td><td>2979</td><td>4561</td><td>4218</td><td>3332</td><td>4092</td><td>4026</td><td>3819</td><td>3059</td><td>3837</td><td>6285</td><td>4057</td><td>6911</td><td>8820</td><td>&hellip;</td><td>6741</td><td>3189</td><td>10274</td><td>12296</td><td>4416</td><td>6425</td><td>2057</td><td>5556</td><td>8656</td><td>9527</td><td>5127</td><td>4290</td><td>21687</td><td>5209</td><td>13834</td><td>3130</td><td>1535</td><td>10455</td><td>6366</td><td>9715</td><td>4057</td><td>2626</td><td>1832</td><td>3543</td><td>5493</td><td>5585</td><td>16642</td><td>19576</td><td>2448</td><td>7074</td><td>4597</td><td>2888</td><td>2520</td><td>5725</td><td>5752</td><td>2499</td><td>3783</td></tr></tbody></table></div>"
      ],
      "text/plain": [
       "shape: (2_553, 106)\n",
       "┌─────────────────┬────────┬────────┬─────────┬───┬────────┬────────┬────────┬────────┐\n",
       "│ miRNA           ┆ V1565  ┆ N58    ┆ V1874   ┆ … ┆ V2147  ┆ V2224  ┆ V2089  ┆ V788   │\n",
       "│ ---             ┆ ---    ┆ ---    ┆ ---     ┆   ┆ ---    ┆ ---    ┆ ---    ┆ ---    │\n",
       "│ str             ┆ i64    ┆ i64    ┆ i64     ┆   ┆ i64    ┆ i64    ┆ i64    ┆ i64    │\n",
       "╞═════════════════╪════════╪════════╪═════════╪═══╪════════╪════════╪════════╪════════╡\n",
       "│ hsa-let-7a-2-3p ┆ 23     ┆ 0      ┆ 11      ┆ … ┆ 13     ┆ 26     ┆ 20     ┆ 12     │\n",
       "│ hsa-let-7a-3p   ┆ 1224   ┆ 1619   ┆ 3376    ┆ … ┆ 1027   ┆ 4693   ┆ 1156   ┆ 2476   │\n",
       "│ hsa-let-7a-5p   ┆ 608369 ┆ 933004 ┆ 1069405 ┆ … ┆ 606788 ┆ 716735 ┆ 575703 ┆ 175859 │\n",
       "│ hsa-let-7b-3p   ┆ 1001   ┆ 932    ┆ 1023    ┆ … ┆ 959    ┆ 1045   ┆ 1071   ┆ 1190   │\n",
       "│ hsa-let-7b-5p   ┆ 342092 ┆ 304774 ┆ 294765  ┆ … ┆ 279244 ┆ 212584 ┆ 214623 ┆ 47734  │\n",
       "│ …               ┆ …      ┆ …      ┆ …       ┆ … ┆ …      ┆ …      ┆ …      ┆ …      │\n",
       "│ hsa-miR-98-5p   ┆ 3623   ┆ 6190   ┆ 11127   ┆ … ┆ 4885   ┆ 7689   ┆ 4639   ┆ 1691   │\n",
       "│ hsa-miR-99a-3p  ┆ 145    ┆ 578    ┆ 2236    ┆ … ┆ 689    ┆ 1085   ┆ 243    ┆ 428    │\n",
       "│ hsa-miR-99a-5p  ┆ 2325   ┆ 5912   ┆ 46227   ┆ … ┆ 5751   ┆ 10492  ┆ 1472   ┆ 2934   │\n",
       "│ hsa-miR-99b-3p  ┆ 346    ┆ 489    ┆ 462     ┆ … ┆ 288    ┆ 348    ┆ 163    ┆ 169    │\n",
       "│ hsa-miR-99b-5p  ┆ 4988   ┆ 9466   ┆ 8283    ┆ … ┆ 5725   ┆ 5752   ┆ 2499   ┆ 3783   │\n",
       "└─────────────────┴────────┴────────┴─────────┴───┴────────┴────────┴────────┴────────┘"
      ]
     },
     "execution_count": 6,
     "metadata": {},
     "output_type": "execute_result"
    }
   ],
   "source": [
    "# load mirna\n",
    "mirna = pl.read_excel(\"mds_data/raw/final_all_samples_miRNA_seq.xlsx\")\n",
    "\n",
    "mirna_rename_dict = {col: col.split(\"_\")[0] for col in mirna.columns[1:]}\n",
    "mirna = mirna.rename(mirna_rename_dict)\n",
    "mirna_names = mirna.columns[1:]\n",
    "\n",
    "mirna"
   ]
  },
  {
   "cell_type": "code",
   "execution_count": 10,
   "metadata": {},
   "outputs": [
    {
     "data": {
      "text/plain": [
       "86"
      ]
     },
     "execution_count": 10,
     "metadata": {},
     "output_type": "execute_result"
    }
   ],
   "source": [
    "len(set(mrna_names).intersection(set(mirna_genes_names)))"
   ]
  },
  {
   "cell_type": "markdown",
   "metadata": {},
   "source": [
    "# load circRNA"
   ]
  },
  {
   "cell_type": "code",
   "execution_count": 11,
   "metadata": {},
   "outputs": [
    {
     "data": {
      "text/html": [
       "<div><style>\n",
       ".dataframe > thead > tr,\n",
       ".dataframe > tbody > tr {\n",
       "  text-align: right;\n",
       "  white-space: pre-wrap;\n",
       "}\n",
       "</style>\n",
       "<small>shape: (40_694, 91)</small><table border=\"1\" class=\"dataframe\"><thead><tr><th>STRAND</th><th>circRNA_ID</th><th>GENE_ID</th><th>GENE_TYPE</th><th>GENE_NAME</th><th>N54</th><th>N58</th><th>N60</th><th>N70</th><th>N82</th><th>N83</th><th>N84</th><th>N85</th><th>N86</th><th>N87</th><th>NV1428</th><th>NV911</th><th>NV912</th><th>V1048</th><th>V108</th><th>V1090</th><th>V1249</th><th>V125</th><th>V1279</th><th>V1297</th><th>V1321</th><th>V1337</th><th>V1394</th><th>V1422</th><th>V1426</th><th>V1441</th><th>V1456</th><th>V148</th><th>V1505</th><th>V1528</th><th>V1554</th><th>V1565</th><th>&hellip;</th><th>V1921</th><th>V2089</th><th>V2092</th><th>V2110</th><th>V2133</th><th>V221</th><th>V2241</th><th>V344</th><th>V359</th><th>V406</th><th>V456</th><th>V513</th><th>V538</th><th>V553</th><th>V574</th><th>V624</th><th>V630</th><th>V637</th><th>V655</th><th>V67</th><th>V681</th><th>V708</th><th>V712</th><th>V714</th><th>V716</th><th>V777</th><th>V788</th><th>V795</th><th>V806</th><th>V833</th><th>V839</th><th>V853</th><th>V883</th><th>V888</th><th>V940</th><th>V956</th><th>V957</th></tr><tr><td>str</td><td>str</td><td>str</td><td>str</td><td>str</td><td>i64</td><td>i64</td><td>i64</td><td>i64</td><td>i64</td><td>i64</td><td>i64</td><td>i64</td><td>i64</td><td>i64</td><td>i64</td><td>i64</td><td>i64</td><td>i64</td><td>i64</td><td>i64</td><td>i64</td><td>i64</td><td>i64</td><td>i64</td><td>i64</td><td>i64</td><td>i64</td><td>i64</td><td>i64</td><td>i64</td><td>i64</td><td>i64</td><td>i64</td><td>i64</td><td>i64</td><td>i64</td><td>&hellip;</td><td>i64</td><td>i64</td><td>i64</td><td>i64</td><td>i64</td><td>i64</td><td>i64</td><td>i64</td><td>i64</td><td>i64</td><td>i64</td><td>i64</td><td>i64</td><td>i64</td><td>i64</td><td>i64</td><td>i64</td><td>i64</td><td>i64</td><td>i64</td><td>i64</td><td>i64</td><td>i64</td><td>i64</td><td>i64</td><td>i64</td><td>i64</td><td>i64</td><td>i64</td><td>i64</td><td>i64</td><td>i64</td><td>i64</td><td>i64</td><td>i64</td><td>i64</td><td>i64</td></tr></thead><tbody><tr><td>&quot;-&quot;</td><td>&quot;hsa_circ_0009205&quot;</td><td>&quot;ENSG00000188976&quot;</td><td>&quot;protein_coding&quot;</td><td>&quot;NOC2L&quot;</td><td>2</td><td>0</td><td>0</td><td>0</td><td>0</td><td>0</td><td>0</td><td>0</td><td>2</td><td>0</td><td>0</td><td>0</td><td>0</td><td>0</td><td>0</td><td>0</td><td>0</td><td>0</td><td>0</td><td>0</td><td>0</td><td>0</td><td>0</td><td>0</td><td>2</td><td>0</td><td>0</td><td>0</td><td>0</td><td>0</td><td>0</td><td>0</td><td>&hellip;</td><td>0</td><td>0</td><td>0</td><td>0</td><td>0</td><td>0</td><td>0</td><td>0</td><td>3</td><td>0</td><td>0</td><td>0</td><td>0</td><td>0</td><td>0</td><td>0</td><td>0</td><td>0</td><td>0</td><td>0</td><td>0</td><td>0</td><td>0</td><td>0</td><td>0</td><td>0</td><td>3</td><td>0</td><td>0</td><td>0</td><td>0</td><td>4</td><td>0</td><td>0</td><td>0</td><td>0</td><td>0</td></tr><tr><td>&quot;-&quot;</td><td>&quot;hsa_circ_0000002&quot;</td><td>&quot;ENSG00000078808&quot;</td><td>&quot;protein_coding&quot;</td><td>&quot;SDF4&quot;</td><td>17</td><td>23</td><td>25</td><td>23</td><td>22</td><td>23</td><td>32</td><td>27</td><td>35</td><td>26</td><td>23</td><td>13</td><td>8</td><td>13</td><td>10</td><td>18</td><td>23</td><td>31</td><td>16</td><td>15</td><td>49</td><td>31</td><td>104</td><td>16</td><td>34</td><td>23</td><td>27</td><td>32</td><td>25</td><td>35</td><td>32</td><td>28</td><td>&hellip;</td><td>11</td><td>68</td><td>12</td><td>8</td><td>0</td><td>0</td><td>8</td><td>38</td><td>34</td><td>19</td><td>19</td><td>17</td><td>17</td><td>36</td><td>11</td><td>53</td><td>23</td><td>5</td><td>33</td><td>41</td><td>34</td><td>28</td><td>10</td><td>25</td><td>21</td><td>33</td><td>49</td><td>53</td><td>29</td><td>11</td><td>5</td><td>123</td><td>33</td><td>33</td><td>18</td><td>29</td><td>15</td></tr><tr><td>&quot;-&quot;</td><td>null</td><td>&quot;ENSG00000107404&quot;</td><td>&quot;protein_coding&quot;</td><td>&quot;DVL1&quot;</td><td>2</td><td>0</td><td>0</td><td>0</td><td>0</td><td>0</td><td>0</td><td>0</td><td>0</td><td>0</td><td>0</td><td>0</td><td>0</td><td>0</td><td>0</td><td>0</td><td>0</td><td>0</td><td>0</td><td>0</td><td>0</td><td>0</td><td>0</td><td>0</td><td>0</td><td>0</td><td>0</td><td>0</td><td>0</td><td>0</td><td>0</td><td>0</td><td>&hellip;</td><td>0</td><td>0</td><td>0</td><td>0</td><td>0</td><td>0</td><td>0</td><td>0</td><td>0</td><td>0</td><td>0</td><td>0</td><td>0</td><td>0</td><td>0</td><td>0</td><td>0</td><td>0</td><td>0</td><td>0</td><td>0</td><td>0</td><td>0</td><td>0</td><td>0</td><td>0</td><td>0</td><td>0</td><td>0</td><td>0</td><td>0</td><td>0</td><td>0</td><td>0</td><td>0</td><td>0</td><td>0</td></tr><tr><td>&quot;-&quot;</td><td>null</td><td>&quot;ENSG00000160075&quot;</td><td>&quot;protein_coding&quot;</td><td>&quot;SSU72&quot;</td><td>3</td><td>0</td><td>0</td><td>0</td><td>0</td><td>2</td><td>0</td><td>2</td><td>0</td><td>3</td><td>0</td><td>4</td><td>0</td><td>3</td><td>0</td><td>2</td><td>0</td><td>3</td><td>0</td><td>4</td><td>4</td><td>0</td><td>0</td><td>0</td><td>10</td><td>0</td><td>0</td><td>0</td><td>0</td><td>0</td><td>0</td><td>4</td><td>&hellip;</td><td>3</td><td>0</td><td>0</td><td>0</td><td>0</td><td>0</td><td>0</td><td>3</td><td>0</td><td>0</td><td>0</td><td>0</td><td>2</td><td>0</td><td>0</td><td>3</td><td>0</td><td>0</td><td>0</td><td>0</td><td>0</td><td>0</td><td>0</td><td>0</td><td>0</td><td>0</td><td>0</td><td>0</td><td>0</td><td>0</td><td>0</td><td>0</td><td>0</td><td>0</td><td>0</td><td>0</td><td>0</td></tr><tr><td>&quot;-&quot;</td><td>&quot;hsa_circ_0000007&quot;</td><td>&quot;ENSG00000078369&quot;</td><td>&quot;protein_coding&quot;</td><td>&quot;GNB1&quot;</td><td>6</td><td>6</td><td>0</td><td>2</td><td>3</td><td>4</td><td>8</td><td>7</td><td>4</td><td>4</td><td>5</td><td>3</td><td>4</td><td>5</td><td>6</td><td>0</td><td>14</td><td>3</td><td>4</td><td>6</td><td>9</td><td>4</td><td>4</td><td>2</td><td>7</td><td>4</td><td>0</td><td>6</td><td>0</td><td>2</td><td>7</td><td>0</td><td>&hellip;</td><td>5</td><td>24</td><td>0</td><td>0</td><td>0</td><td>5</td><td>3</td><td>9</td><td>2</td><td>3</td><td>2</td><td>5</td><td>3</td><td>7</td><td>4</td><td>4</td><td>0</td><td>3</td><td>4</td><td>0</td><td>4</td><td>2</td><td>0</td><td>5</td><td>7</td><td>5</td><td>0</td><td>17</td><td>6</td><td>0</td><td>8</td><td>2</td><td>0</td><td>8</td><td>3</td><td>2</td><td>2</td></tr><tr><td>&hellip;</td><td>&hellip;</td><td>&hellip;</td><td>&hellip;</td><td>&hellip;</td><td>&hellip;</td><td>&hellip;</td><td>&hellip;</td><td>&hellip;</td><td>&hellip;</td><td>&hellip;</td><td>&hellip;</td><td>&hellip;</td><td>&hellip;</td><td>&hellip;</td><td>&hellip;</td><td>&hellip;</td><td>&hellip;</td><td>&hellip;</td><td>&hellip;</td><td>&hellip;</td><td>&hellip;</td><td>&hellip;</td><td>&hellip;</td><td>&hellip;</td><td>&hellip;</td><td>&hellip;</td><td>&hellip;</td><td>&hellip;</td><td>&hellip;</td><td>&hellip;</td><td>&hellip;</td><td>&hellip;</td><td>&hellip;</td><td>&hellip;</td><td>&hellip;</td><td>&hellip;</td><td>&hellip;</td><td>&hellip;</td><td>&hellip;</td><td>&hellip;</td><td>&hellip;</td><td>&hellip;</td><td>&hellip;</td><td>&hellip;</td><td>&hellip;</td><td>&hellip;</td><td>&hellip;</td><td>&hellip;</td><td>&hellip;</td><td>&hellip;</td><td>&hellip;</td><td>&hellip;</td><td>&hellip;</td><td>&hellip;</td><td>&hellip;</td><td>&hellip;</td><td>&hellip;</td><td>&hellip;</td><td>&hellip;</td><td>&hellip;</td><td>&hellip;</td><td>&hellip;</td><td>&hellip;</td><td>&hellip;</td><td>&hellip;</td><td>&hellip;</td><td>&hellip;</td><td>&hellip;</td><td>&hellip;</td><td>&hellip;</td><td>&hellip;</td><td>&hellip;</td><td>&hellip;</td><td>&hellip;</td></tr><tr><td>&quot;+&quot;</td><td>null</td><td>&quot;ENSG00000182150&quot;</td><td>&quot;protein_coding&quot;</td><td>&quot;ERCC6L2&quot;</td><td>0</td><td>0</td><td>0</td><td>0</td><td>0</td><td>0</td><td>0</td><td>0</td><td>0</td><td>0</td><td>0</td><td>0</td><td>0</td><td>0</td><td>0</td><td>0</td><td>0</td><td>0</td><td>0</td><td>0</td><td>0</td><td>0</td><td>0</td><td>0</td><td>0</td><td>0</td><td>0</td><td>0</td><td>0</td><td>0</td><td>0</td><td>0</td><td>&hellip;</td><td>0</td><td>0</td><td>0</td><td>0</td><td>0</td><td>0</td><td>0</td><td>0</td><td>0</td><td>0</td><td>0</td><td>0</td><td>0</td><td>0</td><td>0</td><td>0</td><td>0</td><td>0</td><td>0</td><td>0</td><td>0</td><td>0</td><td>0</td><td>0</td><td>0</td><td>0</td><td>0</td><td>0</td><td>0</td><td>0</td><td>0</td><td>0</td><td>0</td><td>0</td><td>0</td><td>0</td><td>3</td></tr><tr><td>&quot;-&quot;</td><td>null</td><td>&quot;ENSG00000136861&quot;</td><td>&quot;protein_coding&quot;</td><td>&quot;CDK5RAP2&quot;</td><td>0</td><td>0</td><td>0</td><td>0</td><td>0</td><td>0</td><td>0</td><td>0</td><td>0</td><td>0</td><td>0</td><td>0</td><td>0</td><td>0</td><td>0</td><td>0</td><td>0</td><td>0</td><td>0</td><td>0</td><td>0</td><td>0</td><td>0</td><td>0</td><td>0</td><td>0</td><td>0</td><td>0</td><td>0</td><td>0</td><td>0</td><td>0</td><td>&hellip;</td><td>0</td><td>0</td><td>0</td><td>0</td><td>0</td><td>0</td><td>0</td><td>0</td><td>0</td><td>0</td><td>0</td><td>0</td><td>0</td><td>0</td><td>0</td><td>0</td><td>0</td><td>0</td><td>0</td><td>0</td><td>0</td><td>0</td><td>0</td><td>0</td><td>0</td><td>0</td><td>0</td><td>0</td><td>0</td><td>0</td><td>0</td><td>0</td><td>0</td><td>0</td><td>0</td><td>0</td><td>2</td></tr><tr><td>&quot;+&quot;</td><td>null</td><td>&quot;ENSG00000107164&quot;</td><td>&quot;protein_coding&quot;</td><td>&quot;FUBP3&quot;</td><td>0</td><td>0</td><td>0</td><td>0</td><td>0</td><td>0</td><td>0</td><td>0</td><td>0</td><td>0</td><td>0</td><td>0</td><td>0</td><td>0</td><td>0</td><td>0</td><td>0</td><td>0</td><td>0</td><td>0</td><td>0</td><td>0</td><td>0</td><td>0</td><td>0</td><td>0</td><td>0</td><td>0</td><td>0</td><td>0</td><td>0</td><td>0</td><td>&hellip;</td><td>0</td><td>0</td><td>0</td><td>0</td><td>0</td><td>0</td><td>0</td><td>0</td><td>0</td><td>0</td><td>0</td><td>0</td><td>0</td><td>0</td><td>0</td><td>0</td><td>0</td><td>0</td><td>0</td><td>0</td><td>0</td><td>0</td><td>0</td><td>0</td><td>0</td><td>0</td><td>0</td><td>0</td><td>0</td><td>0</td><td>0</td><td>0</td><td>0</td><td>0</td><td>0</td><td>0</td><td>2</td></tr><tr><td>&quot;-&quot;</td><td>null</td><td>&quot;ENSG00000160271&quot;</td><td>&quot;protein_coding&quot;</td><td>&quot;RALGDS&quot;</td><td>0</td><td>0</td><td>0</td><td>0</td><td>0</td><td>0</td><td>0</td><td>0</td><td>0</td><td>0</td><td>0</td><td>0</td><td>0</td><td>0</td><td>0</td><td>0</td><td>0</td><td>0</td><td>0</td><td>0</td><td>0</td><td>0</td><td>0</td><td>0</td><td>0</td><td>0</td><td>0</td><td>0</td><td>0</td><td>0</td><td>0</td><td>0</td><td>&hellip;</td><td>0</td><td>0</td><td>0</td><td>0</td><td>0</td><td>0</td><td>0</td><td>0</td><td>0</td><td>0</td><td>0</td><td>0</td><td>0</td><td>0</td><td>0</td><td>0</td><td>0</td><td>0</td><td>0</td><td>0</td><td>0</td><td>0</td><td>0</td><td>0</td><td>0</td><td>0</td><td>0</td><td>0</td><td>0</td><td>0</td><td>0</td><td>0</td><td>0</td><td>0</td><td>0</td><td>0</td><td>2</td></tr><tr><td>&quot;+&quot;</td><td>null</td><td>&quot;ENSG00000147162&quot;</td><td>&quot;protein_coding&quot;</td><td>&quot;OGT&quot;</td><td>0</td><td>0</td><td>0</td><td>0</td><td>0</td><td>0</td><td>0</td><td>0</td><td>0</td><td>0</td><td>0</td><td>0</td><td>0</td><td>0</td><td>0</td><td>0</td><td>0</td><td>0</td><td>0</td><td>0</td><td>0</td><td>0</td><td>0</td><td>0</td><td>0</td><td>0</td><td>0</td><td>0</td><td>0</td><td>0</td><td>0</td><td>0</td><td>&hellip;</td><td>0</td><td>0</td><td>0</td><td>0</td><td>0</td><td>0</td><td>0</td><td>0</td><td>0</td><td>0</td><td>0</td><td>0</td><td>0</td><td>0</td><td>0</td><td>0</td><td>0</td><td>0</td><td>0</td><td>0</td><td>0</td><td>0</td><td>0</td><td>0</td><td>0</td><td>0</td><td>0</td><td>0</td><td>0</td><td>0</td><td>0</td><td>0</td><td>0</td><td>0</td><td>0</td><td>0</td><td>3</td></tr></tbody></table></div>"
      ],
      "text/plain": [
       "shape: (40_694, 91)\n",
       "┌────────┬──────────────────┬─────────────────┬────────────────┬───┬──────┬──────┬──────┬──────┐\n",
       "│ STRAND ┆ circRNA_ID       ┆ GENE_ID         ┆ GENE_TYPE      ┆ … ┆ V888 ┆ V940 ┆ V956 ┆ V957 │\n",
       "│ ---    ┆ ---              ┆ ---             ┆ ---            ┆   ┆ ---  ┆ ---  ┆ ---  ┆ ---  │\n",
       "│ str    ┆ str              ┆ str             ┆ str            ┆   ┆ i64  ┆ i64  ┆ i64  ┆ i64  │\n",
       "╞════════╪══════════════════╪═════════════════╪════════════════╪═══╪══════╪══════╪══════╪══════╡\n",
       "│ -      ┆ hsa_circ_0009205 ┆ ENSG00000188976 ┆ protein_coding ┆ … ┆ 0    ┆ 0    ┆ 0    ┆ 0    │\n",
       "│ -      ┆ hsa_circ_0000002 ┆ ENSG00000078808 ┆ protein_coding ┆ … ┆ 33   ┆ 18   ┆ 29   ┆ 15   │\n",
       "│ -      ┆ null             ┆ ENSG00000107404 ┆ protein_coding ┆ … ┆ 0    ┆ 0    ┆ 0    ┆ 0    │\n",
       "│ -      ┆ null             ┆ ENSG00000160075 ┆ protein_coding ┆ … ┆ 0    ┆ 0    ┆ 0    ┆ 0    │\n",
       "│ -      ┆ hsa_circ_0000007 ┆ ENSG00000078369 ┆ protein_coding ┆ … ┆ 8    ┆ 3    ┆ 2    ┆ 2    │\n",
       "│ …      ┆ …                ┆ …               ┆ …              ┆ … ┆ …    ┆ …    ┆ …    ┆ …    │\n",
       "│ +      ┆ null             ┆ ENSG00000182150 ┆ protein_coding ┆ … ┆ 0    ┆ 0    ┆ 0    ┆ 3    │\n",
       "│ -      ┆ null             ┆ ENSG00000136861 ┆ protein_coding ┆ … ┆ 0    ┆ 0    ┆ 0    ┆ 2    │\n",
       "│ +      ┆ null             ┆ ENSG00000107164 ┆ protein_coding ┆ … ┆ 0    ┆ 0    ┆ 0    ┆ 2    │\n",
       "│ -      ┆ null             ┆ ENSG00000160271 ┆ protein_coding ┆ … ┆ 0    ┆ 0    ┆ 0    ┆ 2    │\n",
       "│ +      ┆ null             ┆ ENSG00000147162 ┆ protein_coding ┆ … ┆ 0    ┆ 0    ┆ 0    ┆ 3    │\n",
       "└────────┴──────────────────┴─────────────────┴────────────────┴───┴──────┴──────┴──────┴──────┘"
      ]
     },
     "execution_count": 11,
     "metadata": {},
     "output_type": "execute_result"
    }
   ],
   "source": [
    "circrna = pl.read_csv(\n",
    "    \"mds_data/raw/200625_circRNA_fromRNAseq_annot_hg19.tsv\",\n",
    "    separator=\"\\t\",\n",
    "    null_values=[\"NA\"],\n",
    ")\n",
    "# replace all null values for genes with 0\n",
    "circrna = circrna.with_columns(\n",
    "    pl.all()\n",
    "    .exclude(\n",
    "        \"CHR\",\n",
    "        \"START\",\n",
    "        \"END\",\n",
    "        \"TYPE\",\n",
    "        \"STRAND\",\n",
    "        \"circRNA_ID\",\n",
    "        \"GENE_ID\",\n",
    "        \"GENE_TYPE\",\n",
    "        \"GENE_NAME\",\n",
    "    )\n",
    "    .fill_null(strategy=\"zero\")\n",
    ")\n",
    "# basic filtering\n",
    "circrna = circrna.filter(\n",
    "    (pl.col(\"GENE_TYPE\").is_in([\"protein_coding\", \"lincRNA\", \"antisense\"]))\n",
    "    & (pl.col(\"TYPE\") == \"exon\")\n",
    ").drop(\"CHR\", \"START\", \"END\", \"TYPE\")\n",
    "\n",
    "circrna_rename_dict = {col: col.split(\"_\")[0] for col in circrna.columns[5:]}\n",
    "circrna = circrna.rename(circrna_rename_dict)\n",
    "# circrna[:, :9]\n",
    "circrna_names = circrna.columns[5:]\n",
    "circrna"
   ]
  },
  {
   "cell_type": "markdown",
   "metadata": {},
   "source": [
    "# load te counts"
   ]
  },
  {
   "cell_type": "code",
   "execution_count": 12,
   "metadata": {},
   "outputs": [
    {
     "data": {
      "text/html": [
       "<div><style>\n",
       ".dataframe > thead > tr,\n",
       ".dataframe > tbody > tr {\n",
       "  text-align: right;\n",
       "  white-space: pre-wrap;\n",
       "}\n",
       "</style>\n",
       "<small>shape: (687, 113)</small><table border=\"1\" class=\"dataframe\"><thead><tr><th>TE</th><th>V1744</th><th>V2286</th><th>V1776</th><th>V220</th><th>V108</th><th>V2089</th><th>V221</th><th>V806</th><th>V1920</th><th>N60</th><th>V777</th><th>V1048</th><th>V1394</th><th>V1554</th><th>V344</th><th>V2110</th><th>V630</th><th>V2311</th><th>V1592</th><th>V480</th><th>V1884</th><th>V1337</th><th>NV911</th><th>V1249</th><th>V1565</th><th>V712</th><th>V714</th><th>N85</th><th>V2241</th><th>V1708</th><th>V18</th><th>V833</th><th>V1800</th><th>V1664</th><th>V1426</th><th>V839</th><th>&hellip;</th><th>V1591</th><th>V716</th><th>V655</th><th>V2092</th><th>V883</th><th>V67</th><th>NV1428</th><th>V1834</th><th>V382</th><th>N87</th><th>V125</th><th>V2368</th><th>V1775</th><th>N54</th><th>V2147</th><th>V681</th><th>V957</th><th>V1297</th><th>V940</th><th>N58</th><th>V2414</th><th>V637</th><th>V2284</th><th>V1689</th><th>V2248</th><th>V1823</th><th>V553</th><th>V148</th><th>V1505</th><th>V2322</th><th>V624</th><th>V2179</th><th>V1456</th><th>V1742</th><th>V1577</th><th>V456</th><th>V689</th></tr><tr><td>str</td><td>f64</td><td>f64</td><td>f64</td><td>f64</td><td>f64</td><td>f64</td><td>f64</td><td>f64</td><td>f64</td><td>f64</td><td>f64</td><td>f64</td><td>f64</td><td>f64</td><td>f64</td><td>f64</td><td>f64</td><td>f64</td><td>f64</td><td>f64</td><td>f64</td><td>f64</td><td>f64</td><td>f64</td><td>f64</td><td>f64</td><td>f64</td><td>f64</td><td>f64</td><td>f64</td><td>f64</td><td>f64</td><td>f64</td><td>f64</td><td>f64</td><td>f64</td><td>&hellip;</td><td>f64</td><td>f64</td><td>f64</td><td>f64</td><td>f64</td><td>f64</td><td>f64</td><td>f64</td><td>f64</td><td>f64</td><td>f64</td><td>f64</td><td>f64</td><td>f64</td><td>f64</td><td>f64</td><td>f64</td><td>f64</td><td>f64</td><td>f64</td><td>f64</td><td>f64</td><td>f64</td><td>f64</td><td>f64</td><td>f64</td><td>f64</td><td>f64</td><td>f64</td><td>f64</td><td>f64</td><td>f64</td><td>f64</td><td>f64</td><td>f64</td><td>f64</td><td>f64</td></tr></thead><tbody><tr><td>&quot;ALU&quot;</td><td>5887.91</td><td>5431.56</td><td>6959.7</td><td>8833.7</td><td>8986.45</td><td>10564.3</td><td>7065.91</td><td>7599.44</td><td>9787.8</td><td>9306.07</td><td>6061.99</td><td>6385.99</td><td>5579.7</td><td>4948.74</td><td>8698.03</td><td>5222.05</td><td>6877.89</td><td>8274.9</td><td>7800.57</td><td>5598.86</td><td>13599.0</td><td>7430.7</td><td>6199.62</td><td>12059.9</td><td>7059.21</td><td>6516.82</td><td>6303.3</td><td>7290.05</td><td>6080.92</td><td>9530.9</td><td>6264.46</td><td>10614.5</td><td>8582.4</td><td>5114.27</td><td>10942.3</td><td>7881.51</td><td>&hellip;</td><td>6148.82</td><td>11432.6</td><td>7078.72</td><td>4629.16</td><td>6081.12</td><td>8766.84</td><td>8097.26</td><td>9892.05</td><td>6815.32</td><td>7966.3</td><td>8590.44</td><td>6934.2</td><td>8178.09</td><td>8622.08</td><td>4299.38</td><td>9650.8</td><td>8026.74</td><td>7721.05</td><td>6593.15</td><td>7019.28</td><td>9786.57</td><td>7523.42</td><td>7382.74</td><td>6771.68</td><td>6835.69</td><td>4946.98</td><td>13410.6</td><td>7903.22</td><td>6618.57</td><td>4923.12</td><td>6690.64</td><td>4851.81</td><td>5909.45</td><td>9511.53</td><td>8769.84</td><td>8183.79</td><td>5019.56</td></tr><tr><td>&quot;AluJb&quot;</td><td>21104.5</td><td>19944.4</td><td>23285.4</td><td>30996.4</td><td>27678.3</td><td>25346.5</td><td>26280.0</td><td>28709.9</td><td>38261.4</td><td>35332.8</td><td>22834.9</td><td>22606.9</td><td>19816.4</td><td>17392.3</td><td>26701.3</td><td>22804.4</td><td>24896.5</td><td>33242.2</td><td>28009.3</td><td>20592.4</td><td>44735.8</td><td>24996.5</td><td>21670.0</td><td>44371.0</td><td>27218.6</td><td>23824.4</td><td>21455.6</td><td>27695.8</td><td>23690.8</td><td>29308.3</td><td>21639.5</td><td>40095.7</td><td>33905.1</td><td>20905.2</td><td>35242.6</td><td>27292.4</td><td>&hellip;</td><td>24160.7</td><td>40157.1</td><td>26045.3</td><td>18683.8</td><td>22348.0</td><td>22323.5</td><td>25259.1</td><td>40239.7</td><td>27603.6</td><td>27669.4</td><td>34593.1</td><td>27649.2</td><td>20355.4</td><td>26817.6</td><td>16289.2</td><td>35666.1</td><td>27516.2</td><td>24279.6</td><td>23699.4</td><td>26406.7</td><td>23972.5</td><td>21814.8</td><td>27724.2</td><td>23908.0</td><td>29645.6</td><td>17890.9</td><td>59175.4</td><td>32247.8</td><td>21067.6</td><td>17729.7</td><td>24140.9</td><td>18699.9</td><td>21118.1</td><td>35568.6</td><td>36400.8</td><td>28090.8</td><td>17515.2</td></tr><tr><td>&quot;AluJo&quot;</td><td>3241.23</td><td>3076.36</td><td>2831.86</td><td>4266.9</td><td>2273.46</td><td>101.421</td><td>3609.03</td><td>4184.29</td><td>5137.53</td><td>4933.68</td><td>2941.52</td><td>3670.61</td><td>2744.18</td><td>2217.45</td><td>3709.33</td><td>3165.13</td><td>2666.19</td><td>3452.7</td><td>3451.88</td><td>3147.54</td><td>4257.09</td><td>3504.48</td><td>3348.82</td><td>5805.75</td><td>3744.24</td><td>3006.96</td><td>2624.93</td><td>3677.09</td><td>3107.17</td><td>2902.06</td><td>2626.65</td><td>5094.82</td><td>4512.76</td><td>2585.24</td><td>4192.17</td><td>3839.13</td><td>&hellip;</td><td>3312.06</td><td>3849.75</td><td>3315.78</td><td>2532.95</td><td>3394.73</td><td>74.3837</td><td>2740.94</td><td>4179.26</td><td>3611.5</td><td>3584.89</td><td>4826.98</td><td>3597.06</td><td>59.6774</td><td>2462.54</td><td>2374.59</td><td>4874.16</td><td>3463.95</td><td>2681.86</td><td>3666.81</td><td>4019.45</td><td>33.1035</td><td>8.64467</td><td>4039.87</td><td>3335.72</td><td>3797.78</td><td>2786.46</td><td>7165.52</td><td>4382.27</td><td>2930.32</td><td>2043.76</td><td>3233.89</td><td>2758.92</td><td>2426.03</td><td>5215.14</td><td>4723.25</td><td>3125.83</td><td>2670.85</td></tr><tr><td>&quot;AluJr&quot;</td><td>863.084</td><td>1021.31</td><td>943.936</td><td>1472.02</td><td>1141.14</td><td>936.128</td><td>1158.42</td><td>1238.01</td><td>1694.92</td><td>1550.93</td><td>1003.92</td><td>1048.49</td><td>688.697</td><td>927.231</td><td>1286.5</td><td>930.15</td><td>1063.58</td><td>1443.85</td><td>1135.73</td><td>774.718</td><td>1806.28</td><td>1002.38</td><td>935.308</td><td>1769.08</td><td>1180.33</td><td>1130.95</td><td>886.429</td><td>1153.25</td><td>863.661</td><td>1213.18</td><td>842.567</td><td>1812.97</td><td>1278.44</td><td>641.212</td><td>1534.48</td><td>1087.77</td><td>&hellip;</td><td>939.429</td><td>1840.33</td><td>1299.6</td><td>881.944</td><td>1015.1</td><td>964.59</td><td>1032.61</td><td>1870.29</td><td>1263.94</td><td>1316.59</td><td>1348.67</td><td>1158.08</td><td>833.327</td><td>1099.74</td><td>804.413</td><td>1579.61</td><td>1213.87</td><td>1046.95</td><td>1163.09</td><td>1220.17</td><td>918.734</td><td>1019.45</td><td>1235.09</td><td>1146.1</td><td>1277.6</td><td>736.021</td><td>2560.71</td><td>1347.83</td><td>802.787</td><td>724.04</td><td>1000.22</td><td>803.441</td><td>857.841</td><td>1759.8</td><td>1563.59</td><td>1174.99</td><td>554.36</td></tr><tr><td>&quot;AluJr4&quot;</td><td>6219.15</td><td>5283.81</td><td>5759.8</td><td>7817.57</td><td>6722.98</td><td>7226.66</td><td>6557.64</td><td>7286.93</td><td>9023.09</td><td>8444.05</td><td>5932.29</td><td>6158.79</td><td>5702.57</td><td>4410.33</td><td>7028.46</td><td>5670.5</td><td>6414.47</td><td>7431.23</td><td>7221.28</td><td>5169.38</td><td>10841.0</td><td>6421.22</td><td>5709.1</td><td>10130.3</td><td>7417.67</td><td>5925.11</td><td>5720.99</td><td>7137.76</td><td>5902.87</td><td>7221.67</td><td>6530.15</td><td>9500.76</td><td>8615.35</td><td>5656.09</td><td>9291.27</td><td>6929.24</td><td>&hellip;</td><td>6496.37</td><td>10055.5</td><td>6111.24</td><td>4784.68</td><td>5684.14</td><td>5960.01</td><td>6608.18</td><td>9185.61</td><td>6911.11</td><td>7409.45</td><td>8564.76</td><td>6298.29</td><td>5168.7</td><td>6563.21</td><td>4846.74</td><td>8963.76</td><td>7385.98</td><td>5862.15</td><td>6350.26</td><td>6707.35</td><td>6238.01</td><td>5240.83</td><td>6716.72</td><td>6094.02</td><td>6534.11</td><td>5106.92</td><td>13894.9</td><td>7512.87</td><td>6093.45</td><td>4434.0</td><td>6364.48</td><td>5424.9</td><td>5299.94</td><td>8767.59</td><td>9004.87</td><td>6738.61</td><td>4403.27</td></tr><tr><td>&hellip;</td><td>&hellip;</td><td>&hellip;</td><td>&hellip;</td><td>&hellip;</td><td>&hellip;</td><td>&hellip;</td><td>&hellip;</td><td>&hellip;</td><td>&hellip;</td><td>&hellip;</td><td>&hellip;</td><td>&hellip;</td><td>&hellip;</td><td>&hellip;</td><td>&hellip;</td><td>&hellip;</td><td>&hellip;</td><td>&hellip;</td><td>&hellip;</td><td>&hellip;</td><td>&hellip;</td><td>&hellip;</td><td>&hellip;</td><td>&hellip;</td><td>&hellip;</td><td>&hellip;</td><td>&hellip;</td><td>&hellip;</td><td>&hellip;</td><td>&hellip;</td><td>&hellip;</td><td>&hellip;</td><td>&hellip;</td><td>&hellip;</td><td>&hellip;</td><td>&hellip;</td><td>&hellip;</td><td>&hellip;</td><td>&hellip;</td><td>&hellip;</td><td>&hellip;</td><td>&hellip;</td><td>&hellip;</td><td>&hellip;</td><td>&hellip;</td><td>&hellip;</td><td>&hellip;</td><td>&hellip;</td><td>&hellip;</td><td>&hellip;</td><td>&hellip;</td><td>&hellip;</td><td>&hellip;</td><td>&hellip;</td><td>&hellip;</td><td>&hellip;</td><td>&hellip;</td><td>&hellip;</td><td>&hellip;</td><td>&hellip;</td><td>&hellip;</td><td>&hellip;</td><td>&hellip;</td><td>&hellip;</td><td>&hellip;</td><td>&hellip;</td><td>&hellip;</td><td>&hellip;</td><td>&hellip;</td><td>&hellip;</td><td>&hellip;</td><td>&hellip;</td><td>&hellip;</td><td>&hellip;</td></tr><tr><td>&quot;X5A_LINE&quot;</td><td>8.0</td><td>12.0</td><td>5.0</td><td>14.0</td><td>21.0</td><td>5.0</td><td>13.0</td><td>8.0</td><td>11.0</td><td>9.0</td><td>8.0</td><td>8.0</td><td>9.0</td><td>7.0</td><td>12.0</td><td>1.0</td><td>4.0</td><td>5.0</td><td>24.0</td><td>10.0</td><td>3.0</td><td>11.0</td><td>1.0</td><td>14.0</td><td>2.0</td><td>5.0</td><td>3.0</td><td>0.0</td><td>14.0</td><td>12.0</td><td>6.0</td><td>9.0</td><td>7.0</td><td>8.0</td><td>1.0</td><td>16.0</td><td>&hellip;</td><td>11.0</td><td>14.0</td><td>4.0</td><td>6.0</td><td>8.0</td><td>3.0</td><td>10.0</td><td>14.0</td><td>12.0</td><td>2.0</td><td>8.0</td><td>3.0</td><td>15.0</td><td>9.0</td><td>11.0</td><td>5.0</td><td>5.0</td><td>4.0</td><td>14.0</td><td>4.0</td><td>16.0</td><td>1.0</td><td>11.0</td><td>8.0</td><td>7.0</td><td>10.0</td><td>11.0</td><td>7.0</td><td>5.0</td><td>5.0</td><td>4.0</td><td>7.0</td><td>7.0</td><td>6.0</td><td>6.0</td><td>16.0</td><td>6.0</td></tr><tr><td>&quot;X5B_LINE&quot;</td><td>3.0</td><td>5.0</td><td>8.0</td><td>5.0</td><td>7.0</td><td>7.0</td><td>7.0</td><td>14.0</td><td>1.0</td><td>13.0</td><td>0.0</td><td>4.0</td><td>2.0</td><td>0.0</td><td>3.0</td><td>10.0</td><td>8.0</td><td>2.0</td><td>5.0</td><td>12.0</td><td>5.0</td><td>3.0</td><td>3.0</td><td>1.0</td><td>8.0</td><td>5.0</td><td>15.0</td><td>11.0</td><td>12.0</td><td>3.0</td><td>12.0</td><td>8.0</td><td>4.0</td><td>16.0</td><td>6.0</td><td>10.0</td><td>&hellip;</td><td>5.0</td><td>19.0</td><td>6.0</td><td>3.0</td><td>15.0</td><td>4.0</td><td>6.0</td><td>0.0</td><td>14.0</td><td>8.0</td><td>8.0</td><td>1.0</td><td>1.0</td><td>10.0</td><td>4.0</td><td>9.0</td><td>6.0</td><td>6.0</td><td>10.0</td><td>8.0</td><td>9.0</td><td>0.0</td><td>11.0</td><td>6.0</td><td>8.0</td><td>1.0</td><td>12.0</td><td>22.0</td><td>1.0</td><td>3.0</td><td>6.0</td><td>2.0</td><td>13.0</td><td>10.0</td><td>4.0</td><td>3.0</td><td>1.0</td></tr><tr><td>&quot;X6A_LINE&quot;</td><td>0.0</td><td>0.0</td><td>0.0</td><td>2.0</td><td>0.0</td><td>0.0</td><td>0.0</td><td>0.0</td><td>2.0</td><td>0.0</td><td>0.0</td><td>0.0</td><td>0.0</td><td>0.0</td><td>0.0</td><td>0.0</td><td>0.0</td><td>0.0</td><td>0.0</td><td>0.0</td><td>0.0</td><td>0.0</td><td>0.0</td><td>0.0</td><td>0.0</td><td>0.0</td><td>0.0</td><td>0.0</td><td>0.0</td><td>0.0</td><td>0.0</td><td>0.0</td><td>0.0</td><td>0.0</td><td>0.0</td><td>0.0</td><td>&hellip;</td><td>0.0</td><td>0.0</td><td>4.0</td><td>1.0</td><td>0.0</td><td>0.0</td><td>0.0</td><td>0.0</td><td>0.0</td><td>0.0</td><td>1.0</td><td>0.0</td><td>0.0</td><td>0.0</td><td>3.0</td><td>0.0</td><td>1.0</td><td>0.0</td><td>0.0</td><td>0.0</td><td>0.0</td><td>0.0</td><td>0.0</td><td>0.0</td><td>0.0</td><td>0.0</td><td>1.0</td><td>0.0</td><td>0.0</td><td>0.0</td><td>0.0</td><td>0.0</td><td>0.0</td><td>0.0</td><td>1.0</td><td>0.0</td><td>0.0</td></tr><tr><td>&quot;X6B_LINE&quot;</td><td>1.0</td><td>5.0</td><td>3.0</td><td>1.0</td><td>7.0</td><td>5.0</td><td>3.0</td><td>5.0</td><td>0.0</td><td>6.0</td><td>4.0</td><td>5.0</td><td>2.0</td><td>0.0</td><td>3.0</td><td>1.0</td><td>1.0</td><td>4.0</td><td>3.0</td><td>3.0</td><td>0.0</td><td>1.0</td><td>0.0</td><td>0.0</td><td>2.0</td><td>4.0</td><td>8.0</td><td>2.0</td><td>4.0</td><td>1.0</td><td>4.0</td><td>4.0</td><td>5.0</td><td>2.0</td><td>3.0</td><td>4.0</td><td>&hellip;</td><td>1.0</td><td>13.0</td><td>12.0</td><td>11.0</td><td>1.0</td><td>0.0</td><td>2.0</td><td>11.0</td><td>6.0</td><td>5.0</td><td>4.0</td><td>6.0</td><td>6.0</td><td>6.0</td><td>2.0</td><td>4.0</td><td>7.0</td><td>2.0</td><td>1.0</td><td>0.0</td><td>4.0</td><td>0.0</td><td>3.0</td><td>1.0</td><td>3.0</td><td>0.0</td><td>3.0</td><td>4.0</td><td>2.0</td><td>3.0</td><td>5.0</td><td>1.0</td><td>0.0</td><td>2.0</td><td>3.0</td><td>4.0</td><td>5.0</td></tr><tr><td>&quot;X8_LINE&quot;</td><td>0.0</td><td>0.0</td><td>0.0</td><td>0.0</td><td>0.0</td><td>0.0</td><td>0.0</td><td>0.0</td><td>1.0</td><td>0.0</td><td>0.0</td><td>0.0</td><td>0.0</td><td>0.0</td><td>0.0</td><td>1.0</td><td>0.0</td><td>0.0</td><td>0.0</td><td>0.0</td><td>0.0</td><td>0.0</td><td>0.0</td><td>0.0</td><td>0.0</td><td>0.0</td><td>0.0</td><td>0.0</td><td>1.0</td><td>0.0</td><td>0.0</td><td>2.0</td><td>0.0</td><td>0.0</td><td>0.0</td><td>0.0</td><td>&hellip;</td><td>0.0</td><td>0.0</td><td>6.0</td><td>1.0</td><td>0.0</td><td>0.0</td><td>0.0</td><td>1.0</td><td>0.0</td><td>0.0</td><td>0.0</td><td>0.0</td><td>0.0</td><td>0.0</td><td>0.0</td><td>0.0</td><td>2.0</td><td>0.0</td><td>0.0</td><td>1.0</td><td>0.0</td><td>0.0</td><td>0.0</td><td>0.0</td><td>0.0</td><td>0.0</td><td>0.0</td><td>0.0</td><td>0.0</td><td>0.0</td><td>0.0</td><td>0.0</td><td>0.0</td><td>0.0</td><td>0.0</td><td>0.0</td><td>0.0</td></tr></tbody></table></div>"
      ],
      "text/plain": [
       "shape: (687, 113)\n",
       "┌──────────┬─────────┬─────────┬─────────┬───┬─────────┬─────────┬─────────┬─────────┐\n",
       "│ TE       ┆ V1744   ┆ V2286   ┆ V1776   ┆ … ┆ V1742   ┆ V1577   ┆ V456    ┆ V689    │\n",
       "│ ---      ┆ ---     ┆ ---     ┆ ---     ┆   ┆ ---     ┆ ---     ┆ ---     ┆ ---     │\n",
       "│ str      ┆ f64     ┆ f64     ┆ f64     ┆   ┆ f64     ┆ f64     ┆ f64     ┆ f64     │\n",
       "╞══════════╪═════════╪═════════╪═════════╪═══╪═════════╪═════════╪═════════╪═════════╡\n",
       "│ ALU      ┆ 5887.91 ┆ 5431.56 ┆ 6959.7  ┆ … ┆ 9511.53 ┆ 8769.84 ┆ 8183.79 ┆ 5019.56 │\n",
       "│ AluJb    ┆ 21104.5 ┆ 19944.4 ┆ 23285.4 ┆ … ┆ 35568.6 ┆ 36400.8 ┆ 28090.8 ┆ 17515.2 │\n",
       "│ AluJo    ┆ 3241.23 ┆ 3076.36 ┆ 2831.86 ┆ … ┆ 5215.14 ┆ 4723.25 ┆ 3125.83 ┆ 2670.85 │\n",
       "│ AluJr    ┆ 863.084 ┆ 1021.31 ┆ 943.936 ┆ … ┆ 1759.8  ┆ 1563.59 ┆ 1174.99 ┆ 554.36  │\n",
       "│ AluJr4   ┆ 6219.15 ┆ 5283.81 ┆ 5759.8  ┆ … ┆ 8767.59 ┆ 9004.87 ┆ 6738.61 ┆ 4403.27 │\n",
       "│ …        ┆ …       ┆ …       ┆ …       ┆ … ┆ …       ┆ …       ┆ …       ┆ …       │\n",
       "│ X5A_LINE ┆ 8.0     ┆ 12.0    ┆ 5.0     ┆ … ┆ 6.0     ┆ 6.0     ┆ 16.0    ┆ 6.0     │\n",
       "│ X5B_LINE ┆ 3.0     ┆ 5.0     ┆ 8.0     ┆ … ┆ 10.0    ┆ 4.0     ┆ 3.0     ┆ 1.0     │\n",
       "│ X6A_LINE ┆ 0.0     ┆ 0.0     ┆ 0.0     ┆ … ┆ 0.0     ┆ 1.0     ┆ 0.0     ┆ 0.0     │\n",
       "│ X6B_LINE ┆ 1.0     ┆ 5.0     ┆ 3.0     ┆ … ┆ 2.0     ┆ 3.0     ┆ 4.0     ┆ 5.0     │\n",
       "│ X8_LINE  ┆ 0.0     ┆ 0.0     ┆ 0.0     ┆ … ┆ 0.0     ┆ 0.0     ┆ 0.0     ┆ 0.0     │\n",
       "└──────────┴─────────┴─────────┴─────────┴───┴─────────┴─────────┴─────────┴─────────┘"
      ]
     },
     "execution_count": 12,
     "metadata": {},
     "output_type": "execute_result"
    }
   ],
   "source": [
    "te_counts = pl.read_csv(\"mds_data/raw/TE_counts.csv\")\n",
    "te_counts_rename_dict = {col: col.split(\"_\")[0] for col in te_counts.columns[1:]}\n",
    "te_counts = te_counts.rename(te_counts_rename_dict)\n",
    "te_counts_names = te_counts.columns[1:]\n",
    "te_counts"
   ]
  },
  {
   "cell_type": "markdown",
   "metadata": {},
   "source": [
    "# load pirna (skipped for now)"
   ]
  },
  {
   "cell_type": "code",
   "execution_count": 13,
   "metadata": {},
   "outputs": [
    {
     "data": {
      "text/html": [
       "<div><style>\n",
       ".dataframe > thead > tr,\n",
       ".dataframe > tbody > tr {\n",
       "  text-align: right;\n",
       "  white-space: pre-wrap;\n",
       "}\n",
       "</style>\n",
       "<small>shape: (556, 106)</small><table border=\"1\" class=\"dataframe\"><thead><tr><th>V1565</th><th>N58</th><th>V1874</th><th>V777</th><th>N80</th><th>V1788</th><th>N65</th><th>V2368</th><th>N81</th><th>N59</th><th>V2286</th><th>V406</th><th>V100</th><th>N82</th><th>V2133</th><th>V574</th><th>V2115</th><th>V1921</th><th>V714</th><th>V637</th><th>V1742</th><th>V1744</th><th>V2248</th><th>V1428</th><th>V18</th><th>V1857</th><th>V839</th><th>V912</th><th>V1048</th><th>V911</th><th>V940</th><th>V681</th><th>V708</th><th>N60</th><th>N70</th><th>V148</th><th>V655</th><th>&hellip;</th><th>V1297</th><th>V1321</th><th>V1505</th><th>V1249</th><th>V1456</th><th>V1426</th><th>V1394</th><th>V1592</th><th>V1528</th><th>V1591</th><th>V833</th><th>V1708</th><th>V1800</th><th>V1776</th><th>V1823</th><th>V1775</th><th>V1834</th><th>V2378</th><th>V2414</th><th>V1860</th><th>V1884</th><th>V1920</th><th>V2322</th><th>V2311</th><th>V2291</th><th>V1957</th><th>V2092</th><th>V2284</th><th>V2278</th><th>V2110</th><th>V2179</th><th>V2147</th><th>V2224</th><th>V2089</th><th>V788</th><th>piRNA_name</th><th>piRNA_id</th></tr><tr><td>i64</td><td>i64</td><td>i64</td><td>i64</td><td>i64</td><td>i64</td><td>i64</td><td>i64</td><td>i64</td><td>i64</td><td>i64</td><td>i64</td><td>i64</td><td>i64</td><td>i64</td><td>i64</td><td>i64</td><td>i64</td><td>i64</td><td>i64</td><td>i64</td><td>i64</td><td>i64</td><td>i64</td><td>i64</td><td>i64</td><td>i64</td><td>i64</td><td>i64</td><td>i64</td><td>i64</td><td>i64</td><td>i64</td><td>i64</td><td>i64</td><td>i64</td><td>i64</td><td>&hellip;</td><td>i64</td><td>i64</td><td>i64</td><td>i64</td><td>i64</td><td>i64</td><td>i64</td><td>i64</td><td>i64</td><td>i64</td><td>i64</td><td>i64</td><td>i64</td><td>i64</td><td>i64</td><td>i64</td><td>i64</td><td>i64</td><td>i64</td><td>i64</td><td>i64</td><td>i64</td><td>i64</td><td>i64</td><td>i64</td><td>i64</td><td>i64</td><td>i64</td><td>i64</td><td>i64</td><td>i64</td><td>i64</td><td>i64</td><td>i64</td><td>i64</td><td>str</td><td>str</td></tr></thead><tbody><tr><td>0</td><td>0</td><td>0</td><td>0</td><td>0</td><td>0</td><td>0</td><td>0</td><td>0</td><td>0</td><td>0</td><td>0</td><td>0</td><td>0</td><td>0</td><td>0</td><td>0</td><td>0</td><td>0</td><td>0</td><td>0</td><td>0</td><td>0</td><td>0</td><td>0</td><td>0</td><td>0</td><td>0</td><td>0</td><td>0</td><td>0</td><td>0</td><td>0</td><td>0</td><td>0</td><td>0</td><td>0</td><td>&hellip;</td><td>0</td><td>0</td><td>0</td><td>0</td><td>0</td><td>0</td><td>0</td><td>0</td><td>0</td><td>0</td><td>0</td><td>0</td><td>0</td><td>0</td><td>0</td><td>0</td><td>0</td><td>0</td><td>0</td><td>0</td><td>0</td><td>0</td><td>0</td><td>0</td><td>0</td><td>0</td><td>0</td><td>0</td><td>0</td><td>0</td><td>0</td><td>0</td><td>0</td><td>0</td><td>0</td><td>&quot;hsa_piR_006779&quot;</td><td>&quot;DQ579258&quot;</td></tr><tr><td>0</td><td>0</td><td>0</td><td>0</td><td>0</td><td>0</td><td>0</td><td>0</td><td>0</td><td>0</td><td>0</td><td>0</td><td>0</td><td>0</td><td>0</td><td>0</td><td>0</td><td>0</td><td>0</td><td>0</td><td>0</td><td>0</td><td>0</td><td>0</td><td>0</td><td>0</td><td>0</td><td>0</td><td>0</td><td>0</td><td>0</td><td>0</td><td>0</td><td>0</td><td>0</td><td>0</td><td>0</td><td>&hellip;</td><td>0</td><td>0</td><td>0</td><td>0</td><td>0</td><td>0</td><td>0</td><td>0</td><td>0</td><td>0</td><td>0</td><td>0</td><td>0</td><td>0</td><td>0</td><td>0</td><td>0</td><td>0</td><td>0</td><td>0</td><td>0</td><td>0</td><td>0</td><td>0</td><td>0</td><td>0</td><td>0</td><td>0</td><td>0</td><td>0</td><td>0</td><td>0</td><td>0</td><td>0</td><td>0</td><td>&quot;hsa_piR_007653&quot;</td><td>&quot;DQ580430&quot;</td></tr><tr><td>0</td><td>0</td><td>0</td><td>0</td><td>0</td><td>0</td><td>0</td><td>0</td><td>0</td><td>0</td><td>0</td><td>0</td><td>0</td><td>0</td><td>0</td><td>0</td><td>0</td><td>0</td><td>0</td><td>0</td><td>0</td><td>0</td><td>0</td><td>0</td><td>0</td><td>0</td><td>0</td><td>0</td><td>0</td><td>0</td><td>0</td><td>0</td><td>0</td><td>0</td><td>0</td><td>0</td><td>0</td><td>&hellip;</td><td>0</td><td>0</td><td>0</td><td>0</td><td>0</td><td>0</td><td>0</td><td>0</td><td>0</td><td>0</td><td>0</td><td>0</td><td>0</td><td>0</td><td>0</td><td>0</td><td>0</td><td>0</td><td>0</td><td>0</td><td>0</td><td>0</td><td>0</td><td>0</td><td>0</td><td>0</td><td>0</td><td>0</td><td>0</td><td>0</td><td>0</td><td>0</td><td>0</td><td>0</td><td>0</td><td>&quot;hsa_piR_009540&quot;</td><td>&quot;DQ582872&quot;</td></tr><tr><td>0</td><td>0</td><td>0</td><td>0</td><td>0</td><td>0</td><td>0</td><td>0</td><td>0</td><td>0</td><td>0</td><td>0</td><td>0</td><td>0</td><td>0</td><td>0</td><td>0</td><td>0</td><td>0</td><td>0</td><td>0</td><td>0</td><td>0</td><td>0</td><td>0</td><td>11</td><td>0</td><td>0</td><td>0</td><td>0</td><td>0</td><td>0</td><td>0</td><td>0</td><td>0</td><td>0</td><td>0</td><td>&hellip;</td><td>0</td><td>0</td><td>0</td><td>0</td><td>0</td><td>0</td><td>0</td><td>0</td><td>0</td><td>0</td><td>0</td><td>0</td><td>0</td><td>0</td><td>0</td><td>0</td><td>0</td><td>0</td><td>0</td><td>0</td><td>0</td><td>0</td><td>0</td><td>0</td><td>0</td><td>0</td><td>0</td><td>0</td><td>0</td><td>0</td><td>0</td><td>0</td><td>0</td><td>0</td><td>0</td><td>&quot;hsa_piR_000302&quot;</td><td>&quot;DQ570363&quot;</td></tr><tr><td>0</td><td>0</td><td>0</td><td>0</td><td>0</td><td>0</td><td>0</td><td>0</td><td>0</td><td>0</td><td>0</td><td>0</td><td>0</td><td>0</td><td>0</td><td>0</td><td>0</td><td>0</td><td>0</td><td>0</td><td>0</td><td>0</td><td>0</td><td>0</td><td>0</td><td>0</td><td>0</td><td>0</td><td>0</td><td>0</td><td>0</td><td>0</td><td>0</td><td>0</td><td>0</td><td>0</td><td>11</td><td>&hellip;</td><td>0</td><td>0</td><td>0</td><td>0</td><td>0</td><td>0</td><td>0</td><td>0</td><td>0</td><td>0</td><td>0</td><td>0</td><td>0</td><td>0</td><td>0</td><td>0</td><td>0</td><td>0</td><td>0</td><td>0</td><td>0</td><td>0</td><td>0</td><td>0</td><td>0</td><td>0</td><td>0</td><td>0</td><td>0</td><td>0</td><td>0</td><td>0</td><td>0</td><td>0</td><td>0</td><td>&quot;hsa_piR_000390&quot;</td><td>&quot;DQ570472&quot;</td></tr><tr><td>&hellip;</td><td>&hellip;</td><td>&hellip;</td><td>&hellip;</td><td>&hellip;</td><td>&hellip;</td><td>&hellip;</td><td>&hellip;</td><td>&hellip;</td><td>&hellip;</td><td>&hellip;</td><td>&hellip;</td><td>&hellip;</td><td>&hellip;</td><td>&hellip;</td><td>&hellip;</td><td>&hellip;</td><td>&hellip;</td><td>&hellip;</td><td>&hellip;</td><td>&hellip;</td><td>&hellip;</td><td>&hellip;</td><td>&hellip;</td><td>&hellip;</td><td>&hellip;</td><td>&hellip;</td><td>&hellip;</td><td>&hellip;</td><td>&hellip;</td><td>&hellip;</td><td>&hellip;</td><td>&hellip;</td><td>&hellip;</td><td>&hellip;</td><td>&hellip;</td><td>&hellip;</td><td>&hellip;</td><td>&hellip;</td><td>&hellip;</td><td>&hellip;</td><td>&hellip;</td><td>&hellip;</td><td>&hellip;</td><td>&hellip;</td><td>&hellip;</td><td>&hellip;</td><td>&hellip;</td><td>&hellip;</td><td>&hellip;</td><td>&hellip;</td><td>&hellip;</td><td>&hellip;</td><td>&hellip;</td><td>&hellip;</td><td>&hellip;</td><td>&hellip;</td><td>&hellip;</td><td>&hellip;</td><td>&hellip;</td><td>&hellip;</td><td>&hellip;</td><td>&hellip;</td><td>&hellip;</td><td>&hellip;</td><td>&hellip;</td><td>&hellip;</td><td>&hellip;</td><td>&hellip;</td><td>&hellip;</td><td>&hellip;</td><td>&hellip;</td><td>&hellip;</td><td>&hellip;</td><td>&hellip;</td></tr><tr><td>315</td><td>274</td><td>230</td><td>160</td><td>333</td><td>154</td><td>116</td><td>192</td><td>213</td><td>244</td><td>83</td><td>147</td><td>332</td><td>275</td><td>94</td><td>50</td><td>239</td><td>168</td><td>515</td><td>14</td><td>122</td><td>162</td><td>188</td><td>111</td><td>309</td><td>573</td><td>18</td><td>18</td><td>50</td><td>59</td><td>45</td><td>98</td><td>70</td><td>133</td><td>203</td><td>138</td><td>176</td><td>&hellip;</td><td>225</td><td>170</td><td>193</td><td>210</td><td>79</td><td>42</td><td>418</td><td>327</td><td>144</td><td>70</td><td>209</td><td>246</td><td>319</td><td>128</td><td>88</td><td>160</td><td>214</td><td>139</td><td>183</td><td>87</td><td>94</td><td>127</td><td>212</td><td>78</td><td>136</td><td>187</td><td>67</td><td>154</td><td>203</td><td>222</td><td>139</td><td>273</td><td>161</td><td>175</td><td>43</td><td>&quot;hsa_piR_020814&quot;</td><td>&quot;DQ598650&quot;</td></tr><tr><td>316</td><td>458</td><td>493</td><td>422</td><td>279</td><td>266</td><td>140</td><td>417</td><td>243</td><td>395</td><td>220</td><td>74</td><td>361</td><td>450</td><td>77</td><td>120</td><td>715</td><td>170</td><td>210</td><td>12</td><td>289</td><td>688</td><td>336</td><td>203</td><td>604</td><td>137</td><td>104</td><td>193</td><td>270</td><td>276</td><td>265</td><td>202</td><td>410</td><td>132</td><td>225</td><td>291</td><td>937</td><td>&hellip;</td><td>157</td><td>1068</td><td>389</td><td>405</td><td>177</td><td>89</td><td>1005</td><td>578</td><td>329</td><td>314</td><td>574</td><td>551</td><td>458</td><td>187</td><td>117</td><td>421</td><td>669</td><td>646</td><td>183</td><td>250</td><td>170</td><td>131</td><td>635</td><td>248</td><td>170</td><td>864</td><td>126</td><td>293</td><td>571</td><td>231</td><td>224</td><td>281</td><td>574</td><td>183</td><td>120</td><td>&quot;hsa_piR_020815&quot;</td><td>&quot;DQ598651&quot;</td></tr><tr><td>2732</td><td>1064</td><td>1346</td><td>610</td><td>1598</td><td>894</td><td>848</td><td>528</td><td>1525</td><td>1060</td><td>810</td><td>565</td><td>824</td><td>1131</td><td>380</td><td>1242</td><td>833</td><td>1493</td><td>2428</td><td>146</td><td>901</td><td>1991</td><td>378</td><td>714</td><td>3829</td><td>766</td><td>226</td><td>175</td><td>544</td><td>380</td><td>632</td><td>547</td><td>312</td><td>589</td><td>472</td><td>1735</td><td>1421</td><td>&hellip;</td><td>383</td><td>193</td><td>1198</td><td>264</td><td>610</td><td>112</td><td>492</td><td>475</td><td>1173</td><td>1241</td><td>330</td><td>385</td><td>292</td><td>375</td><td>506</td><td>325</td><td>687</td><td>330</td><td>1212</td><td>777</td><td>665</td><td>138</td><td>1620</td><td>357</td><td>621</td><td>874</td><td>573</td><td>661</td><td>1069</td><td>1170</td><td>784</td><td>749</td><td>1192</td><td>921</td><td>391</td><td>&quot;hsa_piR_020829&quot;</td><td>&quot;DQ598677&quot;</td></tr><tr><td>131</td><td>177</td><td>441</td><td>190</td><td>287</td><td>281</td><td>247</td><td>164</td><td>429</td><td>191</td><td>119</td><td>190</td><td>51</td><td>158</td><td>36</td><td>254</td><td>325</td><td>244</td><td>195</td><td>152</td><td>139</td><td>717</td><td>376</td><td>227</td><td>657</td><td>43</td><td>201</td><td>109</td><td>104</td><td>249</td><td>112</td><td>246</td><td>45</td><td>61</td><td>111</td><td>181</td><td>43</td><td>&hellip;</td><td>149</td><td>156</td><td>276</td><td>444</td><td>135</td><td>24</td><td>132</td><td>141</td><td>199</td><td>153</td><td>191</td><td>135</td><td>152</td><td>239</td><td>130</td><td>275</td><td>173</td><td>222</td><td>322</td><td>465</td><td>188</td><td>137</td><td>556</td><td>240</td><td>166</td><td>385</td><td>133</td><td>400</td><td>496</td><td>261</td><td>98</td><td>171</td><td>398</td><td>271</td><td>217</td><td>&quot;hsa_piR_021032&quot;</td><td>&quot;DQ598918&quot;</td></tr><tr><td>265</td><td>188</td><td>264</td><td>70</td><td>265</td><td>389</td><td>136</td><td>145</td><td>314</td><td>114</td><td>427</td><td>314</td><td>63</td><td>166</td><td>82</td><td>340</td><td>161</td><td>182</td><td>236</td><td>86</td><td>210</td><td>758</td><td>327</td><td>215</td><td>1456</td><td>39</td><td>236</td><td>45</td><td>85</td><td>123</td><td>176</td><td>179</td><td>57</td><td>63</td><td>73</td><td>168</td><td>189</td><td>&hellip;</td><td>110</td><td>55</td><td>397</td><td>345</td><td>400</td><td>30</td><td>80</td><td>54</td><td>235</td><td>374</td><td>78</td><td>97</td><td>72</td><td>221</td><td>147</td><td>145</td><td>67</td><td>238</td><td>286</td><td>360</td><td>196</td><td>147</td><td>436</td><td>177</td><td>341</td><td>259</td><td>212</td><td>265</td><td>343</td><td>229</td><td>236</td><td>151</td><td>311</td><td>337</td><td>161</td><td>&quot;hsa_piR_021462&quot;</td><td>&quot;DQ599459&quot;</td></tr></tbody></table></div>"
      ],
      "text/plain": [
       "shape: (556, 106)\n",
       "┌───────┬──────┬───────┬──────┬───┬───────┬──────┬────────────────┬──────────┐\n",
       "│ V1565 ┆ N58  ┆ V1874 ┆ V777 ┆ … ┆ V2089 ┆ V788 ┆ piRNA_name     ┆ piRNA_id │\n",
       "│ ---   ┆ ---  ┆ ---   ┆ ---  ┆   ┆ ---   ┆ ---  ┆ ---            ┆ ---      │\n",
       "│ i64   ┆ i64  ┆ i64   ┆ i64  ┆   ┆ i64   ┆ i64  ┆ str            ┆ str      │\n",
       "╞═══════╪══════╪═══════╪══════╪═══╪═══════╪══════╪════════════════╪══════════╡\n",
       "│ 0     ┆ 0    ┆ 0     ┆ 0    ┆ … ┆ 0     ┆ 0    ┆ hsa_piR_006779 ┆ DQ579258 │\n",
       "│ 0     ┆ 0    ┆ 0     ┆ 0    ┆ … ┆ 0     ┆ 0    ┆ hsa_piR_007653 ┆ DQ580430 │\n",
       "│ 0     ┆ 0    ┆ 0     ┆ 0    ┆ … ┆ 0     ┆ 0    ┆ hsa_piR_009540 ┆ DQ582872 │\n",
       "│ 0     ┆ 0    ┆ 0     ┆ 0    ┆ … ┆ 0     ┆ 0    ┆ hsa_piR_000302 ┆ DQ570363 │\n",
       "│ 0     ┆ 0    ┆ 0     ┆ 0    ┆ … ┆ 0     ┆ 0    ┆ hsa_piR_000390 ┆ DQ570472 │\n",
       "│ …     ┆ …    ┆ …     ┆ …    ┆ … ┆ …     ┆ …    ┆ …              ┆ …        │\n",
       "│ 315   ┆ 274  ┆ 230   ┆ 160  ┆ … ┆ 175   ┆ 43   ┆ hsa_piR_020814 ┆ DQ598650 │\n",
       "│ 316   ┆ 458  ┆ 493   ┆ 422  ┆ … ┆ 183   ┆ 120  ┆ hsa_piR_020815 ┆ DQ598651 │\n",
       "│ 2732  ┆ 1064 ┆ 1346  ┆ 610  ┆ … ┆ 921   ┆ 391  ┆ hsa_piR_020829 ┆ DQ598677 │\n",
       "│ 131   ┆ 177  ┆ 441   ┆ 190  ┆ … ┆ 271   ┆ 217  ┆ hsa_piR_021032 ┆ DQ598918 │\n",
       "│ 265   ┆ 188  ┆ 264   ┆ 70   ┆ … ┆ 337   ┆ 161  ┆ hsa_piR_021462 ┆ DQ599459 │\n",
       "└───────┴──────┴───────┴──────┴───┴───────┴──────┴────────────────┴──────────┘"
      ]
     },
     "execution_count": 13,
     "metadata": {},
     "output_type": "execute_result"
    }
   ],
   "source": [
    "pirna = pl.read_excel(\"mds_data/raw/piRNA_counts.xlsx\")\n",
    "pirna_rename_dict = {col: col.split(\"_\")[0] for col in pirna.columns[1:]}\n",
    "pirna = pirna.rename(pirna_rename_dict)\n",
    "pirna_names = pirna.columns[1:]\n",
    "\n",
    "pirna = pirna.with_columns(\n",
    "    [\n",
    "        pl.col(\"piRNA\").str.split(\"/\").list.get(0).alias(\"piRNA_name\"),\n",
    "        pl.col(\"piRNA\").str.split(\"/\").list.get(2).alias(\"piRNA_id\"),\n",
    "    ]\n",
    ").drop(\"piRNA\")\n",
    "\n",
    "pirna"
   ]
  },
  {
   "cell_type": "markdown",
   "metadata": {},
   "source": [
    "# common samples"
   ]
  },
  {
   "cell_type": "code",
   "execution_count": 14,
   "metadata": {},
   "outputs": [],
   "source": [
    "annotations = pl.read_csv(\"mds_data/preprocessed/annotations.csv\")\n",
    "annotated_samples = annotations[\"SAMPLE_ID\"].to_list()"
   ]
  },
  {
   "cell_type": "code",
   "execution_count": 37,
   "metadata": {},
   "outputs": [
    {
     "name": "stdout",
     "output_type": "stream",
     "text": [
      "lengths: len(mrna_names)=86, len(mirna_names)=105, len(circrna_names)=86, len(te_counts_names)=112\n"
     ]
    },
    {
     "data": {
      "text/plain": [
       "74"
      ]
     },
     "execution_count": 37,
     "metadata": {},
     "output_type": "execute_result"
    }
   ],
   "source": [
    "from src.data_cleaning import get_common_elements\n",
    "\n",
    "common_names = get_common_elements(\n",
    "    annotated_samples, mrna_names, te_counts_names, circrna_names, mirna_genes_names\n",
    ")\n",
    "\n",
    "common_names.sort()\n",
    "\n",
    "print(\n",
    "    f\"lengths: {len(mrna_names)=}, {len(mirna_names)=}, {len(circrna_names)=}, {len(te_counts_names)=}\"\n",
    ")\n",
    "len(common_names)"
   ]
  },
  {
   "cell_type": "markdown",
   "metadata": {},
   "source": [
    "### notes about overlapping data\n",
    "    - mirna_names, te_counts_names = 98 (+12, most data available)\n",
    "    - mrna, circrna = 86 (all of mrna data, baseline number of samples)\n",
    "    - mrna, circrna, te_counts = 85 (-1)\n",
    "    - mrna, circrna, te_counts, mirna = 77 (-8)\n",
    "    - mrna_names, pirna_names, circrna_names, te_counts_names = 76 (-9)\n",
    "    - mrna_names, mirna, pirna_names, circrna_names, te_counts_names = 76 (-9)\n",
    "    - annotations only exist for 66 (-19) samples\n",
    "### existing annotations\n",
    "    - for mrna there are 75 samples with annotations\n",
    "    - adding mirna_genes, te_counts, circrnas we get 74 annotated samples\n",
    "    - adding pirnas or mature mirnas we get only 66\n",
    "\n",
    "\n",
    "\n",
    "- there is data both for mirna pre-cursor genes (in the allRNA dataframe) and both for the mature mirnas (which should be generally less noisy, even though both are correlated)\n",
    "- an algorithm that can deal with missing values might be very nice here"
   ]
  },
  {
   "cell_type": "markdown",
   "metadata": {},
   "source": [
    "## select common samples from each df"
   ]
  },
  {
   "cell_type": "code",
   "execution_count": 38,
   "metadata": {},
   "outputs": [],
   "source": [
    "mrna = mrna.select(\"GENE_ID\", \"GENE_NAME\", *common_names)\n",
    "mirna_genes = mirna_genes.select(\"GENE_ID\", \"GENE_NAME\", *common_names)\n",
    "# mirna = mirna.select(\"miRNA\", *common_names)\n",
    "circrna = circrna.select(\n",
    "    \"STRAND\", \"circRNA_ID\", \"GENE_ID\", \"GENE_TYPE\", \"GENE_NAME\", *common_names\n",
    ")\n",
    "# pirna = pirna.select(\"piRNA_name\", \"piRNA_id\", *common_names)\n",
    "te_counts = te_counts.select(\"TE\", *common_names)"
   ]
  },
  {
   "cell_type": "markdown",
   "metadata": {},
   "source": [
    "# data preprocessing"
   ]
  },
  {
   "cell_type": "code",
   "execution_count": 40,
   "metadata": {},
   "outputs": [
    {
     "data": {
      "text/html": [
       "<div><style>\n",
       ".dataframe > thead > tr,\n",
       ".dataframe > tbody > tr {\n",
       "  text-align: right;\n",
       "  white-space: pre-wrap;\n",
       "}\n",
       "</style>\n",
       "<small>shape: (534, 75)</small><table border=\"1\" class=\"dataframe\"><thead><tr><th>TE</th><th>N54</th><th>N58</th><th>N60</th><th>N70</th><th>N82</th><th>N83</th><th>N84</th><th>N85</th><th>N86</th><th>N87</th><th>NV1428</th><th>NV911</th><th>NV912</th><th>V1048</th><th>V108</th><th>V1090</th><th>V125</th><th>V1279</th><th>V1297</th><th>V1321</th><th>V1337</th><th>V1394</th><th>V1422</th><th>V1441</th><th>V1456</th><th>V148</th><th>V1505</th><th>V1528</th><th>V1565</th><th>V1591</th><th>V1592</th><th>V1699</th><th>V1708</th><th>V1742</th><th>V1776</th><th>V1788</th><th>V18</th><th>V1800</th><th>V1823</th><th>V1834</th><th>V1857</th><th>V1860</th><th>V1874</th><th>V1884</th><th>V1920</th><th>V1921</th><th>V2089</th><th>V2092</th><th>V2110</th><th>V2133</th><th>V221</th><th>V2241</th><th>V344</th><th>V359</th><th>V406</th><th>V456</th><th>V513</th><th>V538</th><th>V553</th><th>V574</th><th>V624</th><th>V630</th><th>V637</th><th>V655</th><th>V67</th><th>V712</th><th>V714</th><th>V716</th><th>V777</th><th>V806</th><th>V839</th><th>V883</th><th>V888</th><th>V940</th></tr><tr><td>str</td><td>f64</td><td>f64</td><td>f64</td><td>f64</td><td>f64</td><td>f64</td><td>f64</td><td>f64</td><td>f64</td><td>f64</td><td>f64</td><td>f64</td><td>f64</td><td>f64</td><td>f64</td><td>f64</td><td>f64</td><td>f64</td><td>f64</td><td>f64</td><td>f64</td><td>f64</td><td>f64</td><td>f64</td><td>f64</td><td>f64</td><td>f64</td><td>f64</td><td>f64</td><td>f64</td><td>f64</td><td>f64</td><td>f64</td><td>f64</td><td>f64</td><td>f64</td><td>f64</td><td>f64</td><td>f64</td><td>f64</td><td>f64</td><td>f64</td><td>f64</td><td>f64</td><td>f64</td><td>f64</td><td>f64</td><td>f64</td><td>f64</td><td>f64</td><td>f64</td><td>f64</td><td>f64</td><td>f64</td><td>f64</td><td>f64</td><td>f64</td><td>f64</td><td>f64</td><td>f64</td><td>f64</td><td>f64</td><td>f64</td><td>f64</td><td>f64</td><td>f64</td><td>f64</td><td>f64</td><td>f64</td><td>f64</td><td>f64</td><td>f64</td><td>f64</td><td>f64</td></tr></thead><tbody><tr><td>&quot;HERV-K14CI&quot;</td><td>3.937487</td><td>2.584002</td><td>3.923744</td><td>3.382267</td><td>4.466436</td><td>3.173179</td><td>2.708032</td><td>3.606354</td><td>3.010747</td><td>3.037211</td><td>2.456546</td><td>1.694801</td><td>3.71596</td><td>2.087903</td><td>4.305413</td><td>3.768621</td><td>4.637976</td><td>4.72315</td><td>5.612023</td><td>4.215554</td><td>2.846295</td><td>2.784583</td><td>2.713055</td><td>2.934661</td><td>2.561581</td><td>2.282879</td><td>2.960296</td><td>2.346485</td><td>1.670563</td><td>3.085617</td><td>4.489323</td><td>4.755818</td><td>2.959795</td><td>3.792799</td><td>4.568957</td><td>2.71195</td><td>2.41124</td><td>2.132184</td><td>2.252647</td><td>6.43592</td><td>7.356513</td><td>3.751318</td><td>3.78349</td><td>3.340501</td><td>5.319504</td><td>2.891589</td><td>1.834447</td><td>6.745921</td><td>4.347917</td><td>8.132623</td><td>3.837697</td><td>2.780902</td><td>2.341658</td><td>3.339169</td><td>3.62528</td><td>4.479788</td><td>3.78127</td><td>3.688009</td><td>4.151041</td><td>4.364931</td><td>2.277851</td><td>4.151719</td><td>1.828125</td><td>6.602835</td><td>3.943482</td><td>4.597211</td><td>4.06245</td><td>5.60684</td><td>5.09979</td><td>2.834416</td><td>3.477567</td><td>4.013692</td><td>3.594036</td><td>3.264589</td></tr><tr><td>&quot;MER67D&quot;</td><td>1.321933</td><td>1.748084</td><td>1.880447</td><td>2.522533</td><td>1.764922</td><td>2.061353</td><td>0.813823</td><td>2.117061</td><td>1.114159</td><td>1.675729</td><td>1.682811</td><td>1.277497</td><td>2.665454</td><td>0.805822</td><td>2.089406</td><td>1.840174</td><td>1.939539</td><td>2.911083</td><td>2.644214</td><td>2.826344</td><td>2.564699</td><td>2.096927</td><td>2.172877</td><td>1.267616</td><td>1.57136</td><td>0.888161</td><td>0.835256</td><td>1.688804</td><td>0.435562</td><td>1.217565</td><td>1.584238</td><td>2.295038</td><td>3.32388</td><td>1.736524</td><td>3.090667</td><td>1.691454</td><td>0.779483</td><td>1.84179</td><td>1.769977</td><td>3.514087</td><td>4.622106</td><td>1.200842</td><td>2.784799</td><td>1.243885</td><td>1.92006</td><td>2.534841</td><td>0.891768</td><td>3.506732</td><td>1.705223</td><td>4.562986</td><td>2.663373</td><td>2.308502</td><td>0.275018</td><td>1.325799</td><td>2.192648</td><td>3.2197</td><td>0.588125</td><td>3.260884</td><td>1.416639</td><td>2.832918</td><td>2.187815</td><td>0.79801</td><td>1.49752</td><td>3.541164</td><td>1.405594</td><td>1.203169</td><td>1.322832</td><td>1.636382</td><td>2.067956</td><td>1.594858</td><td>1.655077</td><td>1.690531</td><td>1.993705</td><td>1.29255</td></tr><tr><td>&quot;MIR3&quot;</td><td>3.531939</td><td>3.449021</td><td>2.888116</td><td>2.075521</td><td>1.863308</td><td>1.538173</td><td>2.234779</td><td>2.257968</td><td>2.634713</td><td>2.198967</td><td>1.868938</td><td>2.522876</td><td>1.65638</td><td>4.683059</td><td>2.495408</td><td>2.792704</td><td>2.892951</td><td>2.72209</td><td>3.118443</td><td>1.969461</td><td>2.564699</td><td>4.462815</td><td>2.256756</td><td>2.894314</td><td>3.229642</td><td>2.138573</td><td>3.814505</td><td>3.81724</td><td>3.882161</td><td>4.869147</td><td>4.623346</td><td>2.82083</td><td>2.645678</td><td>3.880175</td><td>2.402799</td><td>3.242365</td><td>5.342962</td><td>0.797773</td><td>4.376151</td><td>2.460374</td><td>3.425925</td><td>2.491675</td><td>2.861256</td><td>1.438528</td><td>1.473806</td><td>1.658924</td><td>1.360826</td><td>3.6983</td><td>4.072582</td><td>3.855231</td><td>2.971476</td><td>2.801082</td><td>1.422273</td><td>4.63734</td><td>2.043158</td><td>2.653509</td><td>2.467183</td><td>1.202176</td><td>2.212714</td><td>3.305835</td><td>5.069402</td><td>2.416306</td><td>2.351354</td><td>3.823517</td><td>3.0456</td><td>2.761046</td><td>3.407357</td><td>3.085576</td><td>1.328003</td><td>2.715119</td><td>3.341267</td><td>4.115771</td><td>2.991379</td><td>4.103192</td></tr><tr><td>&quot;HERVK11DI&quot;</td><td>5.267927</td><td>4.594053</td><td>6.19898</td><td>4.481865</td><td>4.527754</td><td>4.886739</td><td>4.084553</td><td>4.693327</td><td>4.202179</td><td>4.441282</td><td>4.74391</td><td>4.36458</td><td>4.907908</td><td>3.803064</td><td>5.790722</td><td>5.363511</td><td>5.254239</td><td>5.360621</td><td>5.454224</td><td>4.577979</td><td>4.856826</td><td>4.205864</td><td>4.636123</td><td>4.76192</td><td>4.230565</td><td>4.930052</td><td>4.57012</td><td>4.36707</td><td>4.464508</td><td>4.017202</td><td>5.263446</td><td>5.155403</td><td>5.314271</td><td>4.311793</td><td>5.333379</td><td>3.955074</td><td>4.065496</td><td>4.071673</td><td>4.003263</td><td>6.429071</td><td>7.454765</td><td>4.316867</td><td>4.322626</td><td>4.074067</td><td>5.763446</td><td>4.839179</td><td>3.319359</td><td>6.761274</td><td>4.174754</td><td>7.726511</td><td>5.196096</td><td>4.596737</td><td>5.739405</td><td>3.945344</td><td>5.197316</td><td>4.935029</td><td>5.581682</td><td>5.398724</td><td>5.924068</td><td>4.882005</td><td>4.801785</td><td>4.147707</td><td>4.020505</td><td>7.005452</td><td>4.591475</td><td>6.376762</td><td>6.526753</td><td>6.700169</td><td>4.826903</td><td>4.609553</td><td>5.04626</td><td>4.597789</td><td>4.522717</td><td>4.731235</td></tr><tr><td>&quot;MER41G&quot;</td><td>3.531939</td><td>2.708684</td><td>3.202243</td><td>1.786386</td><td>2.650034</td><td>2.996806</td><td>2.445803</td><td>2.613157</td><td>2.344202</td><td>1.763129</td><td>2.438575</td><td>1.852397</td><td>1.527679</td><td>1.697962</td><td>2.563586</td><td>2.133615</td><td>2.313293</td><td>2.525702</td><td>3.861892</td><td>2.097862</td><td>2.302481</td><td>0.87478</td><td>1.659705</td><td>1.853668</td><td>0.798625</td><td>3.324615</td><td>1.745246</td><td>1.795348</td><td>1.555035</td><td>2.257064</td><td>2.50593</td><td>3.034601</td><td>1.586409</td><td>2.017905</td><td>2.711394</td><td>1.675466</td><td>1.882421</td><td>1.392051</td><td>0.785045</td><td>3.779002</td><td>4.511186</td><td>2.217469</td><td>2.047273</td><td>1.610006</td><td>2.621725</td><td>2.273845</td><td>2.360271</td><td>3.065703</td><td>2.649658</td><td>4.932851</td><td>1.961726</td><td>2.128999</td><td>1.978244</td><td>2.207672</td><td>2.114222</td><td>2.533055</td><td>2.255407</td><td>2.368144</td><td>2.452706</td><td>2.743757</td><td>1.993639</td><td>1.549921</td><td>1.49752</td><td>3.74593</td><td>1.492738</td><td>2.891608</td><td>3.088792</td><td>3.567897</td><td>2.593393</td><td>0.715705</td><td>2.788863</td><td>1.797131</td><td>2.235088</td><td>1.796147</td></tr><tr><td>&hellip;</td><td>&hellip;</td><td>&hellip;</td><td>&hellip;</td><td>&hellip;</td><td>&hellip;</td><td>&hellip;</td><td>&hellip;</td><td>&hellip;</td><td>&hellip;</td><td>&hellip;</td><td>&hellip;</td><td>&hellip;</td><td>&hellip;</td><td>&hellip;</td><td>&hellip;</td><td>&hellip;</td><td>&hellip;</td><td>&hellip;</td><td>&hellip;</td><td>&hellip;</td><td>&hellip;</td><td>&hellip;</td><td>&hellip;</td><td>&hellip;</td><td>&hellip;</td><td>&hellip;</td><td>&hellip;</td><td>&hellip;</td><td>&hellip;</td><td>&hellip;</td><td>&hellip;</td><td>&hellip;</td><td>&hellip;</td><td>&hellip;</td><td>&hellip;</td><td>&hellip;</td><td>&hellip;</td><td>&hellip;</td><td>&hellip;</td><td>&hellip;</td><td>&hellip;</td><td>&hellip;</td><td>&hellip;</td><td>&hellip;</td><td>&hellip;</td><td>&hellip;</td><td>&hellip;</td><td>&hellip;</td><td>&hellip;</td><td>&hellip;</td><td>&hellip;</td><td>&hellip;</td><td>&hellip;</td><td>&hellip;</td><td>&hellip;</td><td>&hellip;</td><td>&hellip;</td><td>&hellip;</td><td>&hellip;</td><td>&hellip;</td><td>&hellip;</td><td>&hellip;</td><td>&hellip;</td><td>&hellip;</td><td>&hellip;</td><td>&hellip;</td><td>&hellip;</td><td>&hellip;</td><td>&hellip;</td><td>&hellip;</td><td>&hellip;</td><td>&hellip;</td><td>&hellip;</td><td>&hellip;</td></tr><tr><td>&quot;MER21B&quot;</td><td>7.499082</td><td>6.736585</td><td>7.147342</td><td>6.509343</td><td>7.156006</td><td>7.439174</td><td>7.228512</td><td>7.170062</td><td>7.089038</td><td>6.925787</td><td>7.224156</td><td>6.672556</td><td>7.061717</td><td>7.158073</td><td>7.490554</td><td>7.368399</td><td>7.010463</td><td>7.50951</td><td>7.808925</td><td>6.919863</td><td>7.464747</td><td>6.485708</td><td>7.078053</td><td>6.675636</td><td>7.042766</td><td>6.981132</td><td>7.071446</td><td>6.786405</td><td>6.865882</td><td>7.105503</td><td>7.43068</td><td>6.562897</td><td>7.336561</td><td>6.590476</td><td>7.252775</td><td>6.712507</td><td>6.277691</td><td>6.389749</td><td>6.555187</td><td>6.926361</td><td>7.481186</td><td>6.919658</td><td>7.197921</td><td>6.666594</td><td>7.114504</td><td>7.128354</td><td>6.533549</td><td>6.710212</td><td>6.977286</td><td>7.246057</td><td>7.424999</td><td>7.103261</td><td>6.924663</td><td>6.602748</td><td>7.544357</td><td>7.280473</td><td>6.784228</td><td>7.679862</td><td>6.734633</td><td>7.041377</td><td>7.129453</td><td>6.946481</td><td>6.178499</td><td>7.040345</td><td>6.259131</td><td>7.457446</td><td>7.180993</td><td>7.380195</td><td>6.891567</td><td>6.997782</td><td>7.347767</td><td>6.72952</td><td>6.794625</td><td>6.681528</td></tr><tr><td>&quot;MER21C&quot;</td><td>7.176958</td><td>6.794437</td><td>6.729784</td><td>6.44053</td><td>6.748292</td><td>7.197959</td><td>6.945509</td><td>7.012833</td><td>7.139716</td><td>6.813006</td><td>6.975679</td><td>6.563663</td><td>6.959586</td><td>6.882216</td><td>7.342616</td><td>7.327119</td><td>6.931757</td><td>7.292381</td><td>7.891986</td><td>6.757338</td><td>7.383854</td><td>6.148719</td><td>6.825125</td><td>6.792151</td><td>6.694927</td><td>6.471233</td><td>7.058533</td><td>6.849053</td><td>6.533874</td><td>6.989247</td><td>7.410199</td><td>6.41379</td><td>7.425949</td><td>6.434749</td><td>7.086539</td><td>6.529792</td><td>6.37713</td><td>6.271618</td><td>6.310131</td><td>6.675802</td><td>7.328168</td><td>6.832752</td><td>6.917351</td><td>6.401277</td><td>6.907314</td><td>7.008149</td><td>6.152296</td><td>6.534993</td><td>6.88171</td><td>7.197396</td><td>7.330953</td><td>7.118019</td><td>6.424439</td><td>6.463245</td><td>7.31367</td><td>7.174427</td><td>6.71682</td><td>7.541591</td><td>6.33423</td><td>6.918335</td><td>6.901601</td><td>6.45135</td><td>5.574959</td><td>6.736101</td><td>6.248709</td><td>7.390252</td><td>6.884137</td><td>7.327111</td><td>6.970788</td><td>6.877755</td><td>7.232642</td><td>6.668495</td><td>6.558563</td><td>6.781873</td></tr><tr><td>&quot;L1M2A_5&quot;</td><td>5.92388</td><td>5.712003</td><td>6.012732</td><td>5.133207</td><td>5.902036</td><td>5.970654</td><td>5.561409</td><td>5.528111</td><td>5.775082</td><td>5.440256</td><td>5.583994</td><td>5.208998</td><td>5.564816</td><td>5.832065</td><td>5.954714</td><td>5.953251</td><td>5.785472</td><td>5.970033</td><td>6.814409</td><td>5.290576</td><td>5.878815</td><td>5.632606</td><td>5.973387</td><td>5.67309</td><td>5.794509</td><td>5.274939</td><td>5.878792</td><td>5.684988</td><td>5.570421</td><td>6.107741</td><td>6.190083</td><td>5.079174</td><td>5.817994</td><td>5.480037</td><td>5.766069</td><td>5.52332</td><td>5.403426</td><td>5.391362</td><td>5.483671</td><td>5.602141</td><td>6.027552</td><td>5.460364</td><td>6.117918</td><td>5.2466</td><td>5.603305</td><td>5.760593</td><td>4.523616</td><td>5.776454</td><td>5.37486</td><td>5.630194</td><td>6.032638</td><td>5.779056</td><td>5.963373</td><td>5.266421</td><td>6.362632</td><td>5.971018</td><td>6.027667</td><td>6.231507</td><td>5.294805</td><td>6.203612</td><td>6.04571</td><td>5.797734</td><td>4.932686</td><td>5.741284</td><td>5.067973</td><td>6.071152</td><td>6.198248</td><td>6.215773</td><td>6.053357</td><td>6.058962</td><td>6.04159</td><td>5.673391</td><td>5.238059</td><td>5.605399</td></tr><tr><td>&quot;L1MD2&quot;</td><td>8.74393</td><td>8.267138</td><td>8.282537</td><td>7.795041</td><td>8.2967</td><td>8.708908</td><td>8.411796</td><td>8.279179</td><td>8.448783</td><td>8.164151</td><td>8.442761</td><td>7.981906</td><td>8.399139</td><td>8.388447</td><td>8.722497</td><td>8.760192</td><td>8.212915</td><td>8.766916</td><td>8.98341</td><td>8.135711</td><td>8.799596</td><td>8.073306</td><td>8.196533</td><td>8.199826</td><td>8.471869</td><td>7.819157</td><td>8.50747</td><td>8.292112</td><td>8.110707</td><td>8.378757</td><td>8.964698</td><td>7.480273</td><td>8.685185</td><td>7.880304</td><td>8.563236</td><td>7.983077</td><td>8.041516</td><td>7.752934</td><td>7.99829</td><td>7.996859</td><td>8.451582</td><td>8.078587</td><td>8.493116</td><td>7.956691</td><td>8.081244</td><td>8.560962</td><td>7.489324</td><td>8.082711</td><td>8.077268</td><td>8.442019</td><td>8.725141</td><td>8.221338</td><td>8.382058</td><td>7.843388</td><td>8.729712</td><td>8.787085</td><td>8.176138</td><td>9.055966</td><td>7.867982</td><td>8.70023</td><td>8.623749</td><td>8.266797</td><td>6.744592</td><td>8.56358</td><td>7.654387</td><td>8.705009</td><td>8.564893</td><td>8.785463</td><td>8.452839</td><td>8.366546</td><td>8.633874</td><td>8.265729</td><td>7.961393</td><td>8.35133</td></tr><tr><td>&quot;MIRc&quot;</td><td>6.864043</td><td>6.296118</td><td>6.55078</td><td>5.706786</td><td>6.310573</td><td>6.702051</td><td>6.629219</td><td>6.247874</td><td>6.397628</td><td>6.10478</td><td>6.424487</td><td>6.386161</td><td>6.493744</td><td>6.516405</td><td>6.73082</td><td>6.773637</td><td>6.260398</td><td>6.754217</td><td>7.046451</td><td>6.035172</td><td>6.780723</td><td>6.124098</td><td>6.583415</td><td>6.125038</td><td>6.569361</td><td>6.176746</td><td>6.740361</td><td>6.330323</td><td>6.257942</td><td>6.790849</td><td>6.552949</td><td>5.916709</td><td>6.680491</td><td>6.033109</td><td>6.4283</td><td>6.00909</td><td>6.079928</td><td>6.211711</td><td>6.186109</td><td>6.05431</td><td>6.138657</td><td>6.226084</td><td>6.392209</td><td>6.157432</td><td>6.435154</td><td>6.441614</td><td>6.06941</td><td>5.952257</td><td>6.362607</td><td>6.185699</td><td>6.678475</td><td>6.488986</td><td>6.37654</td><td>6.322781</td><td>6.842332</td><td>6.545348</td><td>6.522749</td><td>6.890532</td><td>6.221479</td><td>6.843994</td><td>6.623433</td><td>6.617176</td><td>5.547954</td><td>6.29296</td><td>5.799947</td><td>6.791177</td><td>6.61905</td><td>6.796728</td><td>6.483934</td><td>6.42666</td><td>6.759522</td><td>6.062833</td><td>6.110033</td><td>6.43937</td></tr></tbody></table></div>"
      ],
      "text/plain": [
       "shape: (534, 75)\n",
       "┌────────────┬──────────┬──────────┬──────────┬───┬──────────┬──────────┬──────────┬──────────┐\n",
       "│ TE         ┆ N54      ┆ N58      ┆ N60      ┆ … ┆ V839     ┆ V883     ┆ V888     ┆ V940     │\n",
       "│ ---        ┆ ---      ┆ ---      ┆ ---      ┆   ┆ ---      ┆ ---      ┆ ---      ┆ ---      │\n",
       "│ str        ┆ f64      ┆ f64      ┆ f64      ┆   ┆ f64      ┆ f64      ┆ f64      ┆ f64      │\n",
       "╞════════════╪══════════╪══════════╪══════════╪═══╪══════════╪══════════╪══════════╪══════════╡\n",
       "│ HERV-K14CI ┆ 3.937487 ┆ 2.584002 ┆ 3.923744 ┆ … ┆ 3.477567 ┆ 4.013692 ┆ 3.594036 ┆ 3.264589 │\n",
       "│ MER67D     ┆ 1.321933 ┆ 1.748084 ┆ 1.880447 ┆ … ┆ 1.655077 ┆ 1.690531 ┆ 1.993705 ┆ 1.29255  │\n",
       "│ MIR3       ┆ 3.531939 ┆ 3.449021 ┆ 2.888116 ┆ … ┆ 3.341267 ┆ 4.115771 ┆ 2.991379 ┆ 4.103192 │\n",
       "│ HERVK11DI  ┆ 5.267927 ┆ 4.594053 ┆ 6.19898  ┆ … ┆ 5.04626  ┆ 4.597789 ┆ 4.522717 ┆ 4.731235 │\n",
       "│ MER41G     ┆ 3.531939 ┆ 2.708684 ┆ 3.202243 ┆ … ┆ 2.788863 ┆ 1.797131 ┆ 2.235088 ┆ 1.796147 │\n",
       "│ …          ┆ …        ┆ …        ┆ …        ┆ … ┆ …        ┆ …        ┆ …        ┆ …        │\n",
       "│ MER21B     ┆ 7.499082 ┆ 6.736585 ┆ 7.147342 ┆ … ┆ 7.347767 ┆ 6.72952  ┆ 6.794625 ┆ 6.681528 │\n",
       "│ MER21C     ┆ 7.176958 ┆ 6.794437 ┆ 6.729784 ┆ … ┆ 7.232642 ┆ 6.668495 ┆ 6.558563 ┆ 6.781873 │\n",
       "│ L1M2A_5    ┆ 5.92388  ┆ 5.712003 ┆ 6.012732 ┆ … ┆ 6.04159  ┆ 5.673391 ┆ 5.238059 ┆ 5.605399 │\n",
       "│ L1MD2      ┆ 8.74393  ┆ 8.267138 ┆ 8.282537 ┆ … ┆ 8.633874 ┆ 8.265729 ┆ 7.961393 ┆ 8.35133  │\n",
       "│ MIRc       ┆ 6.864043 ┆ 6.296118 ┆ 6.55078  ┆ … ┆ 6.759522 ┆ 6.062833 ┆ 6.110033 ┆ 6.43937  │\n",
       "└────────────┴──────────┴──────────┴──────────┴───┴──────────┴──────────┴──────────┴──────────┘"
      ]
     },
     "execution_count": 40,
     "metadata": {},
     "output_type": "execute_result"
    }
   ],
   "source": [
    "preprocess_seq_data(\n",
    "    df=mrna,\n",
    "    annotation_cols=[\"GENE_ID\", \"GENE_NAME\"],\n",
    "    min_median_expression=100,\n",
    "    min_detection_rate=0.2,\n",
    "    top_n=3000,\n",
    "    output_path=\"mds_data/preprocessed_74/mrna.csv\",\n",
    ")\n",
    "preprocess_seq_data(\n",
    "    df=mirna_genes,\n",
    "    annotation_cols=[\"GENE_ID\", \"GENE_NAME\"],\n",
    "    min_median_expression=5,\n",
    "    min_detection_rate=0.2,\n",
    "    top_n=1500,\n",
    "    output_path=\"mds_data/preprocessed_74/mirna_genes.csv\",\n",
    ")\n",
    "# preprocess_seq_data(\n",
    "#     df=mirna,\n",
    "#     annotation_cols=[\"miRNA\"],\n",
    "#     min_median_expression=10,\n",
    "#     min_detection_rate=0.2,\n",
    "#     top_n=1500,\n",
    "#     output_path=\"mds_data/preprocessed/mirna.csv\",\n",
    "# )\n",
    "preprocess_seq_data(\n",
    "    df=circrna,\n",
    "    annotation_cols=[\"STRAND\", \"circRNA_ID\", \"GENE_ID\", \"GENE_TYPE\", \"GENE_NAME\"],\n",
    "    min_median_expression=5,\n",
    "    min_detection_rate=0.2,\n",
    "    top_n=1500,\n",
    "    output_path=\"mds_data/preprocessed_74/circrna.csv\",\n",
    ")\n",
    "# preprocess_seq_data(\n",
    "#     df=pirna,\n",
    "#     annotation_cols=[\"piRNA_name\", \"piRNA_id\"],\n",
    "#     min_median_expression=5,\n",
    "#     min_detection_rate=0.2,\n",
    "#     top_n=500,\n",
    "#     output_path=\"mds_data/preprocessed/pirna.csv\",\n",
    "# )\n",
    "preprocess_seq_data(\n",
    "    te_counts,\n",
    "    annotation_cols=[\"TE\"],\n",
    "    min_median_expression=10,\n",
    "    min_detection_rate=0.4,\n",
    "    top_n=1000,\n",
    "    output_path=\"mds_data/preprocessed_74/te_counts.csv\",\n",
    ")"
   ]
  },
  {
   "cell_type": "code",
   "execution_count": 192,
   "metadata": {},
   "outputs": [
    {
     "data": {
      "text/html": [
       "<div><style>\n",
       ".dataframe > thead > tr,\n",
       ".dataframe > tbody > tr {\n",
       "  text-align: right;\n",
       "  white-space: pre-wrap;\n",
       "}\n",
       "</style>\n",
       "<small>shape: (98, 6)</small><table border=\"1\" class=\"dataframe\"><thead><tr><th>SAMPLE_NAME</th><th>SAMPLE_ID</th><th>GROUP</th><th>disease</th><th>risk</th><th>mutations</th></tr><tr><td>str</td><td>str</td><td>str</td><td>i64</td><td>i64</td><td>i64</td></tr></thead><tbody><tr><td>&quot;N54_S14&quot;</td><td>&quot;N54&quot;</td><td>&quot;CTR&quot;</td><td>1</td><td>0</td><td>0</td></tr><tr><td>&quot;N58_S18&quot;</td><td>&quot;N58&quot;</td><td>&quot;CTR&quot;</td><td>1</td><td>0</td><td>0</td></tr><tr><td>&quot;N60_S15&quot;</td><td>&quot;N60&quot;</td><td>&quot;CTR&quot;</td><td>1</td><td>0</td><td>0</td></tr><tr><td>&quot;N70_S16&quot;</td><td>&quot;N70&quot;</td><td>&quot;CTR&quot;</td><td>1</td><td>0</td><td>0</td></tr><tr><td>&quot;N82_S1&quot;</td><td>&quot;N82&quot;</td><td>&quot;CTR&quot;</td><td>1</td><td>0</td><td>0</td></tr><tr><td>&hellip;</td><td>&hellip;</td><td>&hellip;</td><td>&hellip;</td><td>&hellip;</td><td>&hellip;</td></tr><tr><td>&quot;V839_S17&quot;</td><td>&quot;V839&quot;</td><td>&quot;EPI&quot;</td><td>2</td><td>2</td><td>0</td></tr><tr><td>&quot;V883_S4&quot;</td><td>&quot;V883&quot;</td><td>&quot;SPL/EPI&quot;</td><td>2</td><td>1</td><td>0</td></tr><tr><td>&quot;V888_S2&quot;</td><td>&quot;V888&quot;</td><td>&quot;SPL&quot;</td><td>2</td><td>1</td><td>2</td></tr><tr><td>&quot;V940_S8&quot;</td><td>&quot;V940&quot;</td><td>&quot;SPL/EPI&quot;</td><td>2</td><td>1</td><td>0</td></tr><tr><td>&quot;V956_S6&quot;</td><td>&quot;V956&quot;</td><td>&quot;SPL&quot;</td><td>2</td><td>1</td><td>2</td></tr></tbody></table></div>"
      ],
      "text/plain": [
       "shape: (98, 6)\n",
       "┌─────────────┬───────────┬─────────┬─────────┬──────┬───────────┐\n",
       "│ SAMPLE_NAME ┆ SAMPLE_ID ┆ GROUP   ┆ disease ┆ risk ┆ mutations │\n",
       "│ ---         ┆ ---       ┆ ---     ┆ ---     ┆ ---  ┆ ---       │\n",
       "│ str         ┆ str       ┆ str     ┆ i64     ┆ i64  ┆ i64       │\n",
       "╞═════════════╪═══════════╪═════════╪═════════╪══════╪═══════════╡\n",
       "│ N54_S14     ┆ N54       ┆ CTR     ┆ 1       ┆ 0    ┆ 0         │\n",
       "│ N58_S18     ┆ N58       ┆ CTR     ┆ 1       ┆ 0    ┆ 0         │\n",
       "│ N60_S15     ┆ N60       ┆ CTR     ┆ 1       ┆ 0    ┆ 0         │\n",
       "│ N70_S16     ┆ N70       ┆ CTR     ┆ 1       ┆ 0    ┆ 0         │\n",
       "│ N82_S1      ┆ N82       ┆ CTR     ┆ 1       ┆ 0    ┆ 0         │\n",
       "│ …           ┆ …         ┆ …       ┆ …       ┆ …    ┆ …         │\n",
       "│ V839_S17    ┆ V839      ┆ EPI     ┆ 2       ┆ 2    ┆ 0         │\n",
       "│ V883_S4     ┆ V883      ┆ SPL/EPI ┆ 2       ┆ 1    ┆ 0         │\n",
       "│ V888_S2     ┆ V888      ┆ SPL     ┆ 2       ┆ 1    ┆ 2         │\n",
       "│ V940_S8     ┆ V940      ┆ SPL/EPI ┆ 2       ┆ 1    ┆ 0         │\n",
       "│ V956_S6     ┆ V956      ┆ SPL     ┆ 2       ┆ 1    ┆ 2         │\n",
       "└─────────────┴───────────┴─────────┴─────────┴──────┴───────────┘"
      ]
     },
     "execution_count": 192,
     "metadata": {},
     "output_type": "execute_result"
    }
   ],
   "source": [
    "annotations = pl.read_csv(\"mds_data/preprocessed/annotations.csv\")\n",
    "annotations"
   ]
  },
  {
   "cell_type": "code",
   "execution_count": 193,
   "metadata": {},
   "outputs": [],
   "source": [
    "annot_66 = (\n",
    "    annotations.filter(pl.col(\"SAMPLE_ID\").is_in(common_names))\n",
    "    .sort(\"SAMPLE_ID\")\n",
    "    .write_csv(\"mds_data/preprocessed/annotations_66.csv\")\n",
    ")"
   ]
  },
  {
   "cell_type": "code",
   "execution_count": 42,
   "metadata": {},
   "outputs": [],
   "source": [
    "annot_74 = (\n",
    "    annotations.filter(pl.col(\"SAMPLE_ID\").is_in(common_names))\n",
    "    .sort(\"SAMPLE_ID\")\n",
    "    .write_csv(\"mds_data/preprocessed_74/annotations_74.csv\")\n",
    ")"
   ]
  },
  {
   "cell_type": "code",
   "execution_count": 194,
   "metadata": {},
   "outputs": [
    {
     "data": {
      "text/html": [
       "<div><style>\n",
       ".dataframe > thead > tr,\n",
       ".dataframe > tbody > tr {\n",
       "  text-align: right;\n",
       "  white-space: pre-wrap;\n",
       "}\n",
       "</style>\n",
       "<small>shape: (5, 10)</small><table border=\"1\" class=\"dataframe\"><thead><tr><th>GENE_ID</th><th>GENE_NAME</th><th>N58</th><th>N60</th><th>N70</th><th>N82</th><th>N83</th><th>N84</th><th>N85</th><th>V1048</th></tr><tr><td>str</td><td>str</td><td>i64</td><td>i64</td><td>i64</td><td>i64</td><td>i64</td><td>i64</td><td>i64</td><td>i64</td></tr></thead><tbody><tr><td>&quot;ENSG00000188026&quot;</td><td>&quot;RILPL1&quot;</td><td>235</td><td>244</td><td>266</td><td>89</td><td>232</td><td>198</td><td>246</td><td>404</td></tr><tr><td>&quot;ENSG00000167578&quot;</td><td>&quot;RAB4B&quot;</td><td>951</td><td>856</td><td>905</td><td>749</td><td>865</td><td>1441</td><td>682</td><td>764</td></tr><tr><td>&quot;ENSG00000078237&quot;</td><td>&quot;TIGAR&quot;</td><td>184</td><td>691</td><td>258</td><td>393</td><td>356</td><td>288</td><td>482</td><td>404</td></tr><tr><td>&quot;ENSG00000158486&quot;</td><td>&quot;DNAH3&quot;</td><td>0</td><td>16</td><td>8</td><td>30</td><td>4</td><td>10</td><td>0</td><td>0</td></tr><tr><td>&quot;ENSG00000283967&quot;</td><td>&quot;RP11-432M8.3&quot;</td><td>1</td><td>0</td><td>0</td><td>2</td><td>2</td><td>1</td><td>2</td><td>0</td></tr></tbody></table></div>"
      ],
      "text/plain": [
       "shape: (5, 10)\n",
       "┌─────────────────┬──────────────┬─────┬─────┬───┬─────┬──────┬─────┬───────┐\n",
       "│ GENE_ID         ┆ GENE_NAME    ┆ N58 ┆ N60 ┆ … ┆ N83 ┆ N84  ┆ N85 ┆ V1048 │\n",
       "│ ---             ┆ ---          ┆ --- ┆ --- ┆   ┆ --- ┆ ---  ┆ --- ┆ ---   │\n",
       "│ str             ┆ str          ┆ i64 ┆ i64 ┆   ┆ i64 ┆ i64  ┆ i64 ┆ i64   │\n",
       "╞═════════════════╪══════════════╪═════╪═════╪═══╪═════╪══════╪═════╪═══════╡\n",
       "│ ENSG00000188026 ┆ RILPL1       ┆ 235 ┆ 244 ┆ … ┆ 232 ┆ 198  ┆ 246 ┆ 404   │\n",
       "│ ENSG00000167578 ┆ RAB4B        ┆ 951 ┆ 856 ┆ … ┆ 865 ┆ 1441 ┆ 682 ┆ 764   │\n",
       "│ ENSG00000078237 ┆ TIGAR        ┆ 184 ┆ 691 ┆ … ┆ 356 ┆ 288  ┆ 482 ┆ 404   │\n",
       "│ ENSG00000158486 ┆ DNAH3        ┆ 0   ┆ 16  ┆ … ┆ 4   ┆ 10   ┆ 0   ┆ 0     │\n",
       "│ ENSG00000283967 ┆ RP11-432M8.3 ┆ 1   ┆ 0   ┆ … ┆ 2   ┆ 1    ┆ 2   ┆ 0     │\n",
       "└─────────────────┴──────────────┴─────┴─────┴───┴─────┴──────┴─────┴───────┘"
      ]
     },
     "execution_count": 194,
     "metadata": {},
     "output_type": "execute_result"
    }
   ],
   "source": [
    "mrna[:, :10].head()"
   ]
  }
 ],
 "metadata": {
  "kernelspec": {
   "display_name": ".venv",
   "language": "python",
   "name": "python3"
  },
  "language_info": {
   "codemirror_mode": {
    "name": "ipython",
    "version": 3
   },
   "file_extension": ".py",
   "mimetype": "text/x-python",
   "name": "python",
   "nbconvert_exporter": "python",
   "pygments_lexer": "ipython3",
   "version": "3.12.7"
  }
 },
 "nbformat": 4,
 "nbformat_minor": 2
}
