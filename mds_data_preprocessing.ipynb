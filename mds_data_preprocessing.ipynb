{
 "cells": [
  {
   "cell_type": "code",
   "execution_count": 171,
   "metadata": {},
   "outputs": [
    {
     "name": "stdout",
     "output_type": "stream",
     "text": [
      "The autoreload extension is already loaded. To reload it, use:\n",
      "  %reload_ext autoreload\n"
     ]
    }
   ],
   "source": [
    "%load_ext autoreload\n",
    "%autoreload 2\n",
    "\n",
    "import numpy as np\n",
    "import polars as pl\n",
    "from src.seqeuencing_data_preprocessing import preprocess_seq_data"
   ]
  },
  {
   "cell_type": "markdown",
   "metadata": {},
   "source": [
    "# load and transform annotations"
   ]
  },
  {
   "cell_type": "code",
   "execution_count": 172,
   "metadata": {},
   "outputs": [],
   "source": [
    "# load sample_sheet\n",
    "sample_sheet = pl.read_excel(\"mds_data/raw/sample sheet for CVUT.xlsx\")\n",
    "\n",
    "annotations = (\n",
    "    sample_sheet.with_columns(\n",
    "        pl.col(\"SAMPLE_NAME\")\n",
    "            .str.split(\"_\")\n",
    "            .map_elements(lambda x: x[0], return_dtype=pl.String)\n",
    "            .alias(\"SAMPLE_ID\")\n",
    "    )\n",
    "    .sort(\"SAMPLE_ID\")\n",
    "    .drop(\"RUN\", \"PLATFORM\", \"N_UNIQ_MAP_READS\", \"UNIQ_MAP\")\n",
    "    .rename(\n",
    "        {\"1 disease\": \"disease\", \"2 risk\" : \"risk\", \"3 mutations (SF3B1only_wt)\" : \"mutations\"}\n",
    "    )\n",
    "    .select(\"SAMPLE_NAME\",\"SAMPLE_ID\",\"GROUP\",\"disease\",\"risk\",\"mutations\")\n",
    ")\n",
    "\n",
    "# annotations.write_csv(\"mds_data/preprocessed/annotations.csv\")"
   ]
  },
  {
   "cell_type": "markdown",
   "metadata": {},
   "source": [
    "# load mRNA"
   ]
  },
  {
   "cell_type": "code",
   "execution_count": 173,
   "metadata": {},
   "outputs": [
    {
     "name": "stdout",
     "output_type": "stream",
     "text": [
      "shape: (46, 2)\n",
      "┌─────────────────────────────────┬───────┐\n",
      "│ GENE_TYPE                       ┆ count │\n",
      "│ ---                             ┆ ---   │\n",
      "│ str                             ┆ u32   │\n",
      "╞═════════════════════════════════╪═══════╡\n",
      "│ protein_coding                  ┆ 19873 │\n",
      "│ processed_pseudogene            ┆ 10209 │\n",
      "│ lincRNA                         ┆ 7430  │\n",
      "│ antisense                       ┆ 5479  │\n",
      "│ unprocessed_pseudogene          ┆ 2645  │\n",
      "│ misc_RNA                        ┆ 2212  │\n",
      "│ snRNA                           ┆ 1900  │\n",
      "│ miRNA                           ┆ 1879  │\n",
      "│ TEC                             ┆ 1065  │\n",
      "│ snoRNA                          ┆ 943   │\n",
      "│ sense_intronic                  ┆ 893   │\n",
      "│ transcribed_unprocessed_pseudo… ┆ 853   │\n",
      "│ processed_transcript            ┆ 550   │\n",
      "│ rRNA                            ┆ 542   │\n",
      "│ transcribed_processed_pseudoge… ┆ 471   │\n",
      "│ IG_V_pseudogene                 ┆ 188   │\n",
      "│ sense_overlapping               ┆ 179   │\n",
      "│ IG_V_gene                       ┆ 144   │\n",
      "│ transcribed_unitary_pseudogene  ┆ 123   │\n",
      "│ TR_V_gene                       ┆ 106   │\n",
      "│ unitary_pseudogene              ┆ 95    │\n",
      "│ TR_J_gene                       ┆ 79    │\n",
      "│ scaRNA                          ┆ 49    │\n",
      "│ bidirectional_promoter_lncRNA   ┆ 47    │\n",
      "│ polymorphic_pseudogene          ┆ 38    │\n",
      "│ IG_D_gene                       ┆ 37    │\n",
      "│ TR_V_pseudogene                 ┆ 33    │\n",
      "│ 3prime_overlapping_ncRNA        ┆ 32    │\n",
      "│ Mt_tRNA                         ┆ 22    │\n",
      "│ pseudogene                      ┆ 18    │\n",
      "│ IG_J_gene                       ┆ 18    │\n",
      "│ IG_C_gene                       ┆ 14    │\n",
      "│ IG_C_pseudogene                 ┆ 9     │\n",
      "│ ribozyme                        ┆ 8     │\n",
      "│ TR_C_gene                       ┆ 6     │\n",
      "│ sRNA                            ┆ 5     │\n",
      "│ TR_J_pseudogene                 ┆ 4     │\n",
      "│ TR_D_gene                       ┆ 4     │\n",
      "│ IG_J_pseudogene                 ┆ 3     │\n",
      "│ non_coding                      ┆ 3     │\n",
      "│ translated_processed_pseudogen… ┆ 2     │\n",
      "│ Mt_rRNA                         ┆ 2     │\n",
      "│ vaultRNA                        ┆ 1     │\n",
      "│ scRNA                           ┆ 1     │\n",
      "│ IG_pseudogene                   ┆ 1     │\n",
      "│ macro_lncRNA                    ┆ 1     │\n",
      "└─────────────────────────────────┴───────┘\n"
     ]
    }
   ],
   "source": [
    "mrna = pl.read_csv(\"mds_data/raw/200625_allRNA_fromRNAseq_annot_hg38.tsv\", separator=\"\\t\")\n",
    "with pl.Config(tbl_cols=-1, tbl_rows=-1):\n",
    "    print(mrna[\"GENE_TYPE\"].value_counts(sort=True))"
   ]
  },
  {
   "cell_type": "code",
   "execution_count": 174,
   "metadata": {},
   "outputs": [
    {
     "data": {
      "text/html": [
       "<div><style>\n",
       ".dataframe > thead > tr,\n",
       ".dataframe > tbody > tr {\n",
       "  text-align: right;\n",
       "  white-space: pre-wrap;\n",
       "}\n",
       "</style>\n",
       "<small>shape: (19_873, 88)</small><table border=\"1\" class=\"dataframe\"><thead><tr><th>GENE_ID</th><th>GENE_NAME</th><th>N54</th><th>N58</th><th>N60</th><th>N70</th><th>N82</th><th>N83</th><th>N84</th><th>N85</th><th>N86</th><th>N87</th><th>NV1428</th><th>NV911</th><th>NV912</th><th>V1048</th><th>V108</th><th>V1090</th><th>V1249</th><th>V125</th><th>V1279</th><th>V1297</th><th>V1321</th><th>V1337</th><th>V1394</th><th>V1422</th><th>V1426</th><th>V1441</th><th>V1456</th><th>V148</th><th>V1505</th><th>V1528</th><th>V1554</th><th>V1565</th><th>V1577</th><th>V1591</th><th>V1592</th><th>&hellip;</th><th>V1921</th><th>V2089</th><th>V2092</th><th>V2110</th><th>V2133</th><th>V221</th><th>V2241</th><th>V344</th><th>V359</th><th>V406</th><th>V456</th><th>V513</th><th>V538</th><th>V553</th><th>V574</th><th>V624</th><th>V630</th><th>V637</th><th>V655</th><th>V67</th><th>V681</th><th>V708</th><th>V712</th><th>V714</th><th>V716</th><th>V777</th><th>V788</th><th>V795</th><th>V806</th><th>V833</th><th>V839</th><th>V853</th><th>V883</th><th>V888</th><th>V940</th><th>V956</th><th>V957</th></tr><tr><td>str</td><td>str</td><td>i64</td><td>i64</td><td>i64</td><td>i64</td><td>i64</td><td>i64</td><td>i64</td><td>i64</td><td>i64</td><td>i64</td><td>i64</td><td>i64</td><td>i64</td><td>i64</td><td>i64</td><td>i64</td><td>i64</td><td>i64</td><td>i64</td><td>i64</td><td>i64</td><td>i64</td><td>i64</td><td>i64</td><td>i64</td><td>i64</td><td>i64</td><td>i64</td><td>i64</td><td>i64</td><td>i64</td><td>i64</td><td>i64</td><td>i64</td><td>i64</td><td>&hellip;</td><td>i64</td><td>i64</td><td>i64</td><td>i64</td><td>i64</td><td>i64</td><td>i64</td><td>i64</td><td>i64</td><td>i64</td><td>i64</td><td>i64</td><td>i64</td><td>i64</td><td>i64</td><td>i64</td><td>i64</td><td>i64</td><td>i64</td><td>i64</td><td>i64</td><td>i64</td><td>i64</td><td>i64</td><td>i64</td><td>i64</td><td>i64</td><td>i64</td><td>i64</td><td>i64</td><td>i64</td><td>i64</td><td>i64</td><td>i64</td><td>i64</td><td>i64</td><td>i64</td></tr></thead><tbody><tr><td>&quot;ENSG00000188026&quot;</td><td>&quot;RILPL1&quot;</td><td>407</td><td>235</td><td>244</td><td>266</td><td>89</td><td>232</td><td>198</td><td>246</td><td>134</td><td>279</td><td>131</td><td>133</td><td>114</td><td>404</td><td>60</td><td>207</td><td>196</td><td>172</td><td>146</td><td>256</td><td>393</td><td>195</td><td>110</td><td>106</td><td>463</td><td>128</td><td>239</td><td>203</td><td>223</td><td>153</td><td>65</td><td>384</td><td>146</td><td>226</td><td>210</td><td>&hellip;</td><td>200</td><td>120</td><td>362</td><td>315</td><td>93</td><td>170</td><td>376</td><td>120</td><td>715</td><td>180</td><td>314</td><td>263</td><td>128</td><td>426</td><td>352</td><td>164</td><td>538</td><td>44</td><td>131</td><td>432</td><td>262</td><td>98</td><td>65</td><td>92</td><td>355</td><td>167</td><td>283</td><td>122</td><td>458</td><td>439</td><td>139</td><td>260</td><td>273</td><td>474</td><td>364</td><td>176</td><td>69</td></tr><tr><td>&quot;ENSG00000167578&quot;</td><td>&quot;RAB4B&quot;</td><td>951</td><td>951</td><td>856</td><td>905</td><td>749</td><td>865</td><td>1441</td><td>682</td><td>851</td><td>681</td><td>849</td><td>555</td><td>454</td><td>764</td><td>1080</td><td>812</td><td>1214</td><td>710</td><td>1111</td><td>613</td><td>1526</td><td>1348</td><td>1390</td><td>765</td><td>1665</td><td>527</td><td>1259</td><td>1026</td><td>1317</td><td>1183</td><td>412</td><td>1682</td><td>1278</td><td>1177</td><td>753</td><td>&hellip;</td><td>914</td><td>1798</td><td>937</td><td>812</td><td>304</td><td>636</td><td>1165</td><td>1137</td><td>1514</td><td>1024</td><td>920</td><td>989</td><td>948</td><td>2094</td><td>1350</td><td>1989</td><td>1261</td><td>460</td><td>685</td><td>1374</td><td>778</td><td>831</td><td>786</td><td>1370</td><td>1304</td><td>882</td><td>3043</td><td>1605</td><td>801</td><td>1118</td><td>907</td><td>1815</td><td>887</td><td>1130</td><td>813</td><td>0</td><td>1242</td></tr><tr><td>&quot;ENSG00000078237&quot;</td><td>&quot;TIGAR&quot;</td><td>580</td><td>184</td><td>691</td><td>258</td><td>393</td><td>356</td><td>288</td><td>482</td><td>275</td><td>277</td><td>325</td><td>240</td><td>329</td><td>404</td><td>301</td><td>240</td><td>777</td><td>296</td><td>404</td><td>173</td><td>343</td><td>504</td><td>878</td><td>133</td><td>374</td><td>686</td><td>606</td><td>485</td><td>322</td><td>309</td><td>151</td><td>508</td><td>731</td><td>488</td><td>568</td><td>&hellip;</td><td>332</td><td>511</td><td>424</td><td>218</td><td>142</td><td>304</td><td>511</td><td>590</td><td>475</td><td>564</td><td>366</td><td>400</td><td>219</td><td>998</td><td>376</td><td>817</td><td>609</td><td>80</td><td>342</td><td>408</td><td>471</td><td>336</td><td>217</td><td>630</td><td>1098</td><td>243</td><td>746</td><td>361</td><td>499</td><td>486</td><td>1073</td><td>317</td><td>328</td><td>362</td><td>227</td><td>242</td><td>522</td></tr><tr><td>&quot;ENSG00000158486&quot;</td><td>&quot;DNAH3&quot;</td><td>18</td><td>0</td><td>16</td><td>8</td><td>30</td><td>4</td><td>10</td><td>0</td><td>18</td><td>9</td><td>3</td><td>3</td><td>10</td><td>0</td><td>3</td><td>0</td><td>27</td><td>29</td><td>0</td><td>12</td><td>97</td><td>0</td><td>4</td><td>2</td><td>31</td><td>6</td><td>0</td><td>195</td><td>8</td><td>0</td><td>8</td><td>11</td><td>7</td><td>3</td><td>0</td><td>&hellip;</td><td>0</td><td>12</td><td>92</td><td>17</td><td>266</td><td>0</td><td>7</td><td>8</td><td>4</td><td>3</td><td>3</td><td>0</td><td>2</td><td>20</td><td>43</td><td>0</td><td>12</td><td>0</td><td>134</td><td>6</td><td>0</td><td>4</td><td>9</td><td>80</td><td>23</td><td>10</td><td>227</td><td>0</td><td>3</td><td>47</td><td>109</td><td>0</td><td>0</td><td>19</td><td>2</td><td>0</td><td>17</td></tr><tr><td>&quot;ENSG00000283967&quot;</td><td>&quot;RP11-432M8.3&quot;</td><td>0</td><td>1</td><td>0</td><td>0</td><td>2</td><td>2</td><td>1</td><td>2</td><td>1</td><td>1</td><td>0</td><td>0</td><td>1</td><td>0</td><td>1</td><td>0</td><td>2</td><td>3</td><td>0</td><td>3</td><td>2</td><td>0</td><td>0</td><td>0</td><td>0</td><td>1</td><td>0</td><td>0</td><td>1</td><td>2</td><td>3</td><td>0</td><td>2</td><td>1</td><td>0</td><td>&hellip;</td><td>0</td><td>0</td><td>7</td><td>2</td><td>8</td><td>0</td><td>1</td><td>0</td><td>6</td><td>1</td><td>0</td><td>0</td><td>0</td><td>2</td><td>0</td><td>0</td><td>1</td><td>0</td><td>7</td><td>1</td><td>0</td><td>0</td><td>1</td><td>0</td><td>0</td><td>0</td><td>1</td><td>0</td><td>0</td><td>2</td><td>1</td><td>0</td><td>4</td><td>2</td><td>1</td><td>1</td><td>3</td></tr><tr><td>&hellip;</td><td>&hellip;</td><td>&hellip;</td><td>&hellip;</td><td>&hellip;</td><td>&hellip;</td><td>&hellip;</td><td>&hellip;</td><td>&hellip;</td><td>&hellip;</td><td>&hellip;</td><td>&hellip;</td><td>&hellip;</td><td>&hellip;</td><td>&hellip;</td><td>&hellip;</td><td>&hellip;</td><td>&hellip;</td><td>&hellip;</td><td>&hellip;</td><td>&hellip;</td><td>&hellip;</td><td>&hellip;</td><td>&hellip;</td><td>&hellip;</td><td>&hellip;</td><td>&hellip;</td><td>&hellip;</td><td>&hellip;</td><td>&hellip;</td><td>&hellip;</td><td>&hellip;</td><td>&hellip;</td><td>&hellip;</td><td>&hellip;</td><td>&hellip;</td><td>&hellip;</td><td>&hellip;</td><td>&hellip;</td><td>&hellip;</td><td>&hellip;</td><td>&hellip;</td><td>&hellip;</td><td>&hellip;</td><td>&hellip;</td><td>&hellip;</td><td>&hellip;</td><td>&hellip;</td><td>&hellip;</td><td>&hellip;</td><td>&hellip;</td><td>&hellip;</td><td>&hellip;</td><td>&hellip;</td><td>&hellip;</td><td>&hellip;</td><td>&hellip;</td><td>&hellip;</td><td>&hellip;</td><td>&hellip;</td><td>&hellip;</td><td>&hellip;</td><td>&hellip;</td><td>&hellip;</td><td>&hellip;</td><td>&hellip;</td><td>&hellip;</td><td>&hellip;</td><td>&hellip;</td><td>&hellip;</td><td>&hellip;</td><td>&hellip;</td><td>&hellip;</td><td>&hellip;</td><td>&hellip;</td></tr><tr><td>&quot;ENSG00000186115&quot;</td><td>&quot;CYP4F2&quot;</td><td>152</td><td>182</td><td>25</td><td>144</td><td>178</td><td>120</td><td>105</td><td>76</td><td>257</td><td>203</td><td>114</td><td>26</td><td>57</td><td>0</td><td>129</td><td>487</td><td>449</td><td>81</td><td>381</td><td>43</td><td>139</td><td>32</td><td>0</td><td>324</td><td>60</td><td>621</td><td>138</td><td>255</td><td>115</td><td>30</td><td>5</td><td>281</td><td>910</td><td>50</td><td>1116</td><td>&hellip;</td><td>116</td><td>22</td><td>14</td><td>474</td><td>58</td><td>59</td><td>119</td><td>248</td><td>38</td><td>8</td><td>11</td><td>127</td><td>177</td><td>8</td><td>96</td><td>458</td><td>157</td><td>191</td><td>58</td><td>213</td><td>308</td><td>752</td><td>481</td><td>237</td><td>138</td><td>7</td><td>468</td><td>545</td><td>11</td><td>143</td><td>226</td><td>70</td><td>152</td><td>84</td><td>171</td><td>0</td><td>278</td></tr><tr><td>&quot;ENSG00000009694&quot;</td><td>&quot;TENM1&quot;</td><td>22</td><td>32</td><td>11</td><td>42</td><td>20</td><td>32</td><td>26</td><td>25</td><td>75</td><td>33</td><td>19</td><td>30</td><td>3</td><td>11</td><td>173</td><td>5</td><td>54</td><td>31</td><td>25</td><td>46</td><td>93</td><td>2876</td><td>28</td><td>26</td><td>40</td><td>48</td><td>7</td><td>90</td><td>23</td><td>17</td><td>52</td><td>49</td><td>55</td><td>29</td><td>7</td><td>&hellip;</td><td>23</td><td>31</td><td>78</td><td>126</td><td>108</td><td>138</td><td>15</td><td>232</td><td>231</td><td>107</td><td>38</td><td>7</td><td>18</td><td>203</td><td>39</td><td>4</td><td>16</td><td>6</td><td>777</td><td>11</td><td>59</td><td>46</td><td>18</td><td>54</td><td>58</td><td>35</td><td>97</td><td>36</td><td>19</td><td>44</td><td>57</td><td>30</td><td>23</td><td>36</td><td>32</td><td>0</td><td>412</td></tr><tr><td>&quot;ENSG00000123685&quot;</td><td>&quot;BATF3&quot;</td><td>127</td><td>67</td><td>134</td><td>147</td><td>23</td><td>216</td><td>82</td><td>90</td><td>51</td><td>58</td><td>64</td><td>17</td><td>72</td><td>83</td><td>86</td><td>178</td><td>147</td><td>124</td><td>76</td><td>70</td><td>50</td><td>115</td><td>34</td><td>100</td><td>185</td><td>166</td><td>128</td><td>131</td><td>150</td><td>73</td><td>49</td><td>227</td><td>239</td><td>103</td><td>48</td><td>&hellip;</td><td>33</td><td>104</td><td>109</td><td>92</td><td>98</td><td>315</td><td>119</td><td>37</td><td>223</td><td>60</td><td>52</td><td>74</td><td>67</td><td>184</td><td>182</td><td>140</td><td>351</td><td>25</td><td>76</td><td>210</td><td>185</td><td>90</td><td>181</td><td>168</td><td>343</td><td>262</td><td>165</td><td>315</td><td>472</td><td>215</td><td>106</td><td>366</td><td>137</td><td>131</td><td>84</td><td>92</td><td>53</td></tr><tr><td>&quot;ENSG00000105063&quot;</td><td>&quot;PPP6R1&quot;</td><td>22845</td><td>28193</td><td>26489</td><td>21006</td><td>17065</td><td>22682</td><td>26769</td><td>18729</td><td>20738</td><td>22708</td><td>18446</td><td>18690</td><td>18843</td><td>24906</td><td>15464</td><td>18758</td><td>21505</td><td>28065</td><td>21519</td><td>26893</td><td>24247</td><td>22835</td><td>31129</td><td>19041</td><td>93501</td><td>24492</td><td>25224</td><td>19994</td><td>24718</td><td>21241</td><td>8544</td><td>43097</td><td>30355</td><td>28033</td><td>17662</td><td>&hellip;</td><td>17448</td><td>34875</td><td>15198</td><td>22322</td><td>4353</td><td>14988</td><td>20336</td><td>32244</td><td>31834</td><td>21384</td><td>15798</td><td>18774</td><td>17235</td><td>29815</td><td>30757</td><td>27047</td><td>23945</td><td>7123</td><td>14442</td><td>23880</td><td>29027</td><td>27304</td><td>13041</td><td>20407</td><td>23342</td><td>15997</td><td>46899</td><td>40751</td><td>27759</td><td>24271</td><td>16824</td><td>33950</td><td>23426</td><td>30607</td><td>25504</td><td>0</td><td>25170</td></tr><tr><td>&quot;ENSG00000181518&quot;</td><td>&quot;OR8D4&quot;</td><td>0</td><td>0</td><td>0</td><td>0</td><td>0</td><td>0</td><td>0</td><td>4</td><td>0</td><td>7</td><td>0</td><td>3</td><td>0</td><td>0</td><td>43</td><td>0</td><td>0</td><td>3</td><td>4</td><td>0</td><td>3</td><td>0</td><td>0</td><td>36</td><td>0</td><td>3</td><td>0</td><td>0</td><td>0</td><td>0</td><td>4</td><td>0</td><td>0</td><td>0</td><td>0</td><td>&hellip;</td><td>3</td><td>0</td><td>8</td><td>0</td><td>29</td><td>4</td><td>10</td><td>0</td><td>0</td><td>7</td><td>0</td><td>0</td><td>4</td><td>5</td><td>3</td><td>0</td><td>0</td><td>0</td><td>39</td><td>0</td><td>3</td><td>0</td><td>4</td><td>3</td><td>0</td><td>7</td><td>8</td><td>6</td><td>0</td><td>6</td><td>0</td><td>0</td><td>0</td><td>3</td><td>0</td><td>8</td><td>4</td></tr></tbody></table></div>"
      ],
      "text/plain": [
       "shape: (19_873, 88)\n",
       "┌─────────────────┬──────────────┬───────┬───────┬───┬───────┬───────┬──────┬───────┐\n",
       "│ GENE_ID         ┆ GENE_NAME    ┆ N54   ┆ N58   ┆ … ┆ V888  ┆ V940  ┆ V956 ┆ V957  │\n",
       "│ ---             ┆ ---          ┆ ---   ┆ ---   ┆   ┆ ---   ┆ ---   ┆ ---  ┆ ---   │\n",
       "│ str             ┆ str          ┆ i64   ┆ i64   ┆   ┆ i64   ┆ i64   ┆ i64  ┆ i64   │\n",
       "╞═════════════════╪══════════════╪═══════╪═══════╪═══╪═══════╪═══════╪══════╪═══════╡\n",
       "│ ENSG00000188026 ┆ RILPL1       ┆ 407   ┆ 235   ┆ … ┆ 474   ┆ 364   ┆ 176  ┆ 69    │\n",
       "│ ENSG00000167578 ┆ RAB4B        ┆ 951   ┆ 951   ┆ … ┆ 1130  ┆ 813   ┆ 0    ┆ 1242  │\n",
       "│ ENSG00000078237 ┆ TIGAR        ┆ 580   ┆ 184   ┆ … ┆ 362   ┆ 227   ┆ 242  ┆ 522   │\n",
       "│ ENSG00000158486 ┆ DNAH3        ┆ 18    ┆ 0     ┆ … ┆ 19    ┆ 2     ┆ 0    ┆ 17    │\n",
       "│ ENSG00000283967 ┆ RP11-432M8.3 ┆ 0     ┆ 1     ┆ … ┆ 2     ┆ 1     ┆ 1    ┆ 3     │\n",
       "│ …               ┆ …            ┆ …     ┆ …     ┆ … ┆ …     ┆ …     ┆ …    ┆ …     │\n",
       "│ ENSG00000186115 ┆ CYP4F2       ┆ 152   ┆ 182   ┆ … ┆ 84    ┆ 171   ┆ 0    ┆ 278   │\n",
       "│ ENSG00000009694 ┆ TENM1        ┆ 22    ┆ 32    ┆ … ┆ 36    ┆ 32    ┆ 0    ┆ 412   │\n",
       "│ ENSG00000123685 ┆ BATF3        ┆ 127   ┆ 67    ┆ … ┆ 131   ┆ 84    ┆ 92   ┆ 53    │\n",
       "│ ENSG00000105063 ┆ PPP6R1       ┆ 22845 ┆ 28193 ┆ … ┆ 30607 ┆ 25504 ┆ 0    ┆ 25170 │\n",
       "│ ENSG00000181518 ┆ OR8D4        ┆ 0     ┆ 0     ┆ … ┆ 3     ┆ 0     ┆ 8    ┆ 4     │\n",
       "└─────────────────┴──────────────┴───────┴───────┴───┴───────┴───────┴──────┴───────┘"
      ]
     },
     "execution_count": 174,
     "metadata": {},
     "output_type": "execute_result"
    }
   ],
   "source": [
    "# mrna\n",
    "mrna = pl.read_csv(\"mds_data/raw/200625_allRNA_fromRNAseq_annot_hg38.tsv\", separator=\"\\t\")\n",
    "mrna = mrna.filter(pl.col(\"GENE_TYPE\") == \"protein_coding\")\n",
    "\n",
    "mrna = mrna.drop([\"CHR\", \"START\", \"END\", \"GENE_TYPE\"])\n",
    "gene_ids = mrna[\"GENE_ID\"]\n",
    "\n",
    "rename_dict = {col: col.split(\"_\")[0] for col in mrna.columns[2:]}\n",
    "mrna = mrna.rename(rename_dict)\n",
    "\n",
    "mrna_names = mrna.columns[2:]\n",
    "mrna"
   ]
  },
  {
   "cell_type": "markdown",
   "metadata": {},
   "source": [
    "- accounted for sequencing depth between different samples -> gene counts comparable between different samples now\n",
    "- computed scale invariant variance for each feature"
   ]
  },
  {
   "cell_type": "markdown",
   "metadata": {},
   "source": [
    "# load miRNA"
   ]
  },
  {
   "cell_type": "code",
   "execution_count": 175,
   "metadata": {},
   "outputs": [
    {
     "data": {
      "text/html": [
       "<div><style>\n",
       ".dataframe > thead > tr,\n",
       ".dataframe > tbody > tr {\n",
       "  text-align: right;\n",
       "  white-space: pre-wrap;\n",
       "}\n",
       "</style>\n",
       "<small>shape: (2_553, 106)</small><table border=\"1\" class=\"dataframe\"><thead><tr><th>miRNA</th><th>V1565</th><th>N58</th><th>V1874</th><th>V777</th><th>N80</th><th>V1788</th><th>N65</th><th>V2368</th><th>N81</th><th>N59</th><th>V2286</th><th>V406</th><th>V100</th><th>N82</th><th>V2133</th><th>V574</th><th>V2115</th><th>V1921</th><th>V714</th><th>V637</th><th>V1742</th><th>V1744</th><th>V2248</th><th>V1428</th><th>V18</th><th>V1857</th><th>V839</th><th>V912</th><th>V1048</th><th>V911</th><th>V940</th><th>V681</th><th>V708</th><th>N60</th><th>N70</th><th>V148</th><th>&hellip;</th><th>V1441</th><th>V1699</th><th>V1297</th><th>V1321</th><th>V1505</th><th>V1249</th><th>V1456</th><th>V1426</th><th>V1394</th><th>V1592</th><th>V1528</th><th>V1591</th><th>V833</th><th>V1708</th><th>V1800</th><th>V1776</th><th>V1823</th><th>V1775</th><th>V1834</th><th>V2378</th><th>V2414</th><th>V1860</th><th>V1884</th><th>V1920</th><th>V2322</th><th>V2311</th><th>V2291</th><th>V1957</th><th>V2092</th><th>V2284</th><th>V2278</th><th>V2110</th><th>V2179</th><th>V2147</th><th>V2224</th><th>V2089</th><th>V788</th></tr><tr><td>str</td><td>i64</td><td>i64</td><td>i64</td><td>i64</td><td>i64</td><td>i64</td><td>i64</td><td>i64</td><td>i64</td><td>i64</td><td>i64</td><td>i64</td><td>i64</td><td>i64</td><td>i64</td><td>i64</td><td>i64</td><td>i64</td><td>i64</td><td>i64</td><td>i64</td><td>i64</td><td>i64</td><td>i64</td><td>i64</td><td>i64</td><td>i64</td><td>i64</td><td>i64</td><td>i64</td><td>i64</td><td>i64</td><td>i64</td><td>i64</td><td>i64</td><td>i64</td><td>&hellip;</td><td>i64</td><td>i64</td><td>i64</td><td>i64</td><td>i64</td><td>i64</td><td>i64</td><td>i64</td><td>i64</td><td>i64</td><td>i64</td><td>i64</td><td>i64</td><td>i64</td><td>i64</td><td>i64</td><td>i64</td><td>i64</td><td>i64</td><td>i64</td><td>i64</td><td>i64</td><td>i64</td><td>i64</td><td>i64</td><td>i64</td><td>i64</td><td>i64</td><td>i64</td><td>i64</td><td>i64</td><td>i64</td><td>i64</td><td>i64</td><td>i64</td><td>i64</td><td>i64</td></tr></thead><tbody><tr><td>&quot;hsa-let-7a-2-3p&quot;</td><td>23</td><td>0</td><td>11</td><td>12</td><td>11</td><td>0</td><td>13</td><td>12</td><td>12</td><td>36</td><td>15</td><td>0</td><td>35</td><td>0</td><td>17</td><td>10</td><td>12</td><td>10</td><td>13</td><td>0</td><td>0</td><td>18</td><td>58</td><td>11</td><td>12</td><td>60</td><td>0</td><td>17</td><td>26</td><td>13</td><td>18</td><td>0</td><td>13</td><td>0</td><td>0</td><td>0</td><td>&hellip;</td><td>0</td><td>15</td><td>10</td><td>0</td><td>27</td><td>0</td><td>0</td><td>0</td><td>0</td><td>10</td><td>0</td><td>18</td><td>0</td><td>0</td><td>10</td><td>19</td><td>79</td><td>12</td><td>0</td><td>17</td><td>24</td><td>17</td><td>0</td><td>12</td><td>33</td><td>0</td><td>13</td><td>0</td><td>10</td><td>12</td><td>17</td><td>47</td><td>0</td><td>13</td><td>26</td><td>20</td><td>12</td></tr><tr><td>&quot;hsa-let-7a-3p&quot;</td><td>1224</td><td>1619</td><td>3376</td><td>1972</td><td>1811</td><td>1490</td><td>589</td><td>1721</td><td>2311</td><td>1272</td><td>1211</td><td>1291</td><td>280</td><td>1455</td><td>197</td><td>1503</td><td>1785</td><td>1379</td><td>1150</td><td>877</td><td>1239</td><td>5322</td><td>1659</td><td>1081</td><td>4406</td><td>431</td><td>1859</td><td>2536</td><td>2123</td><td>2414</td><td>1062</td><td>1164</td><td>1876</td><td>642</td><td>663</td><td>1079</td><td>&hellip;</td><td>1970</td><td>1087</td><td>1096</td><td>1382</td><td>1564</td><td>2106</td><td>1657</td><td>542</td><td>1472</td><td>1084</td><td>1287</td><td>1164</td><td>1887</td><td>1440</td><td>1033</td><td>1326</td><td>879</td><td>2074</td><td>1043</td><td>3247</td><td>1356</td><td>1351</td><td>1133</td><td>242</td><td>3349</td><td>1745</td><td>1555</td><td>1015</td><td>1132</td><td>1667</td><td>3147</td><td>1072</td><td>797</td><td>1027</td><td>4693</td><td>1156</td><td>2476</td></tr><tr><td>&quot;hsa-let-7a-5p&quot;</td><td>608369</td><td>933004</td><td>1069405</td><td>850554</td><td>594247</td><td>1153938</td><td>272068</td><td>927860</td><td>608709</td><td>612056</td><td>445097</td><td>781218</td><td>122906</td><td>565251</td><td>118793</td><td>305157</td><td>1480722</td><td>512584</td><td>513964</td><td>414213</td><td>647469</td><td>1169076</td><td>569087</td><td>430376</td><td>821909</td><td>424407</td><td>145849</td><td>198109</td><td>250684</td><td>127034</td><td>181953</td><td>412468</td><td>315491</td><td>546646</td><td>555368</td><td>669588</td><td>&hellip;</td><td>803740</td><td>600765</td><td>772108</td><td>873003</td><td>522350</td><td>980458</td><td>359406</td><td>173762</td><td>1578499</td><td>967461</td><td>538431</td><td>420551</td><td>641671</td><td>1141110</td><td>1320356</td><td>598512</td><td>423203</td><td>827435</td><td>475608</td><td>1073692</td><td>604248</td><td>491170</td><td>735693</td><td>321751</td><td>654808</td><td>587831</td><td>722210</td><td>522961</td><td>451919</td><td>622551</td><td>737114</td><td>464613</td><td>481072</td><td>606788</td><td>716735</td><td>575703</td><td>175859</td></tr><tr><td>&quot;hsa-let-7b-3p&quot;</td><td>1001</td><td>932</td><td>1023</td><td>1177</td><td>614</td><td>1251</td><td>285</td><td>1086</td><td>615</td><td>825</td><td>617</td><td>880</td><td>185</td><td>796</td><td>280</td><td>428</td><td>1437</td><td>571</td><td>588</td><td>477</td><td>682</td><td>2064</td><td>710</td><td>653</td><td>1556</td><td>460</td><td>639</td><td>1164</td><td>811</td><td>964</td><td>528</td><td>947</td><td>695</td><td>578</td><td>799</td><td>1046</td><td>&hellip;</td><td>1406</td><td>540</td><td>1149</td><td>1080</td><td>955</td><td>1515</td><td>567</td><td>483</td><td>1356</td><td>867</td><td>894</td><td>504</td><td>1018</td><td>1922</td><td>960</td><td>678</td><td>434</td><td>1138</td><td>726</td><td>1606</td><td>857</td><td>800</td><td>934</td><td>402</td><td>1031</td><td>972</td><td>980</td><td>648</td><td>592</td><td>1132</td><td>1185</td><td>842</td><td>766</td><td>959</td><td>1045</td><td>1071</td><td>1190</td></tr><tr><td>&quot;hsa-let-7b-5p&quot;</td><td>342092</td><td>304774</td><td>294765</td><td>290467</td><td>176982</td><td>430718</td><td>85112</td><td>340512</td><td>176784</td><td>226291</td><td>145897</td><td>319534</td><td>43416</td><td>204520</td><td>37736</td><td>85009</td><td>435604</td><td>149807</td><td>181362</td><td>153956</td><td>268507</td><td>409761</td><td>169404</td><td>160704</td><td>272913</td><td>189890</td><td>67291</td><td>91100</td><td>104068</td><td>41298</td><td>72557</td><td>128479</td><td>137384</td><td>163905</td><td>191757</td><td>281571</td><td>&hellip;</td><td>324863</td><td>195570</td><td>401014</td><td>305985</td><td>171342</td><td>412420</td><td>125376</td><td>125395</td><td>653889</td><td>414149</td><td>191121</td><td>140175</td><td>196653</td><td>639686</td><td>607506</td><td>170347</td><td>151499</td><td>285312</td><td>179951</td><td>392510</td><td>187292</td><td>148536</td><td>284648</td><td>23841</td><td>199909</td><td>210815</td><td>244025</td><td>61806</td><td>150372</td><td>254426</td><td>242105</td><td>175841</td><td>174812</td><td>279244</td><td>212584</td><td>214623</td><td>47734</td></tr><tr><td>&hellip;</td><td>&hellip;</td><td>&hellip;</td><td>&hellip;</td><td>&hellip;</td><td>&hellip;</td><td>&hellip;</td><td>&hellip;</td><td>&hellip;</td><td>&hellip;</td><td>&hellip;</td><td>&hellip;</td><td>&hellip;</td><td>&hellip;</td><td>&hellip;</td><td>&hellip;</td><td>&hellip;</td><td>&hellip;</td><td>&hellip;</td><td>&hellip;</td><td>&hellip;</td><td>&hellip;</td><td>&hellip;</td><td>&hellip;</td><td>&hellip;</td><td>&hellip;</td><td>&hellip;</td><td>&hellip;</td><td>&hellip;</td><td>&hellip;</td><td>&hellip;</td><td>&hellip;</td><td>&hellip;</td><td>&hellip;</td><td>&hellip;</td><td>&hellip;</td><td>&hellip;</td><td>&hellip;</td><td>&hellip;</td><td>&hellip;</td><td>&hellip;</td><td>&hellip;</td><td>&hellip;</td><td>&hellip;</td><td>&hellip;</td><td>&hellip;</td><td>&hellip;</td><td>&hellip;</td><td>&hellip;</td><td>&hellip;</td><td>&hellip;</td><td>&hellip;</td><td>&hellip;</td><td>&hellip;</td><td>&hellip;</td><td>&hellip;</td><td>&hellip;</td><td>&hellip;</td><td>&hellip;</td><td>&hellip;</td><td>&hellip;</td><td>&hellip;</td><td>&hellip;</td><td>&hellip;</td><td>&hellip;</td><td>&hellip;</td><td>&hellip;</td><td>&hellip;</td><td>&hellip;</td><td>&hellip;</td><td>&hellip;</td><td>&hellip;</td><td>&hellip;</td><td>&hellip;</td><td>&hellip;</td></tr><tr><td>&quot;hsa-miR-98-5p&quot;</td><td>3623</td><td>6190</td><td>11127</td><td>5755</td><td>7987</td><td>7638</td><td>3615</td><td>4912</td><td>8379</td><td>6262</td><td>5413</td><td>5450</td><td>1803</td><td>3653</td><td>1182</td><td>8473</td><td>10794</td><td>6428</td><td>3961</td><td>4019</td><td>4443</td><td>18940</td><td>5849</td><td>3854</td><td>16665</td><td>2817</td><td>1123</td><td>979</td><td>1967</td><td>1027</td><td>1221</td><td>2805</td><td>1337</td><td>3109</td><td>3969</td><td>3602</td><td>&hellip;</td><td>3447</td><td>5269</td><td>3617</td><td>3639</td><td>8158</td><td>8577</td><td>3443</td><td>812</td><td>8640</td><td>3890</td><td>6773</td><td>6405</td><td>4029</td><td>3371</td><td>6547</td><td>4734</td><td>5314</td><td>6176</td><td>3302</td><td>6752</td><td>7932</td><td>8478</td><td>4598</td><td>611</td><td>7403</td><td>5955</td><td>10223</td><td>1818</td><td>5579</td><td>7627</td><td>6885</td><td>5565</td><td>5088</td><td>4885</td><td>7689</td><td>4639</td><td>1691</td></tr><tr><td>&quot;hsa-miR-99a-3p&quot;</td><td>145</td><td>578</td><td>2236</td><td>1246</td><td>721</td><td>1013</td><td>403</td><td>1020</td><td>834</td><td>636</td><td>206</td><td>571</td><td>88</td><td>891</td><td>124</td><td>309</td><td>1206</td><td>545</td><td>472</td><td>163</td><td>1245</td><td>1755</td><td>318</td><td>390</td><td>1226</td><td>325</td><td>286</td><td>445</td><td>514</td><td>429</td><td>572</td><td>295</td><td>541</td><td>305</td><td>961</td><td>440</td><td>&hellip;</td><td>781</td><td>337</td><td>754</td><td>1960</td><td>399</td><td>591</td><td>522</td><td>86</td><td>1033</td><td>302</td><td>200</td><td>439</td><td>1310</td><td>546</td><td>683</td><td>377</td><td>132</td><td>1758</td><td>1193</td><td>846</td><td>396</td><td>439</td><td>255</td><td>455</td><td>860</td><td>322</td><td>232</td><td>1239</td><td>392</td><td>643</td><td>765</td><td>260</td><td>205</td><td>689</td><td>1085</td><td>243</td><td>428</td></tr><tr><td>&quot;hsa-miR-99a-5p&quot;</td><td>2325</td><td>5912</td><td>46227</td><td>14205</td><td>10895</td><td>7921</td><td>13504</td><td>8229</td><td>18405</td><td>20334</td><td>1753</td><td>5294</td><td>690</td><td>4773</td><td>3681</td><td>6721</td><td>25169</td><td>12275</td><td>2998</td><td>9710</td><td>5980</td><td>14416</td><td>4179</td><td>2720</td><td>13514</td><td>3690</td><td>2604</td><td>1975</td><td>2367</td><td>3836</td><td>2411</td><td>2446</td><td>2441</td><td>2907</td><td>9476</td><td>4754</td><td>&hellip;</td><td>7129</td><td>3175</td><td>12337</td><td>15035</td><td>2854</td><td>9555</td><td>2547</td><td>1000</td><td>9952</td><td>2709</td><td>1768</td><td>2669</td><td>19219</td><td>5157</td><td>5804</td><td>3801</td><td>1972</td><td>13403</td><td>13523</td><td>8872</td><td>7846</td><td>6208</td><td>1859</td><td>3834</td><td>5936</td><td>3779</td><td>2658</td><td>12357</td><td>3347</td><td>9017</td><td>8966</td><td>3626</td><td>2045</td><td>5751</td><td>10492</td><td>1472</td><td>2934</td></tr><tr><td>&quot;hsa-miR-99b-3p&quot;</td><td>346</td><td>489</td><td>462</td><td>1045</td><td>264</td><td>385</td><td>156</td><td>388</td><td>267</td><td>314</td><td>118</td><td>377</td><td>80</td><td>330</td><td>79</td><td>298</td><td>1007</td><td>144</td><td>305</td><td>65</td><td>152</td><td>568</td><td>214</td><td>154</td><td>261</td><td>204</td><td>168</td><td>193</td><td>200</td><td>146</td><td>276</td><td>215</td><td>310</td><td>199</td><td>332</td><td>412</td><td>&hellip;</td><td>377</td><td>143</td><td>554</td><td>580</td><td>272</td><td>342</td><td>126</td><td>258</td><td>368</td><td>453</td><td>276</td><td>279</td><td>1007</td><td>266</td><td>548</td><td>179</td><td>96</td><td>618</td><td>287</td><td>778</td><td>356</td><td>155</td><td>83</td><td>600</td><td>358</td><td>312</td><td>696</td><td>1094</td><td>168</td><td>442</td><td>277</td><td>171</td><td>129</td><td>288</td><td>348</td><td>163</td><td>169</td></tr><tr><td>&quot;hsa-miR-99b-5p&quot;</td><td>4988</td><td>9466</td><td>8283</td><td>22241</td><td>4372</td><td>5951</td><td>2733</td><td>5937</td><td>4180</td><td>7358</td><td>2077</td><td>7670</td><td>1049</td><td>6569</td><td>2058</td><td>7738</td><td>23736</td><td>3128</td><td>5297</td><td>1010</td><td>3425</td><td>10739</td><td>3447</td><td>2979</td><td>4561</td><td>4218</td><td>3332</td><td>4092</td><td>4026</td><td>3819</td><td>3059</td><td>3837</td><td>6285</td><td>4057</td><td>6911</td><td>8820</td><td>&hellip;</td><td>6741</td><td>3189</td><td>10274</td><td>12296</td><td>4416</td><td>6425</td><td>2057</td><td>5556</td><td>8656</td><td>9527</td><td>5127</td><td>4290</td><td>21687</td><td>5209</td><td>13834</td><td>3130</td><td>1535</td><td>10455</td><td>6366</td><td>9715</td><td>4057</td><td>2626</td><td>1832</td><td>3543</td><td>5493</td><td>5585</td><td>16642</td><td>19576</td><td>2448</td><td>7074</td><td>4597</td><td>2888</td><td>2520</td><td>5725</td><td>5752</td><td>2499</td><td>3783</td></tr></tbody></table></div>"
      ],
      "text/plain": [
       "shape: (2_553, 106)\n",
       "┌─────────────────┬────────┬────────┬─────────┬───┬────────┬────────┬────────┬────────┐\n",
       "│ miRNA           ┆ V1565  ┆ N58    ┆ V1874   ┆ … ┆ V2147  ┆ V2224  ┆ V2089  ┆ V788   │\n",
       "│ ---             ┆ ---    ┆ ---    ┆ ---     ┆   ┆ ---    ┆ ---    ┆ ---    ┆ ---    │\n",
       "│ str             ┆ i64    ┆ i64    ┆ i64     ┆   ┆ i64    ┆ i64    ┆ i64    ┆ i64    │\n",
       "╞═════════════════╪════════╪════════╪═════════╪═══╪════════╪════════╪════════╪════════╡\n",
       "│ hsa-let-7a-2-3p ┆ 23     ┆ 0      ┆ 11      ┆ … ┆ 13     ┆ 26     ┆ 20     ┆ 12     │\n",
       "│ hsa-let-7a-3p   ┆ 1224   ┆ 1619   ┆ 3376    ┆ … ┆ 1027   ┆ 4693   ┆ 1156   ┆ 2476   │\n",
       "│ hsa-let-7a-5p   ┆ 608369 ┆ 933004 ┆ 1069405 ┆ … ┆ 606788 ┆ 716735 ┆ 575703 ┆ 175859 │\n",
       "│ hsa-let-7b-3p   ┆ 1001   ┆ 932    ┆ 1023    ┆ … ┆ 959    ┆ 1045   ┆ 1071   ┆ 1190   │\n",
       "│ hsa-let-7b-5p   ┆ 342092 ┆ 304774 ┆ 294765  ┆ … ┆ 279244 ┆ 212584 ┆ 214623 ┆ 47734  │\n",
       "│ …               ┆ …      ┆ …      ┆ …       ┆ … ┆ …      ┆ …      ┆ …      ┆ …      │\n",
       "│ hsa-miR-98-5p   ┆ 3623   ┆ 6190   ┆ 11127   ┆ … ┆ 4885   ┆ 7689   ┆ 4639   ┆ 1691   │\n",
       "│ hsa-miR-99a-3p  ┆ 145    ┆ 578    ┆ 2236    ┆ … ┆ 689    ┆ 1085   ┆ 243    ┆ 428    │\n",
       "│ hsa-miR-99a-5p  ┆ 2325   ┆ 5912   ┆ 46227   ┆ … ┆ 5751   ┆ 10492  ┆ 1472   ┆ 2934   │\n",
       "│ hsa-miR-99b-3p  ┆ 346    ┆ 489    ┆ 462     ┆ … ┆ 288    ┆ 348    ┆ 163    ┆ 169    │\n",
       "│ hsa-miR-99b-5p  ┆ 4988   ┆ 9466   ┆ 8283    ┆ … ┆ 5725   ┆ 5752   ┆ 2499   ┆ 3783   │\n",
       "└─────────────────┴────────┴────────┴─────────┴───┴────────┴────────┴────────┴────────┘"
      ]
     },
     "execution_count": 175,
     "metadata": {},
     "output_type": "execute_result"
    }
   ],
   "source": [
    "# load mirna\n",
    "mirna = pl.read_excel(\"mds_data/raw/final_all_samples_miRNA_seq.xlsx\")\n",
    "\n",
    "mirna_rename_dict = {\n",
    "    col: col.split(\"_\")[0] for col in mirna.columns[1:]\n",
    "}\n",
    "mirna = mirna.rename(mirna_rename_dict)\n",
    "mirna_names = mirna.columns[1:]\n",
    "\n",
    "mirna"
   ]
  },
  {
   "cell_type": "code",
   "execution_count": 176,
   "metadata": {},
   "outputs": [
    {
     "data": {
      "text/plain": [
       "77"
      ]
     },
     "execution_count": 176,
     "metadata": {},
     "output_type": "execute_result"
    }
   ],
   "source": [
    "len(set(mrna_names).intersection(set(mirna_names)))"
   ]
  },
  {
   "cell_type": "markdown",
   "metadata": {},
   "source": [
    "# load circRNA"
   ]
  },
  {
   "cell_type": "code",
   "execution_count": 177,
   "metadata": {},
   "outputs": [
    {
     "data": {
      "text/html": [
       "<div><style>\n",
       ".dataframe > thead > tr,\n",
       ".dataframe > tbody > tr {\n",
       "  text-align: right;\n",
       "  white-space: pre-wrap;\n",
       "}\n",
       "</style>\n",
       "<small>shape: (40_694, 91)</small><table border=\"1\" class=\"dataframe\"><thead><tr><th>STRAND</th><th>circRNA_ID</th><th>GENE_ID</th><th>GENE_TYPE</th><th>GENE_NAME</th><th>N54</th><th>N58</th><th>N60</th><th>N70</th><th>N82</th><th>N83</th><th>N84</th><th>N85</th><th>N86</th><th>N87</th><th>NV1428</th><th>NV911</th><th>NV912</th><th>V1048</th><th>V108</th><th>V1090</th><th>V1249</th><th>V125</th><th>V1279</th><th>V1297</th><th>V1321</th><th>V1337</th><th>V1394</th><th>V1422</th><th>V1426</th><th>V1441</th><th>V1456</th><th>V148</th><th>V1505</th><th>V1528</th><th>V1554</th><th>V1565</th><th>&hellip;</th><th>V1921</th><th>V2089</th><th>V2092</th><th>V2110</th><th>V2133</th><th>V221</th><th>V2241</th><th>V344</th><th>V359</th><th>V406</th><th>V456</th><th>V513</th><th>V538</th><th>V553</th><th>V574</th><th>V624</th><th>V630</th><th>V637</th><th>V655</th><th>V67</th><th>V681</th><th>V708</th><th>V712</th><th>V714</th><th>V716</th><th>V777</th><th>V788</th><th>V795</th><th>V806</th><th>V833</th><th>V839</th><th>V853</th><th>V883</th><th>V888</th><th>V940</th><th>V956</th><th>V957</th></tr><tr><td>str</td><td>str</td><td>str</td><td>str</td><td>str</td><td>i64</td><td>i64</td><td>i64</td><td>i64</td><td>i64</td><td>i64</td><td>i64</td><td>i64</td><td>i64</td><td>i64</td><td>i64</td><td>i64</td><td>i64</td><td>i64</td><td>i64</td><td>i64</td><td>i64</td><td>i64</td><td>i64</td><td>i64</td><td>i64</td><td>i64</td><td>i64</td><td>i64</td><td>i64</td><td>i64</td><td>i64</td><td>i64</td><td>i64</td><td>i64</td><td>i64</td><td>i64</td><td>&hellip;</td><td>i64</td><td>i64</td><td>i64</td><td>i64</td><td>i64</td><td>i64</td><td>i64</td><td>i64</td><td>i64</td><td>i64</td><td>i64</td><td>i64</td><td>i64</td><td>i64</td><td>i64</td><td>i64</td><td>i64</td><td>i64</td><td>i64</td><td>i64</td><td>i64</td><td>i64</td><td>i64</td><td>i64</td><td>i64</td><td>i64</td><td>i64</td><td>i64</td><td>i64</td><td>i64</td><td>i64</td><td>i64</td><td>i64</td><td>i64</td><td>i64</td><td>i64</td><td>i64</td></tr></thead><tbody><tr><td>&quot;-&quot;</td><td>&quot;hsa_circ_0009205&quot;</td><td>&quot;ENSG00000188976&quot;</td><td>&quot;protein_coding&quot;</td><td>&quot;NOC2L&quot;</td><td>2</td><td>0</td><td>0</td><td>0</td><td>0</td><td>0</td><td>0</td><td>0</td><td>2</td><td>0</td><td>0</td><td>0</td><td>0</td><td>0</td><td>0</td><td>0</td><td>0</td><td>0</td><td>0</td><td>0</td><td>0</td><td>0</td><td>0</td><td>0</td><td>2</td><td>0</td><td>0</td><td>0</td><td>0</td><td>0</td><td>0</td><td>0</td><td>&hellip;</td><td>0</td><td>0</td><td>0</td><td>0</td><td>0</td><td>0</td><td>0</td><td>0</td><td>3</td><td>0</td><td>0</td><td>0</td><td>0</td><td>0</td><td>0</td><td>0</td><td>0</td><td>0</td><td>0</td><td>0</td><td>0</td><td>0</td><td>0</td><td>0</td><td>0</td><td>0</td><td>3</td><td>0</td><td>0</td><td>0</td><td>0</td><td>4</td><td>0</td><td>0</td><td>0</td><td>0</td><td>0</td></tr><tr><td>&quot;-&quot;</td><td>&quot;hsa_circ_0000002&quot;</td><td>&quot;ENSG00000078808&quot;</td><td>&quot;protein_coding&quot;</td><td>&quot;SDF4&quot;</td><td>17</td><td>23</td><td>25</td><td>23</td><td>22</td><td>23</td><td>32</td><td>27</td><td>35</td><td>26</td><td>23</td><td>13</td><td>8</td><td>13</td><td>10</td><td>18</td><td>23</td><td>31</td><td>16</td><td>15</td><td>49</td><td>31</td><td>104</td><td>16</td><td>34</td><td>23</td><td>27</td><td>32</td><td>25</td><td>35</td><td>32</td><td>28</td><td>&hellip;</td><td>11</td><td>68</td><td>12</td><td>8</td><td>0</td><td>0</td><td>8</td><td>38</td><td>34</td><td>19</td><td>19</td><td>17</td><td>17</td><td>36</td><td>11</td><td>53</td><td>23</td><td>5</td><td>33</td><td>41</td><td>34</td><td>28</td><td>10</td><td>25</td><td>21</td><td>33</td><td>49</td><td>53</td><td>29</td><td>11</td><td>5</td><td>123</td><td>33</td><td>33</td><td>18</td><td>29</td><td>15</td></tr><tr><td>&quot;-&quot;</td><td>null</td><td>&quot;ENSG00000107404&quot;</td><td>&quot;protein_coding&quot;</td><td>&quot;DVL1&quot;</td><td>2</td><td>0</td><td>0</td><td>0</td><td>0</td><td>0</td><td>0</td><td>0</td><td>0</td><td>0</td><td>0</td><td>0</td><td>0</td><td>0</td><td>0</td><td>0</td><td>0</td><td>0</td><td>0</td><td>0</td><td>0</td><td>0</td><td>0</td><td>0</td><td>0</td><td>0</td><td>0</td><td>0</td><td>0</td><td>0</td><td>0</td><td>0</td><td>&hellip;</td><td>0</td><td>0</td><td>0</td><td>0</td><td>0</td><td>0</td><td>0</td><td>0</td><td>0</td><td>0</td><td>0</td><td>0</td><td>0</td><td>0</td><td>0</td><td>0</td><td>0</td><td>0</td><td>0</td><td>0</td><td>0</td><td>0</td><td>0</td><td>0</td><td>0</td><td>0</td><td>0</td><td>0</td><td>0</td><td>0</td><td>0</td><td>0</td><td>0</td><td>0</td><td>0</td><td>0</td><td>0</td></tr><tr><td>&quot;-&quot;</td><td>null</td><td>&quot;ENSG00000160075&quot;</td><td>&quot;protein_coding&quot;</td><td>&quot;SSU72&quot;</td><td>3</td><td>0</td><td>0</td><td>0</td><td>0</td><td>2</td><td>0</td><td>2</td><td>0</td><td>3</td><td>0</td><td>4</td><td>0</td><td>3</td><td>0</td><td>2</td><td>0</td><td>3</td><td>0</td><td>4</td><td>4</td><td>0</td><td>0</td><td>0</td><td>10</td><td>0</td><td>0</td><td>0</td><td>0</td><td>0</td><td>0</td><td>4</td><td>&hellip;</td><td>3</td><td>0</td><td>0</td><td>0</td><td>0</td><td>0</td><td>0</td><td>3</td><td>0</td><td>0</td><td>0</td><td>0</td><td>2</td><td>0</td><td>0</td><td>3</td><td>0</td><td>0</td><td>0</td><td>0</td><td>0</td><td>0</td><td>0</td><td>0</td><td>0</td><td>0</td><td>0</td><td>0</td><td>0</td><td>0</td><td>0</td><td>0</td><td>0</td><td>0</td><td>0</td><td>0</td><td>0</td></tr><tr><td>&quot;-&quot;</td><td>&quot;hsa_circ_0000007&quot;</td><td>&quot;ENSG00000078369&quot;</td><td>&quot;protein_coding&quot;</td><td>&quot;GNB1&quot;</td><td>6</td><td>6</td><td>0</td><td>2</td><td>3</td><td>4</td><td>8</td><td>7</td><td>4</td><td>4</td><td>5</td><td>3</td><td>4</td><td>5</td><td>6</td><td>0</td><td>14</td><td>3</td><td>4</td><td>6</td><td>9</td><td>4</td><td>4</td><td>2</td><td>7</td><td>4</td><td>0</td><td>6</td><td>0</td><td>2</td><td>7</td><td>0</td><td>&hellip;</td><td>5</td><td>24</td><td>0</td><td>0</td><td>0</td><td>5</td><td>3</td><td>9</td><td>2</td><td>3</td><td>2</td><td>5</td><td>3</td><td>7</td><td>4</td><td>4</td><td>0</td><td>3</td><td>4</td><td>0</td><td>4</td><td>2</td><td>0</td><td>5</td><td>7</td><td>5</td><td>0</td><td>17</td><td>6</td><td>0</td><td>8</td><td>2</td><td>0</td><td>8</td><td>3</td><td>2</td><td>2</td></tr><tr><td>&hellip;</td><td>&hellip;</td><td>&hellip;</td><td>&hellip;</td><td>&hellip;</td><td>&hellip;</td><td>&hellip;</td><td>&hellip;</td><td>&hellip;</td><td>&hellip;</td><td>&hellip;</td><td>&hellip;</td><td>&hellip;</td><td>&hellip;</td><td>&hellip;</td><td>&hellip;</td><td>&hellip;</td><td>&hellip;</td><td>&hellip;</td><td>&hellip;</td><td>&hellip;</td><td>&hellip;</td><td>&hellip;</td><td>&hellip;</td><td>&hellip;</td><td>&hellip;</td><td>&hellip;</td><td>&hellip;</td><td>&hellip;</td><td>&hellip;</td><td>&hellip;</td><td>&hellip;</td><td>&hellip;</td><td>&hellip;</td><td>&hellip;</td><td>&hellip;</td><td>&hellip;</td><td>&hellip;</td><td>&hellip;</td><td>&hellip;</td><td>&hellip;</td><td>&hellip;</td><td>&hellip;</td><td>&hellip;</td><td>&hellip;</td><td>&hellip;</td><td>&hellip;</td><td>&hellip;</td><td>&hellip;</td><td>&hellip;</td><td>&hellip;</td><td>&hellip;</td><td>&hellip;</td><td>&hellip;</td><td>&hellip;</td><td>&hellip;</td><td>&hellip;</td><td>&hellip;</td><td>&hellip;</td><td>&hellip;</td><td>&hellip;</td><td>&hellip;</td><td>&hellip;</td><td>&hellip;</td><td>&hellip;</td><td>&hellip;</td><td>&hellip;</td><td>&hellip;</td><td>&hellip;</td><td>&hellip;</td><td>&hellip;</td><td>&hellip;</td><td>&hellip;</td><td>&hellip;</td><td>&hellip;</td></tr><tr><td>&quot;+&quot;</td><td>null</td><td>&quot;ENSG00000182150&quot;</td><td>&quot;protein_coding&quot;</td><td>&quot;ERCC6L2&quot;</td><td>0</td><td>0</td><td>0</td><td>0</td><td>0</td><td>0</td><td>0</td><td>0</td><td>0</td><td>0</td><td>0</td><td>0</td><td>0</td><td>0</td><td>0</td><td>0</td><td>0</td><td>0</td><td>0</td><td>0</td><td>0</td><td>0</td><td>0</td><td>0</td><td>0</td><td>0</td><td>0</td><td>0</td><td>0</td><td>0</td><td>0</td><td>0</td><td>&hellip;</td><td>0</td><td>0</td><td>0</td><td>0</td><td>0</td><td>0</td><td>0</td><td>0</td><td>0</td><td>0</td><td>0</td><td>0</td><td>0</td><td>0</td><td>0</td><td>0</td><td>0</td><td>0</td><td>0</td><td>0</td><td>0</td><td>0</td><td>0</td><td>0</td><td>0</td><td>0</td><td>0</td><td>0</td><td>0</td><td>0</td><td>0</td><td>0</td><td>0</td><td>0</td><td>0</td><td>0</td><td>3</td></tr><tr><td>&quot;-&quot;</td><td>null</td><td>&quot;ENSG00000136861&quot;</td><td>&quot;protein_coding&quot;</td><td>&quot;CDK5RAP2&quot;</td><td>0</td><td>0</td><td>0</td><td>0</td><td>0</td><td>0</td><td>0</td><td>0</td><td>0</td><td>0</td><td>0</td><td>0</td><td>0</td><td>0</td><td>0</td><td>0</td><td>0</td><td>0</td><td>0</td><td>0</td><td>0</td><td>0</td><td>0</td><td>0</td><td>0</td><td>0</td><td>0</td><td>0</td><td>0</td><td>0</td><td>0</td><td>0</td><td>&hellip;</td><td>0</td><td>0</td><td>0</td><td>0</td><td>0</td><td>0</td><td>0</td><td>0</td><td>0</td><td>0</td><td>0</td><td>0</td><td>0</td><td>0</td><td>0</td><td>0</td><td>0</td><td>0</td><td>0</td><td>0</td><td>0</td><td>0</td><td>0</td><td>0</td><td>0</td><td>0</td><td>0</td><td>0</td><td>0</td><td>0</td><td>0</td><td>0</td><td>0</td><td>0</td><td>0</td><td>0</td><td>2</td></tr><tr><td>&quot;+&quot;</td><td>null</td><td>&quot;ENSG00000107164&quot;</td><td>&quot;protein_coding&quot;</td><td>&quot;FUBP3&quot;</td><td>0</td><td>0</td><td>0</td><td>0</td><td>0</td><td>0</td><td>0</td><td>0</td><td>0</td><td>0</td><td>0</td><td>0</td><td>0</td><td>0</td><td>0</td><td>0</td><td>0</td><td>0</td><td>0</td><td>0</td><td>0</td><td>0</td><td>0</td><td>0</td><td>0</td><td>0</td><td>0</td><td>0</td><td>0</td><td>0</td><td>0</td><td>0</td><td>&hellip;</td><td>0</td><td>0</td><td>0</td><td>0</td><td>0</td><td>0</td><td>0</td><td>0</td><td>0</td><td>0</td><td>0</td><td>0</td><td>0</td><td>0</td><td>0</td><td>0</td><td>0</td><td>0</td><td>0</td><td>0</td><td>0</td><td>0</td><td>0</td><td>0</td><td>0</td><td>0</td><td>0</td><td>0</td><td>0</td><td>0</td><td>0</td><td>0</td><td>0</td><td>0</td><td>0</td><td>0</td><td>2</td></tr><tr><td>&quot;-&quot;</td><td>null</td><td>&quot;ENSG00000160271&quot;</td><td>&quot;protein_coding&quot;</td><td>&quot;RALGDS&quot;</td><td>0</td><td>0</td><td>0</td><td>0</td><td>0</td><td>0</td><td>0</td><td>0</td><td>0</td><td>0</td><td>0</td><td>0</td><td>0</td><td>0</td><td>0</td><td>0</td><td>0</td><td>0</td><td>0</td><td>0</td><td>0</td><td>0</td><td>0</td><td>0</td><td>0</td><td>0</td><td>0</td><td>0</td><td>0</td><td>0</td><td>0</td><td>0</td><td>&hellip;</td><td>0</td><td>0</td><td>0</td><td>0</td><td>0</td><td>0</td><td>0</td><td>0</td><td>0</td><td>0</td><td>0</td><td>0</td><td>0</td><td>0</td><td>0</td><td>0</td><td>0</td><td>0</td><td>0</td><td>0</td><td>0</td><td>0</td><td>0</td><td>0</td><td>0</td><td>0</td><td>0</td><td>0</td><td>0</td><td>0</td><td>0</td><td>0</td><td>0</td><td>0</td><td>0</td><td>0</td><td>2</td></tr><tr><td>&quot;+&quot;</td><td>null</td><td>&quot;ENSG00000147162&quot;</td><td>&quot;protein_coding&quot;</td><td>&quot;OGT&quot;</td><td>0</td><td>0</td><td>0</td><td>0</td><td>0</td><td>0</td><td>0</td><td>0</td><td>0</td><td>0</td><td>0</td><td>0</td><td>0</td><td>0</td><td>0</td><td>0</td><td>0</td><td>0</td><td>0</td><td>0</td><td>0</td><td>0</td><td>0</td><td>0</td><td>0</td><td>0</td><td>0</td><td>0</td><td>0</td><td>0</td><td>0</td><td>0</td><td>&hellip;</td><td>0</td><td>0</td><td>0</td><td>0</td><td>0</td><td>0</td><td>0</td><td>0</td><td>0</td><td>0</td><td>0</td><td>0</td><td>0</td><td>0</td><td>0</td><td>0</td><td>0</td><td>0</td><td>0</td><td>0</td><td>0</td><td>0</td><td>0</td><td>0</td><td>0</td><td>0</td><td>0</td><td>0</td><td>0</td><td>0</td><td>0</td><td>0</td><td>0</td><td>0</td><td>0</td><td>0</td><td>3</td></tr></tbody></table></div>"
      ],
      "text/plain": [
       "shape: (40_694, 91)\n",
       "┌────────┬──────────────────┬─────────────────┬────────────────┬───┬──────┬──────┬──────┬──────┐\n",
       "│ STRAND ┆ circRNA_ID       ┆ GENE_ID         ┆ GENE_TYPE      ┆ … ┆ V888 ┆ V940 ┆ V956 ┆ V957 │\n",
       "│ ---    ┆ ---              ┆ ---             ┆ ---            ┆   ┆ ---  ┆ ---  ┆ ---  ┆ ---  │\n",
       "│ str    ┆ str              ┆ str             ┆ str            ┆   ┆ i64  ┆ i64  ┆ i64  ┆ i64  │\n",
       "╞════════╪══════════════════╪═════════════════╪════════════════╪═══╪══════╪══════╪══════╪══════╡\n",
       "│ -      ┆ hsa_circ_0009205 ┆ ENSG00000188976 ┆ protein_coding ┆ … ┆ 0    ┆ 0    ┆ 0    ┆ 0    │\n",
       "│ -      ┆ hsa_circ_0000002 ┆ ENSG00000078808 ┆ protein_coding ┆ … ┆ 33   ┆ 18   ┆ 29   ┆ 15   │\n",
       "│ -      ┆ null             ┆ ENSG00000107404 ┆ protein_coding ┆ … ┆ 0    ┆ 0    ┆ 0    ┆ 0    │\n",
       "│ -      ┆ null             ┆ ENSG00000160075 ┆ protein_coding ┆ … ┆ 0    ┆ 0    ┆ 0    ┆ 0    │\n",
       "│ -      ┆ hsa_circ_0000007 ┆ ENSG00000078369 ┆ protein_coding ┆ … ┆ 8    ┆ 3    ┆ 2    ┆ 2    │\n",
       "│ …      ┆ …                ┆ …               ┆ …              ┆ … ┆ …    ┆ …    ┆ …    ┆ …    │\n",
       "│ +      ┆ null             ┆ ENSG00000182150 ┆ protein_coding ┆ … ┆ 0    ┆ 0    ┆ 0    ┆ 3    │\n",
       "│ -      ┆ null             ┆ ENSG00000136861 ┆ protein_coding ┆ … ┆ 0    ┆ 0    ┆ 0    ┆ 2    │\n",
       "│ +      ┆ null             ┆ ENSG00000107164 ┆ protein_coding ┆ … ┆ 0    ┆ 0    ┆ 0    ┆ 2    │\n",
       "│ -      ┆ null             ┆ ENSG00000160271 ┆ protein_coding ┆ … ┆ 0    ┆ 0    ┆ 0    ┆ 2    │\n",
       "│ +      ┆ null             ┆ ENSG00000147162 ┆ protein_coding ┆ … ┆ 0    ┆ 0    ┆ 0    ┆ 3    │\n",
       "└────────┴──────────────────┴─────────────────┴────────────────┴───┴──────┴──────┴──────┴──────┘"
      ]
     },
     "execution_count": 177,
     "metadata": {},
     "output_type": "execute_result"
    }
   ],
   "source": [
    "circrna = pl.read_csv(\"mds_data/raw/200625_circRNA_fromRNAseq_annot_hg19.tsv\", separator=\"\\t\", null_values=[\"NA\"])\n",
    "# replace all null values for genes with 0\n",
    "circrna = circrna.with_columns(pl.all().exclude(\"CHR\",\"START\", \"END\", \"TYPE\", \"STRAND\",\t\"circRNA_ID\", \"GENE_ID\", \"GENE_TYPE\", \"GENE_NAME\").fill_null(strategy=\"zero\"))\n",
    "# basic filtering\n",
    "circrna = circrna.filter(\n",
    "   (pl.col(\"GENE_TYPE\").is_in([\"protein_coding\", \"lincRNA\", \"antisense\"])) &\n",
    "   (pl.col(\"TYPE\") == \"exon\")\n",
    ").drop(\"CHR\", \"START\", \"END\", \"TYPE\")\n",
    "\n",
    "circrna_rename_dict = {\n",
    "    col: col.split(\"_\")[0] for col in circrna.columns[5:]\n",
    "}\n",
    "circrna = circrna.rename(circrna_rename_dict)\n",
    "# circrna[:, :9]\n",
    "circrna_names = circrna.columns[5:]\n",
    "circrna"
   ]
  },
  {
   "cell_type": "markdown",
   "metadata": {},
   "source": [
    "# load te counts"
   ]
  },
  {
   "cell_type": "code",
   "execution_count": 178,
   "metadata": {},
   "outputs": [
    {
     "data": {
      "text/html": [
       "<div><style>\n",
       ".dataframe > thead > tr,\n",
       ".dataframe > tbody > tr {\n",
       "  text-align: right;\n",
       "  white-space: pre-wrap;\n",
       "}\n",
       "</style>\n",
       "<small>shape: (687, 113)</small><table border=\"1\" class=\"dataframe\"><thead><tr><th>TE</th><th>V1744</th><th>V2286</th><th>V1776</th><th>V220</th><th>V108</th><th>V2089</th><th>V221</th><th>V806</th><th>V1920</th><th>N60</th><th>V777</th><th>V1048</th><th>V1394</th><th>V1554</th><th>V344</th><th>V2110</th><th>V630</th><th>V2311</th><th>V1592</th><th>V480</th><th>V1884</th><th>V1337</th><th>NV911</th><th>V1249</th><th>V1565</th><th>V712</th><th>V714</th><th>N85</th><th>V2241</th><th>V1708</th><th>V18</th><th>V833</th><th>V1800</th><th>V1664</th><th>V1426</th><th>V839</th><th>&hellip;</th><th>V1591</th><th>V716</th><th>V655</th><th>V2092</th><th>V883</th><th>V67</th><th>NV1428</th><th>V1834</th><th>V382</th><th>N87</th><th>V125</th><th>V2368</th><th>V1775</th><th>N54</th><th>V2147</th><th>V681</th><th>V957</th><th>V1297</th><th>V940</th><th>N58</th><th>V2414</th><th>V637</th><th>V2284</th><th>V1689</th><th>V2248</th><th>V1823</th><th>V553</th><th>V148</th><th>V1505</th><th>V2322</th><th>V624</th><th>V2179</th><th>V1456</th><th>V1742</th><th>V1577</th><th>V456</th><th>V689</th></tr><tr><td>str</td><td>f64</td><td>f64</td><td>f64</td><td>f64</td><td>f64</td><td>f64</td><td>f64</td><td>f64</td><td>f64</td><td>f64</td><td>f64</td><td>f64</td><td>f64</td><td>f64</td><td>f64</td><td>f64</td><td>f64</td><td>f64</td><td>f64</td><td>f64</td><td>f64</td><td>f64</td><td>f64</td><td>f64</td><td>f64</td><td>f64</td><td>f64</td><td>f64</td><td>f64</td><td>f64</td><td>f64</td><td>f64</td><td>f64</td><td>f64</td><td>f64</td><td>f64</td><td>&hellip;</td><td>f64</td><td>f64</td><td>f64</td><td>f64</td><td>f64</td><td>f64</td><td>f64</td><td>f64</td><td>f64</td><td>f64</td><td>f64</td><td>f64</td><td>f64</td><td>f64</td><td>f64</td><td>f64</td><td>f64</td><td>f64</td><td>f64</td><td>f64</td><td>f64</td><td>f64</td><td>f64</td><td>f64</td><td>f64</td><td>f64</td><td>f64</td><td>f64</td><td>f64</td><td>f64</td><td>f64</td><td>f64</td><td>f64</td><td>f64</td><td>f64</td><td>f64</td><td>f64</td></tr></thead><tbody><tr><td>&quot;ALU&quot;</td><td>5887.91</td><td>5431.56</td><td>6959.7</td><td>8833.7</td><td>8986.45</td><td>10564.3</td><td>7065.91</td><td>7599.44</td><td>9787.8</td><td>9306.07</td><td>6061.99</td><td>6385.99</td><td>5579.7</td><td>4948.74</td><td>8698.03</td><td>5222.05</td><td>6877.89</td><td>8274.9</td><td>7800.57</td><td>5598.86</td><td>13599.0</td><td>7430.7</td><td>6199.62</td><td>12059.9</td><td>7059.21</td><td>6516.82</td><td>6303.3</td><td>7290.05</td><td>6080.92</td><td>9530.9</td><td>6264.46</td><td>10614.5</td><td>8582.4</td><td>5114.27</td><td>10942.3</td><td>7881.51</td><td>&hellip;</td><td>6148.82</td><td>11432.6</td><td>7078.72</td><td>4629.16</td><td>6081.12</td><td>8766.84</td><td>8097.26</td><td>9892.05</td><td>6815.32</td><td>7966.3</td><td>8590.44</td><td>6934.2</td><td>8178.09</td><td>8622.08</td><td>4299.38</td><td>9650.8</td><td>8026.74</td><td>7721.05</td><td>6593.15</td><td>7019.28</td><td>9786.57</td><td>7523.42</td><td>7382.74</td><td>6771.68</td><td>6835.69</td><td>4946.98</td><td>13410.6</td><td>7903.22</td><td>6618.57</td><td>4923.12</td><td>6690.64</td><td>4851.81</td><td>5909.45</td><td>9511.53</td><td>8769.84</td><td>8183.79</td><td>5019.56</td></tr><tr><td>&quot;AluJb&quot;</td><td>21104.5</td><td>19944.4</td><td>23285.4</td><td>30996.4</td><td>27678.3</td><td>25346.5</td><td>26280.0</td><td>28709.9</td><td>38261.4</td><td>35332.8</td><td>22834.9</td><td>22606.9</td><td>19816.4</td><td>17392.3</td><td>26701.3</td><td>22804.4</td><td>24896.5</td><td>33242.2</td><td>28009.3</td><td>20592.4</td><td>44735.8</td><td>24996.5</td><td>21670.0</td><td>44371.0</td><td>27218.6</td><td>23824.4</td><td>21455.6</td><td>27695.8</td><td>23690.8</td><td>29308.3</td><td>21639.5</td><td>40095.7</td><td>33905.1</td><td>20905.2</td><td>35242.6</td><td>27292.4</td><td>&hellip;</td><td>24160.7</td><td>40157.1</td><td>26045.3</td><td>18683.8</td><td>22348.0</td><td>22323.5</td><td>25259.1</td><td>40239.7</td><td>27603.6</td><td>27669.4</td><td>34593.1</td><td>27649.2</td><td>20355.4</td><td>26817.6</td><td>16289.2</td><td>35666.1</td><td>27516.2</td><td>24279.6</td><td>23699.4</td><td>26406.7</td><td>23972.5</td><td>21814.8</td><td>27724.2</td><td>23908.0</td><td>29645.6</td><td>17890.9</td><td>59175.4</td><td>32247.8</td><td>21067.6</td><td>17729.7</td><td>24140.9</td><td>18699.9</td><td>21118.1</td><td>35568.6</td><td>36400.8</td><td>28090.8</td><td>17515.2</td></tr><tr><td>&quot;AluJo&quot;</td><td>3241.23</td><td>3076.36</td><td>2831.86</td><td>4266.9</td><td>2273.46</td><td>101.421</td><td>3609.03</td><td>4184.29</td><td>5137.53</td><td>4933.68</td><td>2941.52</td><td>3670.61</td><td>2744.18</td><td>2217.45</td><td>3709.33</td><td>3165.13</td><td>2666.19</td><td>3452.7</td><td>3451.88</td><td>3147.54</td><td>4257.09</td><td>3504.48</td><td>3348.82</td><td>5805.75</td><td>3744.24</td><td>3006.96</td><td>2624.93</td><td>3677.09</td><td>3107.17</td><td>2902.06</td><td>2626.65</td><td>5094.82</td><td>4512.76</td><td>2585.24</td><td>4192.17</td><td>3839.13</td><td>&hellip;</td><td>3312.06</td><td>3849.75</td><td>3315.78</td><td>2532.95</td><td>3394.73</td><td>74.3837</td><td>2740.94</td><td>4179.26</td><td>3611.5</td><td>3584.89</td><td>4826.98</td><td>3597.06</td><td>59.6774</td><td>2462.54</td><td>2374.59</td><td>4874.16</td><td>3463.95</td><td>2681.86</td><td>3666.81</td><td>4019.45</td><td>33.1035</td><td>8.64467</td><td>4039.87</td><td>3335.72</td><td>3797.78</td><td>2786.46</td><td>7165.52</td><td>4382.27</td><td>2930.32</td><td>2043.76</td><td>3233.89</td><td>2758.92</td><td>2426.03</td><td>5215.14</td><td>4723.25</td><td>3125.83</td><td>2670.85</td></tr><tr><td>&quot;AluJr&quot;</td><td>863.084</td><td>1021.31</td><td>943.936</td><td>1472.02</td><td>1141.14</td><td>936.128</td><td>1158.42</td><td>1238.01</td><td>1694.92</td><td>1550.93</td><td>1003.92</td><td>1048.49</td><td>688.697</td><td>927.231</td><td>1286.5</td><td>930.15</td><td>1063.58</td><td>1443.85</td><td>1135.73</td><td>774.718</td><td>1806.28</td><td>1002.38</td><td>935.308</td><td>1769.08</td><td>1180.33</td><td>1130.95</td><td>886.429</td><td>1153.25</td><td>863.661</td><td>1213.18</td><td>842.567</td><td>1812.97</td><td>1278.44</td><td>641.212</td><td>1534.48</td><td>1087.77</td><td>&hellip;</td><td>939.429</td><td>1840.33</td><td>1299.6</td><td>881.944</td><td>1015.1</td><td>964.59</td><td>1032.61</td><td>1870.29</td><td>1263.94</td><td>1316.59</td><td>1348.67</td><td>1158.08</td><td>833.327</td><td>1099.74</td><td>804.413</td><td>1579.61</td><td>1213.87</td><td>1046.95</td><td>1163.09</td><td>1220.17</td><td>918.734</td><td>1019.45</td><td>1235.09</td><td>1146.1</td><td>1277.6</td><td>736.021</td><td>2560.71</td><td>1347.83</td><td>802.787</td><td>724.04</td><td>1000.22</td><td>803.441</td><td>857.841</td><td>1759.8</td><td>1563.59</td><td>1174.99</td><td>554.36</td></tr><tr><td>&quot;AluJr4&quot;</td><td>6219.15</td><td>5283.81</td><td>5759.8</td><td>7817.57</td><td>6722.98</td><td>7226.66</td><td>6557.64</td><td>7286.93</td><td>9023.09</td><td>8444.05</td><td>5932.29</td><td>6158.79</td><td>5702.57</td><td>4410.33</td><td>7028.46</td><td>5670.5</td><td>6414.47</td><td>7431.23</td><td>7221.28</td><td>5169.38</td><td>10841.0</td><td>6421.22</td><td>5709.1</td><td>10130.3</td><td>7417.67</td><td>5925.11</td><td>5720.99</td><td>7137.76</td><td>5902.87</td><td>7221.67</td><td>6530.15</td><td>9500.76</td><td>8615.35</td><td>5656.09</td><td>9291.27</td><td>6929.24</td><td>&hellip;</td><td>6496.37</td><td>10055.5</td><td>6111.24</td><td>4784.68</td><td>5684.14</td><td>5960.01</td><td>6608.18</td><td>9185.61</td><td>6911.11</td><td>7409.45</td><td>8564.76</td><td>6298.29</td><td>5168.7</td><td>6563.21</td><td>4846.74</td><td>8963.76</td><td>7385.98</td><td>5862.15</td><td>6350.26</td><td>6707.35</td><td>6238.01</td><td>5240.83</td><td>6716.72</td><td>6094.02</td><td>6534.11</td><td>5106.92</td><td>13894.9</td><td>7512.87</td><td>6093.45</td><td>4434.0</td><td>6364.48</td><td>5424.9</td><td>5299.94</td><td>8767.59</td><td>9004.87</td><td>6738.61</td><td>4403.27</td></tr><tr><td>&hellip;</td><td>&hellip;</td><td>&hellip;</td><td>&hellip;</td><td>&hellip;</td><td>&hellip;</td><td>&hellip;</td><td>&hellip;</td><td>&hellip;</td><td>&hellip;</td><td>&hellip;</td><td>&hellip;</td><td>&hellip;</td><td>&hellip;</td><td>&hellip;</td><td>&hellip;</td><td>&hellip;</td><td>&hellip;</td><td>&hellip;</td><td>&hellip;</td><td>&hellip;</td><td>&hellip;</td><td>&hellip;</td><td>&hellip;</td><td>&hellip;</td><td>&hellip;</td><td>&hellip;</td><td>&hellip;</td><td>&hellip;</td><td>&hellip;</td><td>&hellip;</td><td>&hellip;</td><td>&hellip;</td><td>&hellip;</td><td>&hellip;</td><td>&hellip;</td><td>&hellip;</td><td>&hellip;</td><td>&hellip;</td><td>&hellip;</td><td>&hellip;</td><td>&hellip;</td><td>&hellip;</td><td>&hellip;</td><td>&hellip;</td><td>&hellip;</td><td>&hellip;</td><td>&hellip;</td><td>&hellip;</td><td>&hellip;</td><td>&hellip;</td><td>&hellip;</td><td>&hellip;</td><td>&hellip;</td><td>&hellip;</td><td>&hellip;</td><td>&hellip;</td><td>&hellip;</td><td>&hellip;</td><td>&hellip;</td><td>&hellip;</td><td>&hellip;</td><td>&hellip;</td><td>&hellip;</td><td>&hellip;</td><td>&hellip;</td><td>&hellip;</td><td>&hellip;</td><td>&hellip;</td><td>&hellip;</td><td>&hellip;</td><td>&hellip;</td><td>&hellip;</td><td>&hellip;</td><td>&hellip;</td></tr><tr><td>&quot;X5A_LINE&quot;</td><td>8.0</td><td>12.0</td><td>5.0</td><td>14.0</td><td>21.0</td><td>5.0</td><td>13.0</td><td>8.0</td><td>11.0</td><td>9.0</td><td>8.0</td><td>8.0</td><td>9.0</td><td>7.0</td><td>12.0</td><td>1.0</td><td>4.0</td><td>5.0</td><td>24.0</td><td>10.0</td><td>3.0</td><td>11.0</td><td>1.0</td><td>14.0</td><td>2.0</td><td>5.0</td><td>3.0</td><td>0.0</td><td>14.0</td><td>12.0</td><td>6.0</td><td>9.0</td><td>7.0</td><td>8.0</td><td>1.0</td><td>16.0</td><td>&hellip;</td><td>11.0</td><td>14.0</td><td>4.0</td><td>6.0</td><td>8.0</td><td>3.0</td><td>10.0</td><td>14.0</td><td>12.0</td><td>2.0</td><td>8.0</td><td>3.0</td><td>15.0</td><td>9.0</td><td>11.0</td><td>5.0</td><td>5.0</td><td>4.0</td><td>14.0</td><td>4.0</td><td>16.0</td><td>1.0</td><td>11.0</td><td>8.0</td><td>7.0</td><td>10.0</td><td>11.0</td><td>7.0</td><td>5.0</td><td>5.0</td><td>4.0</td><td>7.0</td><td>7.0</td><td>6.0</td><td>6.0</td><td>16.0</td><td>6.0</td></tr><tr><td>&quot;X5B_LINE&quot;</td><td>3.0</td><td>5.0</td><td>8.0</td><td>5.0</td><td>7.0</td><td>7.0</td><td>7.0</td><td>14.0</td><td>1.0</td><td>13.0</td><td>0.0</td><td>4.0</td><td>2.0</td><td>0.0</td><td>3.0</td><td>10.0</td><td>8.0</td><td>2.0</td><td>5.0</td><td>12.0</td><td>5.0</td><td>3.0</td><td>3.0</td><td>1.0</td><td>8.0</td><td>5.0</td><td>15.0</td><td>11.0</td><td>12.0</td><td>3.0</td><td>12.0</td><td>8.0</td><td>4.0</td><td>16.0</td><td>6.0</td><td>10.0</td><td>&hellip;</td><td>5.0</td><td>19.0</td><td>6.0</td><td>3.0</td><td>15.0</td><td>4.0</td><td>6.0</td><td>0.0</td><td>14.0</td><td>8.0</td><td>8.0</td><td>1.0</td><td>1.0</td><td>10.0</td><td>4.0</td><td>9.0</td><td>6.0</td><td>6.0</td><td>10.0</td><td>8.0</td><td>9.0</td><td>0.0</td><td>11.0</td><td>6.0</td><td>8.0</td><td>1.0</td><td>12.0</td><td>22.0</td><td>1.0</td><td>3.0</td><td>6.0</td><td>2.0</td><td>13.0</td><td>10.0</td><td>4.0</td><td>3.0</td><td>1.0</td></tr><tr><td>&quot;X6A_LINE&quot;</td><td>0.0</td><td>0.0</td><td>0.0</td><td>2.0</td><td>0.0</td><td>0.0</td><td>0.0</td><td>0.0</td><td>2.0</td><td>0.0</td><td>0.0</td><td>0.0</td><td>0.0</td><td>0.0</td><td>0.0</td><td>0.0</td><td>0.0</td><td>0.0</td><td>0.0</td><td>0.0</td><td>0.0</td><td>0.0</td><td>0.0</td><td>0.0</td><td>0.0</td><td>0.0</td><td>0.0</td><td>0.0</td><td>0.0</td><td>0.0</td><td>0.0</td><td>0.0</td><td>0.0</td><td>0.0</td><td>0.0</td><td>0.0</td><td>&hellip;</td><td>0.0</td><td>0.0</td><td>4.0</td><td>1.0</td><td>0.0</td><td>0.0</td><td>0.0</td><td>0.0</td><td>0.0</td><td>0.0</td><td>1.0</td><td>0.0</td><td>0.0</td><td>0.0</td><td>3.0</td><td>0.0</td><td>1.0</td><td>0.0</td><td>0.0</td><td>0.0</td><td>0.0</td><td>0.0</td><td>0.0</td><td>0.0</td><td>0.0</td><td>0.0</td><td>1.0</td><td>0.0</td><td>0.0</td><td>0.0</td><td>0.0</td><td>0.0</td><td>0.0</td><td>0.0</td><td>1.0</td><td>0.0</td><td>0.0</td></tr><tr><td>&quot;X6B_LINE&quot;</td><td>1.0</td><td>5.0</td><td>3.0</td><td>1.0</td><td>7.0</td><td>5.0</td><td>3.0</td><td>5.0</td><td>0.0</td><td>6.0</td><td>4.0</td><td>5.0</td><td>2.0</td><td>0.0</td><td>3.0</td><td>1.0</td><td>1.0</td><td>4.0</td><td>3.0</td><td>3.0</td><td>0.0</td><td>1.0</td><td>0.0</td><td>0.0</td><td>2.0</td><td>4.0</td><td>8.0</td><td>2.0</td><td>4.0</td><td>1.0</td><td>4.0</td><td>4.0</td><td>5.0</td><td>2.0</td><td>3.0</td><td>4.0</td><td>&hellip;</td><td>1.0</td><td>13.0</td><td>12.0</td><td>11.0</td><td>1.0</td><td>0.0</td><td>2.0</td><td>11.0</td><td>6.0</td><td>5.0</td><td>4.0</td><td>6.0</td><td>6.0</td><td>6.0</td><td>2.0</td><td>4.0</td><td>7.0</td><td>2.0</td><td>1.0</td><td>0.0</td><td>4.0</td><td>0.0</td><td>3.0</td><td>1.0</td><td>3.0</td><td>0.0</td><td>3.0</td><td>4.0</td><td>2.0</td><td>3.0</td><td>5.0</td><td>1.0</td><td>0.0</td><td>2.0</td><td>3.0</td><td>4.0</td><td>5.0</td></tr><tr><td>&quot;X8_LINE&quot;</td><td>0.0</td><td>0.0</td><td>0.0</td><td>0.0</td><td>0.0</td><td>0.0</td><td>0.0</td><td>0.0</td><td>1.0</td><td>0.0</td><td>0.0</td><td>0.0</td><td>0.0</td><td>0.0</td><td>0.0</td><td>1.0</td><td>0.0</td><td>0.0</td><td>0.0</td><td>0.0</td><td>0.0</td><td>0.0</td><td>0.0</td><td>0.0</td><td>0.0</td><td>0.0</td><td>0.0</td><td>0.0</td><td>1.0</td><td>0.0</td><td>0.0</td><td>2.0</td><td>0.0</td><td>0.0</td><td>0.0</td><td>0.0</td><td>&hellip;</td><td>0.0</td><td>0.0</td><td>6.0</td><td>1.0</td><td>0.0</td><td>0.0</td><td>0.0</td><td>1.0</td><td>0.0</td><td>0.0</td><td>0.0</td><td>0.0</td><td>0.0</td><td>0.0</td><td>0.0</td><td>0.0</td><td>2.0</td><td>0.0</td><td>0.0</td><td>1.0</td><td>0.0</td><td>0.0</td><td>0.0</td><td>0.0</td><td>0.0</td><td>0.0</td><td>0.0</td><td>0.0</td><td>0.0</td><td>0.0</td><td>0.0</td><td>0.0</td><td>0.0</td><td>0.0</td><td>0.0</td><td>0.0</td><td>0.0</td></tr></tbody></table></div>"
      ],
      "text/plain": [
       "shape: (687, 113)\n",
       "┌──────────┬─────────┬─────────┬─────────┬───┬─────────┬─────────┬─────────┬─────────┐\n",
       "│ TE       ┆ V1744   ┆ V2286   ┆ V1776   ┆ … ┆ V1742   ┆ V1577   ┆ V456    ┆ V689    │\n",
       "│ ---      ┆ ---     ┆ ---     ┆ ---     ┆   ┆ ---     ┆ ---     ┆ ---     ┆ ---     │\n",
       "│ str      ┆ f64     ┆ f64     ┆ f64     ┆   ┆ f64     ┆ f64     ┆ f64     ┆ f64     │\n",
       "╞══════════╪═════════╪═════════╪═════════╪═══╪═════════╪═════════╪═════════╪═════════╡\n",
       "│ ALU      ┆ 5887.91 ┆ 5431.56 ┆ 6959.7  ┆ … ┆ 9511.53 ┆ 8769.84 ┆ 8183.79 ┆ 5019.56 │\n",
       "│ AluJb    ┆ 21104.5 ┆ 19944.4 ┆ 23285.4 ┆ … ┆ 35568.6 ┆ 36400.8 ┆ 28090.8 ┆ 17515.2 │\n",
       "│ AluJo    ┆ 3241.23 ┆ 3076.36 ┆ 2831.86 ┆ … ┆ 5215.14 ┆ 4723.25 ┆ 3125.83 ┆ 2670.85 │\n",
       "│ AluJr    ┆ 863.084 ┆ 1021.31 ┆ 943.936 ┆ … ┆ 1759.8  ┆ 1563.59 ┆ 1174.99 ┆ 554.36  │\n",
       "│ AluJr4   ┆ 6219.15 ┆ 5283.81 ┆ 5759.8  ┆ … ┆ 8767.59 ┆ 9004.87 ┆ 6738.61 ┆ 4403.27 │\n",
       "│ …        ┆ …       ┆ …       ┆ …       ┆ … ┆ …       ┆ …       ┆ …       ┆ …       │\n",
       "│ X5A_LINE ┆ 8.0     ┆ 12.0    ┆ 5.0     ┆ … ┆ 6.0     ┆ 6.0     ┆ 16.0    ┆ 6.0     │\n",
       "│ X5B_LINE ┆ 3.0     ┆ 5.0     ┆ 8.0     ┆ … ┆ 10.0    ┆ 4.0     ┆ 3.0     ┆ 1.0     │\n",
       "│ X6A_LINE ┆ 0.0     ┆ 0.0     ┆ 0.0     ┆ … ┆ 0.0     ┆ 1.0     ┆ 0.0     ┆ 0.0     │\n",
       "│ X6B_LINE ┆ 1.0     ┆ 5.0     ┆ 3.0     ┆ … ┆ 2.0     ┆ 3.0     ┆ 4.0     ┆ 5.0     │\n",
       "│ X8_LINE  ┆ 0.0     ┆ 0.0     ┆ 0.0     ┆ … ┆ 0.0     ┆ 0.0     ┆ 0.0     ┆ 0.0     │\n",
       "└──────────┴─────────┴─────────┴─────────┴───┴─────────┴─────────┴─────────┴─────────┘"
      ]
     },
     "execution_count": 178,
     "metadata": {},
     "output_type": "execute_result"
    }
   ],
   "source": [
    "te_counts = pl.read_csv(\"mds_data/raw/TE_counts.csv\")\n",
    "te_counts_rename_dict = {\n",
    "    col: col.split(\"_\")[0] for col in te_counts.columns[1:]\n",
    "}\n",
    "te_counts = te_counts.rename(te_counts_rename_dict)\n",
    "te_counts_names = te_counts.columns[1:]\n",
    "te_counts"
   ]
  },
  {
   "cell_type": "markdown",
   "metadata": {},
   "source": [
    "# load pirna (skipped for now)"
   ]
  },
  {
   "cell_type": "code",
   "execution_count": 179,
   "metadata": {},
   "outputs": [
    {
     "data": {
      "text/html": [
       "<div><style>\n",
       ".dataframe > thead > tr,\n",
       ".dataframe > tbody > tr {\n",
       "  text-align: right;\n",
       "  white-space: pre-wrap;\n",
       "}\n",
       "</style>\n",
       "<small>shape: (556, 106)</small><table border=\"1\" class=\"dataframe\"><thead><tr><th>V1565</th><th>N58</th><th>V1874</th><th>V777</th><th>N80</th><th>V1788</th><th>N65</th><th>V2368</th><th>N81</th><th>N59</th><th>V2286</th><th>V406</th><th>V100</th><th>N82</th><th>V2133</th><th>V574</th><th>V2115</th><th>V1921</th><th>V714</th><th>V637</th><th>V1742</th><th>V1744</th><th>V2248</th><th>V1428</th><th>V18</th><th>V1857</th><th>V839</th><th>V912</th><th>V1048</th><th>V911</th><th>V940</th><th>V681</th><th>V708</th><th>N60</th><th>N70</th><th>V148</th><th>V655</th><th>&hellip;</th><th>V1297</th><th>V1321</th><th>V1505</th><th>V1249</th><th>V1456</th><th>V1426</th><th>V1394</th><th>V1592</th><th>V1528</th><th>V1591</th><th>V833</th><th>V1708</th><th>V1800</th><th>V1776</th><th>V1823</th><th>V1775</th><th>V1834</th><th>V2378</th><th>V2414</th><th>V1860</th><th>V1884</th><th>V1920</th><th>V2322</th><th>V2311</th><th>V2291</th><th>V1957</th><th>V2092</th><th>V2284</th><th>V2278</th><th>V2110</th><th>V2179</th><th>V2147</th><th>V2224</th><th>V2089</th><th>V788</th><th>piRNA_name</th><th>piRNA_id</th></tr><tr><td>i64</td><td>i64</td><td>i64</td><td>i64</td><td>i64</td><td>i64</td><td>i64</td><td>i64</td><td>i64</td><td>i64</td><td>i64</td><td>i64</td><td>i64</td><td>i64</td><td>i64</td><td>i64</td><td>i64</td><td>i64</td><td>i64</td><td>i64</td><td>i64</td><td>i64</td><td>i64</td><td>i64</td><td>i64</td><td>i64</td><td>i64</td><td>i64</td><td>i64</td><td>i64</td><td>i64</td><td>i64</td><td>i64</td><td>i64</td><td>i64</td><td>i64</td><td>i64</td><td>&hellip;</td><td>i64</td><td>i64</td><td>i64</td><td>i64</td><td>i64</td><td>i64</td><td>i64</td><td>i64</td><td>i64</td><td>i64</td><td>i64</td><td>i64</td><td>i64</td><td>i64</td><td>i64</td><td>i64</td><td>i64</td><td>i64</td><td>i64</td><td>i64</td><td>i64</td><td>i64</td><td>i64</td><td>i64</td><td>i64</td><td>i64</td><td>i64</td><td>i64</td><td>i64</td><td>i64</td><td>i64</td><td>i64</td><td>i64</td><td>i64</td><td>i64</td><td>str</td><td>str</td></tr></thead><tbody><tr><td>0</td><td>0</td><td>0</td><td>0</td><td>0</td><td>0</td><td>0</td><td>0</td><td>0</td><td>0</td><td>0</td><td>0</td><td>0</td><td>0</td><td>0</td><td>0</td><td>0</td><td>0</td><td>0</td><td>0</td><td>0</td><td>0</td><td>0</td><td>0</td><td>0</td><td>0</td><td>0</td><td>0</td><td>0</td><td>0</td><td>0</td><td>0</td><td>0</td><td>0</td><td>0</td><td>0</td><td>0</td><td>&hellip;</td><td>0</td><td>0</td><td>0</td><td>0</td><td>0</td><td>0</td><td>0</td><td>0</td><td>0</td><td>0</td><td>0</td><td>0</td><td>0</td><td>0</td><td>0</td><td>0</td><td>0</td><td>0</td><td>0</td><td>0</td><td>0</td><td>0</td><td>0</td><td>0</td><td>0</td><td>0</td><td>0</td><td>0</td><td>0</td><td>0</td><td>0</td><td>0</td><td>0</td><td>0</td><td>0</td><td>&quot;hsa_piR_006779&quot;</td><td>&quot;DQ579258&quot;</td></tr><tr><td>0</td><td>0</td><td>0</td><td>0</td><td>0</td><td>0</td><td>0</td><td>0</td><td>0</td><td>0</td><td>0</td><td>0</td><td>0</td><td>0</td><td>0</td><td>0</td><td>0</td><td>0</td><td>0</td><td>0</td><td>0</td><td>0</td><td>0</td><td>0</td><td>0</td><td>0</td><td>0</td><td>0</td><td>0</td><td>0</td><td>0</td><td>0</td><td>0</td><td>0</td><td>0</td><td>0</td><td>0</td><td>&hellip;</td><td>0</td><td>0</td><td>0</td><td>0</td><td>0</td><td>0</td><td>0</td><td>0</td><td>0</td><td>0</td><td>0</td><td>0</td><td>0</td><td>0</td><td>0</td><td>0</td><td>0</td><td>0</td><td>0</td><td>0</td><td>0</td><td>0</td><td>0</td><td>0</td><td>0</td><td>0</td><td>0</td><td>0</td><td>0</td><td>0</td><td>0</td><td>0</td><td>0</td><td>0</td><td>0</td><td>&quot;hsa_piR_007653&quot;</td><td>&quot;DQ580430&quot;</td></tr><tr><td>0</td><td>0</td><td>0</td><td>0</td><td>0</td><td>0</td><td>0</td><td>0</td><td>0</td><td>0</td><td>0</td><td>0</td><td>0</td><td>0</td><td>0</td><td>0</td><td>0</td><td>0</td><td>0</td><td>0</td><td>0</td><td>0</td><td>0</td><td>0</td><td>0</td><td>0</td><td>0</td><td>0</td><td>0</td><td>0</td><td>0</td><td>0</td><td>0</td><td>0</td><td>0</td><td>0</td><td>0</td><td>&hellip;</td><td>0</td><td>0</td><td>0</td><td>0</td><td>0</td><td>0</td><td>0</td><td>0</td><td>0</td><td>0</td><td>0</td><td>0</td><td>0</td><td>0</td><td>0</td><td>0</td><td>0</td><td>0</td><td>0</td><td>0</td><td>0</td><td>0</td><td>0</td><td>0</td><td>0</td><td>0</td><td>0</td><td>0</td><td>0</td><td>0</td><td>0</td><td>0</td><td>0</td><td>0</td><td>0</td><td>&quot;hsa_piR_009540&quot;</td><td>&quot;DQ582872&quot;</td></tr><tr><td>0</td><td>0</td><td>0</td><td>0</td><td>0</td><td>0</td><td>0</td><td>0</td><td>0</td><td>0</td><td>0</td><td>0</td><td>0</td><td>0</td><td>0</td><td>0</td><td>0</td><td>0</td><td>0</td><td>0</td><td>0</td><td>0</td><td>0</td><td>0</td><td>0</td><td>11</td><td>0</td><td>0</td><td>0</td><td>0</td><td>0</td><td>0</td><td>0</td><td>0</td><td>0</td><td>0</td><td>0</td><td>&hellip;</td><td>0</td><td>0</td><td>0</td><td>0</td><td>0</td><td>0</td><td>0</td><td>0</td><td>0</td><td>0</td><td>0</td><td>0</td><td>0</td><td>0</td><td>0</td><td>0</td><td>0</td><td>0</td><td>0</td><td>0</td><td>0</td><td>0</td><td>0</td><td>0</td><td>0</td><td>0</td><td>0</td><td>0</td><td>0</td><td>0</td><td>0</td><td>0</td><td>0</td><td>0</td><td>0</td><td>&quot;hsa_piR_000302&quot;</td><td>&quot;DQ570363&quot;</td></tr><tr><td>0</td><td>0</td><td>0</td><td>0</td><td>0</td><td>0</td><td>0</td><td>0</td><td>0</td><td>0</td><td>0</td><td>0</td><td>0</td><td>0</td><td>0</td><td>0</td><td>0</td><td>0</td><td>0</td><td>0</td><td>0</td><td>0</td><td>0</td><td>0</td><td>0</td><td>0</td><td>0</td><td>0</td><td>0</td><td>0</td><td>0</td><td>0</td><td>0</td><td>0</td><td>0</td><td>0</td><td>11</td><td>&hellip;</td><td>0</td><td>0</td><td>0</td><td>0</td><td>0</td><td>0</td><td>0</td><td>0</td><td>0</td><td>0</td><td>0</td><td>0</td><td>0</td><td>0</td><td>0</td><td>0</td><td>0</td><td>0</td><td>0</td><td>0</td><td>0</td><td>0</td><td>0</td><td>0</td><td>0</td><td>0</td><td>0</td><td>0</td><td>0</td><td>0</td><td>0</td><td>0</td><td>0</td><td>0</td><td>0</td><td>&quot;hsa_piR_000390&quot;</td><td>&quot;DQ570472&quot;</td></tr><tr><td>&hellip;</td><td>&hellip;</td><td>&hellip;</td><td>&hellip;</td><td>&hellip;</td><td>&hellip;</td><td>&hellip;</td><td>&hellip;</td><td>&hellip;</td><td>&hellip;</td><td>&hellip;</td><td>&hellip;</td><td>&hellip;</td><td>&hellip;</td><td>&hellip;</td><td>&hellip;</td><td>&hellip;</td><td>&hellip;</td><td>&hellip;</td><td>&hellip;</td><td>&hellip;</td><td>&hellip;</td><td>&hellip;</td><td>&hellip;</td><td>&hellip;</td><td>&hellip;</td><td>&hellip;</td><td>&hellip;</td><td>&hellip;</td><td>&hellip;</td><td>&hellip;</td><td>&hellip;</td><td>&hellip;</td><td>&hellip;</td><td>&hellip;</td><td>&hellip;</td><td>&hellip;</td><td>&hellip;</td><td>&hellip;</td><td>&hellip;</td><td>&hellip;</td><td>&hellip;</td><td>&hellip;</td><td>&hellip;</td><td>&hellip;</td><td>&hellip;</td><td>&hellip;</td><td>&hellip;</td><td>&hellip;</td><td>&hellip;</td><td>&hellip;</td><td>&hellip;</td><td>&hellip;</td><td>&hellip;</td><td>&hellip;</td><td>&hellip;</td><td>&hellip;</td><td>&hellip;</td><td>&hellip;</td><td>&hellip;</td><td>&hellip;</td><td>&hellip;</td><td>&hellip;</td><td>&hellip;</td><td>&hellip;</td><td>&hellip;</td><td>&hellip;</td><td>&hellip;</td><td>&hellip;</td><td>&hellip;</td><td>&hellip;</td><td>&hellip;</td><td>&hellip;</td><td>&hellip;</td><td>&hellip;</td></tr><tr><td>315</td><td>274</td><td>230</td><td>160</td><td>333</td><td>154</td><td>116</td><td>192</td><td>213</td><td>244</td><td>83</td><td>147</td><td>332</td><td>275</td><td>94</td><td>50</td><td>239</td><td>168</td><td>515</td><td>14</td><td>122</td><td>162</td><td>188</td><td>111</td><td>309</td><td>573</td><td>18</td><td>18</td><td>50</td><td>59</td><td>45</td><td>98</td><td>70</td><td>133</td><td>203</td><td>138</td><td>176</td><td>&hellip;</td><td>225</td><td>170</td><td>193</td><td>210</td><td>79</td><td>42</td><td>418</td><td>327</td><td>144</td><td>70</td><td>209</td><td>246</td><td>319</td><td>128</td><td>88</td><td>160</td><td>214</td><td>139</td><td>183</td><td>87</td><td>94</td><td>127</td><td>212</td><td>78</td><td>136</td><td>187</td><td>67</td><td>154</td><td>203</td><td>222</td><td>139</td><td>273</td><td>161</td><td>175</td><td>43</td><td>&quot;hsa_piR_020814&quot;</td><td>&quot;DQ598650&quot;</td></tr><tr><td>316</td><td>458</td><td>493</td><td>422</td><td>279</td><td>266</td><td>140</td><td>417</td><td>243</td><td>395</td><td>220</td><td>74</td><td>361</td><td>450</td><td>77</td><td>120</td><td>715</td><td>170</td><td>210</td><td>12</td><td>289</td><td>688</td><td>336</td><td>203</td><td>604</td><td>137</td><td>104</td><td>193</td><td>270</td><td>276</td><td>265</td><td>202</td><td>410</td><td>132</td><td>225</td><td>291</td><td>937</td><td>&hellip;</td><td>157</td><td>1068</td><td>389</td><td>405</td><td>177</td><td>89</td><td>1005</td><td>578</td><td>329</td><td>314</td><td>574</td><td>551</td><td>458</td><td>187</td><td>117</td><td>421</td><td>669</td><td>646</td><td>183</td><td>250</td><td>170</td><td>131</td><td>635</td><td>248</td><td>170</td><td>864</td><td>126</td><td>293</td><td>571</td><td>231</td><td>224</td><td>281</td><td>574</td><td>183</td><td>120</td><td>&quot;hsa_piR_020815&quot;</td><td>&quot;DQ598651&quot;</td></tr><tr><td>2732</td><td>1064</td><td>1346</td><td>610</td><td>1598</td><td>894</td><td>848</td><td>528</td><td>1525</td><td>1060</td><td>810</td><td>565</td><td>824</td><td>1131</td><td>380</td><td>1242</td><td>833</td><td>1493</td><td>2428</td><td>146</td><td>901</td><td>1991</td><td>378</td><td>714</td><td>3829</td><td>766</td><td>226</td><td>175</td><td>544</td><td>380</td><td>632</td><td>547</td><td>312</td><td>589</td><td>472</td><td>1735</td><td>1421</td><td>&hellip;</td><td>383</td><td>193</td><td>1198</td><td>264</td><td>610</td><td>112</td><td>492</td><td>475</td><td>1173</td><td>1241</td><td>330</td><td>385</td><td>292</td><td>375</td><td>506</td><td>325</td><td>687</td><td>330</td><td>1212</td><td>777</td><td>665</td><td>138</td><td>1620</td><td>357</td><td>621</td><td>874</td><td>573</td><td>661</td><td>1069</td><td>1170</td><td>784</td><td>749</td><td>1192</td><td>921</td><td>391</td><td>&quot;hsa_piR_020829&quot;</td><td>&quot;DQ598677&quot;</td></tr><tr><td>131</td><td>177</td><td>441</td><td>190</td><td>287</td><td>281</td><td>247</td><td>164</td><td>429</td><td>191</td><td>119</td><td>190</td><td>51</td><td>158</td><td>36</td><td>254</td><td>325</td><td>244</td><td>195</td><td>152</td><td>139</td><td>717</td><td>376</td><td>227</td><td>657</td><td>43</td><td>201</td><td>109</td><td>104</td><td>249</td><td>112</td><td>246</td><td>45</td><td>61</td><td>111</td><td>181</td><td>43</td><td>&hellip;</td><td>149</td><td>156</td><td>276</td><td>444</td><td>135</td><td>24</td><td>132</td><td>141</td><td>199</td><td>153</td><td>191</td><td>135</td><td>152</td><td>239</td><td>130</td><td>275</td><td>173</td><td>222</td><td>322</td><td>465</td><td>188</td><td>137</td><td>556</td><td>240</td><td>166</td><td>385</td><td>133</td><td>400</td><td>496</td><td>261</td><td>98</td><td>171</td><td>398</td><td>271</td><td>217</td><td>&quot;hsa_piR_021032&quot;</td><td>&quot;DQ598918&quot;</td></tr><tr><td>265</td><td>188</td><td>264</td><td>70</td><td>265</td><td>389</td><td>136</td><td>145</td><td>314</td><td>114</td><td>427</td><td>314</td><td>63</td><td>166</td><td>82</td><td>340</td><td>161</td><td>182</td><td>236</td><td>86</td><td>210</td><td>758</td><td>327</td><td>215</td><td>1456</td><td>39</td><td>236</td><td>45</td><td>85</td><td>123</td><td>176</td><td>179</td><td>57</td><td>63</td><td>73</td><td>168</td><td>189</td><td>&hellip;</td><td>110</td><td>55</td><td>397</td><td>345</td><td>400</td><td>30</td><td>80</td><td>54</td><td>235</td><td>374</td><td>78</td><td>97</td><td>72</td><td>221</td><td>147</td><td>145</td><td>67</td><td>238</td><td>286</td><td>360</td><td>196</td><td>147</td><td>436</td><td>177</td><td>341</td><td>259</td><td>212</td><td>265</td><td>343</td><td>229</td><td>236</td><td>151</td><td>311</td><td>337</td><td>161</td><td>&quot;hsa_piR_021462&quot;</td><td>&quot;DQ599459&quot;</td></tr></tbody></table></div>"
      ],
      "text/plain": [
       "shape: (556, 106)\n",
       "┌───────┬──────┬───────┬──────┬───┬───────┬──────┬────────────────┬──────────┐\n",
       "│ V1565 ┆ N58  ┆ V1874 ┆ V777 ┆ … ┆ V2089 ┆ V788 ┆ piRNA_name     ┆ piRNA_id │\n",
       "│ ---   ┆ ---  ┆ ---   ┆ ---  ┆   ┆ ---   ┆ ---  ┆ ---            ┆ ---      │\n",
       "│ i64   ┆ i64  ┆ i64   ┆ i64  ┆   ┆ i64   ┆ i64  ┆ str            ┆ str      │\n",
       "╞═══════╪══════╪═══════╪══════╪═══╪═══════╪══════╪════════════════╪══════════╡\n",
       "│ 0     ┆ 0    ┆ 0     ┆ 0    ┆ … ┆ 0     ┆ 0    ┆ hsa_piR_006779 ┆ DQ579258 │\n",
       "│ 0     ┆ 0    ┆ 0     ┆ 0    ┆ … ┆ 0     ┆ 0    ┆ hsa_piR_007653 ┆ DQ580430 │\n",
       "│ 0     ┆ 0    ┆ 0     ┆ 0    ┆ … ┆ 0     ┆ 0    ┆ hsa_piR_009540 ┆ DQ582872 │\n",
       "│ 0     ┆ 0    ┆ 0     ┆ 0    ┆ … ┆ 0     ┆ 0    ┆ hsa_piR_000302 ┆ DQ570363 │\n",
       "│ 0     ┆ 0    ┆ 0     ┆ 0    ┆ … ┆ 0     ┆ 0    ┆ hsa_piR_000390 ┆ DQ570472 │\n",
       "│ …     ┆ …    ┆ …     ┆ …    ┆ … ┆ …     ┆ …    ┆ …              ┆ …        │\n",
       "│ 315   ┆ 274  ┆ 230   ┆ 160  ┆ … ┆ 175   ┆ 43   ┆ hsa_piR_020814 ┆ DQ598650 │\n",
       "│ 316   ┆ 458  ┆ 493   ┆ 422  ┆ … ┆ 183   ┆ 120  ┆ hsa_piR_020815 ┆ DQ598651 │\n",
       "│ 2732  ┆ 1064 ┆ 1346  ┆ 610  ┆ … ┆ 921   ┆ 391  ┆ hsa_piR_020829 ┆ DQ598677 │\n",
       "│ 131   ┆ 177  ┆ 441   ┆ 190  ┆ … ┆ 271   ┆ 217  ┆ hsa_piR_021032 ┆ DQ598918 │\n",
       "│ 265   ┆ 188  ┆ 264   ┆ 70   ┆ … ┆ 337   ┆ 161  ┆ hsa_piR_021462 ┆ DQ599459 │\n",
       "└───────┴──────┴───────┴──────┴───┴───────┴──────┴────────────────┴──────────┘"
      ]
     },
     "execution_count": 179,
     "metadata": {},
     "output_type": "execute_result"
    }
   ],
   "source": [
    "pirna = pl.read_excel(\"mds_data/raw/piRNA_counts.xlsx\")\n",
    "pirna_rename_dict = {\n",
    "    col: col.split(\"_\")[0] for col in pirna.columns[1:]\n",
    "}\n",
    "pirna = pirna.rename(pirna_rename_dict)\n",
    "pirna_names = pirna.columns[1:]\n",
    "\n",
    "pirna = pirna.with_columns([\n",
    "    pl.col(\"piRNA\").str.split(\"/\").list.get(0).alias(\"piRNA_name\"),\n",
    "    pl.col(\"piRNA\").str.split(\"/\").list.get(2).alias(\"piRNA_id\")\n",
    "]).drop(\"piRNA\")\n",
    "\n",
    "pirna"
   ]
  },
  {
   "cell_type": "markdown",
   "metadata": {},
   "source": [
    "# common samples"
   ]
  },
  {
   "cell_type": "code",
   "execution_count": 180,
   "metadata": {},
   "outputs": [],
   "source": [
    "annotations = pl.read_csv(\"mds_data/preprocessed/annotations.csv\")\n",
    "annotated_samples = annotations['SAMPLE_ID'].to_list()"
   ]
  },
  {
   "cell_type": "code",
   "execution_count": 181,
   "metadata": {},
   "outputs": [
    {
     "name": "stdout",
     "output_type": "stream",
     "text": [
      "lengths: len(mrna_names)=86, len(mirna_names)=105, len(circrna_names)=86, len(te_counts_names)=112\n"
     ]
    },
    {
     "data": {
      "text/plain": [
       "66"
      ]
     },
     "execution_count": 181,
     "metadata": {},
     "output_type": "execute_result"
    }
   ],
   "source": [
    "from src.data_cleaning import get_common_elements\n",
    "\n",
    "common_names = get_common_elements(\n",
    "    annotated_samples, mrna_names, mirna_names, circrna_names, pirna_names, te_counts_names\n",
    ")\n",
    "\n",
    "common_names.sort()\n",
    "\n",
    "print(f\"lengths: {len(mrna_names)=}, {len(mirna_names)=}, {len(circrna_names)=}, {len(te_counts_names)=}\")\n",
    "len(common_names)"
   ]
  },
  {
   "cell_type": "markdown",
   "metadata": {},
   "source": [
    "### notes about overlapping data\n",
    "    - mirna_names, te_counts_names = 98 (+12, most data available)\n",
    "    - mrna, circrna = 86 (all of mrna data, baseline number of samples)\n",
    "    - mrna, circrna, te_counts = 85 (-1)\n",
    "    - mrna, circrna, te_counts, mirna = 77 (-8)\n",
    "    - mrna_names, pirna_names, circrna_names, te_counts_names = 76 (-9)\n",
    "    - mrna_names, mirna, pirna_names, circrna_names, te_counts_names = 76 (-9)\n",
    "    - annotations only exist for 66 (-19) samples\n",
    "\n",
    "- there is data both for mirna pre-cursor genes (in the allRNA dataframe) and both for the mature mirnas (which should be generally less noisy, even though both are correlated)"
   ]
  },
  {
   "cell_type": "markdown",
   "metadata": {},
   "source": [
    "## select common samples from each df"
   ]
  },
  {
   "cell_type": "code",
   "execution_count": 182,
   "metadata": {},
   "outputs": [],
   "source": [
    "mrna = mrna.select(\"GENE_ID\", \"GENE_NAME\", *common_names)"
   ]
  },
  {
   "cell_type": "code",
   "execution_count": 183,
   "metadata": {},
   "outputs": [],
   "source": [
    "mirna = mirna.select(\"miRNA\", *common_names)"
   ]
  },
  {
   "cell_type": "code",
   "execution_count": 184,
   "metadata": {},
   "outputs": [],
   "source": [
    "circrna = circrna.select(\"STRAND\", \"circRNA_ID\", \"GENE_ID\", \"GENE_TYPE\", \"GENE_NAME\", *common_names)"
   ]
  },
  {
   "cell_type": "code",
   "execution_count": 185,
   "metadata": {},
   "outputs": [],
   "source": [
    "pirna = pirna.select(\"piRNA_name\", \"piRNA_id\", *common_names)"
   ]
  },
  {
   "cell_type": "code",
   "execution_count": 186,
   "metadata": {},
   "outputs": [],
   "source": [
    "te_counts = te_counts.select(\"TE\", *common_names)"
   ]
  },
  {
   "cell_type": "markdown",
   "metadata": {},
   "source": [
    "# data preprocessing"
   ]
  },
  {
   "cell_type": "code",
   "execution_count": 197,
   "metadata": {},
   "outputs": [
    {
     "data": {
      "text/html": [
       "<div><style>\n",
       ".dataframe > thead > tr,\n",
       ".dataframe > tbody > tr {\n",
       "  text-align: right;\n",
       "  white-space: pre-wrap;\n",
       "}\n",
       "</style>\n",
       "<small>shape: (3_000, 68)</small><table border=\"1\" class=\"dataframe\"><thead><tr><th>GENE_ID</th><th>GENE_NAME</th><th>N58</th><th>N60</th><th>N70</th><th>N82</th><th>N83</th><th>N84</th><th>N85</th><th>V1048</th><th>V108</th><th>V1090</th><th>V125</th><th>V1279</th><th>V1297</th><th>V1321</th><th>V1337</th><th>V1394</th><th>V1441</th><th>V1456</th><th>V148</th><th>V1505</th><th>V1528</th><th>V1565</th><th>V1591</th><th>V1592</th><th>V1699</th><th>V1708</th><th>V1742</th><th>V1776</th><th>V1788</th><th>V18</th><th>V1800</th><th>V1823</th><th>V1834</th><th>V1857</th><th>V1860</th><th>V1874</th><th>V1884</th><th>V1920</th><th>V1921</th><th>V2089</th><th>V2092</th><th>V2110</th><th>V2133</th><th>V221</th><th>V344</th><th>V359</th><th>V406</th><th>V456</th><th>V513</th><th>V538</th><th>V553</th><th>V574</th><th>V624</th><th>V630</th><th>V637</th><th>V655</th><th>V67</th><th>V712</th><th>V714</th><th>V716</th><th>V777</th><th>V806</th><th>V839</th><th>V883</th><th>V888</th><th>V940</th></tr><tr><td>str</td><td>str</td><td>f64</td><td>f64</td><td>f64</td><td>f64</td><td>f64</td><td>f64</td><td>f64</td><td>f64</td><td>f64</td><td>f64</td><td>f64</td><td>f64</td><td>f64</td><td>f64</td><td>f64</td><td>f64</td><td>f64</td><td>f64</td><td>f64</td><td>f64</td><td>f64</td><td>f64</td><td>f64</td><td>f64</td><td>f64</td><td>f64</td><td>f64</td><td>f64</td><td>f64</td><td>f64</td><td>f64</td><td>f64</td><td>f64</td><td>f64</td><td>f64</td><td>f64</td><td>f64</td><td>f64</td><td>f64</td><td>f64</td><td>f64</td><td>f64</td><td>f64</td><td>f64</td><td>f64</td><td>f64</td><td>f64</td><td>f64</td><td>f64</td><td>f64</td><td>f64</td><td>f64</td><td>f64</td><td>f64</td><td>f64</td><td>f64</td><td>f64</td><td>f64</td><td>f64</td><td>f64</td><td>f64</td><td>f64</td><td>f64</td><td>f64</td><td>f64</td><td>f64</td></tr></thead><tbody><tr><td>&quot;ENSG00000103184&quot;</td><td>&quot;SEC14L5&quot;</td><td>4.574155</td><td>7.288239</td><td>3.561246</td><td>2.897224</td><td>3.615696</td><td>4.057362</td><td>2.203009</td><td>4.398603</td><td>3.467058</td><td>3.657675</td><td>4.619424</td><td>1.507977</td><td>4.809069</td><td>4.749144</td><td>2.146183</td><td>2.66225</td><td>3.555635</td><td>0.714897</td><td>2.010324</td><td>6.268556</td><td>5.914118</td><td>4.018251</td><td>6.781959</td><td>4.900504</td><td>3.481129</td><td>3.767197</td><td>5.167452</td><td>1.631362</td><td>5.933825</td><td>4.945851</td><td>0.444571</td><td>2.734007</td><td>4.452827</td><td>5.877369</td><td>6.07671</td><td>3.343197</td><td>6.156233</td><td>2.993291</td><td>5.727105</td><td>1.36271</td><td>5.001145</td><td>5.516594</td><td>6.915722</td><td>3.82929</td><td>3.319966</td><td>6.938185</td><td>5.118215</td><td>1.629126</td><td>5.885573</td><td>5.003287</td><td>2.039422</td><td>10.53412</td><td>2.297346</td><td>4.097657</td><td>3.891976</td><td>4.604959</td><td>5.844351</td><td>3.188559</td><td>1.986391</td><td>2.357737</td><td>3.549326</td><td>5.252131</td><td>3.976603</td><td>5.670529</td><td>4.456624</td><td>4.897539</td></tr><tr><td>&quot;ENSG00000119862&quot;</td><td>&quot;LGALSL&quot;</td><td>7.455039</td><td>8.479401</td><td>6.306391</td><td>3.321911</td><td>6.188541</td><td>5.979059</td><td>5.223318</td><td>6.5576</td><td>6.140982</td><td>7.953992</td><td>6.599124</td><td>5.548295</td><td>8.013039</td><td>7.647353</td><td>4.956439</td><td>6.928581</td><td>5.090716</td><td>6.687677</td><td>5.006865</td><td>9.311978</td><td>8.342994</td><td>6.413821</td><td>9.084263</td><td>6.776719</td><td>5.304247</td><td>6.598114</td><td>6.798145</td><td>4.599317</td><td>8.505406</td><td>6.422409</td><td>2.381453</td><td>6.143426</td><td>5.936016</td><td>8.052438</td><td>7.556633</td><td>6.799104</td><td>7.551962</td><td>6.284811</td><td>7.092467</td><td>3.705927</td><td>6.91619</td><td>6.314894</td><td>6.214188</td><td>5.860457</td><td>5.514356</td><td>8.538408</td><td>7.514117</td><td>6.082184</td><td>9.708378</td><td>6.616514</td><td>4.57679</td><td>12.548</td><td>5.836737</td><td>6.590203</td><td>6.043704</td><td>7.598248</td><td>7.729715</td><td>6.108103</td><td>5.62265</td><td>5.729892</td><td>5.977239</td><td>6.672379</td><td>6.838144</td><td>7.450425</td><td>6.055094</td><td>6.88753</td></tr><tr><td>&quot;ENSG00000115461&quot;</td><td>&quot;IGFBP5&quot;</td><td>1.531313</td><td>4.93984</td><td>1.589817</td><td>3.596918</td><td>4.221713</td><td>5.694364</td><td>4.633449</td><td>7.55643</td><td>2.906119</td><td>6.264272</td><td>4.300236</td><td>4.642322</td><td>5.192593</td><td>5.82839</td><td>3.354076</td><td>6.16894</td><td>3.134675</td><td>4.718852</td><td>8.624212</td><td>3.38863</td><td>3.416752</td><td>8.240399</td><td>6.652194</td><td>7.699936</td><td>4.466548</td><td>3.895035</td><td>8.655896</td><td>4.393156</td><td>3.639881</td><td>5.553176</td><td>2.653826</td><td>6.227905</td><td>6.201601</td><td>9.962816</td><td>5.073338</td><td>4.806445</td><td>4.322065</td><td>3.59729</td><td>4.244579</td><td>4.54983</td><td>5.835025</td><td>6.82944</td><td>7.039622</td><td>4.689163</td><td>3.702583</td><td>6.163571</td><td>2.613793</td><td>2.308573</td><td>3.431658</td><td>4.664411</td><td>3.645008</td><td>4.07661</td><td>4.614307</td><td>5.113326</td><td>2.241138</td><td>3.67498</td><td>11.902128</td><td>2.718183</td><td>2.048483</td><td>1.477194</td><td>4.562139</td><td>6.748317</td><td>2.710774</td><td>4.358541</td><td>5.20171</td><td>6.416449</td></tr><tr><td>&quot;ENSG00000137801&quot;</td><td>&quot;THBS1&quot;</td><td>10.787846</td><td>12.452547</td><td>9.390428</td><td>7.256898</td><td>9.546596</td><td>9.807684</td><td>8.395226</td><td>10.564428</td><td>9.994399</td><td>10.93104</td><td>10.041629</td><td>8.696442</td><td>11.235067</td><td>10.286238</td><td>7.73148</td><td>9.966976</td><td>10.189488</td><td>11.291271</td><td>8.163448</td><td>12.26609</td><td>11.428713</td><td>9.155845</td><td>12.369392</td><td>8.678094</td><td>8.537479</td><td>11.617824</td><td>10.461017</td><td>7.391252</td><td>11.719449</td><td>8.622247</td><td>6.537787</td><td>9.79737</td><td>9.035041</td><td>11.235494</td><td>11.164126</td><td>9.850056</td><td>10.290641</td><td>7.654049</td><td>11.137592</td><td>4.781831</td><td>10.478594</td><td>10.905235</td><td>9.504674</td><td>9.022241</td><td>8.020058</td><td>12.340003</td><td>9.573093</td><td>9.417571</td><td>11.567134</td><td>10.372583</td><td>7.060916</td><td>15.367104</td><td>8.483557</td><td>10.596553</td><td>8.780714</td><td>9.818366</td><td>11.521034</td><td>6.721186</td><td>6.61051</td><td>9.027454</td><td>7.719915</td><td>10.210917</td><td>10.274893</td><td>10.805033</td><td>10.464737</td><td>10.704895</td></tr><tr><td>&quot;ENSG00000173083&quot;</td><td>&quot;HPSE&quot;</td><td>6.935416</td><td>7.987946</td><td>7.20935</td><td>5.125137</td><td>6.211795</td><td>5.990862</td><td>5.462574</td><td>6.413457</td><td>7.825867</td><td>8.089623</td><td>6.922915</td><td>6.288086</td><td>7.527803</td><td>6.888642</td><td>6.086392</td><td>6.349528</td><td>6.562359</td><td>6.139168</td><td>6.209023</td><td>8.389047</td><td>7.645464</td><td>6.792004</td><td>8.256308</td><td>6.635347</td><td>6.015047</td><td>6.27286</td><td>6.943379</td><td>5.713779</td><td>8.075317</td><td>5.712303</td><td>5.481236</td><td>6.143426</td><td>6.635867</td><td>6.400915</td><td>7.285251</td><td>6.45702</td><td>8.3526</td><td>5.8538</td><td>7.281664</td><td>5.741307</td><td>6.923299</td><td>7.189791</td><td>7.09444</td><td>6.704163</td><td>4.665372</td><td>8.178149</td><td>6.607652</td><td>6.537152</td><td>7.83118</td><td>7.217909</td><td>6.983234</td><td>11.844895</td><td>5.8875</td><td>8.039698</td><td>6.089552</td><td>6.931796</td><td>7.643238</td><td>5.951342</td><td>5.730754</td><td>6.129718</td><td>7.313044</td><td>6.989801</td><td>7.451146</td><td>6.940394</td><td>6.860065</td><td>6.735584</td></tr><tr><td>&hellip;</td><td>&hellip;</td><td>&hellip;</td><td>&hellip;</td><td>&hellip;</td><td>&hellip;</td><td>&hellip;</td><td>&hellip;</td><td>&hellip;</td><td>&hellip;</td><td>&hellip;</td><td>&hellip;</td><td>&hellip;</td><td>&hellip;</td><td>&hellip;</td><td>&hellip;</td><td>&hellip;</td><td>&hellip;</td><td>&hellip;</td><td>&hellip;</td><td>&hellip;</td><td>&hellip;</td><td>&hellip;</td><td>&hellip;</td><td>&hellip;</td><td>&hellip;</td><td>&hellip;</td><td>&hellip;</td><td>&hellip;</td><td>&hellip;</td><td>&hellip;</td><td>&hellip;</td><td>&hellip;</td><td>&hellip;</td><td>&hellip;</td><td>&hellip;</td><td>&hellip;</td><td>&hellip;</td><td>&hellip;</td><td>&hellip;</td><td>&hellip;</td><td>&hellip;</td><td>&hellip;</td><td>&hellip;</td><td>&hellip;</td><td>&hellip;</td><td>&hellip;</td><td>&hellip;</td><td>&hellip;</td><td>&hellip;</td><td>&hellip;</td><td>&hellip;</td><td>&hellip;</td><td>&hellip;</td><td>&hellip;</td><td>&hellip;</td><td>&hellip;</td><td>&hellip;</td><td>&hellip;</td><td>&hellip;</td><td>&hellip;</td><td>&hellip;</td><td>&hellip;</td><td>&hellip;</td><td>&hellip;</td><td>&hellip;</td><td>&hellip;</td><td>&hellip;</td></tr><tr><td>&quot;ENSG00000100320&quot;</td><td>&quot;RBFOX2&quot;</td><td>8.22931</td><td>8.577745</td><td>8.793937</td><td>8.146168</td><td>8.50636</td><td>8.094082</td><td>8.412581</td><td>6.262423</td><td>8.824019</td><td>9.092984</td><td>8.123152</td><td>8.145417</td><td>8.134884</td><td>7.165401</td><td>7.635301</td><td>7.611847</td><td>8.661839</td><td>5.259503</td><td>7.394901</td><td>7.761067</td><td>7.65251</td><td>8.083627</td><td>6.969916</td><td>9.355596</td><td>6.342115</td><td>8.242365</td><td>6.032863</td><td>6.856847</td><td>7.337829</td><td>7.598508</td><td>5.508181</td><td>6.09535</td><td>8.075045</td><td>8.245913</td><td>7.133615</td><td>8.494605</td><td>7.07594</td><td>8.600279</td><td>8.234299</td><td>6.944529</td><td>6.121303</td><td>7.042001</td><td>7.561364</td><td>8.72022</td><td>6.691154</td><td>7.412463</td><td>5.706284</td><td>8.655129</td><td>8.009674</td><td>7.341117</td><td>2.289394</td><td>6.340976</td><td>6.346199</td><td>7.8873</td><td>7.275199</td><td>9.039884</td><td>7.44935</td><td>9.180781</td><td>8.788654</td><td>8.775473</td><td>9.47642</td><td>6.869862</td><td>7.52732</td><td>7.067754</td><td>7.545361</td><td>6.655649</td></tr><tr><td>&quot;ENSG00000131037&quot;</td><td>&quot;EPS8L1&quot;</td><td>4.921367</td><td>5.092288</td><td>4.636338</td><td>4.303763</td><td>3.558799</td><td>4.273777</td><td>4.539356</td><td>3.657559</td><td>4.76519</td><td>5.2067</td><td>5.129906</td><td>5.249289</td><td>5.093011</td><td>4.608039</td><td>4.105194</td><td>3.421264</td><td>4.543386</td><td>4.570978</td><td>4.012894</td><td>4.479922</td><td>4.122518</td><td>5.584509</td><td>3.767809</td><td>3.859496</td><td>3.894477</td><td>4.436839</td><td>4.401572</td><td>4.939957</td><td>3.310004</td><td>4.954976</td><td>3.038821</td><td>3.685049</td><td>5.122019</td><td>5.154102</td><td>4.704891</td><td>4.004908</td><td>2.594864</td><td>5.67405</td><td>4.176327</td><td>3.059096</td><td>4.431902</td><td>2.579029</td><td>5.850097</td><td>4.698257</td><td>4.024754</td><td>5.202417</td><td>3.982463</td><td>6.590354</td><td>4.603486</td><td>2.425481</td><td>3.861162</td><td>4.223547</td><td>2.009216</td><td>3.985339</td><td>2.241138</td><td>5.239908</td><td>5.761738</td><td>3.852376</td><td>5.114053</td><td>5.401104</td><td>4.54089</td><td>4.377534</td><td>4.054711</td><td>4.791207</td><td>4.437371</td><td>4.463407</td></tr><tr><td>&quot;ENSG00000147138&quot;</td><td>&quot;GPR174&quot;</td><td>7.472695</td><td>7.693039</td><td>8.470779</td><td>8.431479</td><td>8.423135</td><td>7.941875</td><td>7.586384</td><td>8.35664</td><td>10.20575</td><td>9.02655</td><td>8.031976</td><td>8.900432</td><td>9.261677</td><td>9.425081</td><td>9.225934</td><td>9.444781</td><td>8.44918</td><td>7.687412</td><td>8.051833</td><td>7.811535</td><td>8.339178</td><td>7.633405</td><td>7.297222</td><td>8.87963</td><td>7.210158</td><td>7.914855</td><td>6.834074</td><td>8.695152</td><td>4.52869</td><td>7.733878</td><td>10.22048</td><td>6.504612</td><td>9.587979</td><td>7.97627</td><td>8.012537</td><td>8.975441</td><td>8.739155</td><td>9.705377</td><td>8.709629</td><td>8.063136</td><td>7.39922</td><td>7.799343</td><td>7.265433</td><td>8.571631</td><td>9.109058</td><td>7.41099</td><td>4.540132</td><td>10.158007</td><td>8.317188</td><td>9.034955</td><td>8.597539</td><td>6.449957</td><td>7.772009</td><td>8.241796</td><td>7.973199</td><td>9.134118</td><td>8.364018</td><td>8.292342</td><td>8.913818</td><td>9.206939</td><td>9.270765</td><td>7.319049</td><td>8.83835</td><td>7.851796</td><td>7.858072</td><td>6.91692</td></tr><tr><td>&quot;ENSG00000152767&quot;</td><td>&quot;FARP1&quot;</td><td>6.940183</td><td>7.49388</td><td>6.46252</td><td>5.675233</td><td>6.4785</td><td>6.855844</td><td>5.77485</td><td>7.895461</td><td>7.102404</td><td>5.689908</td><td>6.759296</td><td>6.770667</td><td>7.110603</td><td>7.269297</td><td>7.513641</td><td>6.432986</td><td>6.543011</td><td>6.975591</td><td>7.973696</td><td>6.347298</td><td>6.180977</td><td>7.222779</td><td>6.675958</td><td>6.867061</td><td>6.708219</td><td>7.062017</td><td>7.460929</td><td>6.16691</td><td>7.521092</td><td>7.119538</td><td>7.263643</td><td>8.050985</td><td>7.734846</td><td>9.232917</td><td>7.693798</td><td>6.712544</td><td>7.099249</td><td>6.624518</td><td>6.440258</td><td>7.417438</td><td>8.285402</td><td>7.647037</td><td>8.174316</td><td>6.902123</td><td>5.938316</td><td>8.029102</td><td>6.648249</td><td>7.433624</td><td>6.519701</td><td>6.396188</td><td>5.661561</td><td>6.111841</td><td>6.986761</td><td>7.610686</td><td>6.858305</td><td>7.330748</td><td>7.51952</td><td>6.998061</td><td>6.492616</td><td>6.120499</td><td>6.428605</td><td>7.674356</td><td>6.001296</td><td>6.299561</td><td>7.777429</td><td>6.503437</td></tr><tr><td>&quot;ENSG00000224420&quot;</td><td>&quot;C19orf76&quot;</td><td>6.154172</td><td>5.498171</td><td>5.151728</td><td>5.514104</td><td>6.03274</td><td>4.932447</td><td>6.352387</td><td>4.988354</td><td>7.041746</td><td>5.848806</td><td>6.733806</td><td>5.576445</td><td>7.992461</td><td>6.302988</td><td>6.035125</td><td>4.292522</td><td>4.813793</td><td>4.609392</td><td>6.615645</td><td>4.752124</td><td>5.431223</td><td>5.466946</td><td>5.057281</td><td>4.450441</td><td>5.59655</td><td>5.506851</td><td>4.829419</td><td>6.034645</td><td>5.193213</td><td>6.743933</td><td>6.265124</td><td>4.515427</td><td>6.58305</td><td>4.773593</td><td>5.148503</td><td>5.355876</td><td>5.290316</td><td>5.867816</td><td>5.447154</td><td>4.61913</td><td>4.47124</td><td>5.577988</td><td>3.484186</td><td>4.828217</td><td>6.697414</td><td>5.562334</td><td>6.624028</td><td>5.165414</td><td>4.917211</td><td>5.311944</td><td>6.162196</td><td>4.953942</td><td>5.727095</td><td>4.863907</td><td>5.042281</td><td>4.986085</td><td>5.661588</td><td>5.782114</td><td>5.80458</td><td>6.192653</td><td>4.856832</td><td>5.495054</td><td>5.256311</td><td>6.059971</td><td>6.393223</td><td>4.967428</td></tr></tbody></table></div>"
      ],
      "text/plain": [
       "shape: (3_000, 68)\n",
       "┌───────────┬───────────┬───────────┬───────────┬───┬───────────┬───────────┬───────────┬──────────┐\n",
       "│ GENE_ID   ┆ GENE_NAME ┆ N58       ┆ N60       ┆ … ┆ V839      ┆ V883      ┆ V888      ┆ V940     │\n",
       "│ ---       ┆ ---       ┆ ---       ┆ ---       ┆   ┆ ---       ┆ ---       ┆ ---       ┆ ---      │\n",
       "│ str       ┆ str       ┆ f64       ┆ f64       ┆   ┆ f64       ┆ f64       ┆ f64       ┆ f64      │\n",
       "╞═══════════╪═══════════╪═══════════╪═══════════╪═══╪═══════════╪═══════════╪═══════════╪══════════╡\n",
       "│ ENSG00000 ┆ SEC14L5   ┆ 4.574155  ┆ 7.288239  ┆ … ┆ 3.976603  ┆ 5.670529  ┆ 4.456624  ┆ 4.897539 │\n",
       "│ 103184    ┆           ┆           ┆           ┆   ┆           ┆           ┆           ┆          │\n",
       "│ ENSG00000 ┆ LGALSL    ┆ 7.455039  ┆ 8.479401  ┆ … ┆ 6.838144  ┆ 7.450425  ┆ 6.055094  ┆ 6.88753  │\n",
       "│ 119862    ┆           ┆           ┆           ┆   ┆           ┆           ┆           ┆          │\n",
       "│ ENSG00000 ┆ IGFBP5    ┆ 1.531313  ┆ 4.93984   ┆ … ┆ 2.710774  ┆ 4.358541  ┆ 5.20171   ┆ 6.416449 │\n",
       "│ 115461    ┆           ┆           ┆           ┆   ┆           ┆           ┆           ┆          │\n",
       "│ ENSG00000 ┆ THBS1     ┆ 10.787846 ┆ 12.452547 ┆ … ┆ 10.274893 ┆ 10.805033 ┆ 10.464737 ┆ 10.70489 │\n",
       "│ 137801    ┆           ┆           ┆           ┆   ┆           ┆           ┆           ┆ 5        │\n",
       "│ ENSG00000 ┆ HPSE      ┆ 6.935416  ┆ 7.987946  ┆ … ┆ 7.451146  ┆ 6.940394  ┆ 6.860065  ┆ 6.735584 │\n",
       "│ 173083    ┆           ┆           ┆           ┆   ┆           ┆           ┆           ┆          │\n",
       "│ …         ┆ …         ┆ …         ┆ …         ┆ … ┆ …         ┆ …         ┆ …         ┆ …        │\n",
       "│ ENSG00000 ┆ RBFOX2    ┆ 8.22931   ┆ 8.577745  ┆ … ┆ 7.52732   ┆ 7.067754  ┆ 7.545361  ┆ 6.655649 │\n",
       "│ 100320    ┆           ┆           ┆           ┆   ┆           ┆           ┆           ┆          │\n",
       "│ ENSG00000 ┆ EPS8L1    ┆ 4.921367  ┆ 5.092288  ┆ … ┆ 4.054711  ┆ 4.791207  ┆ 4.437371  ┆ 4.463407 │\n",
       "│ 131037    ┆           ┆           ┆           ┆   ┆           ┆           ┆           ┆          │\n",
       "│ ENSG00000 ┆ GPR174    ┆ 7.472695  ┆ 7.693039  ┆ … ┆ 8.83835   ┆ 7.851796  ┆ 7.858072  ┆ 6.91692  │\n",
       "│ 147138    ┆           ┆           ┆           ┆   ┆           ┆           ┆           ┆          │\n",
       "│ ENSG00000 ┆ FARP1     ┆ 6.940183  ┆ 7.49388   ┆ … ┆ 6.001296  ┆ 6.299561  ┆ 7.777429  ┆ 6.503437 │\n",
       "│ 152767    ┆           ┆           ┆           ┆   ┆           ┆           ┆           ┆          │\n",
       "│ ENSG00000 ┆ C19orf76  ┆ 6.154172  ┆ 5.498171  ┆ … ┆ 5.256311  ┆ 6.059971  ┆ 6.393223  ┆ 4.967428 │\n",
       "│ 224420    ┆           ┆           ┆           ┆   ┆           ┆           ┆           ┆          │\n",
       "└───────────┴───────────┴───────────┴───────────┴───┴───────────┴───────────┴───────────┴──────────┘"
      ]
     },
     "execution_count": 197,
     "metadata": {},
     "output_type": "execute_result"
    }
   ],
   "source": [
    "preprocess_seq_data(df=mrna, annotation_cols=[\"GENE_ID\", \"GENE_NAME\"], min_median_expression=100, min_detection_rate=0.2, top_n=3000, output_path=\"mds_data/preprocessed/mrna.csv\")"
   ]
  },
  {
   "cell_type": "code",
   "execution_count": 188,
   "metadata": {},
   "outputs": [
    {
     "data": {
      "text/html": [
       "<div><style>\n",
       ".dataframe > thead > tr,\n",
       ".dataframe > tbody > tr {\n",
       "  text-align: right;\n",
       "  white-space: pre-wrap;\n",
       "}\n",
       "</style>\n",
       "<small>shape: (1_481, 67)</small><table border=\"1\" class=\"dataframe\"><thead><tr><th>miRNA</th><th>N58</th><th>N60</th><th>N70</th><th>N82</th><th>N83</th><th>N84</th><th>N85</th><th>V1048</th><th>V108</th><th>V1090</th><th>V125</th><th>V1279</th><th>V1297</th><th>V1321</th><th>V1337</th><th>V1394</th><th>V1441</th><th>V1456</th><th>V148</th><th>V1505</th><th>V1528</th><th>V1565</th><th>V1591</th><th>V1592</th><th>V1699</th><th>V1708</th><th>V1742</th><th>V1776</th><th>V1788</th><th>V18</th><th>V1800</th><th>V1823</th><th>V1834</th><th>V1857</th><th>V1860</th><th>V1874</th><th>V1884</th><th>V1920</th><th>V1921</th><th>V2089</th><th>V2092</th><th>V2110</th><th>V2133</th><th>V221</th><th>V344</th><th>V359</th><th>V406</th><th>V456</th><th>V513</th><th>V538</th><th>V553</th><th>V574</th><th>V624</th><th>V630</th><th>V637</th><th>V655</th><th>V67</th><th>V712</th><th>V714</th><th>V716</th><th>V777</th><th>V806</th><th>V839</th><th>V883</th><th>V888</th><th>V940</th></tr><tr><td>str</td><td>f64</td><td>f64</td><td>f64</td><td>f64</td><td>f64</td><td>f64</td><td>f64</td><td>f64</td><td>f64</td><td>f64</td><td>f64</td><td>f64</td><td>f64</td><td>f64</td><td>f64</td><td>f64</td><td>f64</td><td>f64</td><td>f64</td><td>f64</td><td>f64</td><td>f64</td><td>f64</td><td>f64</td><td>f64</td><td>f64</td><td>f64</td><td>f64</td><td>f64</td><td>f64</td><td>f64</td><td>f64</td><td>f64</td><td>f64</td><td>f64</td><td>f64</td><td>f64</td><td>f64</td><td>f64</td><td>f64</td><td>f64</td><td>f64</td><td>f64</td><td>f64</td><td>f64</td><td>f64</td><td>f64</td><td>f64</td><td>f64</td><td>f64</td><td>f64</td><td>f64</td><td>f64</td><td>f64</td><td>f64</td><td>f64</td><td>f64</td><td>f64</td><td>f64</td><td>f64</td><td>f64</td><td>f64</td><td>f64</td><td>f64</td><td>f64</td><td>f64</td></tr></thead><tbody><tr><td>&quot;hsa-miR-4707-3p&quot;</td><td>1.437319</td><td>2.868655</td><td>2.611191</td><td>1.96315</td><td>1.261456</td><td>1.819225</td><td>2.300344</td><td>3.857893</td><td>1.977615</td><td>1.612355</td><td>2.736769</td><td>1.95294</td><td>1.782329</td><td>0.987596</td><td>1.575661</td><td>1.22627</td><td>0.910819</td><td>2.307684</td><td>2.353511</td><td>2.625116</td><td>1.840606</td><td>2.634192</td><td>2.512477</td><td>1.022918</td><td>1.676363</td><td>0.0</td><td>2.183077</td><td>2.599831</td><td>1.68106</td><td>0.0</td><td>1.683612</td><td>1.801399</td><td>1.523008</td><td>10.816231</td><td>2.027256</td><td>0.680056</td><td>0.0</td><td>2.804438</td><td>2.568437</td><td>2.003521</td><td>3.42994</td><td>3.883035</td><td>4.300455</td><td>0.730621</td><td>1.577371</td><td>2.291888</td><td>1.651564</td><td>1.21204</td><td>1.846952</td><td>2.044078</td><td>2.968013</td><td>2.761515</td><td>2.915449</td><td>1.338999</td><td>2.617268</td><td>2.71419</td><td>1.020286</td><td>1.976244</td><td>2.350208</td><td>2.084655</td><td>0.0</td><td>2.853775</td><td>3.321994</td><td>2.338173</td><td>1.985976</td><td>5.661481</td></tr><tr><td>&quot;hsa-miR-4317&quot;</td><td>0.0</td><td>0.0</td><td>2.491443</td><td>1.418228</td><td>1.469891</td><td>2.028103</td><td>1.7567</td><td>2.179682</td><td>0.918714</td><td>1.294169</td><td>1.95474</td><td>1.168984</td><td>1.904883</td><td>0.0</td><td>0.0</td><td>0.968545</td><td>0.0</td><td>1.719866</td><td>1.743709</td><td>1.657133</td><td>2.359118</td><td>2.238846</td><td>1.566001</td><td>0.0</td><td>0.0</td><td>0.950629</td><td>0.0</td><td>1.406375</td><td>0.0</td><td>0.866447</td><td>0.0</td><td>1.725976</td><td>0.0</td><td>3.147094</td><td>1.519918</td><td>0.634146</td><td>1.611668</td><td>0.0</td><td>1.793202</td><td>2.094741</td><td>8.919123</td><td>3.179177</td><td>0.0</td><td>0.943429</td><td>1.491448</td><td>1.316155</td><td>1.517217</td><td>0.0</td><td>0.0</td><td>0.0</td><td>2.334624</td><td>2.070472</td><td>0.0</td><td>0.915061</td><td>0.0</td><td>1.485195</td><td>1.15962</td><td>0.0</td><td>1.443037</td><td>0.0</td><td>0.0</td><td>1.411989</td><td>0.0</td><td>1.929196</td><td>1.086277</td><td>2.4986</td></tr><tr><td>&quot;hsa-miR-510-3p&quot;</td><td>8.521073</td><td>8.331569</td><td>7.206841</td><td>7.832334</td><td>7.761779</td><td>7.621583</td><td>7.515796</td><td>8.858364</td><td>6.823789</td><td>6.825742</td><td>8.20419</td><td>6.6295</td><td>6.002929</td><td>5.615593</td><td>7.215579</td><td>5.670966</td><td>6.164486</td><td>7.530656</td><td>8.372939</td><td>6.613607</td><td>6.467872</td><td>9.112306</td><td>8.154453</td><td>7.690422</td><td>7.575755</td><td>5.634325</td><td>7.795855</td><td>7.577814</td><td>6.420217</td><td>8.625506</td><td>5.680818</td><td>11.308101</td><td>5.735568</td><td>16.646321</td><td>7.362756</td><td>8.561969</td><td>7.451579</td><td>8.264114</td><td>9.650701</td><td>6.984423</td><td>7.075258</td><td>7.650473</td><td>10.29136</td><td>5.981327</td><td>7.40725</td><td>7.260454</td><td>6.248953</td><td>6.438578</td><td>7.679142</td><td>6.253436</td><td>9.257809</td><td>9.451838</td><td>7.294966</td><td>6.919408</td><td>11.429695</td><td>8.543727</td><td>7.266277</td><td>8.157708</td><td>7.850544</td><td>7.953444</td><td>6.198886</td><td>7.395316</td><td>8.725328</td><td>7.67784</td><td>6.837269</td><td>8.24584</td></tr><tr><td>&quot;hsa-miR-1203&quot;</td><td>2.467375</td><td>3.940989</td><td>3.784001</td><td>3.294088</td><td>2.212001</td><td>2.140301</td><td>3.045564</td><td>4.524436</td><td>2.906916</td><td>2.21129</td><td>4.014962</td><td>1.806145</td><td>1.551647</td><td>0.0</td><td>1.638199</td><td>4.27113</td><td>0.910819</td><td>3.610628</td><td>2.012233</td><td>1.705574</td><td>2.464095</td><td>2.690704</td><td>3.518252</td><td>2.098863</td><td>3.064153</td><td>0.0</td><td>2.183077</td><td>3.782979</td><td>1.176919</td><td>1.693459</td><td>2.456725</td><td>4.869333</td><td>3.557643</td><td>12.114166</td><td>3.415263</td><td>1.381767</td><td>2.941513</td><td>8.946766</td><td>2.678376</td><td>3.894443</td><td>4.153857</td><td>6.224417</td><td>5.654182</td><td>1.1717</td><td>2.934128</td><td>2.291888</td><td>2.182225</td><td>3.974116</td><td>2.657119</td><td>2.425925</td><td>5.205245</td><td>2.20576</td><td>4.160133</td><td>2.397042</td><td>3.204358</td><td>2.201352</td><td>0.970682</td><td>4.391799</td><td>2.558838</td><td>1.457095</td><td>1.307781</td><td>1.334922</td><td>4.320428</td><td>2.148128</td><td>2.703579</td><td>7.201495</td></tr><tr><td>&quot;hsa-miR-4655-5p&quot;</td><td>1.028397</td><td>1.858618</td><td>2.057756</td><td>2.003828</td><td>1.204277</td><td>1.344454</td><td>1.651371</td><td>3.399611</td><td>1.649399</td><td>1.221151</td><td>1.92193</td><td>1.856755</td><td>1.393163</td><td>0.88895</td><td>1.369928</td><td>0.0</td><td>0.0</td><td>1.827393</td><td>1.564358</td><td>1.657133</td><td>1.732679</td><td>2.200438</td><td>2.00238</td><td>0.0</td><td>0.0</td><td>0.0</td><td>1.470201</td><td>2.546478</td><td>1.125735</td><td>0.0</td><td>1.242711</td><td>3.251263</td><td>1.475189</td><td>9.501852</td><td>1.519918</td><td>1.002645</td><td>1.224308</td><td>3.179175</td><td>1.337122</td><td>2.915136</td><td>3.411387</td><td>3.459814</td><td>4.096487</td><td>0.0</td><td>1.535049</td><td>1.38108</td><td>1.469503</td><td>1.305416</td><td>1.303397</td><td>2.199346</td><td>2.598185</td><td>1.754619</td><td>2.152034</td><td>1.033283</td><td>1.610864</td><td>2.251779</td><td>0.919311</td><td>1.593396</td><td>1.757045</td><td>0.0</td><td>1.165182</td><td>1.411989</td><td>2.046349</td><td>0.0</td><td>1.786904</td><td>4.819859</td></tr><tr><td>&hellip;</td><td>&hellip;</td><td>&hellip;</td><td>&hellip;</td><td>&hellip;</td><td>&hellip;</td><td>&hellip;</td><td>&hellip;</td><td>&hellip;</td><td>&hellip;</td><td>&hellip;</td><td>&hellip;</td><td>&hellip;</td><td>&hellip;</td><td>&hellip;</td><td>&hellip;</td><td>&hellip;</td><td>&hellip;</td><td>&hellip;</td><td>&hellip;</td><td>&hellip;</td><td>&hellip;</td><td>&hellip;</td><td>&hellip;</td><td>&hellip;</td><td>&hellip;</td><td>&hellip;</td><td>&hellip;</td><td>&hellip;</td><td>&hellip;</td><td>&hellip;</td><td>&hellip;</td><td>&hellip;</td><td>&hellip;</td><td>&hellip;</td><td>&hellip;</td><td>&hellip;</td><td>&hellip;</td><td>&hellip;</td><td>&hellip;</td><td>&hellip;</td><td>&hellip;</td><td>&hellip;</td><td>&hellip;</td><td>&hellip;</td><td>&hellip;</td><td>&hellip;</td><td>&hellip;</td><td>&hellip;</td><td>&hellip;</td><td>&hellip;</td><td>&hellip;</td><td>&hellip;</td><td>&hellip;</td><td>&hellip;</td><td>&hellip;</td><td>&hellip;</td><td>&hellip;</td><td>&hellip;</td><td>&hellip;</td><td>&hellip;</td><td>&hellip;</td><td>&hellip;</td><td>&hellip;</td><td>&hellip;</td><td>&hellip;</td><td>&hellip;</td></tr><tr><td>&quot;hsa-miR-505-3p&quot;</td><td>5.813925</td><td>4.787444</td><td>5.13205</td><td>6.150255</td><td>5.894901</td><td>6.249783</td><td>6.13658</td><td>7.64054</td><td>5.590744</td><td>5.931464</td><td>6.156691</td><td>6.045456</td><td>5.692865</td><td>5.70348</td><td>6.27284</td><td>5.844364</td><td>5.706159</td><td>5.913204</td><td>6.186635</td><td>6.370516</td><td>6.79746</td><td>6.547031</td><td>6.813855</td><td>5.524623</td><td>6.27093</td><td>5.601948</td><td>5.888054</td><td>6.470982</td><td>6.512771</td><td>6.093064</td><td>4.456274</td><td>6.608551</td><td>5.230394</td><td>7.440369</td><td>6.743245</td><td>5.124075</td><td>6.1911</td><td>6.106777</td><td>6.261837</td><td>6.438179</td><td>6.661821</td><td>6.357479</td><td>5.795841</td><td>5.897639</td><td>5.575105</td><td>6.308943</td><td>5.815391</td><td>4.50373</td><td>6.362991</td><td>6.023344</td><td>5.474925</td><td>6.083046</td><td>5.795417</td><td>6.274399</td><td>5.430089</td><td>5.85627</td><td>5.227707</td><td>6.214807</td><td>6.262376</td><td>5.480225</td><td>5.808986</td><td>6.48078</td><td>6.763068</td><td>5.630038</td><td>6.203694</td><td>7.088642</td></tr><tr><td>&quot;hsa-miR-766-5p&quot;</td><td>3.07499</td><td>2.76097</td><td>2.522325</td><td>2.900582</td><td>3.047251</td><td>3.156495</td><td>3.327849</td><td>3.218339</td><td>3.143357</td><td>2.575849</td><td>2.828141</td><td>3.338324</td><td>2.927483</td><td>2.182172</td><td>3.28024</td><td>2.271266</td><td>2.43311</td><td>2.577842</td><td>3.250196</td><td>3.199246</td><td>3.501619</td><td>3.034282</td><td>3.305837</td><td>3.150709</td><td>3.041695</td><td>1.754539</td><td>2.507642</td><td>3.341117</td><td>2.805177</td><td>2.854505</td><td>2.908198</td><td>3.475067</td><td>2.383017</td><td>3.916987</td><td>3.369988</td><td>2.648297</td><td>3.088241</td><td>3.843288</td><td>3.204679</td><td>3.344855</td><td>3.122966</td><td>3.495794</td><td>2.747446</td><td>2.168183</td><td>2.500467</td><td>2.675134</td><td>2.739907</td><td>2.189887</td><td>3.451258</td><td>2.976916</td><td>3.058334</td><td>3.178272</td><td>3.229851</td><td>2.879818</td><td>4.535242</td><td>3.198459</td><td>2.030323</td><td>1.871665</td><td>3.499981</td><td>2.167069</td><td>2.819207</td><td>2.768424</td><td>2.695668</td><td>2.656453</td><td>3.244197</td><td>2.756775</td></tr><tr><td>&quot;hsa-miR-3915&quot;</td><td>1.847753</td><td>3.36186</td><td>3.213107</td><td>3.19217</td><td>2.780095</td><td>3.045599</td><td>3.145923</td><td>4.051015</td><td>2.923943</td><td>2.485202</td><td>2.947057</td><td>2.779912</td><td>2.452328</td><td>1.434912</td><td>2.739431</td><td>1.97614</td><td>1.333535</td><td>3.214762</td><td>2.434103</td><td>2.878525</td><td>3.190939</td><td>2.416901</td><td>3.24746</td><td>2.62296</td><td>3.192021</td><td>1.790345</td><td>2.681668</td><td>2.818151</td><td>2.209512</td><td>2.269586</td><td>1.925211</td><td>2.953558</td><td>1.657631</td><td>3.642214</td><td>2.945217</td><td>1.002645</td><td>1.99323</td><td>3.843288</td><td>2.87592</td><td>3.51964</td><td>2.471041</td><td>3.56517</td><td>4.51235</td><td>1.667149</td><td>2.208961</td><td>2.451554</td><td>2.997101</td><td>2.497484</td><td>3.079531</td><td>3.519255</td><td>3.969031</td><td>2.497104</td><td>3.396418</td><td>2.329318</td><td>1.954601</td><td>3.091766</td><td>2.005906</td><td>2.873397</td><td>3.201313</td><td>1.582515</td><td>2.770777</td><td>2.881138</td><td>3.531787</td><td>2.620301</td><td>2.37481</td><td>3.944586</td></tr><tr><td>&quot;hsa-miR-103b&quot;</td><td>8.255029</td><td>8.819859</td><td>8.755532</td><td>8.694311</td><td>8.322652</td><td>8.366231</td><td>8.248476</td><td>9.444442</td><td>7.522033</td><td>8.082241</td><td>8.322044</td><td>8.718554</td><td>8.771537</td><td>7.730089</td><td>8.509887</td><td>7.751314</td><td>7.824188</td><td>8.256102</td><td>8.428093</td><td>8.972458</td><td>8.90072</td><td>9.109718</td><td>8.912276</td><td>8.217978</td><td>8.567063</td><td>8.225445</td><td>8.788193</td><td>8.125148</td><td>8.813943</td><td>8.674909</td><td>7.249996</td><td>9.35588</td><td>8.530168</td><td>8.661122</td><td>8.912231</td><td>8.184181</td><td>8.485192</td><td>9.380139</td><td>8.926746</td><td>8.911443</td><td>9.023977</td><td>9.231308</td><td>9.70008</td><td>7.608657</td><td>7.74034</td><td>9.30788</td><td>8.267288</td><td>7.157962</td><td>8.742572</td><td>8.971845</td><td>9.031934</td><td>9.160614</td><td>8.488311</td><td>8.613428</td><td>6.959611</td><td>8.815577</td><td>8.26416</td><td>8.426607</td><td>8.76387</td><td>8.014541</td><td>8.327705</td><td>9.009072</td><td>9.065401</td><td>8.553703</td><td>8.741949</td><td>10.019022</td></tr><tr><td>&quot;hsa-miR-6873-3p&quot;</td><td>2.190577</td><td>2.644595</td><td>2.824447</td><td>3.174461</td><td>2.928701</td><td>2.771358</td><td>3.426922</td><td>4.032825</td><td>2.323926</td><td>3.088115</td><td>2.792283</td><td>2.726482</td><td>3.733431</td><td>2.282733</td><td>2.491002</td><td>2.066797</td><td>2.12447</td><td>2.856973</td><td>3.008425</td><td>2.940554</td><td>3.017817</td><td>3.311571</td><td>2.862878</td><td>2.808284</td><td>2.92384</td><td>1.957149</td><td>3.014788</td><td>3.341117</td><td>3.058175</td><td>2.598508</td><td>2.153353</td><td>3.224109</td><td>2.599203</td><td>4.147707</td><td>2.924489</td><td>2.340524</td><td>2.382641</td><td>3.722679</td><td>2.921351</td><td>2.578376</td><td>3.028733</td><td>3.306187</td><td>3.751644</td><td>2.189194</td><td>2.432925</td><td>3.227589</td><td>3.326618</td><td>2.436868</td><td>2.657119</td><td>2.918501</td><td>3.822081</td><td>3.076015</td><td>3.487846</td><td>2.815272</td><td>2.755352</td><td>3.456718</td><td>2.727156</td><td>3.320114</td><td>3.301453</td><td>2.520528</td><td>3.039611</td><td>3.341375</td><td>4.277407</td><td>2.91705</td><td>2.748115</td><td>4.260213</td></tr></tbody></table></div>"
      ],
      "text/plain": [
       "shape: (1_481, 67)\n",
       "┌────────────────┬──────────┬──────────┬──────────┬───┬──────────┬──────────┬──────────┬───────────┐\n",
       "│ miRNA          ┆ N58      ┆ N60      ┆ N70      ┆ … ┆ V839     ┆ V883     ┆ V888     ┆ V940      │\n",
       "│ ---            ┆ ---      ┆ ---      ┆ ---      ┆   ┆ ---      ┆ ---      ┆ ---      ┆ ---       │\n",
       "│ str            ┆ f64      ┆ f64      ┆ f64      ┆   ┆ f64      ┆ f64      ┆ f64      ┆ f64       │\n",
       "╞════════════════╪══════════╪══════════╪══════════╪═══╪══════════╪══════════╪══════════╪═══════════╡\n",
       "│ hsa-miR-4707-3 ┆ 1.437319 ┆ 2.868655 ┆ 2.611191 ┆ … ┆ 3.321994 ┆ 2.338173 ┆ 1.985976 ┆ 5.661481  │\n",
       "│ p              ┆          ┆          ┆          ┆   ┆          ┆          ┆          ┆           │\n",
       "│ hsa-miR-4317   ┆ 0.0      ┆ 0.0      ┆ 2.491443 ┆ … ┆ 0.0      ┆ 1.929196 ┆ 1.086277 ┆ 2.4986    │\n",
       "│ hsa-miR-510-3p ┆ 8.521073 ┆ 8.331569 ┆ 7.206841 ┆ … ┆ 8.725328 ┆ 7.67784  ┆ 6.837269 ┆ 8.24584   │\n",
       "│ hsa-miR-1203   ┆ 2.467375 ┆ 3.940989 ┆ 3.784001 ┆ … ┆ 4.320428 ┆ 2.148128 ┆ 2.703579 ┆ 7.201495  │\n",
       "│ hsa-miR-4655-5 ┆ 1.028397 ┆ 1.858618 ┆ 2.057756 ┆ … ┆ 2.046349 ┆ 0.0      ┆ 1.786904 ┆ 4.819859  │\n",
       "│ p              ┆          ┆          ┆          ┆   ┆          ┆          ┆          ┆           │\n",
       "│ …              ┆ …        ┆ …        ┆ …        ┆ … ┆ …        ┆ …        ┆ …        ┆ …         │\n",
       "│ hsa-miR-505-3p ┆ 5.813925 ┆ 4.787444 ┆ 5.13205  ┆ … ┆ 6.763068 ┆ 5.630038 ┆ 6.203694 ┆ 7.088642  │\n",
       "│ hsa-miR-766-5p ┆ 3.07499  ┆ 2.76097  ┆ 2.522325 ┆ … ┆ 2.695668 ┆ 2.656453 ┆ 3.244197 ┆ 2.756775  │\n",
       "│ hsa-miR-3915   ┆ 1.847753 ┆ 3.36186  ┆ 3.213107 ┆ … ┆ 3.531787 ┆ 2.620301 ┆ 2.37481  ┆ 3.944586  │\n",
       "│ hsa-miR-103b   ┆ 8.255029 ┆ 8.819859 ┆ 8.755532 ┆ … ┆ 9.065401 ┆ 8.553703 ┆ 8.741949 ┆ 10.019022 │\n",
       "│ hsa-miR-6873-3 ┆ 2.190577 ┆ 2.644595 ┆ 2.824447 ┆ … ┆ 4.277407 ┆ 2.91705  ┆ 2.748115 ┆ 4.260213  │\n",
       "│ p              ┆          ┆          ┆          ┆   ┆          ┆          ┆          ┆           │\n",
       "└────────────────┴──────────┴──────────┴──────────┴───┴──────────┴──────────┴──────────┴───────────┘"
      ]
     },
     "execution_count": 188,
     "metadata": {},
     "output_type": "execute_result"
    }
   ],
   "source": [
    "preprocess_seq_data(df=mirna, annotation_cols=[\"miRNA\"], min_median_expression=10, min_detection_rate=0.2, top_n=1500, output_path=\"mds_data/preprocessed/mirna.csv\")"
   ]
  },
  {
   "cell_type": "code",
   "execution_count": 189,
   "metadata": {},
   "outputs": [
    {
     "data": {
      "text/html": [
       "<div><style>\n",
       ".dataframe > thead > tr,\n",
       ".dataframe > tbody > tr {\n",
       "  text-align: right;\n",
       "  white-space: pre-wrap;\n",
       "}\n",
       "</style>\n",
       "<small>shape: (645, 71)</small><table border=\"1\" class=\"dataframe\"><thead><tr><th>STRAND</th><th>circRNA_ID</th><th>GENE_ID</th><th>GENE_TYPE</th><th>GENE_NAME</th><th>N58</th><th>N60</th><th>N70</th><th>N82</th><th>N83</th><th>N84</th><th>N85</th><th>V1048</th><th>V108</th><th>V1090</th><th>V125</th><th>V1279</th><th>V1297</th><th>V1321</th><th>V1337</th><th>V1394</th><th>V1441</th><th>V1456</th><th>V148</th><th>V1505</th><th>V1528</th><th>V1565</th><th>V1591</th><th>V1592</th><th>V1699</th><th>V1708</th><th>V1742</th><th>V1776</th><th>V1788</th><th>V18</th><th>V1800</th><th>V1823</th><th>V1834</th><th>V1857</th><th>V1860</th><th>V1874</th><th>V1884</th><th>V1920</th><th>V1921</th><th>V2089</th><th>V2092</th><th>V2110</th><th>V2133</th><th>V221</th><th>V344</th><th>V359</th><th>V406</th><th>V456</th><th>V513</th><th>V538</th><th>V553</th><th>V574</th><th>V624</th><th>V630</th><th>V637</th><th>V655</th><th>V67</th><th>V712</th><th>V714</th><th>V716</th><th>V777</th><th>V806</th><th>V839</th><th>V883</th><th>V888</th><th>V940</th></tr><tr><td>str</td><td>str</td><td>str</td><td>str</td><td>str</td><td>f64</td><td>f64</td><td>f64</td><td>f64</td><td>f64</td><td>f64</td><td>f64</td><td>f64</td><td>f64</td><td>f64</td><td>f64</td><td>f64</td><td>f64</td><td>f64</td><td>f64</td><td>f64</td><td>f64</td><td>f64</td><td>f64</td><td>f64</td><td>f64</td><td>f64</td><td>f64</td><td>f64</td><td>f64</td><td>f64</td><td>f64</td><td>f64</td><td>f64</td><td>f64</td><td>f64</td><td>f64</td><td>f64</td><td>f64</td><td>f64</td><td>f64</td><td>f64</td><td>f64</td><td>f64</td><td>f64</td><td>f64</td><td>f64</td><td>f64</td><td>f64</td><td>f64</td><td>f64</td><td>f64</td><td>f64</td><td>f64</td><td>f64</td><td>f64</td><td>f64</td><td>f64</td><td>f64</td><td>f64</td><td>f64</td><td>f64</td><td>f64</td><td>f64</td><td>f64</td><td>f64</td><td>f64</td><td>f64</td><td>f64</td><td>f64</td><td>f64</td></tr></thead><tbody><tr><td>&quot;+&quot;</td><td>&quot;hsa_circ_0001387&quot;</td><td>&quot;ENSG00000109685&quot;</td><td>&quot;protein_coding&quot;</td><td>&quot;NSD2&quot;</td><td>8.450247</td><td>9.50236</td><td>9.273534</td><td>9.675946</td><td>9.180145</td><td>8.892947</td><td>9.673358</td><td>0.0</td><td>0.0</td><td>7.734399</td><td>9.357757</td><td>8.225304</td><td>9.105657</td><td>7.535502</td><td>9.523741</td><td>6.077786</td><td>7.314609</td><td>10.084417</td><td>11.34087</td><td>10.010991</td><td>8.640138</td><td>10.072279</td><td>10.292926</td><td>8.541385</td><td>9.906549</td><td>8.257142</td><td>10.097526</td><td>9.651289</td><td>8.62221</td><td>9.96775</td><td>8.859867</td><td>10.528114</td><td>9.369982</td><td>9.595812</td><td>9.556637</td><td>11.642622</td><td>9.537085</td><td>9.733417</td><td>8.63642</td><td>11.697294</td><td>9.665389</td><td>0.0</td><td>0.0</td><td>7.829564</td><td>9.543215</td><td>10.219459</td><td>9.891581</td><td>8.402509</td><td>9.832489</td><td>8.368302</td><td>9.899485</td><td>8.761428</td><td>8.905724</td><td>9.307617</td><td>0.0</td><td>10.287065</td><td>10.198622</td><td>8.726896</td><td>13.09702</td><td>9.105965</td><td>11.040003</td><td>9.102624</td><td>10.044361</td><td>10.497765</td><td>10.057587</td><td>9.17709</td></tr><tr><td>&quot;-&quot;</td><td>&quot;hsa_circ_0002484&quot;</td><td>&quot;ENSG00000196323&quot;</td><td>&quot;protein_coding&quot;</td><td>&quot;ZBTB44&quot;</td><td>11.304668</td><td>10.863714</td><td>11.569357</td><td>11.567741</td><td>11.763033</td><td>11.553355</td><td>12.077916</td><td>11.372927</td><td>11.901279</td><td>11.313138</td><td>11.858446</td><td>11.957804</td><td>11.562944</td><td>11.864375</td><td>11.770121</td><td>11.963519</td><td>11.553925</td><td>11.94595</td><td>12.366122</td><td>11.679884</td><td>11.280953</td><td>12.028215</td><td>11.462212</td><td>11.823308</td><td>11.671022</td><td>12.060111</td><td>11.141242</td><td>12.042153</td><td>15.027978</td><td>11.461585</td><td>11.179308</td><td>10.528114</td><td>10.854007</td><td>10.180153</td><td>11.614074</td><td>12.368268</td><td>11.651068</td><td>11.246888</td><td>11.333789</td><td>12.535352</td><td>11.936998</td><td>12.223559</td><td>11.487746</td><td>11.216131</td><td>11.657204</td><td>11.218854</td><td>14.251592</td><td>11.305699</td><td>10.738641</td><td>11.027586</td><td>11.942734</td><td>11.421591</td><td>11.260853</td><td>11.746331</td><td>12.040887</td><td>10.734216</td><td>11.079416</td><td>11.85316</td><td>12.887593</td><td>9.742459</td><td>12.277768</td><td>12.069959</td><td>11.517418</td><td>11.719587</td><td>11.163777</td><td>10.634935</td></tr><tr><td>&quot;+&quot;</td><td>&quot;hsa_circ_0007848&quot;</td><td>&quot;ENSG00000270106&quot;</td><td>&quot;protein_coding&quot;</td><td>&quot;TSNAX-DISC1&quot;</td><td>10.534552</td><td>10.153713</td><td>9.273534</td><td>9.86837</td><td>10.401115</td><td>10.00679</td><td>10.520569</td><td>11.220984</td><td>11.34203</td><td>9.314838</td><td>11.019217</td><td>11.028521</td><td>11.103691</td><td>11.089082</td><td>11.107396</td><td>12.471559</td><td>11.905806</td><td>10.209837</td><td>10.533932</td><td>8.554004</td><td>10.444907</td><td>10.443943</td><td>8.296372</td><td>10.997645</td><td>9.584997</td><td>10.253601</td><td>10.620687</td><td>10.457875</td><td>10.426947</td><td>10.89995</td><td>11.80712</td><td>0.0</td><td>11.953127</td><td>9.595812</td><td>9.971195</td><td>10.402229</td><td>10.1214</td><td>8.513282</td><td>10.218963</td><td>10.297469</td><td>10.539051</td><td>0.0</td><td>11.902658</td><td>10.824004</td><td>10.372444</td><td>9.978671</td><td>10.043432</td><td>10.306269</td><td>9.417979</td><td>10.949621</td><td>10.898729</td><td>9.175634</td><td>10.947838</td><td>10.668795</td><td>10.62642</td><td>11.149042</td><td>10.650804</td><td>10.424976</td><td>10.004285</td><td>10.104655</td><td>10.214562</td><td>10.837752</td><td>10.78078</td><td>10.23493</td><td>10.526696</td><td>8.762883</td></tr><tr><td>&quot;-&quot;</td><td>&quot;hsa_circ_0002711&quot;</td><td>&quot;ENSG00000180530&quot;</td><td>&quot;protein_coding&quot;</td><td>&quot;NRIP1&quot;</td><td>11.304668</td><td>11.217183</td><td>12.427968</td><td>11.390925</td><td>10.841407</td><td>10.213053</td><td>10.672474</td><td>9.053173</td><td>10.416531</td><td>9.899046</td><td>10.231227</td><td>10.337068</td><td>8.108273</td><td>13.118828</td><td>9.845277</td><td>7.648438</td><td>8.631089</td><td>11.431534</td><td>9.704614</td><td>10.136406</td><td>10.338072</td><td>12.443166</td><td>11.292351</td><td>0.0</td><td>10.391546</td><td>9.254782</td><td>10.184912</td><td>9.972858</td><td>10.07931</td><td>10.093161</td><td>11.125893</td><td>10.528114</td><td>10.047236</td><td>11.594413</td><td>9.293985</td><td>11.527182</td><td>8.953093</td><td>12.990633</td><td>10.803522</td><td>8.656047</td><td>11.538566</td><td>0.0</td><td>12.487495</td><td>9.994547</td><td>10.073135</td><td>10.326287</td><td>11.52798</td><td>13.256367</td><td>11.355019</td><td>10.102208</td><td>0.0</td><td>10.174386</td><td>6.91472</td><td>11.498482</td><td>0.0</td><td>9.413558</td><td>10.198622</td><td>10.531816</td><td>12.13565</td><td>12.634086</td><td>13.245917</td><td>9.517005</td><td>7.87921</td><td>9.72087</td><td>10.444292</td><td>11.345075</td></tr><tr><td>&quot;-&quot;</td><td>&quot;hsa_circ_0000551&quot;</td><td>&quot;ENSG00000100678&quot;</td><td>&quot;protein_coding&quot;</td><td>&quot;SLC8A3&quot;</td><td>10.694915</td><td>10.693886</td><td>10.774525</td><td>0.0</td><td>9.764278</td><td>9.766036</td><td>9.351871</td><td>8.63904</td><td>0.0</td><td>10.728459</td><td>10.093843</td><td>9.444939</td><td>0.0</td><td>11.415758</td><td>7.529609</td><td>7.936637</td><td>10.394053</td><td>0.0</td><td>9.342537</td><td>9.552084</td><td>9.223894</td><td>9.891885</td><td>9.615544</td><td>7.545252</td><td>9.170585</td><td>11.867514</td><td>8.422348</td><td>10.351038</td><td>8.791728</td><td>10.093161</td><td>8.57105</td><td>0.0</td><td>8.051321</td><td>9.595812</td><td>8.972632</td><td>10.112959</td><td>0.0</td><td>11.246888</td><td>8.22259</td><td>7.246958</td><td>9.081315</td><td>8.953153</td><td>10.903035</td><td>8.412411</td><td>7.962115</td><td>8.842882</td><td>7.726962</td><td>11.890472</td><td>10.416924</td><td>9.588197</td><td>0.0</td><td>0.0</td><td>6.91472</td><td>9.499977</td><td>0.0</td><td>8.415672</td><td>9.950925</td><td>10.811752</td><td>9.112404</td><td>8.260061</td><td>11.96373</td><td>10.422977</td><td>8.876143</td><td>10.613165</td><td>0.0</td><td>0.0</td></tr><tr><td>&hellip;</td><td>&hellip;</td><td>&hellip;</td><td>&hellip;</td><td>&hellip;</td><td>&hellip;</td><td>&hellip;</td><td>&hellip;</td><td>&hellip;</td><td>&hellip;</td><td>&hellip;</td><td>&hellip;</td><td>&hellip;</td><td>&hellip;</td><td>&hellip;</td><td>&hellip;</td><td>&hellip;</td><td>&hellip;</td><td>&hellip;</td><td>&hellip;</td><td>&hellip;</td><td>&hellip;</td><td>&hellip;</td><td>&hellip;</td><td>&hellip;</td><td>&hellip;</td><td>&hellip;</td><td>&hellip;</td><td>&hellip;</td><td>&hellip;</td><td>&hellip;</td><td>&hellip;</td><td>&hellip;</td><td>&hellip;</td><td>&hellip;</td><td>&hellip;</td><td>&hellip;</td><td>&hellip;</td><td>&hellip;</td><td>&hellip;</td><td>&hellip;</td><td>&hellip;</td><td>&hellip;</td><td>&hellip;</td><td>&hellip;</td><td>&hellip;</td><td>&hellip;</td><td>&hellip;</td><td>&hellip;</td><td>&hellip;</td><td>&hellip;</td><td>&hellip;</td><td>&hellip;</td><td>&hellip;</td><td>&hellip;</td><td>&hellip;</td><td>&hellip;</td><td>&hellip;</td><td>&hellip;</td><td>&hellip;</td><td>&hellip;</td><td>&hellip;</td><td>&hellip;</td><td>&hellip;</td><td>&hellip;</td><td>&hellip;</td><td>&hellip;</td><td>&hellip;</td><td>&hellip;</td><td>&hellip;</td><td>&hellip;</td></tr><tr><td>&quot;+&quot;</td><td>&quot;hsa_circ_0006354&quot;</td><td>&quot;ENSG00000049245&quot;</td><td>&quot;protein_coding&quot;</td><td>&quot;VAMP3&quot;</td><td>10.44715</td><td>9.864488</td><td>9.594996</td><td>11.390925</td><td>10.841407</td><td>11.06051</td><td>11.157648</td><td>8.055886</td><td>11.486367</td><td>10.976253</td><td>10.858834</td><td>10.806244</td><td>11.627054</td><td>10.791553</td><td>11.329695</td><td>10.403108</td><td>9.891999</td><td>10.872354</td><td>9.993806</td><td>10.358615</td><td>11.222084</td><td>9.685668</td><td>11.37978</td><td>11.29297</td><td>11.284135</td><td>9.954313</td><td>10.556599</td><td>11.50797</td><td>11.142744</td><td>10.507869</td><td>10.352627</td><td>11.67958</td><td>11.746732</td><td>11.594413</td><td>11.614074</td><td>10.264832</td><td>10.950909</td><td>12.012178</td><td>10.881482</td><td>10.511436</td><td>8.083976</td><td>12.066053</td><td>10.903035</td><td>9.632381</td><td>11.416277</td><td>10.688608</td><td>10.627939</td><td>10.983914</td><td>11.475269</td><td>10.365024</td><td>12.068234</td><td>10.981206</td><td>10.48868</td><td>11.356514</td><td>10.62642</td><td>10.734216</td><td>10.038302</td><td>9.725192</td><td>10.390977</td><td>10.68918</td><td>10.214562</td><td>11.322953</td><td>10.78078</td><td>9.72087</td><td>11.111333</td><td>9.17709</td></tr><tr><td>&quot;-&quot;</td><td>&quot;hsa_circ_0001439&quot;</td><td>&quot;ENSG00000151466&quot;</td><td>&quot;protein_coding&quot;</td><td>&quot;SCLT1&quot;</td><td>11.905924</td><td>11.822696</td><td>11.617435</td><td>12.481788</td><td>12.177967</td><td>11.627331</td><td>11.904627</td><td>11.298955</td><td>11.416003</td><td>12.455786</td><td>11.578421</td><td>12.308223</td><td>12.595122</td><td>10.878968</td><td>11.981568</td><td>10.70099</td><td>10.89124</td><td>11.01667</td><td>11.742833</td><td>11.872474</td><td>11.806845</td><td>11.305973</td><td>11.684531</td><td>12.292683</td><td>12.283846</td><td>10.897031</td><td>11.306232</td><td>11.971781</td><td>11.451949</td><td>11.636614</td><td>11.755296</td><td>12.05799</td><td>12.000421</td><td>11.764286</td><td>11.555199</td><td>11.800116</td><td>11.038329</td><td>11.246888</td><td>12.333509</td><td>11.761406</td><td>10.986251</td><td>12.009483</td><td>11.902658</td><td>11.347323</td><td>11.501136</td><td>11.376332</td><td>11.674774</td><td>11.568639</td><td>11.875684</td><td>11.238995</td><td>11.805267</td><td>12.665212</td><td>11.857298</td><td>12.428982</td><td>11.36302</td><td>12.184341</td><td>11.342339</td><td>11.116454</td><td>12.003231</td><td>11.255937</td><td>12.426603</td><td>12.644543</td><td>11.78037</td><td>10.08306</td><td>12.188992</td><td>10.875803</td></tr><tr><td>&quot;-&quot;</td><td>&quot;hsa_circ_0001360&quot;</td><td>&quot;ENSG00000173889&quot;</td><td>&quot;protein_coding&quot;</td><td>&quot;PHC3&quot;</td><td>11.090634</td><td>10.501365</td><td>11.30152</td><td>10.452818</td><td>10.50058</td><td>10.113605</td><td>10.350767</td><td>11.220984</td><td>11.264058</td><td>11.187659</td><td>10.858834</td><td>11.028521</td><td>10.563421</td><td>9.907719</td><td>11.107396</td><td>9.380362</td><td>10.351017</td><td>11.01667</td><td>10.855665</td><td>11.135765</td><td>10.338072</td><td>10.891126</td><td>10.752044</td><td>10.445433</td><td>10.753878</td><td>9.838957</td><td>10.620687</td><td>10.97214</td><td>10.426947</td><td>9.678564</td><td>11.205293</td><td>12.164881</td><td>9.048599</td><td>11.179531</td><td>11.292261</td><td>9.850185</td><td>7.956001</td><td>11.094951</td><td>11.277228</td><td>11.045466</td><td>10.779909</td><td>11.066389</td><td>11.902658</td><td>10.283797</td><td>10.179954</td><td>10.518792</td><td>11.113105</td><td>9.984626</td><td>8.420087</td><td>10.365024</td><td>10.80567</td><td>10.981206</td><td>10.761525</td><td>10.95814</td><td>10.041914</td><td>10.99711</td><td>10.857135</td><td>11.367889</td><td>9.763532</td><td>10.68918</td><td>10.924583</td><td>10.908103</td><td>10.574456</td><td>11.234331</td><td>11.163777</td><td>11.345075</td></tr><tr><td>&quot;-&quot;</td><td>&quot;hsa_circ_0070039&quot;</td><td>&quot;ENSG00000138750&quot;</td><td>&quot;protein_coding&quot;</td><td>&quot;NUP54&quot;</td><td>10.44715</td><td>10.394526</td><td>9.775349</td><td>10.867598</td><td>11.052804</td><td>11.212446</td><td>10.994226</td><td>11.138558</td><td>10.094866</td><td>10.429095</td><td>10.47205</td><td>10.723829</td><td>11.103691</td><td>9.529658</td><td>11.277249</td><td>9.380362</td><td>10.476455</td><td>10.432056</td><td>10.341426</td><td>11.457564</td><td>11.280953</td><td>10.842242</td><td>10.292926</td><td>9.860988</td><td>10.831836</td><td>10.061124</td><td>10.954917</td><td>11.042495</td><td>10.263574</td><td>11.207927</td><td>9.569152</td><td>11.605602</td><td>11.216404</td><td>10.59488</td><td>9.971195</td><td>10.112959</td><td>10.273274</td><td>10.925108</td><td>10.803522</td><td>11.144956</td><td>11.327138</td><td>10.950968</td><td>0.0</td><td>10.631472</td><td>10.831579</td><td>10.104082</td><td>10.720992</td><td>8.986049</td><td>11.918742</td><td>10.239592</td><td>10.80567</td><td>9.759765</td><td>10.710929</td><td>10.89106</td><td>10.62642</td><td>10.827273</td><td>9.758488</td><td>10.046779</td><td>10.551329</td><td>10.182588</td><td>10.278639</td><td>10.908103</td><td>10.78078</td><td>10.720015</td><td>10.880121</td><td>9.983376</td></tr><tr><td>&quot;-&quot;</td><td>&quot;hsa_circ_0001851&quot;</td><td>&quot;ENSG00000137073&quot;</td><td>&quot;protein_coding&quot;</td><td>&quot;UBAP2&quot;</td><td>11.201617</td><td>11.01564</td><td>11.752746</td><td>12.259438</td><td>11.680595</td><td>12.371308</td><td>12.416015</td><td>11.372927</td><td>12.37922</td><td>11.372009</td><td>11.525971</td><td>11.095604</td><td>11.425488</td><td>10.821284</td><td>12.13681</td><td>10.864396</td><td>11.164127</td><td>11.909434</td><td>11.81876</td><td>11.251193</td><td>11.806845</td><td>11.443425</td><td>12.047004</td><td>12.061407</td><td>12.416271</td><td>11.060449</td><td>11.418664</td><td>11.737379</td><td>11.400437</td><td>11.829202</td><td>11.463926</td><td>12.67936</td><td>12.294087</td><td>11.179531</td><td>11.493819</td><td>10.723944</td><td>12.079796</td><td>11.448444</td><td>12.156668</td><td>10.697729</td><td>10.664501</td><td>12.452997</td><td>0.0</td><td>11.524137</td><td>11.986421</td><td>11.76615</td><td>12.578353</td><td>11.443151</td><td>11.875684</td><td>10.239592</td><td>11.70576</td><td>12.217834</td><td>12.295317</td><td>12.052912</td><td>12.040887</td><td>10.734216</td><td>11.504552</td><td>10.89417</td><td>11.58831</td><td>11.840703</td><td>11.146869</td><td>12.03894</td><td>13.063063</td><td>11.999619</td><td>12.000001</td><td>12.129114</td></tr></tbody></table></div>"
      ],
      "text/plain": [
       "shape: (645, 71)\n",
       "┌────────┬────────────┬────────────┬───────────┬───┬───────────┬───────────┬───────────┬───────────┐\n",
       "│ STRAND ┆ circRNA_ID ┆ GENE_ID    ┆ GENE_TYPE ┆ … ┆ V839      ┆ V883      ┆ V888      ┆ V940      │\n",
       "│ ---    ┆ ---        ┆ ---        ┆ ---       ┆   ┆ ---       ┆ ---       ┆ ---       ┆ ---       │\n",
       "│ str    ┆ str        ┆ str        ┆ str       ┆   ┆ f64       ┆ f64       ┆ f64       ┆ f64       │\n",
       "╞════════╪════════════╪════════════╪═══════════╪═══╪═══════════╪═══════════╪═══════════╪═══════════╡\n",
       "│ +      ┆ hsa_circ_0 ┆ ENSG000001 ┆ protein_c ┆ … ┆ 10.044361 ┆ 10.497765 ┆ 10.057587 ┆ 9.17709   │\n",
       "│        ┆ 001387     ┆ 09685      ┆ oding     ┆   ┆           ┆           ┆           ┆           │\n",
       "│ -      ┆ hsa_circ_0 ┆ ENSG000001 ┆ protein_c ┆ … ┆ 11.517418 ┆ 11.719587 ┆ 11.163777 ┆ 10.634935 │\n",
       "│        ┆ 002484     ┆ 96323      ┆ oding     ┆   ┆           ┆           ┆           ┆           │\n",
       "│ +      ┆ hsa_circ_0 ┆ ENSG000002 ┆ protein_c ┆ … ┆ 10.78078  ┆ 10.23493  ┆ 10.526696 ┆ 8.762883  │\n",
       "│        ┆ 007848     ┆ 70106      ┆ oding     ┆   ┆           ┆           ┆           ┆           │\n",
       "│ -      ┆ hsa_circ_0 ┆ ENSG000001 ┆ protein_c ┆ … ┆ 7.87921   ┆ 9.72087   ┆ 10.444292 ┆ 11.345075 │\n",
       "│        ┆ 002711     ┆ 80530      ┆ oding     ┆   ┆           ┆           ┆           ┆           │\n",
       "│ -      ┆ hsa_circ_0 ┆ ENSG000001 ┆ protein_c ┆ … ┆ 8.876143  ┆ 10.613165 ┆ 0.0       ┆ 0.0       │\n",
       "│        ┆ 000551     ┆ 00678      ┆ oding     ┆   ┆           ┆           ┆           ┆           │\n",
       "│ …      ┆ …          ┆ …          ┆ …         ┆ … ┆ …         ┆ …         ┆ …         ┆ …         │\n",
       "│ +      ┆ hsa_circ_0 ┆ ENSG000000 ┆ protein_c ┆ … ┆ 10.78078  ┆ 9.72087   ┆ 11.111333 ┆ 9.17709   │\n",
       "│        ┆ 006354     ┆ 49245      ┆ oding     ┆   ┆           ┆           ┆           ┆           │\n",
       "│ -      ┆ hsa_circ_0 ┆ ENSG000001 ┆ protein_c ┆ … ┆ 11.78037  ┆ 10.08306  ┆ 12.188992 ┆ 10.875803 │\n",
       "│        ┆ 001439     ┆ 51466      ┆ oding     ┆   ┆           ┆           ┆           ┆           │\n",
       "│ -      ┆ hsa_circ_0 ┆ ENSG000001 ┆ protein_c ┆ … ┆ 10.574456 ┆ 11.234331 ┆ 11.163777 ┆ 11.345075 │\n",
       "│        ┆ 001360     ┆ 73889      ┆ oding     ┆   ┆           ┆           ┆           ┆           │\n",
       "│ -      ┆ hsa_circ_0 ┆ ENSG000001 ┆ protein_c ┆ … ┆ 10.78078  ┆ 10.720015 ┆ 10.880121 ┆ 9.983376  │\n",
       "│        ┆ 070039     ┆ 38750      ┆ oding     ┆   ┆           ┆           ┆           ┆           │\n",
       "│ -      ┆ hsa_circ_0 ┆ ENSG000001 ┆ protein_c ┆ … ┆ 13.063063 ┆ 11.999619 ┆ 12.000001 ┆ 12.129114 │\n",
       "│        ┆ 001851     ┆ 37073      ┆ oding     ┆   ┆           ┆           ┆           ┆           │\n",
       "└────────┴────────────┴────────────┴───────────┴───┴───────────┴───────────┴───────────┴───────────┘"
      ]
     },
     "execution_count": 189,
     "metadata": {},
     "output_type": "execute_result"
    }
   ],
   "source": [
    "preprocess_seq_data(df=circrna, annotation_cols=[\"STRAND\", \"circRNA_ID\", \"GENE_ID\", \"GENE_TYPE\", \"GENE_NAME\"], min_median_expression=5, min_detection_rate=0.2, top_n=1500, output_path=\"mds_data/preprocessed/circrna.csv\")"
   ]
  },
  {
   "cell_type": "code",
   "execution_count": 190,
   "metadata": {},
   "outputs": [
    {
     "data": {
      "text/html": [
       "<div><style>\n",
       ".dataframe > thead > tr,\n",
       ".dataframe > tbody > tr {\n",
       "  text-align: right;\n",
       "  white-space: pre-wrap;\n",
       "}\n",
       "</style>\n",
       "<small>shape: (179, 68)</small><table border=\"1\" class=\"dataframe\"><thead><tr><th>piRNA_name</th><th>piRNA_id</th><th>N58</th><th>N60</th><th>N70</th><th>N82</th><th>N83</th><th>N84</th><th>N85</th><th>V1048</th><th>V108</th><th>V1090</th><th>V125</th><th>V1279</th><th>V1297</th><th>V1321</th><th>V1337</th><th>V1394</th><th>V1441</th><th>V1456</th><th>V148</th><th>V1505</th><th>V1528</th><th>V1565</th><th>V1591</th><th>V1592</th><th>V1699</th><th>V1708</th><th>V1742</th><th>V1776</th><th>V1788</th><th>V18</th><th>V1800</th><th>V1823</th><th>V1834</th><th>V1857</th><th>V1860</th><th>V1874</th><th>V1884</th><th>V1920</th><th>V1921</th><th>V2089</th><th>V2092</th><th>V2110</th><th>V2133</th><th>V221</th><th>V344</th><th>V359</th><th>V406</th><th>V456</th><th>V513</th><th>V538</th><th>V553</th><th>V574</th><th>V624</th><th>V630</th><th>V637</th><th>V655</th><th>V67</th><th>V712</th><th>V714</th><th>V716</th><th>V777</th><th>V806</th><th>V839</th><th>V883</th><th>V888</th><th>V940</th></tr><tr><td>str</td><td>str</td><td>f64</td><td>f64</td><td>f64</td><td>f64</td><td>f64</td><td>f64</td><td>f64</td><td>f64</td><td>f64</td><td>f64</td><td>f64</td><td>f64</td><td>f64</td><td>f64</td><td>f64</td><td>f64</td><td>f64</td><td>f64</td><td>f64</td><td>f64</td><td>f64</td><td>f64</td><td>f64</td><td>f64</td><td>f64</td><td>f64</td><td>f64</td><td>f64</td><td>f64</td><td>f64</td><td>f64</td><td>f64</td><td>f64</td><td>f64</td><td>f64</td><td>f64</td><td>f64</td><td>f64</td><td>f64</td><td>f64</td><td>f64</td><td>f64</td><td>f64</td><td>f64</td><td>f64</td><td>f64</td><td>f64</td><td>f64</td><td>f64</td><td>f64</td><td>f64</td><td>f64</td><td>f64</td><td>f64</td><td>f64</td><td>f64</td><td>f64</td><td>f64</td><td>f64</td><td>f64</td><td>f64</td><td>f64</td><td>f64</td><td>f64</td><td>f64</td><td>f64</td></tr></thead><tbody><tr><td>&quot;hsa_piR_020485&quot;</td><td>&quot;DQ598159&quot;</td><td>8.455423</td><td>9.37332</td><td>9.075342</td><td>9.285851</td><td>8.367354</td><td>7.807742</td><td>9.70487</td><td>10.288441</td><td>10.105362</td><td>8.400049</td><td>9.827009</td><td>7.327685</td><td>8.001009</td><td>7.098474</td><td>8.501759</td><td>7.849765</td><td>6.253277</td><td>10.224737</td><td>9.270382</td><td>7.68859</td><td>7.95295</td><td>10.422287</td><td>9.734947</td><td>7.500889</td><td>9.607077</td><td>5.609805</td><td>8.907565</td><td>9.776856</td><td>8.334247</td><td>8.37653</td><td>8.329637</td><td>11.337857</td><td>11.704795</td><td>16.539829</td><td>10.122036</td><td>8.689609</td><td>10.025685</td><td>11.541256</td><td>10.354855</td><td>10.436414</td><td>7.271395</td><td>10.588501</td><td>10.113679</td><td>6.759121</td><td>7.952574</td><td>8.953183</td><td>8.218316</td><td>9.438432</td><td>8.461454</td><td>8.430144</td><td>10.38994</td><td>11.265676</td><td>9.579826</td><td>9.055617</td><td>9.348097</td><td>8.292343</td><td>6.995855</td><td>10.333094</td><td>8.336028</td><td>6.861325</td><td>6.988991</td><td>7.906521</td><td>10.203794</td><td>8.135731</td><td>8.930686</td><td>12.191744</td></tr><tr><td>&quot;hsa_piR_013624&quot;</td><td>&quot;DQ588594&quot;</td><td>5.569475</td><td>7.201653</td><td>6.196311</td><td>6.555731</td><td>6.093038</td><td>5.927076</td><td>8.263922</td><td>7.172626</td><td>5.457152</td><td>5.638433</td><td>9.043585</td><td>5.963472</td><td>5.465458</td><td>0.0</td><td>0.0</td><td>0.0</td><td>0.0</td><td>7.510618</td><td>5.544405</td><td>8.84001</td><td>5.377385</td><td>7.530208</td><td>8.240006</td><td>5.00257</td><td>7.115819</td><td>0.0</td><td>6.398203</td><td>6.849179</td><td>5.111586</td><td>8.931533</td><td>0.0</td><td>10.062046</td><td>0.0</td><td>13.611739</td><td>6.44929</td><td>5.998363</td><td>0.0</td><td>8.371306</td><td>10.446418</td><td>6.007315</td><td>0.0</td><td>6.827731</td><td>8.574596</td><td>0.0</td><td>5.9539</td><td>7.582307</td><td>5.424335</td><td>5.087113</td><td>0.0</td><td>5.865945</td><td>7.766487</td><td>9.290746</td><td>6.197799</td><td>5.960777</td><td>8.219485</td><td>5.696907</td><td>4.804422</td><td>7.76875</td><td>5.926628</td><td>6.251256</td><td>0.0</td><td>8.277123</td><td>7.552067</td><td>6.291152</td><td>6.595916</td><td>7.592273</td></tr><tr><td>&quot;hsa_piR_008488&quot;</td><td>&quot;DQ581533&quot;</td><td>5.295862</td><td>7.322849</td><td>6.115006</td><td>5.508234</td><td>0.0</td><td>0.0</td><td>6.770001</td><td>6.468483</td><td>0.0</td><td>0.0</td><td>6.985606</td><td>0.0</td><td>0.0</td><td>0.0</td><td>5.678229</td><td>0.0</td><td>0.0</td><td>6.464665</td><td>5.900089</td><td>6.051422</td><td>7.320932</td><td>6.596264</td><td>7.113234</td><td>0.0</td><td>5.831382</td><td>0.0</td><td>5.890942</td><td>5.913219</td><td>5.759095</td><td>6.757547</td><td>0.0</td><td>9.612374</td><td>0.0</td><td>12.883552</td><td>0.0</td><td>0.0</td><td>6.097163</td><td>7.770899</td><td>8.730197</td><td>5.433523</td><td>5.752977</td><td>7.990583</td><td>8.084279</td><td>0.0</td><td>6.974377</td><td>5.973415</td><td>0.0</td><td>6.201278</td><td>0.0</td><td>0.0</td><td>6.869534</td><td>9.779287</td><td>0.0</td><td>5.818823</td><td>7.584742</td><td>7.329895</td><td>4.804422</td><td>6.514948</td><td>7.420174</td><td>6.731261</td><td>0.0</td><td>7.445822</td><td>7.25428</td><td>7.4104</td><td>5.547964</td><td>8.339261</td></tr><tr><td>&quot;hsa_piR_014629&quot;</td><td>&quot;DQ590023&quot;</td><td>0.0</td><td>0.0</td><td>5.937206</td><td>7.69615</td><td>0.0</td><td>7.94147</td><td>6.191633</td><td>7.39359</td><td>6.88366</td><td>5.896632</td><td>7.167115</td><td>0.0</td><td>5.806367</td><td>5.689865</td><td>0.0</td><td>0.0</td><td>0.0</td><td>0.0</td><td>5.439866</td><td>6.241345</td><td>5.255006</td><td>5.553434</td><td>7.269697</td><td>0.0</td><td>8.132897</td><td>0.0</td><td>7.709832</td><td>6.49018</td><td>5.111586</td><td>5.538491</td><td>5.06921</td><td>6.932077</td><td>7.429411</td><td>12.252611</td><td>7.226621</td><td>6.575784</td><td>5.566142</td><td>7.020545</td><td>7.431398</td><td>0.0</td><td>6.589035</td><td>6.942231</td><td>7.176425</td><td>0.0</td><td>5.098697</td><td>7.694217</td><td>6.513139</td><td>0.0</td><td>0.0</td><td>0.0</td><td>6.259428</td><td>8.110448</td><td>5.499758</td><td>5.818823</td><td>0.0</td><td>6.828416</td><td>4.804422</td><td>6.441777</td><td>6.221734</td><td>6.047716</td><td>5.209754</td><td>0.0</td><td>0.0</td><td>0.0</td><td>6.165071</td><td>7.455517</td></tr><tr><td>&quot;hsa_piR_020008&quot;</td><td>&quot;DQ597482&quot;</td><td>6.327367</td><td>7.283571</td><td>6.196311</td><td>8.734388</td><td>9.026262</td><td>7.698625</td><td>9.824402</td><td>7.754252</td><td>5.693098</td><td>6.4735</td><td>7.940534</td><td>0.0</td><td>0.0</td><td>5.161945</td><td>6.050225</td><td>4.194154</td><td>5.272066</td><td>7.841564</td><td>0.0</td><td>6.988442</td><td>0.0</td><td>7.232448</td><td>8.634789</td><td>0.0</td><td>10.344895</td><td>0.0</td><td>9.016054</td><td>6.102869</td><td>5.966962</td><td>8.598302</td><td>5.06921</td><td>10.196722</td><td>0.0</td><td>13.418974</td><td>0.0</td><td>6.439792</td><td>5.566142</td><td>6.928177</td><td>8.556136</td><td>6.007315</td><td>7.058764</td><td>6.157259</td><td>7.729623</td><td>5.735599</td><td>6.841194</td><td>10.556089</td><td>6.351535</td><td>0.0</td><td>5.54376</td><td>0.0</td><td>7.662647</td><td>9.3039</td><td>5.840833</td><td>5.048797</td><td>0.0</td><td>5.479143</td><td>8.39998</td><td>6.714522</td><td>6.968725</td><td>6.5883</td><td>0.0</td><td>8.739245</td><td>7.872457</td><td>8.208235</td><td>7.588439</td><td>10.665394</td></tr><tr><td>&hellip;</td><td>&hellip;</td><td>&hellip;</td><td>&hellip;</td><td>&hellip;</td><td>&hellip;</td><td>&hellip;</td><td>&hellip;</td><td>&hellip;</td><td>&hellip;</td><td>&hellip;</td><td>&hellip;</td><td>&hellip;</td><td>&hellip;</td><td>&hellip;</td><td>&hellip;</td><td>&hellip;</td><td>&hellip;</td><td>&hellip;</td><td>&hellip;</td><td>&hellip;</td><td>&hellip;</td><td>&hellip;</td><td>&hellip;</td><td>&hellip;</td><td>&hellip;</td><td>&hellip;</td><td>&hellip;</td><td>&hellip;</td><td>&hellip;</td><td>&hellip;</td><td>&hellip;</td><td>&hellip;</td><td>&hellip;</td><td>&hellip;</td><td>&hellip;</td><td>&hellip;</td><td>&hellip;</td><td>&hellip;</td><td>&hellip;</td><td>&hellip;</td><td>&hellip;</td><td>&hellip;</td><td>&hellip;</td><td>&hellip;</td><td>&hellip;</td><td>&hellip;</td><td>&hellip;</td><td>&hellip;</td><td>&hellip;</td><td>&hellip;</td><td>&hellip;</td><td>&hellip;</td><td>&hellip;</td><td>&hellip;</td><td>&hellip;</td><td>&hellip;</td><td>&hellip;</td><td>&hellip;</td><td>&hellip;</td><td>&hellip;</td><td>&hellip;</td><td>&hellip;</td><td>&hellip;</td><td>&hellip;</td><td>&hellip;</td><td>&hellip;</td><td>&hellip;</td></tr><tr><td>&quot;hsa_piR_004962&quot;</td><td>&quot;DQ576828&quot;</td><td>5.934522</td><td>6.512562</td><td>6.115006</td><td>7.382973</td><td>6.645657</td><td>7.496144</td><td>8.035249</td><td>7.39359</td><td>6.930572</td><td>6.305603</td><td>7.297486</td><td>6.299634</td><td>6.63148</td><td>5.598618</td><td>5.93656</td><td>5.02074</td><td>5.586508</td><td>7.341682</td><td>7.207449</td><td>7.551786</td><td>6.629914</td><td>6.758164</td><td>8.108015</td><td>6.17854</td><td>7.399353</td><td>4.997799</td><td>7.680826</td><td>7.338592</td><td>5.328005</td><td>6.303106</td><td>6.550077</td><td>6.385039</td><td>7.119486</td><td>8.573875</td><td>7.080811</td><td>6.391455</td><td>5.566142</td><td>7.601799</td><td>7.751653</td><td>6.791344</td><td>7.659128</td><td>7.048308</td><td>8.171429</td><td>5.088342</td><td>5.746066</td><td>7.798068</td><td>6.91139</td><td>6.135098</td><td>6.847012</td><td>6.853523</td><td>7.386623</td><td>8.306181</td><td>7.687525</td><td>6.949149</td><td>7.584742</td><td>6.630986</td><td>6.306246</td><td>7.827379</td><td>8.065649</td><td>6.861325</td><td>6.129587</td><td>6.057255</td><td>8.134465</td><td>6.19927</td><td>6.715016</td><td>7.381949</td></tr><tr><td>&quot;hsa_piR_008113&quot;</td><td>&quot;DQ581032&quot;</td><td>17.99194</td><td>18.059353</td><td>18.121401</td><td>17.939341</td><td>17.984465</td><td>18.060176</td><td>17.96826</td><td>18.010611</td><td>18.142645</td><td>18.048051</td><td>17.750217</td><td>18.138738</td><td>18.090363</td><td>18.284286</td><td>18.0287</td><td>18.303277</td><td>18.25408</td><td>17.971729</td><td>17.690115</td><td>17.968327</td><td>17.732295</td><td>17.532568</td><td>17.524727</td><td>18.190968</td><td>17.794484</td><td>18.574146</td><td>17.926159</td><td>17.947342</td><td>18.309354</td><td>17.935515</td><td>18.3436</td><td>17.937851</td><td>17.975105</td><td>17.349026</td><td>18.014754</td><td>18.242076</td><td>18.149494</td><td>18.379674</td><td>17.820362</td><td>18.153242</td><td>17.899376</td><td>17.971932</td><td>17.953461</td><td>18.248717</td><td>18.350903</td><td>17.930265</td><td>18.146999</td><td>18.103772</td><td>17.862973</td><td>18.250813</td><td>16.343952</td><td>17.124704</td><td>18.10534</td><td>18.099882</td><td>18.384834</td><td>16.613968</td><td>18.126076</td><td>17.897942</td><td>17.961335</td><td>17.78429</td><td>18.293969</td><td>17.835002</td><td>17.991383</td><td>18.095361</td><td>17.850615</td><td>17.73303</td></tr><tr><td>&quot;hsa_piR_004271&quot;</td><td>&quot;DQ575827&quot;</td><td>6.674949</td><td>6.703231</td><td>6.664723</td><td>8.088152</td><td>7.61257</td><td>8.281271</td><td>8.107735</td><td>8.245356</td><td>7.803861</td><td>7.878354</td><td>8.441306</td><td>6.372718</td><td>7.112744</td><td>6.994926</td><td>7.291284</td><td>5.02074</td><td>6.129464</td><td>7.562803</td><td>7.207449</td><td>8.583466</td><td>6.770566</td><td>7.987509</td><td>8.831771</td><td>6.17854</td><td>7.636212</td><td>4.997799</td><td>8.041833</td><td>8.018037</td><td>6.408257</td><td>7.352468</td><td>6.343028</td><td>6.865526</td><td>8.011581</td><td>8.526174</td><td>8.100914</td><td>6.814463</td><td>6.341759</td><td>8.598081</td><td>8.493114</td><td>7.257207</td><td>8.109718</td><td>7.23959</td><td>7.785945</td><td>6.995253</td><td>6.615081</td><td>7.985719</td><td>6.949549</td><td>6.383348</td><td>6.597858</td><td>7.526909</td><td>8.292387</td><td>8.69367</td><td>7.408916</td><td>7.169872</td><td>7.290993</td><td>7.193288</td><td>7.084444</td><td>7.911084</td><td>8.294339</td><td>7.090811</td><td>5.322229</td><td>7.046381</td><td>7.872457</td><td>6.928361</td><td>7.588439</td><td>8.037737</td></tr><tr><td>&quot;hsa_piR_008112&quot;</td><td>&quot;DQ581031&quot;</td><td>18.634616</td><td>18.917902</td><td>18.636449</td><td>18.512548</td><td>18.648633</td><td>18.640015</td><td>18.612728</td><td>18.038645</td><td>18.414233</td><td>18.376268</td><td>18.438451</td><td>18.770815</td><td>18.588144</td><td>18.585833</td><td>18.699543</td><td>18.657974</td><td>18.458772</td><td>18.373511</td><td>18.057418</td><td>18.673894</td><td>18.360574</td><td>17.038216</td><td>18.272995</td><td>18.518511</td><td>18.580864</td><td>18.353172</td><td>18.492592</td><td>18.703922</td><td>18.478029</td><td>17.982453</td><td>18.601737</td><td>18.781904</td><td>18.405321</td><td>17.331571</td><td>18.577736</td><td>18.442358</td><td>18.747658</td><td>17.186119</td><td>18.076761</td><td>18.655282</td><td>18.591131</td><td>18.472669</td><td>17.171638</td><td>18.323391</td><td>18.58923</td><td>18.537953</td><td>18.675436</td><td>18.550556</td><td>18.474313</td><td>18.453451</td><td>17.256454</td><td>17.852019</td><td>18.911393</td><td>18.705712</td><td>18.467025</td><td>17.381236</td><td>18.507624</td><td>17.825802</td><td>18.424034</td><td>18.594778</td><td>18.431243</td><td>18.451303</td><td>18.121203</td><td>18.593239</td><td>18.669182</td><td>17.568038</td></tr><tr><td>&quot;hsa_piR_001170&quot;</td><td>&quot;DQ571526&quot;</td><td>11.931457</td><td>10.795166</td><td>11.388657</td><td>12.444323</td><td>12.417475</td><td>12.90438</td><td>12.243518</td><td>13.08559</td><td>12.36885</td><td>12.439792</td><td>12.344317</td><td>11.47465</td><td>12.30532</td><td>10.695936</td><td>12.311126</td><td>11.072196</td><td>12.572098</td><td>12.755033</td><td>11.241672</td><td>12.036273</td><td>12.079553</td><td>12.759402</td><td>12.567481</td><td>11.685208</td><td>12.245229</td><td>10.942375</td><td>12.642376</td><td>12.655594</td><td>12.197114</td><td>13.143896</td><td>11.062222</td><td>11.613528</td><td>12.344127</td><td>11.473294</td><td>12.631494</td><td>12.631457</td><td>11.340932</td><td>12.167051</td><td>12.871324</td><td>12.160285</td><td>12.116898</td><td>12.776147</td><td>11.995187</td><td>12.354673</td><td>11.064136</td><td>12.624101</td><td>12.020046</td><td>10.454453</td><td>12.743449</td><td>11.676853</td><td>11.624058</td><td>12.373838</td><td>10.536533</td><td>11.780336</td><td>12.017424</td><td>11.465605</td><td>12.193438</td><td>13.428771</td><td>12.857998</td><td>11.87065</td><td>12.53169</td><td>12.39073</td><td>12.430317</td><td>11.528128</td><td>11.879519</td><td>13.790784</td></tr></tbody></table></div>"
      ],
      "text/plain": [
       "shape: (179, 68)\n",
       "┌───────────┬──────────┬───────────┬───────────┬───┬───────────┬───────────┬───────────┬───────────┐\n",
       "│ piRNA_nam ┆ piRNA_id ┆ N58       ┆ N60       ┆ … ┆ V839      ┆ V883      ┆ V888      ┆ V940      │\n",
       "│ e         ┆ ---      ┆ ---       ┆ ---       ┆   ┆ ---       ┆ ---       ┆ ---       ┆ ---       │\n",
       "│ ---       ┆ str      ┆ f64       ┆ f64       ┆   ┆ f64       ┆ f64       ┆ f64       ┆ f64       │\n",
       "│ str       ┆          ┆           ┆           ┆   ┆           ┆           ┆           ┆           │\n",
       "╞═══════════╪══════════╪═══════════╪═══════════╪═══╪═══════════╪═══════════╪═══════════╪═══════════╡\n",
       "│ hsa_piR_0 ┆ DQ598159 ┆ 8.455423  ┆ 9.37332   ┆ … ┆ 10.203794 ┆ 8.135731  ┆ 8.930686  ┆ 12.191744 │\n",
       "│ 20485     ┆          ┆           ┆           ┆   ┆           ┆           ┆           ┆           │\n",
       "│ hsa_piR_0 ┆ DQ588594 ┆ 5.569475  ┆ 7.201653  ┆ … ┆ 7.552067  ┆ 6.291152  ┆ 6.595916  ┆ 7.592273  │\n",
       "│ 13624     ┆          ┆           ┆           ┆   ┆           ┆           ┆           ┆           │\n",
       "│ hsa_piR_0 ┆ DQ581533 ┆ 5.295862  ┆ 7.322849  ┆ … ┆ 7.25428   ┆ 7.4104    ┆ 5.547964  ┆ 8.339261  │\n",
       "│ 08488     ┆          ┆           ┆           ┆   ┆           ┆           ┆           ┆           │\n",
       "│ hsa_piR_0 ┆ DQ590023 ┆ 0.0       ┆ 0.0       ┆ … ┆ 0.0       ┆ 0.0       ┆ 6.165071  ┆ 7.455517  │\n",
       "│ 14629     ┆          ┆           ┆           ┆   ┆           ┆           ┆           ┆           │\n",
       "│ hsa_piR_0 ┆ DQ597482 ┆ 6.327367  ┆ 7.283571  ┆ … ┆ 7.872457  ┆ 8.208235  ┆ 7.588439  ┆ 10.665394 │\n",
       "│ 20008     ┆          ┆           ┆           ┆   ┆           ┆           ┆           ┆           │\n",
       "│ …         ┆ …        ┆ …         ┆ …         ┆ … ┆ …         ┆ …         ┆ …         ┆ …         │\n",
       "│ hsa_piR_0 ┆ DQ576828 ┆ 5.934522  ┆ 6.512562  ┆ … ┆ 8.134465  ┆ 6.19927   ┆ 6.715016  ┆ 7.381949  │\n",
       "│ 04962     ┆          ┆           ┆           ┆   ┆           ┆           ┆           ┆           │\n",
       "│ hsa_piR_0 ┆ DQ581032 ┆ 17.99194  ┆ 18.059353 ┆ … ┆ 17.991383 ┆ 18.095361 ┆ 17.850615 ┆ 17.73303  │\n",
       "│ 08113     ┆          ┆           ┆           ┆   ┆           ┆           ┆           ┆           │\n",
       "│ hsa_piR_0 ┆ DQ575827 ┆ 6.674949  ┆ 6.703231  ┆ … ┆ 7.872457  ┆ 6.928361  ┆ 7.588439  ┆ 8.037737  │\n",
       "│ 04271     ┆          ┆           ┆           ┆   ┆           ┆           ┆           ┆           │\n",
       "│ hsa_piR_0 ┆ DQ581031 ┆ 18.634616 ┆ 18.917902 ┆ … ┆ 18.121203 ┆ 18.593239 ┆ 18.669182 ┆ 17.568038 │\n",
       "│ 08112     ┆          ┆           ┆           ┆   ┆           ┆           ┆           ┆           │\n",
       "│ hsa_piR_0 ┆ DQ571526 ┆ 11.931457 ┆ 10.795166 ┆ … ┆ 12.430317 ┆ 11.528128 ┆ 11.879519 ┆ 13.790784 │\n",
       "│ 01170     ┆          ┆           ┆           ┆   ┆           ┆           ┆           ┆           │\n",
       "└───────────┴──────────┴───────────┴───────────┴───┴───────────┴───────────┴───────────┴───────────┘"
      ]
     },
     "execution_count": 190,
     "metadata": {},
     "output_type": "execute_result"
    }
   ],
   "source": [
    "preprocess_seq_data(df=pirna, annotation_cols=[\"piRNA_name\", \"piRNA_id\"], min_median_expression=5, min_detection_rate=0.2, top_n=500, output_path=\"mds_data/preprocessed/pirna.csv\")"
   ]
  },
  {
   "cell_type": "code",
   "execution_count": 191,
   "metadata": {},
   "outputs": [
    {
     "data": {
      "text/html": [
       "<div><style>\n",
       ".dataframe > thead > tr,\n",
       ".dataframe > tbody > tr {\n",
       "  text-align: right;\n",
       "  white-space: pre-wrap;\n",
       "}\n",
       "</style>\n",
       "<small>shape: (535, 67)</small><table border=\"1\" class=\"dataframe\"><thead><tr><th>TE</th><th>N58</th><th>N60</th><th>N70</th><th>N82</th><th>N83</th><th>N84</th><th>N85</th><th>V1048</th><th>V108</th><th>V1090</th><th>V125</th><th>V1279</th><th>V1297</th><th>V1321</th><th>V1337</th><th>V1394</th><th>V1441</th><th>V1456</th><th>V148</th><th>V1505</th><th>V1528</th><th>V1565</th><th>V1591</th><th>V1592</th><th>V1699</th><th>V1708</th><th>V1742</th><th>V1776</th><th>V1788</th><th>V18</th><th>V1800</th><th>V1823</th><th>V1834</th><th>V1857</th><th>V1860</th><th>V1874</th><th>V1884</th><th>V1920</th><th>V1921</th><th>V2089</th><th>V2092</th><th>V2110</th><th>V2133</th><th>V221</th><th>V344</th><th>V359</th><th>V406</th><th>V456</th><th>V513</th><th>V538</th><th>V553</th><th>V574</th><th>V624</th><th>V630</th><th>V637</th><th>V655</th><th>V67</th><th>V712</th><th>V714</th><th>V716</th><th>V777</th><th>V806</th><th>V839</th><th>V883</th><th>V888</th><th>V940</th></tr><tr><td>str</td><td>f64</td><td>f64</td><td>f64</td><td>f64</td><td>f64</td><td>f64</td><td>f64</td><td>f64</td><td>f64</td><td>f64</td><td>f64</td><td>f64</td><td>f64</td><td>f64</td><td>f64</td><td>f64</td><td>f64</td><td>f64</td><td>f64</td><td>f64</td><td>f64</td><td>f64</td><td>f64</td><td>f64</td><td>f64</td><td>f64</td><td>f64</td><td>f64</td><td>f64</td><td>f64</td><td>f64</td><td>f64</td><td>f64</td><td>f64</td><td>f64</td><td>f64</td><td>f64</td><td>f64</td><td>f64</td><td>f64</td><td>f64</td><td>f64</td><td>f64</td><td>f64</td><td>f64</td><td>f64</td><td>f64</td><td>f64</td><td>f64</td><td>f64</td><td>f64</td><td>f64</td><td>f64</td><td>f64</td><td>f64</td><td>f64</td><td>f64</td><td>f64</td><td>f64</td><td>f64</td><td>f64</td><td>f64</td><td>f64</td><td>f64</td><td>f64</td><td>f64</td></tr></thead><tbody><tr><td>&quot;HERV-K14CI&quot;</td><td>2.583999</td><td>3.92374</td><td>3.382264</td><td>4.466435</td><td>3.173178</td><td>2.70803</td><td>3.606353</td><td>2.087902</td><td>4.305403</td><td>3.768617</td><td>4.637972</td><td>4.723148</td><td>5.612011</td><td>4.215552</td><td>2.846294</td><td>2.784579</td><td>2.934658</td><td>2.56158</td><td>2.282875</td><td>2.960295</td><td>2.346483</td><td>1.670561</td><td>3.085617</td><td>4.489318</td><td>4.755815</td><td>2.959792</td><td>3.792796</td><td>4.568955</td><td>2.711949</td><td>2.411238</td><td>2.132183</td><td>2.252645</td><td>6.435916</td><td>7.356509</td><td>3.751317</td><td>3.783485</td><td>3.340499</td><td>5.319501</td><td>2.891586</td><td>1.834446</td><td>6.745917</td><td>4.347916</td><td>8.13262</td><td>3.837695</td><td>2.341652</td><td>3.339166</td><td>3.625275</td><td>4.479783</td><td>3.781263</td><td>3.688004</td><td>4.151038</td><td>4.364928</td><td>2.277848</td><td>4.151716</td><td>1.82812</td><td>6.60283</td><td>3.943479</td><td>4.597205</td><td>4.062437</td><td>5.606828</td><td>5.099781</td><td>2.834413</td><td>3.477563</td><td>4.013689</td><td>3.594034</td><td>3.264587</td></tr><tr><td>&quot;MER67D&quot;</td><td>1.748082</td><td>1.880444</td><td>2.522531</td><td>1.764921</td><td>2.061352</td><td>0.813822</td><td>2.117061</td><td>0.805821</td><td>2.089398</td><td>1.840171</td><td>1.939537</td><td>2.911081</td><td>2.644204</td><td>2.826342</td><td>2.564698</td><td>2.096923</td><td>1.267615</td><td>1.57136</td><td>0.888159</td><td>0.835255</td><td>1.688803</td><td>0.435561</td><td>1.217565</td><td>1.584234</td><td>2.295036</td><td>3.323877</td><td>1.736522</td><td>3.090665</td><td>1.691453</td><td>0.779482</td><td>1.841789</td><td>1.769975</td><td>3.514084</td><td>4.622103</td><td>1.200842</td><td>2.784794</td><td>1.243883</td><td>1.920057</td><td>2.534839</td><td>0.891767</td><td>3.506729</td><td>1.705223</td><td>4.562983</td><td>2.663372</td><td>0.275017</td><td>1.325797</td><td>2.192644</td><td>3.219695</td><td>0.588123</td><td>3.260879</td><td>1.416638</td><td>2.832916</td><td>2.187812</td><td>0.798008</td><td>1.497516</td><td>3.541159</td><td>1.405592</td><td>1.203166</td><td>1.322824</td><td>1.636374</td><td>2.06795</td><td>1.594856</td><td>1.655074</td><td>1.690529</td><td>1.993703</td><td>1.292548</td></tr><tr><td>&quot;MIR3&quot;</td><td>3.449018</td><td>2.888113</td><td>2.075519</td><td>1.863307</td><td>1.538173</td><td>2.234776</td><td>2.257967</td><td>4.683059</td><td>2.495399</td><td>2.7927</td><td>2.892948</td><td>2.722088</td><td>3.118432</td><td>1.969459</td><td>2.564698</td><td>4.46281</td><td>2.894311</td><td>3.229642</td><td>2.13857</td><td>3.814503</td><td>3.817239</td><td>3.882158</td><td>4.869146</td><td>4.623341</td><td>2.820827</td><td>2.645675</td><td>3.880172</td><td>2.402798</td><td>3.242364</td><td>5.34296</td><td>0.797773</td><td>4.376147</td><td>2.460371</td><td>3.425921</td><td>2.491674</td><td>2.861252</td><td>1.438527</td><td>1.473804</td><td>1.658922</td><td>1.360826</td><td>3.698297</td><td>4.072581</td><td>3.855228</td><td>2.971474</td><td>1.422269</td><td>4.637337</td><td>2.043154</td><td>2.653504</td><td>2.467177</td><td>1.202173</td><td>2.212712</td><td>3.305833</td><td>5.069399</td><td>2.416304</td><td>2.351349</td><td>3.823512</td><td>3.045597</td><td>2.761041</td><td>3.407344</td><td>3.085565</td><td>1.327998</td><td>2.715116</td><td>3.341263</td><td>4.115769</td><td>2.991377</td><td>4.103188</td></tr><tr><td>&quot;HERVK11DI&quot;</td><td>4.59405</td><td>6.198976</td><td>4.481862</td><td>4.527752</td><td>4.886738</td><td>4.08455</td><td>4.693326</td><td>3.803064</td><td>5.790712</td><td>5.363506</td><td>5.254235</td><td>5.360619</td><td>5.454212</td><td>4.577977</td><td>4.856824</td><td>4.205859</td><td>4.761917</td><td>4.230564</td><td>4.930048</td><td>4.570119</td><td>4.367068</td><td>4.464505</td><td>4.017202</td><td>5.26344</td><td>5.1554</td><td>5.314267</td><td>4.31179</td><td>5.333378</td><td>3.955073</td><td>4.065493</td><td>4.071671</td><td>4.00326</td><td>6.429068</td><td>7.454761</td><td>4.316865</td><td>4.322621</td><td>4.074065</td><td>5.763443</td><td>4.839176</td><td>3.319358</td><td>6.761271</td><td>4.174753</td><td>7.726508</td><td>5.196095</td><td>5.739398</td><td>3.945341</td><td>5.197311</td><td>4.935023</td><td>5.581674</td><td>5.398718</td><td>5.924065</td><td>4.882003</td><td>4.801781</td><td>4.147704</td><td>4.020499</td><td>7.005446</td><td>4.591472</td><td>6.376757</td><td>6.526739</td><td>6.700156</td><td>4.826894</td><td>4.60955</td><td>5.046256</td><td>4.597786</td><td>4.522715</td><td>4.731232</td></tr><tr><td>&quot;MER41G&quot;</td><td>2.708681</td><td>3.202239</td><td>1.786384</td><td>2.650033</td><td>2.996805</td><td>2.4458</td><td>2.613156</td><td>1.697961</td><td>2.563577</td><td>2.133611</td><td>2.313291</td><td>2.525701</td><td>3.86188</td><td>2.09786</td><td>2.30248</td><td>0.874778</td><td>1.853666</td><td>0.798625</td><td>3.324612</td><td>1.745245</td><td>1.795347</td><td>1.555033</td><td>2.257064</td><td>2.505926</td><td>3.034598</td><td>1.586406</td><td>2.017903</td><td>2.711393</td><td>1.675466</td><td>1.882419</td><td>1.39205</td><td>0.785043</td><td>3.778998</td><td>4.511182</td><td>2.217468</td><td>2.047269</td><td>1.610004</td><td>2.621722</td><td>2.273843</td><td>2.36027</td><td>3.0657</td><td>2.649657</td><td>4.932848</td><td>1.961725</td><td>1.978238</td><td>2.20767</td><td>2.114218</td><td>2.533051</td><td>2.255401</td><td>2.368139</td><td>2.452703</td><td>2.743754</td><td>1.993637</td><td>1.549919</td><td>1.497516</td><td>3.745925</td><td>1.492736</td><td>2.891603</td><td>3.08878</td><td>3.567886</td><td>2.593385</td><td>0.715704</td><td>2.788859</td><td>1.797129</td><td>2.235086</td><td>1.796145</td></tr><tr><td>&hellip;</td><td>&hellip;</td><td>&hellip;</td><td>&hellip;</td><td>&hellip;</td><td>&hellip;</td><td>&hellip;</td><td>&hellip;</td><td>&hellip;</td><td>&hellip;</td><td>&hellip;</td><td>&hellip;</td><td>&hellip;</td><td>&hellip;</td><td>&hellip;</td><td>&hellip;</td><td>&hellip;</td><td>&hellip;</td><td>&hellip;</td><td>&hellip;</td><td>&hellip;</td><td>&hellip;</td><td>&hellip;</td><td>&hellip;</td><td>&hellip;</td><td>&hellip;</td><td>&hellip;</td><td>&hellip;</td><td>&hellip;</td><td>&hellip;</td><td>&hellip;</td><td>&hellip;</td><td>&hellip;</td><td>&hellip;</td><td>&hellip;</td><td>&hellip;</td><td>&hellip;</td><td>&hellip;</td><td>&hellip;</td><td>&hellip;</td><td>&hellip;</td><td>&hellip;</td><td>&hellip;</td><td>&hellip;</td><td>&hellip;</td><td>&hellip;</td><td>&hellip;</td><td>&hellip;</td><td>&hellip;</td><td>&hellip;</td><td>&hellip;</td><td>&hellip;</td><td>&hellip;</td><td>&hellip;</td><td>&hellip;</td><td>&hellip;</td><td>&hellip;</td><td>&hellip;</td><td>&hellip;</td><td>&hellip;</td><td>&hellip;</td><td>&hellip;</td><td>&hellip;</td><td>&hellip;</td><td>&hellip;</td><td>&hellip;</td><td>&hellip;</td></tr><tr><td>&quot;MIR&quot;</td><td>6.677831</td><td>6.788537</td><td>6.314765</td><td>6.958926</td><td>7.034628</td><td>6.721206</td><td>6.721739</td><td>7.028812</td><td>7.244991</td><td>7.537448</td><td>6.862972</td><td>7.235509</td><td>7.796649</td><td>6.641582</td><td>7.090833</td><td>6.595181</td><td>6.746419</td><td>7.578678</td><td>6.046585</td><td>7.090728</td><td>7.086273</td><td>6.57355</td><td>7.086004</td><td>7.431315</td><td>6.069955</td><td>7.168895</td><td>6.247861</td><td>6.925978</td><td>6.459443</td><td>6.534874</td><td>6.213921</td><td>6.291868</td><td>6.700427</td><td>7.038677</td><td>6.610074</td><td>6.964897</td><td>6.521484</td><td>6.720646</td><td>6.76907</td><td>5.990081</td><td>6.223178</td><td>6.802384</td><td>6.942107</td><td>7.343229</td><td>6.510793</td><td>6.678142</td><td>7.39155</td><td>7.171696</td><td>6.734482</td><td>7.414221</td><td>6.272744</td><td>7.590237</td><td>7.215635</td><td>6.922687</td><td>5.791339</td><td>6.707112</td><td>6.18416</td><td>7.268394</td><td>7.051051</td><td>7.160186</td><td>6.761338</td><td>6.897273</td><td>7.337293</td><td>6.765664</td><td>6.375749</td><td>6.65867</td></tr><tr><td>&quot;MER21B&quot;</td><td>6.736581</td><td>7.147338</td><td>6.50934</td><td>7.156005</td><td>7.439173</td><td>7.228509</td><td>7.170062</td><td>7.158072</td><td>7.490544</td><td>7.368395</td><td>7.01046</td><td>7.509508</td><td>7.808913</td><td>6.91986</td><td>7.464746</td><td>6.485703</td><td>6.675633</td><td>7.042765</td><td>6.981128</td><td>7.071444</td><td>6.786404</td><td>6.865878</td><td>7.105503</td><td>7.430674</td><td>6.562894</td><td>7.336557</td><td>6.590473</td><td>7.252773</td><td>6.712506</td><td>6.277688</td><td>6.389747</td><td>6.555184</td><td>6.926358</td><td>7.481182</td><td>6.919657</td><td>7.197915</td><td>6.666591</td><td>7.114501</td><td>7.128351</td><td>6.533548</td><td>6.710208</td><td>6.977285</td><td>7.246054</td><td>7.424998</td><td>6.924656</td><td>6.602746</td><td>7.544351</td><td>7.280468</td><td>6.784221</td><td>7.679857</td><td>6.73463</td><td>7.041375</td><td>7.129449</td><td>6.946477</td><td>6.178493</td><td>7.04034</td><td>6.259128</td><td>7.457441</td><td>7.18098</td><td>7.380183</td><td>6.891558</td><td>6.997779</td><td>7.347763</td><td>6.729518</td><td>6.794623</td><td>6.681524</td></tr><tr><td>&quot;L1M2A_5&quot;</td><td>5.711999</td><td>6.012728</td><td>5.133204</td><td>5.902034</td><td>5.970653</td><td>5.561405</td><td>5.52811</td><td>5.832065</td><td>5.954704</td><td>5.953247</td><td>5.785469</td><td>5.970032</td><td>6.814397</td><td>5.290574</td><td>5.878814</td><td>5.632601</td><td>5.673087</td><td>5.794509</td><td>5.274935</td><td>5.87879</td><td>5.684987</td><td>5.570418</td><td>6.10774</td><td>6.190077</td><td>5.079171</td><td>5.81799</td><td>5.480033</td><td>5.766067</td><td>5.523319</td><td>5.403424</td><td>5.39136</td><td>5.483667</td><td>5.602138</td><td>6.027548</td><td>5.460362</td><td>6.117913</td><td>5.246597</td><td>5.603302</td><td>5.760589</td><td>4.523614</td><td>5.776451</td><td>5.374859</td><td>5.630191</td><td>6.032637</td><td>5.963365</td><td>5.266419</td><td>6.362627</td><td>5.971013</td><td>6.02766</td><td>6.231501</td><td>5.294802</td><td>6.203609</td><td>6.045706</td><td>5.797731</td><td>4.93268</td><td>5.741278</td><td>5.06797</td><td>6.071147</td><td>6.198235</td><td>6.21576</td><td>6.053348</td><td>6.058959</td><td>6.041586</td><td>5.673388</td><td>5.238056</td><td>5.605395</td></tr><tr><td>&quot;L1MD2&quot;</td><td>8.267135</td><td>8.282533</td><td>7.795038</td><td>8.296698</td><td>8.708906</td><td>8.411793</td><td>8.279179</td><td>8.388446</td><td>8.722487</td><td>8.760187</td><td>8.212911</td><td>8.766914</td><td>8.983398</td><td>8.135709</td><td>8.799595</td><td>8.073301</td><td>8.199823</td><td>8.471868</td><td>7.819153</td><td>8.507468</td><td>8.292111</td><td>8.110704</td><td>8.378757</td><td>8.964693</td><td>7.48027</td><td>8.685181</td><td>7.8803</td><td>8.563234</td><td>7.983076</td><td>8.041513</td><td>7.752933</td><td>7.998287</td><td>7.996855</td><td>8.451578</td><td>8.078586</td><td>8.493111</td><td>7.956688</td><td>8.081241</td><td>8.560959</td><td>7.489322</td><td>8.082708</td><td>8.077267</td><td>8.442015</td><td>8.72514</td><td>8.382051</td><td>7.843385</td><td>8.729707</td><td>8.787079</td><td>8.17613</td><td>9.05596</td><td>7.867979</td><td>8.700227</td><td>8.623746</td><td>8.266793</td><td>6.744585</td><td>8.563574</td><td>7.654384</td><td>8.705004</td><td>8.56488</td><td>8.78545</td><td>8.45283</td><td>8.366543</td><td>8.633869</td><td>8.265726</td><td>7.96139</td><td>8.351327</td></tr><tr><td>&quot;MIRc&quot;</td><td>6.296114</td><td>6.550776</td><td>5.706783</td><td>6.310571</td><td>6.70205</td><td>6.629216</td><td>6.247873</td><td>6.516405</td><td>6.73081</td><td>6.773633</td><td>6.260395</td><td>6.754215</td><td>7.046439</td><td>6.03517</td><td>6.780722</td><td>6.124093</td><td>6.125035</td><td>6.56936</td><td>6.176742</td><td>6.74036</td><td>6.330321</td><td>6.257938</td><td>6.790849</td><td>6.552943</td><td>5.916706</td><td>6.680487</td><td>6.033106</td><td>6.428298</td><td>6.009089</td><td>6.079925</td><td>6.211709</td><td>6.186106</td><td>6.054307</td><td>6.138653</td><td>6.226082</td><td>6.392203</td><td>6.15743</td><td>6.43515</td><td>6.441611</td><td>6.069409</td><td>5.952254</td><td>6.362606</td><td>6.185695</td><td>6.678474</td><td>6.376533</td><td>6.322779</td><td>6.842327</td><td>6.545343</td><td>6.522741</td><td>6.890527</td><td>6.221476</td><td>6.843992</td><td>6.623429</td><td>6.617173</td><td>5.547947</td><td>6.292954</td><td>5.799944</td><td>6.791172</td><td>6.619036</td><td>6.796716</td><td>6.483925</td><td>6.426657</td><td>6.759517</td><td>6.062831</td><td>6.110031</td><td>6.439366</td></tr></tbody></table></div>"
      ],
      "text/plain": [
       "shape: (535, 67)\n",
       "┌────────────┬──────────┬──────────┬──────────┬───┬──────────┬──────────┬──────────┬──────────┐\n",
       "│ TE         ┆ N58      ┆ N60      ┆ N70      ┆ … ┆ V839     ┆ V883     ┆ V888     ┆ V940     │\n",
       "│ ---        ┆ ---      ┆ ---      ┆ ---      ┆   ┆ ---      ┆ ---      ┆ ---      ┆ ---      │\n",
       "│ str        ┆ f64      ┆ f64      ┆ f64      ┆   ┆ f64      ┆ f64      ┆ f64      ┆ f64      │\n",
       "╞════════════╪══════════╪══════════╪══════════╪═══╪══════════╪══════════╪══════════╪══════════╡\n",
       "│ HERV-K14CI ┆ 2.583999 ┆ 3.92374  ┆ 3.382264 ┆ … ┆ 3.477563 ┆ 4.013689 ┆ 3.594034 ┆ 3.264587 │\n",
       "│ MER67D     ┆ 1.748082 ┆ 1.880444 ┆ 2.522531 ┆ … ┆ 1.655074 ┆ 1.690529 ┆ 1.993703 ┆ 1.292548 │\n",
       "│ MIR3       ┆ 3.449018 ┆ 2.888113 ┆ 2.075519 ┆ … ┆ 3.341263 ┆ 4.115769 ┆ 2.991377 ┆ 4.103188 │\n",
       "│ HERVK11DI  ┆ 4.59405  ┆ 6.198976 ┆ 4.481862 ┆ … ┆ 5.046256 ┆ 4.597786 ┆ 4.522715 ┆ 4.731232 │\n",
       "│ MER41G     ┆ 2.708681 ┆ 3.202239 ┆ 1.786384 ┆ … ┆ 2.788859 ┆ 1.797129 ┆ 2.235086 ┆ 1.796145 │\n",
       "│ …          ┆ …        ┆ …        ┆ …        ┆ … ┆ …        ┆ …        ┆ …        ┆ …        │\n",
       "│ MIR        ┆ 6.677831 ┆ 6.788537 ┆ 6.314765 ┆ … ┆ 7.337293 ┆ 6.765664 ┆ 6.375749 ┆ 6.65867  │\n",
       "│ MER21B     ┆ 6.736581 ┆ 7.147338 ┆ 6.50934  ┆ … ┆ 7.347763 ┆ 6.729518 ┆ 6.794623 ┆ 6.681524 │\n",
       "│ L1M2A_5    ┆ 5.711999 ┆ 6.012728 ┆ 5.133204 ┆ … ┆ 6.041586 ┆ 5.673388 ┆ 5.238056 ┆ 5.605395 │\n",
       "│ L1MD2      ┆ 8.267135 ┆ 8.282533 ┆ 7.795038 ┆ … ┆ 8.633869 ┆ 8.265726 ┆ 7.96139  ┆ 8.351327 │\n",
       "│ MIRc       ┆ 6.296114 ┆ 6.550776 ┆ 5.706783 ┆ … ┆ 6.759517 ┆ 6.062831 ┆ 6.110031 ┆ 6.439366 │\n",
       "└────────────┴──────────┴──────────┴──────────┴───┴──────────┴──────────┴──────────┴──────────┘"
      ]
     },
     "execution_count": 191,
     "metadata": {},
     "output_type": "execute_result"
    }
   ],
   "source": [
    "preprocess_seq_data(te_counts, annotation_cols=[\"TE\"], min_median_expression=10, min_detection_rate=0.4, top_n=1000, output_path=\"mds_data/preprocessed/te_counts.csv\")"
   ]
  },
  {
   "cell_type": "code",
   "execution_count": 192,
   "metadata": {},
   "outputs": [
    {
     "data": {
      "text/html": [
       "<div><style>\n",
       ".dataframe > thead > tr,\n",
       ".dataframe > tbody > tr {\n",
       "  text-align: right;\n",
       "  white-space: pre-wrap;\n",
       "}\n",
       "</style>\n",
       "<small>shape: (98, 6)</small><table border=\"1\" class=\"dataframe\"><thead><tr><th>SAMPLE_NAME</th><th>SAMPLE_ID</th><th>GROUP</th><th>disease</th><th>risk</th><th>mutations</th></tr><tr><td>str</td><td>str</td><td>str</td><td>i64</td><td>i64</td><td>i64</td></tr></thead><tbody><tr><td>&quot;N54_S14&quot;</td><td>&quot;N54&quot;</td><td>&quot;CTR&quot;</td><td>1</td><td>0</td><td>0</td></tr><tr><td>&quot;N58_S18&quot;</td><td>&quot;N58&quot;</td><td>&quot;CTR&quot;</td><td>1</td><td>0</td><td>0</td></tr><tr><td>&quot;N60_S15&quot;</td><td>&quot;N60&quot;</td><td>&quot;CTR&quot;</td><td>1</td><td>0</td><td>0</td></tr><tr><td>&quot;N70_S16&quot;</td><td>&quot;N70&quot;</td><td>&quot;CTR&quot;</td><td>1</td><td>0</td><td>0</td></tr><tr><td>&quot;N82_S1&quot;</td><td>&quot;N82&quot;</td><td>&quot;CTR&quot;</td><td>1</td><td>0</td><td>0</td></tr><tr><td>&hellip;</td><td>&hellip;</td><td>&hellip;</td><td>&hellip;</td><td>&hellip;</td><td>&hellip;</td></tr><tr><td>&quot;V839_S17&quot;</td><td>&quot;V839&quot;</td><td>&quot;EPI&quot;</td><td>2</td><td>2</td><td>0</td></tr><tr><td>&quot;V883_S4&quot;</td><td>&quot;V883&quot;</td><td>&quot;SPL/EPI&quot;</td><td>2</td><td>1</td><td>0</td></tr><tr><td>&quot;V888_S2&quot;</td><td>&quot;V888&quot;</td><td>&quot;SPL&quot;</td><td>2</td><td>1</td><td>2</td></tr><tr><td>&quot;V940_S8&quot;</td><td>&quot;V940&quot;</td><td>&quot;SPL/EPI&quot;</td><td>2</td><td>1</td><td>0</td></tr><tr><td>&quot;V956_S6&quot;</td><td>&quot;V956&quot;</td><td>&quot;SPL&quot;</td><td>2</td><td>1</td><td>2</td></tr></tbody></table></div>"
      ],
      "text/plain": [
       "shape: (98, 6)\n",
       "┌─────────────┬───────────┬─────────┬─────────┬──────┬───────────┐\n",
       "│ SAMPLE_NAME ┆ SAMPLE_ID ┆ GROUP   ┆ disease ┆ risk ┆ mutations │\n",
       "│ ---         ┆ ---       ┆ ---     ┆ ---     ┆ ---  ┆ ---       │\n",
       "│ str         ┆ str       ┆ str     ┆ i64     ┆ i64  ┆ i64       │\n",
       "╞═════════════╪═══════════╪═════════╪═════════╪══════╪═══════════╡\n",
       "│ N54_S14     ┆ N54       ┆ CTR     ┆ 1       ┆ 0    ┆ 0         │\n",
       "│ N58_S18     ┆ N58       ┆ CTR     ┆ 1       ┆ 0    ┆ 0         │\n",
       "│ N60_S15     ┆ N60       ┆ CTR     ┆ 1       ┆ 0    ┆ 0         │\n",
       "│ N70_S16     ┆ N70       ┆ CTR     ┆ 1       ┆ 0    ┆ 0         │\n",
       "│ N82_S1      ┆ N82       ┆ CTR     ┆ 1       ┆ 0    ┆ 0         │\n",
       "│ …           ┆ …         ┆ …       ┆ …       ┆ …    ┆ …         │\n",
       "│ V839_S17    ┆ V839      ┆ EPI     ┆ 2       ┆ 2    ┆ 0         │\n",
       "│ V883_S4     ┆ V883      ┆ SPL/EPI ┆ 2       ┆ 1    ┆ 0         │\n",
       "│ V888_S2     ┆ V888      ┆ SPL     ┆ 2       ┆ 1    ┆ 2         │\n",
       "│ V940_S8     ┆ V940      ┆ SPL/EPI ┆ 2       ┆ 1    ┆ 0         │\n",
       "│ V956_S6     ┆ V956      ┆ SPL     ┆ 2       ┆ 1    ┆ 2         │\n",
       "└─────────────┴───────────┴─────────┴─────────┴──────┴───────────┘"
      ]
     },
     "execution_count": 192,
     "metadata": {},
     "output_type": "execute_result"
    }
   ],
   "source": [
    "annotations = pl.read_csv(\"mds_data/preprocessed/annotations.csv\")\n",
    "annotations"
   ]
  },
  {
   "cell_type": "code",
   "execution_count": 193,
   "metadata": {},
   "outputs": [],
   "source": [
    "annot_66 = annotations.filter(\n",
    "    pl.col(\"SAMPLE_ID\").is_in(common_names)\n",
    ").sort(\"SAMPLE_ID\").write_csv(\"mds_data/preprocessed/annotations_66.csv\")"
   ]
  },
  {
   "cell_type": "code",
   "execution_count": 194,
   "metadata": {},
   "outputs": [
    {
     "data": {
      "text/html": [
       "<div><style>\n",
       ".dataframe > thead > tr,\n",
       ".dataframe > tbody > tr {\n",
       "  text-align: right;\n",
       "  white-space: pre-wrap;\n",
       "}\n",
       "</style>\n",
       "<small>shape: (5, 10)</small><table border=\"1\" class=\"dataframe\"><thead><tr><th>GENE_ID</th><th>GENE_NAME</th><th>N58</th><th>N60</th><th>N70</th><th>N82</th><th>N83</th><th>N84</th><th>N85</th><th>V1048</th></tr><tr><td>str</td><td>str</td><td>i64</td><td>i64</td><td>i64</td><td>i64</td><td>i64</td><td>i64</td><td>i64</td><td>i64</td></tr></thead><tbody><tr><td>&quot;ENSG00000188026&quot;</td><td>&quot;RILPL1&quot;</td><td>235</td><td>244</td><td>266</td><td>89</td><td>232</td><td>198</td><td>246</td><td>404</td></tr><tr><td>&quot;ENSG00000167578&quot;</td><td>&quot;RAB4B&quot;</td><td>951</td><td>856</td><td>905</td><td>749</td><td>865</td><td>1441</td><td>682</td><td>764</td></tr><tr><td>&quot;ENSG00000078237&quot;</td><td>&quot;TIGAR&quot;</td><td>184</td><td>691</td><td>258</td><td>393</td><td>356</td><td>288</td><td>482</td><td>404</td></tr><tr><td>&quot;ENSG00000158486&quot;</td><td>&quot;DNAH3&quot;</td><td>0</td><td>16</td><td>8</td><td>30</td><td>4</td><td>10</td><td>0</td><td>0</td></tr><tr><td>&quot;ENSG00000283967&quot;</td><td>&quot;RP11-432M8.3&quot;</td><td>1</td><td>0</td><td>0</td><td>2</td><td>2</td><td>1</td><td>2</td><td>0</td></tr></tbody></table></div>"
      ],
      "text/plain": [
       "shape: (5, 10)\n",
       "┌─────────────────┬──────────────┬─────┬─────┬───┬─────┬──────┬─────┬───────┐\n",
       "│ GENE_ID         ┆ GENE_NAME    ┆ N58 ┆ N60 ┆ … ┆ N83 ┆ N84  ┆ N85 ┆ V1048 │\n",
       "│ ---             ┆ ---          ┆ --- ┆ --- ┆   ┆ --- ┆ ---  ┆ --- ┆ ---   │\n",
       "│ str             ┆ str          ┆ i64 ┆ i64 ┆   ┆ i64 ┆ i64  ┆ i64 ┆ i64   │\n",
       "╞═════════════════╪══════════════╪═════╪═════╪═══╪═════╪══════╪═════╪═══════╡\n",
       "│ ENSG00000188026 ┆ RILPL1       ┆ 235 ┆ 244 ┆ … ┆ 232 ┆ 198  ┆ 246 ┆ 404   │\n",
       "│ ENSG00000167578 ┆ RAB4B        ┆ 951 ┆ 856 ┆ … ┆ 865 ┆ 1441 ┆ 682 ┆ 764   │\n",
       "│ ENSG00000078237 ┆ TIGAR        ┆ 184 ┆ 691 ┆ … ┆ 356 ┆ 288  ┆ 482 ┆ 404   │\n",
       "│ ENSG00000158486 ┆ DNAH3        ┆ 0   ┆ 16  ┆ … ┆ 4   ┆ 10   ┆ 0   ┆ 0     │\n",
       "│ ENSG00000283967 ┆ RP11-432M8.3 ┆ 1   ┆ 0   ┆ … ┆ 2   ┆ 1    ┆ 2   ┆ 0     │\n",
       "└─────────────────┴──────────────┴─────┴─────┴───┴─────┴──────┴─────┴───────┘"
      ]
     },
     "execution_count": 194,
     "metadata": {},
     "output_type": "execute_result"
    }
   ],
   "source": [
    "mrna[:,:10].head()\n"
   ]
  }
 ],
 "metadata": {
  "kernelspec": {
   "display_name": ".venv",
   "language": "python",
   "name": "python3"
  },
  "language_info": {
   "codemirror_mode": {
    "name": "ipython",
    "version": 3
   },
   "file_extension": ".py",
   "mimetype": "text/x-python",
   "name": "python",
   "nbconvert_exporter": "python",
   "pygments_lexer": "ipython3",
   "version": "3.12.7"
  }
 },
 "nbformat": 4,
 "nbformat_minor": 2
}
