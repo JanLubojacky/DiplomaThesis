{
 "cells": [
  {
   "cell_type": "code",
   "execution_count": 1,
   "metadata": {},
   "outputs": [],
   "source": [
    "%load_ext autoreload\n",
    "%autoreload 2\n",
    "\n",
    "import polars as pl\n",
    "import numpy as np\n",
    "from src.preprocessing import preprocess_rnaseq_data"
   ]
  },
  {
   "cell_type": "markdown",
   "metadata": {},
   "source": [
    "# load and transform annotations"
   ]
  },
  {
   "cell_type": "code",
   "execution_count": 31,
   "metadata": {},
   "outputs": [],
   "source": [
    "# load sample_sheet\n",
    "sample_sheet = pl.read_excel(\"mds_data/raw/sample sheet for CVUT.xlsx\")\n",
    "\n",
    "annotations = (\n",
    "    sample_sheet.with_columns(\n",
    "        pl.col(\"SAMPLE_NAME\")\n",
    "            .str.split(\"_\")\n",
    "            .map_elements(lambda x: x[0], return_dtype=pl.String)\n",
    "            .alias(\"SAMPLE_ID\")\n",
    "    )\n",
    "    .sort(\"SAMPLE_ID\")\n",
    "    .drop(\"RUN\", \"PLATFORM\", \"N_UNIQ_MAP_READS\", \"UNIQ_MAP\")\n",
    "    .rename(\n",
    "        {\"1 disease\": \"disease\", \"2 risk\" : \"risk\", \"3 mutations (SF3B1only_wt)\" : \"mutations\"}\n",
    "    )\n",
    "    .select(\"SAMPLE_NAME\",\"SAMPLE_ID\",\"GROUP\",\"disease\",\"risk\",\"mutations\")\n",
    ")\n",
    "\n",
    "# annotations.write_csv(\"mds_data/preprocessed/annotations.csv\")"
   ]
  },
  {
   "cell_type": "markdown",
   "metadata": {},
   "source": [
    "# load mRNA"
   ]
  },
  {
   "cell_type": "code",
   "execution_count": 12,
   "metadata": {},
   "outputs": [],
   "source": [
    "# mrna\n",
    "mrna = pl.read_csv(\"mds_data/raw/200625_allRNA_fromRNAseq_annot_hg38.tsv\", separator=\"\\t\")\n",
    "rnaseq = mrna.filter(pl.col(\"GENE_TYPE\") == \"protein_coding\")\n",
    "\n",
    "rnaseq_samples = rnaseq.drop([\"CHR\", \"START\", \"END\", \"GENE_TYPE\"])\n",
    "gene_ids = rnaseq[\"GENE_ID\"]"
   ]
  },
  {
   "cell_type": "code",
   "execution_count": 19,
   "metadata": {},
   "outputs": [
    {
     "data": {
      "text/html": [
       "<div><style>\n",
       ".dataframe > thead > tr,\n",
       ".dataframe > tbody > tr {\n",
       "  text-align: right;\n",
       "  white-space: pre-wrap;\n",
       "}\n",
       "</style>\n",
       "<small>shape: (19_873, 88)</small><table border=\"1\" class=\"dataframe\"><thead><tr><th>GENE_ID</th><th>GENE_NAME</th><th>N54</th><th>N58</th><th>N60</th><th>N70</th><th>N82</th><th>N83</th><th>N84</th><th>N85</th><th>N86</th><th>N87</th><th>NV1428</th><th>NV911</th><th>NV912</th><th>V1048</th><th>V108</th><th>V1090</th><th>V1249</th><th>V125</th><th>V1279</th><th>V1297</th><th>V1321</th><th>V1337</th><th>V1394</th><th>V1422</th><th>V1426</th><th>V1441</th><th>V1456</th><th>V148</th><th>V1505</th><th>V1528</th><th>V1554</th><th>V1565</th><th>V1577</th><th>V1591</th><th>V1592</th><th>&hellip;</th><th>V1921</th><th>V2089</th><th>V2092</th><th>V2110</th><th>V2133</th><th>V221</th><th>V2241</th><th>V344</th><th>V359</th><th>V406</th><th>V456</th><th>V513</th><th>V538</th><th>V553</th><th>V574</th><th>V624</th><th>V630</th><th>V637</th><th>V655</th><th>V67</th><th>V681</th><th>V708</th><th>V712</th><th>V714</th><th>V716</th><th>V777</th><th>V788</th><th>V795</th><th>V806</th><th>V833</th><th>V839</th><th>V853</th><th>V883</th><th>V888</th><th>V940</th><th>V956</th><th>V957</th></tr><tr><td>str</td><td>str</td><td>i64</td><td>i64</td><td>i64</td><td>i64</td><td>i64</td><td>i64</td><td>i64</td><td>i64</td><td>i64</td><td>i64</td><td>i64</td><td>i64</td><td>i64</td><td>i64</td><td>i64</td><td>i64</td><td>i64</td><td>i64</td><td>i64</td><td>i64</td><td>i64</td><td>i64</td><td>i64</td><td>i64</td><td>i64</td><td>i64</td><td>i64</td><td>i64</td><td>i64</td><td>i64</td><td>i64</td><td>i64</td><td>i64</td><td>i64</td><td>i64</td><td>&hellip;</td><td>i64</td><td>i64</td><td>i64</td><td>i64</td><td>i64</td><td>i64</td><td>i64</td><td>i64</td><td>i64</td><td>i64</td><td>i64</td><td>i64</td><td>i64</td><td>i64</td><td>i64</td><td>i64</td><td>i64</td><td>i64</td><td>i64</td><td>i64</td><td>i64</td><td>i64</td><td>i64</td><td>i64</td><td>i64</td><td>i64</td><td>i64</td><td>i64</td><td>i64</td><td>i64</td><td>i64</td><td>i64</td><td>i64</td><td>i64</td><td>i64</td><td>i64</td><td>i64</td></tr></thead><tbody><tr><td>&quot;ENSG00000188026&quot;</td><td>&quot;RILPL1&quot;</td><td>407</td><td>235</td><td>244</td><td>266</td><td>89</td><td>232</td><td>198</td><td>246</td><td>134</td><td>279</td><td>131</td><td>133</td><td>114</td><td>404</td><td>60</td><td>207</td><td>196</td><td>172</td><td>146</td><td>256</td><td>393</td><td>195</td><td>110</td><td>106</td><td>463</td><td>128</td><td>239</td><td>203</td><td>223</td><td>153</td><td>65</td><td>384</td><td>146</td><td>226</td><td>210</td><td>&hellip;</td><td>200</td><td>120</td><td>362</td><td>315</td><td>93</td><td>170</td><td>376</td><td>120</td><td>715</td><td>180</td><td>314</td><td>263</td><td>128</td><td>426</td><td>352</td><td>164</td><td>538</td><td>44</td><td>131</td><td>432</td><td>262</td><td>98</td><td>65</td><td>92</td><td>355</td><td>167</td><td>283</td><td>122</td><td>458</td><td>439</td><td>139</td><td>260</td><td>273</td><td>474</td><td>364</td><td>176</td><td>69</td></tr><tr><td>&quot;ENSG00000167578&quot;</td><td>&quot;RAB4B&quot;</td><td>951</td><td>951</td><td>856</td><td>905</td><td>749</td><td>865</td><td>1441</td><td>682</td><td>851</td><td>681</td><td>849</td><td>555</td><td>454</td><td>764</td><td>1080</td><td>812</td><td>1214</td><td>710</td><td>1111</td><td>613</td><td>1526</td><td>1348</td><td>1390</td><td>765</td><td>1665</td><td>527</td><td>1259</td><td>1026</td><td>1317</td><td>1183</td><td>412</td><td>1682</td><td>1278</td><td>1177</td><td>753</td><td>&hellip;</td><td>914</td><td>1798</td><td>937</td><td>812</td><td>304</td><td>636</td><td>1165</td><td>1137</td><td>1514</td><td>1024</td><td>920</td><td>989</td><td>948</td><td>2094</td><td>1350</td><td>1989</td><td>1261</td><td>460</td><td>685</td><td>1374</td><td>778</td><td>831</td><td>786</td><td>1370</td><td>1304</td><td>882</td><td>3043</td><td>1605</td><td>801</td><td>1118</td><td>907</td><td>1815</td><td>887</td><td>1130</td><td>813</td><td>0</td><td>1242</td></tr><tr><td>&quot;ENSG00000078237&quot;</td><td>&quot;TIGAR&quot;</td><td>580</td><td>184</td><td>691</td><td>258</td><td>393</td><td>356</td><td>288</td><td>482</td><td>275</td><td>277</td><td>325</td><td>240</td><td>329</td><td>404</td><td>301</td><td>240</td><td>777</td><td>296</td><td>404</td><td>173</td><td>343</td><td>504</td><td>878</td><td>133</td><td>374</td><td>686</td><td>606</td><td>485</td><td>322</td><td>309</td><td>151</td><td>508</td><td>731</td><td>488</td><td>568</td><td>&hellip;</td><td>332</td><td>511</td><td>424</td><td>218</td><td>142</td><td>304</td><td>511</td><td>590</td><td>475</td><td>564</td><td>366</td><td>400</td><td>219</td><td>998</td><td>376</td><td>817</td><td>609</td><td>80</td><td>342</td><td>408</td><td>471</td><td>336</td><td>217</td><td>630</td><td>1098</td><td>243</td><td>746</td><td>361</td><td>499</td><td>486</td><td>1073</td><td>317</td><td>328</td><td>362</td><td>227</td><td>242</td><td>522</td></tr><tr><td>&quot;ENSG00000158486&quot;</td><td>&quot;DNAH3&quot;</td><td>18</td><td>0</td><td>16</td><td>8</td><td>30</td><td>4</td><td>10</td><td>0</td><td>18</td><td>9</td><td>3</td><td>3</td><td>10</td><td>0</td><td>3</td><td>0</td><td>27</td><td>29</td><td>0</td><td>12</td><td>97</td><td>0</td><td>4</td><td>2</td><td>31</td><td>6</td><td>0</td><td>195</td><td>8</td><td>0</td><td>8</td><td>11</td><td>7</td><td>3</td><td>0</td><td>&hellip;</td><td>0</td><td>12</td><td>92</td><td>17</td><td>266</td><td>0</td><td>7</td><td>8</td><td>4</td><td>3</td><td>3</td><td>0</td><td>2</td><td>20</td><td>43</td><td>0</td><td>12</td><td>0</td><td>134</td><td>6</td><td>0</td><td>4</td><td>9</td><td>80</td><td>23</td><td>10</td><td>227</td><td>0</td><td>3</td><td>47</td><td>109</td><td>0</td><td>0</td><td>19</td><td>2</td><td>0</td><td>17</td></tr><tr><td>&quot;ENSG00000283967&quot;</td><td>&quot;RP11-432M8.3&quot;</td><td>0</td><td>1</td><td>0</td><td>0</td><td>2</td><td>2</td><td>1</td><td>2</td><td>1</td><td>1</td><td>0</td><td>0</td><td>1</td><td>0</td><td>1</td><td>0</td><td>2</td><td>3</td><td>0</td><td>3</td><td>2</td><td>0</td><td>0</td><td>0</td><td>0</td><td>1</td><td>0</td><td>0</td><td>1</td><td>2</td><td>3</td><td>0</td><td>2</td><td>1</td><td>0</td><td>&hellip;</td><td>0</td><td>0</td><td>7</td><td>2</td><td>8</td><td>0</td><td>1</td><td>0</td><td>6</td><td>1</td><td>0</td><td>0</td><td>0</td><td>2</td><td>0</td><td>0</td><td>1</td><td>0</td><td>7</td><td>1</td><td>0</td><td>0</td><td>1</td><td>0</td><td>0</td><td>0</td><td>1</td><td>0</td><td>0</td><td>2</td><td>1</td><td>0</td><td>4</td><td>2</td><td>1</td><td>1</td><td>3</td></tr><tr><td>&hellip;</td><td>&hellip;</td><td>&hellip;</td><td>&hellip;</td><td>&hellip;</td><td>&hellip;</td><td>&hellip;</td><td>&hellip;</td><td>&hellip;</td><td>&hellip;</td><td>&hellip;</td><td>&hellip;</td><td>&hellip;</td><td>&hellip;</td><td>&hellip;</td><td>&hellip;</td><td>&hellip;</td><td>&hellip;</td><td>&hellip;</td><td>&hellip;</td><td>&hellip;</td><td>&hellip;</td><td>&hellip;</td><td>&hellip;</td><td>&hellip;</td><td>&hellip;</td><td>&hellip;</td><td>&hellip;</td><td>&hellip;</td><td>&hellip;</td><td>&hellip;</td><td>&hellip;</td><td>&hellip;</td><td>&hellip;</td><td>&hellip;</td><td>&hellip;</td><td>&hellip;</td><td>&hellip;</td><td>&hellip;</td><td>&hellip;</td><td>&hellip;</td><td>&hellip;</td><td>&hellip;</td><td>&hellip;</td><td>&hellip;</td><td>&hellip;</td><td>&hellip;</td><td>&hellip;</td><td>&hellip;</td><td>&hellip;</td><td>&hellip;</td><td>&hellip;</td><td>&hellip;</td><td>&hellip;</td><td>&hellip;</td><td>&hellip;</td><td>&hellip;</td><td>&hellip;</td><td>&hellip;</td><td>&hellip;</td><td>&hellip;</td><td>&hellip;</td><td>&hellip;</td><td>&hellip;</td><td>&hellip;</td><td>&hellip;</td><td>&hellip;</td><td>&hellip;</td><td>&hellip;</td><td>&hellip;</td><td>&hellip;</td><td>&hellip;</td><td>&hellip;</td><td>&hellip;</td><td>&hellip;</td></tr><tr><td>&quot;ENSG00000186115&quot;</td><td>&quot;CYP4F2&quot;</td><td>152</td><td>182</td><td>25</td><td>144</td><td>178</td><td>120</td><td>105</td><td>76</td><td>257</td><td>203</td><td>114</td><td>26</td><td>57</td><td>0</td><td>129</td><td>487</td><td>449</td><td>81</td><td>381</td><td>43</td><td>139</td><td>32</td><td>0</td><td>324</td><td>60</td><td>621</td><td>138</td><td>255</td><td>115</td><td>30</td><td>5</td><td>281</td><td>910</td><td>50</td><td>1116</td><td>&hellip;</td><td>116</td><td>22</td><td>14</td><td>474</td><td>58</td><td>59</td><td>119</td><td>248</td><td>38</td><td>8</td><td>11</td><td>127</td><td>177</td><td>8</td><td>96</td><td>458</td><td>157</td><td>191</td><td>58</td><td>213</td><td>308</td><td>752</td><td>481</td><td>237</td><td>138</td><td>7</td><td>468</td><td>545</td><td>11</td><td>143</td><td>226</td><td>70</td><td>152</td><td>84</td><td>171</td><td>0</td><td>278</td></tr><tr><td>&quot;ENSG00000009694&quot;</td><td>&quot;TENM1&quot;</td><td>22</td><td>32</td><td>11</td><td>42</td><td>20</td><td>32</td><td>26</td><td>25</td><td>75</td><td>33</td><td>19</td><td>30</td><td>3</td><td>11</td><td>173</td><td>5</td><td>54</td><td>31</td><td>25</td><td>46</td><td>93</td><td>2876</td><td>28</td><td>26</td><td>40</td><td>48</td><td>7</td><td>90</td><td>23</td><td>17</td><td>52</td><td>49</td><td>55</td><td>29</td><td>7</td><td>&hellip;</td><td>23</td><td>31</td><td>78</td><td>126</td><td>108</td><td>138</td><td>15</td><td>232</td><td>231</td><td>107</td><td>38</td><td>7</td><td>18</td><td>203</td><td>39</td><td>4</td><td>16</td><td>6</td><td>777</td><td>11</td><td>59</td><td>46</td><td>18</td><td>54</td><td>58</td><td>35</td><td>97</td><td>36</td><td>19</td><td>44</td><td>57</td><td>30</td><td>23</td><td>36</td><td>32</td><td>0</td><td>412</td></tr><tr><td>&quot;ENSG00000123685&quot;</td><td>&quot;BATF3&quot;</td><td>127</td><td>67</td><td>134</td><td>147</td><td>23</td><td>216</td><td>82</td><td>90</td><td>51</td><td>58</td><td>64</td><td>17</td><td>72</td><td>83</td><td>86</td><td>178</td><td>147</td><td>124</td><td>76</td><td>70</td><td>50</td><td>115</td><td>34</td><td>100</td><td>185</td><td>166</td><td>128</td><td>131</td><td>150</td><td>73</td><td>49</td><td>227</td><td>239</td><td>103</td><td>48</td><td>&hellip;</td><td>33</td><td>104</td><td>109</td><td>92</td><td>98</td><td>315</td><td>119</td><td>37</td><td>223</td><td>60</td><td>52</td><td>74</td><td>67</td><td>184</td><td>182</td><td>140</td><td>351</td><td>25</td><td>76</td><td>210</td><td>185</td><td>90</td><td>181</td><td>168</td><td>343</td><td>262</td><td>165</td><td>315</td><td>472</td><td>215</td><td>106</td><td>366</td><td>137</td><td>131</td><td>84</td><td>92</td><td>53</td></tr><tr><td>&quot;ENSG00000105063&quot;</td><td>&quot;PPP6R1&quot;</td><td>22845</td><td>28193</td><td>26489</td><td>21006</td><td>17065</td><td>22682</td><td>26769</td><td>18729</td><td>20738</td><td>22708</td><td>18446</td><td>18690</td><td>18843</td><td>24906</td><td>15464</td><td>18758</td><td>21505</td><td>28065</td><td>21519</td><td>26893</td><td>24247</td><td>22835</td><td>31129</td><td>19041</td><td>93501</td><td>24492</td><td>25224</td><td>19994</td><td>24718</td><td>21241</td><td>8544</td><td>43097</td><td>30355</td><td>28033</td><td>17662</td><td>&hellip;</td><td>17448</td><td>34875</td><td>15198</td><td>22322</td><td>4353</td><td>14988</td><td>20336</td><td>32244</td><td>31834</td><td>21384</td><td>15798</td><td>18774</td><td>17235</td><td>29815</td><td>30757</td><td>27047</td><td>23945</td><td>7123</td><td>14442</td><td>23880</td><td>29027</td><td>27304</td><td>13041</td><td>20407</td><td>23342</td><td>15997</td><td>46899</td><td>40751</td><td>27759</td><td>24271</td><td>16824</td><td>33950</td><td>23426</td><td>30607</td><td>25504</td><td>0</td><td>25170</td></tr><tr><td>&quot;ENSG00000181518&quot;</td><td>&quot;OR8D4&quot;</td><td>0</td><td>0</td><td>0</td><td>0</td><td>0</td><td>0</td><td>0</td><td>4</td><td>0</td><td>7</td><td>0</td><td>3</td><td>0</td><td>0</td><td>43</td><td>0</td><td>0</td><td>3</td><td>4</td><td>0</td><td>3</td><td>0</td><td>0</td><td>36</td><td>0</td><td>3</td><td>0</td><td>0</td><td>0</td><td>0</td><td>4</td><td>0</td><td>0</td><td>0</td><td>0</td><td>&hellip;</td><td>3</td><td>0</td><td>8</td><td>0</td><td>29</td><td>4</td><td>10</td><td>0</td><td>0</td><td>7</td><td>0</td><td>0</td><td>4</td><td>5</td><td>3</td><td>0</td><td>0</td><td>0</td><td>39</td><td>0</td><td>3</td><td>0</td><td>4</td><td>3</td><td>0</td><td>7</td><td>8</td><td>6</td><td>0</td><td>6</td><td>0</td><td>0</td><td>0</td><td>3</td><td>0</td><td>8</td><td>4</td></tr></tbody></table></div>"
      ],
      "text/plain": [
       "shape: (19_873, 88)\n",
       "┌─────────────────┬──────────────┬───────┬───────┬───┬───────┬───────┬──────┬───────┐\n",
       "│ GENE_ID         ┆ GENE_NAME    ┆ N54   ┆ N58   ┆ … ┆ V888  ┆ V940  ┆ V956 ┆ V957  │\n",
       "│ ---             ┆ ---          ┆ ---   ┆ ---   ┆   ┆ ---   ┆ ---   ┆ ---  ┆ ---   │\n",
       "│ str             ┆ str          ┆ i64   ┆ i64   ┆   ┆ i64   ┆ i64   ┆ i64  ┆ i64   │\n",
       "╞═════════════════╪══════════════╪═══════╪═══════╪═══╪═══════╪═══════╪══════╪═══════╡\n",
       "│ ENSG00000188026 ┆ RILPL1       ┆ 407   ┆ 235   ┆ … ┆ 474   ┆ 364   ┆ 176  ┆ 69    │\n",
       "│ ENSG00000167578 ┆ RAB4B        ┆ 951   ┆ 951   ┆ … ┆ 1130  ┆ 813   ┆ 0    ┆ 1242  │\n",
       "│ ENSG00000078237 ┆ TIGAR        ┆ 580   ┆ 184   ┆ … ┆ 362   ┆ 227   ┆ 242  ┆ 522   │\n",
       "│ ENSG00000158486 ┆ DNAH3        ┆ 18    ┆ 0     ┆ … ┆ 19    ┆ 2     ┆ 0    ┆ 17    │\n",
       "│ ENSG00000283967 ┆ RP11-432M8.3 ┆ 0     ┆ 1     ┆ … ┆ 2     ┆ 1     ┆ 1    ┆ 3     │\n",
       "│ …               ┆ …            ┆ …     ┆ …     ┆ … ┆ …     ┆ …     ┆ …    ┆ …     │\n",
       "│ ENSG00000186115 ┆ CYP4F2       ┆ 152   ┆ 182   ┆ … ┆ 84    ┆ 171   ┆ 0    ┆ 278   │\n",
       "│ ENSG00000009694 ┆ TENM1        ┆ 22    ┆ 32    ┆ … ┆ 36    ┆ 32    ┆ 0    ┆ 412   │\n",
       "│ ENSG00000123685 ┆ BATF3        ┆ 127   ┆ 67    ┆ … ┆ 131   ┆ 84    ┆ 92   ┆ 53    │\n",
       "│ ENSG00000105063 ┆ PPP6R1       ┆ 22845 ┆ 28193 ┆ … ┆ 30607 ┆ 25504 ┆ 0    ┆ 25170 │\n",
       "│ ENSG00000181518 ┆ OR8D4        ┆ 0     ┆ 0     ┆ … ┆ 3     ┆ 0     ┆ 8    ┆ 4     │\n",
       "└─────────────────┴──────────────┴───────┴───────┴───┴───────┴───────┴──────┴───────┘"
      ]
     },
     "execution_count": 19,
     "metadata": {},
     "output_type": "execute_result"
    }
   ],
   "source": [
    "sample_names = rnaseq_samples.columns[2:]\n",
    "\n",
    "rename_dict = {col: col.split(\"_\")[0] for col in sample_names}\n",
    "rnaseq_samples = rnaseq_samples.rename(rename_dict)"
   ]
  },
  {
   "cell_type": "markdown",
   "metadata": {},
   "source": [
    "- accounted for sequencing depth between different samples -> gene counts comparable between different samples now\n",
    "- computed scale invariant variance for each feature"
   ]
  },
  {
   "cell_type": "code",
   "execution_count": 15,
   "metadata": {},
   "outputs": [
    {
     "data": {
      "text/html": [
       "<div><style>\n",
       ".dataframe > thead > tr,\n",
       ".dataframe > tbody > tr {\n",
       "  text-align: right;\n",
       "  white-space: pre-wrap;\n",
       "}\n",
       "</style>\n",
       "<small>shape: (5_000, 88)</small><table border=\"1\" class=\"dataframe\"><thead><tr><th>GENE_ID</th><th>GENE_NAME</th><th>N54</th><th>N58</th><th>N60</th><th>N70</th><th>N82</th><th>N83</th><th>N84</th><th>N85</th><th>N86</th><th>N87</th><th>NV1428</th><th>NV911</th><th>NV912</th><th>V1048</th><th>V108</th><th>V1090</th><th>V1249</th><th>V125</th><th>V1279</th><th>V1297</th><th>V1321</th><th>V1337</th><th>V1394</th><th>V1422</th><th>V1426</th><th>V1441</th><th>V1456</th><th>V148</th><th>V1505</th><th>V1528</th><th>V1554</th><th>V1565</th><th>V1577</th><th>V1591</th><th>V1592</th><th>&hellip;</th><th>V1921</th><th>V2089</th><th>V2092</th><th>V2110</th><th>V2133</th><th>V221</th><th>V2241</th><th>V344</th><th>V359</th><th>V406</th><th>V456</th><th>V513</th><th>V538</th><th>V553</th><th>V574</th><th>V624</th><th>V630</th><th>V637</th><th>V655</th><th>V67</th><th>V681</th><th>V708</th><th>V712</th><th>V714</th><th>V716</th><th>V777</th><th>V788</th><th>V795</th><th>V806</th><th>V833</th><th>V839</th><th>V853</th><th>V883</th><th>V888</th><th>V940</th><th>V956</th><th>V957</th></tr><tr><td>str</td><td>str</td><td>f64</td><td>f64</td><td>f64</td><td>f64</td><td>f64</td><td>f64</td><td>f64</td><td>f64</td><td>f64</td><td>f64</td><td>f64</td><td>f64</td><td>f64</td><td>f64</td><td>f64</td><td>f64</td><td>f64</td><td>f64</td><td>f64</td><td>f64</td><td>f64</td><td>f64</td><td>f64</td><td>f64</td><td>f64</td><td>f64</td><td>f64</td><td>f64</td><td>f64</td><td>f64</td><td>f64</td><td>f64</td><td>f64</td><td>f64</td><td>f64</td><td>&hellip;</td><td>f64</td><td>f64</td><td>f64</td><td>f64</td><td>f64</td><td>f64</td><td>f64</td><td>f64</td><td>f64</td><td>f64</td><td>f64</td><td>f64</td><td>f64</td><td>f64</td><td>f64</td><td>f64</td><td>f64</td><td>f64</td><td>f64</td><td>f64</td><td>f64</td><td>f64</td><td>f64</td><td>f64</td><td>f64</td><td>f64</td><td>f64</td><td>f64</td><td>f64</td><td>f64</td><td>f64</td><td>f64</td><td>f64</td><td>f64</td><td>f64</td><td>f64</td><td>f64</td></tr></thead><tbody><tr><td>&quot;ENSG00000119862&quot;</td><td>&quot;LGALSL&quot;</td><td>4.609742</td><td>6.305122</td><td>7.34166</td><td>5.078978</td><td>2.327503</td><td>5.038414</td><td>4.830448</td><td>3.998894</td><td>6.377012</td><td>6.009781</td><td>2.580375</td><td>4.950584</td><td>4.330228</td><td>5.575172</td><td>4.88938</td><td>6.762901</td><td>6.795019</td><td>5.40077</td><td>4.383507</td><td>6.844055</td><td>6.498622</td><td>3.872351</td><td>5.664515</td><td>7.466903</td><td>5.681666</td><td>3.938071</td><td>5.605586</td><td>3.997065</td><td>8.245561</td><td>7.213235</td><td>5.015115</td><td>5.197198</td><td>4.312844</td><td>8.174119</td><td>5.537239</td><td>&hellip;</td><td>5.944051</td><td>2.691972</td><td>5.978596</td><td>5.227769</td><td>5.196696</td><td>4.806615</td><td>7.410495</td><td>4.408127</td><td>7.558337</td><td>6.46822</td><td>4.809567</td><td>8.575381</td><td>5.523641</td><td>3.62337</td><td>11.841561</td><td>4.792746</td><td>5.622478</td><td>4.813476</td><td>6.413924</td><td>6.560457</td><td>5.493026</td><td>5.168636</td><td>4.778831</td><td>4.347013</td><td>4.539656</td><td>4.68481</td><td>4.507909</td><td>6.209175</td><td>5.710011</td><td>4.971005</td><td>5.718705</td><td>4.468713</td><td>6.368104</td><td>5.004319</td><td>6.103638</td><td>4.013492</td><td>1.550629</td></tr><tr><td>&quot;ENSG00000115461&quot;</td><td>&quot;IGFBP5&quot;</td><td>0.383785</td><td>0.884401</td><td>3.852909</td><td>0.88264</td><td>2.574637</td><td>3.141027</td><td>4.55191</td><td>3.435569</td><td>7.631181</td><td>3.968279</td><td>1.259825</td><td>2.112607</td><td>3.167677</td><td>6.566436</td><td>1.877367</td><td>5.089771</td><td>1.486982</td><td>3.176264</td><td>3.511324</td><td>4.065442</td><td>4.701745</td><td>2.37554</td><td>4.916427</td><td>5.486655</td><td>1.68375</td><td>2.128038</td><td>3.682054</td><td>7.570638</td><td>2.46354</td><td>2.434868</td><td>4.242377</td><td>7.007405</td><td>2.672262</td><td>5.752307</td><td>6.451888</td><td>&hellip;</td><td>3.174334</td><td>3.480782</td><td>4.90968</td><td>5.736111</td><td>6.013312</td><td>3.668968</td><td>4.37315</td><td>2.686858</td><td>5.199256</td><td>1.793209</td><td>1.379537</td><td>2.448284</td><td>3.619038</td><td>2.744246</td><td>3.423066</td><td>3.606244</td><td>4.171163</td><td>1.353894</td><td>2.619673</td><td>10.724792</td><td>4.993573</td><td>2.168894</td><td>1.665129</td><td>1.174696</td><td>0.817695</td><td>3.324859</td><td>2.253932</td><td>4.925828</td><td>5.785254</td><td>1.986328</td><td>1.818282</td><td>3.137375</td><td>3.344353</td><td>4.169854</td><td>5.635978</td><td>4.013492</td><td>5.064197</td></tr><tr><td>&quot;ENSG00000173083&quot;</td><td>&quot;HPSE&quot;</td><td>5.62365</td><td>5.789863</td><td>6.852178</td><td>5.970369</td><td>4.012532</td><td>5.061277</td><td>4.842021</td><td>4.230021</td><td>5.692444</td><td>5.303934</td><td>3.842874</td><td>4.496573</td><td>5.321763</td><td>5.432615</td><td>6.554397</td><td>6.897859</td><td>5.812747</td><td>5.720641</td><td>5.107516</td><td>6.361615</td><td>5.745989</td><td>4.9728</td><td>5.093704</td><td>6.662515</td><td>5.612576</td><td>5.375189</td><td>5.064361</td><td>5.172437</td><td>7.324857</td><td>6.518994</td><td>4.827037</td><td>5.570144</td><td>5.045736</td><td>7.347978</td><td>5.397726</td><td>&hellip;</td><td>6.131655</td><td>4.631986</td><td>5.985651</td><td>6.093251</td><td>6.067702</td><td>5.638232</td><td>6.197849</td><td>3.588647</td><td>7.199151</td><td>5.569124</td><td>5.256233</td><td>6.70368</td><td>6.119288</td><td>5.981056</td><td>11.138551</td><td>4.842565</td><td>7.062777</td><td>4.858389</td><td>5.753053</td><td>6.474508</td><td>4.561179</td><td>4.534978</td><td>4.62575</td><td>4.452047</td><td>4.93086</td><td>6.000104</td><td>4.11464</td><td>4.209457</td><td>6.024754</td><td>4.741412</td><td>6.326534</td><td>5.279811</td><td>5.861999</td><td>5.799159</td><td>5.952677</td><td>5.099498</td><td>4.654609</td></tr><tr><td>&quot;ENSG00000137801&quot;</td><td>&quot;THBS1&quot;</td><td>8.445765</td><td>9.62882</td><td>11.310243</td><td>8.141002</td><td>6.105598</td><td>8.374229</td><td>8.632538</td><td>7.122861</td><td>10.94922</td><td>9.185084</td><td>4.454176</td><td>8.791534</td><td>8.699318</td><td>9.567764</td><td>8.71589</td><td>9.73339</td><td>9.896606</td><td>8.825487</td><td>7.496517</td><td>10.059819</td><td>9.130098</td><td>6.600726</td><td>8.688134</td><td>11.527945</td><td>8.371418</td><td>8.984096</td><td>10.193962</td><td>7.111358</td><td>11.197505</td><td>10.294274</td><td>7.822015</td><td>7.91981</td><td>9.238904</td><td>11.457146</td><td>7.425317</td><td>&hellip;</td><td>9.976953</td><td>3.702249</td><td>9.530873</td><td>9.798192</td><td>8.468951</td><td>7.944044</td><td>10.728624</td><td>6.882848</td><td>11.356415</td><td>8.52076</td><td>8.117116</td><td>10.432644</td><td>9.264041</td><td>6.058134</td><td>14.660534</td><td>7.416455</td><td>9.615201</td><td>7.524854</td><td>8.626543</td><td>10.343842</td><td>7.870944</td><td>9.527053</td><td>5.380756</td><td>5.313661</td><td>7.804956</td><td>6.403641</td><td>6.940197</td><td>10.247806</td><td>9.236112</td><td>7.179462</td><td>9.141851</td><td>6.889029</td><td>9.714324</td><td>9.391288</td><td>9.912739</td><td>0.0</td><td>1.909334</td></tr><tr><td>&quot;ENSG00000101162&quot;</td><td>&quot;TUBB1&quot;</td><td>5.024264</td><td>7.281474</td><td>9.105877</td><td>5.816877</td><td>3.699451</td><td>5.908215</td><td>6.35398</td><td>5.180819</td><td>8.091847</td><td>7.620279</td><td>3.373536</td><td>5.736305</td><td>5.912057</td><td>6.520498</td><td>6.120521</td><td>7.790017</td><td>7.270352</td><td>7.471383</td><td>4.811169</td><td>7.451022</td><td>7.850294</td><td>4.899481</td><td>6.450811</td><td>8.705624</td><td>6.297681</td><td>5.304556</td><td>5.701465</td><td>4.412993</td><td>9.21867</td><td>8.899784</td><td>6.052156</td><td>5.061337</td><td>5.375059</td><td>9.482943</td><td>4.317056</td><td>&hellip;</td><td>7.193222</td><td>4.992064</td><td>6.948275</td><td>7.409178</td><td>5.812949</td><td>4.555432</td><td>10.374933</td><td>3.551601</td><td>8.691506</td><td>6.428368</td><td>5.649217</td><td>10.906883</td><td>6.985803</td><td>5.190295</td><td>12.500251</td><td>4.859498</td><td>7.149664</td><td>3.488672</td><td>7.652105</td><td>7.782204</td><td>5.198999</td><td>5.437756</td><td>3.715916</td><td>4.731629</td><td>4.753585</td><td>2.62394</td><td>4.843387</td><td>7.603708</td><td>7.288539</td><td>3.128868</td><td>7.20109</td><td>2.559156</td><td>6.440348</td><td>6.62782</td><td>6.989698</td><td>0.0</td><td>2.174519</td></tr><tr><td>&hellip;</td><td>&hellip;</td><td>&hellip;</td><td>&hellip;</td><td>&hellip;</td><td>&hellip;</td><td>&hellip;</td><td>&hellip;</td><td>&hellip;</td><td>&hellip;</td><td>&hellip;</td><td>&hellip;</td><td>&hellip;</td><td>&hellip;</td><td>&hellip;</td><td>&hellip;</td><td>&hellip;</td><td>&hellip;</td><td>&hellip;</td><td>&hellip;</td><td>&hellip;</td><td>&hellip;</td><td>&hellip;</td><td>&hellip;</td><td>&hellip;</td><td>&hellip;</td><td>&hellip;</td><td>&hellip;</td><td>&hellip;</td><td>&hellip;</td><td>&hellip;</td><td>&hellip;</td><td>&hellip;</td><td>&hellip;</td><td>&hellip;</td><td>&hellip;</td><td>&hellip;</td><td>&hellip;</td><td>&hellip;</td><td>&hellip;</td><td>&hellip;</td><td>&hellip;</td><td>&hellip;</td><td>&hellip;</td><td>&hellip;</td><td>&hellip;</td><td>&hellip;</td><td>&hellip;</td><td>&hellip;</td><td>&hellip;</td><td>&hellip;</td><td>&hellip;</td><td>&hellip;</td><td>&hellip;</td><td>&hellip;</td><td>&hellip;</td><td>&hellip;</td><td>&hellip;</td><td>&hellip;</td><td>&hellip;</td><td>&hellip;</td><td>&hellip;</td><td>&hellip;</td><td>&hellip;</td><td>&hellip;</td><td>&hellip;</td><td>&hellip;</td><td>&hellip;</td><td>&hellip;</td><td>&hellip;</td><td>&hellip;</td><td>&hellip;</td><td>&hellip;</td><td>&hellip;</td><td>&hellip;</td></tr><tr><td>&quot;ENSG00000121406&quot;</td><td>&quot;ZNF549&quot;</td><td>7.159546</td><td>6.967168</td><td>6.639957</td><td>7.219407</td><td>6.592858</td><td>6.927599</td><td>6.543102</td><td>6.219506</td><td>6.158718</td><td>6.085332</td><td>6.795012</td><td>6.457562</td><td>6.591067</td><td>6.90825</td><td>7.304494</td><td>6.61999</td><td>7.195222</td><td>6.880289</td><td>7.196136</td><td>8.417588</td><td>7.031883</td><td>7.069739</td><td>7.016209</td><td>6.544977</td><td>8.27008</td><td>6.874759</td><td>6.555127</td><td>7.004077</td><td>6.996441</td><td>6.987034</td><td>7.233486</td><td>7.056999</td><td>7.189168</td><td>6.977688</td><td>6.755756</td><td>&hellip;</td><td>6.999319</td><td>6.458061</td><td>6.476127</td><td>6.657079</td><td>7.029764</td><td>6.980602</td><td>6.950234</td><td>6.874747</td><td>6.442704</td><td>6.942585</td><td>7.457708</td><td>7.314162</td><td>7.173207</td><td>6.974017</td><td>6.479216</td><td>6.985913</td><td>6.823911</td><td>6.50115</td><td>7.248639</td><td>6.926332</td><td>6.669926</td><td>6.790663</td><td>7.180936</td><td>7.051842</td><td>7.288007</td><td>7.756547</td><td>7.236971</td><td>6.942456</td><td>6.382392</td><td>7.324955</td><td>7.167454</td><td>7.301487</td><td>6.936964</td><td>6.586231</td><td>6.417766</td><td>0.0</td><td>7.14822</td></tr><tr><td>&quot;ENSG00000173480&quot;</td><td>&quot;ZNF417&quot;</td><td>7.520442</td><td>7.374774</td><td>7.056085</td><td>7.450963</td><td>7.373246</td><td>7.386739</td><td>6.911519</td><td>7.200952</td><td>6.946109</td><td>6.760108</td><td>6.929212</td><td>6.759575</td><td>7.104456</td><td>7.11795</td><td>7.841271</td><td>7.555765</td><td>8.077603</td><td>7.575516</td><td>7.58034</td><td>9.147917</td><td>7.384709</td><td>7.416049</td><td>7.186646</td><td>7.131651</td><td>8.833284</td><td>7.157249</td><td>7.02171</td><td>7.658366</td><td>7.011337</td><td>7.065439</td><td>8.163415</td><td>7.291184</td><td>7.381108</td><td>7.062617</td><td>7.568578</td><td>&hellip;</td><td>7.369259</td><td>6.896857</td><td>6.650506</td><td>6.891521</td><td>7.501699</td><td>7.658794</td><td>7.352647</td><td>7.135835</td><td>7.011845</td><td>7.919243</td><td>7.985993</td><td>7.595348</td><td>8.009563</td><td>7.790945</td><td>6.848137</td><td>7.181229</td><td>7.291761</td><td>7.4896</td><td>7.638197</td><td>7.252011</td><td>7.377859</td><td>7.276841</td><td>7.805223</td><td>7.333828</td><td>7.596943</td><td>7.897366</td><td>7.217369</td><td>7.438577</td><td>7.108766</td><td>7.530069</td><td>7.608932</td><td>7.184265</td><td>7.507625</td><td>7.031437</td><td>7.013452</td><td>0.0</td><td>7.490398</td></tr><tr><td>&quot;ENSG00000073536&quot;</td><td>&quot;NLE1&quot;</td><td>7.233477</td><td>7.644225</td><td>7.364629</td><td>7.60388</td><td>6.976537</td><td>7.156637</td><td>7.148057</td><td>7.057194</td><td>6.929481</td><td>7.082549</td><td>7.423584</td><td>7.348293</td><td>7.64609</td><td>7.486036</td><td>7.532657</td><td>7.551296</td><td>7.232083</td><td>7.933804</td><td>7.596337</td><td>7.241443</td><td>7.567622</td><td>7.099005</td><td>7.092394</td><td>7.696935</td><td>7.245986</td><td>7.427018</td><td>7.618814</td><td>6.978145</td><td>7.199421</td><td>7.171413</td><td>6.704976</td><td>8.626248</td><td>7.755269</td><td>7.163312</td><td>7.600747</td><td>&hellip;</td><td>7.366979</td><td>7.313036</td><td>7.461057</td><td>7.657945</td><td>7.906064</td><td>7.52206</td><td>7.343676</td><td>7.447016</td><td>7.721676</td><td>7.377811</td><td>7.435891</td><td>7.40309</td><td>6.98498</td><td>7.062313</td><td>5.965873</td><td>7.072876</td><td>7.014446</td><td>6.924572</td><td>7.555338</td><td>7.969748</td><td>7.501582</td><td>7.631108</td><td>7.558663</td><td>7.872811</td><td>7.588393</td><td>7.668467</td><td>8.056605</td><td>7.723613</td><td>7.63864</td><td>7.589309</td><td>7.154719</td><td>7.939297</td><td>7.784572</td><td>7.634957</td><td>7.37435</td><td>0.0</td><td>7.259458</td></tr><tr><td>&quot;ENSG00000100852&quot;</td><td>&quot;ARHGAP5&quot;</td><td>9.615983</td><td>8.944406</td><td>9.037929</td><td>9.532646</td><td>9.862554</td><td>9.816559</td><td>7.921965</td><td>9.805586</td><td>9.660742</td><td>9.28513</td><td>9.71981</td><td>9.346066</td><td>7.790377</td><td>9.409595</td><td>6.637992</td><td>8.046513</td><td>9.370198</td><td>9.074336</td><td>8.536449</td><td>9.749852</td><td>9.181239</td><td>9.105582</td><td>9.830294</td><td>9.155843</td><td>9.025563</td><td>9.857038</td><td>8.871359</td><td>9.277742</td><td>8.398815</td><td>9.383191</td><td>10.020691</td><td>8.934665</td><td>9.659212</td><td>8.836566</td><td>9.921786</td><td>&hellip;</td><td>9.619468</td><td>9.131779</td><td>9.00562</td><td>9.082912</td><td>8.555952</td><td>9.532174</td><td>9.282022</td><td>8.335274</td><td>8.95493</td><td>8.209931</td><td>9.722139</td><td>8.41057</td><td>7.789924</td><td>7.924109</td><td>7.569714</td><td>9.108189</td><td>9.442059</td><td>9.173961</td><td>8.365445</td><td>8.982243</td><td>8.975724</td><td>9.223921</td><td>9.997265</td><td>9.668165</td><td>10.048545</td><td>8.744432</td><td>7.529946</td><td>9.635188</td><td>9.103926</td><td>9.683704</td><td>9.60535</td><td>8.571407</td><td>9.154116</td><td>8.815191</td><td>8.973538</td><td>9.524952</td><td>9.738131</td></tr><tr><td>&quot;ENSG00000101109&quot;</td><td>&quot;STK4&quot;</td><td>8.576476</td><td>8.222702</td><td>8.318842</td><td>8.501177</td><td>8.648639</td><td>8.414515</td><td>8.288992</td><td>8.123035</td><td>8.389827</td><td>8.223365</td><td>8.543972</td><td>8.382061</td><td>8.197256</td><td>8.41569</td><td>8.995375</td><td>8.22463</td><td>8.7159</td><td>9.46444</td><td>8.33668</td><td>8.868043</td><td>8.568802</td><td>8.61398</td><td>9.112031</td><td>8.548016</td><td>8.463346</td><td>8.557817</td><td>8.026961</td><td>7.225308</td><td>8.725419</td><td>8.586128</td><td>9.320066</td><td>8.387948</td><td>8.35022</td><td>9.359194</td><td>8.659838</td><td>&hellip;</td><td>8.602166</td><td>7.602891</td><td>7.90104</td><td>8.175696</td><td>8.265843</td><td>8.056113</td><td>8.319841</td><td>8.646734</td><td>7.913016</td><td>8.869902</td><td>10.80185</td><td>8.513039</td><td>8.493042</td><td>8.995745</td><td>8.813367</td><td>8.471424</td><td>8.341775</td><td>9.579319</td><td>8.070289</td><td>9.335732</td><td>8.306253</td><td>8.213908</td><td>8.380362</td><td>8.213933</td><td>8.725478</td><td>10.099354</td><td>8.034995</td><td>8.210448</td><td>8.113992</td><td>8.786535</td><td>8.455882</td><td>8.610739</td><td>8.4829</td><td>7.94758</td><td>8.126453</td><td>0.0</td><td>9.11534</td></tr></tbody></table></div>"
      ],
      "text/plain": [
       "shape: (5_000, 88)\n",
       "┌────────────────┬───────────┬──────────┬──────────┬───┬──────────┬──────────┬──────────┬──────────┐\n",
       "│ GENE_ID        ┆ GENE_NAME ┆ N54      ┆ N58      ┆ … ┆ V888     ┆ V940     ┆ V956     ┆ V957     │\n",
       "│ ---            ┆ ---       ┆ ---      ┆ ---      ┆   ┆ ---      ┆ ---      ┆ ---      ┆ ---      │\n",
       "│ str            ┆ str       ┆ f64      ┆ f64      ┆   ┆ f64      ┆ f64      ┆ f64      ┆ f64      │\n",
       "╞════════════════╪═══════════╪══════════╪══════════╪═══╪══════════╪══════════╪══════════╪══════════╡\n",
       "│ ENSG0000011986 ┆ LGALSL    ┆ 4.609742 ┆ 6.305122 ┆ … ┆ 5.004319 ┆ 6.103638 ┆ 4.013492 ┆ 1.550629 │\n",
       "│ 2              ┆           ┆          ┆          ┆   ┆          ┆          ┆          ┆          │\n",
       "│ ENSG0000011546 ┆ IGFBP5    ┆ 0.383785 ┆ 0.884401 ┆ … ┆ 4.169854 ┆ 5.635978 ┆ 4.013492 ┆ 5.064197 │\n",
       "│ 1              ┆           ┆          ┆          ┆   ┆          ┆          ┆          ┆          │\n",
       "│ ENSG0000017308 ┆ HPSE      ┆ 5.62365  ┆ 5.789863 ┆ … ┆ 5.799159 ┆ 5.952677 ┆ 5.099498 ┆ 4.654609 │\n",
       "│ 3              ┆           ┆          ┆          ┆   ┆          ┆          ┆          ┆          │\n",
       "│ ENSG0000013780 ┆ THBS1     ┆ 8.445765 ┆ 9.62882  ┆ … ┆ 9.391288 ┆ 9.912739 ┆ 0.0      ┆ 1.909334 │\n",
       "│ 1              ┆           ┆          ┆          ┆   ┆          ┆          ┆          ┆          │\n",
       "│ ENSG0000010116 ┆ TUBB1     ┆ 5.024264 ┆ 7.281474 ┆ … ┆ 6.62782  ┆ 6.989698 ┆ 0.0      ┆ 2.174519 │\n",
       "│ 2              ┆           ┆          ┆          ┆   ┆          ┆          ┆          ┆          │\n",
       "│ …              ┆ …         ┆ …        ┆ …        ┆ … ┆ …        ┆ …        ┆ …        ┆ …        │\n",
       "│ ENSG0000012140 ┆ ZNF549    ┆ 7.159546 ┆ 6.967168 ┆ … ┆ 6.586231 ┆ 6.417766 ┆ 0.0      ┆ 7.14822  │\n",
       "│ 6              ┆           ┆          ┆          ┆   ┆          ┆          ┆          ┆          │\n",
       "│ ENSG0000017348 ┆ ZNF417    ┆ 7.520442 ┆ 7.374774 ┆ … ┆ 7.031437 ┆ 7.013452 ┆ 0.0      ┆ 7.490398 │\n",
       "│ 0              ┆           ┆          ┆          ┆   ┆          ┆          ┆          ┆          │\n",
       "│ ENSG0000007353 ┆ NLE1      ┆ 7.233477 ┆ 7.644225 ┆ … ┆ 7.634957 ┆ 7.37435  ┆ 0.0      ┆ 7.259458 │\n",
       "│ 6              ┆           ┆          ┆          ┆   ┆          ┆          ┆          ┆          │\n",
       "│ ENSG0000010085 ┆ ARHGAP5   ┆ 9.615983 ┆ 8.944406 ┆ … ┆ 8.815191 ┆ 8.973538 ┆ 9.524952 ┆ 9.738131 │\n",
       "│ 2              ┆           ┆          ┆          ┆   ┆          ┆          ┆          ┆          │\n",
       "│ ENSG0000010110 ┆ STK4      ┆ 8.576476 ┆ 8.222702 ┆ … ┆ 7.94758  ┆ 8.126453 ┆ 0.0      ┆ 9.11534  │\n",
       "│ 9              ┆           ┆          ┆          ┆   ┆          ┆          ┆          ┆          │\n",
       "└────────────────┴───────────┴──────────┴──────────┴───┴──────────┴──────────┴──────────┴──────────┘"
      ]
     },
     "execution_count": 15,
     "metadata": {},
     "output_type": "execute_result"
    }
   ],
   "source": [
    "mrna = pl.read_csv(\"mds_data/preprocessed/mrna.csv\")\n",
    "mrna"
   ]
  },
  {
   "cell_type": "markdown",
   "metadata": {},
   "source": [
    "# load miRNA"
   ]
  },
  {
   "cell_type": "code",
   "execution_count": 32,
   "metadata": {},
   "outputs": [],
   "source": [
    "# load mirna\n",
    "mirna = pl.read_excel(\"mds_data/raw/final_all_samples_miRNA_seq.xlsx\")"
   ]
  },
  {
   "cell_type": "code",
   "execution_count": 33,
   "metadata": {},
   "outputs": [
    {
     "data": {
      "text/html": [
       "<div><style>\n",
       ".dataframe > thead > tr,\n",
       ".dataframe > tbody > tr {\n",
       "  text-align: right;\n",
       "  white-space: pre-wrap;\n",
       "}\n",
       "</style>\n",
       "<small>shape: (2_553, 106)</small><table border=\"1\" class=\"dataframe\"><thead><tr><th>miRNA</th><th>V1565</th><th>N58</th><th>V1874</th><th>V777</th><th>N80</th><th>V1788</th><th>N65</th><th>V2368</th><th>N81</th><th>N59</th><th>V2286</th><th>V406</th><th>V100</th><th>N82</th><th>V2133</th><th>V574</th><th>V2115</th><th>V1921</th><th>V714</th><th>V637</th><th>V1742</th><th>V1744</th><th>V2248</th><th>V1428</th><th>V18</th><th>V1857</th><th>V839</th><th>V912</th><th>V1048</th><th>V911</th><th>V940</th><th>V681</th><th>V708</th><th>N60</th><th>N70</th><th>V148</th><th>&hellip;</th><th>V1441</th><th>V1699</th><th>V1297</th><th>V1321</th><th>V1505</th><th>V1249</th><th>V1456</th><th>V1426</th><th>V1394</th><th>V1592</th><th>V1528</th><th>V1591</th><th>V833</th><th>V1708</th><th>V1800</th><th>V1776</th><th>V1823</th><th>V1775</th><th>V1834</th><th>V2378</th><th>V2414</th><th>V1860</th><th>V1884</th><th>V1920</th><th>V2322</th><th>V2311</th><th>V2291</th><th>V1957</th><th>V2092</th><th>V2284</th><th>V2278</th><th>V2110</th><th>V2179</th><th>V2147</th><th>V2224</th><th>V2089</th><th>V788</th></tr><tr><td>str</td><td>i64</td><td>i64</td><td>i64</td><td>i64</td><td>i64</td><td>i64</td><td>i64</td><td>i64</td><td>i64</td><td>i64</td><td>i64</td><td>i64</td><td>i64</td><td>i64</td><td>i64</td><td>i64</td><td>i64</td><td>i64</td><td>i64</td><td>i64</td><td>i64</td><td>i64</td><td>i64</td><td>i64</td><td>i64</td><td>i64</td><td>i64</td><td>i64</td><td>i64</td><td>i64</td><td>i64</td><td>i64</td><td>i64</td><td>i64</td><td>i64</td><td>i64</td><td>&hellip;</td><td>i64</td><td>i64</td><td>i64</td><td>i64</td><td>i64</td><td>i64</td><td>i64</td><td>i64</td><td>i64</td><td>i64</td><td>i64</td><td>i64</td><td>i64</td><td>i64</td><td>i64</td><td>i64</td><td>i64</td><td>i64</td><td>i64</td><td>i64</td><td>i64</td><td>i64</td><td>i64</td><td>i64</td><td>i64</td><td>i64</td><td>i64</td><td>i64</td><td>i64</td><td>i64</td><td>i64</td><td>i64</td><td>i64</td><td>i64</td><td>i64</td><td>i64</td><td>i64</td></tr></thead><tbody><tr><td>&quot;hsa-let-7a-2-3p&quot;</td><td>23</td><td>0</td><td>11</td><td>12</td><td>11</td><td>0</td><td>13</td><td>12</td><td>12</td><td>36</td><td>15</td><td>0</td><td>35</td><td>0</td><td>17</td><td>10</td><td>12</td><td>10</td><td>13</td><td>0</td><td>0</td><td>18</td><td>58</td><td>11</td><td>12</td><td>60</td><td>0</td><td>17</td><td>26</td><td>13</td><td>18</td><td>0</td><td>13</td><td>0</td><td>0</td><td>0</td><td>&hellip;</td><td>0</td><td>15</td><td>10</td><td>0</td><td>27</td><td>0</td><td>0</td><td>0</td><td>0</td><td>10</td><td>0</td><td>18</td><td>0</td><td>0</td><td>10</td><td>19</td><td>79</td><td>12</td><td>0</td><td>17</td><td>24</td><td>17</td><td>0</td><td>12</td><td>33</td><td>0</td><td>13</td><td>0</td><td>10</td><td>12</td><td>17</td><td>47</td><td>0</td><td>13</td><td>26</td><td>20</td><td>12</td></tr><tr><td>&quot;hsa-let-7a-3p&quot;</td><td>1224</td><td>1619</td><td>3376</td><td>1972</td><td>1811</td><td>1490</td><td>589</td><td>1721</td><td>2311</td><td>1272</td><td>1211</td><td>1291</td><td>280</td><td>1455</td><td>197</td><td>1503</td><td>1785</td><td>1379</td><td>1150</td><td>877</td><td>1239</td><td>5322</td><td>1659</td><td>1081</td><td>4406</td><td>431</td><td>1859</td><td>2536</td><td>2123</td><td>2414</td><td>1062</td><td>1164</td><td>1876</td><td>642</td><td>663</td><td>1079</td><td>&hellip;</td><td>1970</td><td>1087</td><td>1096</td><td>1382</td><td>1564</td><td>2106</td><td>1657</td><td>542</td><td>1472</td><td>1084</td><td>1287</td><td>1164</td><td>1887</td><td>1440</td><td>1033</td><td>1326</td><td>879</td><td>2074</td><td>1043</td><td>3247</td><td>1356</td><td>1351</td><td>1133</td><td>242</td><td>3349</td><td>1745</td><td>1555</td><td>1015</td><td>1132</td><td>1667</td><td>3147</td><td>1072</td><td>797</td><td>1027</td><td>4693</td><td>1156</td><td>2476</td></tr><tr><td>&quot;hsa-let-7a-5p&quot;</td><td>608369</td><td>933004</td><td>1069405</td><td>850554</td><td>594247</td><td>1153938</td><td>272068</td><td>927860</td><td>608709</td><td>612056</td><td>445097</td><td>781218</td><td>122906</td><td>565251</td><td>118793</td><td>305157</td><td>1480722</td><td>512584</td><td>513964</td><td>414213</td><td>647469</td><td>1169076</td><td>569087</td><td>430376</td><td>821909</td><td>424407</td><td>145849</td><td>198109</td><td>250684</td><td>127034</td><td>181953</td><td>412468</td><td>315491</td><td>546646</td><td>555368</td><td>669588</td><td>&hellip;</td><td>803740</td><td>600765</td><td>772108</td><td>873003</td><td>522350</td><td>980458</td><td>359406</td><td>173762</td><td>1578499</td><td>967461</td><td>538431</td><td>420551</td><td>641671</td><td>1141110</td><td>1320356</td><td>598512</td><td>423203</td><td>827435</td><td>475608</td><td>1073692</td><td>604248</td><td>491170</td><td>735693</td><td>321751</td><td>654808</td><td>587831</td><td>722210</td><td>522961</td><td>451919</td><td>622551</td><td>737114</td><td>464613</td><td>481072</td><td>606788</td><td>716735</td><td>575703</td><td>175859</td></tr><tr><td>&quot;hsa-let-7b-3p&quot;</td><td>1001</td><td>932</td><td>1023</td><td>1177</td><td>614</td><td>1251</td><td>285</td><td>1086</td><td>615</td><td>825</td><td>617</td><td>880</td><td>185</td><td>796</td><td>280</td><td>428</td><td>1437</td><td>571</td><td>588</td><td>477</td><td>682</td><td>2064</td><td>710</td><td>653</td><td>1556</td><td>460</td><td>639</td><td>1164</td><td>811</td><td>964</td><td>528</td><td>947</td><td>695</td><td>578</td><td>799</td><td>1046</td><td>&hellip;</td><td>1406</td><td>540</td><td>1149</td><td>1080</td><td>955</td><td>1515</td><td>567</td><td>483</td><td>1356</td><td>867</td><td>894</td><td>504</td><td>1018</td><td>1922</td><td>960</td><td>678</td><td>434</td><td>1138</td><td>726</td><td>1606</td><td>857</td><td>800</td><td>934</td><td>402</td><td>1031</td><td>972</td><td>980</td><td>648</td><td>592</td><td>1132</td><td>1185</td><td>842</td><td>766</td><td>959</td><td>1045</td><td>1071</td><td>1190</td></tr><tr><td>&quot;hsa-let-7b-5p&quot;</td><td>342092</td><td>304774</td><td>294765</td><td>290467</td><td>176982</td><td>430718</td><td>85112</td><td>340512</td><td>176784</td><td>226291</td><td>145897</td><td>319534</td><td>43416</td><td>204520</td><td>37736</td><td>85009</td><td>435604</td><td>149807</td><td>181362</td><td>153956</td><td>268507</td><td>409761</td><td>169404</td><td>160704</td><td>272913</td><td>189890</td><td>67291</td><td>91100</td><td>104068</td><td>41298</td><td>72557</td><td>128479</td><td>137384</td><td>163905</td><td>191757</td><td>281571</td><td>&hellip;</td><td>324863</td><td>195570</td><td>401014</td><td>305985</td><td>171342</td><td>412420</td><td>125376</td><td>125395</td><td>653889</td><td>414149</td><td>191121</td><td>140175</td><td>196653</td><td>639686</td><td>607506</td><td>170347</td><td>151499</td><td>285312</td><td>179951</td><td>392510</td><td>187292</td><td>148536</td><td>284648</td><td>23841</td><td>199909</td><td>210815</td><td>244025</td><td>61806</td><td>150372</td><td>254426</td><td>242105</td><td>175841</td><td>174812</td><td>279244</td><td>212584</td><td>214623</td><td>47734</td></tr><tr><td>&hellip;</td><td>&hellip;</td><td>&hellip;</td><td>&hellip;</td><td>&hellip;</td><td>&hellip;</td><td>&hellip;</td><td>&hellip;</td><td>&hellip;</td><td>&hellip;</td><td>&hellip;</td><td>&hellip;</td><td>&hellip;</td><td>&hellip;</td><td>&hellip;</td><td>&hellip;</td><td>&hellip;</td><td>&hellip;</td><td>&hellip;</td><td>&hellip;</td><td>&hellip;</td><td>&hellip;</td><td>&hellip;</td><td>&hellip;</td><td>&hellip;</td><td>&hellip;</td><td>&hellip;</td><td>&hellip;</td><td>&hellip;</td><td>&hellip;</td><td>&hellip;</td><td>&hellip;</td><td>&hellip;</td><td>&hellip;</td><td>&hellip;</td><td>&hellip;</td><td>&hellip;</td><td>&hellip;</td><td>&hellip;</td><td>&hellip;</td><td>&hellip;</td><td>&hellip;</td><td>&hellip;</td><td>&hellip;</td><td>&hellip;</td><td>&hellip;</td><td>&hellip;</td><td>&hellip;</td><td>&hellip;</td><td>&hellip;</td><td>&hellip;</td><td>&hellip;</td><td>&hellip;</td><td>&hellip;</td><td>&hellip;</td><td>&hellip;</td><td>&hellip;</td><td>&hellip;</td><td>&hellip;</td><td>&hellip;</td><td>&hellip;</td><td>&hellip;</td><td>&hellip;</td><td>&hellip;</td><td>&hellip;</td><td>&hellip;</td><td>&hellip;</td><td>&hellip;</td><td>&hellip;</td><td>&hellip;</td><td>&hellip;</td><td>&hellip;</td><td>&hellip;</td><td>&hellip;</td><td>&hellip;</td></tr><tr><td>&quot;hsa-miR-98-5p&quot;</td><td>3623</td><td>6190</td><td>11127</td><td>5755</td><td>7987</td><td>7638</td><td>3615</td><td>4912</td><td>8379</td><td>6262</td><td>5413</td><td>5450</td><td>1803</td><td>3653</td><td>1182</td><td>8473</td><td>10794</td><td>6428</td><td>3961</td><td>4019</td><td>4443</td><td>18940</td><td>5849</td><td>3854</td><td>16665</td><td>2817</td><td>1123</td><td>979</td><td>1967</td><td>1027</td><td>1221</td><td>2805</td><td>1337</td><td>3109</td><td>3969</td><td>3602</td><td>&hellip;</td><td>3447</td><td>5269</td><td>3617</td><td>3639</td><td>8158</td><td>8577</td><td>3443</td><td>812</td><td>8640</td><td>3890</td><td>6773</td><td>6405</td><td>4029</td><td>3371</td><td>6547</td><td>4734</td><td>5314</td><td>6176</td><td>3302</td><td>6752</td><td>7932</td><td>8478</td><td>4598</td><td>611</td><td>7403</td><td>5955</td><td>10223</td><td>1818</td><td>5579</td><td>7627</td><td>6885</td><td>5565</td><td>5088</td><td>4885</td><td>7689</td><td>4639</td><td>1691</td></tr><tr><td>&quot;hsa-miR-99a-3p&quot;</td><td>145</td><td>578</td><td>2236</td><td>1246</td><td>721</td><td>1013</td><td>403</td><td>1020</td><td>834</td><td>636</td><td>206</td><td>571</td><td>88</td><td>891</td><td>124</td><td>309</td><td>1206</td><td>545</td><td>472</td><td>163</td><td>1245</td><td>1755</td><td>318</td><td>390</td><td>1226</td><td>325</td><td>286</td><td>445</td><td>514</td><td>429</td><td>572</td><td>295</td><td>541</td><td>305</td><td>961</td><td>440</td><td>&hellip;</td><td>781</td><td>337</td><td>754</td><td>1960</td><td>399</td><td>591</td><td>522</td><td>86</td><td>1033</td><td>302</td><td>200</td><td>439</td><td>1310</td><td>546</td><td>683</td><td>377</td><td>132</td><td>1758</td><td>1193</td><td>846</td><td>396</td><td>439</td><td>255</td><td>455</td><td>860</td><td>322</td><td>232</td><td>1239</td><td>392</td><td>643</td><td>765</td><td>260</td><td>205</td><td>689</td><td>1085</td><td>243</td><td>428</td></tr><tr><td>&quot;hsa-miR-99a-5p&quot;</td><td>2325</td><td>5912</td><td>46227</td><td>14205</td><td>10895</td><td>7921</td><td>13504</td><td>8229</td><td>18405</td><td>20334</td><td>1753</td><td>5294</td><td>690</td><td>4773</td><td>3681</td><td>6721</td><td>25169</td><td>12275</td><td>2998</td><td>9710</td><td>5980</td><td>14416</td><td>4179</td><td>2720</td><td>13514</td><td>3690</td><td>2604</td><td>1975</td><td>2367</td><td>3836</td><td>2411</td><td>2446</td><td>2441</td><td>2907</td><td>9476</td><td>4754</td><td>&hellip;</td><td>7129</td><td>3175</td><td>12337</td><td>15035</td><td>2854</td><td>9555</td><td>2547</td><td>1000</td><td>9952</td><td>2709</td><td>1768</td><td>2669</td><td>19219</td><td>5157</td><td>5804</td><td>3801</td><td>1972</td><td>13403</td><td>13523</td><td>8872</td><td>7846</td><td>6208</td><td>1859</td><td>3834</td><td>5936</td><td>3779</td><td>2658</td><td>12357</td><td>3347</td><td>9017</td><td>8966</td><td>3626</td><td>2045</td><td>5751</td><td>10492</td><td>1472</td><td>2934</td></tr><tr><td>&quot;hsa-miR-99b-3p&quot;</td><td>346</td><td>489</td><td>462</td><td>1045</td><td>264</td><td>385</td><td>156</td><td>388</td><td>267</td><td>314</td><td>118</td><td>377</td><td>80</td><td>330</td><td>79</td><td>298</td><td>1007</td><td>144</td><td>305</td><td>65</td><td>152</td><td>568</td><td>214</td><td>154</td><td>261</td><td>204</td><td>168</td><td>193</td><td>200</td><td>146</td><td>276</td><td>215</td><td>310</td><td>199</td><td>332</td><td>412</td><td>&hellip;</td><td>377</td><td>143</td><td>554</td><td>580</td><td>272</td><td>342</td><td>126</td><td>258</td><td>368</td><td>453</td><td>276</td><td>279</td><td>1007</td><td>266</td><td>548</td><td>179</td><td>96</td><td>618</td><td>287</td><td>778</td><td>356</td><td>155</td><td>83</td><td>600</td><td>358</td><td>312</td><td>696</td><td>1094</td><td>168</td><td>442</td><td>277</td><td>171</td><td>129</td><td>288</td><td>348</td><td>163</td><td>169</td></tr><tr><td>&quot;hsa-miR-99b-5p&quot;</td><td>4988</td><td>9466</td><td>8283</td><td>22241</td><td>4372</td><td>5951</td><td>2733</td><td>5937</td><td>4180</td><td>7358</td><td>2077</td><td>7670</td><td>1049</td><td>6569</td><td>2058</td><td>7738</td><td>23736</td><td>3128</td><td>5297</td><td>1010</td><td>3425</td><td>10739</td><td>3447</td><td>2979</td><td>4561</td><td>4218</td><td>3332</td><td>4092</td><td>4026</td><td>3819</td><td>3059</td><td>3837</td><td>6285</td><td>4057</td><td>6911</td><td>8820</td><td>&hellip;</td><td>6741</td><td>3189</td><td>10274</td><td>12296</td><td>4416</td><td>6425</td><td>2057</td><td>5556</td><td>8656</td><td>9527</td><td>5127</td><td>4290</td><td>21687</td><td>5209</td><td>13834</td><td>3130</td><td>1535</td><td>10455</td><td>6366</td><td>9715</td><td>4057</td><td>2626</td><td>1832</td><td>3543</td><td>5493</td><td>5585</td><td>16642</td><td>19576</td><td>2448</td><td>7074</td><td>4597</td><td>2888</td><td>2520</td><td>5725</td><td>5752</td><td>2499</td><td>3783</td></tr></tbody></table></div>"
      ],
      "text/plain": [
       "shape: (2_553, 106)\n",
       "┌─────────────────┬────────┬────────┬─────────┬───┬────────┬────────┬────────┬────────┐\n",
       "│ miRNA           ┆ V1565  ┆ N58    ┆ V1874   ┆ … ┆ V2147  ┆ V2224  ┆ V2089  ┆ V788   │\n",
       "│ ---             ┆ ---    ┆ ---    ┆ ---     ┆   ┆ ---    ┆ ---    ┆ ---    ┆ ---    │\n",
       "│ str             ┆ i64    ┆ i64    ┆ i64     ┆   ┆ i64    ┆ i64    ┆ i64    ┆ i64    │\n",
       "╞═════════════════╪════════╪════════╪═════════╪═══╪════════╪════════╪════════╪════════╡\n",
       "│ hsa-let-7a-2-3p ┆ 23     ┆ 0      ┆ 11      ┆ … ┆ 13     ┆ 26     ┆ 20     ┆ 12     │\n",
       "│ hsa-let-7a-3p   ┆ 1224   ┆ 1619   ┆ 3376    ┆ … ┆ 1027   ┆ 4693   ┆ 1156   ┆ 2476   │\n",
       "│ hsa-let-7a-5p   ┆ 608369 ┆ 933004 ┆ 1069405 ┆ … ┆ 606788 ┆ 716735 ┆ 575703 ┆ 175859 │\n",
       "│ hsa-let-7b-3p   ┆ 1001   ┆ 932    ┆ 1023    ┆ … ┆ 959    ┆ 1045   ┆ 1071   ┆ 1190   │\n",
       "│ hsa-let-7b-5p   ┆ 342092 ┆ 304774 ┆ 294765  ┆ … ┆ 279244 ┆ 212584 ┆ 214623 ┆ 47734  │\n",
       "│ …               ┆ …      ┆ …      ┆ …       ┆ … ┆ …      ┆ …      ┆ …      ┆ …      │\n",
       "│ hsa-miR-98-5p   ┆ 3623   ┆ 6190   ┆ 11127   ┆ … ┆ 4885   ┆ 7689   ┆ 4639   ┆ 1691   │\n",
       "│ hsa-miR-99a-3p  ┆ 145    ┆ 578    ┆ 2236    ┆ … ┆ 689    ┆ 1085   ┆ 243    ┆ 428    │\n",
       "│ hsa-miR-99a-5p  ┆ 2325   ┆ 5912   ┆ 46227   ┆ … ┆ 5751   ┆ 10492  ┆ 1472   ┆ 2934   │\n",
       "│ hsa-miR-99b-3p  ┆ 346    ┆ 489    ┆ 462     ┆ … ┆ 288    ┆ 348    ┆ 163    ┆ 169    │\n",
       "│ hsa-miR-99b-5p  ┆ 4988   ┆ 9466   ┆ 8283    ┆ … ┆ 5725   ┆ 5752   ┆ 2499   ┆ 3783   │\n",
       "└─────────────────┴────────┴────────┴─────────┴───┴────────┴────────┴────────┴────────┘"
      ]
     },
     "execution_count": 33,
     "metadata": {},
     "output_type": "execute_result"
    }
   ],
   "source": [
    "mirna_rename_dict = {\n",
    "    col: col.split(\"_\")[0] for col in mirna.columns[1:]\n",
    "}\n",
    "mirna = mirna.rename(mirna_rename_dict)\n",
    "mirna"
   ]
  },
  {
   "cell_type": "markdown",
   "metadata": {},
   "source": [
    "# load circRNA"
   ]
  },
  {
   "cell_type": "code",
   "execution_count": 43,
   "metadata": {},
   "outputs": [
    {
     "data": {
      "text/html": [
       "<div><style>\n",
       ".dataframe > thead > tr,\n",
       ".dataframe > tbody > tr {\n",
       "  text-align: right;\n",
       "  white-space: pre-wrap;\n",
       "}\n",
       "</style>\n",
       "<small>shape: (51_018, 95)</small><table border=\"1\" class=\"dataframe\"><thead><tr><th>CHR</th><th>START</th><th>END</th><th>TYPE</th><th>STRAND</th><th>circRNA_ID</th><th>GENE_ID</th><th>GENE_TYPE</th><th>GENE_NAME</th><th>N54_S14</th><th>N58_S18</th><th>N60_S15</th><th>N70_S16</th><th>N82_S1</th><th>N83_S3</th><th>N84_S4</th><th>N85_S19</th><th>N86_S13</th><th>N87_S20</th><th>NV1428_S3</th><th>NV911_S19</th><th>NV912_S20</th><th>V1048_S12</th><th>V108_S5</th><th>V1090_S8</th><th>V1249_S13</th><th>V125_S5</th><th>V1279_S21</th><th>V1297_S10</th><th>V1321_S4</th><th>V1337_S3</th><th>V1394_S4</th><th>V1422_S6</th><th>V1426_S9</th><th>V1441_S2</th><th>V1456_S13</th><th>V148_S10</th><th>&hellip;</th><th>V1921_S15</th><th>V2089_S9</th><th>V2092_S3</th><th>V2110_S16</th><th>V2133_S17</th><th>V221_S19</th><th>V2241_S15</th><th>V344_S16</th><th>V359_S3</th><th>V406_S18</th><th>V456_S4</th><th>V513_S16</th><th>V538_S12</th><th>V553_S11</th><th>V574_S9</th><th>V624_S15</th><th>V630_S11</th><th>V637_S21</th><th>V655_S18</th><th>V67_S6</th><th>V681_S10</th><th>V708_S17</th><th>V712_S22</th><th>V714_S19</th><th>V716_S1</th><th>V777_S20</th><th>V788_S11</th><th>V795_S8</th><th>V806_S1</th><th>V833_S12</th><th>V839_S17</th><th>V853_S7</th><th>V883_S4</th><th>V888_S2</th><th>V940_S8</th><th>V956_S6</th><th>V957_S2</th></tr><tr><td>str</td><td>i64</td><td>i64</td><td>str</td><td>str</td><td>str</td><td>str</td><td>str</td><td>str</td><td>i64</td><td>i64</td><td>i64</td><td>i64</td><td>i64</td><td>i64</td><td>i64</td><td>i64</td><td>i64</td><td>i64</td><td>i64</td><td>i64</td><td>i64</td><td>i64</td><td>i64</td><td>i64</td><td>i64</td><td>i64</td><td>i64</td><td>i64</td><td>i64</td><td>i64</td><td>i64</td><td>i64</td><td>i64</td><td>i64</td><td>i64</td><td>i64</td><td>&hellip;</td><td>i64</td><td>i64</td><td>i64</td><td>i64</td><td>i64</td><td>i64</td><td>i64</td><td>i64</td><td>i64</td><td>i64</td><td>i64</td><td>i64</td><td>i64</td><td>i64</td><td>i64</td><td>i64</td><td>i64</td><td>i64</td><td>i64</td><td>i64</td><td>i64</td><td>i64</td><td>i64</td><td>i64</td><td>i64</td><td>i64</td><td>i64</td><td>i64</td><td>i64</td><td>i64</td><td>i64</td><td>i64</td><td>i64</td><td>i64</td><td>i64</td><td>i64</td><td>i64</td></tr></thead><tbody><tr><td>&quot;chr1&quot;</td><td>567534</td><td>567677</td><td>&quot;exon&quot;</td><td>&quot;-&quot;</td><td>null</td><td>&quot;ENSG00000237973&quot;</td><td>&quot;unprocessed_pseudogene&quot;</td><td>&quot;MTCO1P12&quot;</td><td>2</td><td>null</td><td>null</td><td>null</td><td>null</td><td>null</td><td>null</td><td>null</td><td>null</td><td>null</td><td>null</td><td>null</td><td>null</td><td>null</td><td>null</td><td>null</td><td>null</td><td>null</td><td>null</td><td>null</td><td>null</td><td>null</td><td>null</td><td>null</td><td>null</td><td>null</td><td>null</td><td>null</td><td>&hellip;</td><td>null</td><td>null</td><td>null</td><td>null</td><td>null</td><td>null</td><td>null</td><td>null</td><td>null</td><td>null</td><td>null</td><td>null</td><td>null</td><td>null</td><td>null</td><td>null</td><td>null</td><td>null</td><td>null</td><td>null</td><td>null</td><td>null</td><td>null</td><td>null</td><td>null</td><td>null</td><td>null</td><td>null</td><td>null</td><td>null</td><td>null</td><td>null</td><td>null</td><td>null</td><td>null</td><td>null</td><td>null</td></tr><tr><td>&quot;chr1&quot;</td><td>741178</td><td>745550</td><td>&quot;exon&quot;</td><td>&quot;-&quot;</td><td>&quot;hsa_circ_0002333&quot;</td><td>&quot;ENSG00000230092&quot;</td><td>&quot;transcribed_unprocessed_pseudo…</td><td>&quot;AL669831.4&quot;</td><td>9</td><td>null</td><td>6</td><td>18</td><td>4</td><td>5</td><td>13</td><td>17</td><td>27</td><td>6</td><td>9</td><td>null</td><td>5</td><td>4</td><td>5</td><td>5</td><td>5</td><td>3</td><td>6</td><td>14</td><td>37</td><td>8</td><td>51</td><td>6</td><td>7</td><td>14</td><td>7</td><td>15</td><td>&hellip;</td><td>6</td><td>23</td><td>null</td><td>null</td><td>null</td><td>null</td><td>5</td><td>14</td><td>8</td><td>null</td><td>12</td><td>null</td><td>16</td><td>null</td><td>null</td><td>12</td><td>null</td><td>null</td><td>2</td><td>13</td><td>10</td><td>7</td><td>12</td><td>11</td><td>16</td><td>11</td><td>15</td><td>13</td><td>48</td><td>11</td><td>6</td><td>27</td><td>5</td><td>11</td><td>null</td><td>10</td><td>4</td></tr><tr><td>&quot;chr1&quot;</td><td>891302</td><td>892653</td><td>&quot;exon&quot;</td><td>&quot;-&quot;</td><td>&quot;hsa_circ_0009205&quot;</td><td>&quot;ENSG00000188976&quot;</td><td>&quot;protein_coding&quot;</td><td>&quot;NOC2L&quot;</td><td>2</td><td>null</td><td>null</td><td>null</td><td>null</td><td>null</td><td>null</td><td>null</td><td>2</td><td>null</td><td>null</td><td>null</td><td>null</td><td>null</td><td>null</td><td>null</td><td>null</td><td>null</td><td>null</td><td>null</td><td>null</td><td>null</td><td>null</td><td>null</td><td>2</td><td>null</td><td>null</td><td>null</td><td>&hellip;</td><td>null</td><td>null</td><td>null</td><td>null</td><td>null</td><td>null</td><td>null</td><td>null</td><td>3</td><td>null</td><td>null</td><td>null</td><td>null</td><td>null</td><td>null</td><td>null</td><td>null</td><td>null</td><td>null</td><td>null</td><td>null</td><td>null</td><td>null</td><td>null</td><td>null</td><td>null</td><td>3</td><td>null</td><td>null</td><td>null</td><td>null</td><td>4</td><td>null</td><td>null</td><td>null</td><td>null</td><td>null</td></tr><tr><td>&quot;chr1&quot;</td><td>1158623</td><td>1159348</td><td>&quot;exon&quot;</td><td>&quot;-&quot;</td><td>&quot;hsa_circ_0000002&quot;</td><td>&quot;ENSG00000078808&quot;</td><td>&quot;protein_coding&quot;</td><td>&quot;SDF4&quot;</td><td>17</td><td>23</td><td>25</td><td>23</td><td>22</td><td>23</td><td>32</td><td>27</td><td>35</td><td>26</td><td>23</td><td>13</td><td>8</td><td>13</td><td>10</td><td>18</td><td>23</td><td>31</td><td>16</td><td>15</td><td>49</td><td>31</td><td>104</td><td>16</td><td>34</td><td>23</td><td>27</td><td>32</td><td>&hellip;</td><td>11</td><td>68</td><td>12</td><td>8</td><td>null</td><td>null</td><td>8</td><td>38</td><td>34</td><td>19</td><td>19</td><td>17</td><td>17</td><td>36</td><td>11</td><td>53</td><td>23</td><td>5</td><td>33</td><td>41</td><td>34</td><td>28</td><td>10</td><td>25</td><td>21</td><td>33</td><td>49</td><td>53</td><td>29</td><td>11</td><td>5</td><td>123</td><td>33</td><td>33</td><td>18</td><td>29</td><td>15</td></tr><tr><td>&quot;chr1&quot;</td><td>1270866</td><td>1271085</td><td>&quot;exon&quot;</td><td>&quot;-&quot;</td><td>null</td><td>&quot;ENSG00000107404&quot;</td><td>&quot;protein_coding&quot;</td><td>&quot;DVL1&quot;</td><td>2</td><td>null</td><td>null</td><td>null</td><td>null</td><td>null</td><td>null</td><td>null</td><td>null</td><td>null</td><td>null</td><td>null</td><td>null</td><td>null</td><td>null</td><td>null</td><td>null</td><td>null</td><td>null</td><td>null</td><td>null</td><td>null</td><td>null</td><td>null</td><td>null</td><td>null</td><td>null</td><td>null</td><td>&hellip;</td><td>null</td><td>null</td><td>null</td><td>null</td><td>null</td><td>null</td><td>null</td><td>null</td><td>null</td><td>null</td><td>null</td><td>null</td><td>null</td><td>null</td><td>null</td><td>null</td><td>null</td><td>null</td><td>null</td><td>null</td><td>null</td><td>null</td><td>null</td><td>null</td><td>null</td><td>null</td><td>null</td><td>null</td><td>null</td><td>null</td><td>null</td><td>null</td><td>null</td><td>null</td><td>null</td><td>null</td><td>null</td></tr><tr><td>&hellip;</td><td>&hellip;</td><td>&hellip;</td><td>&hellip;</td><td>&hellip;</td><td>&hellip;</td><td>&hellip;</td><td>&hellip;</td><td>&hellip;</td><td>&hellip;</td><td>&hellip;</td><td>&hellip;</td><td>&hellip;</td><td>&hellip;</td><td>&hellip;</td><td>&hellip;</td><td>&hellip;</td><td>&hellip;</td><td>&hellip;</td><td>&hellip;</td><td>&hellip;</td><td>&hellip;</td><td>&hellip;</td><td>&hellip;</td><td>&hellip;</td><td>&hellip;</td><td>&hellip;</td><td>&hellip;</td><td>&hellip;</td><td>&hellip;</td><td>&hellip;</td><td>&hellip;</td><td>&hellip;</td><td>&hellip;</td><td>&hellip;</td><td>&hellip;</td><td>&hellip;</td><td>&hellip;</td><td>&hellip;</td><td>&hellip;</td><td>&hellip;</td><td>&hellip;</td><td>&hellip;</td><td>&hellip;</td><td>&hellip;</td><td>&hellip;</td><td>&hellip;</td><td>&hellip;</td><td>&hellip;</td><td>&hellip;</td><td>&hellip;</td><td>&hellip;</td><td>&hellip;</td><td>&hellip;</td><td>&hellip;</td><td>&hellip;</td><td>&hellip;</td><td>&hellip;</td><td>&hellip;</td><td>&hellip;</td><td>&hellip;</td><td>&hellip;</td><td>&hellip;</td><td>&hellip;</td><td>&hellip;</td><td>&hellip;</td><td>&hellip;</td><td>&hellip;</td><td>&hellip;</td><td>&hellip;</td><td>&hellip;</td><td>&hellip;</td><td>&hellip;</td><td>&hellip;</td><td>&hellip;</td></tr><tr><td>&quot;chr9&quot;</td><td>123301318</td><td>123330666</td><td>&quot;exon&quot;</td><td>&quot;-&quot;</td><td>null</td><td>&quot;ENSG00000136861&quot;</td><td>&quot;protein_coding&quot;</td><td>&quot;CDK5RAP2&quot;</td><td>null</td><td>null</td><td>null</td><td>null</td><td>null</td><td>null</td><td>null</td><td>null</td><td>null</td><td>null</td><td>null</td><td>null</td><td>null</td><td>null</td><td>null</td><td>null</td><td>null</td><td>null</td><td>null</td><td>null</td><td>null</td><td>null</td><td>null</td><td>null</td><td>null</td><td>null</td><td>null</td><td>null</td><td>&hellip;</td><td>null</td><td>null</td><td>null</td><td>null</td><td>null</td><td>null</td><td>null</td><td>null</td><td>null</td><td>null</td><td>null</td><td>null</td><td>null</td><td>null</td><td>null</td><td>null</td><td>null</td><td>null</td><td>null</td><td>null</td><td>null</td><td>null</td><td>null</td><td>null</td><td>null</td><td>null</td><td>null</td><td>null</td><td>null</td><td>null</td><td>null</td><td>null</td><td>null</td><td>null</td><td>null</td><td>null</td><td>2</td></tr><tr><td>&quot;chr9&quot;</td><td>133485340</td><td>133510125</td><td>&quot;exon&quot;</td><td>&quot;+&quot;</td><td>null</td><td>&quot;ENSG00000107164&quot;</td><td>&quot;protein_coding&quot;</td><td>&quot;FUBP3&quot;</td><td>null</td><td>null</td><td>null</td><td>null</td><td>null</td><td>null</td><td>null</td><td>null</td><td>null</td><td>null</td><td>null</td><td>null</td><td>null</td><td>null</td><td>null</td><td>null</td><td>null</td><td>null</td><td>null</td><td>null</td><td>null</td><td>null</td><td>null</td><td>null</td><td>null</td><td>null</td><td>null</td><td>null</td><td>&hellip;</td><td>null</td><td>null</td><td>null</td><td>null</td><td>null</td><td>null</td><td>null</td><td>null</td><td>null</td><td>null</td><td>null</td><td>null</td><td>null</td><td>null</td><td>null</td><td>null</td><td>null</td><td>null</td><td>null</td><td>null</td><td>null</td><td>null</td><td>null</td><td>null</td><td>null</td><td>null</td><td>null</td><td>null</td><td>null</td><td>null</td><td>null</td><td>null</td><td>null</td><td>null</td><td>null</td><td>null</td><td>2</td></tr><tr><td>&quot;chr9&quot;</td><td>135985012</td><td>135987539</td><td>&quot;exon&quot;</td><td>&quot;-&quot;</td><td>null</td><td>&quot;ENSG00000160271&quot;</td><td>&quot;protein_coding&quot;</td><td>&quot;RALGDS&quot;</td><td>null</td><td>null</td><td>null</td><td>null</td><td>null</td><td>null</td><td>null</td><td>null</td><td>null</td><td>null</td><td>null</td><td>null</td><td>null</td><td>null</td><td>null</td><td>null</td><td>null</td><td>null</td><td>null</td><td>null</td><td>null</td><td>null</td><td>null</td><td>null</td><td>null</td><td>null</td><td>null</td><td>null</td><td>&hellip;</td><td>null</td><td>null</td><td>null</td><td>null</td><td>null</td><td>null</td><td>null</td><td>null</td><td>null</td><td>null</td><td>null</td><td>null</td><td>null</td><td>null</td><td>null</td><td>null</td><td>null</td><td>null</td><td>null</td><td>null</td><td>null</td><td>null</td><td>null</td><td>null</td><td>null</td><td>null</td><td>null</td><td>null</td><td>null</td><td>null</td><td>null</td><td>null</td><td>null</td><td>null</td><td>null</td><td>null</td><td>2</td></tr><tr><td>&quot;chr9&quot;</td><td>140360747</td><td>140360953</td><td>&quot;intron&quot;</td><td>&quot;-&quot;</td><td>null</td><td>&quot;ENSG00000130653&quot;</td><td>&quot;protein_coding&quot;</td><td>&quot;PNPLA7&quot;</td><td>null</td><td>null</td><td>null</td><td>null</td><td>null</td><td>null</td><td>null</td><td>null</td><td>null</td><td>null</td><td>null</td><td>null</td><td>null</td><td>null</td><td>null</td><td>null</td><td>null</td><td>null</td><td>null</td><td>null</td><td>null</td><td>null</td><td>null</td><td>null</td><td>null</td><td>null</td><td>null</td><td>null</td><td>&hellip;</td><td>null</td><td>null</td><td>null</td><td>null</td><td>null</td><td>null</td><td>null</td><td>null</td><td>null</td><td>null</td><td>null</td><td>null</td><td>null</td><td>null</td><td>null</td><td>null</td><td>null</td><td>null</td><td>null</td><td>null</td><td>null</td><td>null</td><td>null</td><td>null</td><td>null</td><td>null</td><td>null</td><td>null</td><td>null</td><td>null</td><td>null</td><td>null</td><td>null</td><td>null</td><td>null</td><td>null</td><td>2</td></tr><tr><td>&quot;chrX&quot;</td><td>70783200</td><td>70784480</td><td>&quot;exon&quot;</td><td>&quot;+&quot;</td><td>null</td><td>&quot;ENSG00000147162&quot;</td><td>&quot;protein_coding&quot;</td><td>&quot;OGT&quot;</td><td>null</td><td>null</td><td>null</td><td>null</td><td>null</td><td>null</td><td>null</td><td>null</td><td>null</td><td>null</td><td>null</td><td>null</td><td>null</td><td>null</td><td>null</td><td>null</td><td>null</td><td>null</td><td>null</td><td>null</td><td>null</td><td>null</td><td>null</td><td>null</td><td>null</td><td>null</td><td>null</td><td>null</td><td>&hellip;</td><td>null</td><td>null</td><td>null</td><td>null</td><td>null</td><td>null</td><td>null</td><td>null</td><td>null</td><td>null</td><td>null</td><td>null</td><td>null</td><td>null</td><td>null</td><td>null</td><td>null</td><td>null</td><td>null</td><td>null</td><td>null</td><td>null</td><td>null</td><td>null</td><td>null</td><td>null</td><td>null</td><td>null</td><td>null</td><td>null</td><td>null</td><td>null</td><td>null</td><td>null</td><td>null</td><td>null</td><td>3</td></tr></tbody></table></div>"
      ],
      "text/plain": [
       "shape: (51_018, 95)\n",
       "┌──────┬───────────┬───────────┬────────┬───┬─────────┬─────────┬─────────┬─────────┐\n",
       "│ CHR  ┆ START     ┆ END       ┆ TYPE   ┆ … ┆ V888_S2 ┆ V940_S8 ┆ V956_S6 ┆ V957_S2 │\n",
       "│ ---  ┆ ---       ┆ ---       ┆ ---    ┆   ┆ ---     ┆ ---     ┆ ---     ┆ ---     │\n",
       "│ str  ┆ i64       ┆ i64       ┆ str    ┆   ┆ i64     ┆ i64     ┆ i64     ┆ i64     │\n",
       "╞══════╪═══════════╪═══════════╪════════╪═══╪═════════╪═════════╪═════════╪═════════╡\n",
       "│ chr1 ┆ 567534    ┆ 567677    ┆ exon   ┆ … ┆ null    ┆ null    ┆ null    ┆ null    │\n",
       "│ chr1 ┆ 741178    ┆ 745550    ┆ exon   ┆ … ┆ 11      ┆ null    ┆ 10      ┆ 4       │\n",
       "│ chr1 ┆ 891302    ┆ 892653    ┆ exon   ┆ … ┆ null    ┆ null    ┆ null    ┆ null    │\n",
       "│ chr1 ┆ 1158623   ┆ 1159348   ┆ exon   ┆ … ┆ 33      ┆ 18      ┆ 29      ┆ 15      │\n",
       "│ chr1 ┆ 1270866   ┆ 1271085   ┆ exon   ┆ … ┆ null    ┆ null    ┆ null    ┆ null    │\n",
       "│ …    ┆ …         ┆ …         ┆ …      ┆ … ┆ …       ┆ …       ┆ …       ┆ …       │\n",
       "│ chr9 ┆ 123301318 ┆ 123330666 ┆ exon   ┆ … ┆ null    ┆ null    ┆ null    ┆ 2       │\n",
       "│ chr9 ┆ 133485340 ┆ 133510125 ┆ exon   ┆ … ┆ null    ┆ null    ┆ null    ┆ 2       │\n",
       "│ chr9 ┆ 135985012 ┆ 135987539 ┆ exon   ┆ … ┆ null    ┆ null    ┆ null    ┆ 2       │\n",
       "│ chr9 ┆ 140360747 ┆ 140360953 ┆ intron ┆ … ┆ null    ┆ null    ┆ null    ┆ 2       │\n",
       "│ chrX ┆ 70783200  ┆ 70784480  ┆ exon   ┆ … ┆ null    ┆ null    ┆ null    ┆ 3       │\n",
       "└──────┴───────────┴───────────┴────────┴───┴─────────┴─────────┴─────────┴─────────┘"
      ]
     },
     "execution_count": 43,
     "metadata": {},
     "output_type": "execute_result"
    }
   ],
   "source": [
    "circrna"
   ]
  },
  {
   "cell_type": "code",
   "execution_count": 70,
   "metadata": {},
   "outputs": [
    {
     "data": {
      "text/html": [
       "<div><style>\n",
       ".dataframe > thead > tr,\n",
       ".dataframe > tbody > tr {\n",
       "  text-align: right;\n",
       "  white-space: pre-wrap;\n",
       "}\n",
       "</style>\n",
       "<small>shape: (40_694, 9)</small><table border=\"1\" class=\"dataframe\"><thead><tr><th>STRAND</th><th>circRNA_ID</th><th>GENE_ID</th><th>GENE_TYPE</th><th>GENE_NAME</th><th>N54_S14</th><th>N58_S18</th><th>N60_S15</th><th>N70_S16</th></tr><tr><td>str</td><td>str</td><td>str</td><td>str</td><td>str</td><td>i64</td><td>i64</td><td>i64</td><td>i64</td></tr></thead><tbody><tr><td>&quot;-&quot;</td><td>&quot;hsa_circ_0009205&quot;</td><td>&quot;ENSG00000188976&quot;</td><td>&quot;protein_coding&quot;</td><td>&quot;NOC2L&quot;</td><td>2</td><td>0</td><td>0</td><td>0</td></tr><tr><td>&quot;-&quot;</td><td>&quot;hsa_circ_0000002&quot;</td><td>&quot;ENSG00000078808&quot;</td><td>&quot;protein_coding&quot;</td><td>&quot;SDF4&quot;</td><td>17</td><td>23</td><td>25</td><td>23</td></tr><tr><td>&quot;-&quot;</td><td>null</td><td>&quot;ENSG00000107404&quot;</td><td>&quot;protein_coding&quot;</td><td>&quot;DVL1&quot;</td><td>2</td><td>0</td><td>0</td><td>0</td></tr><tr><td>&quot;-&quot;</td><td>null</td><td>&quot;ENSG00000160075&quot;</td><td>&quot;protein_coding&quot;</td><td>&quot;SSU72&quot;</td><td>3</td><td>0</td><td>0</td><td>0</td></tr><tr><td>&quot;-&quot;</td><td>&quot;hsa_circ_0000007&quot;</td><td>&quot;ENSG00000078369&quot;</td><td>&quot;protein_coding&quot;</td><td>&quot;GNB1&quot;</td><td>6</td><td>6</td><td>0</td><td>2</td></tr><tr><td>&hellip;</td><td>&hellip;</td><td>&hellip;</td><td>&hellip;</td><td>&hellip;</td><td>&hellip;</td><td>&hellip;</td><td>&hellip;</td><td>&hellip;</td></tr><tr><td>&quot;+&quot;</td><td>null</td><td>&quot;ENSG00000182150&quot;</td><td>&quot;protein_coding&quot;</td><td>&quot;ERCC6L2&quot;</td><td>0</td><td>0</td><td>0</td><td>0</td></tr><tr><td>&quot;-&quot;</td><td>null</td><td>&quot;ENSG00000136861&quot;</td><td>&quot;protein_coding&quot;</td><td>&quot;CDK5RAP2&quot;</td><td>0</td><td>0</td><td>0</td><td>0</td></tr><tr><td>&quot;+&quot;</td><td>null</td><td>&quot;ENSG00000107164&quot;</td><td>&quot;protein_coding&quot;</td><td>&quot;FUBP3&quot;</td><td>0</td><td>0</td><td>0</td><td>0</td></tr><tr><td>&quot;-&quot;</td><td>null</td><td>&quot;ENSG00000160271&quot;</td><td>&quot;protein_coding&quot;</td><td>&quot;RALGDS&quot;</td><td>0</td><td>0</td><td>0</td><td>0</td></tr><tr><td>&quot;+&quot;</td><td>null</td><td>&quot;ENSG00000147162&quot;</td><td>&quot;protein_coding&quot;</td><td>&quot;OGT&quot;</td><td>0</td><td>0</td><td>0</td><td>0</td></tr></tbody></table></div>"
      ],
      "text/plain": [
       "shape: (40_694, 9)\n",
       "┌────────┬───────────────┬──────────────┬──────────────┬───┬─────────┬─────────┬─────────┬─────────┐\n",
       "│ STRAND ┆ circRNA_ID    ┆ GENE_ID      ┆ GENE_TYPE    ┆ … ┆ N54_S14 ┆ N58_S18 ┆ N60_S15 ┆ N70_S16 │\n",
       "│ ---    ┆ ---           ┆ ---          ┆ ---          ┆   ┆ ---     ┆ ---     ┆ ---     ┆ ---     │\n",
       "│ str    ┆ str           ┆ str          ┆ str          ┆   ┆ i64     ┆ i64     ┆ i64     ┆ i64     │\n",
       "╞════════╪═══════════════╪══════════════╪══════════════╪═══╪═════════╪═════════╪═════════╪═════════╡\n",
       "│ -      ┆ hsa_circ_0009 ┆ ENSG00000188 ┆ protein_codi ┆ … ┆ 2       ┆ 0       ┆ 0       ┆ 0       │\n",
       "│        ┆ 205           ┆ 976          ┆ ng           ┆   ┆         ┆         ┆         ┆         │\n",
       "│ -      ┆ hsa_circ_0000 ┆ ENSG00000078 ┆ protein_codi ┆ … ┆ 17      ┆ 23      ┆ 25      ┆ 23      │\n",
       "│        ┆ 002           ┆ 808          ┆ ng           ┆   ┆         ┆         ┆         ┆         │\n",
       "│ -      ┆ null          ┆ ENSG00000107 ┆ protein_codi ┆ … ┆ 2       ┆ 0       ┆ 0       ┆ 0       │\n",
       "│        ┆               ┆ 404          ┆ ng           ┆   ┆         ┆         ┆         ┆         │\n",
       "│ -      ┆ null          ┆ ENSG00000160 ┆ protein_codi ┆ … ┆ 3       ┆ 0       ┆ 0       ┆ 0       │\n",
       "│        ┆               ┆ 075          ┆ ng           ┆   ┆         ┆         ┆         ┆         │\n",
       "│ -      ┆ hsa_circ_0000 ┆ ENSG00000078 ┆ protein_codi ┆ … ┆ 6       ┆ 6       ┆ 0       ┆ 2       │\n",
       "│        ┆ 007           ┆ 369          ┆ ng           ┆   ┆         ┆         ┆         ┆         │\n",
       "│ …      ┆ …             ┆ …            ┆ …            ┆ … ┆ …       ┆ …       ┆ …       ┆ …       │\n",
       "│ +      ┆ null          ┆ ENSG00000182 ┆ protein_codi ┆ … ┆ 0       ┆ 0       ┆ 0       ┆ 0       │\n",
       "│        ┆               ┆ 150          ┆ ng           ┆   ┆         ┆         ┆         ┆         │\n",
       "│ -      ┆ null          ┆ ENSG00000136 ┆ protein_codi ┆ … ┆ 0       ┆ 0       ┆ 0       ┆ 0       │\n",
       "│        ┆               ┆ 861          ┆ ng           ┆   ┆         ┆         ┆         ┆         │\n",
       "│ +      ┆ null          ┆ ENSG00000107 ┆ protein_codi ┆ … ┆ 0       ┆ 0       ┆ 0       ┆ 0       │\n",
       "│        ┆               ┆ 164          ┆ ng           ┆   ┆         ┆         ┆         ┆         │\n",
       "│ -      ┆ null          ┆ ENSG00000160 ┆ protein_codi ┆ … ┆ 0       ┆ 0       ┆ 0       ┆ 0       │\n",
       "│        ┆               ┆ 271          ┆ ng           ┆   ┆         ┆         ┆         ┆         │\n",
       "│ +      ┆ null          ┆ ENSG00000147 ┆ protein_codi ┆ … ┆ 0       ┆ 0       ┆ 0       ┆ 0       │\n",
       "│        ┆               ┆ 162          ┆ ng           ┆   ┆         ┆         ┆         ┆         │\n",
       "└────────┴───────────────┴──────────────┴──────────────┴───┴─────────┴─────────┴─────────┴─────────┘"
      ]
     },
     "execution_count": 70,
     "metadata": {},
     "output_type": "execute_result"
    }
   ],
   "source": [
    "circrna = pl.read_csv(\"mds_data/raw/200625_circRNA_fromRNAseq_annot_hg19.tsv\", separator=\"\\t\", null_values=[\"NA\"])\n",
    "# replace all null values for genes with 0\n",
    "circrna = circrna.with_columns(pl.all().exclude(\"CHR\",\"START\", \"END\", \"TYPE\", \"STRAND\",\t\"circRNA_ID\", \"GENE_ID\", \"GENE_TYPE\", \"GENE_NAME\").fill_null(strategy=\"zero\"))\n",
    "# basic filtering\n",
    "circrna = circrna.filter(\n",
    "   (pl.col(\"GENE_TYPE\").is_in([\"protein_coding\", \"lincRNA\", \"antisense\"])) &\n",
    "   (pl.col(\"TYPE\") == \"exon\")\n",
    ").drop(\"CHR\", \"START\", \"END\", \"TYPE\")\n",
    "circrna[:, :9]"
   ]
  },
  {
   "cell_type": "markdown",
   "metadata": {},
   "source": [
    "# load te counts"
   ]
  },
  {
   "cell_type": "code",
   "execution_count": null,
   "metadata": {},
   "outputs": [],
   "source": []
  },
  {
   "cell_type": "markdown",
   "metadata": {},
   "source": [
    "# load pirna"
   ]
  },
  {
   "cell_type": "code",
   "execution_count": null,
   "metadata": {},
   "outputs": [],
   "source": []
  },
  {
   "cell_type": "code",
   "execution_count": null,
   "metadata": {},
   "outputs": [],
   "source": [
    "# get common samples for all dataframes"
   ]
  }
 ],
 "metadata": {
  "kernelspec": {
   "display_name": ".venv",
   "language": "python",
   "name": "python3"
  },
  "language_info": {
   "codemirror_mode": {
    "name": "ipython",
    "version": 3
   },
   "file_extension": ".py",
   "mimetype": "text/x-python",
   "name": "python",
   "nbconvert_exporter": "python",
   "pygments_lexer": "ipython3",
   "version": "3.12.7"
  }
 },
 "nbformat": 4,
 "nbformat_minor": 2
}
