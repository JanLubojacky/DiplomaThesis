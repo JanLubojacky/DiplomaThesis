{
 "cells": [
  {
   "cell_type": "code",
   "execution_count": 17,
   "metadata": {},
   "outputs": [],
   "source": [
    "%load_ext autoreload\n",
    "%autoreload 2\n",
    "\n",
    "import polars as pl"
   ]
  },
  {
   "cell_type": "code",
   "execution_count": 3,
   "metadata": {},
   "outputs": [],
   "source": [
    "df = pl.read_csv(\"MDS_data_preprocessed/mrmr_selected/disease/mrna/mrna_fold_0.csv\")"
   ]
  },
  {
   "cell_type": "code",
   "execution_count": 6,
   "metadata": {},
   "outputs": [],
   "source": [
    "annots = pl.read_csv(\"MDS_data_preprocessed/annotations.csv\")"
   ]
  },
  {
   "cell_type": "code",
   "execution_count": 7,
   "metadata": {},
   "outputs": [
    {
     "data": {
      "text/html": [
       "<div><style>\n",
       ".dataframe > thead > tr,\n",
       ".dataframe > tbody > tr {\n",
       "  text-align: right;\n",
       "  white-space: pre-wrap;\n",
       "}\n",
       "</style>\n",
       "<small>shape: (74, 5)</small><table border=\"1\" class=\"dataframe\"><thead><tr><th>SAMPLE_NAME</th><th>1 disease</th><th>2 risk</th><th>3 mutations (SF3B1only_wt)</th><th>sample_ids</th></tr><tr><td>str</td><td>i64</td><td>i64</td><td>i64</td><td>str</td></tr></thead><tbody><tr><td>&quot;V1884_S17&quot;</td><td>2</td><td>2</td><td>0</td><td>&quot;V1884&quot;</td></tr><tr><td>&quot;N58_S18&quot;</td><td>1</td><td>0</td><td>0</td><td>&quot;N58&quot;</td></tr><tr><td>&quot;V630_S11&quot;</td><td>2</td><td>1</td><td>1</td><td>&quot;V630&quot;</td></tr><tr><td>&quot;N60_S15&quot;</td><td>1</td><td>0</td><td>0</td><td>&quot;N60&quot;</td></tr><tr><td>&quot;V1297_S10&quot;</td><td>2</td><td>2</td><td>0</td><td>&quot;V1297&quot;</td></tr><tr><td>&hellip;</td><td>&hellip;</td><td>&hellip;</td><td>&hellip;</td><td>&hellip;</td></tr><tr><td>&quot;V1048_S12&quot;</td><td>2</td><td>1</td><td>0</td><td>&quot;V1048&quot;</td></tr><tr><td>&quot;V806_S1&quot;</td><td>2</td><td>2</td><td>2</td><td>&quot;V806&quot;</td></tr><tr><td>&quot;V513_S16&quot;</td><td>2</td><td>2</td><td>1</td><td>&quot;V513&quot;</td></tr><tr><td>&quot;V1565_S13&quot;</td><td>2</td><td>2</td><td>0</td><td>&quot;V1565&quot;</td></tr><tr><td>&quot;V1920_S14&quot;</td><td>2</td><td>1</td><td>0</td><td>&quot;V1920&quot;</td></tr></tbody></table></div>"
      ],
      "text/plain": [
       "shape: (74, 5)\n",
       "┌─────────────┬───────────┬────────┬────────────────────────────┬────────────┐\n",
       "│ SAMPLE_NAME ┆ 1 disease ┆ 2 risk ┆ 3 mutations (SF3B1only_wt) ┆ sample_ids │\n",
       "│ ---         ┆ ---       ┆ ---    ┆ ---                        ┆ ---        │\n",
       "│ str         ┆ i64       ┆ i64    ┆ i64                        ┆ str        │\n",
       "╞═════════════╪═══════════╪════════╪════════════════════════════╪════════════╡\n",
       "│ V1884_S17   ┆ 2         ┆ 2      ┆ 0                          ┆ V1884      │\n",
       "│ N58_S18     ┆ 1         ┆ 0      ┆ 0                          ┆ N58        │\n",
       "│ V630_S11    ┆ 2         ┆ 1      ┆ 1                          ┆ V630       │\n",
       "│ N60_S15     ┆ 1         ┆ 0      ┆ 0                          ┆ N60        │\n",
       "│ V1297_S10   ┆ 2         ┆ 2      ┆ 0                          ┆ V1297      │\n",
       "│ …           ┆ …         ┆ …      ┆ …                          ┆ …          │\n",
       "│ V1048_S12   ┆ 2         ┆ 1      ┆ 0                          ┆ V1048      │\n",
       "│ V806_S1     ┆ 2         ┆ 2      ┆ 2                          ┆ V806       │\n",
       "│ V513_S16    ┆ 2         ┆ 2      ┆ 1                          ┆ V513       │\n",
       "│ V1565_S13   ┆ 2         ┆ 2      ┆ 0                          ┆ V1565      │\n",
       "│ V1920_S14   ┆ 2         ┆ 1      ┆ 0                          ┆ V1920      │\n",
       "└─────────────┴───────────┴────────┴────────────────────────────┴────────────┘"
      ]
     },
     "execution_count": 7,
     "metadata": {},
     "output_type": "execute_result"
    }
   ],
   "source": []
  },
  {
   "cell_type": "code",
   "execution_count": 19,
   "metadata": {},
   "outputs": [],
   "source": [
    "def process_mds_annotations(df, column_name):\n",
    "    mds_y = annots.select(pl.col(column_name), pl.col(\"sample_ids\"))\n",
    "    # drop all rows where the target is 0\n",
    "    mds_y = mds_y.filter(pl.col(column_name) != 0)\n",
    "    # subtract one from the 1 target column\n",
    "    mds_y = mds_y.with_columns(pl.col(column_name) - 1)\n",
    "\n",
    "    return mds_y\n",
    "\n",
    "process_mds_annotations(df, \"1 disease\").write_csv(\"disease_annoations.csv\")\n",
    "process_mds_annotations(df, \"2 risk\").write_csv(\"risk_annotations.csv\")\n",
    "process_mds_annotations(df, \"3 mutations (SF3B1only_wt)\").write_csv(\"mutation_annotations.csv\")"
   ]
  },
  {
   "cell_type": "code",
   "execution_count": 20,
   "metadata": {},
   "outputs": [],
   "source": [
    "disase_annotations = pl.read_csv(\"disease_annoations.csv\")\n",
    "\n",
    "mrna = pl.read_csv(\"MDS_data_preprocessed/mrna.csv\")\n",
    "mirna = pl.read_csv(\"MDS_data_preprocessed/mirna.csv\")\n",
    "circrna = pl.read_csv(\"MDS_data_preprocessed/circrna.csv\")\n",
    "te_counts = pl.read_csv(\"MDS_data_preprocessed/te_counts.csv\")"
   ]
  },
  {
   "cell_type": "code",
   "execution_count": 24,
   "metadata": {},
   "outputs": [
    {
     "data": {
      "text/plain": [
       "['RILPL1',\n",
       " 'RAB4B',\n",
       " 'TIGAR',\n",
       " 'DNAH3',\n",
       " 'RP11-432M8.3',\n",
       " 'RPL23A',\n",
       " 'ARL8B',\n",
       " 'DACH1',\n",
       " 'FMO2',\n",
       " 'TTC30A']"
      ]
     },
     "execution_count": 24,
     "metadata": {},
     "output_type": "execute_result"
    }
   ],
   "source": [
    "mrna[\"GENE_NAME\"].to_list()[:10]"
   ]
  },
  {
   "cell_type": "code",
   "execution_count": null,
   "metadata": {},
   "outputs": [],
   "source": [
    "from src.data_preprocessing import CVSplitManager\n",
    "\n",
    "CVSplitManager(\n",
    "    \"splits\",\n",
    "    n_splits=5,\n",
    "    test_size=0.2,\n",
    "    random_state=42,\n",
    ").create_splits(df[\"1 disease\"].to_numpy())"
   ]
  },
  {
   "cell_type": "code",
   "execution_count": 31,
   "metadata": {},
   "outputs": [],
   "source": [
    "gtf = pl.read_csv(\"gencode.v47.basic.annotation.gtf\",\n",
    "    separator='\\t',\n",
    "    skip_rows=5,\n",
    "    has_header=False,\n",
    ")\n",
    "gtf.columns = [\n",
    "    'chromosome',      # chr1 in your example\n",
    "    'source',         # HAVANA in your example\n",
    "    'feature_type',   # gene in your example\n",
    "    'start',          # 11121 in your example\n",
    "    'end',           # 24894 in your example\n",
    "    'score',         # . in your example\n",
    "    'strand',        # + in your example\n",
    "    'frame',         # . in your example\n",
    "    'attributes'     # gene_id \"ENSG00000290825.2\"; etc. in your example\n",
    "]"
   ]
  },
  {
   "cell_type": "code",
   "execution_count": 44,
   "metadata": {},
   "outputs": [
    {
     "data": {
      "text/html": [
       "<div><style>\n",
       ".dataframe > thead > tr,\n",
       ".dataframe > tbody > tr {\n",
       "  text-align: right;\n",
       "  white-space: pre-wrap;\n",
       "}\n",
       "</style>\n",
       "<small>shape: (5, 9)</small><table border=\"1\" class=\"dataframe\"><thead><tr><th>chromosome</th><th>source</th><th>feature_type</th><th>start</th><th>end</th><th>score</th><th>strand</th><th>frame</th><th>attributes</th></tr><tr><td>str</td><td>str</td><td>str</td><td>i64</td><td>i64</td><td>str</td><td>str</td><td>str</td><td>str</td></tr></thead><tbody><tr><td>&quot;chr1&quot;</td><td>&quot;HAVANA&quot;</td><td>&quot;gene&quot;</td><td>11121</td><td>24894</td><td>&quot;.&quot;</td><td>&quot;+&quot;</td><td>&quot;.&quot;</td><td>&quot;gene_id &quot;ENSG00000290825.2&quot;; g…</td></tr><tr><td>&quot;chr1&quot;</td><td>&quot;HAVANA&quot;</td><td>&quot;transcript&quot;</td><td>11426</td><td>14409</td><td>&quot;.&quot;</td><td>&quot;+&quot;</td><td>&quot;.&quot;</td><td>&quot;gene_id &quot;ENSG00000290825.2&quot;; t…</td></tr><tr><td>&quot;chr1&quot;</td><td>&quot;HAVANA&quot;</td><td>&quot;exon&quot;</td><td>11426</td><td>11671</td><td>&quot;.&quot;</td><td>&quot;+&quot;</td><td>&quot;.&quot;</td><td>&quot;gene_id &quot;ENSG00000290825.2&quot;; t…</td></tr><tr><td>&quot;chr1&quot;</td><td>&quot;HAVANA&quot;</td><td>&quot;exon&quot;</td><td>12010</td><td>12227</td><td>&quot;.&quot;</td><td>&quot;+&quot;</td><td>&quot;.&quot;</td><td>&quot;gene_id &quot;ENSG00000290825.2&quot;; t…</td></tr><tr><td>&quot;chr1&quot;</td><td>&quot;HAVANA&quot;</td><td>&quot;exon&quot;</td><td>12613</td><td>12721</td><td>&quot;.&quot;</td><td>&quot;+&quot;</td><td>&quot;.&quot;</td><td>&quot;gene_id &quot;ENSG00000290825.2&quot;; t…</td></tr></tbody></table></div>"
      ],
      "text/plain": [
       "shape: (5, 9)\n",
       "┌────────────┬────────┬──────────────┬───────┬───┬───────┬────────┬───────┬────────────────────────┐\n",
       "│ chromosome ┆ source ┆ feature_type ┆ start ┆ … ┆ score ┆ strand ┆ frame ┆ attributes             │\n",
       "│ ---        ┆ ---    ┆ ---          ┆ ---   ┆   ┆ ---   ┆ ---    ┆ ---   ┆ ---                    │\n",
       "│ str        ┆ str    ┆ str          ┆ i64   ┆   ┆ str   ┆ str    ┆ str   ┆ str                    │\n",
       "╞════════════╪════════╪══════════════╪═══════╪═══╪═══════╪════════╪═══════╪════════════════════════╡\n",
       "│ chr1       ┆ HAVANA ┆ gene         ┆ 11121 ┆ … ┆ .     ┆ +      ┆ .     ┆ gene_id                │\n",
       "│            ┆        ┆              ┆       ┆   ┆       ┆        ┆       ┆ \"ENSG00000290825.2\";   │\n",
       "│            ┆        ┆              ┆       ┆   ┆       ┆        ┆       ┆ g…                     │\n",
       "│ chr1       ┆ HAVANA ┆ transcript   ┆ 11426 ┆ … ┆ .     ┆ +      ┆ .     ┆ gene_id                │\n",
       "│            ┆        ┆              ┆       ┆   ┆       ┆        ┆       ┆ \"ENSG00000290825.2\";   │\n",
       "│            ┆        ┆              ┆       ┆   ┆       ┆        ┆       ┆ t…                     │\n",
       "│ chr1       ┆ HAVANA ┆ exon         ┆ 11426 ┆ … ┆ .     ┆ +      ┆ .     ┆ gene_id                │\n",
       "│            ┆        ┆              ┆       ┆   ┆       ┆        ┆       ┆ \"ENSG00000290825.2\";   │\n",
       "│            ┆        ┆              ┆       ┆   ┆       ┆        ┆       ┆ t…                     │\n",
       "│ chr1       ┆ HAVANA ┆ exon         ┆ 12010 ┆ … ┆ .     ┆ +      ┆ .     ┆ gene_id                │\n",
       "│            ┆        ┆              ┆       ┆   ┆       ┆        ┆       ┆ \"ENSG00000290825.2\";   │\n",
       "│            ┆        ┆              ┆       ┆   ┆       ┆        ┆       ┆ t…                     │\n",
       "│ chr1       ┆ HAVANA ┆ exon         ┆ 12613 ┆ … ┆ .     ┆ +      ┆ .     ┆ gene_id                │\n",
       "│            ┆        ┆              ┆       ┆   ┆       ┆        ┆       ┆ \"ENSG00000290825.2\";   │\n",
       "│            ┆        ┆              ┆       ┆   ┆       ┆        ┆       ┆ t…                     │\n",
       "└────────────┴────────┴──────────────┴───────┴───┴───────┴────────┴───────┴────────────────────────┘"
      ]
     },
     "execution_count": 44,
     "metadata": {},
     "output_type": "execute_result"
    }
   ],
   "source": [
    "gtf.head()"
   ]
  },
  {
   "cell_type": "code",
   "execution_count": 58,
   "metadata": {},
   "outputs": [],
   "source": [
    "attlist = gtf['attributes'].to_list()\n",
    "# write as a csv into a file\n",
    "with open('attributes.csv', 'w') as f:\n",
    "    for item in attlist:\n",
    "        f.write(\"%s\\n\" % item)"
   ]
  },
  {
   "cell_type": "code",
   "execution_count": 61,
   "metadata": {},
   "outputs": [],
   "source": [
    "att_df = pl.read_csv(\"attributes.csv\", separator=\";\", has_header=False, truncate_ragged_lines=True)"
   ]
  },
  {
   "cell_type": "code",
   "execution_count": 62,
   "metadata": {},
   "outputs": [
    {
     "data": {
      "text/html": [
       "<div><style>\n",
       ".dataframe > thead > tr,\n",
       ".dataframe > tbody > tr {\n",
       "  text-align: right;\n",
       "  white-space: pre-wrap;\n",
       "}\n",
       "</style>\n",
       "<small>shape: (2_225_578, 6)</small><table border=\"1\" class=\"dataframe\"><thead><tr><th>column_1</th><th>column_2</th><th>column_3</th><th>column_4</th><th>column_5</th><th>column_6</th></tr><tr><td>str</td><td>str</td><td>str</td><td>str</td><td>str</td><td>str</td></tr></thead><tbody><tr><td>&quot;gene_id &quot;ENSG00000290825.2&quot;&quot;</td><td>&quot; gene_type &quot;lncRNA&quot;&quot;</td><td>&quot; gene_name &quot;DDX11L16&quot;&quot;</td><td>&quot; level 2&quot;</td><td>&quot; tag &quot;overlaps_pseudogene&quot;&quot;</td><td>null</td></tr><tr><td>&quot;gene_id &quot;ENSG00000290825.2&quot;&quot;</td><td>&quot; transcript_id &quot;ENST0000083282…</td><td>&quot; gene_type &quot;lncRNA&quot;&quot;</td><td>&quot; gene_name &quot;DDX11L16&quot;&quot;</td><td>&quot; transcript_type &quot;lncRNA&quot;&quot;</td><td>&quot; transcript_name &quot;DDX11L16-264…</td></tr><tr><td>&quot;gene_id &quot;ENSG00000290825.2&quot;&quot;</td><td>&quot; transcript_id &quot;ENST0000083282…</td><td>&quot; gene_type &quot;lncRNA&quot;&quot;</td><td>&quot; gene_name &quot;DDX11L16&quot;&quot;</td><td>&quot; transcript_type &quot;lncRNA&quot;&quot;</td><td>&quot; transcript_name &quot;DDX11L16-264…</td></tr><tr><td>&quot;gene_id &quot;ENSG00000290825.2&quot;&quot;</td><td>&quot; transcript_id &quot;ENST0000083282…</td><td>&quot; gene_type &quot;lncRNA&quot;&quot;</td><td>&quot; gene_name &quot;DDX11L16&quot;&quot;</td><td>&quot; transcript_type &quot;lncRNA&quot;&quot;</td><td>&quot; transcript_name &quot;DDX11L16-264…</td></tr><tr><td>&quot;gene_id &quot;ENSG00000290825.2&quot;&quot;</td><td>&quot; transcript_id &quot;ENST0000083282…</td><td>&quot; gene_type &quot;lncRNA&quot;&quot;</td><td>&quot; gene_name &quot;DDX11L16&quot;&quot;</td><td>&quot; transcript_type &quot;lncRNA&quot;&quot;</td><td>&quot; transcript_name &quot;DDX11L16-264…</td></tr><tr><td>&hellip;</td><td>&hellip;</td><td>&hellip;</td><td>&hellip;</td><td>&hellip;</td><td>&hellip;</td></tr><tr><td>&quot;gene_id &quot;ENSG00000210195.2&quot;&quot;</td><td>&quot; transcript_id &quot;ENST0000038746…</td><td>&quot; gene_type &quot;Mt_tRNA&quot;&quot;</td><td>&quot; gene_name &quot;MT-TT&quot;&quot;</td><td>&quot; transcript_type &quot;Mt_tRNA&quot;&quot;</td><td>&quot; transcript_name &quot;MT-TT-201&quot;&quot;</td></tr><tr><td>&quot;gene_id &quot;ENSG00000210195.2&quot;&quot;</td><td>&quot; transcript_id &quot;ENST0000038746…</td><td>&quot; gene_type &quot;Mt_tRNA&quot;&quot;</td><td>&quot; gene_name &quot;MT-TT&quot;&quot;</td><td>&quot; transcript_type &quot;Mt_tRNA&quot;&quot;</td><td>&quot; transcript_name &quot;MT-TT-201&quot;&quot;</td></tr><tr><td>&quot;gene_id &quot;ENSG00000210196.2&quot;&quot;</td><td>&quot; gene_type &quot;Mt_tRNA&quot;&quot;</td><td>&quot; gene_name &quot;MT-TP&quot;&quot;</td><td>&quot; level 3&quot;</td><td>&quot; hgnc_id &quot;HGNC:7494&quot;&quot;</td><td>null</td></tr><tr><td>&quot;gene_id &quot;ENSG00000210196.2&quot;&quot;</td><td>&quot; transcript_id &quot;ENST0000038746…</td><td>&quot; gene_type &quot;Mt_tRNA&quot;&quot;</td><td>&quot; gene_name &quot;MT-TP&quot;&quot;</td><td>&quot; transcript_type &quot;Mt_tRNA&quot;&quot;</td><td>&quot; transcript_name &quot;MT-TP-201&quot;&quot;</td></tr><tr><td>&quot;gene_id &quot;ENSG00000210196.2&quot;&quot;</td><td>&quot; transcript_id &quot;ENST0000038746…</td><td>&quot; gene_type &quot;Mt_tRNA&quot;&quot;</td><td>&quot; gene_name &quot;MT-TP&quot;&quot;</td><td>&quot; transcript_type &quot;Mt_tRNA&quot;&quot;</td><td>&quot; transcript_name &quot;MT-TP-201&quot;&quot;</td></tr></tbody></table></div>"
      ],
      "text/plain": [
       "shape: (2_225_578, 6)\n",
       "┌──────────────────┬─────────────────┬────────────┬────────────┬─────────────────┬─────────────────┐\n",
       "│ column_1         ┆ column_2        ┆ column_3   ┆ column_4   ┆ column_5        ┆ column_6        │\n",
       "│ ---              ┆ ---             ┆ ---        ┆ ---        ┆ ---             ┆ ---             │\n",
       "│ str              ┆ str             ┆ str        ┆ str        ┆ str             ┆ str             │\n",
       "╞══════════════════╪═════════════════╪════════════╪════════════╪═════════════════╪═════════════════╡\n",
       "│ gene_id \"ENSG000 ┆ gene_type       ┆ gene_name  ┆  level 2   ┆ tag \"overlaps_p ┆ null            │\n",
       "│ 00290825.2\"      ┆ \"lncRNA\"        ┆ \"DDX11L16\" ┆            ┆ seudogene\"      ┆                 │\n",
       "│ gene_id \"ENSG000 ┆ transcript_id   ┆ gene_type  ┆ gene_name  ┆ transcript_type ┆ transcript_name │\n",
       "│ 00290825.2\"      ┆ \"ENST0000083282 ┆ \"lncRNA\"   ┆ \"DDX11L16\" ┆ \"lncRNA\"        ┆ \"DDX11L16-264…  │\n",
       "│                  ┆ …               ┆            ┆            ┆                 ┆                 │\n",
       "│ gene_id \"ENSG000 ┆ transcript_id   ┆ gene_type  ┆ gene_name  ┆ transcript_type ┆ transcript_name │\n",
       "│ 00290825.2\"      ┆ \"ENST0000083282 ┆ \"lncRNA\"   ┆ \"DDX11L16\" ┆ \"lncRNA\"        ┆ \"DDX11L16-264…  │\n",
       "│                  ┆ …               ┆            ┆            ┆                 ┆                 │\n",
       "│ gene_id \"ENSG000 ┆ transcript_id   ┆ gene_type  ┆ gene_name  ┆ transcript_type ┆ transcript_name │\n",
       "│ 00290825.2\"      ┆ \"ENST0000083282 ┆ \"lncRNA\"   ┆ \"DDX11L16\" ┆ \"lncRNA\"        ┆ \"DDX11L16-264…  │\n",
       "│                  ┆ …               ┆            ┆            ┆                 ┆                 │\n",
       "│ gene_id \"ENSG000 ┆ transcript_id   ┆ gene_type  ┆ gene_name  ┆ transcript_type ┆ transcript_name │\n",
       "│ 00290825.2\"      ┆ \"ENST0000083282 ┆ \"lncRNA\"   ┆ \"DDX11L16\" ┆ \"lncRNA\"        ┆ \"DDX11L16-264…  │\n",
       "│                  ┆ …               ┆            ┆            ┆                 ┆                 │\n",
       "│ …                ┆ …               ┆ …          ┆ …          ┆ …               ┆ …               │\n",
       "│ gene_id \"ENSG000 ┆ transcript_id   ┆ gene_type  ┆ gene_name  ┆ transcript_type ┆ transcript_name │\n",
       "│ 00210195.2\"      ┆ \"ENST0000038746 ┆ \"Mt_tRNA\"  ┆ \"MT-TT\"    ┆ \"Mt_tRNA\"       ┆ \"MT-TT-201\"     │\n",
       "│                  ┆ …               ┆            ┆            ┆                 ┆                 │\n",
       "│ gene_id \"ENSG000 ┆ transcript_id   ┆ gene_type  ┆ gene_name  ┆ transcript_type ┆ transcript_name │\n",
       "│ 00210195.2\"      ┆ \"ENST0000038746 ┆ \"Mt_tRNA\"  ┆ \"MT-TT\"    ┆ \"Mt_tRNA\"       ┆ \"MT-TT-201\"     │\n",
       "│                  ┆ …               ┆            ┆            ┆                 ┆                 │\n",
       "│ gene_id \"ENSG000 ┆ gene_type       ┆ gene_name  ┆  level 3   ┆ hgnc_id         ┆ null            │\n",
       "│ 00210196.2\"      ┆ \"Mt_tRNA\"       ┆ \"MT-TP\"    ┆            ┆ \"HGNC:7494\"     ┆                 │\n",
       "│ gene_id \"ENSG000 ┆ transcript_id   ┆ gene_type  ┆ gene_name  ┆ transcript_type ┆ transcript_name │\n",
       "│ 00210196.2\"      ┆ \"ENST0000038746 ┆ \"Mt_tRNA\"  ┆ \"MT-TP\"    ┆ \"Mt_tRNA\"       ┆ \"MT-TP-201\"     │\n",
       "│                  ┆ …               ┆            ┆            ┆                 ┆                 │\n",
       "│ gene_id \"ENSG000 ┆ transcript_id   ┆ gene_type  ┆ gene_name  ┆ transcript_type ┆ transcript_name │\n",
       "│ 00210196.2\"      ┆ \"ENST0000038746 ┆ \"Mt_tRNA\"  ┆ \"MT-TP\"    ┆ \"Mt_tRNA\"       ┆ \"MT-TP-201\"     │\n",
       "│                  ┆ …               ┆            ┆            ┆                 ┆                 │\n",
       "└──────────────────┴─────────────────┴────────────┴────────────┴─────────────────┴─────────────────┘"
      ]
     },
     "execution_count": 62,
     "metadata": {},
     "output_type": "execute_result"
    }
   ],
   "source": [
    "att_df"
   ]
  },
  {
   "cell_type": "code",
   "execution_count": 65,
   "metadata": {},
   "outputs": [],
   "source": [
    "genes = att_df.filter(pl.col(\"column_3\").str.contains(\"gene_name\"))"
   ]
  },
  {
   "cell_type": "code",
   "execution_count": 69,
   "metadata": {},
   "outputs": [],
   "source": [
    "idg = genes.select(pl.col(\"column_1\"), pl.col(\"column_3\"))"
   ]
  },
  {
   "cell_type": "code",
   "execution_count": 80,
   "metadata": {},
   "outputs": [],
   "source": [
    "# Cleaning column_1 and column_3\n",
    "cleaned_df = idg.with_columns(\n",
    "    pl.col(\"column_1\").str.extract(r'gene_id \"([^\"]+)\"', 1).alias(\"ensembl_id\"),\n",
    "    pl.col(\"column_3\").str.extract(r'gene_name \"([^\"]+)\"', 1).alias(\"gene_name\")\n",
    ").select([\"ensembl_id\", \"gene_name\"])"
   ]
  },
  {
   "cell_type": "code",
   "execution_count": 82,
   "metadata": {},
   "outputs": [],
   "source": [
    "cleaned_df.write_csv(\"ensembl_ids_genes_map.csv\")"
   ]
  },
  {
   "cell_type": "code",
   "execution_count": 84,
   "metadata": {},
   "outputs": [
    {
     "data": {
      "text/plain": [
       "(shape: (5, 5)\n",
       " ┌───────────────────┬──────┬────────┬─────────────────┬────────┐\n",
       " │ gene              ┆ mean ┆ median ┆ longest_isoform ┆ merged │\n",
       " │ ---               ┆ ---  ┆ ---    ┆ ---             ┆ ---    │\n",
       " │ str               ┆ i64  ┆ i64    ┆ i64             ┆ i64    │\n",
       " ╞═══════════════════╪══════╪════════╪═════════════════╪════════╡\n",
       " │ ENSG00000290825.2 ┆ 1762 ┆ 1762   ┆ 1762            ┆ 1762   │\n",
       " │ ENSG00000223972.6 ┆ 632  ┆ 632    ┆ 632             ┆ 632    │\n",
       " │ ENSG00000310526.1 ┆ 2004 ┆ 1876   ┆ 2843            ┆ 4211   │\n",
       " │ ENSG00000227232.6 ┆ 1380 ┆ 1380   ┆ 1380            ┆ 1380   │\n",
       " │ ENSG00000278267.1 ┆ 68   ┆ 68     ┆ 68              ┆ 68     │\n",
       " └───────────────────┴──────┴────────┴─────────────────┴────────┘,\n",
       " shape: (5, 2)\n",
       " ┌───────────────────┬───────────┐\n",
       " │ ensembl_id        ┆ gene_name │\n",
       " │ ---               ┆ ---       │\n",
       " │ str               ┆ str       │\n",
       " ╞═══════════════════╪═══════════╡\n",
       " │ ENSG00000290825.2 ┆ DDX11L16  │\n",
       " │ ENSG00000223972.6 ┆ DDX11L1   │\n",
       " │ ENSG00000310526.1 ┆ WASH7P    │\n",
       " │ ENSG00000227232.6 ┆ WASH7P    │\n",
       " │ ENSG00000278267.1 ┆ MIR6859-1 │\n",
       " └───────────────────┴───────────┘)"
      ]
     },
     "execution_count": 84,
     "metadata": {},
     "output_type": "execute_result"
    }
   ],
   "source": [
    "gene_length_df.head(), cleaned_df.head()"
   ]
  },
  {
   "cell_type": "code",
   "execution_count": 83,
   "metadata": {},
   "outputs": [],
   "source": [
    "gene_length_df = pl.read_csv(\"gene_length.txt\", separator=\"\\t\")"
   ]
  },
  {
   "cell_type": "code",
   "execution_count": 92,
   "metadata": {},
   "outputs": [],
   "source": [
    "gldf = gene_length_df.rename({\"gene\": \"ensembl_id\"})"
   ]
  },
  {
   "cell_type": "code",
   "execution_count": 93,
   "metadata": {},
   "outputs": [
    {
     "data": {
      "text/html": [
       "<div><style>\n",
       ".dataframe > thead > tr,\n",
       ".dataframe > tbody > tr {\n",
       "  text-align: right;\n",
       "  white-space: pre-wrap;\n",
       "}\n",
       "</style>\n",
       "<small>shape: (78_687, 5)</small><table border=\"1\" class=\"dataframe\"><thead><tr><th>ensembl_id</th><th>mean</th><th>median</th><th>longest_isoform</th><th>merged</th></tr><tr><td>str</td><td>i64</td><td>i64</td><td>i64</td><td>i64</td></tr></thead><tbody><tr><td>&quot;ENSG00000290825.2&quot;</td><td>1762</td><td>1762</td><td>1762</td><td>1762</td></tr><tr><td>&quot;ENSG00000223972.6&quot;</td><td>632</td><td>632</td><td>632</td><td>632</td></tr><tr><td>&quot;ENSG00000310526.1&quot;</td><td>2004</td><td>1876</td><td>2843</td><td>4211</td></tr><tr><td>&quot;ENSG00000227232.6&quot;</td><td>1380</td><td>1380</td><td>1380</td><td>1380</td></tr><tr><td>&quot;ENSG00000278267.1&quot;</td><td>68</td><td>68</td><td>68</td><td>68</td></tr><tr><td>&hellip;</td><td>&hellip;</td><td>&hellip;</td><td>&hellip;</td><td>&hellip;</td></tr><tr><td>&quot;ENSG00000292369.1&quot;</td><td>773</td><td>773</td><td>773</td><td>773</td></tr><tr><td>&quot;ENSG00000292370.2&quot;</td><td>1228</td><td>1228</td><td>1228</td><td>1228</td></tr><tr><td>&quot;ENSG00000292372.1&quot;</td><td>1437</td><td>1437</td><td>1437</td><td>1437</td></tr><tr><td>&quot;ENSG00000310542.1&quot;</td><td>1279</td><td>1279</td><td>1671</td><td>1703</td></tr><tr><td>&quot;ENSG00000292371.1&quot;</td><td>1306</td><td>1306</td><td>1306</td><td>1306</td></tr></tbody></table></div>"
      ],
      "text/plain": [
       "shape: (78_687, 5)\n",
       "┌───────────────────┬──────┬────────┬─────────────────┬────────┐\n",
       "│ ensembl_id        ┆ mean ┆ median ┆ longest_isoform ┆ merged │\n",
       "│ ---               ┆ ---  ┆ ---    ┆ ---             ┆ ---    │\n",
       "│ str               ┆ i64  ┆ i64    ┆ i64             ┆ i64    │\n",
       "╞═══════════════════╪══════╪════════╪═════════════════╪════════╡\n",
       "│ ENSG00000290825.2 ┆ 1762 ┆ 1762   ┆ 1762            ┆ 1762   │\n",
       "│ ENSG00000223972.6 ┆ 632  ┆ 632    ┆ 632             ┆ 632    │\n",
       "│ ENSG00000310526.1 ┆ 2004 ┆ 1876   ┆ 2843            ┆ 4211   │\n",
       "│ ENSG00000227232.6 ┆ 1380 ┆ 1380   ┆ 1380            ┆ 1380   │\n",
       "│ ENSG00000278267.1 ┆ 68   ┆ 68     ┆ 68              ┆ 68     │\n",
       "│ …                 ┆ …    ┆ …      ┆ …               ┆ …      │\n",
       "│ ENSG00000292369.1 ┆ 773  ┆ 773    ┆ 773             ┆ 773    │\n",
       "│ ENSG00000292370.2 ┆ 1228 ┆ 1228   ┆ 1228            ┆ 1228   │\n",
       "│ ENSG00000292372.1 ┆ 1437 ┆ 1437   ┆ 1437            ┆ 1437   │\n",
       "│ ENSG00000310542.1 ┆ 1279 ┆ 1279   ┆ 1671            ┆ 1703   │\n",
       "│ ENSG00000292371.1 ┆ 1306 ┆ 1306   ┆ 1306            ┆ 1306   │\n",
       "└───────────────────┴──────┴────────┴─────────────────┴────────┘"
      ]
     },
     "execution_count": 93,
     "metadata": {},
     "output_type": "execute_result"
    }
   ],
   "source": [
    "gldf"
   ]
  },
  {
   "cell_type": "code",
   "execution_count": 96,
   "metadata": {},
   "outputs": [],
   "source": [
    "gldf.join(cleaned_df, on=\"ensembl_id\", how=\"inner\").write_csv(\"gene_lengths.csv\")"
   ]
  },
  {
   "cell_type": "code",
   "execution_count": 54,
   "metadata": {},
   "outputs": [
    {
     "data": {
      "text/plain": [
       "['gene',\n",
       " 'transcript',\n",
       " 'exon',\n",
       " 'exon',\n",
       " 'exon',\n",
       " 'exon',\n",
       " 'gene',\n",
       " 'transcript',\n",
       " 'exon',\n",
       " 'exon',\n",
       " 'exon',\n",
       " 'exon',\n",
       " 'exon',\n",
       " 'exon',\n",
       " 'gene',\n",
       " 'transcript',\n",
       " 'exon',\n",
       " 'exon',\n",
       " 'exon',\n",
       " 'exon',\n",
       " 'exon',\n",
       " 'exon',\n",
       " 'exon',\n",
       " 'exon',\n",
       " 'exon',\n",
       " 'transcript',\n",
       " 'exon',\n",
       " 'exon',\n",
       " 'exon',\n",
       " 'exon',\n",
       " 'exon',\n",
       " 'exon',\n",
       " 'exon',\n",
       " 'exon',\n",
       " 'exon',\n",
       " 'exon',\n",
       " 'exon',\n",
       " 'transcript',\n",
       " 'exon',\n",
       " 'exon',\n",
       " 'exon',\n",
       " 'exon',\n",
       " 'exon',\n",
       " 'exon',\n",
       " 'exon',\n",
       " 'exon',\n",
       " 'exon',\n",
       " 'exon',\n",
       " 'exon',\n",
       " 'exon',\n",
       " 'exon',\n",
       " 'transcript',\n",
       " 'exon',\n",
       " 'exon',\n",
       " 'exon',\n",
       " 'exon',\n",
       " 'exon',\n",
       " 'transcript',\n",
       " 'exon',\n",
       " 'exon',\n",
       " 'exon',\n",
       " 'exon',\n",
       " 'exon',\n",
       " 'exon',\n",
       " 'exon',\n",
       " 'exon',\n",
       " 'exon',\n",
       " 'transcript',\n",
       " 'exon',\n",
       " 'exon',\n",
       " 'exon',\n",
       " 'exon',\n",
       " 'exon',\n",
       " 'exon',\n",
       " 'exon',\n",
       " 'exon',\n",
       " 'transcript',\n",
       " 'exon',\n",
       " 'exon',\n",
       " 'exon',\n",
       " 'exon',\n",
       " 'exon',\n",
       " 'exon',\n",
       " 'exon',\n",
       " 'exon',\n",
       " 'exon',\n",
       " 'exon',\n",
       " 'exon',\n",
       " 'transcript',\n",
       " 'exon',\n",
       " 'exon',\n",
       " 'exon',\n",
       " 'exon',\n",
       " 'exon',\n",
       " 'exon',\n",
       " 'exon',\n",
       " 'exon',\n",
       " 'transcript',\n",
       " 'exon',\n",
       " 'exon']"
      ]
     },
     "execution_count": 54,
     "metadata": {},
     "output_type": "execute_result"
    }
   ],
   "source": [
    "gtf['feature_type'].to_list()[:100]"
   ]
  },
  {
   "cell_type": "code",
   "execution_count": 50,
   "metadata": {},
   "outputs": [
    {
     "data": {
      "text/plain": [
       "['gene_id \"ENSG00000290825.2\"',\n",
       " ' transcript_id \"ENST00000832828.1\"',\n",
       " ' gene_type \"lncRNA\"',\n",
       " ' gene_name \"DDX11L16\"',\n",
       " ' transcript_type \"lncRNA\"',\n",
       " ' transcript_name \"DDX11L16-264\"',\n",
       " ' exon_number 4',\n",
       " ' exon_id \"ENSE00004248703.1\"',\n",
       " ' level 2',\n",
       " ' tag \"basic\"',\n",
       " ' tag \"TAGENE\"',\n",
       " '']"
      ]
     },
     "execution_count": 50,
     "metadata": {},
     "output_type": "execute_result"
    }
   ],
   "source": [
    "gtf[5]['attributes'].to_list()[0].split(\";\")"
   ]
  },
  {
   "cell_type": "code",
   "execution_count": null,
   "metadata": {},
   "outputs": [],
   "source": []
  }
 ],
 "metadata": {
  "kernelspec": {
   "display_name": ".venv",
   "language": "python",
   "name": "python3"
  },
  "language_info": {
   "codemirror_mode": {
    "name": "ipython",
    "version": 3
   },
   "file_extension": ".py",
   "mimetype": "text/x-python",
   "name": "python",
   "nbconvert_exporter": "python",
   "pygments_lexer": "ipython3",
   "version": "3.12.7"
  }
 },
 "nbformat": 4,
 "nbformat_minor": 2
}
