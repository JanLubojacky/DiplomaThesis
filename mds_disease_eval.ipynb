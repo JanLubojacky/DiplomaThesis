{
 "cells": [
  {
   "cell_type": "code",
   "execution_count": 128,
   "metadata": {},
   "outputs": [
    {
     "name": "stdout",
     "output_type": "stream",
     "text": [
      "The autoreload extension is already loaded. To reload it, use:\n",
      "  %reload_ext autoreload\n"
     ]
    }
   ],
   "source": [
    "%load_ext autoreload\n",
    "%autoreload 2\n",
    "\n",
    "from src.base_classes.omic_data_loader import OmicDataLoader\n",
    "from src.baseline_models_benchmarks.data_manager import CatOmicDataManager"
   ]
  },
  {
   "cell_type": "code",
   "execution_count": 129,
   "metadata": {},
   "outputs": [
    {
     "name": "stdout",
     "output_type": "stream",
     "text": [
      "files\n",
      "['train_0.csv', 'train_1.csv', 'train_2.csv', 'train_3.csv', 'train_4.csv']\n",
      "['test_0.csv', 'test_1.csv', 'test_2.csv', 'test_3.csv', 'test_4.csv']\n",
      "files\n",
      "['train_0.csv', 'train_1.csv', 'train_2.csv', 'train_3.csv', 'train_4.csv']\n",
      "['test_0.csv', 'test_1.csv', 'test_2.csv', 'test_3.csv', 'test_4.csv']\n",
      "files\n",
      "['train_0.csv', 'train_1.csv', 'train_2.csv', 'train_3.csv', 'train_4.csv']\n",
      "['test_0.csv', 'test_1.csv', 'test_2.csv', 'test_3.csv', 'test_4.csv']\n",
      "files\n",
      "['train_0.csv', 'train_1.csv', 'train_2.csv', 'train_3.csv', 'train_4.csv']\n",
      "['test_0.csv', 'test_1.csv', 'test_2.csv', 'test_3.csv', 'test_4.csv']\n"
     ]
    }
   ],
   "source": [
    "mrna_loader = OmicDataLoader(\n",
    "    data_dir=\"mds_data/splits_74/mrna\",\n",
    ")\n",
    "mirna_loader = OmicDataLoader(\n",
    "    data_dir=\"mds_data/splits_74/mirna_genes\",\n",
    ")\n",
    "circrna_loader = OmicDataLoader(\n",
    "    data_dir=\"mds_data/splits_74/circrna\",\n",
    ")\n",
    "# pirna_loader = OmicDataLoader(\n",
    "#     data_dir=\"mds_data/splits_74/pirna\",\n",
    "# )\n",
    "te_loader = OmicDataLoader(\n",
    "    data_dir=\"mds_data/splits_74/te_counts\",\n",
    ")"
   ]
  },
  {
   "cell_type": "code",
   "execution_count": 130,
   "metadata": {},
   "outputs": [
    {
     "name": "stdout",
     "output_type": "stream",
     "text": [
      "fold:  0\n",
      "shape: (2, 2)\n",
      "┌───────┬───────┐\n",
      "│ class ┆ count │\n",
      "│ ---   ┆ ---   │\n",
      "│ i64   ┆ u32   │\n",
      "╞═══════╪═══════╡\n",
      "│ 0     ┆ 10    │\n",
      "│ 1     ┆ 49    │\n",
      "└───────┴───────┘ shape: (2, 2)\n",
      "┌───────┬───────┐\n",
      "│ class ┆ count │\n",
      "│ ---   ┆ ---   │\n",
      "│ i64   ┆ u32   │\n",
      "╞═══════╪═══════╡\n",
      "│ 0     ┆ 3     │\n",
      "│ 1     ┆ 12    │\n",
      "└───────┴───────┘\n",
      "fold:  1\n",
      "shape: (2, 2)\n",
      "┌───────┬───────┐\n",
      "│ class ┆ count │\n",
      "│ ---   ┆ ---   │\n",
      "│ i64   ┆ u32   │\n",
      "╞═══════╪═══════╡\n",
      "│ 0     ┆ 10    │\n",
      "│ 1     ┆ 49    │\n",
      "└───────┴───────┘ shape: (2, 2)\n",
      "┌───────┬───────┐\n",
      "│ class ┆ count │\n",
      "│ ---   ┆ ---   │\n",
      "│ i64   ┆ u32   │\n",
      "╞═══════╪═══════╡\n",
      "│ 0     ┆ 3     │\n",
      "│ 1     ┆ 12    │\n",
      "└───────┴───────┘\n",
      "fold:  2\n",
      "shape: (2, 2)\n",
      "┌───────┬───────┐\n",
      "│ class ┆ count │\n",
      "│ ---   ┆ ---   │\n",
      "│ i64   ┆ u32   │\n",
      "╞═══════╪═══════╡\n",
      "│ 0     ┆ 10    │\n",
      "│ 1     ┆ 49    │\n",
      "└───────┴───────┘ shape: (2, 2)\n",
      "┌───────┬───────┐\n",
      "│ class ┆ count │\n",
      "│ ---   ┆ ---   │\n",
      "│ i64   ┆ u32   │\n",
      "╞═══════╪═══════╡\n",
      "│ 0     ┆ 3     │\n",
      "│ 1     ┆ 12    │\n",
      "└───────┴───────┘\n",
      "fold:  3\n",
      "shape: (2, 2)\n",
      "┌───────┬───────┐\n",
      "│ class ┆ count │\n",
      "│ ---   ┆ ---   │\n",
      "│ i64   ┆ u32   │\n",
      "╞═══════╪═══════╡\n",
      "│ 0     ┆ 11    │\n",
      "│ 1     ┆ 48    │\n",
      "└───────┴───────┘ shape: (2, 2)\n",
      "┌───────┬───────┐\n",
      "│ class ┆ count │\n",
      "│ ---   ┆ ---   │\n",
      "│ i64   ┆ u32   │\n",
      "╞═══════╪═══════╡\n",
      "│ 0     ┆ 2     │\n",
      "│ 1     ┆ 13    │\n",
      "└───────┴───────┘\n",
      "fold:  4\n",
      "shape: (2, 2)\n",
      "┌───────┬───────┐\n",
      "│ class ┆ count │\n",
      "│ ---   ┆ ---   │\n",
      "│ i64   ┆ u32   │\n",
      "╞═══════╪═══════╡\n",
      "│ 0     ┆ 11    │\n",
      "│ 1     ┆ 49    │\n",
      "└───────┴───────┘ shape: (2, 2)\n",
      "┌───────┬───────┐\n",
      "│ class ┆ count │\n",
      "│ ---   ┆ ---   │\n",
      "│ i64   ┆ u32   │\n",
      "╞═══════╪═══════╡\n",
      "│ 0     ┆ 2     │\n",
      "│ 1     ┆ 12    │\n",
      "└───────┴───────┘\n"
     ]
    }
   ],
   "source": [
    "for fold_idx in range(5):\n",
    "    train_df, test_df = mrna_loader.get_fold(fold_idx)\n",
    "\n",
    "    print(\"fold: \", fold_idx)\n",
    "    print(train_df[\"class\"].value_counts(), test_df[\"class\"].value_counts())"
   ]
  },
  {
   "cell_type": "code",
   "execution_count": 131,
   "metadata": {},
   "outputs": [],
   "source": [
    "omic_data_loaders = {\n",
    "    \"mrna\": mrna_loader,\n",
    "    # \"mirna\": mirna_loader,\n",
    "    # \"circrna\": circrna_loader,\n",
    "    # \"pirna\": pirna_loader,\n",
    "    # \"te\": te_loader,\n",
    "}\n",
    "odm = CatOmicDataManager(omic_data_loaders, n_splits=5)"
   ]
  },
  {
   "cell_type": "code",
   "execution_count": 132,
   "metadata": {},
   "outputs": [
    {
     "name": "stderr",
     "output_type": "stream",
     "text": [
      "[I 2024-11-10 15:04:39,192] A new study created in memory with name: no-name-68990823-a665-4ca6-b483-cc8dc229ac28\n"
     ]
    },
    {
     "name": "stderr",
     "output_type": "stream",
     "text": [
      "[I 2024-11-10 15:04:39,287] Trial 0 finished with value: 0.5751271113412196 and parameters: {'n_neighbors': 4}. Best is trial 0 with value: 0.5751271113412196.\n",
      "[I 2024-11-10 15:04:39,354] Trial 1 finished with value: 0.5972672319727561 and parameters: {'n_neighbors': 3}. Best is trial 1 with value: 0.5972672319727561.\n",
      "[I 2024-11-10 15:04:39,415] Trial 2 finished with value: 0.6977205806439 and parameters: {'n_neighbors': 20}. Best is trial 2 with value: 0.6977205806439.\n",
      "[I 2024-11-10 15:04:39,476] Trial 3 finished with value: 0.7155098095140549 and parameters: {'n_neighbors': 11}. Best is trial 3 with value: 0.7155098095140549.\n"
     ]
    },
    {
     "name": "stdout",
     "output_type": "stream",
     "text": [
      "New best score: 0.575\n",
      "Best model performance:\n",
      "Accuracy: 0.865 ± 0.042\n",
      "F1 Macro: 0.768 ± 0.089\n",
      "F1 Weighted: 0.866 ± 0.041\n",
      "New best score: 0.597\n",
      "Best model performance:\n",
      "Accuracy: 0.879 ± 0.025\n",
      "F1 Macro: 0.777 ± 0.062\n",
      "F1 Weighted: 0.875 ± 0.032\n",
      "New best score: 0.698\n",
      "Best model performance:\n",
      "Accuracy: 0.919 ± 0.050\n",
      "F1 Macro: 0.836 ± 0.111\n",
      "F1 Weighted: 0.908 ± 0.062\n",
      "New best score: 0.716\n",
      "Best model performance:\n",
      "Accuracy: 0.919 ± 0.050\n",
      "F1 Macro: 0.852 ± 0.097\n",
      "F1 Weighted: 0.913 ± 0.056\n"
     ]
    },
    {
     "name": "stderr",
     "output_type": "stream",
     "text": [
      "[I 2024-11-10 15:04:39,536] Trial 4 finished with value: 0.6804361055090542 and parameters: {'n_neighbors': 14}. Best is trial 3 with value: 0.7155098095140549.\n",
      "[I 2024-11-10 15:04:39,596] Trial 5 finished with value: 0.7155098095140549 and parameters: {'n_neighbors': 18}. Best is trial 3 with value: 0.7155098095140549.\n",
      "[I 2024-11-10 15:04:39,655] Trial 6 finished with value: 0.6977205806439 and parameters: {'n_neighbors': 20}. Best is trial 3 with value: 0.7155098095140549.\n",
      "[I 2024-11-10 15:04:39,713] Trial 7 finished with value: 0.7155098095140549 and parameters: {'n_neighbors': 10}. Best is trial 3 with value: 0.7155098095140549.\n",
      "[I 2024-11-10 15:04:39,802] Trial 8 finished with value: 0.6804361055090542 and parameters: {'n_neighbors': 14}. Best is trial 3 with value: 0.7155098095140549.\n",
      "[I 2024-11-10 15:04:39,862] Trial 9 finished with value: 0.7155098095140549 and parameters: {'n_neighbors': 11}. Best is trial 3 with value: 0.7155098095140549.\n",
      "[I 2024-11-10 15:04:39,924] Trial 10 finished with value: 0.6812403790638734 and parameters: {'n_neighbors': 7}. Best is trial 3 with value: 0.7155098095140549.\n",
      "[I 2024-11-10 15:04:39,987] Trial 11 finished with value: 0.7155098095140549 and parameters: {'n_neighbors': 16}. Best is trial 3 with value: 0.7155098095140549.\n",
      "[I 2024-11-10 15:04:40,049] Trial 12 finished with value: 0.7155098095140549 and parameters: {'n_neighbors': 16}. Best is trial 3 with value: 0.7155098095140549.\n",
      "[I 2024-11-10 15:04:40,111] Trial 13 finished with value: 0.6812403790638734 and parameters: {'n_neighbors': 8}. Best is trial 3 with value: 0.7155098095140549.\n",
      "[I 2024-11-10 15:04:40,174] Trial 14 finished with value: 0.5888211266094818 and parameters: {'n_neighbors': 1}. Best is trial 3 with value: 0.7155098095140549.\n",
      "[I 2024-11-10 15:04:40,236] Trial 15 finished with value: 0.7155098095140549 and parameters: {'n_neighbors': 18}. Best is trial 3 with value: 0.7155098095140549.\n",
      "[I 2024-11-10 15:04:40,298] Trial 16 finished with value: 0.6804361055090542 and parameters: {'n_neighbors': 12}. Best is trial 3 with value: 0.7155098095140549.\n",
      "[I 2024-11-10 15:04:40,362] Trial 17 finished with value: 0.6812403790638734 and parameters: {'n_neighbors': 7}. Best is trial 3 with value: 0.7155098095140549.\n",
      "[I 2024-11-10 15:04:40,429] Trial 18 finished with value: 0.6804361055090542 and parameters: {'n_neighbors': 14}. Best is trial 3 with value: 0.7155098095140549.\n",
      "[I 2024-11-10 15:04:40,499] Trial 19 finished with value: 0.7155098095140549 and parameters: {'n_neighbors': 17}. Best is trial 3 with value: 0.7155098095140549.\n"
     ]
    },
    {
     "name": "stdout",
     "output_type": "stream",
     "text": [
      "Best hyperparameters:\n",
      "{'n_neighbors': 11}\n",
      "Best model performance:\n",
      "Accuracy: 0.919 ± 0.050\n",
      "F1 Macro: 0.852 ± 0.097\n",
      "F1 Weighted: 0.913 ± 0.056\n"
     ]
    }
   ],
   "source": [
    "from src.benchmarks.knn import KNNEvaluator\n",
    "\n",
    "knn_eval = KNNEvaluator(\n",
    "    data_manager=odm,\n",
    "    n_trials=20,\n",
    "    verbose=True,\n",
    "    params={\"k_lb\": 1, \"k_ub\": 20},\n",
    ")\n",
    "_ = knn_eval.evaluate()\n",
    "knn_eval.print_best_results()"
   ]
  },
  {
   "cell_type": "code",
   "execution_count": 133,
   "metadata": {},
   "outputs": [
    {
     "name": "stderr",
     "output_type": "stream",
     "text": [
      "[I 2024-11-10 15:04:57,374] A new study created in memory with name: no-name-17b65a7d-695e-4e4c-9283-d9a803e51944\n"
     ]
    },
    {
     "name": "stderr",
     "output_type": "stream",
     "text": [
      "[I 2024-11-10 15:04:57,465] Trial 0 finished with value: 0.6497992012967035 and parameters: {'C': 0.5912776084859577, 'class_weight': None, 'rfe_step': 0.18135798798684793, 'rfe_n_features': 150}. Best is trial 0 with value: 0.6497992012967035.\n",
      "[I 2024-11-10 15:04:57,574] Trial 1 finished with value: 0.6497992012967035 and parameters: {'C': 1.92761937700467, 'class_weight': 'balanced', 'rfe_step': 0.12740681956658, 'rfe_n_features': 111}. Best is trial 0 with value: 0.6497992012967035.\n",
      "[I 2024-11-10 15:04:57,656] Trial 2 finished with value: 0.6477728936997709 and parameters: {'C': 0.04431683340011391, 'class_weight': 'balanced', 'rfe_step': 0.0561795144594292, 'rfe_n_features': 170}. Best is trial 0 with value: 0.6497992012967035.\n"
     ]
    },
    {
     "name": "stdout",
     "output_type": "stream",
     "text": [
      "New best score: 0.650\n",
      "Best model performance:\n",
      "Accuracy: 0.892 ± 0.053\n",
      "F1 Macro: 0.814 ± 0.093\n",
      "F1 Weighted: 0.895 ± 0.046\n"
     ]
    },
    {
     "name": "stderr",
     "output_type": "stream",
     "text": [
      "[I 2024-11-10 15:04:57,742] Trial 3 finished with value: 0.5947745825537253 and parameters: {'C': 6.239037597620005, 'class_weight': None, 'rfe_step': 0.16137130043179504, 'rfe_n_features': 150}. Best is trial 0 with value: 0.6497992012967035.\n",
      "[I 2024-11-10 15:04:57,804] Trial 4 finished with value: 0.6497992012967035 and parameters: {'C': 1.8024991990621209, 'class_weight': None, 'rfe_step': 0.16636180097742892, 'rfe_n_features': 200}. Best is trial 0 with value: 0.6497992012967035.\n",
      "[I 2024-11-10 15:04:57,914] Trial 5 finished with value: 0.5947745825537253 and parameters: {'C': 5.247154408538435, 'class_weight': None, 'rfe_step': 0.06264027199095756, 'rfe_n_features': 156}. Best is trial 0 with value: 0.6497992012967035.\n",
      "[I 2024-11-10 15:04:58,008] Trial 6 finished with value: 0.5947745825537253 and parameters: {'C': 9.321484902226024, 'class_weight': None, 'rfe_step': 0.16378265009504533, 'rfe_n_features': 154}. Best is trial 0 with value: 0.6497992012967035.\n",
      "[I 2024-11-10 15:04:58,119] Trial 7 finished with value: 0.5947745825537253 and parameters: {'C': 8.202967718129962, 'class_weight': None, 'rfe_step': 0.05914431146688243, 'rfe_n_features': 158}. Best is trial 0 with value: 0.6497992012967035.\n",
      "[I 2024-11-10 15:04:58,184] Trial 8 finished with value: 0.6477728936997709 and parameters: {'C': 0.04494677478861271, 'class_weight': 'balanced', 'rfe_step': 0.16643442620663507, 'rfe_n_features': 172}. Best is trial 0 with value: 0.6497992012967035.\n",
      "[I 2024-11-10 15:04:58,248] Trial 9 finished with value: 0.6477728936997709 and parameters: {'C': 0.019873129915673807, 'class_weight': 'balanced', 'rfe_step': 0.13255506502150974, 'rfe_n_features': 180}. Best is trial 0 with value: 0.6497992012967035.\n",
      "[I 2024-11-10 15:04:58,334] Trial 10 finished with value: 0.6288118975723532 and parameters: {'C': 0.2890553099749232, 'class_weight': None, 'rfe_step': 0.19984885818456594, 'rfe_n_features': 126}. Best is trial 0 with value: 0.6497992012967035.\n",
      "[I 2024-11-10 15:04:58,448] Trial 11 finished with value: 0.6497992012967035 and parameters: {'C': 0.7846558478244101, 'class_weight': 'balanced', 'rfe_step': 0.1008311361438369, 'rfe_n_features': 101}. Best is trial 0 with value: 0.6497992012967035.\n",
      "[I 2024-11-10 15:04:58,550] Trial 12 finished with value: 0.6787024344579722 and parameters: {'C': 0.25258158703203787, 'class_weight': 'balanced', 'rfe_step': 0.10914476888380255, 'rfe_n_features': 126}. Best is trial 12 with value: 0.6787024344579722.\n",
      "[I 2024-11-10 15:04:58,656] Trial 13 finished with value: 0.6787024344579722 and parameters: {'C': 0.21138530733394667, 'class_weight': 'balanced', 'rfe_step': 0.08776062841727579, 'rfe_n_features': 131}. Best is trial 12 with value: 0.6787024344579722.\n"
     ]
    },
    {
     "name": "stdout",
     "output_type": "stream",
     "text": [
      "New best score: 0.679\n",
      "Best model performance:\n",
      "Accuracy: 0.906 ± 0.032\n",
      "F1 Macro: 0.828 ± 0.068\n",
      "F1 Weighted: 0.905 ± 0.031\n"
     ]
    },
    {
     "name": "stderr",
     "output_type": "stream",
     "text": [
      "[I 2024-11-10 15:04:58,755] Trial 14 finished with value: 0.6787024344579722 and parameters: {'C': 0.15592096415861068, 'class_weight': 'balanced', 'rfe_step': 0.0936740719697733, 'rfe_n_features': 129}. Best is trial 12 with value: 0.6787024344579722.\n",
      "[I 2024-11-10 15:04:58,870] Trial 15 finished with value: 0.7331794285989254 and parameters: {'C': 0.10243547401908666, 'class_weight': 'balanced', 'rfe_step': 0.09295207471213159, 'rfe_n_features': 131}. Best is trial 15 with value: 0.7331794285989254.\n",
      "[I 2024-11-10 15:04:58,960] Trial 16 finished with value: 0.6809510924096367 and parameters: {'C': 0.050080573100068776, 'class_weight': 'balanced', 'rfe_step': 0.1057608612630386, 'rfe_n_features': 120}. Best is trial 15 with value: 0.7331794285989254.\n",
      "[I 2024-11-10 15:04:59,068] Trial 17 finished with value: 0.6422617001076846 and parameters: {'C': 0.07668997260540834, 'class_weight': 'balanced', 'rfe_step': 0.0832177373698388, 'rfe_n_features': 114}. Best is trial 15 with value: 0.7331794285989254.\n"
     ]
    },
    {
     "name": "stdout",
     "output_type": "stream",
     "text": [
      "New best score: 0.733\n",
      "Best model performance:\n",
      "Accuracy: 0.918 ± 0.030\n",
      "F1 Macro: 0.867 ± 0.041\n",
      "F1 Weighted: 0.921 ± 0.024\n"
     ]
    },
    {
     "name": "stderr",
     "output_type": "stream",
     "text": [
      "[I 2024-11-10 15:04:59,147] Trial 18 finished with value: 0.6477728936997709 and parameters: {'C': 0.010268450364919926, 'class_weight': 'balanced', 'rfe_step': 0.11357879132217108, 'rfe_n_features': 139}. Best is trial 15 with value: 0.7331794285989254.\n",
      "[I 2024-11-10 15:04:59,238] Trial 19 finished with value: 0.6809510924096367 and parameters: {'C': 0.0644825018841236, 'class_weight': 'balanced', 'rfe_step': 0.14146501839591458, 'rfe_n_features': 116}. Best is trial 15 with value: 0.7331794285989254.\n",
      "[I 2024-11-10 15:04:59,340] Trial 20 finished with value: 0.728115464597245 and parameters: {'C': 0.10675039358903013, 'class_weight': 'balanced', 'rfe_step': 0.07651257359386716, 'rfe_n_features': 139}. Best is trial 15 with value: 0.7331794285989254.\n",
      "[I 2024-11-10 15:04:59,445] Trial 21 finished with value: 0.728115464597245 and parameters: {'C': 0.1155640352564498, 'class_weight': 'balanced', 'rfe_step': 0.07635708884773021, 'rfe_n_features': 138}. Best is trial 15 with value: 0.7331794285989254.\n",
      "[I 2024-11-10 15:04:59,554] Trial 22 finished with value: 0.728115464597245 and parameters: {'C': 0.13297292036765632, 'class_weight': 'balanced', 'rfe_step': 0.0736767585819143, 'rfe_n_features': 141}. Best is trial 15 with value: 0.7331794285989254.\n",
      "[I 2024-11-10 15:04:59,655] Trial 23 finished with value: 0.7331794285989254 and parameters: {'C': 0.0839042307438939, 'class_weight': 'balanced', 'rfe_step': 0.07312489903466748, 'rfe_n_features': 139}. Best is trial 15 with value: 0.7331794285989254.\n",
      "[I 2024-11-10 15:04:59,748] Trial 24 finished with value: 0.6477728936997709 and parameters: {'C': 0.022068952997355576, 'class_weight': 'balanced', 'rfe_step': 0.06952300589961795, 'rfe_n_features': 141}. Best is trial 15 with value: 0.7331794285989254.\n",
      "[I 2024-11-10 15:04:59,855] Trial 25 finished with value: 0.6497992012967035 and parameters: {'C': 0.4403890185742033, 'class_weight': 'balanced', 'rfe_step': 0.0517673718488775, 'rfe_n_features': 164}. Best is trial 15 with value: 0.7331794285989254.\n",
      "[I 2024-11-10 15:04:59,941] Trial 26 finished with value: 0.6477728936997709 and parameters: {'C': 0.023322190329971796, 'class_weight': 'balanced', 'rfe_step': 0.09350830825927489, 'rfe_n_features': 136}. Best is trial 15 with value: 0.7331794285989254.\n",
      "[I 2024-11-10 15:05:00,038] Trial 27 finished with value: 0.6926488504188454 and parameters: {'C': 0.09203815468971016, 'class_weight': 'balanced', 'rfe_step': 0.07812215855799436, 'rfe_n_features': 147}. Best is trial 15 with value: 0.7331794285989254.\n",
      "[I 2024-11-10 15:05:00,130] Trial 28 finished with value: 0.6809510924096367 and parameters: {'C': 0.03393875406287643, 'class_weight': 'balanced', 'rfe_step': 0.11620427238691917, 'rfe_n_features': 103}. Best is trial 15 with value: 0.7331794285989254.\n",
      "[I 2024-11-10 15:05:00,264] Trial 29 finished with value: 0.6497992012967035 and parameters: {'C': 0.5654000035290196, 'class_weight': 'balanced', 'rfe_step': 0.06790668927665994, 'rfe_n_features': 146}. Best is trial 15 with value: 0.7331794285989254.\n"
     ]
    },
    {
     "name": "stdout",
     "output_type": "stream",
     "text": [
      "Best hyperparameters:\n",
      "{'C': 0.10243547401908666, 'class_weight': 'balanced', 'rfe_step': 0.09295207471213159, 'rfe_n_features': 131}\n",
      "Best model performance:\n",
      "Accuracy: 0.918 ± 0.030\n",
      "F1 Macro: 0.867 ± 0.041\n",
      "F1 Weighted: 0.921 ± 0.024\n"
     ]
    }
   ],
   "source": [
    "from src.benchmarks.svm import SVMEvaluator\n",
    "\n",
    "svm_eval = SVMEvaluator(\n",
    "    data_manager=odm,\n",
    "    n_trials=30,\n",
    "    verbose=True,\n",
    "    params={\n",
    "        \"C_lb\": 0.01,\n",
    "        \"C_ub\": 10,\n",
    "        \"rfe_step_range\": (0.05, 0.2),\n",
    "        \"rfe_n_features_range\": (100, 200),\n",
    "    },\n",
    "    mode=\"linear\",\n",
    ")\n",
    "_ = svm_eval.evaluate()\n",
    "svm_eval.print_best_results()"
   ]
  },
  {
   "cell_type": "markdown",
   "metadata": {},
   "source": [
    "Best model performance:\n",
    "Accuracy: 0.938 ± 0.058\n",
    "F1 Macro: 0.684 ± 0.258\n",
    "F1 Weighted: 0.924 ± 0.064"
   ]
  },
  {
   "cell_type": "code",
   "execution_count": 134,
   "metadata": {},
   "outputs": [
    {
     "name": "stderr",
     "output_type": "stream",
     "text": [
      "[I 2024-11-10 15:05:07,559] A new study created in memory with name: no-name-55642bd2-7b22-48fc-accd-e23828aab96a\n"
     ]
    },
    {
     "name": "stderr",
     "output_type": "stream",
     "text": [
      "[I 2024-11-10 15:05:07,821] Trial 0 finished with value: 0.5844534524426352 and parameters: {'booster': 'dart', 'lambda': 7.492928775446501e-08, 'alpha': 5.381627270697887e-05, 'max_depth': 7, 'eta': 0.00027814311801822964, 'gamma': 5.622114885164392e-08, 'grow_policy': 'lossguide', 'sample_type': 'weighted', 'normalize_type': 'forest', 'rate_drop': 9.898766826438945e-06, 'skip_drop': 3.7159323985328213e-06}. Best is trial 0 with value: 0.5844534524426352.\n",
      "[I 2024-11-10 15:05:07,966] Trial 1 finished with value: 0.601470599334144 and parameters: {'booster': 'dart', 'lambda': 1.552224504838912e-06, 'alpha': 2.2786942620206585e-07, 'max_depth': 6, 'eta': 0.13260049492450662, 'gamma': 6.8206524704820155e-06, 'grow_policy': 'depthwise', 'sample_type': 'weighted', 'normalize_type': 'forest', 'rate_drop': 1.2203233097980306e-05, 'skip_drop': 2.9255473827104788e-08}. Best is trial 1 with value: 0.601470599334144.\n"
     ]
    },
    {
     "name": "stdout",
     "output_type": "stream",
     "text": [
      "New best score: 0.584\n",
      "Best model performance:\n",
      "Accuracy: 0.879 ± 0.065\n",
      "F1 Macro: 0.761 ± 0.170\n",
      "F1 Weighted: 0.874 ± 0.070\n",
      "New best score: 0.601\n",
      "Best model performance:\n",
      "Accuracy: 0.891 ± 0.069\n",
      "F1 Macro: 0.765 ± 0.187\n",
      "F1 Weighted: 0.882 ± 0.078\n"
     ]
    },
    {
     "name": "stderr",
     "output_type": "stream",
     "text": [
      "[I 2024-11-10 15:05:08,121] Trial 2 finished with value: 0.5046011800339922 and parameters: {'booster': 'dart', 'lambda': 0.016171049038895106, 'alpha': 0.002082197840640754, 'max_depth': 6, 'eta': 0.017179917538295533, 'gamma': 1.216646213963225e-06, 'grow_policy': 'depthwise', 'sample_type': 'weighted', 'normalize_type': 'forest', 'rate_drop': 6.571471924678859e-07, 'skip_drop': 5.284746709691009e-07}. Best is trial 1 with value: 0.601470599334144.\n",
      "[I 2024-11-10 15:05:08,346] Trial 3 finished with value: 0.5587244304571011 and parameters: {'booster': 'gbtree', 'lambda': 0.03338751433843179, 'alpha': 0.0004583015929885411, 'max_depth': 3, 'eta': 3.6146554325305046e-07, 'gamma': 1.4213987892609452e-05, 'grow_policy': 'depthwise'}. Best is trial 1 with value: 0.601470599334144.\n",
      "[I 2024-11-10 15:05:08,424] Trial 4 finished with value: 0.6000960923235792 and parameters: {'booster': 'gblinear', 'lambda': 8.442933396110046e-08, 'alpha': 0.003083949458276413}. Best is trial 1 with value: 0.601470599334144.\n",
      "[I 2024-11-10 15:05:08,556] Trial 5 finished with value: 0.5587244304571011 and parameters: {'booster': 'dart', 'lambda': 0.00010317026380595477, 'alpha': 1.1242426146054447e-06, 'max_depth': 3, 'eta': 1.7545286086447065e-08, 'gamma': 1.4212832220775477e-06, 'grow_policy': 'lossguide', 'sample_type': 'weighted', 'normalize_type': 'forest', 'rate_drop': 0.0007592288963186964, 'skip_drop': 0.001076620879680125}. Best is trial 1 with value: 0.601470599334144.\n",
      "[I 2024-11-10 15:05:08,659] Trial 6 finished with value: 0.6288118975723532 and parameters: {'booster': 'gblinear', 'lambda': 0.17584615746519008, 'alpha': 2.6621913855470415e-06}. Best is trial 6 with value: 0.6288118975723532.\n",
      "[I 2024-11-10 15:05:08,753] Trial 7 finished with value: 0.32661842676062103 and parameters: {'booster': 'gblinear', 'lambda': 0.018623655332829017, 'alpha': 0.15221048936573645}. Best is trial 6 with value: 0.6288118975723532.\n"
     ]
    },
    {
     "name": "stdout",
     "output_type": "stream",
     "text": [
      "New best score: 0.629\n",
      "Best model performance:\n",
      "Accuracy: 0.892 ± 0.032\n",
      "F1 Macro: 0.795 ± 0.075\n",
      "F1 Weighted: 0.887 ± 0.038\n"
     ]
    },
    {
     "name": "stderr",
     "output_type": "stream",
     "text": [
      "[I 2024-11-10 15:05:08,945] Trial 8 finished with value: 0.6122666381403188 and parameters: {'booster': 'dart', 'lambda': 0.9698059197414904, 'alpha': 0.07806394317735542, 'max_depth': 4, 'eta': 0.033032652255763295, 'gamma': 6.6934658288903295e-06, 'grow_policy': 'depthwise', 'sample_type': 'weighted', 'normalize_type': 'tree', 'rate_drop': 0.9254593167260197, 'skip_drop': 3.878688748011428e-05}. Best is trial 6 with value: 0.6288118975723532.\n",
      "[I 2024-11-10 15:05:09,064] Trial 9 finished with value: 0.6288118975723532 and parameters: {'booster': 'gblinear', 'lambda': 0.052729136470962244, 'alpha': 3.033438430884335e-08}. Best is trial 6 with value: 0.6288118975723532.\n",
      "[I 2024-11-10 15:05:09,204] Trial 10 finished with value: 0.5587244304571011 and parameters: {'booster': 'gbtree', 'lambda': 0.0001773997752510363, 'alpha': 2.403673437755924e-05, 'max_depth': 9, 'eta': 1.381340418043972e-05, 'gamma': 0.17664355863133463, 'grow_policy': 'lossguide'}. Best is trial 6 with value: 0.6288118975723532.\n",
      "[I 2024-11-10 15:05:09,292] Trial 11 finished with value: 0.6631836987350632 and parameters: {'booster': 'gblinear', 'lambda': 0.5747467878872389, 'alpha': 1.0811177797513204e-08}. Best is trial 11 with value: 0.6631836987350632.\n",
      "[I 2024-11-10 15:05:09,382] Trial 12 finished with value: 0.6631836987350632 and parameters: {'booster': 'gblinear', 'lambda': 0.965847334496354, 'alpha': 1.0502663976896644e-08}. Best is trial 11 with value: 0.6631836987350632.\n",
      "[I 2024-11-10 15:05:09,466] Trial 13 finished with value: 0.7361252920039949 and parameters: {'booster': 'gblinear', 'lambda': 0.0005933588980135971, 'alpha': 1.607769884672631e-08}. Best is trial 13 with value: 0.7361252920039949.\n"
     ]
    },
    {
     "name": "stdout",
     "output_type": "stream",
     "text": [
      "New best score: 0.663\n",
      "Best model performance:\n",
      "Accuracy: 0.906 ± 0.032\n",
      "F1 Macro: 0.815 ± 0.062\n",
      "F1 Weighted: 0.898 ± 0.038\n",
      "New best score: 0.736\n",
      "Best model performance:\n",
      "Accuracy: 0.919 ± 0.050\n",
      "F1 Macro: 0.868 ± 0.077\n",
      "F1 Weighted: 0.922 ± 0.047\n"
     ]
    },
    {
     "name": "stderr",
     "output_type": "stream",
     "text": [
      "[I 2024-11-10 15:05:09,642] Trial 14 finished with value: 0.689882594756958 and parameters: {'booster': 'gblinear', 'lambda': 0.0012400409386503011, 'alpha': 9.823381843817801e-08}. Best is trial 13 with value: 0.7361252920039949.\n",
      "[I 2024-11-10 15:05:09,739] Trial 15 finished with value: 0.689882594756958 and parameters: {'booster': 'gblinear', 'lambda': 0.0018350428712121975, 'alpha': 2.830542214304148e-07}. Best is trial 13 with value: 0.7361252920039949.\n",
      "[I 2024-11-10 15:05:09,828] Trial 16 finished with value: 0.7711411011566484 and parameters: {'booster': 'gblinear', 'lambda': 1.1671508342458951e-05, 'alpha': 1.0034973626039293e-07}. Best is trial 16 with value: 0.7711411011566484.\n",
      "[I 2024-11-10 15:05:09,986] Trial 17 finished with value: 0.5844534524426352 and parameters: {'booster': 'gbtree', 'lambda': 6.089704177346619e-06, 'alpha': 5.246215565102102e-06, 'max_depth': 9, 'eta': 0.00010091055188161564, 'gamma': 0.009275194216716336, 'grow_policy': 'lossguide'}. Best is trial 16 with value: 0.7711411011566484.\n"
     ]
    },
    {
     "name": "stdout",
     "output_type": "stream",
     "text": [
      "New best score: 0.771\n",
      "Best model performance:\n",
      "Accuracy: 0.932 ± 0.042\n",
      "F1 Macro: 0.886 ± 0.066\n",
      "F1 Weighted: 0.933 ± 0.042\n"
     ]
    },
    {
     "name": "stderr",
     "output_type": "stream",
     "text": [
      "[I 2024-11-10 15:05:10,093] Trial 18 finished with value: 0.7361252920039949 and parameters: {'booster': 'gblinear', 'lambda': 4.696469162302939e-06, 'alpha': 4.7109607436227194e-07}. Best is trial 16 with value: 0.7711411011566484.\n",
      "[I 2024-11-10 15:05:10,196] Trial 19 finished with value: 0.7012351321451076 and parameters: {'booster': 'gblinear', 'lambda': 2.0430996199947928e-05, 'alpha': 1.0627423496787941e-05}. Best is trial 16 with value: 0.7711411011566484.\n",
      "[I 2024-11-10 15:05:10,384] Trial 20 finished with value: 0.6024938699160863 and parameters: {'booster': 'gbtree', 'lambda': 1.0543102835244368e-08, 'alpha': 5.994749276682222e-08, 'max_depth': 1, 'eta': 0.7326492278876501, 'gamma': 0.0009885616514817444, 'grow_policy': 'lossguide'}. Best is trial 16 with value: 0.7711411011566484.\n",
      "[I 2024-11-10 15:05:10,489] Trial 21 finished with value: 0.7343191495811547 and parameters: {'booster': 'gblinear', 'lambda': 1.427761460634869e-06, 'alpha': 7.150038971379046e-07}. Best is trial 16 with value: 0.7711411011566484.\n",
      "[I 2024-11-10 15:05:10,585] Trial 22 finished with value: 0.7361252920039949 and parameters: {'booster': 'gblinear', 'lambda': 0.0006572300433255883, 'alpha': 6.581573723215386e-08}. Best is trial 16 with value: 0.7711411011566484.\n",
      "[I 2024-11-10 15:05:10,690] Trial 23 finished with value: 0.7361252920039949 and parameters: {'booster': 'gblinear', 'lambda': 2.5001658901202324e-05, 'alpha': 4.697699604722865e-07}. Best is trial 16 with value: 0.7711411011566484.\n",
      "[I 2024-11-10 15:05:10,771] Trial 24 finished with value: 0.7711411011566484 and parameters: {'booster': 'gblinear', 'lambda': 1.2521023656245323e-06, 'alpha': 2.858380780629284e-08}. Best is trial 16 with value: 0.7711411011566484.\n",
      "[I 2024-11-10 15:05:10,858] Trial 25 finished with value: 0.7388118045122452 and parameters: {'booster': 'gblinear', 'lambda': 3.260167578519351e-07, 'alpha': 2.1535135603562e-08}. Best is trial 16 with value: 0.7711411011566484.\n",
      "[I 2024-11-10 15:05:10,939] Trial 26 finished with value: 0.7351676603683842 and parameters: {'booster': 'gblinear', 'lambda': 2.710536388700424e-07, 'alpha': 1.0833550235653755e-07}. Best is trial 16 with value: 0.7711411011566484.\n",
      "[I 2024-11-10 15:05:11,037] Trial 27 finished with value: 0.7343191495811547 and parameters: {'booster': 'gblinear', 'lambda': 3.8275436499334535e-07, 'alpha': 2.6487874148132565e-06}. Best is trial 16 with value: 0.7711411011566484.\n",
      "[I 2024-11-10 15:05:11,144] Trial 28 finished with value: 0.49872960448032255 and parameters: {'booster': 'gbtree', 'lambda': 1.6229740537044627e-08, 'alpha': 4.4081448619050946e-08, 'max_depth': 1, 'eta': 1.5468994208088607e-06, 'gamma': 0.8966813210610332, 'grow_policy': 'depthwise'}. Best is trial 16 with value: 0.7711411011566484.\n",
      "[I 2024-11-10 15:05:11,248] Trial 29 finished with value: 0.7361252920039949 and parameters: {'booster': 'gblinear', 'lambda': 1.3450225852992555e-07, 'alpha': 9.121909919197149e-05}. Best is trial 16 with value: 0.7711411011566484.\n",
      "[I 2024-11-10 15:05:11,418] Trial 30 finished with value: 0.5844534524426352 and parameters: {'booster': 'dart', 'lambda': 9.24361292608941e-07, 'alpha': 3.0134296452455364e-05, 'max_depth': 8, 'eta': 0.0007648633215474108, 'gamma': 1.3731994072547905e-08, 'grow_policy': 'lossguide', 'sample_type': 'uniform', 'normalize_type': 'tree', 'rate_drop': 2.1331978282237584e-08, 'skip_drop': 0.9654726579994548}. Best is trial 16 with value: 0.7711411011566484.\n",
      "[I 2024-11-10 15:05:11,504] Trial 31 finished with value: 0.6666463439590712 and parameters: {'booster': 'gblinear', 'lambda': 2.7725310937100452e-05, 'alpha': 1.0371142496246454e-08}. Best is trial 16 with value: 0.7711411011566484.\n",
      "[I 2024-11-10 15:05:11,587] Trial 32 finished with value: 0.7343191495811547 and parameters: {'booster': 'gblinear', 'lambda': 7.643606535195935e-06, 'alpha': 2.6489915223804333e-08}. Best is trial 16 with value: 0.7711411011566484.\n",
      "[I 2024-11-10 15:05:11,688] Trial 33 finished with value: 0.7361252920039949 and parameters: {'booster': 'gblinear', 'lambda': 0.00045112631690880214, 'alpha': 1.395143899835138e-07}. Best is trial 16 with value: 0.7711411011566484.\n",
      "[I 2024-11-10 15:05:11,783] Trial 34 finished with value: 0.7711411011566484 and parameters: {'booster': 'gblinear', 'lambda': 8.149642029462592e-07, 'alpha': 2.285299072794282e-07}. Best is trial 16 with value: 0.7711411011566484.\n",
      "[I 2024-11-10 15:05:11,946] Trial 35 finished with value: 0.5587244304571011 and parameters: {'booster': 'dart', 'lambda': 3.565514624787466e-08, 'alpha': 2.0954978982680617e-07, 'max_depth': 5, 'eta': 1.5040838599345555e-08, 'gamma': 0.00047828781313254284, 'grow_policy': 'depthwise', 'sample_type': 'uniform', 'normalize_type': 'tree', 'rate_drop': 0.01887381251977198, 'skip_drop': 0.01976965599488826}. Best is trial 16 with value: 0.7711411011566484.\n",
      "[I 2024-11-10 15:05:12,049] Trial 36 finished with value: 0.689882594756958 and parameters: {'booster': 'gblinear', 'lambda': 7.953311649175898e-07, 'alpha': 0.00034141707154911527}. Best is trial 16 with value: 0.7711411011566484.\n",
      "[I 2024-11-10 15:05:12,142] Trial 37 finished with value: 0.7711411011566484 and parameters: {'booster': 'gblinear', 'lambda': 2.98517966369602e-06, 'alpha': 1.5363311885980015e-06}. Best is trial 16 with value: 0.7711411011566484.\n",
      "[I 2024-11-10 15:05:12,289] Trial 38 finished with value: 0.4773113900356288 and parameters: {'booster': 'dart', 'lambda': 2.828221763230958e-06, 'alpha': 1.8309290507169294e-06, 'max_depth': 2, 'eta': 0.005389263321232444, 'gamma': 0.018193396818067097, 'grow_policy': 'depthwise', 'sample_type': 'uniform', 'normalize_type': 'tree', 'rate_drop': 0.004308352821963983, 'skip_drop': 0.8113891701601547}. Best is trial 16 with value: 0.7711411011566484.\n",
      "[I 2024-11-10 15:05:12,387] Trial 39 finished with value: 0.7711411011566484 and parameters: {'booster': 'gblinear', 'lambda': 1.445597644278535e-05, 'alpha': 7.60934773277475e-06}. Best is trial 16 with value: 0.7711411011566484.\n",
      "[I 2024-11-10 15:05:12,565] Trial 40 finished with value: 0.5947745825537253 and parameters: {'booster': 'gbtree', 'lambda': 7.210011287735418e-05, 'alpha': 0.011556840004516322, 'max_depth': 5, 'eta': 5.650742054434754e-06, 'gamma': 2.758748273458723e-07, 'grow_policy': 'lossguide'}. Best is trial 16 with value: 0.7711411011566484.\n",
      "[I 2024-11-10 15:05:12,666] Trial 41 finished with value: 0.7361252920039949 and parameters: {'booster': 'gblinear', 'lambda': 1.3110498713123334e-05, 'alpha': 7.628444463446135e-06}. Best is trial 16 with value: 0.7711411011566484.\n",
      "[I 2024-11-10 15:05:12,750] Trial 42 finished with value: 0.7711411011566484 and parameters: {'booster': 'gblinear', 'lambda': 2.708439815057914e-06, 'alpha': 9.692822530289737e-07}. Best is trial 16 with value: 0.7711411011566484.\n",
      "[I 2024-11-10 15:05:12,830] Trial 43 finished with value: 0.27794757275052406 and parameters: {'booster': 'gblinear', 'lambda': 4.002789214800791e-05, 'alpha': 0.8592018280746458}. Best is trial 16 with value: 0.7711411011566484.\n",
      "[I 2024-11-10 15:05:13,056] Trial 44 finished with value: 0.7361252920039949 and parameters: {'booster': 'gblinear', 'lambda': 2.0051846750078764e-06, 'alpha': 1.5589941361617024e-05}. Best is trial 16 with value: 0.7711411011566484.\n",
      "[I 2024-11-10 15:05:13,154] Trial 45 finished with value: 0.7361252920039949 and parameters: {'booster': 'gblinear', 'lambda': 9.182558581003793e-06, 'alpha': 4.619094756368944e-06}. Best is trial 16 with value: 0.7711411011566484.\n",
      "[I 2024-11-10 15:05:13,315] Trial 46 finished with value: 0.5587244304571011 and parameters: {'booster': 'dart', 'lambda': 0.00017989623083306295, 'alpha': 1.6377548314911122e-06, 'max_depth': 7, 'eta': 1.35398782433412e-07, 'gamma': 0.00013041141297647746, 'grow_policy': 'lossguide', 'sample_type': 'uniform', 'normalize_type': 'tree', 'rate_drop': 2.0695208941265973e-08, 'skip_drop': 1.7968204327438964e-08}. Best is trial 16 with value: 0.7711411011566484.\n",
      "[I 2024-11-10 15:05:13,397] Trial 47 finished with value: 0.7343191495811547 and parameters: {'booster': 'gblinear', 'lambda': 6.499653701149415e-07, 'alpha': 2.633890396926968e-07}. Best is trial 16 with value: 0.7711411011566484.\n",
      "[I 2024-11-10 15:05:13,489] Trial 48 finished with value: 0.7361252920039949 and parameters: {'booster': 'gblinear', 'lambda': 1.6184948872141034e-07, 'alpha': 4.762770188864833e-05}. Best is trial 16 with value: 0.7711411011566484.\n",
      "[I 2024-11-10 15:05:13,581] Trial 49 finished with value: 0.7351676603683842 and parameters: {'booster': 'gblinear', 'lambda': 6.549522903961666e-08, 'alpha': 4.4928444984695195e-07}. Best is trial 16 with value: 0.7711411011566484.\n",
      "[I 2024-11-10 15:05:13,672] Trial 50 finished with value: 0.689882594756958 and parameters: {'booster': 'gblinear', 'lambda': 3.6719746010227105e-06, 'alpha': 0.00019893093604767643}. Best is trial 16 with value: 0.7711411011566484.\n",
      "[I 2024-11-10 15:05:13,761] Trial 51 finished with value: 0.7351676603683842 and parameters: {'booster': 'gblinear', 'lambda': 1.344589684202627e-06, 'alpha': 1.0538892412786796e-06}. Best is trial 16 with value: 0.7711411011566484.\n",
      "[I 2024-11-10 15:05:13,854] Trial 52 finished with value: 0.7711411011566484 and parameters: {'booster': 'gblinear', 'lambda': 3.2945735428000363e-06, 'alpha': 4.134833473340708e-06}. Best is trial 16 with value: 0.7711411011566484.\n",
      "[I 2024-11-10 15:05:13,955] Trial 53 finished with value: 0.7711411011566484 and parameters: {'booster': 'gblinear', 'lambda': 1.1495152069376728e-05, 'alpha': 7.511299869726794e-07}. Best is trial 16 with value: 0.7711411011566484.\n",
      "[I 2024-11-10 15:05:14,053] Trial 54 finished with value: 0.7361252920039949 and parameters: {'booster': 'gblinear', 'lambda': 8.593134473622122e-05, 'alpha': 1.5760883858616685e-07}. Best is trial 16 with value: 0.7711411011566484.\n",
      "[I 2024-11-10 15:05:14,193] Trial 55 finished with value: 0.5844534524426352 and parameters: {'booster': 'gbtree', 'lambda': 5.588544255133927e-07, 'alpha': 6.354155890939278e-08, 'max_depth': 3, 'eta': 0.0018255100861424803, 'gamma': 0.008951343923972736, 'grow_policy': 'depthwise'}. Best is trial 16 with value: 0.7711411011566484.\n",
      "[I 2024-11-10 15:05:14,283] Trial 56 finished with value: 0.7361252920039949 and parameters: {'booster': 'gblinear', 'lambda': 5.049331687476175e-06, 'alpha': 1.1124720115531129e-06}. Best is trial 16 with value: 0.7711411011566484.\n",
      "[I 2024-11-10 15:05:14,376] Trial 57 finished with value: 0.7361252920039949 and parameters: {'booster': 'gblinear', 'lambda': 4.711349848406419e-05, 'alpha': 3.9125354122846e-08}. Best is trial 16 with value: 0.7711411011566484.\n",
      "[I 2024-11-10 15:05:14,482] Trial 58 finished with value: 0.7351676603683842 and parameters: {'booster': 'gblinear', 'lambda': 1.6581990650212086e-06, 'alpha': 3.4256429911017447e-07}. Best is trial 16 with value: 0.7711411011566484.\n",
      "[I 2024-11-10 15:05:14,649] Trial 59 finished with value: 0.689882594756958 and parameters: {'booster': 'gblinear', 'lambda': 0.0037777600789498777, 'alpha': 1.3935946282444474e-05}. Best is trial 16 with value: 0.7711411011566484.\n"
     ]
    },
    {
     "name": "stdout",
     "output_type": "stream",
     "text": [
      "Best hyperparameters:\n",
      "{'booster': 'gblinear', 'lambda': 1.1671508342458951e-05, 'alpha': 1.0034973626039293e-07}\n",
      "Best model performance:\n",
      "Accuracy: 0.932 ± 0.042\n",
      "F1 Macro: 0.886 ± 0.066\n",
      "F1 Weighted: 0.933 ± 0.042\n"
     ]
    }
   ],
   "source": [
    "from src.benchmarks.xgboost import XGBoostEvaluator\n",
    "\n",
    "xgb_eval = XGBoostEvaluator(\n",
    "    data_manager=odm,\n",
    "    n_classes=2,\n",
    "    n_trials=60,\n",
    "    verbose=True,\n",
    ")\n",
    "_ = xgb_eval.evaluate()\n",
    "xgb_eval.print_best_results()"
   ]
  },
  {
   "cell_type": "code",
   "execution_count": 92,
   "metadata": {},
   "outputs": [],
   "source": [
    "knn_eval.save_results(results_file=\"logs/mds_disese_eval.csv\", row_name=\"knn\")\n",
    "svm_eval.save_results(results_file=\"logs/mds_disese_eval.csv\", row_name=\"svm\")\n",
    "xgb_eval.save_results(results_file=\"logs/mds_disese_eval.csv\", row_name=\"xgb\")"
   ]
  },
  {
   "cell_type": "code",
   "execution_count": 127,
   "metadata": {},
   "outputs": [
    {
     "name": "stdout",
     "output_type": "stream",
     "text": [
      "Best model performance:\n",
      "Accuracy: 0.923 ± 0.084\n",
      "F1 Macro: 0.825 ± 0.208\n",
      "F1 Weighted: 0.933 ± 0.072\n",
      "Best model performance:\n",
      "Accuracy: 0.954 ± 0.038\n",
      "F1 Macro: 0.688 ± 0.255\n",
      "F1 Weighted: 0.932 ± 0.056\n",
      "Best model performance:\n",
      "Accuracy: 0.954 ± 0.038\n",
      "F1 Macro: 0.688 ± 0.255\n",
      "F1 Weighted: 0.932 ± 0.056\n"
     ]
    }
   ],
   "source": [
    "knn_eval.print_best_results()\n",
    "svm_eval.print_best_results()\n",
    "xgb_eval.print_best_results()"
   ]
  },
  {
   "cell_type": "code",
   "execution_count": 70,
   "metadata": {},
   "outputs": [
    {
     "name": "stdout",
     "output_type": "stream",
     "text": [
      "None\n",
      "None\n"
     ]
    }
   ],
   "source": [
    "print(odm.train_y)\n",
    "print(odm.test_y)"
   ]
  },
  {
   "cell_type": "code",
   "execution_count": 71,
   "metadata": {},
   "outputs": [
    {
     "data": {
      "text/plain": [
       "(shape: (53, 400)\n",
       " ┌───────────┬───────────┬───────────┬───────────┬───┬───────────┬───────────┬───────────┬──────────┐\n",
       " │ ENSG00000 ┆ ENSG00000 ┆ ENSG00000 ┆ ENSG00000 ┆ … ┆ hsa-miR-2 ┆ hsa-miR-6 ┆ hsa-miR-6 ┆ hsa-miR- │\n",
       " │ 113552    ┆ 204252    ┆ 171067    ┆ 078804    ┆   ┆ 9b-3p     ┆ 808-3p    ┆ 60-3p     ┆ 337-3p   │\n",
       " │ ---       ┆ ---       ┆ ---       ┆ ---       ┆   ┆ ---       ┆ ---       ┆ ---       ┆ ---      │\n",
       " │ f64       ┆ f64       ┆ f64       ┆ f64       ┆   ┆ f64       ┆ f64       ┆ f64       ┆ f64      │\n",
       " ╞═══════════╪═══════════╪═══════════╪═══════════╪═══╪═══════════╪═══════════╪═══════════╪══════════╡\n",
       " │ 0.101906  ┆ 0.67432   ┆ 0.553844  ┆ 0.427465  ┆ … ┆ 0.332964  ┆ 0.491693  ┆ 0.228302  ┆ 0.478208 │\n",
       " │ 0.211153  ┆ 0.79269   ┆ 0.443358  ┆ 0.538522  ┆ … ┆ 0.231004  ┆ 0.367655  ┆ 0.0       ┆ 0.463624 │\n",
       " │ 0.248448  ┆ 0.901163  ┆ 0.376432  ┆ 0.818353  ┆ … ┆ 0.567736  ┆ 0.200131  ┆ 0.0       ┆ 0.377795 │\n",
       " │ 0.0       ┆ 0.855781  ┆ 0.095358  ┆ 0.86714   ┆ … ┆ 0.390975  ┆ 0.009925  ┆ 0.0       ┆ 0.353016 │\n",
       " │ 0.027486  ┆ 0.848784  ┆ 0.037625  ┆ 0.83246   ┆ … ┆ 0.394873  ┆ 0.0       ┆ 0.448706  ┆ 0.3035   │\n",
       " │ …         ┆ …         ┆ …         ┆ …         ┆ … ┆ …         ┆ …         ┆ …         ┆ …        │\n",
       " │ 0.10708   ┆ 0.863094  ┆ 0.246341  ┆ 0.428165  ┆ … ┆ 0.781878  ┆ 0.147892  ┆ 0.0       ┆ 0.840782 │\n",
       " │ 0.539877  ┆ 0.812806  ┆ 0.505951  ┆ 0.548271  ┆ … ┆ 0.775824  ┆ 0.267936  ┆ 0.0       ┆ 0.670413 │\n",
       " │ 0.714042  ┆ 0.274164  ┆ 0.199133  ┆ 0.287362  ┆ … ┆ 0.733015  ┆ 0.7218    ┆ 0.423134  ┆ 0.496924 │\n",
       " │ 0.43811   ┆ 0.776641  ┆ 0.548896  ┆ 0.568222  ┆ … ┆ 0.61335   ┆ 0.655129  ┆ 0.0       ┆ 0.566595 │\n",
       " │ 0.226454  ┆ 0.0       ┆ 0.291807  ┆ 0.238834  ┆ … ┆ 1.0       ┆ 0.646295  ┆ 0.55724   ┆ 0.850641 │\n",
       " └───────────┴───────────┴───────────┴───────────┴───┴───────────┴───────────┴───────────┴──────────┘,\n",
       " shape: (13, 400)\n",
       " ┌───────────┬───────────┬───────────┬───────────┬───┬───────────┬───────────┬───────────┬──────────┐\n",
       " │ ENSG00000 ┆ ENSG00000 ┆ ENSG00000 ┆ ENSG00000 ┆ … ┆ hsa-miR-2 ┆ hsa-miR-6 ┆ hsa-miR-6 ┆ hsa-miR- │\n",
       " │ 113552    ┆ 204252    ┆ 171067    ┆ 078804    ┆   ┆ 9b-3p     ┆ 808-3p    ┆ 60-3p     ┆ 337-3p   │\n",
       " │ ---       ┆ ---       ┆ ---       ┆ ---       ┆   ┆ ---       ┆ ---       ┆ ---       ┆ ---      │\n",
       " │ f64       ┆ f64       ┆ f64       ┆ f64       ┆   ┆ f64       ┆ f64       ┆ f64       ┆ f64      │\n",
       " ╞═══════════╪═══════════╪═══════════╪═══════════╪═══╪═══════════╪═══════════╪═══════════╪══════════╡\n",
       " │ -0.296586 ┆ 0.799635  ┆ 0.166325  ┆ 0.924323  ┆ … ┆ 0.394054  ┆ 0.149989  ┆ 0.386551  ┆ 0.370419 │\n",
       " │ -0.005302 ┆ 0.79881   ┆ 0.452376  ┆ 1.10556   ┆ … ┆ 0.392635  ┆ 0.308032  ┆ 0.0       ┆ 0.449365 │\n",
       " │ 0.70828   ┆ 0.985678  ┆ 0.109132  ┆ 0.624708  ┆ … ┆ 0.14714   ┆ 0.877482  ┆ 0.0       ┆ 0.673075 │\n",
       " │ 0.265529  ┆ 0.724728  ┆ 0.383254  ┆ 0.399813  ┆ … ┆ 0.592625  ┆ 0.388665  ┆ 0.387819  ┆ 0.5304   │\n",
       " │ 0.814142  ┆ 0.632889  ┆ 0.346469  ┆ 0.182513  ┆ … ┆ -0.033362 ┆ 0.113175  ┆ 0.0       ┆ 0.333708 │\n",
       " │ …         ┆ …         ┆ …         ┆ …         ┆ … ┆ …         ┆ …         ┆ …         ┆ …        │\n",
       " │ 0.561813  ┆ 0.755388  ┆ 0.289011  ┆ 0.427494  ┆ … ┆ 0.507615  ┆ 0.304396  ┆ 0.0       ┆ 0.306399 │\n",
       " │ 0.066722  ┆ 0.45259   ┆ 0.90341   ┆ 0.637337  ┆ … ┆ 0.575779  ┆ 0.473346  ┆ 0.696137  ┆ 1.216344 │\n",
       " │ -0.002529 ┆ 0.360621  ┆ 0.711604  ┆ 0.459057  ┆ … ┆ 0.334073  ┆ 0.580128  ┆ 0.0       ┆ 1.206152 │\n",
       " │ 0.288076  ┆ 0.236961  ┆ 0.645504  ┆ 0.491042  ┆ … ┆ 1.096767  ┆ 0.404194  ┆ 0.386418  ┆ 0.766329 │\n",
       " │ 0.329202  ┆ 0.554336  ┆ 0.390962  ┆ 0.477453  ┆ … ┆ 0.430964  ┆ 0.18261   ┆ 0.470895  ┆ 0.472578 │\n",
       " └───────────┴───────────┴───────────┴───────────┴───┴───────────┴───────────┴───────────┴──────────┘,\n",
       " array([0, 0, 0, 0, 0, 1, 1, 1, 1, 1, 1, 1, 1, 1, 1, 1, 1, 1, 1, 1, 1, 1,\n",
       "        1, 1, 1, 1, 1, 1, 1, 1, 1, 1, 1, 1, 1, 1, 1, 1, 1, 1, 1, 1, 1, 1,\n",
       "        1, 1, 1, 1, 1, 1, 1, 1, 1]),\n",
       " array([0, 0, 1, 1, 1, 1, 1, 1, 1, 1, 1, 1, 1]))"
      ]
     },
     "execution_count": 71,
     "metadata": {},
     "output_type": "execute_result"
    }
   ],
   "source": [
    "odm.get_split(1)"
   ]
  }
 ],
 "metadata": {
  "kernelspec": {
   "display_name": ".venv",
   "language": "python",
   "name": "python3"
  },
  "language_info": {
   "codemirror_mode": {
    "name": "ipython",
    "version": 3
   },
   "file_extension": ".py",
   "mimetype": "text/x-python",
   "name": "python",
   "nbconvert_exporter": "python",
   "pygments_lexer": "ipython3",
   "version": "3.12.7"
  }
 },
 "nbformat": 4,
 "nbformat_minor": 2
}
